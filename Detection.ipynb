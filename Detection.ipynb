{
  "cells": [
    {
      "cell_type": "markdown",
      "metadata": {
        "id": "1_d-G2QDtfhV"
      },
      "source": [
        "# **YoloV5**"
      ]
    },
    {
      "cell_type": "code",
      "execution_count": null,
      "metadata": {
        "colab": {
          "base_uri": "https://localhost:8080/"
        },
        "id": "u_MDBraPB1qY",
        "outputId": "41c6081f-bf8b-47a0-ede0-0190ccd4b75e"
      },
      "outputs": [
        {
          "output_type": "stream",
          "name": "stdout",
          "text": [
            "Mounted at /content/drive\n"
          ]
        }
      ],
      "source": [
        "from google.colab import drive\n",
        "drive.mount('/content/drive')"
      ]
    },
    {
      "cell_type": "code",
      "execution_count": null,
      "metadata": {
        "id": "aZ0F-ruowDYn"
      },
      "outputs": [],
      "source": [
        "import torch\n",
        "from IPython.display import Image\n",
        "import shutil\n",
        "import os\n",
        "from random import choice"
      ]
    },
    {
      "cell_type": "code",
      "execution_count": null,
      "metadata": {
        "colab": {
          "base_uri": "https://localhost:8080/"
        },
        "id": "8elCCNWnwEBn",
        "outputId": "3f264bc7-4b52-488b-c6b4-9628cc41cf5d"
      },
      "outputs": [
        {
          "output_type": "stream",
          "name": "stdout",
          "text": [
            "Cloning into 'yolov5'...\n",
            "remote: Enumerating objects: 16199, done.\u001b[K\n",
            "remote: Counting objects: 100% (107/107), done.\u001b[K\n",
            "remote: Compressing objects: 100% (94/94), done.\u001b[K\n",
            "remote: Total 16199 (delta 31), reused 74 (delta 13), pack-reused 16092\u001b[K\n",
            "Receiving objects: 100% (16199/16199), 15.00 MiB | 25.35 MiB/s, done.\n",
            "Resolving deltas: 100% (11058/11058), done.\n"
          ]
        }
      ],
      "source": [
        "!git clone https://github.com/ultralytics/yolov5"
      ]
    },
    {
      "cell_type": "code",
      "execution_count": null,
      "metadata": {
        "colab": {
          "base_uri": "https://localhost:8080/"
        },
        "id": "m4eq7M4QwGYx",
        "outputId": "a21e1eb4-7c3e-4038-e8d0-42fdc6851ab9"
      },
      "outputs": [
        {
          "output_type": "stream",
          "name": "stdout",
          "text": [
            "/content/yolov5\n"
          ]
        }
      ],
      "source": [
        "%cd /content/yolov5/"
      ]
    },
    {
      "cell_type": "code",
      "execution_count": null,
      "metadata": {
        "colab": {
          "base_uri": "https://localhost:8080/",
          "height": 1000
        },
        "id": "jZivwxlnwH8V",
        "outputId": "c96a0456-75e7-425c-e255-d596993a04a5"
      },
      "outputs": [
        {
          "output_type": "stream",
          "name": "stdout",
          "text": [
            "Collecting gitpython>=3.1.30 (from -r requirements.txt (line 5))\n",
            "  Downloading GitPython-3.1.40-py3-none-any.whl (190 kB)\n",
            "\u001b[2K     \u001b[90m━━━━━━━━━━━━━━━━━━━━━━━━━━━━━━━━━━━━━━━━\u001b[0m \u001b[32m190.6/190.6 kB\u001b[0m \u001b[31m1.6 MB/s\u001b[0m eta \u001b[36m0:00:00\u001b[0m\n",
            "\u001b[?25hRequirement already satisfied: matplotlib>=3.3 in /usr/local/lib/python3.10/dist-packages (from -r requirements.txt (line 6)) (3.7.1)\n",
            "Requirement already satisfied: numpy>=1.22.2 in /usr/local/lib/python3.10/dist-packages (from -r requirements.txt (line 7)) (1.23.5)\n",
            "Requirement already satisfied: opencv-python>=4.1.1 in /usr/local/lib/python3.10/dist-packages (from -r requirements.txt (line 8)) (4.8.0.76)\n",
            "Collecting Pillow>=10.0.1 (from -r requirements.txt (line 9))\n",
            "  Downloading Pillow-10.1.0-cp310-cp310-manylinux_2_28_x86_64.whl (3.6 MB)\n",
            "\u001b[2K     \u001b[90m━━━━━━━━━━━━━━━━━━━━━━━━━━━━━━━━━━━━━━━━\u001b[0m \u001b[32m3.6/3.6 MB\u001b[0m \u001b[31m20.3 MB/s\u001b[0m eta \u001b[36m0:00:00\u001b[0m\n",
            "\u001b[?25hRequirement already satisfied: psutil in /usr/local/lib/python3.10/dist-packages (from -r requirements.txt (line 10)) (5.9.5)\n",
            "Requirement already satisfied: PyYAML>=5.3.1 in /usr/local/lib/python3.10/dist-packages (from -r requirements.txt (line 11)) (6.0.1)\n",
            "Requirement already satisfied: requests>=2.23.0 in /usr/local/lib/python3.10/dist-packages (from -r requirements.txt (line 12)) (2.31.0)\n",
            "Requirement already satisfied: scipy>=1.4.1 in /usr/local/lib/python3.10/dist-packages (from -r requirements.txt (line 13)) (1.11.4)\n",
            "Collecting thop>=0.1.1 (from -r requirements.txt (line 14))\n",
            "  Downloading thop-0.1.1.post2209072238-py3-none-any.whl (15 kB)\n",
            "Requirement already satisfied: torch>=1.8.0 in /usr/local/lib/python3.10/dist-packages (from -r requirements.txt (line 15)) (2.1.0+cu121)\n",
            "Requirement already satisfied: torchvision>=0.9.0 in /usr/local/lib/python3.10/dist-packages (from -r requirements.txt (line 16)) (0.16.0+cu121)\n",
            "Requirement already satisfied: tqdm>=4.64.0 in /usr/local/lib/python3.10/dist-packages (from -r requirements.txt (line 17)) (4.66.1)\n",
            "Collecting ultralytics>=8.0.232 (from -r requirements.txt (line 18))\n",
            "  Downloading ultralytics-8.0.232-py3-none-any.whl (663 kB)\n",
            "\u001b[2K     \u001b[90m━━━━━━━━━━━━━━━━━━━━━━━━━━━━━━━━━━━━━━━━\u001b[0m \u001b[32m663.2/663.2 kB\u001b[0m \u001b[31m37.5 MB/s\u001b[0m eta \u001b[36m0:00:00\u001b[0m\n",
            "\u001b[?25hRequirement already satisfied: pandas>=1.1.4 in /usr/local/lib/python3.10/dist-packages (from -r requirements.txt (line 27)) (1.5.3)\n",
            "Requirement already satisfied: seaborn>=0.11.0 in /usr/local/lib/python3.10/dist-packages (from -r requirements.txt (line 28)) (0.12.2)\n",
            "Requirement already satisfied: setuptools>=65.5.1 in /usr/local/lib/python3.10/dist-packages (from -r requirements.txt (line 42)) (67.7.2)\n",
            "Collecting gitdb<5,>=4.0.1 (from gitpython>=3.1.30->-r requirements.txt (line 5))\n",
            "  Downloading gitdb-4.0.11-py3-none-any.whl (62 kB)\n",
            "\u001b[2K     \u001b[90m━━━━━━━━━━━━━━━━━━━━━━━━━━━━━━━━━━━━━━━━\u001b[0m \u001b[32m62.7/62.7 kB\u001b[0m \u001b[31m6.7 MB/s\u001b[0m eta \u001b[36m0:00:00\u001b[0m\n",
            "\u001b[?25hRequirement already satisfied: contourpy>=1.0.1 in /usr/local/lib/python3.10/dist-packages (from matplotlib>=3.3->-r requirements.txt (line 6)) (1.2.0)\n",
            "Requirement already satisfied: cycler>=0.10 in /usr/local/lib/python3.10/dist-packages (from matplotlib>=3.3->-r requirements.txt (line 6)) (0.12.1)\n",
            "Requirement already satisfied: fonttools>=4.22.0 in /usr/local/lib/python3.10/dist-packages (from matplotlib>=3.3->-r requirements.txt (line 6)) (4.46.0)\n",
            "Requirement already satisfied: kiwisolver>=1.0.1 in /usr/local/lib/python3.10/dist-packages (from matplotlib>=3.3->-r requirements.txt (line 6)) (1.4.5)\n",
            "Requirement already satisfied: packaging>=20.0 in /usr/local/lib/python3.10/dist-packages (from matplotlib>=3.3->-r requirements.txt (line 6)) (23.2)\n",
            "Requirement already satisfied: pyparsing>=2.3.1 in /usr/local/lib/python3.10/dist-packages (from matplotlib>=3.3->-r requirements.txt (line 6)) (3.1.1)\n",
            "Requirement already satisfied: python-dateutil>=2.7 in /usr/local/lib/python3.10/dist-packages (from matplotlib>=3.3->-r requirements.txt (line 6)) (2.8.2)\n",
            "Requirement already satisfied: charset-normalizer<4,>=2 in /usr/local/lib/python3.10/dist-packages (from requests>=2.23.0->-r requirements.txt (line 12)) (3.3.2)\n",
            "Requirement already satisfied: idna<4,>=2.5 in /usr/local/lib/python3.10/dist-packages (from requests>=2.23.0->-r requirements.txt (line 12)) (3.6)\n",
            "Requirement already satisfied: urllib3<3,>=1.21.1 in /usr/local/lib/python3.10/dist-packages (from requests>=2.23.0->-r requirements.txt (line 12)) (2.0.7)\n",
            "Requirement already satisfied: certifi>=2017.4.17 in /usr/local/lib/python3.10/dist-packages (from requests>=2.23.0->-r requirements.txt (line 12)) (2023.11.17)\n",
            "Requirement already satisfied: filelock in /usr/local/lib/python3.10/dist-packages (from torch>=1.8.0->-r requirements.txt (line 15)) (3.13.1)\n",
            "Requirement already satisfied: typing-extensions in /usr/local/lib/python3.10/dist-packages (from torch>=1.8.0->-r requirements.txt (line 15)) (4.5.0)\n",
            "Requirement already satisfied: sympy in /usr/local/lib/python3.10/dist-packages (from torch>=1.8.0->-r requirements.txt (line 15)) (1.12)\n",
            "Requirement already satisfied: networkx in /usr/local/lib/python3.10/dist-packages (from torch>=1.8.0->-r requirements.txt (line 15)) (3.2.1)\n",
            "Requirement already satisfied: jinja2 in /usr/local/lib/python3.10/dist-packages (from torch>=1.8.0->-r requirements.txt (line 15)) (3.1.2)\n",
            "Requirement already satisfied: fsspec in /usr/local/lib/python3.10/dist-packages (from torch>=1.8.0->-r requirements.txt (line 15)) (2023.6.0)\n",
            "Requirement already satisfied: triton==2.1.0 in /usr/local/lib/python3.10/dist-packages (from torch>=1.8.0->-r requirements.txt (line 15)) (2.1.0)\n",
            "Requirement already satisfied: py-cpuinfo in /usr/local/lib/python3.10/dist-packages (from ultralytics>=8.0.232->-r requirements.txt (line 18)) (9.0.0)\n",
            "Requirement already satisfied: pytz>=2020.1 in /usr/local/lib/python3.10/dist-packages (from pandas>=1.1.4->-r requirements.txt (line 27)) (2023.3.post1)\n",
            "Collecting smmap<6,>=3.0.1 (from gitdb<5,>=4.0.1->gitpython>=3.1.30->-r requirements.txt (line 5))\n",
            "  Downloading smmap-5.0.1-py3-none-any.whl (24 kB)\n",
            "Requirement already satisfied: six>=1.5 in /usr/local/lib/python3.10/dist-packages (from python-dateutil>=2.7->matplotlib>=3.3->-r requirements.txt (line 6)) (1.16.0)\n",
            "Requirement already satisfied: MarkupSafe>=2.0 in /usr/local/lib/python3.10/dist-packages (from jinja2->torch>=1.8.0->-r requirements.txt (line 15)) (2.1.3)\n",
            "Requirement already satisfied: mpmath>=0.19 in /usr/local/lib/python3.10/dist-packages (from sympy->torch>=1.8.0->-r requirements.txt (line 15)) (1.3.0)\n",
            "Installing collected packages: smmap, Pillow, gitdb, thop, gitpython, ultralytics\n",
            "  Attempting uninstall: Pillow\n",
            "    Found existing installation: Pillow 9.4.0\n",
            "    Uninstalling Pillow-9.4.0:\n",
            "      Successfully uninstalled Pillow-9.4.0\n",
            "\u001b[31mERROR: pip's dependency resolver does not currently take into account all the packages that are installed. This behaviour is the source of the following dependency conflicts.\n",
            "imageio 2.31.6 requires pillow<10.1.0,>=8.3.2, but you have pillow 10.1.0 which is incompatible.\u001b[0m\u001b[31m\n",
            "\u001b[0mSuccessfully installed Pillow-10.1.0 gitdb-4.0.11 gitpython-3.1.40 smmap-5.0.1 thop-0.1.1.post2209072238 ultralytics-8.0.232\n"
          ]
        },
        {
          "output_type": "display_data",
          "data": {
            "application/vnd.colab-display-data+json": {
              "pip_warning": {
                "packages": [
                  "PIL"
                ]
              }
            }
          },
          "metadata": {}
        }
      ],
      "source": [
        "!pip install -r requirements.txt"
      ]
    },
    {
      "cell_type": "code",
      "source": [
        "!unzip \"/content/drive/MyDrive/knee/35.zip\" -d \"/content/drive/MyDrive/knee\""
      ],
      "metadata": {
        "colab": {
          "base_uri": "https://localhost:8080/"
        },
        "id": "L4eVoBeTkSuJ",
        "outputId": "49cf7a8b-b79f-4396-ca86-26057b971d20"
      },
      "execution_count": null,
      "outputs": [
        {
          "output_type": "stream",
          "name": "stdout",
          "text": [
            "Archive:  /content/drive/MyDrive/knee/35.zip\n",
            "   creating: /content/drive/MyDrive/knee/yolov7/\n",
            "  inflating: /content/drive/MyDrive/knee/yolov7/data.yaml  \n",
            "  inflating: /content/drive/MyDrive/knee/yolov7/README.dataset.txt  \n",
            "  inflating: /content/drive/MyDrive/knee/yolov7/README.roboflow.txt  \n",
            "   creating: /content/drive/MyDrive/knee/yolov7/train/\n",
            "   creating: /content/drive/MyDrive/knee/yolov7/train/images/\n",
            "  inflating: /content/drive/MyDrive/knee/yolov7/train/images/stage0-1-_jpg.rf.cbb266f1351e6ccc99355c8dcabc7756.jpg  \n",
            "  inflating: /content/drive/MyDrive/knee/yolov7/train/images/stage0-11-_jpg.rf.e47951ace75aefc9e58f436311654598.jpg  \n",
            "  inflating: /content/drive/MyDrive/knee/yolov7/train/images/stage0-13-_jpg.rf.eac47c10f798d57a655dba97b90ef1f9.jpg  \n",
            "  inflating: /content/drive/MyDrive/knee/yolov7/train/images/stage0-14-_jpg.rf.7a8369dc613046391eee2e32f073633d.jpg  \n",
            "  inflating: /content/drive/MyDrive/knee/yolov7/train/images/stage0-16-_jpg.rf.768f95713be59ecf1794e8a0507937ce.jpg  \n",
            "  inflating: /content/drive/MyDrive/knee/yolov7/train/images/stage0-17-_jpg.rf.105c953ba487b929419cbe2879a1f68c.jpg  \n",
            "  inflating: /content/drive/MyDrive/knee/yolov7/train/images/stage0-18-_jpg.rf.56f60b3b34797db92c7192326a03f755.jpg  \n",
            "  inflating: /content/drive/MyDrive/knee/yolov7/train/images/stage0-19-_jpg.rf.ee0795d7a83b9491d83e3c811022c960.jpg  \n",
            "  inflating: /content/drive/MyDrive/knee/yolov7/train/images/stage0-20-_jpg.rf.3b5b48639c81be223157805b765eb713.jpg  \n",
            "  inflating: /content/drive/MyDrive/knee/yolov7/train/images/stage0-22-_jpg.rf.f1aab5fc081a735d385b61d55561efbd.jpg  \n",
            "  inflating: /content/drive/MyDrive/knee/yolov7/train/images/stage0-23-_jpg.rf.88d9df2d77d6c1338f6566902b8e8544.jpg  \n",
            "  inflating: /content/drive/MyDrive/knee/yolov7/train/images/stage0-24-_jpg.rf.25841388cdead47ac2ddc2b430966d4d.jpg  \n",
            "  inflating: /content/drive/MyDrive/knee/yolov7/train/images/stage0-25-_jpg.rf.388ee90dfc1e1e1a249870a38101afae.jpg  \n",
            "  inflating: /content/drive/MyDrive/knee/yolov7/train/images/stage0-26-_jpg.rf.726db3b6a9b3bb3f0a6abdd9bd94c250.jpg  \n",
            "  inflating: /content/drive/MyDrive/knee/yolov7/train/images/stage0-27-_jpg.rf.6381f9bc2c1e9b918cdd728e1855d284.jpg  \n",
            "  inflating: /content/drive/MyDrive/knee/yolov7/train/images/stage0-28-_jpg.rf.f7ff68845ee145108a094ebc9641a8ef.jpg  \n",
            "  inflating: /content/drive/MyDrive/knee/yolov7/train/images/stage0-29-_jpg.rf.fda1a8a7473966f321c9dd2d6ba0d4a9.jpg  \n",
            "  inflating: /content/drive/MyDrive/knee/yolov7/train/images/stage0-3-_jpg.rf.86efbbe8687cfb788dc1dea59b7c64e5.jpg  \n",
            "  inflating: /content/drive/MyDrive/knee/yolov7/train/images/stage0-30-_jpg.rf.63b40fad2508719bbe0ba4d4d06436cf.jpg  \n",
            "  inflating: /content/drive/MyDrive/knee/yolov7/train/images/stage0-31-_jpg.rf.daeba303a5b491d3faef87ac039a535a.jpg  \n",
            "  inflating: /content/drive/MyDrive/knee/yolov7/train/images/stage0-32-_jpg.rf.66280864f3ae6a0736312c7cb3803c54.jpg  \n",
            "  inflating: /content/drive/MyDrive/knee/yolov7/train/images/stage0-34-_jpg.rf.d4c0fbb020705a577869857ee4626218.jpg  \n",
            "  inflating: /content/drive/MyDrive/knee/yolov7/train/images/stage0-37-_jpg.rf.f443a98225826b3124aff2ef1965d8d6.jpg  \n",
            "  inflating: /content/drive/MyDrive/knee/yolov7/train/images/stage0-39-_jpg.rf.4aae96741a6fb83e57ec4b05665a3df5.jpg  \n",
            "  inflating: /content/drive/MyDrive/knee/yolov7/train/images/stage0-4-_jpg.rf.e6b11bcedde514a7eab3ace634eaefd1.jpg  \n",
            "  inflating: /content/drive/MyDrive/knee/yolov7/train/images/stage0-40-_jpg.rf.11c2e326b1c8717909bea299719ed362.jpg  \n",
            "  inflating: /content/drive/MyDrive/knee/yolov7/train/images/stage0-5-_jpg.rf.d92bd80a7de00a4b3a418f15fc72edb1.jpg  \n",
            "  inflating: /content/drive/MyDrive/knee/yolov7/train/images/stage0-7-_jpg.rf.499d09aa2849c8664906d7323d5dc508.jpg  \n",
            "  inflating: /content/drive/MyDrive/knee/yolov7/train/images/stage0-8-_jpg.rf.24e5a3bbe186010f74bd205708295349.jpg  \n",
            "  inflating: /content/drive/MyDrive/knee/yolov7/train/images/stage1-1-_jpg.rf.3576a73225cc3e4b5a9d993b5179a677.jpg  \n",
            "  inflating: /content/drive/MyDrive/knee/yolov7/train/images/stage1-11-_jpg.rf.3ad2d356827277ff1437e136acfeeae2.jpg  \n",
            "  inflating: /content/drive/MyDrive/knee/yolov7/train/images/stage1-12-_jpg.rf.19894e2074adf25d736627d588872f7a.jpg  \n",
            "  inflating: /content/drive/MyDrive/knee/yolov7/train/images/stage1-14-_jpg.rf.ebe8b50e34c4256cb9e2d5975591f296.jpg  \n",
            "  inflating: /content/drive/MyDrive/knee/yolov7/train/images/stage1-15-_jpg.rf.33b235620966a424d32a732d6836e510.jpg  \n",
            "  inflating: /content/drive/MyDrive/knee/yolov7/train/images/stage1-16-_jpg.rf.9d22f7e033c9bd4709b8f11626d53aed.jpg  \n",
            "  inflating: /content/drive/MyDrive/knee/yolov7/train/images/stage1-17-_jpg.rf.c2c3ab87aeabd5a056e4031b80633db1.jpg  \n",
            "  inflating: /content/drive/MyDrive/knee/yolov7/train/images/stage1-18-_jpg.rf.df090117818adc60caa522ec2cbb75df.jpg  \n",
            "  inflating: /content/drive/MyDrive/knee/yolov7/train/images/stage1-20-_jpg.rf.a70235396e2ba456b1cb67fab4c36687.jpg  \n",
            "  inflating: /content/drive/MyDrive/knee/yolov7/train/images/stage1-21-_jpg.rf.dea56cf9414abc2e6c7bc6cf9f00f286.jpg  \n",
            "  inflating: /content/drive/MyDrive/knee/yolov7/train/images/stage1-22-_jpg.rf.1bd9b26dfbd4db94523f4b76a0cc6a02.jpg  \n",
            "  inflating: /content/drive/MyDrive/knee/yolov7/train/images/stage1-23-_jpg.rf.b76b0ce3df5bf95742d140171ce213af.jpg  \n",
            "  inflating: /content/drive/MyDrive/knee/yolov7/train/images/stage1-25-_jpg.rf.a2241fd48239cae2199400be64d3879f.jpg  \n",
            "  inflating: /content/drive/MyDrive/knee/yolov7/train/images/stage1-26-_jpg.rf.111170f3ba25b086a6d6a3014c7701d6.jpg  \n",
            "  inflating: /content/drive/MyDrive/knee/yolov7/train/images/stage1-27-_jpg.rf.3c76639f51413ae3a154a3cb2bc72b1b.jpg  \n",
            "  inflating: /content/drive/MyDrive/knee/yolov7/train/images/stage1-28-_jpg.rf.b3b9be17f4a67891e93294eb661c6d68.jpg  \n",
            "  inflating: /content/drive/MyDrive/knee/yolov7/train/images/stage1-29-_jpg.rf.6073b3e47e65f6c480acae5ea667577f.jpg  \n",
            "  inflating: /content/drive/MyDrive/knee/yolov7/train/images/stage1-3-_jpg.rf.292fb6216bafa6643206787f0d610e99.jpg  \n",
            "  inflating: /content/drive/MyDrive/knee/yolov7/train/images/stage1-30-_jpg.rf.74f5dbf4864909fed82f9d7632909a3a.jpg  \n",
            "  inflating: /content/drive/MyDrive/knee/yolov7/train/images/stage1-31-_jpg.rf.2a055dede99f0f75572b5539bc1059e0.jpg  \n",
            "  inflating: /content/drive/MyDrive/knee/yolov7/train/images/stage1-32-_jpg.rf.eed54a92ae9138d9ee9bfe2e170b1d96.jpg  \n",
            "  inflating: /content/drive/MyDrive/knee/yolov7/train/images/stage1-34-_jpg.rf.b28054b82ce010d3b1dba8487f833ade.jpg  \n",
            "  inflating: /content/drive/MyDrive/knee/yolov7/train/images/stage1-35-_jpg.rf.40117daba9d9826be7ee99ddda2c591c.jpg  \n",
            "  inflating: /content/drive/MyDrive/knee/yolov7/train/images/stage1-36-_jpg.rf.bad5b1d3ceab11f3785cdcef3bac4ff7.jpg  \n",
            "  inflating: /content/drive/MyDrive/knee/yolov7/train/images/stage1-39-_jpg.rf.0feaf4c89b93dce856cd2767a802c714.jpg  \n",
            "  inflating: /content/drive/MyDrive/knee/yolov7/train/images/stage1-4-_jpg.rf.7ce0ae18095db13a88ef8305f419d344.jpg  \n",
            "  inflating: /content/drive/MyDrive/knee/yolov7/train/images/stage1-40-_jpg.rf.1d073fd5c96021e5fd2d934c5618f1cb.jpg  \n",
            "  inflating: /content/drive/MyDrive/knee/yolov7/train/images/stage1-41-_jpg.rf.025df7945b36367d1b4f496052c087d7.jpg  \n",
            "  inflating: /content/drive/MyDrive/knee/yolov7/train/images/stage1-42-_jpg.rf.fa8aec3c061ee8568bc82e8456e7ff72.jpg  \n",
            "  inflating: /content/drive/MyDrive/knee/yolov7/train/images/stage1-43-_jpg.rf.94f28f35d89420697f59c636ff2ebafa.jpg  \n",
            "  inflating: /content/drive/MyDrive/knee/yolov7/train/images/stage1-44-_jpg.rf.040e595c3de1e068b06d0a7bdf034492.jpg  \n",
            "  inflating: /content/drive/MyDrive/knee/yolov7/train/images/stage1-47-_jpg.rf.7ddd328c3bd0a097fda8cc0ccd59bd64.jpg  \n",
            "  inflating: /content/drive/MyDrive/knee/yolov7/train/images/stage1-49-_jpg.rf.627d95284b6245ac611a0feee093e11c.jpg  \n",
            "  inflating: /content/drive/MyDrive/knee/yolov7/train/images/stage1-5-_jpg.rf.d0a029a621721e2c0d53b08543b938bf.jpg  \n",
            "  inflating: /content/drive/MyDrive/knee/yolov7/train/images/stage1-50-_jpg.rf.c764488828256d316418294dea63150c.jpg  \n",
            "  inflating: /content/drive/MyDrive/knee/yolov7/train/images/stage1-6-_jpg.rf.00f7c453f7621b0ffd951a433c297736.jpg  \n",
            "  inflating: /content/drive/MyDrive/knee/yolov7/train/images/stage1-7-_jpg.rf.14b4561010bc80ea6fbf04ac0e16fe5a.jpg  \n",
            "  inflating: /content/drive/MyDrive/knee/yolov7/train/images/stage1-8-_jpg.rf.91e02d1fe3bd8480f44c845047b6b9f2.jpg  \n",
            "  inflating: /content/drive/MyDrive/knee/yolov7/train/images/stage1-9-_jpg.rf.4ea9a75773987d190ea28de58efb2aa2.jpg  \n",
            "  inflating: /content/drive/MyDrive/knee/yolov7/train/images/stage2-1-_jpg.rf.1d43ee0d7c927e4374370e928168dd62.jpg  \n",
            "  inflating: /content/drive/MyDrive/knee/yolov7/train/images/stage2-10-_jpg.rf.6f8963bc66d65940aa0923540d026b12.jpg  \n",
            "  inflating: /content/drive/MyDrive/knee/yolov7/train/images/stage2-11-_jpg.rf.229c9dd3cfdca142cf0a2c0e96ca7354.jpg  \n",
            "  inflating: /content/drive/MyDrive/knee/yolov7/train/images/stage2-12-_jpg.rf.bdffc75f1c3660f6e4c8ad6ff169c56c.jpg  \n",
            "  inflating: /content/drive/MyDrive/knee/yolov7/train/images/stage2-13-_jpg.rf.d080de2db08ac58b828d84f80b4f5f5c.jpg  \n",
            "  inflating: /content/drive/MyDrive/knee/yolov7/train/images/stage2-15-_jpg.rf.9fd5acb8de99683934c2d993d2ea7574.jpg  \n",
            "  inflating: /content/drive/MyDrive/knee/yolov7/train/images/stage2-16-_jpg.rf.daf599b856f398e0d1b19b48a281ed31.jpg  \n",
            "  inflating: /content/drive/MyDrive/knee/yolov7/train/images/stage2-17-_jpg.rf.beb3f2cb4db2dcace29c64cdc5cc9e36.jpg  \n",
            "  inflating: /content/drive/MyDrive/knee/yolov7/train/images/stage2-2-_jpg.rf.313e328a6faba06ff8570b4fa068a0c3.jpg  \n",
            "  inflating: /content/drive/MyDrive/knee/yolov7/train/images/stage2-21-_jpg.rf.cc6c99673ae558e517854936fa47cae6.jpg  \n",
            "  inflating: /content/drive/MyDrive/knee/yolov7/train/images/stage2-23-_jpg.rf.ffca23f24ec80f250a14cc4cce6cfb09.jpg  \n",
            "  inflating: /content/drive/MyDrive/knee/yolov7/train/images/stage2-24-_jpg.rf.4c5a7a3209b25623da0e2a860ebb7dc6.jpg  \n",
            "  inflating: /content/drive/MyDrive/knee/yolov7/train/images/stage2-25-_jpg.rf.bca8fdee2741bcc95dcb4e7f3d6b0d8a.jpg  \n",
            "  inflating: /content/drive/MyDrive/knee/yolov7/train/images/stage2-26-_jpg.rf.108c798b31ed70f1780982b5e180d18c.jpg  \n",
            "  inflating: /content/drive/MyDrive/knee/yolov7/train/images/stage2-27-_jpg.rf.ab4b165195ac3b085ef0da3c25abcecc.jpg  \n",
            "  inflating: /content/drive/MyDrive/knee/yolov7/train/images/stage2-28-_jpg.rf.909ad83c269ff4d4bf1f6426a0013c4a.jpg  \n",
            "  inflating: /content/drive/MyDrive/knee/yolov7/train/images/stage2-29-_jpg.rf.51d7a51046b48f1f917faa40e3fb34e8.jpg  \n",
            "  inflating: /content/drive/MyDrive/knee/yolov7/train/images/stage2-31-_jpg.rf.7314e327b3cfb8ee040e7a50b0324c26.jpg  \n",
            "  inflating: /content/drive/MyDrive/knee/yolov7/train/images/stage2-33-_jpg.rf.1c66e8482caddfde4c092d258e970513.jpg  \n",
            "  inflating: /content/drive/MyDrive/knee/yolov7/train/images/stage2-34-_jpg.rf.499a5ff05b98d2e7955097f005ea6b5b.jpg  \n",
            "  inflating: /content/drive/MyDrive/knee/yolov7/train/images/stage2-35-_jpg.rf.661a7f68a60f9d32ed342dd03968861d.jpg  \n",
            "  inflating: /content/drive/MyDrive/knee/yolov7/train/images/stage2-36-_jpg.rf.815fcc4ab9ffcb337f10d2efe3cdadd7.jpg  \n",
            "  inflating: /content/drive/MyDrive/knee/yolov7/train/images/stage2-38-_jpg.rf.2c40ea7e4a119c663f67d68e7cd57813.jpg  \n",
            "  inflating: /content/drive/MyDrive/knee/yolov7/train/images/stage2-4-_jpg.rf.9e4fb22a94c2b3b4dba39fe97ca46ef7.jpg  \n",
            "  inflating: /content/drive/MyDrive/knee/yolov7/train/images/stage2-5-_jpg.rf.88ec511fa61517c411e39c68c5c17f6b.jpg  \n",
            "  inflating: /content/drive/MyDrive/knee/yolov7/train/images/stage2-6-_jpg.rf.d6138a4c1574eedd5c0d3bc0bfc8f9f6.jpg  \n",
            "  inflating: /content/drive/MyDrive/knee/yolov7/train/images/stage2-8-_jpg.rf.31f8d91615112be0facc5c176459601b.jpg  \n",
            "  inflating: /content/drive/MyDrive/knee/yolov7/train/images/stage3-1-_jpg.rf.4bc11626e3c6bd8eaea746f8a2576376.jpg  \n",
            "  inflating: /content/drive/MyDrive/knee/yolov7/train/images/stage3-10-_jpg.rf.e02a60d1a8865e899374de770f5fa67f.jpg  \n",
            "  inflating: /content/drive/MyDrive/knee/yolov7/train/images/stage3-11-_jpg.rf.5bb79ca10351532001173ae893ba5ff4.jpg  \n",
            "  inflating: /content/drive/MyDrive/knee/yolov7/train/images/stage3-12-_jpg.rf.579bc32d598ce9c76be0c4f340bca551.jpg  \n",
            "  inflating: /content/drive/MyDrive/knee/yolov7/train/images/stage3-13-_jpg.rf.d4d0c007243092b1af7efc02dd40d6fb.jpg  \n",
            "  inflating: /content/drive/MyDrive/knee/yolov7/train/images/stage3-15-_jpg.rf.c6eec090bae98d035da4f43952fb5e77.jpg  \n",
            "  inflating: /content/drive/MyDrive/knee/yolov7/train/images/stage3-16-_jpg.rf.9078e96eb82aff0a3202fbeff745960c.jpg  \n",
            "  inflating: /content/drive/MyDrive/knee/yolov7/train/images/stage3-18-_jpg.rf.b91436e1e68f139b4e279c2b575f75e0.jpg  \n",
            "  inflating: /content/drive/MyDrive/knee/yolov7/train/images/stage3-19-_jpg.rf.f5b2a8a21813f3dde47b77be4207fe30.jpg  \n",
            "  inflating: /content/drive/MyDrive/knee/yolov7/train/images/stage3-2-_jpg.rf.e1621de86db6614b256c702dcdf8b1d8.jpg  \n",
            "  inflating: /content/drive/MyDrive/knee/yolov7/train/images/stage3-22-_jpg.rf.ecb6c4024b307894df05f5aea94e0244.jpg  \n",
            "  inflating: /content/drive/MyDrive/knee/yolov7/train/images/stage3-23-_jpg.rf.e12398169459ee10874ec431f29145ed.jpg  \n",
            "  inflating: /content/drive/MyDrive/knee/yolov7/train/images/stage3-26-_jpg.rf.2922417bf835a2be918f9dd24aac5a66.jpg  \n",
            "  inflating: /content/drive/MyDrive/knee/yolov7/train/images/stage3-28-_jpg.rf.5098d556f3b37b7d498d4d41a9d4fa6a.jpg  \n",
            "  inflating: /content/drive/MyDrive/knee/yolov7/train/images/stage3-3-_jpg.rf.6318860e999ad95f38142f7006889a3f.jpg  \n",
            "  inflating: /content/drive/MyDrive/knee/yolov7/train/images/stage3-30-_jpg.rf.5e8e59a841e0987dd68e988b8ff7a1c6.jpg  \n",
            "  inflating: /content/drive/MyDrive/knee/yolov7/train/images/stage3-31-_jpg.rf.cbcea771538d775f6fa2f6bd62a0aaa1.jpg  \n",
            "  inflating: /content/drive/MyDrive/knee/yolov7/train/images/stage3-34-_jpg.rf.45b19c62f1ba1ac0e3dd91b66809713d.jpg  \n",
            "  inflating: /content/drive/MyDrive/knee/yolov7/train/images/stage3-35-_jpg.rf.34ff8fd1c9c12d420bc5c8726fcd8430.jpg  \n",
            "  inflating: /content/drive/MyDrive/knee/yolov7/train/images/stage3-36-_jpg.rf.fef808eb4f0f7921435296e5d79b3e44.jpg  \n",
            "  inflating: /content/drive/MyDrive/knee/yolov7/train/images/stage3-37-_jpg.rf.17184a02f6354e7d2630d43a797ddd70.jpg  \n",
            "  inflating: /content/drive/MyDrive/knee/yolov7/train/images/stage3-38-_jpg.rf.61bf5e36c247fd87e7484d5583303857.jpg  \n",
            "  inflating: /content/drive/MyDrive/knee/yolov7/train/images/stage3-4-_jpg.rf.d88fea6b0639a4781a99962f410e6d58.jpg  \n",
            "  inflating: /content/drive/MyDrive/knee/yolov7/train/images/stage3-5-_jpg.rf.f17c8d80e75cdd295aeaf15a8917930e.jpg  \n",
            "  inflating: /content/drive/MyDrive/knee/yolov7/train/images/stage3-6-_jpg.rf.f388ceb8b4d13ef5a7593d19d18718ce.jpg  \n",
            "  inflating: /content/drive/MyDrive/knee/yolov7/train/images/stage3-7-_jpg.rf.61988d5d39b05cfcc81624d6aea45089.jpg  \n",
            "  inflating: /content/drive/MyDrive/knee/yolov7/train/images/stage3-8-_jpg.rf.67a78d1b035bc309e387258b045f010e.jpg  \n",
            "   creating: /content/drive/MyDrive/knee/yolov7/train/labels/\n",
            "  inflating: /content/drive/MyDrive/knee/yolov7/train/labels/stage0-1-_jpg.rf.cbb266f1351e6ccc99355c8dcabc7756.txt  \n",
            "  inflating: /content/drive/MyDrive/knee/yolov7/train/labels/stage0-11-_jpg.rf.e47951ace75aefc9e58f436311654598.txt  \n",
            "  inflating: /content/drive/MyDrive/knee/yolov7/train/labels/stage0-13-_jpg.rf.eac47c10f798d57a655dba97b90ef1f9.txt  \n",
            "  inflating: /content/drive/MyDrive/knee/yolov7/train/labels/stage0-14-_jpg.rf.7a8369dc613046391eee2e32f073633d.txt  \n",
            "  inflating: /content/drive/MyDrive/knee/yolov7/train/labels/stage0-16-_jpg.rf.768f95713be59ecf1794e8a0507937ce.txt  \n",
            "  inflating: /content/drive/MyDrive/knee/yolov7/train/labels/stage0-17-_jpg.rf.105c953ba487b929419cbe2879a1f68c.txt  \n",
            "  inflating: /content/drive/MyDrive/knee/yolov7/train/labels/stage0-18-_jpg.rf.56f60b3b34797db92c7192326a03f755.txt  \n",
            "  inflating: /content/drive/MyDrive/knee/yolov7/train/labels/stage0-19-_jpg.rf.ee0795d7a83b9491d83e3c811022c960.txt  \n",
            "  inflating: /content/drive/MyDrive/knee/yolov7/train/labels/stage0-20-_jpg.rf.3b5b48639c81be223157805b765eb713.txt  \n",
            "  inflating: /content/drive/MyDrive/knee/yolov7/train/labels/stage0-22-_jpg.rf.f1aab5fc081a735d385b61d55561efbd.txt  \n",
            "  inflating: /content/drive/MyDrive/knee/yolov7/train/labels/stage0-23-_jpg.rf.88d9df2d77d6c1338f6566902b8e8544.txt  \n",
            "  inflating: /content/drive/MyDrive/knee/yolov7/train/labels/stage0-24-_jpg.rf.25841388cdead47ac2ddc2b430966d4d.txt  \n",
            "  inflating: /content/drive/MyDrive/knee/yolov7/train/labels/stage0-25-_jpg.rf.388ee90dfc1e1e1a249870a38101afae.txt  \n",
            "  inflating: /content/drive/MyDrive/knee/yolov7/train/labels/stage0-26-_jpg.rf.726db3b6a9b3bb3f0a6abdd9bd94c250.txt  \n",
            "  inflating: /content/drive/MyDrive/knee/yolov7/train/labels/stage0-27-_jpg.rf.6381f9bc2c1e9b918cdd728e1855d284.txt  \n",
            "  inflating: /content/drive/MyDrive/knee/yolov7/train/labels/stage0-28-_jpg.rf.f7ff68845ee145108a094ebc9641a8ef.txt  \n",
            "  inflating: /content/drive/MyDrive/knee/yolov7/train/labels/stage0-29-_jpg.rf.fda1a8a7473966f321c9dd2d6ba0d4a9.txt  \n",
            "  inflating: /content/drive/MyDrive/knee/yolov7/train/labels/stage0-3-_jpg.rf.86efbbe8687cfb788dc1dea59b7c64e5.txt  \n",
            "  inflating: /content/drive/MyDrive/knee/yolov7/train/labels/stage0-30-_jpg.rf.63b40fad2508719bbe0ba4d4d06436cf.txt  \n",
            "  inflating: /content/drive/MyDrive/knee/yolov7/train/labels/stage0-31-_jpg.rf.daeba303a5b491d3faef87ac039a535a.txt  \n",
            "  inflating: /content/drive/MyDrive/knee/yolov7/train/labels/stage0-32-_jpg.rf.66280864f3ae6a0736312c7cb3803c54.txt  \n",
            "  inflating: /content/drive/MyDrive/knee/yolov7/train/labels/stage0-34-_jpg.rf.d4c0fbb020705a577869857ee4626218.txt  \n",
            "  inflating: /content/drive/MyDrive/knee/yolov7/train/labels/stage0-37-_jpg.rf.f443a98225826b3124aff2ef1965d8d6.txt  \n",
            "  inflating: /content/drive/MyDrive/knee/yolov7/train/labels/stage0-39-_jpg.rf.4aae96741a6fb83e57ec4b05665a3df5.txt  \n",
            "  inflating: /content/drive/MyDrive/knee/yolov7/train/labels/stage0-4-_jpg.rf.e6b11bcedde514a7eab3ace634eaefd1.txt  \n",
            "  inflating: /content/drive/MyDrive/knee/yolov7/train/labels/stage0-40-_jpg.rf.11c2e326b1c8717909bea299719ed362.txt  \n",
            "  inflating: /content/drive/MyDrive/knee/yolov7/train/labels/stage0-5-_jpg.rf.d92bd80a7de00a4b3a418f15fc72edb1.txt  \n",
            "  inflating: /content/drive/MyDrive/knee/yolov7/train/labels/stage0-7-_jpg.rf.499d09aa2849c8664906d7323d5dc508.txt  \n",
            "  inflating: /content/drive/MyDrive/knee/yolov7/train/labels/stage0-8-_jpg.rf.24e5a3bbe186010f74bd205708295349.txt  \n",
            "  inflating: /content/drive/MyDrive/knee/yolov7/train/labels/stage1-1-_jpg.rf.3576a73225cc3e4b5a9d993b5179a677.txt  \n",
            "  inflating: /content/drive/MyDrive/knee/yolov7/train/labels/stage1-11-_jpg.rf.3ad2d356827277ff1437e136acfeeae2.txt  \n",
            "  inflating: /content/drive/MyDrive/knee/yolov7/train/labels/stage1-12-_jpg.rf.19894e2074adf25d736627d588872f7a.txt  \n",
            "  inflating: /content/drive/MyDrive/knee/yolov7/train/labels/stage1-14-_jpg.rf.ebe8b50e34c4256cb9e2d5975591f296.txt  \n",
            "  inflating: /content/drive/MyDrive/knee/yolov7/train/labels/stage1-15-_jpg.rf.33b235620966a424d32a732d6836e510.txt  \n",
            "  inflating: /content/drive/MyDrive/knee/yolov7/train/labels/stage1-16-_jpg.rf.9d22f7e033c9bd4709b8f11626d53aed.txt  \n",
            "  inflating: /content/drive/MyDrive/knee/yolov7/train/labels/stage1-17-_jpg.rf.c2c3ab87aeabd5a056e4031b80633db1.txt  \n",
            "  inflating: /content/drive/MyDrive/knee/yolov7/train/labels/stage1-18-_jpg.rf.df090117818adc60caa522ec2cbb75df.txt  \n",
            "  inflating: /content/drive/MyDrive/knee/yolov7/train/labels/stage1-20-_jpg.rf.a70235396e2ba456b1cb67fab4c36687.txt  \n",
            "  inflating: /content/drive/MyDrive/knee/yolov7/train/labels/stage1-21-_jpg.rf.dea56cf9414abc2e6c7bc6cf9f00f286.txt  \n",
            "  inflating: /content/drive/MyDrive/knee/yolov7/train/labels/stage1-22-_jpg.rf.1bd9b26dfbd4db94523f4b76a0cc6a02.txt  \n",
            "  inflating: /content/drive/MyDrive/knee/yolov7/train/labels/stage1-23-_jpg.rf.b76b0ce3df5bf95742d140171ce213af.txt  \n",
            "  inflating: /content/drive/MyDrive/knee/yolov7/train/labels/stage1-25-_jpg.rf.a2241fd48239cae2199400be64d3879f.txt  \n",
            "  inflating: /content/drive/MyDrive/knee/yolov7/train/labels/stage1-26-_jpg.rf.111170f3ba25b086a6d6a3014c7701d6.txt  \n",
            "  inflating: /content/drive/MyDrive/knee/yolov7/train/labels/stage1-27-_jpg.rf.3c76639f51413ae3a154a3cb2bc72b1b.txt  \n",
            "  inflating: /content/drive/MyDrive/knee/yolov7/train/labels/stage1-28-_jpg.rf.b3b9be17f4a67891e93294eb661c6d68.txt  \n",
            "  inflating: /content/drive/MyDrive/knee/yolov7/train/labels/stage1-29-_jpg.rf.6073b3e47e65f6c480acae5ea667577f.txt  \n",
            "  inflating: /content/drive/MyDrive/knee/yolov7/train/labels/stage1-3-_jpg.rf.292fb6216bafa6643206787f0d610e99.txt  \n",
            "  inflating: /content/drive/MyDrive/knee/yolov7/train/labels/stage1-30-_jpg.rf.74f5dbf4864909fed82f9d7632909a3a.txt  \n",
            "  inflating: /content/drive/MyDrive/knee/yolov7/train/labels/stage1-31-_jpg.rf.2a055dede99f0f75572b5539bc1059e0.txt  \n",
            "  inflating: /content/drive/MyDrive/knee/yolov7/train/labels/stage1-32-_jpg.rf.eed54a92ae9138d9ee9bfe2e170b1d96.txt  \n",
            "  inflating: /content/drive/MyDrive/knee/yolov7/train/labels/stage1-34-_jpg.rf.b28054b82ce010d3b1dba8487f833ade.txt  \n",
            "  inflating: /content/drive/MyDrive/knee/yolov7/train/labels/stage1-35-_jpg.rf.40117daba9d9826be7ee99ddda2c591c.txt  \n",
            "  inflating: /content/drive/MyDrive/knee/yolov7/train/labels/stage1-36-_jpg.rf.bad5b1d3ceab11f3785cdcef3bac4ff7.txt  \n",
            "  inflating: /content/drive/MyDrive/knee/yolov7/train/labels/stage1-39-_jpg.rf.0feaf4c89b93dce856cd2767a802c714.txt  \n",
            "  inflating: /content/drive/MyDrive/knee/yolov7/train/labels/stage1-4-_jpg.rf.7ce0ae18095db13a88ef8305f419d344.txt  \n",
            "  inflating: /content/drive/MyDrive/knee/yolov7/train/labels/stage1-40-_jpg.rf.1d073fd5c96021e5fd2d934c5618f1cb.txt  \n",
            "  inflating: /content/drive/MyDrive/knee/yolov7/train/labels/stage1-41-_jpg.rf.025df7945b36367d1b4f496052c087d7.txt  \n",
            "  inflating: /content/drive/MyDrive/knee/yolov7/train/labels/stage1-42-_jpg.rf.fa8aec3c061ee8568bc82e8456e7ff72.txt  \n",
            "  inflating: /content/drive/MyDrive/knee/yolov7/train/labels/stage1-43-_jpg.rf.94f28f35d89420697f59c636ff2ebafa.txt  \n",
            "  inflating: /content/drive/MyDrive/knee/yolov7/train/labels/stage1-44-_jpg.rf.040e595c3de1e068b06d0a7bdf034492.txt  \n",
            "  inflating: /content/drive/MyDrive/knee/yolov7/train/labels/stage1-47-_jpg.rf.7ddd328c3bd0a097fda8cc0ccd59bd64.txt  \n",
            "  inflating: /content/drive/MyDrive/knee/yolov7/train/labels/stage1-49-_jpg.rf.627d95284b6245ac611a0feee093e11c.txt  \n",
            "  inflating: /content/drive/MyDrive/knee/yolov7/train/labels/stage1-5-_jpg.rf.d0a029a621721e2c0d53b08543b938bf.txt  \n",
            "  inflating: /content/drive/MyDrive/knee/yolov7/train/labels/stage1-50-_jpg.rf.c764488828256d316418294dea63150c.txt  \n",
            "  inflating: /content/drive/MyDrive/knee/yolov7/train/labels/stage1-6-_jpg.rf.00f7c453f7621b0ffd951a433c297736.txt  \n",
            "  inflating: /content/drive/MyDrive/knee/yolov7/train/labels/stage1-7-_jpg.rf.14b4561010bc80ea6fbf04ac0e16fe5a.txt  \n",
            "  inflating: /content/drive/MyDrive/knee/yolov7/train/labels/stage1-8-_jpg.rf.91e02d1fe3bd8480f44c845047b6b9f2.txt  \n",
            "  inflating: /content/drive/MyDrive/knee/yolov7/train/labels/stage1-9-_jpg.rf.4ea9a75773987d190ea28de58efb2aa2.txt  \n",
            "  inflating: /content/drive/MyDrive/knee/yolov7/train/labels/stage2-1-_jpg.rf.1d43ee0d7c927e4374370e928168dd62.txt  \n",
            "  inflating: /content/drive/MyDrive/knee/yolov7/train/labels/stage2-10-_jpg.rf.6f8963bc66d65940aa0923540d026b12.txt  \n",
            "  inflating: /content/drive/MyDrive/knee/yolov7/train/labels/stage2-11-_jpg.rf.229c9dd3cfdca142cf0a2c0e96ca7354.txt  \n",
            "  inflating: /content/drive/MyDrive/knee/yolov7/train/labels/stage2-12-_jpg.rf.bdffc75f1c3660f6e4c8ad6ff169c56c.txt  \n",
            "  inflating: /content/drive/MyDrive/knee/yolov7/train/labels/stage2-13-_jpg.rf.d080de2db08ac58b828d84f80b4f5f5c.txt  \n",
            "  inflating: /content/drive/MyDrive/knee/yolov7/train/labels/stage2-15-_jpg.rf.9fd5acb8de99683934c2d993d2ea7574.txt  \n",
            "  inflating: /content/drive/MyDrive/knee/yolov7/train/labels/stage2-16-_jpg.rf.daf599b856f398e0d1b19b48a281ed31.txt  \n",
            "  inflating: /content/drive/MyDrive/knee/yolov7/train/labels/stage2-17-_jpg.rf.beb3f2cb4db2dcace29c64cdc5cc9e36.txt  \n",
            "  inflating: /content/drive/MyDrive/knee/yolov7/train/labels/stage2-2-_jpg.rf.313e328a6faba06ff8570b4fa068a0c3.txt  \n",
            "  inflating: /content/drive/MyDrive/knee/yolov7/train/labels/stage2-21-_jpg.rf.cc6c99673ae558e517854936fa47cae6.txt  \n",
            "  inflating: /content/drive/MyDrive/knee/yolov7/train/labels/stage2-23-_jpg.rf.ffca23f24ec80f250a14cc4cce6cfb09.txt  \n",
            "  inflating: /content/drive/MyDrive/knee/yolov7/train/labels/stage2-24-_jpg.rf.4c5a7a3209b25623da0e2a860ebb7dc6.txt  \n",
            "  inflating: /content/drive/MyDrive/knee/yolov7/train/labels/stage2-25-_jpg.rf.bca8fdee2741bcc95dcb4e7f3d6b0d8a.txt  \n",
            "  inflating: /content/drive/MyDrive/knee/yolov7/train/labels/stage2-26-_jpg.rf.108c798b31ed70f1780982b5e180d18c.txt  \n",
            "  inflating: /content/drive/MyDrive/knee/yolov7/train/labels/stage2-27-_jpg.rf.ab4b165195ac3b085ef0da3c25abcecc.txt  \n",
            "  inflating: /content/drive/MyDrive/knee/yolov7/train/labels/stage2-28-_jpg.rf.909ad83c269ff4d4bf1f6426a0013c4a.txt  \n",
            "  inflating: /content/drive/MyDrive/knee/yolov7/train/labels/stage2-29-_jpg.rf.51d7a51046b48f1f917faa40e3fb34e8.txt  \n",
            "  inflating: /content/drive/MyDrive/knee/yolov7/train/labels/stage2-31-_jpg.rf.7314e327b3cfb8ee040e7a50b0324c26.txt  \n",
            "  inflating: /content/drive/MyDrive/knee/yolov7/train/labels/stage2-33-_jpg.rf.1c66e8482caddfde4c092d258e970513.txt  \n",
            "  inflating: /content/drive/MyDrive/knee/yolov7/train/labels/stage2-34-_jpg.rf.499a5ff05b98d2e7955097f005ea6b5b.txt  \n",
            "  inflating: /content/drive/MyDrive/knee/yolov7/train/labels/stage2-35-_jpg.rf.661a7f68a60f9d32ed342dd03968861d.txt  \n",
            "  inflating: /content/drive/MyDrive/knee/yolov7/train/labels/stage2-36-_jpg.rf.815fcc4ab9ffcb337f10d2efe3cdadd7.txt  \n",
            "  inflating: /content/drive/MyDrive/knee/yolov7/train/labels/stage2-38-_jpg.rf.2c40ea7e4a119c663f67d68e7cd57813.txt  \n",
            "  inflating: /content/drive/MyDrive/knee/yolov7/train/labels/stage2-4-_jpg.rf.9e4fb22a94c2b3b4dba39fe97ca46ef7.txt  \n",
            "  inflating: /content/drive/MyDrive/knee/yolov7/train/labels/stage2-5-_jpg.rf.88ec511fa61517c411e39c68c5c17f6b.txt  \n",
            "  inflating: /content/drive/MyDrive/knee/yolov7/train/labels/stage2-6-_jpg.rf.d6138a4c1574eedd5c0d3bc0bfc8f9f6.txt  \n",
            "  inflating: /content/drive/MyDrive/knee/yolov7/train/labels/stage2-8-_jpg.rf.31f8d91615112be0facc5c176459601b.txt  \n",
            "  inflating: /content/drive/MyDrive/knee/yolov7/train/labels/stage3-1-_jpg.rf.4bc11626e3c6bd8eaea746f8a2576376.txt  \n",
            "  inflating: /content/drive/MyDrive/knee/yolov7/train/labels/stage3-10-_jpg.rf.e02a60d1a8865e899374de770f5fa67f.txt  \n",
            "  inflating: /content/drive/MyDrive/knee/yolov7/train/labels/stage3-11-_jpg.rf.5bb79ca10351532001173ae893ba5ff4.txt  \n",
            "  inflating: /content/drive/MyDrive/knee/yolov7/train/labels/stage3-12-_jpg.rf.579bc32d598ce9c76be0c4f340bca551.txt  \n",
            "  inflating: /content/drive/MyDrive/knee/yolov7/train/labels/stage3-13-_jpg.rf.d4d0c007243092b1af7efc02dd40d6fb.txt  \n",
            "  inflating: /content/drive/MyDrive/knee/yolov7/train/labels/stage3-15-_jpg.rf.c6eec090bae98d035da4f43952fb5e77.txt  \n",
            "  inflating: /content/drive/MyDrive/knee/yolov7/train/labels/stage3-16-_jpg.rf.9078e96eb82aff0a3202fbeff745960c.txt  \n",
            "  inflating: /content/drive/MyDrive/knee/yolov7/train/labels/stage3-18-_jpg.rf.b91436e1e68f139b4e279c2b575f75e0.txt  \n",
            "  inflating: /content/drive/MyDrive/knee/yolov7/train/labels/stage3-19-_jpg.rf.f5b2a8a21813f3dde47b77be4207fe30.txt  \n",
            "  inflating: /content/drive/MyDrive/knee/yolov7/train/labels/stage3-2-_jpg.rf.e1621de86db6614b256c702dcdf8b1d8.txt  \n",
            "  inflating: /content/drive/MyDrive/knee/yolov7/train/labels/stage3-22-_jpg.rf.ecb6c4024b307894df05f5aea94e0244.txt  \n",
            "  inflating: /content/drive/MyDrive/knee/yolov7/train/labels/stage3-23-_jpg.rf.e12398169459ee10874ec431f29145ed.txt  \n",
            "  inflating: /content/drive/MyDrive/knee/yolov7/train/labels/stage3-26-_jpg.rf.2922417bf835a2be918f9dd24aac5a66.txt  \n",
            "  inflating: /content/drive/MyDrive/knee/yolov7/train/labels/stage3-28-_jpg.rf.5098d556f3b37b7d498d4d41a9d4fa6a.txt  \n",
            "  inflating: /content/drive/MyDrive/knee/yolov7/train/labels/stage3-3-_jpg.rf.6318860e999ad95f38142f7006889a3f.txt  \n",
            "  inflating: /content/drive/MyDrive/knee/yolov7/train/labels/stage3-30-_jpg.rf.5e8e59a841e0987dd68e988b8ff7a1c6.txt  \n",
            "  inflating: /content/drive/MyDrive/knee/yolov7/train/labels/stage3-31-_jpg.rf.cbcea771538d775f6fa2f6bd62a0aaa1.txt  \n",
            "  inflating: /content/drive/MyDrive/knee/yolov7/train/labels/stage3-34-_jpg.rf.45b19c62f1ba1ac0e3dd91b66809713d.txt  \n",
            "  inflating: /content/drive/MyDrive/knee/yolov7/train/labels/stage3-35-_jpg.rf.34ff8fd1c9c12d420bc5c8726fcd8430.txt  \n",
            "  inflating: /content/drive/MyDrive/knee/yolov7/train/labels/stage3-36-_jpg.rf.fef808eb4f0f7921435296e5d79b3e44.txt  \n",
            "  inflating: /content/drive/MyDrive/knee/yolov7/train/labels/stage3-37-_jpg.rf.17184a02f6354e7d2630d43a797ddd70.txt  \n",
            "  inflating: /content/drive/MyDrive/knee/yolov7/train/labels/stage3-38-_jpg.rf.61bf5e36c247fd87e7484d5583303857.txt  \n",
            "  inflating: /content/drive/MyDrive/knee/yolov7/train/labels/stage3-4-_jpg.rf.d88fea6b0639a4781a99962f410e6d58.txt  \n",
            "  inflating: /content/drive/MyDrive/knee/yolov7/train/labels/stage3-5-_jpg.rf.f17c8d80e75cdd295aeaf15a8917930e.txt  \n",
            "  inflating: /content/drive/MyDrive/knee/yolov7/train/labels/stage3-6-_jpg.rf.f388ceb8b4d13ef5a7593d19d18718ce.txt  \n",
            "  inflating: /content/drive/MyDrive/knee/yolov7/train/labels/stage3-7-_jpg.rf.61988d5d39b05cfcc81624d6aea45089.txt  \n",
            "  inflating: /content/drive/MyDrive/knee/yolov7/train/labels/stage3-8-_jpg.rf.67a78d1b035bc309e387258b045f010e.txt  \n",
            "   creating: /content/drive/MyDrive/knee/yolov7/valid/\n",
            "   creating: /content/drive/MyDrive/knee/yolov7/valid/images/\n",
            "  inflating: /content/drive/MyDrive/knee/yolov7/valid/images/stage0-10-_jpg.rf.9bab984c796c7ebea9fab26f584e3e17.jpg  \n",
            "  inflating: /content/drive/MyDrive/knee/yolov7/valid/images/stage0-12-_jpg.rf.ac132ce66831d9d5540d034098fe438a.jpg  \n",
            "  inflating: /content/drive/MyDrive/knee/yolov7/valid/images/stage0-15-_jpg.rf.36faabf95573cd43f7a02c1e5a3717fc.jpg  \n",
            "  inflating: /content/drive/MyDrive/knee/yolov7/valid/images/stage0-2-_jpg.rf.0b31fc31badbac2f892776dff04b0a70.jpg  \n",
            "  inflating: /content/drive/MyDrive/knee/yolov7/valid/images/stage0-21-_jpg.rf.9605b85cb4516ed3ccd25c07b74b89b4.jpg  \n",
            "  inflating: /content/drive/MyDrive/knee/yolov7/valid/images/stage0-33-_jpg.rf.7275c00aac9769550a8bb2121a4e963a.jpg  \n",
            "  inflating: /content/drive/MyDrive/knee/yolov7/valid/images/stage0-35-_jpg.rf.ae4cbde97e7b534ecd3303a54700142e.jpg  \n",
            "  inflating: /content/drive/MyDrive/knee/yolov7/valid/images/stage0-36-_jpg.rf.839f673e9c1ac9c10f6511605998b13f.jpg  \n",
            "  inflating: /content/drive/MyDrive/knee/yolov7/valid/images/stage0-38-_jpg.rf.dd9581b23979766146d24278171301bc.jpg  \n",
            "  inflating: /content/drive/MyDrive/knee/yolov7/valid/images/stage0-6-_jpg.rf.4cf18ea495fe66a0c6854cb3a6f3f5ee.jpg  \n",
            "  inflating: /content/drive/MyDrive/knee/yolov7/valid/images/stage0-9-_jpg.rf.64a8e99774e50804127865ffd3e78e9b.jpg  \n",
            "  inflating: /content/drive/MyDrive/knee/yolov7/valid/images/stage1-10-_jpg.rf.78c626ea4eb666676c4e9e0a88cb5c89.jpg  \n",
            "  inflating: /content/drive/MyDrive/knee/yolov7/valid/images/stage1-13-_jpg.rf.fbdb24495a9b57f683e63c87f1b8fb2b.jpg  \n",
            "  inflating: /content/drive/MyDrive/knee/yolov7/valid/images/stage1-19-_jpg.rf.93bbc7c206f1e0cd9d117bf3d5f6c614.jpg  \n",
            "  inflating: /content/drive/MyDrive/knee/yolov7/valid/images/stage1-2-_jpg.rf.b2605a0f0a67163ed57ca52e6d64b771.jpg  \n",
            "  inflating: /content/drive/MyDrive/knee/yolov7/valid/images/stage1-24-_jpg.rf.6ca13069ba04e5e4191c5f67849b2f5b.jpg  \n",
            "  inflating: /content/drive/MyDrive/knee/yolov7/valid/images/stage1-33-_jpg.rf.43be807f3d0e98043470f66a7853768b.jpg  \n",
            "  inflating: /content/drive/MyDrive/knee/yolov7/valid/images/stage1-37-_jpg.rf.f980707456648f31eee481cfaec96310.jpg  \n",
            "  inflating: /content/drive/MyDrive/knee/yolov7/valid/images/stage1-38-_jpg.rf.bb86c60512df7505eac5d4efd13ce473.jpg  \n",
            "  inflating: /content/drive/MyDrive/knee/yolov7/valid/images/stage1-45-_jpg.rf.b8e4b225cff0e3f46a77dc6f9f785433.jpg  \n",
            "  inflating: /content/drive/MyDrive/knee/yolov7/valid/images/stage1-46-_jpg.rf.039e34e5b9a106b30f3cfc31ef3501c2.jpg  \n",
            "  inflating: /content/drive/MyDrive/knee/yolov7/valid/images/stage1-48-_jpg.rf.da72ed5042dcef58eca45732827d906d.jpg  \n",
            "  inflating: /content/drive/MyDrive/knee/yolov7/valid/images/stage2-14-_jpg.rf.9d9f22501f582b0f2c440366a9292fd4.jpg  \n",
            "  inflating: /content/drive/MyDrive/knee/yolov7/valid/images/stage2-18-_jpg.rf.a18c95979640ff052fb2d1a6ee8dde15.jpg  \n",
            "  inflating: /content/drive/MyDrive/knee/yolov7/valid/images/stage2-19-_jpg.rf.aff8b223a08aaf88238713b380e74e8d.jpg  \n",
            "  inflating: /content/drive/MyDrive/knee/yolov7/valid/images/stage2-20-_jpg.rf.6d49b4dc70b0fff748f5bea17e8f6a45.jpg  \n",
            "  inflating: /content/drive/MyDrive/knee/yolov7/valid/images/stage2-22-_jpg.rf.5b4bb35875bb53e20d9b0d8e8367e019.jpg  \n",
            "  inflating: /content/drive/MyDrive/knee/yolov7/valid/images/stage2-3-_jpg.rf.3a097dc3f4fdba8baff77739d308547b.jpg  \n",
            "  inflating: /content/drive/MyDrive/knee/yolov7/valid/images/stage2-30-_jpg.rf.58f1306a03187497fbd7140056551c1c.jpg  \n",
            "  inflating: /content/drive/MyDrive/knee/yolov7/valid/images/stage2-32-_jpg.rf.70062bef7f1a1e2ae36225c41b3dd8a0.jpg  \n",
            "  inflating: /content/drive/MyDrive/knee/yolov7/valid/images/stage2-37-_jpg.rf.8f7a24b62de58fc953d2621317edb94a.jpg  \n",
            "  inflating: /content/drive/MyDrive/knee/yolov7/valid/images/stage2-39-_jpg.rf.83d3b04249a8d2a0b4a3979495a0ed8e.jpg  \n",
            "  inflating: /content/drive/MyDrive/knee/yolov7/valid/images/stage2-40-_jpg.rf.392ed6bb5545252883f0ddde5c8bd90c.jpg  \n",
            "  inflating: /content/drive/MyDrive/knee/yolov7/valid/images/stage2-7-_jpg.rf.11fa7df3234fddcf7e0acde3ed621670.jpg  \n",
            "  inflating: /content/drive/MyDrive/knee/yolov7/valid/images/stage2-9-_jpg.rf.29fd1eaa63f713c0bd2e73e888804598.jpg  \n",
            "  inflating: /content/drive/MyDrive/knee/yolov7/valid/images/stage3-14-_jpg.rf.2bc428feab9f0b6cbb5d3bc2bf06ecf5.jpg  \n",
            "  inflating: /content/drive/MyDrive/knee/yolov7/valid/images/stage3-17-_jpg.rf.09e0a26e1c55c42ef6628e2aac503efc.jpg  \n",
            "  inflating: /content/drive/MyDrive/knee/yolov7/valid/images/stage3-20-_jpg.rf.310a14c02615d6225b7f23082de272d0.jpg  \n",
            "  inflating: /content/drive/MyDrive/knee/yolov7/valid/images/stage3-21-_jpg.rf.b4320727c8dab2fab03615dbb6dacd4b.jpg  \n",
            "  inflating: /content/drive/MyDrive/knee/yolov7/valid/images/stage3-24-_jpg.rf.2ad3733e86d768e35c6ae883e2a40725.jpg  \n",
            "  inflating: /content/drive/MyDrive/knee/yolov7/valid/images/stage3-25-_jpg.rf.161634eb540ae3484011fe3637e22879.jpg  \n",
            "  inflating: /content/drive/MyDrive/knee/yolov7/valid/images/stage3-27-_jpg.rf.70a92ee89dcc5c175c76c554bd5fd6f9.jpg  \n",
            "  inflating: /content/drive/MyDrive/knee/yolov7/valid/images/stage3-29-_jpg.rf.1b5661d200547eb70b181e17e9e072bd.jpg  \n",
            "  inflating: /content/drive/MyDrive/knee/yolov7/valid/images/stage3-32-_jpg.rf.fe015995e5985b204ccb824c4158abca.jpg  \n",
            "  inflating: /content/drive/MyDrive/knee/yolov7/valid/images/stage3-33-_jpg.rf.d46b9d59b509636c225e17f57598eb21.jpg  \n",
            "  inflating: /content/drive/MyDrive/knee/yolov7/valid/images/stage3-39-_jpg.rf.fb17b56c087be794bfaa38324887d056.jpg  \n",
            "  inflating: /content/drive/MyDrive/knee/yolov7/valid/images/stage3-40-_jpg.rf.97d0814912cb2d6a374bdd755f4b7937.jpg  \n",
            "  inflating: /content/drive/MyDrive/knee/yolov7/valid/images/stage3-9-_jpg.rf.f4b1a71535359e43699a3191600d9d44.jpg  \n",
            "   creating: /content/drive/MyDrive/knee/yolov7/valid/labels/\n",
            "  inflating: /content/drive/MyDrive/knee/yolov7/valid/labels/stage0-10-_jpg.rf.9bab984c796c7ebea9fab26f584e3e17.txt  \n",
            "  inflating: /content/drive/MyDrive/knee/yolov7/valid/labels/stage0-12-_jpg.rf.ac132ce66831d9d5540d034098fe438a.txt  \n",
            "  inflating: /content/drive/MyDrive/knee/yolov7/valid/labels/stage0-15-_jpg.rf.36faabf95573cd43f7a02c1e5a3717fc.txt  \n",
            "  inflating: /content/drive/MyDrive/knee/yolov7/valid/labels/stage0-2-_jpg.rf.0b31fc31badbac2f892776dff04b0a70.txt  \n",
            "  inflating: /content/drive/MyDrive/knee/yolov7/valid/labels/stage0-21-_jpg.rf.9605b85cb4516ed3ccd25c07b74b89b4.txt  \n",
            "  inflating: /content/drive/MyDrive/knee/yolov7/valid/labels/stage0-33-_jpg.rf.7275c00aac9769550a8bb2121a4e963a.txt  \n",
            "  inflating: /content/drive/MyDrive/knee/yolov7/valid/labels/stage0-35-_jpg.rf.ae4cbde97e7b534ecd3303a54700142e.txt  \n",
            "  inflating: /content/drive/MyDrive/knee/yolov7/valid/labels/stage0-36-_jpg.rf.839f673e9c1ac9c10f6511605998b13f.txt  \n",
            "  inflating: /content/drive/MyDrive/knee/yolov7/valid/labels/stage0-38-_jpg.rf.dd9581b23979766146d24278171301bc.txt  \n",
            "  inflating: /content/drive/MyDrive/knee/yolov7/valid/labels/stage0-6-_jpg.rf.4cf18ea495fe66a0c6854cb3a6f3f5ee.txt  \n",
            "  inflating: /content/drive/MyDrive/knee/yolov7/valid/labels/stage0-9-_jpg.rf.64a8e99774e50804127865ffd3e78e9b.txt  \n",
            "  inflating: /content/drive/MyDrive/knee/yolov7/valid/labels/stage1-10-_jpg.rf.78c626ea4eb666676c4e9e0a88cb5c89.txt  \n",
            "  inflating: /content/drive/MyDrive/knee/yolov7/valid/labels/stage1-13-_jpg.rf.fbdb24495a9b57f683e63c87f1b8fb2b.txt  \n",
            "  inflating: /content/drive/MyDrive/knee/yolov7/valid/labels/stage1-19-_jpg.rf.93bbc7c206f1e0cd9d117bf3d5f6c614.txt  \n",
            "  inflating: /content/drive/MyDrive/knee/yolov7/valid/labels/stage1-2-_jpg.rf.b2605a0f0a67163ed57ca52e6d64b771.txt  \n",
            "  inflating: /content/drive/MyDrive/knee/yolov7/valid/labels/stage1-24-_jpg.rf.6ca13069ba04e5e4191c5f67849b2f5b.txt  \n",
            "  inflating: /content/drive/MyDrive/knee/yolov7/valid/labels/stage1-33-_jpg.rf.43be807f3d0e98043470f66a7853768b.txt  \n",
            "  inflating: /content/drive/MyDrive/knee/yolov7/valid/labels/stage1-37-_jpg.rf.f980707456648f31eee481cfaec96310.txt  \n",
            "  inflating: /content/drive/MyDrive/knee/yolov7/valid/labels/stage1-38-_jpg.rf.bb86c60512df7505eac5d4efd13ce473.txt  \n",
            "  inflating: /content/drive/MyDrive/knee/yolov7/valid/labels/stage1-45-_jpg.rf.b8e4b225cff0e3f46a77dc6f9f785433.txt  \n",
            "  inflating: /content/drive/MyDrive/knee/yolov7/valid/labels/stage1-46-_jpg.rf.039e34e5b9a106b30f3cfc31ef3501c2.txt  \n",
            "  inflating: /content/drive/MyDrive/knee/yolov7/valid/labels/stage1-48-_jpg.rf.da72ed5042dcef58eca45732827d906d.txt  \n",
            "  inflating: /content/drive/MyDrive/knee/yolov7/valid/labels/stage2-14-_jpg.rf.9d9f22501f582b0f2c440366a9292fd4.txt  \n",
            "  inflating: /content/drive/MyDrive/knee/yolov7/valid/labels/stage2-18-_jpg.rf.a18c95979640ff052fb2d1a6ee8dde15.txt  \n",
            "  inflating: /content/drive/MyDrive/knee/yolov7/valid/labels/stage2-19-_jpg.rf.aff8b223a08aaf88238713b380e74e8d.txt  \n",
            "  inflating: /content/drive/MyDrive/knee/yolov7/valid/labels/stage2-20-_jpg.rf.6d49b4dc70b0fff748f5bea17e8f6a45.txt  \n",
            "  inflating: /content/drive/MyDrive/knee/yolov7/valid/labels/stage2-22-_jpg.rf.5b4bb35875bb53e20d9b0d8e8367e019.txt  \n",
            "  inflating: /content/drive/MyDrive/knee/yolov7/valid/labels/stage2-3-_jpg.rf.3a097dc3f4fdba8baff77739d308547b.txt  \n",
            "  inflating: /content/drive/MyDrive/knee/yolov7/valid/labels/stage2-30-_jpg.rf.58f1306a03187497fbd7140056551c1c.txt  \n",
            "  inflating: /content/drive/MyDrive/knee/yolov7/valid/labels/stage2-32-_jpg.rf.70062bef7f1a1e2ae36225c41b3dd8a0.txt  \n",
            "  inflating: /content/drive/MyDrive/knee/yolov7/valid/labels/stage2-37-_jpg.rf.8f7a24b62de58fc953d2621317edb94a.txt  \n",
            "  inflating: /content/drive/MyDrive/knee/yolov7/valid/labels/stage2-39-_jpg.rf.83d3b04249a8d2a0b4a3979495a0ed8e.txt  \n",
            "  inflating: /content/drive/MyDrive/knee/yolov7/valid/labels/stage2-40-_jpg.rf.392ed6bb5545252883f0ddde5c8bd90c.txt  \n",
            "  inflating: /content/drive/MyDrive/knee/yolov7/valid/labels/stage2-7-_jpg.rf.11fa7df3234fddcf7e0acde3ed621670.txt  \n",
            "  inflating: /content/drive/MyDrive/knee/yolov7/valid/labels/stage2-9-_jpg.rf.29fd1eaa63f713c0bd2e73e888804598.txt  \n",
            "  inflating: /content/drive/MyDrive/knee/yolov7/valid/labels/stage3-14-_jpg.rf.2bc428feab9f0b6cbb5d3bc2bf06ecf5.txt  \n",
            "  inflating: /content/drive/MyDrive/knee/yolov7/valid/labels/stage3-17-_jpg.rf.09e0a26e1c55c42ef6628e2aac503efc.txt  \n",
            "  inflating: /content/drive/MyDrive/knee/yolov7/valid/labels/stage3-20-_jpg.rf.310a14c02615d6225b7f23082de272d0.txt  \n",
            "  inflating: /content/drive/MyDrive/knee/yolov7/valid/labels/stage3-21-_jpg.rf.b4320727c8dab2fab03615dbb6dacd4b.txt  \n",
            "  inflating: /content/drive/MyDrive/knee/yolov7/valid/labels/stage3-24-_jpg.rf.2ad3733e86d768e35c6ae883e2a40725.txt  \n",
            "  inflating: /content/drive/MyDrive/knee/yolov7/valid/labels/stage3-25-_jpg.rf.161634eb540ae3484011fe3637e22879.txt  \n",
            "  inflating: /content/drive/MyDrive/knee/yolov7/valid/labels/stage3-27-_jpg.rf.70a92ee89dcc5c175c76c554bd5fd6f9.txt  \n",
            "  inflating: /content/drive/MyDrive/knee/yolov7/valid/labels/stage3-29-_jpg.rf.1b5661d200547eb70b181e17e9e072bd.txt  \n",
            "  inflating: /content/drive/MyDrive/knee/yolov7/valid/labels/stage3-32-_jpg.rf.fe015995e5985b204ccb824c4158abca.txt  \n",
            "  inflating: /content/drive/MyDrive/knee/yolov7/valid/labels/stage3-33-_jpg.rf.d46b9d59b509636c225e17f57598eb21.txt  \n",
            "  inflating: /content/drive/MyDrive/knee/yolov7/valid/labels/stage3-39-_jpg.rf.fb17b56c087be794bfaa38324887d056.txt  \n",
            "  inflating: /content/drive/MyDrive/knee/yolov7/valid/labels/stage3-40-_jpg.rf.97d0814912cb2d6a374bdd755f4b7937.txt  \n",
            "  inflating: /content/drive/MyDrive/knee/yolov7/valid/labels/stage3-9-_jpg.rf.f4b1a71535359e43699a3191600d9d44.txt  \n",
            "   creating: /content/drive/MyDrive/knee/yolov5/\n",
            "  inflating: /content/drive/MyDrive/knee/yolov5/data.yaml  \n",
            "  inflating: /content/drive/MyDrive/knee/yolov5/README.dataset.txt  \n",
            "  inflating: /content/drive/MyDrive/knee/yolov5/README.roboflow.txt  \n",
            "   creating: /content/drive/MyDrive/knee/yolov5/train/\n",
            "   creating: /content/drive/MyDrive/knee/yolov5/train/images/\n",
            "  inflating: /content/drive/MyDrive/knee/yolov5/train/images/stage0-1-_jpg.rf.cbb266f1351e6ccc99355c8dcabc7756.jpg  \n",
            "  inflating: /content/drive/MyDrive/knee/yolov5/train/images/stage0-11-_jpg.rf.e47951ace75aefc9e58f436311654598.jpg  \n",
            "  inflating: /content/drive/MyDrive/knee/yolov5/train/images/stage0-13-_jpg.rf.eac47c10f798d57a655dba97b90ef1f9.jpg  \n",
            "  inflating: /content/drive/MyDrive/knee/yolov5/train/images/stage0-14-_jpg.rf.7a8369dc613046391eee2e32f073633d.jpg  \n",
            "  inflating: /content/drive/MyDrive/knee/yolov5/train/images/stage0-16-_jpg.rf.768f95713be59ecf1794e8a0507937ce.jpg  \n",
            "  inflating: /content/drive/MyDrive/knee/yolov5/train/images/stage0-17-_jpg.rf.105c953ba487b929419cbe2879a1f68c.jpg  \n",
            "  inflating: /content/drive/MyDrive/knee/yolov5/train/images/stage0-18-_jpg.rf.56f60b3b34797db92c7192326a03f755.jpg  \n",
            "  inflating: /content/drive/MyDrive/knee/yolov5/train/images/stage0-19-_jpg.rf.ee0795d7a83b9491d83e3c811022c960.jpg  \n",
            "  inflating: /content/drive/MyDrive/knee/yolov5/train/images/stage0-20-_jpg.rf.3b5b48639c81be223157805b765eb713.jpg  \n",
            "  inflating: /content/drive/MyDrive/knee/yolov5/train/images/stage0-22-_jpg.rf.f1aab5fc081a735d385b61d55561efbd.jpg  \n",
            "  inflating: /content/drive/MyDrive/knee/yolov5/train/images/stage0-23-_jpg.rf.88d9df2d77d6c1338f6566902b8e8544.jpg  \n",
            "  inflating: /content/drive/MyDrive/knee/yolov5/train/images/stage0-24-_jpg.rf.25841388cdead47ac2ddc2b430966d4d.jpg  \n",
            "  inflating: /content/drive/MyDrive/knee/yolov5/train/images/stage0-25-_jpg.rf.388ee90dfc1e1e1a249870a38101afae.jpg  \n",
            "  inflating: /content/drive/MyDrive/knee/yolov5/train/images/stage0-26-_jpg.rf.726db3b6a9b3bb3f0a6abdd9bd94c250.jpg  \n",
            "  inflating: /content/drive/MyDrive/knee/yolov5/train/images/stage0-27-_jpg.rf.6381f9bc2c1e9b918cdd728e1855d284.jpg  \n",
            "  inflating: /content/drive/MyDrive/knee/yolov5/train/images/stage0-28-_jpg.rf.f7ff68845ee145108a094ebc9641a8ef.jpg  \n",
            "  inflating: /content/drive/MyDrive/knee/yolov5/train/images/stage0-29-_jpg.rf.fda1a8a7473966f321c9dd2d6ba0d4a9.jpg  \n",
            "  inflating: /content/drive/MyDrive/knee/yolov5/train/images/stage0-3-_jpg.rf.86efbbe8687cfb788dc1dea59b7c64e5.jpg  \n",
            "  inflating: /content/drive/MyDrive/knee/yolov5/train/images/stage0-30-_jpg.rf.63b40fad2508719bbe0ba4d4d06436cf.jpg  \n",
            "  inflating: /content/drive/MyDrive/knee/yolov5/train/images/stage0-31-_jpg.rf.daeba303a5b491d3faef87ac039a535a.jpg  \n",
            "  inflating: /content/drive/MyDrive/knee/yolov5/train/images/stage0-32-_jpg.rf.66280864f3ae6a0736312c7cb3803c54.jpg  \n",
            "  inflating: /content/drive/MyDrive/knee/yolov5/train/images/stage0-34-_jpg.rf.d4c0fbb020705a577869857ee4626218.jpg  \n",
            "  inflating: /content/drive/MyDrive/knee/yolov5/train/images/stage0-37-_jpg.rf.f443a98225826b3124aff2ef1965d8d6.jpg  \n",
            "  inflating: /content/drive/MyDrive/knee/yolov5/train/images/stage0-39-_jpg.rf.4aae96741a6fb83e57ec4b05665a3df5.jpg  \n",
            "  inflating: /content/drive/MyDrive/knee/yolov5/train/images/stage0-4-_jpg.rf.e6b11bcedde514a7eab3ace634eaefd1.jpg  \n",
            "  inflating: /content/drive/MyDrive/knee/yolov5/train/images/stage0-40-_jpg.rf.11c2e326b1c8717909bea299719ed362.jpg  \n",
            "  inflating: /content/drive/MyDrive/knee/yolov5/train/images/stage0-5-_jpg.rf.d92bd80a7de00a4b3a418f15fc72edb1.jpg  \n",
            "  inflating: /content/drive/MyDrive/knee/yolov5/train/images/stage0-7-_jpg.rf.499d09aa2849c8664906d7323d5dc508.jpg  \n",
            "  inflating: /content/drive/MyDrive/knee/yolov5/train/images/stage0-8-_jpg.rf.24e5a3bbe186010f74bd205708295349.jpg  \n",
            "  inflating: /content/drive/MyDrive/knee/yolov5/train/images/stage1-1-_jpg.rf.3576a73225cc3e4b5a9d993b5179a677.jpg  \n",
            "  inflating: /content/drive/MyDrive/knee/yolov5/train/images/stage1-11-_jpg.rf.3ad2d356827277ff1437e136acfeeae2.jpg  \n",
            "  inflating: /content/drive/MyDrive/knee/yolov5/train/images/stage1-12-_jpg.rf.19894e2074adf25d736627d588872f7a.jpg  \n",
            "  inflating: /content/drive/MyDrive/knee/yolov5/train/images/stage1-14-_jpg.rf.ebe8b50e34c4256cb9e2d5975591f296.jpg  \n",
            "  inflating: /content/drive/MyDrive/knee/yolov5/train/images/stage1-15-_jpg.rf.33b235620966a424d32a732d6836e510.jpg  \n",
            "  inflating: /content/drive/MyDrive/knee/yolov5/train/images/stage1-16-_jpg.rf.9d22f7e033c9bd4709b8f11626d53aed.jpg  \n",
            "  inflating: /content/drive/MyDrive/knee/yolov5/train/images/stage1-17-_jpg.rf.c2c3ab87aeabd5a056e4031b80633db1.jpg  \n",
            "  inflating: /content/drive/MyDrive/knee/yolov5/train/images/stage1-18-_jpg.rf.df090117818adc60caa522ec2cbb75df.jpg  \n",
            "  inflating: /content/drive/MyDrive/knee/yolov5/train/images/stage1-20-_jpg.rf.a70235396e2ba456b1cb67fab4c36687.jpg  \n",
            "  inflating: /content/drive/MyDrive/knee/yolov5/train/images/stage1-21-_jpg.rf.dea56cf9414abc2e6c7bc6cf9f00f286.jpg  \n",
            "  inflating: /content/drive/MyDrive/knee/yolov5/train/images/stage1-22-_jpg.rf.1bd9b26dfbd4db94523f4b76a0cc6a02.jpg  \n",
            "  inflating: /content/drive/MyDrive/knee/yolov5/train/images/stage1-23-_jpg.rf.b76b0ce3df5bf95742d140171ce213af.jpg  \n",
            "  inflating: /content/drive/MyDrive/knee/yolov5/train/images/stage1-25-_jpg.rf.a2241fd48239cae2199400be64d3879f.jpg  \n",
            "  inflating: /content/drive/MyDrive/knee/yolov5/train/images/stage1-26-_jpg.rf.111170f3ba25b086a6d6a3014c7701d6.jpg  \n",
            "  inflating: /content/drive/MyDrive/knee/yolov5/train/images/stage1-27-_jpg.rf.3c76639f51413ae3a154a3cb2bc72b1b.jpg  \n",
            "  inflating: /content/drive/MyDrive/knee/yolov5/train/images/stage1-28-_jpg.rf.b3b9be17f4a67891e93294eb661c6d68.jpg  \n",
            "  inflating: /content/drive/MyDrive/knee/yolov5/train/images/stage1-29-_jpg.rf.6073b3e47e65f6c480acae5ea667577f.jpg  \n",
            "  inflating: /content/drive/MyDrive/knee/yolov5/train/images/stage1-3-_jpg.rf.292fb6216bafa6643206787f0d610e99.jpg  \n",
            "  inflating: /content/drive/MyDrive/knee/yolov5/train/images/stage1-30-_jpg.rf.74f5dbf4864909fed82f9d7632909a3a.jpg  \n",
            "  inflating: /content/drive/MyDrive/knee/yolov5/train/images/stage1-31-_jpg.rf.2a055dede99f0f75572b5539bc1059e0.jpg  \n",
            "  inflating: /content/drive/MyDrive/knee/yolov5/train/images/stage1-32-_jpg.rf.eed54a92ae9138d9ee9bfe2e170b1d96.jpg  \n",
            "  inflating: /content/drive/MyDrive/knee/yolov5/train/images/stage1-34-_jpg.rf.b28054b82ce010d3b1dba8487f833ade.jpg  \n",
            "  inflating: /content/drive/MyDrive/knee/yolov5/train/images/stage1-35-_jpg.rf.40117daba9d9826be7ee99ddda2c591c.jpg  \n",
            "  inflating: /content/drive/MyDrive/knee/yolov5/train/images/stage1-36-_jpg.rf.bad5b1d3ceab11f3785cdcef3bac4ff7.jpg  \n",
            "  inflating: /content/drive/MyDrive/knee/yolov5/train/images/stage1-39-_jpg.rf.0feaf4c89b93dce856cd2767a802c714.jpg  \n",
            "  inflating: /content/drive/MyDrive/knee/yolov5/train/images/stage1-4-_jpg.rf.7ce0ae18095db13a88ef8305f419d344.jpg  \n",
            "  inflating: /content/drive/MyDrive/knee/yolov5/train/images/stage1-40-_jpg.rf.1d073fd5c96021e5fd2d934c5618f1cb.jpg  \n",
            "  inflating: /content/drive/MyDrive/knee/yolov5/train/images/stage1-41-_jpg.rf.025df7945b36367d1b4f496052c087d7.jpg  \n",
            "  inflating: /content/drive/MyDrive/knee/yolov5/train/images/stage1-42-_jpg.rf.fa8aec3c061ee8568bc82e8456e7ff72.jpg  \n",
            "  inflating: /content/drive/MyDrive/knee/yolov5/train/images/stage1-43-_jpg.rf.94f28f35d89420697f59c636ff2ebafa.jpg  \n",
            "  inflating: /content/drive/MyDrive/knee/yolov5/train/images/stage1-44-_jpg.rf.040e595c3de1e068b06d0a7bdf034492.jpg  \n",
            "  inflating: /content/drive/MyDrive/knee/yolov5/train/images/stage1-47-_jpg.rf.7ddd328c3bd0a097fda8cc0ccd59bd64.jpg  \n",
            "  inflating: /content/drive/MyDrive/knee/yolov5/train/images/stage1-49-_jpg.rf.627d95284b6245ac611a0feee093e11c.jpg  \n",
            "  inflating: /content/drive/MyDrive/knee/yolov5/train/images/stage1-5-_jpg.rf.d0a029a621721e2c0d53b08543b938bf.jpg  \n",
            "  inflating: /content/drive/MyDrive/knee/yolov5/train/images/stage1-50-_jpg.rf.c764488828256d316418294dea63150c.jpg  \n",
            "  inflating: /content/drive/MyDrive/knee/yolov5/train/images/stage1-6-_jpg.rf.00f7c453f7621b0ffd951a433c297736.jpg  \n",
            "  inflating: /content/drive/MyDrive/knee/yolov5/train/images/stage1-7-_jpg.rf.14b4561010bc80ea6fbf04ac0e16fe5a.jpg  \n",
            "  inflating: /content/drive/MyDrive/knee/yolov5/train/images/stage1-8-_jpg.rf.91e02d1fe3bd8480f44c845047b6b9f2.jpg  \n",
            "  inflating: /content/drive/MyDrive/knee/yolov5/train/images/stage1-9-_jpg.rf.4ea9a75773987d190ea28de58efb2aa2.jpg  \n",
            "  inflating: /content/drive/MyDrive/knee/yolov5/train/images/stage2-1-_jpg.rf.1d43ee0d7c927e4374370e928168dd62.jpg  \n",
            "  inflating: /content/drive/MyDrive/knee/yolov5/train/images/stage2-10-_jpg.rf.6f8963bc66d65940aa0923540d026b12.jpg  \n",
            "  inflating: /content/drive/MyDrive/knee/yolov5/train/images/stage2-11-_jpg.rf.229c9dd3cfdca142cf0a2c0e96ca7354.jpg  \n",
            "  inflating: /content/drive/MyDrive/knee/yolov5/train/images/stage2-12-_jpg.rf.bdffc75f1c3660f6e4c8ad6ff169c56c.jpg  \n",
            "  inflating: /content/drive/MyDrive/knee/yolov5/train/images/stage2-13-_jpg.rf.d080de2db08ac58b828d84f80b4f5f5c.jpg  \n",
            "  inflating: /content/drive/MyDrive/knee/yolov5/train/images/stage2-15-_jpg.rf.9fd5acb8de99683934c2d993d2ea7574.jpg  \n",
            "  inflating: /content/drive/MyDrive/knee/yolov5/train/images/stage2-16-_jpg.rf.daf599b856f398e0d1b19b48a281ed31.jpg  \n",
            "  inflating: /content/drive/MyDrive/knee/yolov5/train/images/stage2-17-_jpg.rf.beb3f2cb4db2dcace29c64cdc5cc9e36.jpg  \n",
            "  inflating: /content/drive/MyDrive/knee/yolov5/train/images/stage2-2-_jpg.rf.313e328a6faba06ff8570b4fa068a0c3.jpg  \n",
            "  inflating: /content/drive/MyDrive/knee/yolov5/train/images/stage2-21-_jpg.rf.cc6c99673ae558e517854936fa47cae6.jpg  \n",
            "  inflating: /content/drive/MyDrive/knee/yolov5/train/images/stage2-23-_jpg.rf.ffca23f24ec80f250a14cc4cce6cfb09.jpg  \n",
            "  inflating: /content/drive/MyDrive/knee/yolov5/train/images/stage2-24-_jpg.rf.4c5a7a3209b25623da0e2a860ebb7dc6.jpg  \n",
            "  inflating: /content/drive/MyDrive/knee/yolov5/train/images/stage2-25-_jpg.rf.bca8fdee2741bcc95dcb4e7f3d6b0d8a.jpg  \n",
            "  inflating: /content/drive/MyDrive/knee/yolov5/train/images/stage2-26-_jpg.rf.108c798b31ed70f1780982b5e180d18c.jpg  \n",
            "  inflating: /content/drive/MyDrive/knee/yolov5/train/images/stage2-27-_jpg.rf.ab4b165195ac3b085ef0da3c25abcecc.jpg  \n",
            "  inflating: /content/drive/MyDrive/knee/yolov5/train/images/stage2-28-_jpg.rf.909ad83c269ff4d4bf1f6426a0013c4a.jpg  \n",
            "  inflating: /content/drive/MyDrive/knee/yolov5/train/images/stage2-29-_jpg.rf.51d7a51046b48f1f917faa40e3fb34e8.jpg  \n",
            "  inflating: /content/drive/MyDrive/knee/yolov5/train/images/stage2-31-_jpg.rf.7314e327b3cfb8ee040e7a50b0324c26.jpg  \n",
            "  inflating: /content/drive/MyDrive/knee/yolov5/train/images/stage2-33-_jpg.rf.1c66e8482caddfde4c092d258e970513.jpg  \n",
            "  inflating: /content/drive/MyDrive/knee/yolov5/train/images/stage2-34-_jpg.rf.499a5ff05b98d2e7955097f005ea6b5b.jpg  \n",
            "  inflating: /content/drive/MyDrive/knee/yolov5/train/images/stage2-35-_jpg.rf.661a7f68a60f9d32ed342dd03968861d.jpg  \n",
            "  inflating: /content/drive/MyDrive/knee/yolov5/train/images/stage2-36-_jpg.rf.815fcc4ab9ffcb337f10d2efe3cdadd7.jpg  \n",
            "  inflating: /content/drive/MyDrive/knee/yolov5/train/images/stage2-38-_jpg.rf.2c40ea7e4a119c663f67d68e7cd57813.jpg  \n",
            "  inflating: /content/drive/MyDrive/knee/yolov5/train/images/stage2-4-_jpg.rf.9e4fb22a94c2b3b4dba39fe97ca46ef7.jpg  \n",
            "  inflating: /content/drive/MyDrive/knee/yolov5/train/images/stage2-5-_jpg.rf.88ec511fa61517c411e39c68c5c17f6b.jpg  \n",
            "  inflating: /content/drive/MyDrive/knee/yolov5/train/images/stage2-6-_jpg.rf.d6138a4c1574eedd5c0d3bc0bfc8f9f6.jpg  \n",
            "  inflating: /content/drive/MyDrive/knee/yolov5/train/images/stage2-8-_jpg.rf.31f8d91615112be0facc5c176459601b.jpg  \n",
            "  inflating: /content/drive/MyDrive/knee/yolov5/train/images/stage3-1-_jpg.rf.4bc11626e3c6bd8eaea746f8a2576376.jpg  \n",
            "  inflating: /content/drive/MyDrive/knee/yolov5/train/images/stage3-10-_jpg.rf.e02a60d1a8865e899374de770f5fa67f.jpg  \n",
            "  inflating: /content/drive/MyDrive/knee/yolov5/train/images/stage3-11-_jpg.rf.5bb79ca10351532001173ae893ba5ff4.jpg  \n",
            "  inflating: /content/drive/MyDrive/knee/yolov5/train/images/stage3-12-_jpg.rf.579bc32d598ce9c76be0c4f340bca551.jpg  \n",
            "  inflating: /content/drive/MyDrive/knee/yolov5/train/images/stage3-13-_jpg.rf.d4d0c007243092b1af7efc02dd40d6fb.jpg  \n",
            "  inflating: /content/drive/MyDrive/knee/yolov5/train/images/stage3-15-_jpg.rf.c6eec090bae98d035da4f43952fb5e77.jpg  \n",
            "  inflating: /content/drive/MyDrive/knee/yolov5/train/images/stage3-16-_jpg.rf.9078e96eb82aff0a3202fbeff745960c.jpg  \n",
            "  inflating: /content/drive/MyDrive/knee/yolov5/train/images/stage3-18-_jpg.rf.b91436e1e68f139b4e279c2b575f75e0.jpg  \n",
            "  inflating: /content/drive/MyDrive/knee/yolov5/train/images/stage3-19-_jpg.rf.f5b2a8a21813f3dde47b77be4207fe30.jpg  \n",
            "  inflating: /content/drive/MyDrive/knee/yolov5/train/images/stage3-2-_jpg.rf.e1621de86db6614b256c702dcdf8b1d8.jpg  \n",
            "  inflating: /content/drive/MyDrive/knee/yolov5/train/images/stage3-22-_jpg.rf.ecb6c4024b307894df05f5aea94e0244.jpg  \n",
            "  inflating: /content/drive/MyDrive/knee/yolov5/train/images/stage3-23-_jpg.rf.e12398169459ee10874ec431f29145ed.jpg  \n",
            "  inflating: /content/drive/MyDrive/knee/yolov5/train/images/stage3-26-_jpg.rf.2922417bf835a2be918f9dd24aac5a66.jpg  \n",
            "  inflating: /content/drive/MyDrive/knee/yolov5/train/images/stage3-28-_jpg.rf.5098d556f3b37b7d498d4d41a9d4fa6a.jpg  \n",
            "  inflating: /content/drive/MyDrive/knee/yolov5/train/images/stage3-3-_jpg.rf.6318860e999ad95f38142f7006889a3f.jpg  \n",
            "  inflating: /content/drive/MyDrive/knee/yolov5/train/images/stage3-30-_jpg.rf.5e8e59a841e0987dd68e988b8ff7a1c6.jpg  \n",
            "  inflating: /content/drive/MyDrive/knee/yolov5/train/images/stage3-31-_jpg.rf.cbcea771538d775f6fa2f6bd62a0aaa1.jpg  \n",
            "  inflating: /content/drive/MyDrive/knee/yolov5/train/images/stage3-34-_jpg.rf.45b19c62f1ba1ac0e3dd91b66809713d.jpg  \n",
            "  inflating: /content/drive/MyDrive/knee/yolov5/train/images/stage3-35-_jpg.rf.34ff8fd1c9c12d420bc5c8726fcd8430.jpg  \n",
            "  inflating: /content/drive/MyDrive/knee/yolov5/train/images/stage3-36-_jpg.rf.fef808eb4f0f7921435296e5d79b3e44.jpg  \n",
            "  inflating: /content/drive/MyDrive/knee/yolov5/train/images/stage3-37-_jpg.rf.17184a02f6354e7d2630d43a797ddd70.jpg  \n",
            "  inflating: /content/drive/MyDrive/knee/yolov5/train/images/stage3-38-_jpg.rf.61bf5e36c247fd87e7484d5583303857.jpg  \n",
            "  inflating: /content/drive/MyDrive/knee/yolov5/train/images/stage3-4-_jpg.rf.d88fea6b0639a4781a99962f410e6d58.jpg  \n",
            "  inflating: /content/drive/MyDrive/knee/yolov5/train/images/stage3-5-_jpg.rf.f17c8d80e75cdd295aeaf15a8917930e.jpg  \n",
            "  inflating: /content/drive/MyDrive/knee/yolov5/train/images/stage3-6-_jpg.rf.f388ceb8b4d13ef5a7593d19d18718ce.jpg  \n",
            "  inflating: /content/drive/MyDrive/knee/yolov5/train/images/stage3-7-_jpg.rf.61988d5d39b05cfcc81624d6aea45089.jpg  \n",
            "  inflating: /content/drive/MyDrive/knee/yolov5/train/images/stage3-8-_jpg.rf.67a78d1b035bc309e387258b045f010e.jpg  \n",
            "   creating: /content/drive/MyDrive/knee/yolov5/train/labels/\n",
            "  inflating: /content/drive/MyDrive/knee/yolov5/train/labels/stage0-1-_jpg.rf.cbb266f1351e6ccc99355c8dcabc7756.txt  \n",
            "  inflating: /content/drive/MyDrive/knee/yolov5/train/labels/stage0-11-_jpg.rf.e47951ace75aefc9e58f436311654598.txt  \n",
            "  inflating: /content/drive/MyDrive/knee/yolov5/train/labels/stage0-13-_jpg.rf.eac47c10f798d57a655dba97b90ef1f9.txt  \n",
            "  inflating: /content/drive/MyDrive/knee/yolov5/train/labels/stage0-14-_jpg.rf.7a8369dc613046391eee2e32f073633d.txt  \n",
            "  inflating: /content/drive/MyDrive/knee/yolov5/train/labels/stage0-16-_jpg.rf.768f95713be59ecf1794e8a0507937ce.txt  \n",
            "  inflating: /content/drive/MyDrive/knee/yolov5/train/labels/stage0-17-_jpg.rf.105c953ba487b929419cbe2879a1f68c.txt  \n",
            "  inflating: /content/drive/MyDrive/knee/yolov5/train/labels/stage0-18-_jpg.rf.56f60b3b34797db92c7192326a03f755.txt  \n",
            "  inflating: /content/drive/MyDrive/knee/yolov5/train/labels/stage0-19-_jpg.rf.ee0795d7a83b9491d83e3c811022c960.txt  \n",
            "  inflating: /content/drive/MyDrive/knee/yolov5/train/labels/stage0-20-_jpg.rf.3b5b48639c81be223157805b765eb713.txt  \n",
            "  inflating: /content/drive/MyDrive/knee/yolov5/train/labels/stage0-22-_jpg.rf.f1aab5fc081a735d385b61d55561efbd.txt  \n",
            "  inflating: /content/drive/MyDrive/knee/yolov5/train/labels/stage0-23-_jpg.rf.88d9df2d77d6c1338f6566902b8e8544.txt  \n",
            "  inflating: /content/drive/MyDrive/knee/yolov5/train/labels/stage0-24-_jpg.rf.25841388cdead47ac2ddc2b430966d4d.txt  \n",
            "  inflating: /content/drive/MyDrive/knee/yolov5/train/labels/stage0-25-_jpg.rf.388ee90dfc1e1e1a249870a38101afae.txt  \n",
            "  inflating: /content/drive/MyDrive/knee/yolov5/train/labels/stage0-26-_jpg.rf.726db3b6a9b3bb3f0a6abdd9bd94c250.txt  \n",
            "  inflating: /content/drive/MyDrive/knee/yolov5/train/labels/stage0-27-_jpg.rf.6381f9bc2c1e9b918cdd728e1855d284.txt  \n",
            "  inflating: /content/drive/MyDrive/knee/yolov5/train/labels/stage0-28-_jpg.rf.f7ff68845ee145108a094ebc9641a8ef.txt  \n",
            "  inflating: /content/drive/MyDrive/knee/yolov5/train/labels/stage0-29-_jpg.rf.fda1a8a7473966f321c9dd2d6ba0d4a9.txt  \n",
            "  inflating: /content/drive/MyDrive/knee/yolov5/train/labels/stage0-3-_jpg.rf.86efbbe8687cfb788dc1dea59b7c64e5.txt  \n",
            "  inflating: /content/drive/MyDrive/knee/yolov5/train/labels/stage0-30-_jpg.rf.63b40fad2508719bbe0ba4d4d06436cf.txt  \n",
            "  inflating: /content/drive/MyDrive/knee/yolov5/train/labels/stage0-31-_jpg.rf.daeba303a5b491d3faef87ac039a535a.txt  \n",
            "  inflating: /content/drive/MyDrive/knee/yolov5/train/labels/stage0-32-_jpg.rf.66280864f3ae6a0736312c7cb3803c54.txt  \n",
            "  inflating: /content/drive/MyDrive/knee/yolov5/train/labels/stage0-34-_jpg.rf.d4c0fbb020705a577869857ee4626218.txt  \n",
            "  inflating: /content/drive/MyDrive/knee/yolov5/train/labels/stage0-37-_jpg.rf.f443a98225826b3124aff2ef1965d8d6.txt  \n",
            "  inflating: /content/drive/MyDrive/knee/yolov5/train/labels/stage0-39-_jpg.rf.4aae96741a6fb83e57ec4b05665a3df5.txt  \n",
            "  inflating: /content/drive/MyDrive/knee/yolov5/train/labels/stage0-4-_jpg.rf.e6b11bcedde514a7eab3ace634eaefd1.txt  \n",
            "  inflating: /content/drive/MyDrive/knee/yolov5/train/labels/stage0-40-_jpg.rf.11c2e326b1c8717909bea299719ed362.txt  \n",
            "  inflating: /content/drive/MyDrive/knee/yolov5/train/labels/stage0-5-_jpg.rf.d92bd80a7de00a4b3a418f15fc72edb1.txt  \n",
            "  inflating: /content/drive/MyDrive/knee/yolov5/train/labels/stage0-7-_jpg.rf.499d09aa2849c8664906d7323d5dc508.txt  \n",
            "  inflating: /content/drive/MyDrive/knee/yolov5/train/labels/stage0-8-_jpg.rf.24e5a3bbe186010f74bd205708295349.txt  \n",
            "  inflating: /content/drive/MyDrive/knee/yolov5/train/labels/stage1-1-_jpg.rf.3576a73225cc3e4b5a9d993b5179a677.txt  \n",
            "  inflating: /content/drive/MyDrive/knee/yolov5/train/labels/stage1-11-_jpg.rf.3ad2d356827277ff1437e136acfeeae2.txt  \n",
            "  inflating: /content/drive/MyDrive/knee/yolov5/train/labels/stage1-12-_jpg.rf.19894e2074adf25d736627d588872f7a.txt  \n",
            "  inflating: /content/drive/MyDrive/knee/yolov5/train/labels/stage1-14-_jpg.rf.ebe8b50e34c4256cb9e2d5975591f296.txt  \n",
            "  inflating: /content/drive/MyDrive/knee/yolov5/train/labels/stage1-15-_jpg.rf.33b235620966a424d32a732d6836e510.txt  \n",
            "  inflating: /content/drive/MyDrive/knee/yolov5/train/labels/stage1-16-_jpg.rf.9d22f7e033c9bd4709b8f11626d53aed.txt  \n",
            "  inflating: /content/drive/MyDrive/knee/yolov5/train/labels/stage1-17-_jpg.rf.c2c3ab87aeabd5a056e4031b80633db1.txt  \n",
            "  inflating: /content/drive/MyDrive/knee/yolov5/train/labels/stage1-18-_jpg.rf.df090117818adc60caa522ec2cbb75df.txt  \n",
            "  inflating: /content/drive/MyDrive/knee/yolov5/train/labels/stage1-20-_jpg.rf.a70235396e2ba456b1cb67fab4c36687.txt  \n",
            "  inflating: /content/drive/MyDrive/knee/yolov5/train/labels/stage1-21-_jpg.rf.dea56cf9414abc2e6c7bc6cf9f00f286.txt  \n",
            "  inflating: /content/drive/MyDrive/knee/yolov5/train/labels/stage1-22-_jpg.rf.1bd9b26dfbd4db94523f4b76a0cc6a02.txt  \n",
            "  inflating: /content/drive/MyDrive/knee/yolov5/train/labels/stage1-23-_jpg.rf.b76b0ce3df5bf95742d140171ce213af.txt  \n",
            "  inflating: /content/drive/MyDrive/knee/yolov5/train/labels/stage1-25-_jpg.rf.a2241fd48239cae2199400be64d3879f.txt  \n",
            "  inflating: /content/drive/MyDrive/knee/yolov5/train/labels/stage1-26-_jpg.rf.111170f3ba25b086a6d6a3014c7701d6.txt  \n",
            "  inflating: /content/drive/MyDrive/knee/yolov5/train/labels/stage1-27-_jpg.rf.3c76639f51413ae3a154a3cb2bc72b1b.txt  \n",
            "  inflating: /content/drive/MyDrive/knee/yolov5/train/labels/stage1-28-_jpg.rf.b3b9be17f4a67891e93294eb661c6d68.txt  \n",
            "  inflating: /content/drive/MyDrive/knee/yolov5/train/labels/stage1-29-_jpg.rf.6073b3e47e65f6c480acae5ea667577f.txt  \n",
            "  inflating: /content/drive/MyDrive/knee/yolov5/train/labels/stage1-3-_jpg.rf.292fb6216bafa6643206787f0d610e99.txt  \n",
            "  inflating: /content/drive/MyDrive/knee/yolov5/train/labels/stage1-30-_jpg.rf.74f5dbf4864909fed82f9d7632909a3a.txt  \n",
            "  inflating: /content/drive/MyDrive/knee/yolov5/train/labels/stage1-31-_jpg.rf.2a055dede99f0f75572b5539bc1059e0.txt  \n",
            "  inflating: /content/drive/MyDrive/knee/yolov5/train/labels/stage1-32-_jpg.rf.eed54a92ae9138d9ee9bfe2e170b1d96.txt  \n",
            "  inflating: /content/drive/MyDrive/knee/yolov5/train/labels/stage1-34-_jpg.rf.b28054b82ce010d3b1dba8487f833ade.txt  \n",
            "  inflating: /content/drive/MyDrive/knee/yolov5/train/labels/stage1-35-_jpg.rf.40117daba9d9826be7ee99ddda2c591c.txt  \n",
            "  inflating: /content/drive/MyDrive/knee/yolov5/train/labels/stage1-36-_jpg.rf.bad5b1d3ceab11f3785cdcef3bac4ff7.txt  \n",
            "  inflating: /content/drive/MyDrive/knee/yolov5/train/labels/stage1-39-_jpg.rf.0feaf4c89b93dce856cd2767a802c714.txt  \n",
            "  inflating: /content/drive/MyDrive/knee/yolov5/train/labels/stage1-4-_jpg.rf.7ce0ae18095db13a88ef8305f419d344.txt  \n",
            "  inflating: /content/drive/MyDrive/knee/yolov5/train/labels/stage1-40-_jpg.rf.1d073fd5c96021e5fd2d934c5618f1cb.txt  \n",
            "  inflating: /content/drive/MyDrive/knee/yolov5/train/labels/stage1-41-_jpg.rf.025df7945b36367d1b4f496052c087d7.txt  \n",
            "  inflating: /content/drive/MyDrive/knee/yolov5/train/labels/stage1-42-_jpg.rf.fa8aec3c061ee8568bc82e8456e7ff72.txt  \n",
            "  inflating: /content/drive/MyDrive/knee/yolov5/train/labels/stage1-43-_jpg.rf.94f28f35d89420697f59c636ff2ebafa.txt  \n",
            "  inflating: /content/drive/MyDrive/knee/yolov5/train/labels/stage1-44-_jpg.rf.040e595c3de1e068b06d0a7bdf034492.txt  \n",
            "  inflating: /content/drive/MyDrive/knee/yolov5/train/labels/stage1-47-_jpg.rf.7ddd328c3bd0a097fda8cc0ccd59bd64.txt  \n",
            "  inflating: /content/drive/MyDrive/knee/yolov5/train/labels/stage1-49-_jpg.rf.627d95284b6245ac611a0feee093e11c.txt  \n",
            "  inflating: /content/drive/MyDrive/knee/yolov5/train/labels/stage1-5-_jpg.rf.d0a029a621721e2c0d53b08543b938bf.txt  \n",
            "  inflating: /content/drive/MyDrive/knee/yolov5/train/labels/stage1-50-_jpg.rf.c764488828256d316418294dea63150c.txt  \n",
            "  inflating: /content/drive/MyDrive/knee/yolov5/train/labels/stage1-6-_jpg.rf.00f7c453f7621b0ffd951a433c297736.txt  \n",
            "  inflating: /content/drive/MyDrive/knee/yolov5/train/labels/stage1-7-_jpg.rf.14b4561010bc80ea6fbf04ac0e16fe5a.txt  \n",
            "  inflating: /content/drive/MyDrive/knee/yolov5/train/labels/stage1-8-_jpg.rf.91e02d1fe3bd8480f44c845047b6b9f2.txt  \n",
            "  inflating: /content/drive/MyDrive/knee/yolov5/train/labels/stage1-9-_jpg.rf.4ea9a75773987d190ea28de58efb2aa2.txt  \n",
            "  inflating: /content/drive/MyDrive/knee/yolov5/train/labels/stage2-1-_jpg.rf.1d43ee0d7c927e4374370e928168dd62.txt  \n",
            "  inflating: /content/drive/MyDrive/knee/yolov5/train/labels/stage2-10-_jpg.rf.6f8963bc66d65940aa0923540d026b12.txt  \n",
            "  inflating: /content/drive/MyDrive/knee/yolov5/train/labels/stage2-11-_jpg.rf.229c9dd3cfdca142cf0a2c0e96ca7354.txt  \n",
            "  inflating: /content/drive/MyDrive/knee/yolov5/train/labels/stage2-12-_jpg.rf.bdffc75f1c3660f6e4c8ad6ff169c56c.txt  \n",
            "  inflating: /content/drive/MyDrive/knee/yolov5/train/labels/stage2-13-_jpg.rf.d080de2db08ac58b828d84f80b4f5f5c.txt  \n",
            "  inflating: /content/drive/MyDrive/knee/yolov5/train/labels/stage2-15-_jpg.rf.9fd5acb8de99683934c2d993d2ea7574.txt  \n",
            "  inflating: /content/drive/MyDrive/knee/yolov5/train/labels/stage2-16-_jpg.rf.daf599b856f398e0d1b19b48a281ed31.txt  \n",
            "  inflating: /content/drive/MyDrive/knee/yolov5/train/labels/stage2-17-_jpg.rf.beb3f2cb4db2dcace29c64cdc5cc9e36.txt  \n",
            "  inflating: /content/drive/MyDrive/knee/yolov5/train/labels/stage2-2-_jpg.rf.313e328a6faba06ff8570b4fa068a0c3.txt  \n",
            "  inflating: /content/drive/MyDrive/knee/yolov5/train/labels/stage2-21-_jpg.rf.cc6c99673ae558e517854936fa47cae6.txt  \n",
            "  inflating: /content/drive/MyDrive/knee/yolov5/train/labels/stage2-23-_jpg.rf.ffca23f24ec80f250a14cc4cce6cfb09.txt  \n",
            "  inflating: /content/drive/MyDrive/knee/yolov5/train/labels/stage2-24-_jpg.rf.4c5a7a3209b25623da0e2a860ebb7dc6.txt  \n",
            "  inflating: /content/drive/MyDrive/knee/yolov5/train/labels/stage2-25-_jpg.rf.bca8fdee2741bcc95dcb4e7f3d6b0d8a.txt  \n",
            "  inflating: /content/drive/MyDrive/knee/yolov5/train/labels/stage2-26-_jpg.rf.108c798b31ed70f1780982b5e180d18c.txt  \n",
            "  inflating: /content/drive/MyDrive/knee/yolov5/train/labels/stage2-27-_jpg.rf.ab4b165195ac3b085ef0da3c25abcecc.txt  \n",
            "  inflating: /content/drive/MyDrive/knee/yolov5/train/labels/stage2-28-_jpg.rf.909ad83c269ff4d4bf1f6426a0013c4a.txt  \n",
            "  inflating: /content/drive/MyDrive/knee/yolov5/train/labels/stage2-29-_jpg.rf.51d7a51046b48f1f917faa40e3fb34e8.txt  \n",
            "  inflating: /content/drive/MyDrive/knee/yolov5/train/labels/stage2-31-_jpg.rf.7314e327b3cfb8ee040e7a50b0324c26.txt  \n",
            "  inflating: /content/drive/MyDrive/knee/yolov5/train/labels/stage2-33-_jpg.rf.1c66e8482caddfde4c092d258e970513.txt  \n",
            "  inflating: /content/drive/MyDrive/knee/yolov5/train/labels/stage2-34-_jpg.rf.499a5ff05b98d2e7955097f005ea6b5b.txt  \n",
            "  inflating: /content/drive/MyDrive/knee/yolov5/train/labels/stage2-35-_jpg.rf.661a7f68a60f9d32ed342dd03968861d.txt  \n",
            "  inflating: /content/drive/MyDrive/knee/yolov5/train/labels/stage2-36-_jpg.rf.815fcc4ab9ffcb337f10d2efe3cdadd7.txt  \n",
            "  inflating: /content/drive/MyDrive/knee/yolov5/train/labels/stage2-38-_jpg.rf.2c40ea7e4a119c663f67d68e7cd57813.txt  \n",
            "  inflating: /content/drive/MyDrive/knee/yolov5/train/labels/stage2-4-_jpg.rf.9e4fb22a94c2b3b4dba39fe97ca46ef7.txt  \n",
            "  inflating: /content/drive/MyDrive/knee/yolov5/train/labels/stage2-5-_jpg.rf.88ec511fa61517c411e39c68c5c17f6b.txt  \n",
            "  inflating: /content/drive/MyDrive/knee/yolov5/train/labels/stage2-6-_jpg.rf.d6138a4c1574eedd5c0d3bc0bfc8f9f6.txt  \n",
            "  inflating: /content/drive/MyDrive/knee/yolov5/train/labels/stage2-8-_jpg.rf.31f8d91615112be0facc5c176459601b.txt  \n",
            "  inflating: /content/drive/MyDrive/knee/yolov5/train/labels/stage3-1-_jpg.rf.4bc11626e3c6bd8eaea746f8a2576376.txt  \n",
            "  inflating: /content/drive/MyDrive/knee/yolov5/train/labels/stage3-10-_jpg.rf.e02a60d1a8865e899374de770f5fa67f.txt  \n",
            "  inflating: /content/drive/MyDrive/knee/yolov5/train/labels/stage3-11-_jpg.rf.5bb79ca10351532001173ae893ba5ff4.txt  \n",
            "  inflating: /content/drive/MyDrive/knee/yolov5/train/labels/stage3-12-_jpg.rf.579bc32d598ce9c76be0c4f340bca551.txt  \n",
            "  inflating: /content/drive/MyDrive/knee/yolov5/train/labels/stage3-13-_jpg.rf.d4d0c007243092b1af7efc02dd40d6fb.txt  \n",
            "  inflating: /content/drive/MyDrive/knee/yolov5/train/labels/stage3-15-_jpg.rf.c6eec090bae98d035da4f43952fb5e77.txt  \n",
            "  inflating: /content/drive/MyDrive/knee/yolov5/train/labels/stage3-16-_jpg.rf.9078e96eb82aff0a3202fbeff745960c.txt  \n",
            "  inflating: /content/drive/MyDrive/knee/yolov5/train/labels/stage3-18-_jpg.rf.b91436e1e68f139b4e279c2b575f75e0.txt  \n",
            "  inflating: /content/drive/MyDrive/knee/yolov5/train/labels/stage3-19-_jpg.rf.f5b2a8a21813f3dde47b77be4207fe30.txt  \n",
            "  inflating: /content/drive/MyDrive/knee/yolov5/train/labels/stage3-2-_jpg.rf.e1621de86db6614b256c702dcdf8b1d8.txt  \n",
            "  inflating: /content/drive/MyDrive/knee/yolov5/train/labels/stage3-22-_jpg.rf.ecb6c4024b307894df05f5aea94e0244.txt  \n",
            "  inflating: /content/drive/MyDrive/knee/yolov5/train/labels/stage3-23-_jpg.rf.e12398169459ee10874ec431f29145ed.txt  \n",
            "  inflating: /content/drive/MyDrive/knee/yolov5/train/labels/stage3-26-_jpg.rf.2922417bf835a2be918f9dd24aac5a66.txt  \n",
            "  inflating: /content/drive/MyDrive/knee/yolov5/train/labels/stage3-28-_jpg.rf.5098d556f3b37b7d498d4d41a9d4fa6a.txt  \n",
            "  inflating: /content/drive/MyDrive/knee/yolov5/train/labels/stage3-3-_jpg.rf.6318860e999ad95f38142f7006889a3f.txt  \n",
            "  inflating: /content/drive/MyDrive/knee/yolov5/train/labels/stage3-30-_jpg.rf.5e8e59a841e0987dd68e988b8ff7a1c6.txt  \n",
            "  inflating: /content/drive/MyDrive/knee/yolov5/train/labels/stage3-31-_jpg.rf.cbcea771538d775f6fa2f6bd62a0aaa1.txt  \n",
            "  inflating: /content/drive/MyDrive/knee/yolov5/train/labels/stage3-34-_jpg.rf.45b19c62f1ba1ac0e3dd91b66809713d.txt  \n",
            "  inflating: /content/drive/MyDrive/knee/yolov5/train/labels/stage3-35-_jpg.rf.34ff8fd1c9c12d420bc5c8726fcd8430.txt  \n",
            "  inflating: /content/drive/MyDrive/knee/yolov5/train/labels/stage3-36-_jpg.rf.fef808eb4f0f7921435296e5d79b3e44.txt  \n",
            "  inflating: /content/drive/MyDrive/knee/yolov5/train/labels/stage3-37-_jpg.rf.17184a02f6354e7d2630d43a797ddd70.txt  \n",
            "  inflating: /content/drive/MyDrive/knee/yolov5/train/labels/stage3-38-_jpg.rf.61bf5e36c247fd87e7484d5583303857.txt  \n",
            "  inflating: /content/drive/MyDrive/knee/yolov5/train/labels/stage3-4-_jpg.rf.d88fea6b0639a4781a99962f410e6d58.txt  \n",
            "  inflating: /content/drive/MyDrive/knee/yolov5/train/labels/stage3-5-_jpg.rf.f17c8d80e75cdd295aeaf15a8917930e.txt  \n",
            "  inflating: /content/drive/MyDrive/knee/yolov5/train/labels/stage3-6-_jpg.rf.f388ceb8b4d13ef5a7593d19d18718ce.txt  \n",
            "  inflating: /content/drive/MyDrive/knee/yolov5/train/labels/stage3-7-_jpg.rf.61988d5d39b05cfcc81624d6aea45089.txt  \n",
            "  inflating: /content/drive/MyDrive/knee/yolov5/train/labels/stage3-8-_jpg.rf.67a78d1b035bc309e387258b045f010e.txt  \n",
            "   creating: /content/drive/MyDrive/knee/yolov5/valid/\n",
            "   creating: /content/drive/MyDrive/knee/yolov5/valid/images/\n",
            "  inflating: /content/drive/MyDrive/knee/yolov5/valid/images/stage0-10-_jpg.rf.9bab984c796c7ebea9fab26f584e3e17.jpg  \n",
            "  inflating: /content/drive/MyDrive/knee/yolov5/valid/images/stage0-12-_jpg.rf.ac132ce66831d9d5540d034098fe438a.jpg  \n",
            "  inflating: /content/drive/MyDrive/knee/yolov5/valid/images/stage0-15-_jpg.rf.36faabf95573cd43f7a02c1e5a3717fc.jpg  \n",
            "  inflating: /content/drive/MyDrive/knee/yolov5/valid/images/stage0-2-_jpg.rf.0b31fc31badbac2f892776dff04b0a70.jpg  \n",
            "  inflating: /content/drive/MyDrive/knee/yolov5/valid/images/stage0-21-_jpg.rf.9605b85cb4516ed3ccd25c07b74b89b4.jpg  \n",
            "  inflating: /content/drive/MyDrive/knee/yolov5/valid/images/stage0-33-_jpg.rf.7275c00aac9769550a8bb2121a4e963a.jpg  \n",
            "  inflating: /content/drive/MyDrive/knee/yolov5/valid/images/stage0-35-_jpg.rf.ae4cbde97e7b534ecd3303a54700142e.jpg  \n",
            "  inflating: /content/drive/MyDrive/knee/yolov5/valid/images/stage0-36-_jpg.rf.839f673e9c1ac9c10f6511605998b13f.jpg  \n",
            "  inflating: /content/drive/MyDrive/knee/yolov5/valid/images/stage0-38-_jpg.rf.dd9581b23979766146d24278171301bc.jpg  \n",
            "  inflating: /content/drive/MyDrive/knee/yolov5/valid/images/stage0-6-_jpg.rf.4cf18ea495fe66a0c6854cb3a6f3f5ee.jpg  \n",
            "  inflating: /content/drive/MyDrive/knee/yolov5/valid/images/stage0-9-_jpg.rf.64a8e99774e50804127865ffd3e78e9b.jpg  \n",
            "  inflating: /content/drive/MyDrive/knee/yolov5/valid/images/stage1-10-_jpg.rf.78c626ea4eb666676c4e9e0a88cb5c89.jpg  \n",
            "  inflating: /content/drive/MyDrive/knee/yolov5/valid/images/stage1-13-_jpg.rf.fbdb24495a9b57f683e63c87f1b8fb2b.jpg  \n",
            "  inflating: /content/drive/MyDrive/knee/yolov5/valid/images/stage1-19-_jpg.rf.93bbc7c206f1e0cd9d117bf3d5f6c614.jpg  \n",
            "  inflating: /content/drive/MyDrive/knee/yolov5/valid/images/stage1-2-_jpg.rf.b2605a0f0a67163ed57ca52e6d64b771.jpg  \n",
            "  inflating: /content/drive/MyDrive/knee/yolov5/valid/images/stage1-24-_jpg.rf.6ca13069ba04e5e4191c5f67849b2f5b.jpg  \n",
            "  inflating: /content/drive/MyDrive/knee/yolov5/valid/images/stage1-33-_jpg.rf.43be807f3d0e98043470f66a7853768b.jpg  \n",
            "  inflating: /content/drive/MyDrive/knee/yolov5/valid/images/stage1-37-_jpg.rf.f980707456648f31eee481cfaec96310.jpg  \n",
            "  inflating: /content/drive/MyDrive/knee/yolov5/valid/images/stage1-38-_jpg.rf.bb86c60512df7505eac5d4efd13ce473.jpg  \n",
            "  inflating: /content/drive/MyDrive/knee/yolov5/valid/images/stage1-45-_jpg.rf.b8e4b225cff0e3f46a77dc6f9f785433.jpg  \n",
            "  inflating: /content/drive/MyDrive/knee/yolov5/valid/images/stage1-46-_jpg.rf.039e34e5b9a106b30f3cfc31ef3501c2.jpg  \n",
            "  inflating: /content/drive/MyDrive/knee/yolov5/valid/images/stage1-48-_jpg.rf.da72ed5042dcef58eca45732827d906d.jpg  \n",
            "  inflating: /content/drive/MyDrive/knee/yolov5/valid/images/stage2-14-_jpg.rf.9d9f22501f582b0f2c440366a9292fd4.jpg  \n",
            "  inflating: /content/drive/MyDrive/knee/yolov5/valid/images/stage2-18-_jpg.rf.a18c95979640ff052fb2d1a6ee8dde15.jpg  \n",
            "  inflating: /content/drive/MyDrive/knee/yolov5/valid/images/stage2-19-_jpg.rf.aff8b223a08aaf88238713b380e74e8d.jpg  \n",
            "  inflating: /content/drive/MyDrive/knee/yolov5/valid/images/stage2-20-_jpg.rf.6d49b4dc70b0fff748f5bea17e8f6a45.jpg  \n",
            "  inflating: /content/drive/MyDrive/knee/yolov5/valid/images/stage2-22-_jpg.rf.5b4bb35875bb53e20d9b0d8e8367e019.jpg  \n",
            "  inflating: /content/drive/MyDrive/knee/yolov5/valid/images/stage2-3-_jpg.rf.3a097dc3f4fdba8baff77739d308547b.jpg  \n",
            "  inflating: /content/drive/MyDrive/knee/yolov5/valid/images/stage2-30-_jpg.rf.58f1306a03187497fbd7140056551c1c.jpg  \n",
            "  inflating: /content/drive/MyDrive/knee/yolov5/valid/images/stage2-32-_jpg.rf.70062bef7f1a1e2ae36225c41b3dd8a0.jpg  \n",
            "  inflating: /content/drive/MyDrive/knee/yolov5/valid/images/stage2-37-_jpg.rf.8f7a24b62de58fc953d2621317edb94a.jpg  \n",
            "  inflating: /content/drive/MyDrive/knee/yolov5/valid/images/stage2-39-_jpg.rf.83d3b04249a8d2a0b4a3979495a0ed8e.jpg  \n",
            "  inflating: /content/drive/MyDrive/knee/yolov5/valid/images/stage2-40-_jpg.rf.392ed6bb5545252883f0ddde5c8bd90c.jpg  \n",
            "  inflating: /content/drive/MyDrive/knee/yolov5/valid/images/stage2-7-_jpg.rf.11fa7df3234fddcf7e0acde3ed621670.jpg  \n",
            "  inflating: /content/drive/MyDrive/knee/yolov5/valid/images/stage2-9-_jpg.rf.29fd1eaa63f713c0bd2e73e888804598.jpg  \n",
            "  inflating: /content/drive/MyDrive/knee/yolov5/valid/images/stage3-14-_jpg.rf.2bc428feab9f0b6cbb5d3bc2bf06ecf5.jpg  \n",
            "  inflating: /content/drive/MyDrive/knee/yolov5/valid/images/stage3-17-_jpg.rf.09e0a26e1c55c42ef6628e2aac503efc.jpg  \n",
            "  inflating: /content/drive/MyDrive/knee/yolov5/valid/images/stage3-20-_jpg.rf.310a14c02615d6225b7f23082de272d0.jpg  \n",
            "  inflating: /content/drive/MyDrive/knee/yolov5/valid/images/stage3-21-_jpg.rf.b4320727c8dab2fab03615dbb6dacd4b.jpg  \n",
            "  inflating: /content/drive/MyDrive/knee/yolov5/valid/images/stage3-24-_jpg.rf.2ad3733e86d768e35c6ae883e2a40725.jpg  \n",
            "  inflating: /content/drive/MyDrive/knee/yolov5/valid/images/stage3-25-_jpg.rf.161634eb540ae3484011fe3637e22879.jpg  \n",
            "  inflating: /content/drive/MyDrive/knee/yolov5/valid/images/stage3-27-_jpg.rf.70a92ee89dcc5c175c76c554bd5fd6f9.jpg  \n",
            "  inflating: /content/drive/MyDrive/knee/yolov5/valid/images/stage3-29-_jpg.rf.1b5661d200547eb70b181e17e9e072bd.jpg  \n",
            "  inflating: /content/drive/MyDrive/knee/yolov5/valid/images/stage3-32-_jpg.rf.fe015995e5985b204ccb824c4158abca.jpg  \n",
            "  inflating: /content/drive/MyDrive/knee/yolov5/valid/images/stage3-33-_jpg.rf.d46b9d59b509636c225e17f57598eb21.jpg  \n",
            "  inflating: /content/drive/MyDrive/knee/yolov5/valid/images/stage3-39-_jpg.rf.fb17b56c087be794bfaa38324887d056.jpg  \n",
            "  inflating: /content/drive/MyDrive/knee/yolov5/valid/images/stage3-40-_jpg.rf.97d0814912cb2d6a374bdd755f4b7937.jpg  \n",
            "  inflating: /content/drive/MyDrive/knee/yolov5/valid/images/stage3-9-_jpg.rf.f4b1a71535359e43699a3191600d9d44.jpg  \n",
            "   creating: /content/drive/MyDrive/knee/yolov5/valid/labels/\n",
            "  inflating: /content/drive/MyDrive/knee/yolov5/valid/labels/stage0-10-_jpg.rf.9bab984c796c7ebea9fab26f584e3e17.txt  \n",
            "  inflating: /content/drive/MyDrive/knee/yolov5/valid/labels/stage0-12-_jpg.rf.ac132ce66831d9d5540d034098fe438a.txt  \n",
            "  inflating: /content/drive/MyDrive/knee/yolov5/valid/labels/stage0-15-_jpg.rf.36faabf95573cd43f7a02c1e5a3717fc.txt  \n",
            "  inflating: /content/drive/MyDrive/knee/yolov5/valid/labels/stage0-2-_jpg.rf.0b31fc31badbac2f892776dff04b0a70.txt  \n",
            "  inflating: /content/drive/MyDrive/knee/yolov5/valid/labels/stage0-21-_jpg.rf.9605b85cb4516ed3ccd25c07b74b89b4.txt  \n",
            "  inflating: /content/drive/MyDrive/knee/yolov5/valid/labels/stage0-33-_jpg.rf.7275c00aac9769550a8bb2121a4e963a.txt  \n",
            "  inflating: /content/drive/MyDrive/knee/yolov5/valid/labels/stage0-35-_jpg.rf.ae4cbde97e7b534ecd3303a54700142e.txt  \n",
            "  inflating: /content/drive/MyDrive/knee/yolov5/valid/labels/stage0-36-_jpg.rf.839f673e9c1ac9c10f6511605998b13f.txt  \n",
            "  inflating: /content/drive/MyDrive/knee/yolov5/valid/labels/stage0-38-_jpg.rf.dd9581b23979766146d24278171301bc.txt  \n",
            "  inflating: /content/drive/MyDrive/knee/yolov5/valid/labels/stage0-6-_jpg.rf.4cf18ea495fe66a0c6854cb3a6f3f5ee.txt  \n",
            "  inflating: /content/drive/MyDrive/knee/yolov5/valid/labels/stage0-9-_jpg.rf.64a8e99774e50804127865ffd3e78e9b.txt  \n",
            "  inflating: /content/drive/MyDrive/knee/yolov5/valid/labels/stage1-10-_jpg.rf.78c626ea4eb666676c4e9e0a88cb5c89.txt  \n",
            "  inflating: /content/drive/MyDrive/knee/yolov5/valid/labels/stage1-13-_jpg.rf.fbdb24495a9b57f683e63c87f1b8fb2b.txt  \n",
            "  inflating: /content/drive/MyDrive/knee/yolov5/valid/labels/stage1-19-_jpg.rf.93bbc7c206f1e0cd9d117bf3d5f6c614.txt  \n",
            "  inflating: /content/drive/MyDrive/knee/yolov5/valid/labels/stage1-2-_jpg.rf.b2605a0f0a67163ed57ca52e6d64b771.txt  \n",
            "  inflating: /content/drive/MyDrive/knee/yolov5/valid/labels/stage1-24-_jpg.rf.6ca13069ba04e5e4191c5f67849b2f5b.txt  \n",
            "  inflating: /content/drive/MyDrive/knee/yolov5/valid/labels/stage1-33-_jpg.rf.43be807f3d0e98043470f66a7853768b.txt  \n",
            "  inflating: /content/drive/MyDrive/knee/yolov5/valid/labels/stage1-37-_jpg.rf.f980707456648f31eee481cfaec96310.txt  \n",
            "  inflating: /content/drive/MyDrive/knee/yolov5/valid/labels/stage1-38-_jpg.rf.bb86c60512df7505eac5d4efd13ce473.txt  \n",
            "  inflating: /content/drive/MyDrive/knee/yolov5/valid/labels/stage1-45-_jpg.rf.b8e4b225cff0e3f46a77dc6f9f785433.txt  \n",
            "  inflating: /content/drive/MyDrive/knee/yolov5/valid/labels/stage1-46-_jpg.rf.039e34e5b9a106b30f3cfc31ef3501c2.txt  \n",
            "  inflating: /content/drive/MyDrive/knee/yolov5/valid/labels/stage1-48-_jpg.rf.da72ed5042dcef58eca45732827d906d.txt  \n",
            "  inflating: /content/drive/MyDrive/knee/yolov5/valid/labels/stage2-14-_jpg.rf.9d9f22501f582b0f2c440366a9292fd4.txt  \n",
            "  inflating: /content/drive/MyDrive/knee/yolov5/valid/labels/stage2-18-_jpg.rf.a18c95979640ff052fb2d1a6ee8dde15.txt  \n",
            "  inflating: /content/drive/MyDrive/knee/yolov5/valid/labels/stage2-19-_jpg.rf.aff8b223a08aaf88238713b380e74e8d.txt  \n",
            "  inflating: /content/drive/MyDrive/knee/yolov5/valid/labels/stage2-20-_jpg.rf.6d49b4dc70b0fff748f5bea17e8f6a45.txt  \n",
            "  inflating: /content/drive/MyDrive/knee/yolov5/valid/labels/stage2-22-_jpg.rf.5b4bb35875bb53e20d9b0d8e8367e019.txt  \n",
            "  inflating: /content/drive/MyDrive/knee/yolov5/valid/labels/stage2-3-_jpg.rf.3a097dc3f4fdba8baff77739d308547b.txt  \n",
            "  inflating: /content/drive/MyDrive/knee/yolov5/valid/labels/stage2-30-_jpg.rf.58f1306a03187497fbd7140056551c1c.txt  \n",
            "  inflating: /content/drive/MyDrive/knee/yolov5/valid/labels/stage2-32-_jpg.rf.70062bef7f1a1e2ae36225c41b3dd8a0.txt  \n",
            "  inflating: /content/drive/MyDrive/knee/yolov5/valid/labels/stage2-37-_jpg.rf.8f7a24b62de58fc953d2621317edb94a.txt  \n",
            "  inflating: /content/drive/MyDrive/knee/yolov5/valid/labels/stage2-39-_jpg.rf.83d3b04249a8d2a0b4a3979495a0ed8e.txt  \n",
            "  inflating: /content/drive/MyDrive/knee/yolov5/valid/labels/stage2-40-_jpg.rf.392ed6bb5545252883f0ddde5c8bd90c.txt  \n",
            "  inflating: /content/drive/MyDrive/knee/yolov5/valid/labels/stage2-7-_jpg.rf.11fa7df3234fddcf7e0acde3ed621670.txt  \n",
            "  inflating: /content/drive/MyDrive/knee/yolov5/valid/labels/stage2-9-_jpg.rf.29fd1eaa63f713c0bd2e73e888804598.txt  \n",
            "  inflating: /content/drive/MyDrive/knee/yolov5/valid/labels/stage3-14-_jpg.rf.2bc428feab9f0b6cbb5d3bc2bf06ecf5.txt  \n",
            "  inflating: /content/drive/MyDrive/knee/yolov5/valid/labels/stage3-17-_jpg.rf.09e0a26e1c55c42ef6628e2aac503efc.txt  \n",
            "  inflating: /content/drive/MyDrive/knee/yolov5/valid/labels/stage3-20-_jpg.rf.310a14c02615d6225b7f23082de272d0.txt  \n",
            "  inflating: /content/drive/MyDrive/knee/yolov5/valid/labels/stage3-21-_jpg.rf.b4320727c8dab2fab03615dbb6dacd4b.txt  \n",
            "  inflating: /content/drive/MyDrive/knee/yolov5/valid/labels/stage3-24-_jpg.rf.2ad3733e86d768e35c6ae883e2a40725.txt  \n",
            "  inflating: /content/drive/MyDrive/knee/yolov5/valid/labels/stage3-25-_jpg.rf.161634eb540ae3484011fe3637e22879.txt  \n",
            "  inflating: /content/drive/MyDrive/knee/yolov5/valid/labels/stage3-27-_jpg.rf.70a92ee89dcc5c175c76c554bd5fd6f9.txt  \n",
            "  inflating: /content/drive/MyDrive/knee/yolov5/valid/labels/stage3-29-_jpg.rf.1b5661d200547eb70b181e17e9e072bd.txt  \n",
            "  inflating: /content/drive/MyDrive/knee/yolov5/valid/labels/stage3-32-_jpg.rf.fe015995e5985b204ccb824c4158abca.txt  \n",
            "  inflating: /content/drive/MyDrive/knee/yolov5/valid/labels/stage3-33-_jpg.rf.d46b9d59b509636c225e17f57598eb21.txt  \n",
            "  inflating: /content/drive/MyDrive/knee/yolov5/valid/labels/stage3-39-_jpg.rf.fb17b56c087be794bfaa38324887d056.txt  \n",
            "  inflating: /content/drive/MyDrive/knee/yolov5/valid/labels/stage3-40-_jpg.rf.97d0814912cb2d6a374bdd755f4b7937.txt  \n",
            "  inflating: /content/drive/MyDrive/knee/yolov5/valid/labels/stage3-9-_jpg.rf.f4b1a71535359e43699a3191600d9d44.txt  \n",
            "   creating: /content/drive/MyDrive/knee/yolov6/\n",
            "  inflating: /content/drive/MyDrive/knee/yolov6/data.yaml  \n",
            "   creating: /content/drive/MyDrive/knee/yolov6/images/\n",
            "   creating: /content/drive/MyDrive/knee/yolov6/images/train/\n",
            "  inflating: /content/drive/MyDrive/knee/yolov6/images/train/stage0-1-_jpg.rf.cbb266f1351e6ccc99355c8dcabc7756.jpg  \n",
            "  inflating: /content/drive/MyDrive/knee/yolov6/images/train/stage0-11-_jpg.rf.e47951ace75aefc9e58f436311654598.jpg  \n",
            "  inflating: /content/drive/MyDrive/knee/yolov6/images/train/stage0-13-_jpg.rf.eac47c10f798d57a655dba97b90ef1f9.jpg  \n",
            "  inflating: /content/drive/MyDrive/knee/yolov6/images/train/stage0-14-_jpg.rf.7a8369dc613046391eee2e32f073633d.jpg  \n",
            "  inflating: /content/drive/MyDrive/knee/yolov6/images/train/stage0-16-_jpg.rf.768f95713be59ecf1794e8a0507937ce.jpg  \n",
            "  inflating: /content/drive/MyDrive/knee/yolov6/images/train/stage0-17-_jpg.rf.105c953ba487b929419cbe2879a1f68c.jpg  \n",
            "  inflating: /content/drive/MyDrive/knee/yolov6/images/train/stage0-18-_jpg.rf.56f60b3b34797db92c7192326a03f755.jpg  \n",
            "  inflating: /content/drive/MyDrive/knee/yolov6/images/train/stage0-19-_jpg.rf.ee0795d7a83b9491d83e3c811022c960.jpg  \n",
            "  inflating: /content/drive/MyDrive/knee/yolov6/images/train/stage0-20-_jpg.rf.3b5b48639c81be223157805b765eb713.jpg  \n",
            "  inflating: /content/drive/MyDrive/knee/yolov6/images/train/stage0-22-_jpg.rf.f1aab5fc081a735d385b61d55561efbd.jpg  \n",
            "  inflating: /content/drive/MyDrive/knee/yolov6/images/train/stage0-23-_jpg.rf.88d9df2d77d6c1338f6566902b8e8544.jpg  \n",
            "  inflating: /content/drive/MyDrive/knee/yolov6/images/train/stage0-24-_jpg.rf.25841388cdead47ac2ddc2b430966d4d.jpg  \n",
            "  inflating: /content/drive/MyDrive/knee/yolov6/images/train/stage0-25-_jpg.rf.388ee90dfc1e1e1a249870a38101afae.jpg  \n",
            "  inflating: /content/drive/MyDrive/knee/yolov6/images/train/stage0-26-_jpg.rf.726db3b6a9b3bb3f0a6abdd9bd94c250.jpg  \n",
            "  inflating: /content/drive/MyDrive/knee/yolov6/images/train/stage0-27-_jpg.rf.6381f9bc2c1e9b918cdd728e1855d284.jpg  \n",
            "  inflating: /content/drive/MyDrive/knee/yolov6/images/train/stage0-28-_jpg.rf.f7ff68845ee145108a094ebc9641a8ef.jpg  \n",
            "  inflating: /content/drive/MyDrive/knee/yolov6/images/train/stage0-29-_jpg.rf.fda1a8a7473966f321c9dd2d6ba0d4a9.jpg  \n",
            "  inflating: /content/drive/MyDrive/knee/yolov6/images/train/stage0-3-_jpg.rf.86efbbe8687cfb788dc1dea59b7c64e5.jpg  \n",
            "  inflating: /content/drive/MyDrive/knee/yolov6/images/train/stage0-30-_jpg.rf.63b40fad2508719bbe0ba4d4d06436cf.jpg  \n",
            "  inflating: /content/drive/MyDrive/knee/yolov6/images/train/stage0-31-_jpg.rf.daeba303a5b491d3faef87ac039a535a.jpg  \n",
            "  inflating: /content/drive/MyDrive/knee/yolov6/images/train/stage0-32-_jpg.rf.66280864f3ae6a0736312c7cb3803c54.jpg  \n",
            "  inflating: /content/drive/MyDrive/knee/yolov6/images/train/stage0-34-_jpg.rf.d4c0fbb020705a577869857ee4626218.jpg  \n",
            "  inflating: /content/drive/MyDrive/knee/yolov6/images/train/stage0-37-_jpg.rf.f443a98225826b3124aff2ef1965d8d6.jpg  \n",
            "  inflating: /content/drive/MyDrive/knee/yolov6/images/train/stage0-39-_jpg.rf.4aae96741a6fb83e57ec4b05665a3df5.jpg  \n",
            "  inflating: /content/drive/MyDrive/knee/yolov6/images/train/stage0-4-_jpg.rf.e6b11bcedde514a7eab3ace634eaefd1.jpg  \n",
            "  inflating: /content/drive/MyDrive/knee/yolov6/images/train/stage0-40-_jpg.rf.11c2e326b1c8717909bea299719ed362.jpg  \n",
            "  inflating: /content/drive/MyDrive/knee/yolov6/images/train/stage0-5-_jpg.rf.d92bd80a7de00a4b3a418f15fc72edb1.jpg  \n",
            "  inflating: /content/drive/MyDrive/knee/yolov6/images/train/stage0-7-_jpg.rf.499d09aa2849c8664906d7323d5dc508.jpg  \n",
            "  inflating: /content/drive/MyDrive/knee/yolov6/images/train/stage0-8-_jpg.rf.24e5a3bbe186010f74bd205708295349.jpg  \n",
            "  inflating: /content/drive/MyDrive/knee/yolov6/images/train/stage1-1-_jpg.rf.3576a73225cc3e4b5a9d993b5179a677.jpg  \n",
            "  inflating: /content/drive/MyDrive/knee/yolov6/images/train/stage1-11-_jpg.rf.3ad2d356827277ff1437e136acfeeae2.jpg  \n",
            "  inflating: /content/drive/MyDrive/knee/yolov6/images/train/stage1-12-_jpg.rf.19894e2074adf25d736627d588872f7a.jpg  \n",
            "  inflating: /content/drive/MyDrive/knee/yolov6/images/train/stage1-14-_jpg.rf.ebe8b50e34c4256cb9e2d5975591f296.jpg  \n",
            "  inflating: /content/drive/MyDrive/knee/yolov6/images/train/stage1-15-_jpg.rf.33b235620966a424d32a732d6836e510.jpg  \n",
            "  inflating: /content/drive/MyDrive/knee/yolov6/images/train/stage1-16-_jpg.rf.9d22f7e033c9bd4709b8f11626d53aed.jpg  \n",
            "  inflating: /content/drive/MyDrive/knee/yolov6/images/train/stage1-17-_jpg.rf.c2c3ab87aeabd5a056e4031b80633db1.jpg  \n",
            "  inflating: /content/drive/MyDrive/knee/yolov6/images/train/stage1-18-_jpg.rf.df090117818adc60caa522ec2cbb75df.jpg  \n",
            "  inflating: /content/drive/MyDrive/knee/yolov6/images/train/stage1-20-_jpg.rf.a70235396e2ba456b1cb67fab4c36687.jpg  \n",
            "  inflating: /content/drive/MyDrive/knee/yolov6/images/train/stage1-21-_jpg.rf.dea56cf9414abc2e6c7bc6cf9f00f286.jpg  \n",
            "  inflating: /content/drive/MyDrive/knee/yolov6/images/train/stage1-22-_jpg.rf.1bd9b26dfbd4db94523f4b76a0cc6a02.jpg  \n",
            "  inflating: /content/drive/MyDrive/knee/yolov6/images/train/stage1-23-_jpg.rf.b76b0ce3df5bf95742d140171ce213af.jpg  \n",
            "  inflating: /content/drive/MyDrive/knee/yolov6/images/train/stage1-25-_jpg.rf.a2241fd48239cae2199400be64d3879f.jpg  \n",
            "  inflating: /content/drive/MyDrive/knee/yolov6/images/train/stage1-26-_jpg.rf.111170f3ba25b086a6d6a3014c7701d6.jpg  \n",
            "  inflating: /content/drive/MyDrive/knee/yolov6/images/train/stage1-27-_jpg.rf.3c76639f51413ae3a154a3cb2bc72b1b.jpg  \n",
            "  inflating: /content/drive/MyDrive/knee/yolov6/images/train/stage1-28-_jpg.rf.b3b9be17f4a67891e93294eb661c6d68.jpg  \n",
            "  inflating: /content/drive/MyDrive/knee/yolov6/images/train/stage1-29-_jpg.rf.6073b3e47e65f6c480acae5ea667577f.jpg  \n",
            "  inflating: /content/drive/MyDrive/knee/yolov6/images/train/stage1-3-_jpg.rf.292fb6216bafa6643206787f0d610e99.jpg  \n",
            "  inflating: /content/drive/MyDrive/knee/yolov6/images/train/stage1-30-_jpg.rf.74f5dbf4864909fed82f9d7632909a3a.jpg  \n",
            "  inflating: /content/drive/MyDrive/knee/yolov6/images/train/stage1-31-_jpg.rf.2a055dede99f0f75572b5539bc1059e0.jpg  \n",
            "  inflating: /content/drive/MyDrive/knee/yolov6/images/train/stage1-32-_jpg.rf.eed54a92ae9138d9ee9bfe2e170b1d96.jpg  \n",
            "  inflating: /content/drive/MyDrive/knee/yolov6/images/train/stage1-34-_jpg.rf.b28054b82ce010d3b1dba8487f833ade.jpg  \n",
            "  inflating: /content/drive/MyDrive/knee/yolov6/images/train/stage1-35-_jpg.rf.40117daba9d9826be7ee99ddda2c591c.jpg  \n",
            "  inflating: /content/drive/MyDrive/knee/yolov6/images/train/stage1-36-_jpg.rf.bad5b1d3ceab11f3785cdcef3bac4ff7.jpg  \n",
            "  inflating: /content/drive/MyDrive/knee/yolov6/images/train/stage1-39-_jpg.rf.0feaf4c89b93dce856cd2767a802c714.jpg  \n",
            "  inflating: /content/drive/MyDrive/knee/yolov6/images/train/stage1-4-_jpg.rf.7ce0ae18095db13a88ef8305f419d344.jpg  \n",
            "  inflating: /content/drive/MyDrive/knee/yolov6/images/train/stage1-40-_jpg.rf.1d073fd5c96021e5fd2d934c5618f1cb.jpg  \n",
            "  inflating: /content/drive/MyDrive/knee/yolov6/images/train/stage1-41-_jpg.rf.025df7945b36367d1b4f496052c087d7.jpg  \n",
            "  inflating: /content/drive/MyDrive/knee/yolov6/images/train/stage1-42-_jpg.rf.fa8aec3c061ee8568bc82e8456e7ff72.jpg  \n",
            "  inflating: /content/drive/MyDrive/knee/yolov6/images/train/stage1-43-_jpg.rf.94f28f35d89420697f59c636ff2ebafa.jpg  \n",
            "  inflating: /content/drive/MyDrive/knee/yolov6/images/train/stage1-44-_jpg.rf.040e595c3de1e068b06d0a7bdf034492.jpg  \n",
            "  inflating: /content/drive/MyDrive/knee/yolov6/images/train/stage1-47-_jpg.rf.7ddd328c3bd0a097fda8cc0ccd59bd64.jpg  \n",
            "  inflating: /content/drive/MyDrive/knee/yolov6/images/train/stage1-49-_jpg.rf.627d95284b6245ac611a0feee093e11c.jpg  \n",
            "  inflating: /content/drive/MyDrive/knee/yolov6/images/train/stage1-5-_jpg.rf.d0a029a621721e2c0d53b08543b938bf.jpg  \n",
            "  inflating: /content/drive/MyDrive/knee/yolov6/images/train/stage1-50-_jpg.rf.c764488828256d316418294dea63150c.jpg  \n",
            "  inflating: /content/drive/MyDrive/knee/yolov6/images/train/stage1-6-_jpg.rf.00f7c453f7621b0ffd951a433c297736.jpg  \n",
            "  inflating: /content/drive/MyDrive/knee/yolov6/images/train/stage1-7-_jpg.rf.14b4561010bc80ea6fbf04ac0e16fe5a.jpg  \n",
            "  inflating: /content/drive/MyDrive/knee/yolov6/images/train/stage1-8-_jpg.rf.91e02d1fe3bd8480f44c845047b6b9f2.jpg  \n",
            "  inflating: /content/drive/MyDrive/knee/yolov6/images/train/stage1-9-_jpg.rf.4ea9a75773987d190ea28de58efb2aa2.jpg  \n",
            "  inflating: /content/drive/MyDrive/knee/yolov6/images/train/stage2-1-_jpg.rf.1d43ee0d7c927e4374370e928168dd62.jpg  \n",
            "  inflating: /content/drive/MyDrive/knee/yolov6/images/train/stage2-10-_jpg.rf.6f8963bc66d65940aa0923540d026b12.jpg  \n",
            "  inflating: /content/drive/MyDrive/knee/yolov6/images/train/stage2-11-_jpg.rf.229c9dd3cfdca142cf0a2c0e96ca7354.jpg  \n",
            "  inflating: /content/drive/MyDrive/knee/yolov6/images/train/stage2-12-_jpg.rf.bdffc75f1c3660f6e4c8ad6ff169c56c.jpg  \n",
            "  inflating: /content/drive/MyDrive/knee/yolov6/images/train/stage2-13-_jpg.rf.d080de2db08ac58b828d84f80b4f5f5c.jpg  \n",
            "  inflating: /content/drive/MyDrive/knee/yolov6/images/train/stage2-15-_jpg.rf.9fd5acb8de99683934c2d993d2ea7574.jpg  \n",
            "  inflating: /content/drive/MyDrive/knee/yolov6/images/train/stage2-16-_jpg.rf.daf599b856f398e0d1b19b48a281ed31.jpg  \n",
            "  inflating: /content/drive/MyDrive/knee/yolov6/images/train/stage2-17-_jpg.rf.beb3f2cb4db2dcace29c64cdc5cc9e36.jpg  \n",
            "  inflating: /content/drive/MyDrive/knee/yolov6/images/train/stage2-2-_jpg.rf.313e328a6faba06ff8570b4fa068a0c3.jpg  \n",
            "  inflating: /content/drive/MyDrive/knee/yolov6/images/train/stage2-21-_jpg.rf.cc6c99673ae558e517854936fa47cae6.jpg  \n",
            "  inflating: /content/drive/MyDrive/knee/yolov6/images/train/stage2-23-_jpg.rf.ffca23f24ec80f250a14cc4cce6cfb09.jpg  \n",
            "  inflating: /content/drive/MyDrive/knee/yolov6/images/train/stage2-24-_jpg.rf.4c5a7a3209b25623da0e2a860ebb7dc6.jpg  \n",
            "  inflating: /content/drive/MyDrive/knee/yolov6/images/train/stage2-25-_jpg.rf.bca8fdee2741bcc95dcb4e7f3d6b0d8a.jpg  \n",
            "  inflating: /content/drive/MyDrive/knee/yolov6/images/train/stage2-26-_jpg.rf.108c798b31ed70f1780982b5e180d18c.jpg  \n",
            "  inflating: /content/drive/MyDrive/knee/yolov6/images/train/stage2-27-_jpg.rf.ab4b165195ac3b085ef0da3c25abcecc.jpg  \n",
            "  inflating: /content/drive/MyDrive/knee/yolov6/images/train/stage2-28-_jpg.rf.909ad83c269ff4d4bf1f6426a0013c4a.jpg  \n",
            "  inflating: /content/drive/MyDrive/knee/yolov6/images/train/stage2-29-_jpg.rf.51d7a51046b48f1f917faa40e3fb34e8.jpg  \n",
            "  inflating: /content/drive/MyDrive/knee/yolov6/images/train/stage2-31-_jpg.rf.7314e327b3cfb8ee040e7a50b0324c26.jpg  \n",
            "  inflating: /content/drive/MyDrive/knee/yolov6/images/train/stage2-33-_jpg.rf.1c66e8482caddfde4c092d258e970513.jpg  \n",
            "  inflating: /content/drive/MyDrive/knee/yolov6/images/train/stage2-34-_jpg.rf.499a5ff05b98d2e7955097f005ea6b5b.jpg  \n",
            "  inflating: /content/drive/MyDrive/knee/yolov6/images/train/stage2-35-_jpg.rf.661a7f68a60f9d32ed342dd03968861d.jpg  \n",
            "  inflating: /content/drive/MyDrive/knee/yolov6/images/train/stage2-36-_jpg.rf.815fcc4ab9ffcb337f10d2efe3cdadd7.jpg  \n",
            "  inflating: /content/drive/MyDrive/knee/yolov6/images/train/stage2-38-_jpg.rf.2c40ea7e4a119c663f67d68e7cd57813.jpg  \n",
            "  inflating: /content/drive/MyDrive/knee/yolov6/images/train/stage2-4-_jpg.rf.9e4fb22a94c2b3b4dba39fe97ca46ef7.jpg  \n",
            "  inflating: /content/drive/MyDrive/knee/yolov6/images/train/stage2-5-_jpg.rf.88ec511fa61517c411e39c68c5c17f6b.jpg  \n",
            "  inflating: /content/drive/MyDrive/knee/yolov6/images/train/stage2-6-_jpg.rf.d6138a4c1574eedd5c0d3bc0bfc8f9f6.jpg  \n",
            "  inflating: /content/drive/MyDrive/knee/yolov6/images/train/stage2-8-_jpg.rf.31f8d91615112be0facc5c176459601b.jpg  \n",
            "  inflating: /content/drive/MyDrive/knee/yolov6/images/train/stage3-1-_jpg.rf.4bc11626e3c6bd8eaea746f8a2576376.jpg  \n",
            "  inflating: /content/drive/MyDrive/knee/yolov6/images/train/stage3-10-_jpg.rf.e02a60d1a8865e899374de770f5fa67f.jpg  \n",
            "  inflating: /content/drive/MyDrive/knee/yolov6/images/train/stage3-11-_jpg.rf.5bb79ca10351532001173ae893ba5ff4.jpg  \n",
            "  inflating: /content/drive/MyDrive/knee/yolov6/images/train/stage3-12-_jpg.rf.579bc32d598ce9c76be0c4f340bca551.jpg  \n",
            "  inflating: /content/drive/MyDrive/knee/yolov6/images/train/stage3-13-_jpg.rf.d4d0c007243092b1af7efc02dd40d6fb.jpg  \n",
            "  inflating: /content/drive/MyDrive/knee/yolov6/images/train/stage3-15-_jpg.rf.c6eec090bae98d035da4f43952fb5e77.jpg  \n",
            "  inflating: /content/drive/MyDrive/knee/yolov6/images/train/stage3-16-_jpg.rf.9078e96eb82aff0a3202fbeff745960c.jpg  \n",
            "  inflating: /content/drive/MyDrive/knee/yolov6/images/train/stage3-18-_jpg.rf.b91436e1e68f139b4e279c2b575f75e0.jpg  \n",
            "  inflating: /content/drive/MyDrive/knee/yolov6/images/train/stage3-19-_jpg.rf.f5b2a8a21813f3dde47b77be4207fe30.jpg  \n",
            "  inflating: /content/drive/MyDrive/knee/yolov6/images/train/stage3-2-_jpg.rf.e1621de86db6614b256c702dcdf8b1d8.jpg  \n",
            "  inflating: /content/drive/MyDrive/knee/yolov6/images/train/stage3-22-_jpg.rf.ecb6c4024b307894df05f5aea94e0244.jpg  \n",
            "  inflating: /content/drive/MyDrive/knee/yolov6/images/train/stage3-23-_jpg.rf.e12398169459ee10874ec431f29145ed.jpg  \n",
            "  inflating: /content/drive/MyDrive/knee/yolov6/images/train/stage3-26-_jpg.rf.2922417bf835a2be918f9dd24aac5a66.jpg  \n",
            "  inflating: /content/drive/MyDrive/knee/yolov6/images/train/stage3-28-_jpg.rf.5098d556f3b37b7d498d4d41a9d4fa6a.jpg  \n",
            "  inflating: /content/drive/MyDrive/knee/yolov6/images/train/stage3-3-_jpg.rf.6318860e999ad95f38142f7006889a3f.jpg  \n",
            "  inflating: /content/drive/MyDrive/knee/yolov6/images/train/stage3-30-_jpg.rf.5e8e59a841e0987dd68e988b8ff7a1c6.jpg  \n",
            "  inflating: /content/drive/MyDrive/knee/yolov6/images/train/stage3-31-_jpg.rf.cbcea771538d775f6fa2f6bd62a0aaa1.jpg  \n",
            "  inflating: /content/drive/MyDrive/knee/yolov6/images/train/stage3-34-_jpg.rf.45b19c62f1ba1ac0e3dd91b66809713d.jpg  \n",
            "  inflating: /content/drive/MyDrive/knee/yolov6/images/train/stage3-35-_jpg.rf.34ff8fd1c9c12d420bc5c8726fcd8430.jpg  \n",
            "  inflating: /content/drive/MyDrive/knee/yolov6/images/train/stage3-36-_jpg.rf.fef808eb4f0f7921435296e5d79b3e44.jpg  \n",
            "  inflating: /content/drive/MyDrive/knee/yolov6/images/train/stage3-37-_jpg.rf.17184a02f6354e7d2630d43a797ddd70.jpg  \n",
            "  inflating: /content/drive/MyDrive/knee/yolov6/images/train/stage3-38-_jpg.rf.61bf5e36c247fd87e7484d5583303857.jpg  \n",
            "  inflating: /content/drive/MyDrive/knee/yolov6/images/train/stage3-4-_jpg.rf.d88fea6b0639a4781a99962f410e6d58.jpg  \n",
            "  inflating: /content/drive/MyDrive/knee/yolov6/images/train/stage3-5-_jpg.rf.f17c8d80e75cdd295aeaf15a8917930e.jpg  \n",
            "  inflating: /content/drive/MyDrive/knee/yolov6/images/train/stage3-6-_jpg.rf.f388ceb8b4d13ef5a7593d19d18718ce.jpg  \n",
            "  inflating: /content/drive/MyDrive/knee/yolov6/images/train/stage3-7-_jpg.rf.61988d5d39b05cfcc81624d6aea45089.jpg  \n",
            "  inflating: /content/drive/MyDrive/knee/yolov6/images/train/stage3-8-_jpg.rf.67a78d1b035bc309e387258b045f010e.jpg  \n",
            "   creating: /content/drive/MyDrive/knee/yolov6/images/valid/\n",
            "  inflating: /content/drive/MyDrive/knee/yolov6/images/valid/stage0-10-_jpg.rf.9bab984c796c7ebea9fab26f584e3e17.jpg  \n",
            "  inflating: /content/drive/MyDrive/knee/yolov6/images/valid/stage0-12-_jpg.rf.ac132ce66831d9d5540d034098fe438a.jpg  \n",
            "  inflating: /content/drive/MyDrive/knee/yolov6/images/valid/stage0-15-_jpg.rf.36faabf95573cd43f7a02c1e5a3717fc.jpg  \n",
            "  inflating: /content/drive/MyDrive/knee/yolov6/images/valid/stage0-2-_jpg.rf.0b31fc31badbac2f892776dff04b0a70.jpg  \n",
            "  inflating: /content/drive/MyDrive/knee/yolov6/images/valid/stage0-21-_jpg.rf.9605b85cb4516ed3ccd25c07b74b89b4.jpg  \n",
            "  inflating: /content/drive/MyDrive/knee/yolov6/images/valid/stage0-33-_jpg.rf.7275c00aac9769550a8bb2121a4e963a.jpg  \n",
            "  inflating: /content/drive/MyDrive/knee/yolov6/images/valid/stage0-35-_jpg.rf.ae4cbde97e7b534ecd3303a54700142e.jpg  \n",
            "  inflating: /content/drive/MyDrive/knee/yolov6/images/valid/stage0-36-_jpg.rf.839f673e9c1ac9c10f6511605998b13f.jpg  \n",
            "  inflating: /content/drive/MyDrive/knee/yolov6/images/valid/stage0-38-_jpg.rf.dd9581b23979766146d24278171301bc.jpg  \n",
            "  inflating: /content/drive/MyDrive/knee/yolov6/images/valid/stage0-6-_jpg.rf.4cf18ea495fe66a0c6854cb3a6f3f5ee.jpg  \n",
            "  inflating: /content/drive/MyDrive/knee/yolov6/images/valid/stage0-9-_jpg.rf.64a8e99774e50804127865ffd3e78e9b.jpg  \n",
            "  inflating: /content/drive/MyDrive/knee/yolov6/images/valid/stage1-10-_jpg.rf.78c626ea4eb666676c4e9e0a88cb5c89.jpg  \n",
            "  inflating: /content/drive/MyDrive/knee/yolov6/images/valid/stage1-13-_jpg.rf.fbdb24495a9b57f683e63c87f1b8fb2b.jpg  \n",
            "  inflating: /content/drive/MyDrive/knee/yolov6/images/valid/stage1-19-_jpg.rf.93bbc7c206f1e0cd9d117bf3d5f6c614.jpg  \n",
            "  inflating: /content/drive/MyDrive/knee/yolov6/images/valid/stage1-2-_jpg.rf.b2605a0f0a67163ed57ca52e6d64b771.jpg  \n",
            "  inflating: /content/drive/MyDrive/knee/yolov6/images/valid/stage1-24-_jpg.rf.6ca13069ba04e5e4191c5f67849b2f5b.jpg  \n",
            "  inflating: /content/drive/MyDrive/knee/yolov6/images/valid/stage1-33-_jpg.rf.43be807f3d0e98043470f66a7853768b.jpg  \n",
            "  inflating: /content/drive/MyDrive/knee/yolov6/images/valid/stage1-37-_jpg.rf.f980707456648f31eee481cfaec96310.jpg  \n",
            "  inflating: /content/drive/MyDrive/knee/yolov6/images/valid/stage1-38-_jpg.rf.bb86c60512df7505eac5d4efd13ce473.jpg  \n",
            "  inflating: /content/drive/MyDrive/knee/yolov6/images/valid/stage1-45-_jpg.rf.b8e4b225cff0e3f46a77dc6f9f785433.jpg  \n",
            "  inflating: /content/drive/MyDrive/knee/yolov6/images/valid/stage1-46-_jpg.rf.039e34e5b9a106b30f3cfc31ef3501c2.jpg  \n",
            "  inflating: /content/drive/MyDrive/knee/yolov6/images/valid/stage1-48-_jpg.rf.da72ed5042dcef58eca45732827d906d.jpg  \n",
            "  inflating: /content/drive/MyDrive/knee/yolov6/images/valid/stage2-14-_jpg.rf.9d9f22501f582b0f2c440366a9292fd4.jpg  \n",
            "  inflating: /content/drive/MyDrive/knee/yolov6/images/valid/stage2-18-_jpg.rf.a18c95979640ff052fb2d1a6ee8dde15.jpg  \n",
            "  inflating: /content/drive/MyDrive/knee/yolov6/images/valid/stage2-19-_jpg.rf.aff8b223a08aaf88238713b380e74e8d.jpg  \n",
            "  inflating: /content/drive/MyDrive/knee/yolov6/images/valid/stage2-20-_jpg.rf.6d49b4dc70b0fff748f5bea17e8f6a45.jpg  \n",
            "  inflating: /content/drive/MyDrive/knee/yolov6/images/valid/stage2-22-_jpg.rf.5b4bb35875bb53e20d9b0d8e8367e019.jpg  \n",
            "  inflating: /content/drive/MyDrive/knee/yolov6/images/valid/stage2-3-_jpg.rf.3a097dc3f4fdba8baff77739d308547b.jpg  \n",
            "  inflating: /content/drive/MyDrive/knee/yolov6/images/valid/stage2-30-_jpg.rf.58f1306a03187497fbd7140056551c1c.jpg  \n",
            "  inflating: /content/drive/MyDrive/knee/yolov6/images/valid/stage2-32-_jpg.rf.70062bef7f1a1e2ae36225c41b3dd8a0.jpg  \n",
            "  inflating: /content/drive/MyDrive/knee/yolov6/images/valid/stage2-37-_jpg.rf.8f7a24b62de58fc953d2621317edb94a.jpg  \n",
            "  inflating: /content/drive/MyDrive/knee/yolov6/images/valid/stage2-39-_jpg.rf.83d3b04249a8d2a0b4a3979495a0ed8e.jpg  \n",
            "  inflating: /content/drive/MyDrive/knee/yolov6/images/valid/stage2-40-_jpg.rf.392ed6bb5545252883f0ddde5c8bd90c.jpg  \n",
            "  inflating: /content/drive/MyDrive/knee/yolov6/images/valid/stage2-7-_jpg.rf.11fa7df3234fddcf7e0acde3ed621670.jpg  \n",
            "  inflating: /content/drive/MyDrive/knee/yolov6/images/valid/stage2-9-_jpg.rf.29fd1eaa63f713c0bd2e73e888804598.jpg  \n",
            "  inflating: /content/drive/MyDrive/knee/yolov6/images/valid/stage3-14-_jpg.rf.2bc428feab9f0b6cbb5d3bc2bf06ecf5.jpg  \n",
            "  inflating: /content/drive/MyDrive/knee/yolov6/images/valid/stage3-17-_jpg.rf.09e0a26e1c55c42ef6628e2aac503efc.jpg  \n",
            "  inflating: /content/drive/MyDrive/knee/yolov6/images/valid/stage3-20-_jpg.rf.310a14c02615d6225b7f23082de272d0.jpg  \n",
            "  inflating: /content/drive/MyDrive/knee/yolov6/images/valid/stage3-21-_jpg.rf.b4320727c8dab2fab03615dbb6dacd4b.jpg  \n",
            "  inflating: /content/drive/MyDrive/knee/yolov6/images/valid/stage3-24-_jpg.rf.2ad3733e86d768e35c6ae883e2a40725.jpg  \n",
            "  inflating: /content/drive/MyDrive/knee/yolov6/images/valid/stage3-25-_jpg.rf.161634eb540ae3484011fe3637e22879.jpg  \n",
            "  inflating: /content/drive/MyDrive/knee/yolov6/images/valid/stage3-27-_jpg.rf.70a92ee89dcc5c175c76c554bd5fd6f9.jpg  \n",
            "  inflating: /content/drive/MyDrive/knee/yolov6/images/valid/stage3-29-_jpg.rf.1b5661d200547eb70b181e17e9e072bd.jpg  \n",
            "  inflating: /content/drive/MyDrive/knee/yolov6/images/valid/stage3-32-_jpg.rf.fe015995e5985b204ccb824c4158abca.jpg  \n",
            "  inflating: /content/drive/MyDrive/knee/yolov6/images/valid/stage3-33-_jpg.rf.d46b9d59b509636c225e17f57598eb21.jpg  \n",
            "  inflating: /content/drive/MyDrive/knee/yolov6/images/valid/stage3-39-_jpg.rf.fb17b56c087be794bfaa38324887d056.jpg  \n",
            "  inflating: /content/drive/MyDrive/knee/yolov6/images/valid/stage3-40-_jpg.rf.97d0814912cb2d6a374bdd755f4b7937.jpg  \n",
            "  inflating: /content/drive/MyDrive/knee/yolov6/images/valid/stage3-9-_jpg.rf.f4b1a71535359e43699a3191600d9d44.jpg  \n",
            "   creating: /content/drive/MyDrive/knee/yolov6/labels/\n",
            "   creating: /content/drive/MyDrive/knee/yolov6/labels/train/\n",
            "  inflating: /content/drive/MyDrive/knee/yolov6/labels/train/stage0-1-_jpg.rf.cbb266f1351e6ccc99355c8dcabc7756.txt  \n",
            "  inflating: /content/drive/MyDrive/knee/yolov6/labels/train/stage0-11-_jpg.rf.e47951ace75aefc9e58f436311654598.txt  \n",
            "  inflating: /content/drive/MyDrive/knee/yolov6/labels/train/stage0-13-_jpg.rf.eac47c10f798d57a655dba97b90ef1f9.txt  \n",
            "  inflating: /content/drive/MyDrive/knee/yolov6/labels/train/stage0-14-_jpg.rf.7a8369dc613046391eee2e32f073633d.txt  \n",
            "  inflating: /content/drive/MyDrive/knee/yolov6/labels/train/stage0-16-_jpg.rf.768f95713be59ecf1794e8a0507937ce.txt  \n",
            "  inflating: /content/drive/MyDrive/knee/yolov6/labels/train/stage0-17-_jpg.rf.105c953ba487b929419cbe2879a1f68c.txt  \n",
            "  inflating: /content/drive/MyDrive/knee/yolov6/labels/train/stage0-18-_jpg.rf.56f60b3b34797db92c7192326a03f755.txt  \n",
            "  inflating: /content/drive/MyDrive/knee/yolov6/labels/train/stage0-19-_jpg.rf.ee0795d7a83b9491d83e3c811022c960.txt  \n",
            "  inflating: /content/drive/MyDrive/knee/yolov6/labels/train/stage0-20-_jpg.rf.3b5b48639c81be223157805b765eb713.txt  \n",
            "  inflating: /content/drive/MyDrive/knee/yolov6/labels/train/stage0-22-_jpg.rf.f1aab5fc081a735d385b61d55561efbd.txt  \n",
            "  inflating: /content/drive/MyDrive/knee/yolov6/labels/train/stage0-23-_jpg.rf.88d9df2d77d6c1338f6566902b8e8544.txt  \n",
            "  inflating: /content/drive/MyDrive/knee/yolov6/labels/train/stage0-24-_jpg.rf.25841388cdead47ac2ddc2b430966d4d.txt  \n",
            "  inflating: /content/drive/MyDrive/knee/yolov6/labels/train/stage0-25-_jpg.rf.388ee90dfc1e1e1a249870a38101afae.txt  \n",
            "  inflating: /content/drive/MyDrive/knee/yolov6/labels/train/stage0-26-_jpg.rf.726db3b6a9b3bb3f0a6abdd9bd94c250.txt  \n",
            "  inflating: /content/drive/MyDrive/knee/yolov6/labels/train/stage0-27-_jpg.rf.6381f9bc2c1e9b918cdd728e1855d284.txt  \n",
            "  inflating: /content/drive/MyDrive/knee/yolov6/labels/train/stage0-28-_jpg.rf.f7ff68845ee145108a094ebc9641a8ef.txt  \n",
            "  inflating: /content/drive/MyDrive/knee/yolov6/labels/train/stage0-29-_jpg.rf.fda1a8a7473966f321c9dd2d6ba0d4a9.txt  \n",
            "  inflating: /content/drive/MyDrive/knee/yolov6/labels/train/stage0-3-_jpg.rf.86efbbe8687cfb788dc1dea59b7c64e5.txt  \n",
            "  inflating: /content/drive/MyDrive/knee/yolov6/labels/train/stage0-30-_jpg.rf.63b40fad2508719bbe0ba4d4d06436cf.txt  \n",
            "  inflating: /content/drive/MyDrive/knee/yolov6/labels/train/stage0-31-_jpg.rf.daeba303a5b491d3faef87ac039a535a.txt  \n",
            "  inflating: /content/drive/MyDrive/knee/yolov6/labels/train/stage0-32-_jpg.rf.66280864f3ae6a0736312c7cb3803c54.txt  \n",
            "  inflating: /content/drive/MyDrive/knee/yolov6/labels/train/stage0-34-_jpg.rf.d4c0fbb020705a577869857ee4626218.txt  \n",
            "  inflating: /content/drive/MyDrive/knee/yolov6/labels/train/stage0-37-_jpg.rf.f443a98225826b3124aff2ef1965d8d6.txt  \n",
            "  inflating: /content/drive/MyDrive/knee/yolov6/labels/train/stage0-39-_jpg.rf.4aae96741a6fb83e57ec4b05665a3df5.txt  \n",
            "  inflating: /content/drive/MyDrive/knee/yolov6/labels/train/stage0-4-_jpg.rf.e6b11bcedde514a7eab3ace634eaefd1.txt  \n",
            "  inflating: /content/drive/MyDrive/knee/yolov6/labels/train/stage0-40-_jpg.rf.11c2e326b1c8717909bea299719ed362.txt  \n",
            "  inflating: /content/drive/MyDrive/knee/yolov6/labels/train/stage0-5-_jpg.rf.d92bd80a7de00a4b3a418f15fc72edb1.txt  \n",
            "  inflating: /content/drive/MyDrive/knee/yolov6/labels/train/stage0-7-_jpg.rf.499d09aa2849c8664906d7323d5dc508.txt  \n",
            "  inflating: /content/drive/MyDrive/knee/yolov6/labels/train/stage0-8-_jpg.rf.24e5a3bbe186010f74bd205708295349.txt  \n",
            "  inflating: /content/drive/MyDrive/knee/yolov6/labels/train/stage1-1-_jpg.rf.3576a73225cc3e4b5a9d993b5179a677.txt  \n",
            "  inflating: /content/drive/MyDrive/knee/yolov6/labels/train/stage1-11-_jpg.rf.3ad2d356827277ff1437e136acfeeae2.txt  \n",
            "  inflating: /content/drive/MyDrive/knee/yolov6/labels/train/stage1-12-_jpg.rf.19894e2074adf25d736627d588872f7a.txt  \n",
            "  inflating: /content/drive/MyDrive/knee/yolov6/labels/train/stage1-14-_jpg.rf.ebe8b50e34c4256cb9e2d5975591f296.txt  \n",
            "  inflating: /content/drive/MyDrive/knee/yolov6/labels/train/stage1-15-_jpg.rf.33b235620966a424d32a732d6836e510.txt  \n",
            "  inflating: /content/drive/MyDrive/knee/yolov6/labels/train/stage1-16-_jpg.rf.9d22f7e033c9bd4709b8f11626d53aed.txt  \n",
            "  inflating: /content/drive/MyDrive/knee/yolov6/labels/train/stage1-17-_jpg.rf.c2c3ab87aeabd5a056e4031b80633db1.txt  \n",
            "  inflating: /content/drive/MyDrive/knee/yolov6/labels/train/stage1-18-_jpg.rf.df090117818adc60caa522ec2cbb75df.txt  \n",
            "  inflating: /content/drive/MyDrive/knee/yolov6/labels/train/stage1-20-_jpg.rf.a70235396e2ba456b1cb67fab4c36687.txt  \n",
            "  inflating: /content/drive/MyDrive/knee/yolov6/labels/train/stage1-21-_jpg.rf.dea56cf9414abc2e6c7bc6cf9f00f286.txt  \n",
            "  inflating: /content/drive/MyDrive/knee/yolov6/labels/train/stage1-22-_jpg.rf.1bd9b26dfbd4db94523f4b76a0cc6a02.txt  \n",
            "  inflating: /content/drive/MyDrive/knee/yolov6/labels/train/stage1-23-_jpg.rf.b76b0ce3df5bf95742d140171ce213af.txt  \n",
            "  inflating: /content/drive/MyDrive/knee/yolov6/labels/train/stage1-25-_jpg.rf.a2241fd48239cae2199400be64d3879f.txt  \n",
            "  inflating: /content/drive/MyDrive/knee/yolov6/labels/train/stage1-26-_jpg.rf.111170f3ba25b086a6d6a3014c7701d6.txt  \n",
            "  inflating: /content/drive/MyDrive/knee/yolov6/labels/train/stage1-27-_jpg.rf.3c76639f51413ae3a154a3cb2bc72b1b.txt  \n",
            "  inflating: /content/drive/MyDrive/knee/yolov6/labels/train/stage1-28-_jpg.rf.b3b9be17f4a67891e93294eb661c6d68.txt  \n",
            "  inflating: /content/drive/MyDrive/knee/yolov6/labels/train/stage1-29-_jpg.rf.6073b3e47e65f6c480acae5ea667577f.txt  \n",
            "  inflating: /content/drive/MyDrive/knee/yolov6/labels/train/stage1-3-_jpg.rf.292fb6216bafa6643206787f0d610e99.txt  \n",
            "  inflating: /content/drive/MyDrive/knee/yolov6/labels/train/stage1-30-_jpg.rf.74f5dbf4864909fed82f9d7632909a3a.txt  \n",
            "  inflating: /content/drive/MyDrive/knee/yolov6/labels/train/stage1-31-_jpg.rf.2a055dede99f0f75572b5539bc1059e0.txt  \n",
            "  inflating: /content/drive/MyDrive/knee/yolov6/labels/train/stage1-32-_jpg.rf.eed54a92ae9138d9ee9bfe2e170b1d96.txt  \n",
            "  inflating: /content/drive/MyDrive/knee/yolov6/labels/train/stage1-34-_jpg.rf.b28054b82ce010d3b1dba8487f833ade.txt  \n",
            "  inflating: /content/drive/MyDrive/knee/yolov6/labels/train/stage1-35-_jpg.rf.40117daba9d9826be7ee99ddda2c591c.txt  \n",
            "  inflating: /content/drive/MyDrive/knee/yolov6/labels/train/stage1-36-_jpg.rf.bad5b1d3ceab11f3785cdcef3bac4ff7.txt  \n",
            "  inflating: /content/drive/MyDrive/knee/yolov6/labels/train/stage1-39-_jpg.rf.0feaf4c89b93dce856cd2767a802c714.txt  \n",
            "  inflating: /content/drive/MyDrive/knee/yolov6/labels/train/stage1-4-_jpg.rf.7ce0ae18095db13a88ef8305f419d344.txt  \n",
            "  inflating: /content/drive/MyDrive/knee/yolov6/labels/train/stage1-40-_jpg.rf.1d073fd5c96021e5fd2d934c5618f1cb.txt  \n",
            "  inflating: /content/drive/MyDrive/knee/yolov6/labels/train/stage1-41-_jpg.rf.025df7945b36367d1b4f496052c087d7.txt  \n",
            "  inflating: /content/drive/MyDrive/knee/yolov6/labels/train/stage1-42-_jpg.rf.fa8aec3c061ee8568bc82e8456e7ff72.txt  \n",
            "  inflating: /content/drive/MyDrive/knee/yolov6/labels/train/stage1-43-_jpg.rf.94f28f35d89420697f59c636ff2ebafa.txt  \n",
            "  inflating: /content/drive/MyDrive/knee/yolov6/labels/train/stage1-44-_jpg.rf.040e595c3de1e068b06d0a7bdf034492.txt  \n",
            "  inflating: /content/drive/MyDrive/knee/yolov6/labels/train/stage1-47-_jpg.rf.7ddd328c3bd0a097fda8cc0ccd59bd64.txt  \n",
            "  inflating: /content/drive/MyDrive/knee/yolov6/labels/train/stage1-49-_jpg.rf.627d95284b6245ac611a0feee093e11c.txt  \n",
            "  inflating: /content/drive/MyDrive/knee/yolov6/labels/train/stage1-5-_jpg.rf.d0a029a621721e2c0d53b08543b938bf.txt  \n",
            "  inflating: /content/drive/MyDrive/knee/yolov6/labels/train/stage1-50-_jpg.rf.c764488828256d316418294dea63150c.txt  \n",
            "  inflating: /content/drive/MyDrive/knee/yolov6/labels/train/stage1-6-_jpg.rf.00f7c453f7621b0ffd951a433c297736.txt  \n",
            "  inflating: /content/drive/MyDrive/knee/yolov6/labels/train/stage1-7-_jpg.rf.14b4561010bc80ea6fbf04ac0e16fe5a.txt  \n",
            "  inflating: /content/drive/MyDrive/knee/yolov6/labels/train/stage1-8-_jpg.rf.91e02d1fe3bd8480f44c845047b6b9f2.txt  \n",
            "  inflating: /content/drive/MyDrive/knee/yolov6/labels/train/stage1-9-_jpg.rf.4ea9a75773987d190ea28de58efb2aa2.txt  \n",
            "  inflating: /content/drive/MyDrive/knee/yolov6/labels/train/stage2-1-_jpg.rf.1d43ee0d7c927e4374370e928168dd62.txt  \n",
            "  inflating: /content/drive/MyDrive/knee/yolov6/labels/train/stage2-10-_jpg.rf.6f8963bc66d65940aa0923540d026b12.txt  \n",
            "  inflating: /content/drive/MyDrive/knee/yolov6/labels/train/stage2-11-_jpg.rf.229c9dd3cfdca142cf0a2c0e96ca7354.txt  \n",
            "  inflating: /content/drive/MyDrive/knee/yolov6/labels/train/stage2-12-_jpg.rf.bdffc75f1c3660f6e4c8ad6ff169c56c.txt  \n",
            "  inflating: /content/drive/MyDrive/knee/yolov6/labels/train/stage2-13-_jpg.rf.d080de2db08ac58b828d84f80b4f5f5c.txt  \n",
            "  inflating: /content/drive/MyDrive/knee/yolov6/labels/train/stage2-15-_jpg.rf.9fd5acb8de99683934c2d993d2ea7574.txt  \n",
            "  inflating: /content/drive/MyDrive/knee/yolov6/labels/train/stage2-16-_jpg.rf.daf599b856f398e0d1b19b48a281ed31.txt  \n",
            "  inflating: /content/drive/MyDrive/knee/yolov6/labels/train/stage2-17-_jpg.rf.beb3f2cb4db2dcace29c64cdc5cc9e36.txt  \n",
            "  inflating: /content/drive/MyDrive/knee/yolov6/labels/train/stage2-2-_jpg.rf.313e328a6faba06ff8570b4fa068a0c3.txt  \n",
            "  inflating: /content/drive/MyDrive/knee/yolov6/labels/train/stage2-21-_jpg.rf.cc6c99673ae558e517854936fa47cae6.txt  \n",
            "  inflating: /content/drive/MyDrive/knee/yolov6/labels/train/stage2-23-_jpg.rf.ffca23f24ec80f250a14cc4cce6cfb09.txt  \n",
            "  inflating: /content/drive/MyDrive/knee/yolov6/labels/train/stage2-24-_jpg.rf.4c5a7a3209b25623da0e2a860ebb7dc6.txt  \n",
            "  inflating: /content/drive/MyDrive/knee/yolov6/labels/train/stage2-25-_jpg.rf.bca8fdee2741bcc95dcb4e7f3d6b0d8a.txt  \n",
            "  inflating: /content/drive/MyDrive/knee/yolov6/labels/train/stage2-26-_jpg.rf.108c798b31ed70f1780982b5e180d18c.txt  \n",
            "  inflating: /content/drive/MyDrive/knee/yolov6/labels/train/stage2-27-_jpg.rf.ab4b165195ac3b085ef0da3c25abcecc.txt  \n",
            "  inflating: /content/drive/MyDrive/knee/yolov6/labels/train/stage2-28-_jpg.rf.909ad83c269ff4d4bf1f6426a0013c4a.txt  \n",
            "  inflating: /content/drive/MyDrive/knee/yolov6/labels/train/stage2-29-_jpg.rf.51d7a51046b48f1f917faa40e3fb34e8.txt  \n",
            "  inflating: /content/drive/MyDrive/knee/yolov6/labels/train/stage2-31-_jpg.rf.7314e327b3cfb8ee040e7a50b0324c26.txt  \n",
            "  inflating: /content/drive/MyDrive/knee/yolov6/labels/train/stage2-33-_jpg.rf.1c66e8482caddfde4c092d258e970513.txt  \n",
            "  inflating: /content/drive/MyDrive/knee/yolov6/labels/train/stage2-34-_jpg.rf.499a5ff05b98d2e7955097f005ea6b5b.txt  \n",
            "  inflating: /content/drive/MyDrive/knee/yolov6/labels/train/stage2-35-_jpg.rf.661a7f68a60f9d32ed342dd03968861d.txt  \n",
            "  inflating: /content/drive/MyDrive/knee/yolov6/labels/train/stage2-36-_jpg.rf.815fcc4ab9ffcb337f10d2efe3cdadd7.txt  \n",
            "  inflating: /content/drive/MyDrive/knee/yolov6/labels/train/stage2-38-_jpg.rf.2c40ea7e4a119c663f67d68e7cd57813.txt  \n",
            "  inflating: /content/drive/MyDrive/knee/yolov6/labels/train/stage2-4-_jpg.rf.9e4fb22a94c2b3b4dba39fe97ca46ef7.txt  \n",
            "  inflating: /content/drive/MyDrive/knee/yolov6/labels/train/stage2-5-_jpg.rf.88ec511fa61517c411e39c68c5c17f6b.txt  \n",
            "  inflating: /content/drive/MyDrive/knee/yolov6/labels/train/stage2-6-_jpg.rf.d6138a4c1574eedd5c0d3bc0bfc8f9f6.txt  \n",
            "  inflating: /content/drive/MyDrive/knee/yolov6/labels/train/stage2-8-_jpg.rf.31f8d91615112be0facc5c176459601b.txt  \n",
            "  inflating: /content/drive/MyDrive/knee/yolov6/labels/train/stage3-1-_jpg.rf.4bc11626e3c6bd8eaea746f8a2576376.txt  \n",
            "  inflating: /content/drive/MyDrive/knee/yolov6/labels/train/stage3-10-_jpg.rf.e02a60d1a8865e899374de770f5fa67f.txt  \n",
            "  inflating: /content/drive/MyDrive/knee/yolov6/labels/train/stage3-11-_jpg.rf.5bb79ca10351532001173ae893ba5ff4.txt  \n",
            "  inflating: /content/drive/MyDrive/knee/yolov6/labels/train/stage3-12-_jpg.rf.579bc32d598ce9c76be0c4f340bca551.txt  \n",
            "  inflating: /content/drive/MyDrive/knee/yolov6/labels/train/stage3-13-_jpg.rf.d4d0c007243092b1af7efc02dd40d6fb.txt  \n",
            "  inflating: /content/drive/MyDrive/knee/yolov6/labels/train/stage3-15-_jpg.rf.c6eec090bae98d035da4f43952fb5e77.txt  \n",
            "  inflating: /content/drive/MyDrive/knee/yolov6/labels/train/stage3-16-_jpg.rf.9078e96eb82aff0a3202fbeff745960c.txt  \n",
            "  inflating: /content/drive/MyDrive/knee/yolov6/labels/train/stage3-18-_jpg.rf.b91436e1e68f139b4e279c2b575f75e0.txt  \n",
            "  inflating: /content/drive/MyDrive/knee/yolov6/labels/train/stage3-19-_jpg.rf.f5b2a8a21813f3dde47b77be4207fe30.txt  \n",
            "  inflating: /content/drive/MyDrive/knee/yolov6/labels/train/stage3-2-_jpg.rf.e1621de86db6614b256c702dcdf8b1d8.txt  \n",
            "  inflating: /content/drive/MyDrive/knee/yolov6/labels/train/stage3-22-_jpg.rf.ecb6c4024b307894df05f5aea94e0244.txt  \n",
            "  inflating: /content/drive/MyDrive/knee/yolov6/labels/train/stage3-23-_jpg.rf.e12398169459ee10874ec431f29145ed.txt  \n",
            "  inflating: /content/drive/MyDrive/knee/yolov6/labels/train/stage3-26-_jpg.rf.2922417bf835a2be918f9dd24aac5a66.txt  \n",
            "  inflating: /content/drive/MyDrive/knee/yolov6/labels/train/stage3-28-_jpg.rf.5098d556f3b37b7d498d4d41a9d4fa6a.txt  \n",
            "  inflating: /content/drive/MyDrive/knee/yolov6/labels/train/stage3-3-_jpg.rf.6318860e999ad95f38142f7006889a3f.txt  \n",
            "  inflating: /content/drive/MyDrive/knee/yolov6/labels/train/stage3-30-_jpg.rf.5e8e59a841e0987dd68e988b8ff7a1c6.txt  \n",
            "  inflating: /content/drive/MyDrive/knee/yolov6/labels/train/stage3-31-_jpg.rf.cbcea771538d775f6fa2f6bd62a0aaa1.txt  \n",
            "  inflating: /content/drive/MyDrive/knee/yolov6/labels/train/stage3-34-_jpg.rf.45b19c62f1ba1ac0e3dd91b66809713d.txt  \n",
            "  inflating: /content/drive/MyDrive/knee/yolov6/labels/train/stage3-35-_jpg.rf.34ff8fd1c9c12d420bc5c8726fcd8430.txt  \n",
            "  inflating: /content/drive/MyDrive/knee/yolov6/labels/train/stage3-36-_jpg.rf.fef808eb4f0f7921435296e5d79b3e44.txt  \n",
            "  inflating: /content/drive/MyDrive/knee/yolov6/labels/train/stage3-37-_jpg.rf.17184a02f6354e7d2630d43a797ddd70.txt  \n",
            "  inflating: /content/drive/MyDrive/knee/yolov6/labels/train/stage3-38-_jpg.rf.61bf5e36c247fd87e7484d5583303857.txt  \n",
            "  inflating: /content/drive/MyDrive/knee/yolov6/labels/train/stage3-4-_jpg.rf.d88fea6b0639a4781a99962f410e6d58.txt  \n",
            "  inflating: /content/drive/MyDrive/knee/yolov6/labels/train/stage3-5-_jpg.rf.f17c8d80e75cdd295aeaf15a8917930e.txt  \n",
            "  inflating: /content/drive/MyDrive/knee/yolov6/labels/train/stage3-6-_jpg.rf.f388ceb8b4d13ef5a7593d19d18718ce.txt  \n",
            "  inflating: /content/drive/MyDrive/knee/yolov6/labels/train/stage3-7-_jpg.rf.61988d5d39b05cfcc81624d6aea45089.txt  \n",
            "  inflating: /content/drive/MyDrive/knee/yolov6/labels/train/stage3-8-_jpg.rf.67a78d1b035bc309e387258b045f010e.txt  \n",
            "   creating: /content/drive/MyDrive/knee/yolov6/labels/valid/\n",
            "  inflating: /content/drive/MyDrive/knee/yolov6/labels/valid/stage0-10-_jpg.rf.9bab984c796c7ebea9fab26f584e3e17.txt  \n",
            "  inflating: /content/drive/MyDrive/knee/yolov6/labels/valid/stage0-12-_jpg.rf.ac132ce66831d9d5540d034098fe438a.txt  \n",
            "  inflating: /content/drive/MyDrive/knee/yolov6/labels/valid/stage0-15-_jpg.rf.36faabf95573cd43f7a02c1e5a3717fc.txt  \n",
            "  inflating: /content/drive/MyDrive/knee/yolov6/labels/valid/stage0-2-_jpg.rf.0b31fc31badbac2f892776dff04b0a70.txt  \n",
            "  inflating: /content/drive/MyDrive/knee/yolov6/labels/valid/stage0-21-_jpg.rf.9605b85cb4516ed3ccd25c07b74b89b4.txt  \n",
            "  inflating: /content/drive/MyDrive/knee/yolov6/labels/valid/stage0-33-_jpg.rf.7275c00aac9769550a8bb2121a4e963a.txt  \n",
            "  inflating: /content/drive/MyDrive/knee/yolov6/labels/valid/stage0-35-_jpg.rf.ae4cbde97e7b534ecd3303a54700142e.txt  \n",
            "  inflating: /content/drive/MyDrive/knee/yolov6/labels/valid/stage0-36-_jpg.rf.839f673e9c1ac9c10f6511605998b13f.txt  \n",
            "  inflating: /content/drive/MyDrive/knee/yolov6/labels/valid/stage0-38-_jpg.rf.dd9581b23979766146d24278171301bc.txt  \n",
            "  inflating: /content/drive/MyDrive/knee/yolov6/labels/valid/stage0-6-_jpg.rf.4cf18ea495fe66a0c6854cb3a6f3f5ee.txt  \n",
            "  inflating: /content/drive/MyDrive/knee/yolov6/labels/valid/stage0-9-_jpg.rf.64a8e99774e50804127865ffd3e78e9b.txt  \n",
            "  inflating: /content/drive/MyDrive/knee/yolov6/labels/valid/stage1-10-_jpg.rf.78c626ea4eb666676c4e9e0a88cb5c89.txt  \n",
            "  inflating: /content/drive/MyDrive/knee/yolov6/labels/valid/stage1-13-_jpg.rf.fbdb24495a9b57f683e63c87f1b8fb2b.txt  \n",
            "  inflating: /content/drive/MyDrive/knee/yolov6/labels/valid/stage1-19-_jpg.rf.93bbc7c206f1e0cd9d117bf3d5f6c614.txt  \n",
            "  inflating: /content/drive/MyDrive/knee/yolov6/labels/valid/stage1-2-_jpg.rf.b2605a0f0a67163ed57ca52e6d64b771.txt  \n",
            "  inflating: /content/drive/MyDrive/knee/yolov6/labels/valid/stage1-24-_jpg.rf.6ca13069ba04e5e4191c5f67849b2f5b.txt  \n",
            "  inflating: /content/drive/MyDrive/knee/yolov6/labels/valid/stage1-33-_jpg.rf.43be807f3d0e98043470f66a7853768b.txt  \n",
            "  inflating: /content/drive/MyDrive/knee/yolov6/labels/valid/stage1-37-_jpg.rf.f980707456648f31eee481cfaec96310.txt  \n",
            "  inflating: /content/drive/MyDrive/knee/yolov6/labels/valid/stage1-38-_jpg.rf.bb86c60512df7505eac5d4efd13ce473.txt  \n",
            "  inflating: /content/drive/MyDrive/knee/yolov6/labels/valid/stage1-45-_jpg.rf.b8e4b225cff0e3f46a77dc6f9f785433.txt  \n",
            "  inflating: /content/drive/MyDrive/knee/yolov6/labels/valid/stage1-46-_jpg.rf.039e34e5b9a106b30f3cfc31ef3501c2.txt  \n",
            "  inflating: /content/drive/MyDrive/knee/yolov6/labels/valid/stage1-48-_jpg.rf.da72ed5042dcef58eca45732827d906d.txt  \n",
            "  inflating: /content/drive/MyDrive/knee/yolov6/labels/valid/stage2-14-_jpg.rf.9d9f22501f582b0f2c440366a9292fd4.txt  \n",
            "  inflating: /content/drive/MyDrive/knee/yolov6/labels/valid/stage2-18-_jpg.rf.a18c95979640ff052fb2d1a6ee8dde15.txt  \n",
            "  inflating: /content/drive/MyDrive/knee/yolov6/labels/valid/stage2-19-_jpg.rf.aff8b223a08aaf88238713b380e74e8d.txt  \n",
            "  inflating: /content/drive/MyDrive/knee/yolov6/labels/valid/stage2-20-_jpg.rf.6d49b4dc70b0fff748f5bea17e8f6a45.txt  \n",
            "  inflating: /content/drive/MyDrive/knee/yolov6/labels/valid/stage2-22-_jpg.rf.5b4bb35875bb53e20d9b0d8e8367e019.txt  \n",
            "  inflating: /content/drive/MyDrive/knee/yolov6/labels/valid/stage2-3-_jpg.rf.3a097dc3f4fdba8baff77739d308547b.txt  \n",
            "  inflating: /content/drive/MyDrive/knee/yolov6/labels/valid/stage2-30-_jpg.rf.58f1306a03187497fbd7140056551c1c.txt  \n",
            "  inflating: /content/drive/MyDrive/knee/yolov6/labels/valid/stage2-32-_jpg.rf.70062bef7f1a1e2ae36225c41b3dd8a0.txt  \n",
            "  inflating: /content/drive/MyDrive/knee/yolov6/labels/valid/stage2-37-_jpg.rf.8f7a24b62de58fc953d2621317edb94a.txt  \n",
            "  inflating: /content/drive/MyDrive/knee/yolov6/labels/valid/stage2-39-_jpg.rf.83d3b04249a8d2a0b4a3979495a0ed8e.txt  \n",
            "  inflating: /content/drive/MyDrive/knee/yolov6/labels/valid/stage2-40-_jpg.rf.392ed6bb5545252883f0ddde5c8bd90c.txt  \n",
            "  inflating: /content/drive/MyDrive/knee/yolov6/labels/valid/stage2-7-_jpg.rf.11fa7df3234fddcf7e0acde3ed621670.txt  \n",
            "  inflating: /content/drive/MyDrive/knee/yolov6/labels/valid/stage2-9-_jpg.rf.29fd1eaa63f713c0bd2e73e888804598.txt  \n",
            "  inflating: /content/drive/MyDrive/knee/yolov6/labels/valid/stage3-14-_jpg.rf.2bc428feab9f0b6cbb5d3bc2bf06ecf5.txt  \n",
            "  inflating: /content/drive/MyDrive/knee/yolov6/labels/valid/stage3-17-_jpg.rf.09e0a26e1c55c42ef6628e2aac503efc.txt  \n",
            "  inflating: /content/drive/MyDrive/knee/yolov6/labels/valid/stage3-20-_jpg.rf.310a14c02615d6225b7f23082de272d0.txt  \n",
            "  inflating: /content/drive/MyDrive/knee/yolov6/labels/valid/stage3-21-_jpg.rf.b4320727c8dab2fab03615dbb6dacd4b.txt  \n",
            "  inflating: /content/drive/MyDrive/knee/yolov6/labels/valid/stage3-24-_jpg.rf.2ad3733e86d768e35c6ae883e2a40725.txt  \n",
            "  inflating: /content/drive/MyDrive/knee/yolov6/labels/valid/stage3-25-_jpg.rf.161634eb540ae3484011fe3637e22879.txt  \n",
            "  inflating: /content/drive/MyDrive/knee/yolov6/labels/valid/stage3-27-_jpg.rf.70a92ee89dcc5c175c76c554bd5fd6f9.txt  \n",
            "  inflating: /content/drive/MyDrive/knee/yolov6/labels/valid/stage3-29-_jpg.rf.1b5661d200547eb70b181e17e9e072bd.txt  \n",
            "  inflating: /content/drive/MyDrive/knee/yolov6/labels/valid/stage3-32-_jpg.rf.fe015995e5985b204ccb824c4158abca.txt  \n",
            "  inflating: /content/drive/MyDrive/knee/yolov6/labels/valid/stage3-33-_jpg.rf.d46b9d59b509636c225e17f57598eb21.txt  \n",
            "  inflating: /content/drive/MyDrive/knee/yolov6/labels/valid/stage3-39-_jpg.rf.fb17b56c087be794bfaa38324887d056.txt  \n",
            "  inflating: /content/drive/MyDrive/knee/yolov6/labels/valid/stage3-40-_jpg.rf.97d0814912cb2d6a374bdd755f4b7937.txt  \n",
            "  inflating: /content/drive/MyDrive/knee/yolov6/labels/valid/stage3-9-_jpg.rf.f4b1a71535359e43699a3191600d9d44.txt  \n",
            "  inflating: /content/drive/MyDrive/knee/yolov6/README.dataset.txt  \n",
            "  inflating: /content/drive/MyDrive/knee/yolov6/README.roboflow.txt  \n"
          ]
        }
      ]
    },
    {
      "cell_type": "code",
      "execution_count": null,
      "metadata": {
        "colab": {
          "base_uri": "https://localhost:8080/"
        },
        "id": "nOQr2cnkwT8R",
        "outputId": "e3090106-2b7a-4979-dffe-58f41eec5698"
      },
      "outputs": [
        {
          "output_type": "stream",
          "name": "stdout",
          "text": [
            "['train: /content/drive/MyDrive/knee/yolov5/train/images\\n', 'val: /content/drive/MyDrive/knee/yolov5/valid/images\\n', '\\n', '\\n', 'nc: 4\\n', \"names: ['stage0', 'stage1', 'stage2', 'stage3']\\n\", '\\n', 'roboflow:\\n', '  workspace: tru-project-qvb6r\\n', '  project: knee-lxojm\\n', '  version: 1\\n', '  license: CC BY 4.0\\n', '  url: https://universe.roboflow.com/tru-project-qvb6r/knee-lxojm/dataset/1']\n"
          ]
        }
      ],
      "source": [
        "with open(r'/content/drive/MyDrive/knee/yolov5/data.yaml', 'r') as file:\n",
        "    lines = file.readlines()\n",
        "    print(lines)"
      ]
    },
    {
      "cell_type": "code",
      "execution_count": null,
      "metadata": {
        "colab": {
          "base_uri": "https://localhost:8080/"
        },
        "id": "Tdw93VBLDgic",
        "outputId": "243ce173-a5f0-446a-e33f-a3647c0231cc"
      },
      "outputs": [
        {
          "output_type": "stream",
          "name": "stdout",
          "text": [
            "/bin/bash: line 1: wandb: command not found\n",
            "2024-01-02 07:55:07.406346: E external/local_xla/xla/stream_executor/cuda/cuda_dnn.cc:9261] Unable to register cuDNN factory: Attempting to register factory for plugin cuDNN when one has already been registered\n",
            "2024-01-02 07:55:07.406403: E external/local_xla/xla/stream_executor/cuda/cuda_fft.cc:607] Unable to register cuFFT factory: Attempting to register factory for plugin cuFFT when one has already been registered\n",
            "2024-01-02 07:55:07.408048: E external/local_xla/xla/stream_executor/cuda/cuda_blas.cc:1515] Unable to register cuBLAS factory: Attempting to register factory for plugin cuBLAS when one has already been registered\n",
            "\u001b[34m\u001b[1mtrain: \u001b[0mweights=yolov5x.pt, cfg=, data=/content/drive/MyDrive/knee/yolov5/data.yaml, hyp=data/hyps/hyp.scratch-low.yaml, epochs=200, batch_size=16, imgsz=415, rect=False, resume=False, nosave=False, noval=False, noautoanchor=False, noplots=False, evolve=None, bucket=, cache=ram, image_weights=False, device=, multi_scale=False, single_cls=False, optimizer=SGD, sync_bn=False, workers=2, project=runs/train, name=exp, exist_ok=False, quad=False, cos_lr=False, label_smoothing=0.0, patience=100, freeze=[0], save_period=-1, seed=0, local_rank=-1, entity=None, upload_dataset=False, bbox_interval=-1, artifact_alias=latest\n",
            "\u001b[34m\u001b[1mgithub: \u001b[0mup to date with https://github.com/ultralytics/yolov5 ✅\n",
            "YOLOv5 🚀 v7.0-256-g43c43d8 Python-3.10.12 torch-2.1.0+cu121 CUDA:0 (Tesla T4, 15102MiB)\n",
            "\n",
            "\u001b[34m\u001b[1mhyperparameters: \u001b[0mlr0=0.01, lrf=0.01, momentum=0.937, weight_decay=0.0005, warmup_epochs=3.0, warmup_momentum=0.8, warmup_bias_lr=0.1, box=0.05, cls=0.5, cls_pw=1.0, obj=1.0, obj_pw=1.0, iou_t=0.2, anchor_t=4.0, fl_gamma=0.0, hsv_h=0.015, hsv_s=0.7, hsv_v=0.4, degrees=0.0, translate=0.1, scale=0.5, shear=0.0, perspective=0.0, flipud=0.0, fliplr=0.5, mosaic=1.0, mixup=0.0, copy_paste=0.0\n",
            "\u001b[34m\u001b[1mComet: \u001b[0mrun 'pip install comet_ml' to automatically track and visualize YOLOv5 🚀 runs in Comet\n",
            "\u001b[34m\u001b[1mTensorBoard: \u001b[0mStart with 'tensorboard --logdir runs/train', view at http://localhost:6006/\n",
            "Overriding model.yaml nc=80 with nc=4\n",
            "\n",
            "                 from  n    params  module                                  arguments                     \n",
            "  0                -1  1      8800  models.common.Conv                      [3, 80, 6, 2, 2]              \n",
            "  1                -1  1    115520  models.common.Conv                      [80, 160, 3, 2]               \n",
            "  2                -1  4    309120  models.common.C3                        [160, 160, 4]                 \n",
            "  3                -1  1    461440  models.common.Conv                      [160, 320, 3, 2]              \n",
            "  4                -1  8   2259200  models.common.C3                        [320, 320, 8]                 \n",
            "  5                -1  1   1844480  models.common.Conv                      [320, 640, 3, 2]              \n",
            "  6                -1 12  13125120  models.common.C3                        [640, 640, 12]                \n",
            "  7                -1  1   7375360  models.common.Conv                      [640, 1280, 3, 2]             \n",
            "  8                -1  4  19676160  models.common.C3                        [1280, 1280, 4]               \n",
            "  9                -1  1   4099840  models.common.SPPF                      [1280, 1280, 5]               \n",
            " 10                -1  1    820480  models.common.Conv                      [1280, 640, 1, 1]             \n",
            " 11                -1  1         0  torch.nn.modules.upsampling.Upsample    [None, 2, 'nearest']          \n",
            " 12           [-1, 6]  1         0  models.common.Concat                    [1]                           \n",
            " 13                -1  4   5332480  models.common.C3                        [1280, 640, 4, False]         \n",
            " 14                -1  1    205440  models.common.Conv                      [640, 320, 1, 1]              \n",
            " 15                -1  1         0  torch.nn.modules.upsampling.Upsample    [None, 2, 'nearest']          \n",
            " 16           [-1, 4]  1         0  models.common.Concat                    [1]                           \n",
            " 17                -1  4   1335040  models.common.C3                        [640, 320, 4, False]          \n",
            " 18                -1  1    922240  models.common.Conv                      [320, 320, 3, 2]              \n",
            " 19          [-1, 14]  1         0  models.common.Concat                    [1]                           \n",
            " 20                -1  4   4922880  models.common.C3                        [640, 640, 4, False]          \n",
            " 21                -1  1   3687680  models.common.Conv                      [640, 640, 3, 2]              \n",
            " 22          [-1, 10]  1         0  models.common.Concat                    [1]                           \n",
            " 23                -1  4  19676160  models.common.C3                        [1280, 1280, 4, False]        \n",
            " 24      [17, 20, 23]  1     60561  models.yolo.Detect                      [4, [[10, 13, 16, 30, 33, 23], [30, 61, 62, 45, 59, 119], [116, 90, 156, 198, 373, 326]], [320, 640, 1280]]\n",
            "Model summary: 445 layers, 86238001 parameters, 86238001 gradients, 204.7 GFLOPs\n",
            "\n",
            "Transferred 739/745 items from yolov5x.pt\n",
            "\u001b[34m\u001b[1mAMP: \u001b[0mchecks passed ✅\n",
            "WARNING ⚠️ --img-size 415 must be multiple of max stride 32, updating to 416\n",
            "\u001b[34m\u001b[1moptimizer:\u001b[0m SGD(lr=0.01) with parameter groups 123 weight(decay=0.0), 126 weight(decay=0.0005), 126 bias\n",
            "\u001b[34m\u001b[1malbumentations: \u001b[0mBlur(p=0.01, blur_limit=(3, 7)), MedianBlur(p=0.01, blur_limit=(3, 7)), ToGray(p=0.01), CLAHE(p=0.01, clip_limit=(1, 4.0), tile_grid_size=(8, 8))\n",
            "\u001b[34m\u001b[1mtrain: \u001b[0mScanning /content/drive/MyDrive/knee/yolov5/train/labels.cache... 122 images, 0 backgrounds, 0 corrupt: 100% 122/122 [00:00<?, ?it/s]\n",
            "\u001b[34m\u001b[1mtrain: \u001b[0mCaching images (0.1GB ram): 100% 122/122 [00:00<00:00, 163.01it/s]\n",
            "\u001b[34m\u001b[1mval: \u001b[0mScanning /content/drive/MyDrive/knee/yolov5/train/labels.cache... 122 images, 0 backgrounds, 0 corrupt: 100% 122/122 [00:00<?, ?it/s]\n",
            "\u001b[34m\u001b[1mval: \u001b[0mCaching images (0.1GB ram): 100% 122/122 [00:01<00:00, 82.20it/s]\n",
            "\n",
            "\u001b[34m\u001b[1mAutoAnchor: \u001b[0m3.06 anchors/target, 1.000 Best Possible Recall (BPR). Current anchors are a good fit to dataset ✅\n",
            "Plotting labels to runs/train/exp2/labels.jpg... \n",
            "Image sizes 416 train, 416 val\n",
            "Using 2 dataloader workers\n",
            "Logging results to \u001b[1mruns/train/exp2\u001b[0m\n",
            "Starting training for 200 epochs...\n",
            "\n",
            "      Epoch    GPU_mem   box_loss   obj_loss   cls_loss  Instances       Size\n",
            "      0/199      6.55G      0.116    0.01939    0.04487         25        416: 100% 8/8 [00:10<00:00,  1.35s/it]\n",
            "                 Class     Images  Instances          P          R      mAP50   mAP50-95: 100% 4/4 [00:02<00:00,  2.00it/s]\n",
            "                   all        122        122    0.00118      0.129    0.00134   0.000168\n",
            "\n",
            "      Epoch    GPU_mem   box_loss   obj_loss   cls_loss  Instances       Size\n",
            "      1/199      7.45G    0.09881    0.02163    0.04606         20        416: 100% 8/8 [00:04<00:00,  1.92it/s]\n",
            "                 Class     Images  Instances          P          R      mAP50   mAP50-95: 100% 4/4 [00:01<00:00,  2.12it/s]\n",
            "                   all        122        122    0.00302       0.59     0.0191      0.003\n",
            "\n",
            "      Epoch    GPU_mem   box_loss   obj_loss   cls_loss  Instances       Size\n",
            "      2/199      7.45G    0.08449    0.02401    0.04584         21        416: 100% 8/8 [00:03<00:00,  2.12it/s]\n",
            "                 Class     Images  Instances          P          R      mAP50   mAP50-95: 100% 4/4 [00:02<00:00,  1.77it/s]\n",
            "                   all        122        122    0.00365      0.922     0.0359    0.00846\n",
            "\n",
            "      Epoch    GPU_mem   box_loss   obj_loss   cls_loss  Instances       Size\n",
            "      3/199      7.45G    0.07306    0.02514    0.04535         27        416: 100% 8/8 [00:03<00:00,  2.17it/s]\n",
            "                 Class     Images  Instances          P          R      mAP50   mAP50-95: 100% 4/4 [00:02<00:00,  1.91it/s]\n",
            "                   all        122        122    0.00342       0.99     0.0392    0.00879\n",
            "\n",
            "      Epoch    GPU_mem   box_loss   obj_loss   cls_loss  Instances       Size\n",
            "      4/199      7.45G     0.0647    0.02561    0.04235         25        416: 100% 8/8 [00:03<00:00,  2.18it/s]\n",
            "                 Class     Images  Instances          P          R      mAP50   mAP50-95: 100% 4/4 [00:02<00:00,  1.97it/s]\n",
            "                   all        122        122     0.0034          1      0.118     0.0427\n",
            "\n",
            "      Epoch    GPU_mem   box_loss   obj_loss   cls_loss  Instances       Size\n",
            "      5/199      7.45G    0.05845    0.02457    0.04132         22        416: 100% 8/8 [00:03<00:00,  2.18it/s]\n",
            "                 Class     Images  Instances          P          R      mAP50   mAP50-95: 100% 4/4 [00:01<00:00,  2.08it/s]\n",
            "                   all        122        122    0.00336       0.99     0.0835     0.0267\n",
            "\n",
            "      Epoch    GPU_mem   box_loss   obj_loss   cls_loss  Instances       Size\n",
            "      6/199      7.45G    0.06028    0.02289     0.0434         25        416: 100% 8/8 [00:03<00:00,  2.06it/s]\n",
            "                 Class     Images  Instances          P          R      mAP50   mAP50-95: 100% 4/4 [00:02<00:00,  1.90it/s]\n",
            "                   all        122        122     0.0687      0.445     0.0868     0.0324\n",
            "\n",
            "      Epoch    GPU_mem   box_loss   obj_loss   cls_loss  Instances       Size\n",
            "      7/199      7.45G    0.05797    0.02265    0.04373         18        416: 100% 8/8 [00:03<00:00,  2.16it/s]\n",
            "                 Class     Images  Instances          P          R      mAP50   mAP50-95: 100% 4/4 [00:01<00:00,  2.11it/s]\n",
            "                   all        122        122     0.0705      0.134     0.0785     0.0278\n",
            "\n",
            "      Epoch    GPU_mem   box_loss   obj_loss   cls_loss  Instances       Size\n",
            "      8/199      7.45G    0.05941    0.02209    0.04224         25        416: 100% 8/8 [00:04<00:00,  2.00it/s]\n",
            "                 Class     Images  Instances          P          R      mAP50   mAP50-95: 100% 4/4 [00:01<00:00,  2.11it/s]\n",
            "                   all        122        122      0.149      0.176      0.115     0.0302\n",
            "\n",
            "      Epoch    GPU_mem   box_loss   obj_loss   cls_loss  Instances       Size\n",
            "      9/199      7.45G    0.05659    0.02196    0.04461         27        416: 100% 8/8 [00:03<00:00,  2.17it/s]\n",
            "                 Class     Images  Instances          P          R      mAP50   mAP50-95: 100% 4/4 [00:01<00:00,  2.10it/s]\n",
            "                   all        122        122      0.137      0.335      0.123     0.0369\n",
            "\n",
            "      Epoch    GPU_mem   box_loss   obj_loss   cls_loss  Instances       Size\n",
            "     10/199      7.45G    0.05485    0.02106    0.04289         26        416: 100% 8/8 [00:03<00:00,  2.06it/s]\n",
            "                 Class     Images  Instances          P          R      mAP50   mAP50-95: 100% 4/4 [00:01<00:00,  2.10it/s]\n",
            "                   all        122        122      0.121      0.283      0.122      0.047\n",
            "\n",
            "      Epoch    GPU_mem   box_loss   obj_loss   cls_loss  Instances       Size\n",
            "     11/199      7.45G    0.06036    0.02043    0.04322         28        416: 100% 8/8 [00:03<00:00,  2.03it/s]\n",
            "                 Class     Images  Instances          P          R      mAP50   mAP50-95: 100% 4/4 [00:02<00:00,  1.93it/s]\n",
            "                   all        122        122      0.223      0.281      0.182     0.0674\n",
            "\n",
            "      Epoch    GPU_mem   box_loss   obj_loss   cls_loss  Instances       Size\n",
            "     12/199      7.45G    0.06053    0.02036    0.04298         23        416: 100% 8/8 [00:03<00:00,  2.13it/s]\n",
            "                 Class     Images  Instances          P          R      mAP50   mAP50-95: 100% 4/4 [00:02<00:00,  1.88it/s]\n",
            "                   all        122        122      0.195      0.442      0.202     0.0741\n",
            "\n",
            "      Epoch    GPU_mem   box_loss   obj_loss   cls_loss  Instances       Size\n",
            "     13/199      7.45G    0.05423    0.01937    0.04174         18        416: 100% 8/8 [00:03<00:00,  2.09it/s]\n",
            "                 Class     Images  Instances          P          R      mAP50   mAP50-95: 100% 4/4 [00:02<00:00,  1.86it/s]\n",
            "                   all        122        122      0.194      0.529      0.229      0.084\n",
            "\n",
            "      Epoch    GPU_mem   box_loss   obj_loss   cls_loss  Instances       Size\n",
            "     14/199      7.45G    0.05276    0.01883    0.04266         27        416: 100% 8/8 [00:03<00:00,  2.06it/s]\n",
            "                 Class     Images  Instances          P          R      mAP50   mAP50-95: 100% 4/4 [00:02<00:00,  1.89it/s]\n",
            "                   all        122        122      0.412      0.521      0.226     0.0751\n",
            "\n",
            "      Epoch    GPU_mem   box_loss   obj_loss   cls_loss  Instances       Size\n",
            "     15/199      7.45G    0.05176    0.01752    0.04157         23        416: 100% 8/8 [00:03<00:00,  2.09it/s]\n",
            "                 Class     Images  Instances          P          R      mAP50   mAP50-95: 100% 4/4 [00:01<00:00,  2.08it/s]\n",
            "                   all        122        122      0.324       0.58      0.259      0.113\n",
            "\n",
            "      Epoch    GPU_mem   box_loss   obj_loss   cls_loss  Instances       Size\n",
            "     16/199      7.45G    0.04695    0.01901    0.04068         26        416: 100% 8/8 [00:03<00:00,  2.09it/s]\n",
            "                 Class     Images  Instances          P          R      mAP50   mAP50-95: 100% 4/4 [00:01<00:00,  2.10it/s]\n",
            "                   all        122        122      0.258      0.633      0.262      0.117\n",
            "\n",
            "      Epoch    GPU_mem   box_loss   obj_loss   cls_loss  Instances       Size\n",
            "     17/199      7.45G    0.05034    0.01717    0.04211         21        416: 100% 8/8 [00:03<00:00,  2.02it/s]\n",
            "                 Class     Images  Instances          P          R      mAP50   mAP50-95: 100% 4/4 [00:01<00:00,  2.16it/s]\n",
            "                   all        122        122      0.171      0.576      0.169     0.0428\n",
            "\n",
            "      Epoch    GPU_mem   box_loss   obj_loss   cls_loss  Instances       Size\n",
            "     18/199      7.45G    0.05446     0.0146    0.04115         20        416: 100% 8/8 [00:03<00:00,  2.02it/s]\n",
            "                 Class     Images  Instances          P          R      mAP50   mAP50-95: 100% 4/4 [00:02<00:00,  1.91it/s]\n",
            "                   all        122        122      0.251      0.675      0.266     0.0996\n",
            "\n",
            "      Epoch    GPU_mem   box_loss   obj_loss   cls_loss  Instances       Size\n",
            "     19/199      7.45G    0.04672    0.01638    0.04331         25        416: 100% 8/8 [00:03<00:00,  2.06it/s]\n",
            "                 Class     Images  Instances          P          R      mAP50   mAP50-95: 100% 4/4 [00:01<00:00,  2.13it/s]\n",
            "                   all        122        122      0.233      0.892      0.302      0.133\n",
            "\n",
            "      Epoch    GPU_mem   box_loss   obj_loss   cls_loss  Instances       Size\n",
            "     20/199      7.45G    0.04478    0.01591    0.04322         22        416: 100% 8/8 [00:03<00:00,  2.09it/s]\n",
            "                 Class     Images  Instances          P          R      mAP50   mAP50-95: 100% 4/4 [00:01<00:00,  2.25it/s]\n",
            "                   all        122        122      0.175      0.625      0.195     0.0553\n",
            "\n",
            "      Epoch    GPU_mem   box_loss   obj_loss   cls_loss  Instances       Size\n",
            "     21/199      7.45G    0.04616    0.01465     0.0421         25        416: 100% 8/8 [00:04<00:00,  2.00it/s]\n",
            "                 Class     Images  Instances          P          R      mAP50   mAP50-95: 100% 4/4 [00:01<00:00,  2.01it/s]\n",
            "                   all        122        122      0.234      0.902      0.272      0.112\n",
            "\n",
            "      Epoch    GPU_mem   box_loss   obj_loss   cls_loss  Instances       Size\n",
            "     22/199      7.45G    0.04593    0.01481    0.03984         23        416: 100% 8/8 [00:03<00:00,  2.07it/s]\n",
            "                 Class     Images  Instances          P          R      mAP50   mAP50-95: 100% 4/4 [00:01<00:00,  2.13it/s]\n",
            "                   all        122        122      0.242      0.934       0.28      0.132\n",
            "\n",
            "      Epoch    GPU_mem   box_loss   obj_loss   cls_loss  Instances       Size\n",
            "     23/199      7.45G    0.04626    0.01512    0.03974         25        416: 100% 8/8 [00:03<00:00,  2.10it/s]\n",
            "                 Class     Images  Instances          P          R      mAP50   mAP50-95: 100% 4/4 [00:01<00:00,  2.15it/s]\n",
            "                   all        122        122      0.209      0.835      0.233     0.0921\n",
            "\n",
            "      Epoch    GPU_mem   box_loss   obj_loss   cls_loss  Instances       Size\n",
            "     24/199      7.45G    0.04477     0.0165    0.04106         29        416: 100% 8/8 [00:04<00:00,  1.95it/s]\n",
            "                 Class     Images  Instances          P          R      mAP50   mAP50-95: 100% 4/4 [00:01<00:00,  2.10it/s]\n",
            "                   all        122        122      0.238      0.944      0.288      0.116\n",
            "\n",
            "      Epoch    GPU_mem   box_loss   obj_loss   cls_loss  Instances       Size\n",
            "     25/199      7.45G    0.04281    0.01363    0.04248         18        416: 100% 8/8 [00:03<00:00,  2.08it/s]\n",
            "                 Class     Images  Instances          P          R      mAP50   mAP50-95: 100% 4/4 [00:01<00:00,  2.13it/s]\n",
            "                   all        122        122      0.237      0.954      0.268      0.127\n",
            "\n",
            "      Epoch    GPU_mem   box_loss   obj_loss   cls_loss  Instances       Size\n",
            "     26/199      7.45G    0.04545    0.01713    0.04004         28        416: 100% 8/8 [00:03<00:00,  2.00it/s]\n",
            "                 Class     Images  Instances          P          R      mAP50   mAP50-95: 100% 4/4 [00:01<00:00,  2.13it/s]\n",
            "                   all        122        122      0.239      0.981      0.303      0.119\n",
            "\n",
            "      Epoch    GPU_mem   box_loss   obj_loss   cls_loss  Instances       Size\n",
            "     27/199      7.45G    0.04449    0.01451    0.04163         23        416: 100% 8/8 [00:03<00:00,  2.08it/s]\n",
            "                 Class     Images  Instances          P          R      mAP50   mAP50-95: 100% 4/4 [00:02<00:00,  1.88it/s]\n",
            "                   all        122        122      0.201      0.963      0.293       0.14\n",
            "\n",
            "      Epoch    GPU_mem   box_loss   obj_loss   cls_loss  Instances       Size\n",
            "     28/199      7.45G    0.03967    0.01442     0.0386         16        416: 100% 8/8 [00:03<00:00,  2.11it/s]\n",
            "                 Class     Images  Instances          P          R      mAP50   mAP50-95: 100% 4/4 [00:01<00:00,  2.13it/s]\n",
            "                   all        122        122      0.209      0.925      0.307       0.14\n",
            "\n",
            "      Epoch    GPU_mem   box_loss   obj_loss   cls_loss  Instances       Size\n",
            "     29/199      7.45G    0.04537    0.01334    0.04115         22        416: 100% 8/8 [00:03<00:00,  2.08it/s]\n",
            "                 Class     Images  Instances          P          R      mAP50   mAP50-95: 100% 4/4 [00:01<00:00,  2.11it/s]\n",
            "                   all        122        122      0.216      0.862      0.274      0.129\n",
            "\n",
            "      Epoch    GPU_mem   box_loss   obj_loss   cls_loss  Instances       Size\n",
            "     30/199      7.45G     0.0445    0.01487    0.04242         25        416: 100% 8/8 [00:04<00:00,  1.96it/s]\n",
            "                 Class     Images  Instances          P          R      mAP50   mAP50-95: 100% 4/4 [00:02<00:00,  1.99it/s]\n",
            "                   all        122        122      0.129      0.829      0.202     0.0988\n",
            "\n",
            "      Epoch    GPU_mem   box_loss   obj_loss   cls_loss  Instances       Size\n",
            "     31/199      7.45G    0.04409    0.01458    0.04122         27        416: 100% 8/8 [00:03<00:00,  2.06it/s]\n",
            "                 Class     Images  Instances          P          R      mAP50   mAP50-95: 100% 4/4 [00:01<00:00,  2.11it/s]\n",
            "                   all        122        122      0.166      0.779      0.197     0.0852\n",
            "\n",
            "      Epoch    GPU_mem   box_loss   obj_loss   cls_loss  Instances       Size\n",
            "     32/199      7.45G    0.04192    0.01436    0.04132         26        416: 100% 8/8 [00:04<00:00,  2.00it/s]\n",
            "                 Class     Images  Instances          P          R      mAP50   mAP50-95: 100% 4/4 [00:01<00:00,  2.12it/s]\n",
            "                   all        122        122      0.209      0.917      0.273      0.138\n",
            "\n",
            "      Epoch    GPU_mem   box_loss   obj_loss   cls_loss  Instances       Size\n",
            "     33/199      7.45G    0.04135    0.01245    0.04089         21        416: 100% 8/8 [00:03<00:00,  2.08it/s]\n",
            "                 Class     Images  Instances          P          R      mAP50   mAP50-95: 100% 4/4 [00:02<00:00,  1.96it/s]\n",
            "                   all        122        122      0.234      0.951      0.301      0.162\n",
            "\n",
            "      Epoch    GPU_mem   box_loss   obj_loss   cls_loss  Instances       Size\n",
            "     34/199      7.45G    0.03857    0.01453    0.04005         22        416: 100% 8/8 [00:03<00:00,  2.09it/s]\n",
            "                 Class     Images  Instances          P          R      mAP50   mAP50-95: 100% 4/4 [00:01<00:00,  2.14it/s]\n",
            "                   all        122        122      0.209      0.935      0.297      0.137\n",
            "\n",
            "      Epoch    GPU_mem   box_loss   obj_loss   cls_loss  Instances       Size\n",
            "     35/199      7.45G    0.04088    0.01416    0.04146         28        416: 100% 8/8 [00:04<00:00,  1.95it/s]\n",
            "                 Class     Images  Instances          P          R      mAP50   mAP50-95: 100% 4/4 [00:01<00:00,  2.14it/s]\n",
            "                   all        122        122      0.225        0.9       0.29      0.127\n",
            "\n",
            "      Epoch    GPU_mem   box_loss   obj_loss   cls_loss  Instances       Size\n",
            "     36/199      7.45G    0.03868    0.01365    0.04202         21        416: 100% 8/8 [00:03<00:00,  2.08it/s]\n",
            "                 Class     Images  Instances          P          R      mAP50   mAP50-95: 100% 4/4 [00:01<00:00,  2.07it/s]\n",
            "                   all        122        122      0.237      0.963      0.295       0.16\n",
            "\n",
            "      Epoch    GPU_mem   box_loss   obj_loss   cls_loss  Instances       Size\n",
            "     37/199      7.45G    0.03783    0.01373    0.03887         24        416: 100% 8/8 [00:03<00:00,  2.05it/s]\n",
            "                 Class     Images  Instances          P          R      mAP50   mAP50-95: 100% 4/4 [00:01<00:00,  2.12it/s]\n",
            "                   all        122        122      0.234      0.963      0.299      0.159\n",
            "\n",
            "      Epoch    GPU_mem   box_loss   obj_loss   cls_loss  Instances       Size\n",
            "     38/199      7.45G    0.03768    0.01429    0.04104         23        416: 100% 8/8 [00:03<00:00,  2.05it/s]\n",
            "                 Class     Images  Instances          P          R      mAP50   mAP50-95: 100% 4/4 [00:02<00:00,  1.92it/s]\n",
            "                   all        122        122      0.238      0.962      0.283      0.149\n",
            "\n",
            "      Epoch    GPU_mem   box_loss   obj_loss   cls_loss  Instances       Size\n",
            "     39/199      7.45G    0.03927    0.01187    0.04103         18        416: 100% 8/8 [00:03<00:00,  2.08it/s]\n",
            "                 Class     Images  Instances          P          R      mAP50   mAP50-95: 100% 4/4 [00:01<00:00,  2.15it/s]\n",
            "                   all        122        122      0.231      0.955      0.282      0.144\n",
            "\n",
            "      Epoch    GPU_mem   box_loss   obj_loss   cls_loss  Instances       Size\n",
            "     40/199      7.45G    0.03793    0.01339    0.04045         25        416: 100% 8/8 [00:04<00:00,  1.98it/s]\n",
            "                 Class     Images  Instances          P          R      mAP50   mAP50-95: 100% 4/4 [00:02<00:00,  1.94it/s]\n",
            "                   all        122        122       0.24      0.962      0.293      0.169\n",
            "\n",
            "      Epoch    GPU_mem   box_loss   obj_loss   cls_loss  Instances       Size\n",
            "     41/199      7.45G    0.03532    0.01271    0.03907         19        416: 100% 8/8 [00:03<00:00,  2.09it/s]\n",
            "                 Class     Images  Instances          P          R      mAP50   mAP50-95: 100% 4/4 [00:02<00:00,  1.93it/s]\n",
            "                   all        122        122      0.239      0.954      0.297      0.141\n",
            "\n",
            "      Epoch    GPU_mem   box_loss   obj_loss   cls_loss  Instances       Size\n",
            "     42/199      7.45G    0.04013    0.01356    0.04085         22        416: 100% 8/8 [00:03<00:00,  2.09it/s]\n",
            "                 Class     Images  Instances          P          R      mAP50   mAP50-95: 100% 4/4 [00:01<00:00,  2.15it/s]\n",
            "                   all        122        122      0.244      0.979        0.3      0.167\n",
            "\n",
            "      Epoch    GPU_mem   box_loss   obj_loss   cls_loss  Instances       Size\n",
            "     43/199      7.45G    0.03493    0.01253    0.04144         24        416: 100% 8/8 [00:04<00:00,  2.00it/s]\n",
            "                 Class     Images  Instances          P          R      mAP50   mAP50-95: 100% 4/4 [00:02<00:00,  1.90it/s]\n",
            "                   all        122        122      0.244      0.975      0.339      0.182\n",
            "\n",
            "      Epoch    GPU_mem   box_loss   obj_loss   cls_loss  Instances       Size\n",
            "     44/199      7.45G    0.03633    0.01379    0.04033         28        416: 100% 8/8 [00:03<00:00,  2.07it/s]\n",
            "                 Class     Images  Instances          P          R      mAP50   mAP50-95: 100% 4/4 [00:02<00:00,  1.92it/s]\n",
            "                   all        122        122      0.244      0.978      0.307      0.178\n",
            "\n",
            "      Epoch    GPU_mem   box_loss   obj_loss   cls_loss  Instances       Size\n",
            "     45/199      7.45G    0.03653    0.01485    0.04015         27        416: 100% 8/8 [00:03<00:00,  2.07it/s]\n",
            "                 Class     Images  Instances          P          R      mAP50   mAP50-95: 100% 4/4 [00:01<00:00,  2.14it/s]\n",
            "                   all        122        122      0.241      0.963      0.286      0.165\n",
            "\n",
            "      Epoch    GPU_mem   box_loss   obj_loss   cls_loss  Instances       Size\n",
            "     46/199      7.45G    0.04013    0.01317    0.04012         31        416: 100% 8/8 [00:04<00:00,  1.97it/s]\n",
            "                 Class     Images  Instances          P          R      mAP50   mAP50-95: 100% 4/4 [00:02<00:00,  1.84it/s]\n",
            "                   all        122        122      0.241      0.963       0.34      0.208\n",
            "\n",
            "      Epoch    GPU_mem   box_loss   obj_loss   cls_loss  Instances       Size\n",
            "     47/199      7.45G    0.03752     0.0128    0.04043         18        416: 100% 8/8 [00:03<00:00,  2.09it/s]\n",
            "                 Class     Images  Instances          P          R      mAP50   mAP50-95: 100% 4/4 [00:02<00:00,  1.97it/s]\n",
            "                   all        122        122      0.243      0.972      0.348      0.198\n",
            "\n",
            "      Epoch    GPU_mem   box_loss   obj_loss   cls_loss  Instances       Size\n",
            "     48/199      7.45G    0.03719    0.01287    0.03971         22        416: 100% 8/8 [00:03<00:00,  2.08it/s]\n",
            "                 Class     Images  Instances          P          R      mAP50   mAP50-95: 100% 4/4 [00:01<00:00,  2.15it/s]\n",
            "                   all        122        122      0.244      0.976      0.346      0.196\n",
            "\n",
            "      Epoch    GPU_mem   box_loss   obj_loss   cls_loss  Instances       Size\n",
            "     49/199      7.45G    0.03398    0.01317    0.03924         22        416: 100% 8/8 [00:03<00:00,  2.03it/s]\n",
            "                 Class     Images  Instances          P          R      mAP50   mAP50-95: 100% 4/4 [00:02<00:00,  1.92it/s]\n",
            "                   all        122        122      0.242      0.968      0.336      0.166\n",
            "\n",
            "      Epoch    GPU_mem   box_loss   obj_loss   cls_loss  Instances       Size\n",
            "     50/199      7.45G    0.03696    0.01338    0.04101         26        416: 100% 8/8 [00:03<00:00,  2.08it/s]\n",
            "                 Class     Images  Instances          P          R      mAP50   mAP50-95: 100% 4/4 [00:01<00:00,  2.16it/s]\n",
            "                   all        122        122      0.246      0.985      0.357      0.212\n",
            "\n",
            "      Epoch    GPU_mem   box_loss   obj_loss   cls_loss  Instances       Size\n",
            "     51/199      7.45G    0.03256    0.01294    0.03912         15        416: 100% 8/8 [00:03<00:00,  2.10it/s]\n",
            "                 Class     Images  Instances          P          R      mAP50   mAP50-95: 100% 4/4 [00:01<00:00,  2.16it/s]\n",
            "                   all        122        122      0.245      0.981      0.364      0.212\n",
            "\n",
            "      Epoch    GPU_mem   box_loss   obj_loss   cls_loss  Instances       Size\n",
            "     52/199      7.45G    0.03517    0.01391    0.03912         18        416: 100% 8/8 [00:03<00:00,  2.09it/s]\n",
            "                 Class     Images  Instances          P          R      mAP50   mAP50-95: 100% 4/4 [00:02<00:00,  1.92it/s]\n",
            "                   all        122        122      0.244      0.977       0.35      0.198\n",
            "\n",
            "      Epoch    GPU_mem   box_loss   obj_loss   cls_loss  Instances       Size\n",
            "     53/199      7.45G    0.03323    0.01383    0.04102         26        416: 100% 8/8 [00:03<00:00,  2.07it/s]\n",
            "                 Class     Images  Instances          P          R      mAP50   mAP50-95: 100% 4/4 [00:01<00:00,  2.15it/s]\n",
            "                   all        122        122      0.246      0.988      0.365      0.212\n",
            "\n",
            "      Epoch    GPU_mem   box_loss   obj_loss   cls_loss  Instances       Size\n",
            "     54/199      7.45G    0.03275    0.01345    0.03895         21        416: 100% 8/8 [00:04<00:00,  1.97it/s]\n",
            "                 Class     Images  Instances          P          R      mAP50   mAP50-95: 100% 4/4 [00:01<00:00,  2.15it/s]\n",
            "                   all        122        122      0.246      0.985      0.374      0.218\n",
            "\n",
            "      Epoch    GPU_mem   box_loss   obj_loss   cls_loss  Instances       Size\n",
            "     55/199      7.45G    0.03355     0.0135     0.0403         17        416: 100% 8/8 [00:03<00:00,  2.01it/s]\n",
            "                 Class     Images  Instances          P          R      mAP50   mAP50-95: 100% 4/4 [00:02<00:00,  1.88it/s]\n",
            "                   all        122        122      0.245      0.981      0.393       0.24\n",
            "\n",
            "      Epoch    GPU_mem   box_loss   obj_loss   cls_loss  Instances       Size\n",
            "     56/199      7.45G    0.03268    0.01291    0.04058         21        416: 100% 8/8 [00:03<00:00,  2.09it/s]\n",
            "                 Class     Images  Instances          P          R      mAP50   mAP50-95: 100% 4/4 [00:01<00:00,  2.07it/s]\n",
            "                   all        122        122      0.243      0.972      0.369      0.182\n",
            "\n",
            "      Epoch    GPU_mem   box_loss   obj_loss   cls_loss  Instances       Size\n",
            "     57/199      7.45G    0.03473    0.01281    0.03805         28        416: 100% 8/8 [00:03<00:00,  2.05it/s]\n",
            "                 Class     Images  Instances          P          R      mAP50   mAP50-95: 100% 4/4 [00:01<00:00,  2.16it/s]\n",
            "                   all        122        122      0.246      0.984      0.378      0.223\n",
            "\n",
            "      Epoch    GPU_mem   box_loss   obj_loss   cls_loss  Instances       Size\n",
            "     58/199      7.45G    0.03308    0.01348    0.04005         20        416: 100% 8/8 [00:03<00:00,  2.05it/s]\n",
            "                 Class     Images  Instances          P          R      mAP50   mAP50-95: 100% 4/4 [00:02<00:00,  1.94it/s]\n",
            "                   all        122        122      0.246      0.982       0.41      0.223\n",
            "\n",
            "      Epoch    GPU_mem   box_loss   obj_loss   cls_loss  Instances       Size\n",
            "     59/199      7.45G     0.0349    0.01361    0.03939         24        416: 100% 8/8 [00:03<00:00,  2.09it/s]\n",
            "                 Class     Images  Instances          P          R      mAP50   mAP50-95: 100% 4/4 [00:01<00:00,  2.17it/s]\n",
            "                   all        122        122       0.25      0.985      0.408      0.233\n",
            "\n",
            "      Epoch    GPU_mem   box_loss   obj_loss   cls_loss  Instances       Size\n",
            "     60/199      7.45G    0.03441    0.01242    0.04148         19        416: 100% 8/8 [00:04<00:00,  1.99it/s]\n",
            "                 Class     Images  Instances          P          R      mAP50   mAP50-95: 100% 4/4 [00:02<00:00,  1.97it/s]\n",
            "                   all        122        122      0.245      0.984      0.428      0.236\n",
            "\n",
            "      Epoch    GPU_mem   box_loss   obj_loss   cls_loss  Instances       Size\n",
            "     61/199      7.45G    0.03518    0.01237    0.03739         27        416: 100% 8/8 [00:03<00:00,  2.10it/s]\n",
            "                 Class     Images  Instances          P          R      mAP50   mAP50-95: 100% 4/4 [00:02<00:00,  1.92it/s]\n",
            "                   all        122        122      0.243      0.977      0.398      0.221\n",
            "\n",
            "      Epoch    GPU_mem   box_loss   obj_loss   cls_loss  Instances       Size\n",
            "     62/199      7.45G    0.03756     0.0122    0.03998         25        416: 100% 8/8 [00:03<00:00,  2.08it/s]\n",
            "                 Class     Images  Instances          P          R      mAP50   mAP50-95: 100% 4/4 [00:01<00:00,  2.14it/s]\n",
            "                   all        122        122      0.297      0.917      0.423      0.225\n",
            "\n",
            "      Epoch    GPU_mem   box_loss   obj_loss   cls_loss  Instances       Size\n",
            "     63/199      7.45G    0.03483    0.01404    0.04038         25        416: 100% 8/8 [00:04<00:00,  1.98it/s]\n",
            "                 Class     Images  Instances          P          R      mAP50   mAP50-95: 100% 4/4 [00:02<00:00,  1.91it/s]\n",
            "                   all        122        122      0.292      0.916      0.425      0.239\n",
            "\n",
            "      Epoch    GPU_mem   box_loss   obj_loss   cls_loss  Instances       Size\n",
            "     64/199      7.45G     0.0315    0.01218    0.03604         17        416: 100% 8/8 [00:03<00:00,  2.05it/s]\n",
            "                 Class     Images  Instances          P          R      mAP50   mAP50-95: 100% 4/4 [00:02<00:00,  1.92it/s]\n",
            "                   all        122        122      0.329      0.876       0.42      0.224\n",
            "\n",
            "      Epoch    GPU_mem   box_loss   obj_loss   cls_loss  Instances       Size\n",
            "     65/199      7.45G    0.03351    0.01248    0.03834         21        416: 100% 8/8 [00:03<00:00,  2.10it/s]\n",
            "                 Class     Images  Instances          P          R      mAP50   mAP50-95: 100% 4/4 [00:01<00:00,  2.18it/s]\n",
            "                   all        122        122      0.396      0.864      0.427      0.216\n",
            "\n",
            "      Epoch    GPU_mem   box_loss   obj_loss   cls_loss  Instances       Size\n",
            "     66/199      7.45G    0.03361    0.01258    0.03891         24        416: 100% 8/8 [00:04<00:00,  1.96it/s]\n",
            "                 Class     Images  Instances          P          R      mAP50   mAP50-95: 100% 4/4 [00:01<00:00,  2.07it/s]\n",
            "                   all        122        122      0.338      0.898      0.426      0.246\n",
            "\n",
            "      Epoch    GPU_mem   box_loss   obj_loss   cls_loss  Instances       Size\n",
            "     67/199      7.45G    0.03314    0.01317    0.03848         24        416: 100% 8/8 [00:04<00:00,  1.95it/s]\n",
            "                 Class     Images  Instances          P          R      mAP50   mAP50-95: 100% 4/4 [00:01<00:00,  2.16it/s]\n",
            "                   all        122        122      0.332      0.885      0.426      0.238\n",
            "\n",
            "      Epoch    GPU_mem   box_loss   obj_loss   cls_loss  Instances       Size\n",
            "     68/199      7.45G    0.03157    0.01321    0.03821         22        416: 100% 8/8 [00:04<00:00,  1.99it/s]\n",
            "                 Class     Images  Instances          P          R      mAP50   mAP50-95: 100% 4/4 [00:02<00:00,  1.93it/s]\n",
            "                   all        122        122      0.332      0.833      0.403      0.226\n",
            "\n",
            "      Epoch    GPU_mem   box_loss   obj_loss   cls_loss  Instances       Size\n",
            "     69/199      7.45G    0.03274    0.01297    0.03783         19        416: 100% 8/8 [00:04<00:00,  1.97it/s]\n",
            "                 Class     Images  Instances          P          R      mAP50   mAP50-95: 100% 4/4 [00:02<00:00,  1.91it/s]\n",
            "                   all        122        122      0.375      0.822      0.382      0.209\n",
            "\n",
            "      Epoch    GPU_mem   box_loss   obj_loss   cls_loss  Instances       Size\n",
            "     70/199      7.45G    0.03345    0.01342    0.03729         30        416: 100% 8/8 [00:04<00:00,  1.97it/s]\n",
            "                 Class     Images  Instances          P          R      mAP50   mAP50-95: 100% 4/4 [00:01<00:00,  2.15it/s]\n",
            "                   all        122        122      0.407       0.87      0.453      0.253\n",
            "\n",
            "      Epoch    GPU_mem   box_loss   obj_loss   cls_loss  Instances       Size\n",
            "     71/199      7.45G    0.03309    0.01278    0.03813         19        416: 100% 8/8 [00:03<00:00,  2.01it/s]\n",
            "                 Class     Images  Instances          P          R      mAP50   mAP50-95: 100% 4/4 [00:02<00:00,  1.94it/s]\n",
            "                   all        122        122      0.399      0.833      0.413      0.226\n",
            "\n",
            "      Epoch    GPU_mem   box_loss   obj_loss   cls_loss  Instances       Size\n",
            "     72/199      7.45G    0.03347    0.01217    0.03794         23        416: 100% 8/8 [00:03<00:00,  2.09it/s]\n",
            "                 Class     Images  Instances          P          R      mAP50   mAP50-95: 100% 4/4 [00:01<00:00,  2.16it/s]\n",
            "                   all        122        122      0.394      0.847      0.436      0.252\n",
            "\n",
            "      Epoch    GPU_mem   box_loss   obj_loss   cls_loss  Instances       Size\n",
            "     73/199      7.45G    0.03382    0.01276    0.03811         22        416: 100% 8/8 [00:04<00:00,  1.95it/s]\n",
            "                 Class     Images  Instances          P          R      mAP50   mAP50-95: 100% 4/4 [00:01<00:00,  2.08it/s]\n",
            "                   all        122        122      0.374      0.852      0.458      0.262\n",
            "\n",
            "      Epoch    GPU_mem   box_loss   obj_loss   cls_loss  Instances       Size\n",
            "     74/199      7.45G    0.03338    0.01332    0.03723         28        416: 100% 8/8 [00:03<00:00,  2.06it/s]\n",
            "                 Class     Images  Instances          P          R      mAP50   mAP50-95: 100% 4/4 [00:02<00:00,  1.88it/s]\n",
            "                   all        122        122      0.403      0.902      0.475      0.276\n",
            "\n",
            "      Epoch    GPU_mem   box_loss   obj_loss   cls_loss  Instances       Size\n",
            "     75/199      7.45G    0.03263    0.01229    0.03774         30        416: 100% 8/8 [00:03<00:00,  2.11it/s]\n",
            "                 Class     Images  Instances          P          R      mAP50   mAP50-95: 100% 4/4 [00:01<00:00,  2.05it/s]\n",
            "                   all        122        122      0.357      0.898      0.459      0.266\n",
            "\n",
            "      Epoch    GPU_mem   box_loss   obj_loss   cls_loss  Instances       Size\n",
            "     76/199      7.45G    0.03188    0.01183    0.03809         19        416: 100% 8/8 [00:03<00:00,  2.01it/s]\n",
            "                 Class     Images  Instances          P          R      mAP50   mAP50-95: 100% 4/4 [00:01<00:00,  2.15it/s]\n",
            "                   all        122        122      0.399      0.843      0.447      0.259\n",
            "\n",
            "      Epoch    GPU_mem   box_loss   obj_loss   cls_loss  Instances       Size\n",
            "     77/199      7.45G    0.03094    0.01204    0.03583         19        416: 100% 8/8 [00:03<00:00,  2.03it/s]\n",
            "                 Class     Images  Instances          P          R      mAP50   mAP50-95: 100% 4/4 [00:02<00:00,  1.91it/s]\n",
            "                   all        122        122      0.406      0.843      0.445      0.254\n",
            "\n",
            "      Epoch    GPU_mem   box_loss   obj_loss   cls_loss  Instances       Size\n",
            "     78/199      7.45G     0.0298    0.01239    0.03512         24        416: 100% 8/8 [00:03<00:00,  2.07it/s]\n",
            "                 Class     Images  Instances          P          R      mAP50   mAP50-95: 100% 4/4 [00:01<00:00,  2.11it/s]\n",
            "                   all        122        122      0.413      0.818      0.415      0.237\n",
            "\n",
            "      Epoch    GPU_mem   box_loss   obj_loss   cls_loss  Instances       Size\n",
            "     79/199      7.45G    0.03026    0.01355    0.03647         22        416: 100% 8/8 [00:04<00:00,  1.99it/s]\n",
            "                 Class     Images  Instances          P          R      mAP50   mAP50-95: 100% 4/4 [00:02<00:00,  1.89it/s]\n",
            "                   all        122        122      0.377      0.778      0.372      0.219\n",
            "\n",
            "      Epoch    GPU_mem   box_loss   obj_loss   cls_loss  Instances       Size\n",
            "     80/199      7.45G    0.03203     0.0121    0.03824         22        416: 100% 8/8 [00:03<00:00,  2.10it/s]\n",
            "                 Class     Images  Instances          P          R      mAP50   mAP50-95: 100% 4/4 [00:01<00:00,  2.16it/s]\n",
            "                   all        122        122      0.411      0.882      0.467      0.273\n",
            "\n",
            "      Epoch    GPU_mem   box_loss   obj_loss   cls_loss  Instances       Size\n",
            "     81/199      7.45G    0.02722     0.0109    0.03369         16        416: 100% 8/8 [00:03<00:00,  2.12it/s]\n",
            "                 Class     Images  Instances          P          R      mAP50   mAP50-95: 100% 4/4 [00:01<00:00,  2.19it/s]\n",
            "                   all        122        122      0.414      0.898      0.491      0.286\n",
            "\n",
            "      Epoch    GPU_mem   box_loss   obj_loss   cls_loss  Instances       Size\n",
            "     82/199      7.45G    0.03308    0.01232    0.03837         19        416: 100% 8/8 [00:04<00:00,  1.98it/s]\n",
            "                 Class     Images  Instances          P          R      mAP50   mAP50-95: 100% 4/4 [00:01<00:00,  2.17it/s]\n",
            "                   all        122        122      0.423      0.898      0.499      0.297\n",
            "\n",
            "      Epoch    GPU_mem   box_loss   obj_loss   cls_loss  Instances       Size\n",
            "     83/199      7.45G    0.02961    0.01293    0.03564         24        416: 100% 8/8 [00:04<00:00,  1.99it/s]\n",
            "                 Class     Images  Instances          P          R      mAP50   mAP50-95: 100% 4/4 [00:02<00:00,  1.93it/s]\n",
            "                   all        122        122      0.409      0.886      0.501      0.293\n",
            "\n",
            "      Epoch    GPU_mem   box_loss   obj_loss   cls_loss  Instances       Size\n",
            "     84/199      7.45G     0.0309    0.01208    0.03394         21        416: 100% 8/8 [00:03<00:00,  2.08it/s]\n",
            "                 Class     Images  Instances          P          R      mAP50   mAP50-95: 100% 4/4 [00:01<00:00,  2.13it/s]\n",
            "                   all        122        122      0.413      0.907      0.568      0.342\n",
            "\n",
            "      Epoch    GPU_mem   box_loss   obj_loss   cls_loss  Instances       Size\n",
            "     85/199      7.45G    0.03325     0.0122     0.0371         23        416: 100% 8/8 [00:03<00:00,  2.02it/s]\n",
            "                 Class     Images  Instances          P          R      mAP50   mAP50-95: 100% 4/4 [00:01<00:00,  2.15it/s]\n",
            "                   all        122        122      0.418      0.899      0.559      0.334\n",
            "\n",
            "      Epoch    GPU_mem   box_loss   obj_loss   cls_loss  Instances       Size\n",
            "     86/199      7.45G    0.03032    0.01296    0.03734         26        416: 100% 8/8 [00:03<00:00,  2.07it/s]\n",
            "                 Class     Images  Instances          P          R      mAP50   mAP50-95: 100% 4/4 [00:02<00:00,  1.91it/s]\n",
            "                   all        122        122      0.413      0.917      0.554      0.327\n",
            "\n",
            "      Epoch    GPU_mem   box_loss   obj_loss   cls_loss  Instances       Size\n",
            "     87/199      7.45G    0.02992    0.01178    0.03684         25        416: 100% 8/8 [00:03<00:00,  2.07it/s]\n",
            "                 Class     Images  Instances          P          R      mAP50   mAP50-95: 100% 4/4 [00:01<00:00,  2.17it/s]\n",
            "                   all        122        122      0.423      0.915      0.544      0.324\n",
            "\n",
            "      Epoch    GPU_mem   box_loss   obj_loss   cls_loss  Instances       Size\n",
            "     88/199      7.45G    0.03373     0.0125    0.03533         25        416: 100% 8/8 [00:03<00:00,  2.03it/s]\n",
            "                 Class     Images  Instances          P          R      mAP50   mAP50-95: 100% 4/4 [00:02<00:00,  1.96it/s]\n",
            "                   all        122        122      0.406      0.963      0.586      0.351\n",
            "\n",
            "      Epoch    GPU_mem   box_loss   obj_loss   cls_loss  Instances       Size\n",
            "     89/199      7.45G    0.02876    0.01268    0.03639         26        416: 100% 8/8 [00:04<00:00,  1.94it/s]\n",
            "                 Class     Images  Instances          P          R      mAP50   mAP50-95: 100% 4/4 [00:01<00:00,  2.08it/s]\n",
            "                   all        122        122      0.433      0.916      0.609      0.359\n",
            "\n",
            "      Epoch    GPU_mem   box_loss   obj_loss   cls_loss  Instances       Size\n",
            "     90/199      7.45G    0.02812    0.01265    0.03374         19        416: 100% 8/8 [00:03<00:00,  2.06it/s]\n",
            "                 Class     Images  Instances          P          R      mAP50   mAP50-95: 100% 4/4 [00:02<00:00,  1.88it/s]\n",
            "                   all        122        122      0.444      0.926      0.628       0.39\n",
            "\n",
            "      Epoch    GPU_mem   box_loss   obj_loss   cls_loss  Instances       Size\n",
            "     91/199      7.45G    0.03154    0.01188    0.03647         23        416: 100% 8/8 [00:03<00:00,  2.01it/s]\n",
            "                 Class     Images  Instances          P          R      mAP50   mAP50-95: 100% 4/4 [00:02<00:00,  1.93it/s]\n",
            "                   all        122        122      0.445      0.917      0.627      0.384\n",
            "\n",
            "      Epoch    GPU_mem   box_loss   obj_loss   cls_loss  Instances       Size\n",
            "     92/199      7.45G    0.03171    0.01142    0.03845         22        416: 100% 8/8 [00:03<00:00,  2.05it/s]\n",
            "                 Class     Images  Instances          P          R      mAP50   mAP50-95: 100% 4/4 [00:01<00:00,  2.14it/s]\n",
            "                   all        122        122      0.445      0.944      0.621      0.385\n",
            "\n",
            "      Epoch    GPU_mem   box_loss   obj_loss   cls_loss  Instances       Size\n",
            "     93/199      7.45G     0.0303    0.01271    0.03489         22        416: 100% 8/8 [00:04<00:00,  1.91it/s]\n",
            "                 Class     Images  Instances          P          R      mAP50   mAP50-95: 100% 4/4 [00:01<00:00,  2.04it/s]\n",
            "                   all        122        122      0.444      0.907      0.593      0.355\n",
            "\n",
            "      Epoch    GPU_mem   box_loss   obj_loss   cls_loss  Instances       Size\n",
            "     94/199      7.45G    0.03146    0.01279    0.03748         22        416: 100% 8/8 [00:03<00:00,  2.03it/s]\n",
            "                 Class     Images  Instances          P          R      mAP50   mAP50-95: 100% 4/4 [00:01<00:00,  2.16it/s]\n",
            "                   all        122        122      0.439      0.889      0.538      0.271\n",
            "\n",
            "      Epoch    GPU_mem   box_loss   obj_loss   cls_loss  Instances       Size\n",
            "     95/199      7.45G    0.02971    0.01238    0.03655         29        416: 100% 8/8 [00:03<00:00,  2.00it/s]\n",
            "                 Class     Images  Instances          P          R      mAP50   mAP50-95: 100% 4/4 [00:01<00:00,  2.15it/s]\n",
            "                   all        122        122      0.424      0.953      0.606      0.374\n",
            "\n",
            "      Epoch    GPU_mem   box_loss   obj_loss   cls_loss  Instances       Size\n",
            "     96/199      7.45G    0.03154    0.01244    0.03276         19        416: 100% 8/8 [00:03<00:00,  2.10it/s]\n",
            "                 Class     Images  Instances          P          R      mAP50   mAP50-95: 100% 4/4 [00:02<00:00,  1.89it/s]\n",
            "                   all        122        122      0.432      0.957      0.635      0.404\n",
            "\n",
            "      Epoch    GPU_mem   box_loss   obj_loss   cls_loss  Instances       Size\n",
            "     97/199      7.45G    0.03186    0.01116    0.03237         24        416: 100% 8/8 [00:03<00:00,  2.09it/s]\n",
            "                 Class     Images  Instances          P          R      mAP50   mAP50-95: 100% 4/4 [00:02<00:00,  1.95it/s]\n",
            "                   all        122        122      0.445      0.969      0.655      0.413\n",
            "\n",
            "      Epoch    GPU_mem   box_loss   obj_loss   cls_loss  Instances       Size\n",
            "     98/199      7.45G    0.03105    0.01155    0.03379         22        416: 100% 8/8 [00:03<00:00,  2.10it/s]\n",
            "                 Class     Images  Instances          P          R      mAP50   mAP50-95: 100% 4/4 [00:01<00:00,  2.15it/s]\n",
            "                   all        122        122      0.336      0.733      0.474      0.284\n",
            "\n",
            "      Epoch    GPU_mem   box_loss   obj_loss   cls_loss  Instances       Size\n",
            "     99/199      7.45G    0.03116    0.01207    0.03604         25        416: 100% 8/8 [00:04<00:00,  1.99it/s]\n",
            "                 Class     Images  Instances          P          R      mAP50   mAP50-95: 100% 4/4 [00:01<00:00,  2.17it/s]\n",
            "                   all        122        122      0.347      0.744        0.5      0.296\n",
            "\n",
            "      Epoch    GPU_mem   box_loss   obj_loss   cls_loss  Instances       Size\n",
            "    100/199      7.45G     0.0289    0.01307    0.03174         26        416: 100% 8/8 [00:03<00:00,  2.09it/s]\n",
            "                 Class     Images  Instances          P          R      mAP50   mAP50-95: 100% 4/4 [00:01<00:00,  2.02it/s]\n",
            "                   all        122        122      0.397      0.885      0.553      0.326\n",
            "\n",
            "      Epoch    GPU_mem   box_loss   obj_loss   cls_loss  Instances       Size\n",
            "    101/199      7.45G    0.02804    0.01197    0.03344         24        416: 100% 8/8 [00:04<00:00,  1.99it/s]\n",
            "                 Class     Images  Instances          P          R      mAP50   mAP50-95: 100% 4/4 [00:01<00:00,  2.09it/s]\n",
            "                   all        122        122      0.353      0.879      0.492       0.29\n",
            "\n",
            "      Epoch    GPU_mem   box_loss   obj_loss   cls_loss  Instances       Size\n",
            "    102/199      7.45G    0.02908    0.01247    0.03554         21        416: 100% 8/8 [00:03<00:00,  2.01it/s]\n",
            "                 Class     Images  Instances          P          R      mAP50   mAP50-95: 100% 4/4 [00:02<00:00,  1.90it/s]\n",
            "                   all        122        122      0.362      0.905      0.502      0.311\n",
            "\n",
            "      Epoch    GPU_mem   box_loss   obj_loss   cls_loss  Instances       Size\n",
            "    103/199      7.45G    0.02919    0.01169    0.03455         30        416: 100% 8/8 [00:03<00:00,  2.08it/s]\n",
            "                 Class     Images  Instances          P          R      mAP50   mAP50-95: 100% 4/4 [00:01<00:00,  2.15it/s]\n",
            "                   all        122        122      0.434      0.949      0.623      0.372\n",
            "\n",
            "      Epoch    GPU_mem   box_loss   obj_loss   cls_loss  Instances       Size\n",
            "    104/199      7.45G    0.02952    0.01091    0.03501         24        416: 100% 8/8 [00:04<00:00,  1.98it/s]\n",
            "                 Class     Images  Instances          P          R      mAP50   mAP50-95: 100% 4/4 [00:02<00:00,  1.99it/s]\n",
            "                   all        122        122      0.404      0.889      0.577       0.34\n",
            "\n",
            "      Epoch    GPU_mem   box_loss   obj_loss   cls_loss  Instances       Size\n",
            "    105/199      7.45G    0.03093    0.01165    0.03594         16        416: 100% 8/8 [00:03<00:00,  2.07it/s]\n",
            "                 Class     Images  Instances          P          R      mAP50   mAP50-95: 100% 4/4 [00:02<00:00,  1.92it/s]\n",
            "                   all        122        122      0.419      0.893      0.591      0.368\n",
            "\n",
            "      Epoch    GPU_mem   box_loss   obj_loss   cls_loss  Instances       Size\n",
            "    106/199      7.45G    0.03007    0.01027    0.03363         18        416: 100% 8/8 [00:03<00:00,  2.11it/s]\n",
            "                 Class     Images  Instances          P          R      mAP50   mAP50-95: 100% 4/4 [00:01<00:00,  2.15it/s]\n",
            "                   all        122        122      0.459      0.907       0.67      0.419\n",
            "\n",
            "      Epoch    GPU_mem   box_loss   obj_loss   cls_loss  Instances       Size\n",
            "    107/199      7.45G    0.03116    0.01145    0.03388         24        416: 100% 8/8 [00:04<00:00,  2.00it/s]\n",
            "                 Class     Images  Instances          P          R      mAP50   mAP50-95: 100% 4/4 [00:01<00:00,  2.11it/s]\n",
            "                   all        122        122      0.451      0.929      0.654      0.419\n",
            "\n",
            "      Epoch    GPU_mem   box_loss   obj_loss   cls_loss  Instances       Size\n",
            "    108/199      7.45G    0.02877     0.0118    0.03067         17        416: 100% 8/8 [00:04<00:00,  1.99it/s]\n",
            "                 Class     Images  Instances          P          R      mAP50   mAP50-95: 100% 4/4 [00:02<00:00,  1.92it/s]\n",
            "                   all        122        122      0.485      0.885      0.641      0.383\n",
            "\n",
            "      Epoch    GPU_mem   box_loss   obj_loss   cls_loss  Instances       Size\n",
            "    109/199      7.45G    0.02793    0.01284     0.0338         19        416: 100% 8/8 [00:03<00:00,  2.07it/s]\n",
            "                 Class     Images  Instances          P          R      mAP50   mAP50-95: 100% 4/4 [00:02<00:00,  1.98it/s]\n",
            "                   all        122        122      0.468      0.944      0.679      0.451\n",
            "\n",
            "      Epoch    GPU_mem   box_loss   obj_loss   cls_loss  Instances       Size\n",
            "    110/199      7.45G    0.02796    0.01154    0.03485         24        416: 100% 8/8 [00:03<00:00,  2.09it/s]\n",
            "                 Class     Images  Instances          P          R      mAP50   mAP50-95: 100% 4/4 [00:01<00:00,  2.14it/s]\n",
            "                   all        122        122      0.487      0.948      0.652      0.427\n",
            "\n",
            "      Epoch    GPU_mem   box_loss   obj_loss   cls_loss  Instances       Size\n",
            "    111/199      7.45G     0.0285    0.01102    0.03435         20        416: 100% 8/8 [00:04<00:00,  1.96it/s]\n",
            "                 Class     Images  Instances          P          R      mAP50   mAP50-95: 100% 4/4 [00:02<00:00,  1.99it/s]\n",
            "                   all        122        122      0.496      0.926      0.655      0.409\n",
            "\n",
            "      Epoch    GPU_mem   box_loss   obj_loss   cls_loss  Instances       Size\n",
            "    112/199      7.45G    0.03138    0.01119    0.03341         27        416: 100% 8/8 [00:03<00:00,  2.07it/s]\n",
            "                 Class     Images  Instances          P          R      mAP50   mAP50-95: 100% 4/4 [00:01<00:00,  2.16it/s]\n",
            "                   all        122        122      0.491      0.935      0.678      0.428\n",
            "\n",
            "      Epoch    GPU_mem   box_loss   obj_loss   cls_loss  Instances       Size\n",
            "    113/199      7.45G    0.02668    0.01179    0.02884         21        416: 100% 8/8 [00:03<00:00,  2.01it/s]\n",
            "                 Class     Images  Instances          P          R      mAP50   mAP50-95: 100% 4/4 [00:01<00:00,  2.19it/s]\n",
            "                   all        122        122      0.507      0.877      0.632       0.41\n",
            "\n",
            "      Epoch    GPU_mem   box_loss   obj_loss   cls_loss  Instances       Size\n",
            "    114/199      7.45G    0.02893    0.01294     0.0328         19        416: 100% 8/8 [00:03<00:00,  2.11it/s]\n",
            "                 Class     Images  Instances          P          R      mAP50   mAP50-95: 100% 4/4 [00:01<00:00,  2.03it/s]\n",
            "                   all        122        122      0.508      0.926      0.691      0.448\n",
            "\n",
            "      Epoch    GPU_mem   box_loss   obj_loss   cls_loss  Instances       Size\n",
            "    115/199      7.45G    0.02712    0.01089    0.03117         25        416: 100% 8/8 [00:03<00:00,  2.07it/s]\n",
            "                 Class     Images  Instances          P          R      mAP50   mAP50-95: 100% 4/4 [00:01<00:00,  2.16it/s]\n",
            "                   all        122        122      0.486      0.917      0.642       0.41\n",
            "\n",
            "      Epoch    GPU_mem   box_loss   obj_loss   cls_loss  Instances       Size\n",
            "    116/199      7.45G    0.03046    0.01225    0.03291         23        416: 100% 8/8 [00:03<00:00,  2.04it/s]\n",
            "                 Class     Images  Instances          P          R      mAP50   mAP50-95: 100% 4/4 [00:02<00:00,  1.97it/s]\n",
            "                   all        122        122      0.507      0.811      0.613      0.373\n",
            "\n",
            "      Epoch    GPU_mem   box_loss   obj_loss   cls_loss  Instances       Size\n",
            "    117/199      7.45G     0.0278    0.01312     0.0348         30        416: 100% 8/8 [00:03<00:00,  2.09it/s]\n",
            "                 Class     Images  Instances          P          R      mAP50   mAP50-95: 100% 4/4 [00:01<00:00,  2.15it/s]\n",
            "                   all        122        122      0.473      0.934      0.645      0.408\n",
            "\n",
            "      Epoch    GPU_mem   box_loss   obj_loss   cls_loss  Instances       Size\n",
            "    118/199      7.45G    0.02589    0.01048    0.03055         18        416: 100% 8/8 [00:04<00:00,  1.96it/s]\n",
            "                 Class     Images  Instances          P          R      mAP50   mAP50-95: 100% 4/4 [00:02<00:00,  1.95it/s]\n",
            "                   all        122        122      0.491      0.871      0.615      0.378\n",
            "\n",
            "      Epoch    GPU_mem   box_loss   obj_loss   cls_loss  Instances       Size\n",
            "    119/199      7.45G    0.02873    0.01217    0.03126         18        416: 100% 8/8 [00:03<00:00,  2.04it/s]\n",
            "                 Class     Images  Instances          P          R      mAP50   mAP50-95: 100% 4/4 [00:02<00:00,  1.90it/s]\n",
            "                   all        122        122      0.454      0.838      0.595       0.36\n",
            "\n",
            "      Epoch    GPU_mem   box_loss   obj_loss   cls_loss  Instances       Size\n",
            "    120/199      7.45G    0.02977    0.01124    0.03597         27        416: 100% 8/8 [00:03<00:00,  2.09it/s]\n",
            "                 Class     Images  Instances          P          R      mAP50   mAP50-95: 100% 4/4 [00:01<00:00,  2.14it/s]\n",
            "                   all        122        122      0.487      0.897      0.608      0.366\n",
            "\n",
            "      Epoch    GPU_mem   box_loss   obj_loss   cls_loss  Instances       Size\n",
            "    121/199      7.45G    0.02899    0.01217    0.03031         22        416: 100% 8/8 [00:03<00:00,  2.01it/s]\n",
            "                 Class     Images  Instances          P          R      mAP50   mAP50-95: 100% 4/4 [00:01<00:00,  2.14it/s]\n",
            "                   all        122        122      0.516      0.915      0.715       0.47\n",
            "\n",
            "      Epoch    GPU_mem   box_loss   obj_loss   cls_loss  Instances       Size\n",
            "    122/199      7.45G    0.02734    0.01193    0.03282         29        416: 100% 8/8 [00:04<00:00,  2.00it/s]\n",
            "                 Class     Images  Instances          P          R      mAP50   mAP50-95: 100% 4/4 [00:02<00:00,  1.90it/s]\n",
            "                   all        122        122      0.584      0.918      0.746      0.485\n",
            "\n",
            "      Epoch    GPU_mem   box_loss   obj_loss   cls_loss  Instances       Size\n",
            "    123/199      7.45G    0.02546    0.01113    0.03174         27        416: 100% 8/8 [00:03<00:00,  2.09it/s]\n",
            "                 Class     Images  Instances          P          R      mAP50   mAP50-95: 100% 4/4 [00:02<00:00,  1.93it/s]\n",
            "                   all        122        122      0.573      0.907      0.751      0.504\n",
            "\n",
            "      Epoch    GPU_mem   box_loss   obj_loss   cls_loss  Instances       Size\n",
            "    124/199      7.45G    0.02747    0.01205    0.03256         23        416: 100% 8/8 [00:04<00:00,  1.93it/s]\n",
            "                 Class     Images  Instances          P          R      mAP50   mAP50-95: 100% 4/4 [00:01<00:00,  2.18it/s]\n",
            "                   all        122        122      0.513      0.891      0.655      0.404\n",
            "\n",
            "      Epoch    GPU_mem   box_loss   obj_loss   cls_loss  Instances       Size\n",
            "    125/199      7.45G     0.0289    0.01203    0.02869         21        416: 100% 8/8 [00:03<00:00,  2.07it/s]\n",
            "                 Class     Images  Instances          P          R      mAP50   mAP50-95: 100% 4/4 [00:01<00:00,  2.05it/s]\n",
            "                   all        122        122      0.514      0.897      0.657       0.42\n",
            "\n",
            "      Epoch    GPU_mem   box_loss   obj_loss   cls_loss  Instances       Size\n",
            "    126/199      7.45G    0.02692    0.01256    0.03207         27        416: 100% 8/8 [00:04<00:00,  2.00it/s]\n",
            "                 Class     Images  Instances          P          R      mAP50   mAP50-95: 100% 4/4 [00:01<00:00,  2.13it/s]\n",
            "                   all        122        122      0.536       0.89      0.653      0.411\n",
            "\n",
            "      Epoch    GPU_mem   box_loss   obj_loss   cls_loss  Instances       Size\n",
            "    127/199      7.45G    0.02514    0.01105    0.03304         20        416: 100% 8/8 [00:03<00:00,  2.03it/s]\n",
            "                 Class     Images  Instances          P          R      mAP50   mAP50-95: 100% 4/4 [00:02<00:00,  1.90it/s]\n",
            "                   all        122        122      0.436      0.884       0.55      0.323\n",
            "\n",
            "      Epoch    GPU_mem   box_loss   obj_loss   cls_loss  Instances       Size\n",
            "    128/199      7.45G    0.02763    0.01168    0.03094         23        416: 100% 8/8 [00:03<00:00,  2.07it/s]\n",
            "                 Class     Images  Instances          P          R      mAP50   mAP50-95: 100% 4/4 [00:01<00:00,  2.14it/s]\n",
            "                   all        122        122      0.496       0.75       0.55      0.318\n",
            "\n",
            "      Epoch    GPU_mem   box_loss   obj_loss   cls_loss  Instances       Size\n",
            "    129/199      7.45G    0.02812    0.01328    0.02751         21        416: 100% 8/8 [00:04<00:00,  1.99it/s]\n",
            "                 Class     Images  Instances          P          R      mAP50   mAP50-95: 100% 4/4 [00:02<00:00,  1.97it/s]\n",
            "                   all        122        122      0.552      0.874       0.71      0.477\n",
            "\n",
            "      Epoch    GPU_mem   box_loss   obj_loss   cls_loss  Instances       Size\n",
            "    130/199      7.45G     0.0253    0.01087    0.02919         21        416: 100% 8/8 [00:03<00:00,  2.10it/s]\n",
            "                 Class     Images  Instances          P          R      mAP50   mAP50-95: 100% 4/4 [00:01<00:00,  2.13it/s]\n",
            "                   all        122        122      0.606      0.815      0.758      0.505\n",
            "\n",
            "      Epoch    GPU_mem   box_loss   obj_loss   cls_loss  Instances       Size\n",
            "    131/199      7.45G     0.0289    0.01266    0.03092         22        416: 100% 8/8 [00:03<00:00,  2.02it/s]\n",
            "                 Class     Images  Instances          P          R      mAP50   mAP50-95: 100% 4/4 [00:02<00:00,  1.87it/s]\n",
            "                   all        122        122      0.598      0.833       0.75      0.485\n",
            "\n",
            "      Epoch    GPU_mem   box_loss   obj_loss   cls_loss  Instances       Size\n",
            "    132/199      7.45G    0.02505    0.01191    0.03065         27        416: 100% 8/8 [00:03<00:00,  2.09it/s]\n",
            "                 Class     Images  Instances          P          R      mAP50   mAP50-95: 100% 4/4 [00:01<00:00,  2.16it/s]\n",
            "                   all        122        122       0.62      0.821      0.717      0.456\n",
            "\n",
            "      Epoch    GPU_mem   box_loss   obj_loss   cls_loss  Instances       Size\n",
            "    133/199      7.45G    0.02671    0.01143     0.0297         21        416: 100% 8/8 [00:04<00:00,  1.95it/s]\n",
            "                 Class     Images  Instances          P          R      mAP50   mAP50-95: 100% 4/4 [00:01<00:00,  2.07it/s]\n",
            "                   all        122        122      0.558      0.797      0.675      0.417\n",
            "\n",
            "      Epoch    GPU_mem   box_loss   obj_loss   cls_loss  Instances       Size\n",
            "    134/199      7.45G    0.02824    0.01185    0.02978         28        416: 100% 8/8 [00:03<00:00,  2.06it/s]\n",
            "                 Class     Images  Instances          P          R      mAP50   mAP50-95: 100% 4/4 [00:01<00:00,  2.07it/s]\n",
            "                   all        122        122      0.591      0.829      0.707      0.438\n",
            "\n",
            "      Epoch    GPU_mem   box_loss   obj_loss   cls_loss  Instances       Size\n",
            "    135/199      7.45G    0.02537    0.01069     0.0308         19        416: 100% 8/8 [00:04<00:00,  1.99it/s]\n",
            "                 Class     Images  Instances          P          R      mAP50   mAP50-95: 100% 4/4 [00:01<00:00,  2.02it/s]\n",
            "                   all        122        122      0.635      0.778      0.677      0.416\n",
            "\n",
            "      Epoch    GPU_mem   box_loss   obj_loss   cls_loss  Instances       Size\n",
            "    136/199      7.45G    0.02744    0.01022      0.027         20        416: 100% 8/8 [00:03<00:00,  2.04it/s]\n",
            "                 Class     Images  Instances          P          R      mAP50   mAP50-95: 100% 4/4 [00:02<00:00,  1.85it/s]\n",
            "                   all        122        122      0.581      0.836      0.705      0.447\n",
            "\n",
            "      Epoch    GPU_mem   box_loss   obj_loss   cls_loss  Instances       Size\n",
            "    137/199      7.45G    0.02643    0.01141    0.03178         26        416: 100% 8/8 [00:03<00:00,  2.07it/s]\n",
            "                 Class     Images  Instances          P          R      mAP50   mAP50-95: 100% 4/4 [00:01<00:00,  2.11it/s]\n",
            "                   all        122        122      0.666      0.853      0.786      0.522\n",
            "\n",
            "      Epoch    GPU_mem   box_loss   obj_loss   cls_loss  Instances       Size\n",
            "    138/199      7.45G    0.02757    0.01166    0.02921         29        416: 100% 8/8 [00:04<00:00,  1.94it/s]\n",
            "                 Class     Images  Instances          P          R      mAP50   mAP50-95: 100% 4/4 [00:01<00:00,  2.15it/s]\n",
            "                   all        122        122      0.658      0.872      0.786      0.543\n",
            "\n",
            "      Epoch    GPU_mem   box_loss   obj_loss   cls_loss  Instances       Size\n",
            "    139/199      7.45G    0.02591    0.01092    0.02948         23        416: 100% 8/8 [00:03<00:00,  2.02it/s]\n",
            "                 Class     Images  Instances          P          R      mAP50   mAP50-95: 100% 4/4 [00:02<00:00,  1.84it/s]\n",
            "                   all        122        122      0.672      0.895      0.821      0.569\n",
            "\n",
            "      Epoch    GPU_mem   box_loss   obj_loss   cls_loss  Instances       Size\n",
            "    140/199      7.45G    0.02395    0.01155    0.02689         22        416: 100% 8/8 [00:03<00:00,  2.05it/s]\n",
            "                 Class     Images  Instances          P          R      mAP50   mAP50-95: 100% 4/4 [00:02<00:00,  1.85it/s]\n",
            "                   all        122        122      0.677      0.894      0.799       0.54\n",
            "\n",
            "      Epoch    GPU_mem   box_loss   obj_loss   cls_loss  Instances       Size\n",
            "    141/199      7.45G      0.028    0.01032    0.02717         23        416: 100% 8/8 [00:03<00:00,  2.06it/s]\n",
            "                 Class     Images  Instances          P          R      mAP50   mAP50-95: 100% 4/4 [00:01<00:00,  2.12it/s]\n",
            "                   all        122        122      0.701      0.921      0.846      0.609\n",
            "\n",
            "      Epoch    GPU_mem   box_loss   obj_loss   cls_loss  Instances       Size\n",
            "    142/199      7.45G    0.02635    0.01007    0.02852         27        416: 100% 8/8 [00:04<00:00,  1.98it/s]\n",
            "                 Class     Images  Instances          P          R      mAP50   mAP50-95: 100% 4/4 [00:01<00:00,  2.10it/s]\n",
            "                   all        122        122       0.71      0.948      0.853      0.623\n",
            "\n",
            "      Epoch    GPU_mem   box_loss   obj_loss   cls_loss  Instances       Size\n",
            "    143/199      7.45G    0.02595    0.01105    0.02987         27        416: 100% 8/8 [00:04<00:00,  1.93it/s]\n",
            "                 Class     Images  Instances          P          R      mAP50   mAP50-95: 100% 4/4 [00:02<00:00,  1.86it/s]\n",
            "                   all        122        122      0.603       0.92      0.759       0.53\n",
            "\n",
            "      Epoch    GPU_mem   box_loss   obj_loss   cls_loss  Instances       Size\n",
            "    144/199      7.45G      0.024    0.01133    0.02945         24        416: 100% 8/8 [00:03<00:00,  2.06it/s]\n",
            "                 Class     Images  Instances          P          R      mAP50   mAP50-95: 100% 4/4 [00:01<00:00,  2.10it/s]\n",
            "                   all        122        122      0.596      0.798      0.628      0.421\n",
            "\n",
            "      Epoch    GPU_mem   box_loss   obj_loss   cls_loss  Instances       Size\n",
            "    145/199      7.45G    0.02658    0.01094    0.02976         19        416: 100% 8/8 [00:04<00:00,  1.95it/s]\n",
            "                 Class     Images  Instances          P          R      mAP50   mAP50-95: 100% 4/4 [00:01<00:00,  2.00it/s]\n",
            "                   all        122        122      0.585      0.765      0.642      0.456\n",
            "\n",
            "      Epoch    GPU_mem   box_loss   obj_loss   cls_loss  Instances       Size\n",
            "    146/199      7.45G    0.02529    0.01229    0.03143         29        416: 100% 8/8 [00:03<00:00,  2.08it/s]\n",
            "                 Class     Images  Instances          P          R      mAP50   mAP50-95: 100% 4/4 [00:01<00:00,  2.04it/s]\n",
            "                   all        122        122       0.49      0.793      0.558      0.341\n",
            "\n",
            "      Epoch    GPU_mem   box_loss   obj_loss   cls_loss  Instances       Size\n",
            "    147/199      7.45G     0.0241    0.01057    0.03095         20        416: 100% 8/8 [00:03<00:00,  2.01it/s]\n",
            "                 Class     Images  Instances          P          R      mAP50   mAP50-95: 100% 4/4 [00:01<00:00,  2.12it/s]\n",
            "                   all        122        122      0.534      0.712      0.567      0.361\n",
            "\n",
            "      Epoch    GPU_mem   box_loss   obj_loss   cls_loss  Instances       Size\n",
            "    148/199      7.45G    0.02676   0.009693    0.02766         21        416: 100% 8/8 [00:03<00:00,  2.09it/s]\n",
            "                 Class     Images  Instances          P          R      mAP50   mAP50-95: 100% 4/4 [00:02<00:00,  1.83it/s]\n",
            "                   all        122        122       0.49      0.824      0.573      0.365\n",
            "\n",
            "      Epoch    GPU_mem   box_loss   obj_loss   cls_loss  Instances       Size\n",
            "    149/199      7.45G    0.02811    0.01062     0.0264         20        416: 100% 8/8 [00:03<00:00,  2.10it/s]\n",
            "                 Class     Images  Instances          P          R      mAP50   mAP50-95: 100% 4/4 [00:01<00:00,  2.10it/s]\n",
            "                   all        122        122      0.502       0.84      0.611      0.417\n",
            "\n",
            "      Epoch    GPU_mem   box_loss   obj_loss   cls_loss  Instances       Size\n",
            "    150/199      7.45G    0.02555    0.01089    0.02816         26        416: 100% 8/8 [00:04<00:00,  1.99it/s]\n",
            "                 Class     Images  Instances          P          R      mAP50   mAP50-95: 100% 4/4 [00:02<00:00,  1.85it/s]\n",
            "                   all        122        122       0.59      0.814      0.698        0.5\n",
            "\n",
            "      Epoch    GPU_mem   box_loss   obj_loss   cls_loss  Instances       Size\n",
            "    151/199      7.45G    0.02548    0.01122    0.02838         23        416: 100% 8/8 [00:03<00:00,  2.04it/s]\n",
            "                 Class     Images  Instances          P          R      mAP50   mAP50-95: 100% 4/4 [00:02<00:00,  1.82it/s]\n",
            "                   all        122        122      0.682      0.918      0.842      0.627\n",
            "\n",
            "      Epoch    GPU_mem   box_loss   obj_loss   cls_loss  Instances       Size\n",
            "    152/199      7.45G    0.02602    0.01101    0.02587         22        416: 100% 8/8 [00:03<00:00,  2.03it/s]\n",
            "                 Class     Images  Instances          P          R      mAP50   mAP50-95: 100% 4/4 [00:02<00:00,  1.86it/s]\n",
            "                   all        122        122      0.665      0.899      0.823      0.617\n",
            "\n",
            "      Epoch    GPU_mem   box_loss   obj_loss   cls_loss  Instances       Size\n",
            "    153/199      7.45G    0.02755     0.0113    0.02611         21        416: 100% 8/8 [00:03<00:00,  2.05it/s]\n",
            "                 Class     Images  Instances          P          R      mAP50   mAP50-95: 100% 4/4 [00:01<00:00,  2.11it/s]\n",
            "                   all        122        122      0.619      0.853      0.764      0.509\n",
            "\n",
            "      Epoch    GPU_mem   box_loss   obj_loss   cls_loss  Instances       Size\n",
            "    154/199      7.45G     0.0246    0.01154    0.02806         28        416: 100% 8/8 [00:04<00:00,  1.95it/s]\n",
            "                 Class     Images  Instances          P          R      mAP50   mAP50-95: 100% 4/4 [00:02<00:00,  1.98it/s]\n",
            "                   all        122        122      0.589      0.919      0.837      0.616\n",
            "\n",
            "      Epoch    GPU_mem   box_loss   obj_loss   cls_loss  Instances       Size\n",
            "    155/199      7.45G    0.02602    0.01065    0.02518         19        416: 100% 8/8 [00:04<00:00,  1.90it/s]\n",
            "                 Class     Images  Instances          P          R      mAP50   mAP50-95: 100% 4/4 [00:02<00:00,  1.86it/s]\n",
            "                   all        122        122      0.691       0.83      0.815      0.575\n",
            "\n",
            "      Epoch    GPU_mem   box_loss   obj_loss   cls_loss  Instances       Size\n",
            "    156/199      7.45G    0.02366      0.011    0.02877         19        416: 100% 8/8 [00:04<00:00,  1.97it/s]\n",
            "                 Class     Images  Instances          P          R      mAP50   mAP50-95: 100% 4/4 [00:01<00:00,  2.12it/s]\n",
            "                   all        122        122      0.664      0.893      0.827      0.603\n",
            "\n",
            "      Epoch    GPU_mem   box_loss   obj_loss   cls_loss  Instances       Size\n",
            "    157/199      7.45G    0.02387    0.00996    0.02697         27        416: 100% 8/8 [00:03<00:00,  2.10it/s]\n",
            "                 Class     Images  Instances          P          R      mAP50   mAP50-95: 100% 4/4 [00:02<00:00,  1.89it/s]\n",
            "                   all        122        122       0.68      0.903      0.809      0.604\n",
            "\n",
            "      Epoch    GPU_mem   box_loss   obj_loss   cls_loss  Instances       Size\n",
            "    158/199      7.45G    0.02526    0.01046    0.02734         19        416: 100% 8/8 [00:03<00:00,  2.07it/s]\n",
            "                 Class     Images  Instances          P          R      mAP50   mAP50-95: 100% 4/4 [00:01<00:00,  2.09it/s]\n",
            "                   all        122        122      0.729      0.954      0.871      0.666\n",
            "\n",
            "      Epoch    GPU_mem   box_loss   obj_loss   cls_loss  Instances       Size\n",
            "    159/199      7.45G    0.02586    0.01155    0.02653         23        416: 100% 8/8 [00:04<00:00,  1.94it/s]\n",
            "                 Class     Images  Instances          P          R      mAP50   mAP50-95: 100% 4/4 [00:01<00:00,  2.02it/s]\n",
            "                   all        122        122      0.695      0.932      0.873       0.65\n",
            "\n",
            "      Epoch    GPU_mem   box_loss   obj_loss   cls_loss  Instances       Size\n",
            "    160/199      7.45G    0.02495    0.01053    0.02568         24        416: 100% 8/8 [00:03<00:00,  2.10it/s]\n",
            "                 Class     Images  Instances          P          R      mAP50   mAP50-95: 100% 4/4 [00:01<00:00,  2.15it/s]\n",
            "                   all        122        122      0.703       0.95      0.882      0.679\n",
            "\n",
            "      Epoch    GPU_mem   box_loss   obj_loss   cls_loss  Instances       Size\n",
            "    161/199      7.45G    0.02528   0.009927    0.02853         25        416: 100% 8/8 [00:03<00:00,  2.08it/s]\n",
            "                 Class     Images  Instances          P          R      mAP50   mAP50-95: 100% 4/4 [00:02<00:00,  1.89it/s]\n",
            "                   all        122        122      0.717      0.954      0.884      0.675\n",
            "\n",
            "      Epoch    GPU_mem   box_loss   obj_loss   cls_loss  Instances       Size\n",
            "    162/199      7.45G    0.02684    0.01132     0.0251         27        416: 100% 8/8 [00:03<00:00,  2.04it/s]\n",
            "                 Class     Images  Instances          P          R      mAP50   mAP50-95: 100% 4/4 [00:01<00:00,  2.13it/s]\n",
            "                   all        122        122      0.741      0.975      0.908      0.694\n",
            "\n",
            "      Epoch    GPU_mem   box_loss   obj_loss   cls_loss  Instances       Size\n",
            "    163/199      7.45G    0.02245    0.01089    0.02432         21        416: 100% 8/8 [00:04<00:00,  1.97it/s]\n",
            "                 Class     Images  Instances          P          R      mAP50   mAP50-95: 100% 4/4 [00:01<00:00,  2.01it/s]\n",
            "                   all        122        122      0.724      0.946      0.894      0.607\n",
            "\n",
            "      Epoch    GPU_mem   box_loss   obj_loss   cls_loss  Instances       Size\n",
            "    164/199      7.45G    0.02645    0.01104    0.02388         23        416: 100% 8/8 [00:03<00:00,  2.07it/s]\n",
            "                 Class     Images  Instances          P          R      mAP50   mAP50-95: 100% 4/4 [00:01<00:00,  2.14it/s]\n",
            "                   all        122        122      0.726      0.945        0.9      0.608\n",
            "\n",
            "      Epoch    GPU_mem   box_loss   obj_loss   cls_loss  Instances       Size\n",
            "    165/199      7.45G    0.02363    0.01157    0.02279         27        416: 100% 8/8 [00:04<00:00,  1.91it/s]\n",
            "                 Class     Images  Instances          P          R      mAP50   mAP50-95: 100% 4/4 [00:01<00:00,  2.12it/s]\n",
            "                   all        122        122      0.744      0.954      0.912      0.709\n",
            "\n",
            "      Epoch    GPU_mem   box_loss   obj_loss   cls_loss  Instances       Size\n",
            "    166/199      7.45G    0.02431    0.01091    0.02543         24        416: 100% 8/8 [00:04<00:00,  1.98it/s]\n",
            "                 Class     Images  Instances          P          R      mAP50   mAP50-95: 100% 4/4 [00:02<00:00,  1.91it/s]\n",
            "                   all        122        122      0.674      0.868      0.828      0.576\n",
            "\n",
            "      Epoch    GPU_mem   box_loss   obj_loss   cls_loss  Instances       Size\n",
            "    167/199      7.45G    0.02265     0.0102    0.02592         23        416: 100% 8/8 [00:03<00:00,  2.10it/s]\n",
            "                 Class     Images  Instances          P          R      mAP50   mAP50-95: 100% 4/4 [00:01<00:00,  2.14it/s]\n",
            "                   all        122        122      0.725      0.958      0.896      0.686\n",
            "\n",
            "      Epoch    GPU_mem   box_loss   obj_loss   cls_loss  Instances       Size\n",
            "    168/199      7.45G    0.02393    0.01034    0.02174         19        416: 100% 8/8 [00:04<00:00,  1.95it/s]\n",
            "                 Class     Images  Instances          P          R      mAP50   mAP50-95: 100% 4/4 [00:01<00:00,  2.01it/s]\n",
            "                   all        122        122       0.74      0.976      0.924      0.728\n",
            "\n",
            "      Epoch    GPU_mem   box_loss   obj_loss   cls_loss  Instances       Size\n",
            "    169/199      7.45G    0.02144   0.009937    0.02241         19        416: 100% 8/8 [00:03<00:00,  2.09it/s]\n",
            "                 Class     Images  Instances          P          R      mAP50   mAP50-95: 100% 4/4 [00:01<00:00,  2.12it/s]\n",
            "                   all        122        122      0.748      0.955      0.901      0.692\n",
            "\n",
            "      Epoch    GPU_mem   box_loss   obj_loss   cls_loss  Instances       Size\n",
            "    170/199      7.45G    0.02281    0.01012    0.02306         21        416: 100% 8/8 [00:04<00:00,  2.00it/s]\n",
            "                 Class     Images  Instances          P          R      mAP50   mAP50-95: 100% 4/4 [00:02<00:00,  1.93it/s]\n",
            "                   all        122        122      0.567      0.772      0.664      0.429\n",
            "\n",
            "      Epoch    GPU_mem   box_loss   obj_loss   cls_loss  Instances       Size\n",
            "    171/199      7.45G    0.02393   0.009318    0.02604         21        416: 100% 8/8 [00:03<00:00,  2.06it/s]\n",
            "                 Class     Images  Instances          P          R      mAP50   mAP50-95: 100% 4/4 [00:01<00:00,  2.14it/s]\n",
            "                   all        122        122      0.615      0.825      0.725      0.495\n",
            "\n",
            "      Epoch    GPU_mem   box_loss   obj_loss   cls_loss  Instances       Size\n",
            "    172/199      7.45G    0.02575   0.009858    0.02644         21        416: 100% 8/8 [00:04<00:00,  1.91it/s]\n",
            "                 Class     Images  Instances          P          R      mAP50   mAP50-95: 100% 4/4 [00:01<00:00,  2.02it/s]\n",
            "                   all        122        122      0.766      0.956      0.886      0.684\n",
            "\n",
            "      Epoch    GPU_mem   box_loss   obj_loss   cls_loss  Instances       Size\n",
            "    173/199      7.45G    0.02282    0.01006     0.0222         19        416: 100% 8/8 [00:03<00:00,  2.07it/s]\n",
            "                 Class     Images  Instances          P          R      mAP50   mAP50-95: 100% 4/4 [00:01<00:00,  2.11it/s]\n",
            "                   all        122        122      0.729       0.89      0.859      0.635\n",
            "\n",
            "      Epoch    GPU_mem   box_loss   obj_loss   cls_loss  Instances       Size\n",
            "    174/199      7.45G    0.02417    0.01042    0.02573         25        416: 100% 8/8 [00:03<00:00,  2.01it/s]\n",
            "                 Class     Images  Instances          P          R      mAP50   mAP50-95: 100% 4/4 [00:01<00:00,  2.16it/s]\n",
            "                   all        122        122      0.672      0.938      0.849      0.626\n",
            "\n",
            "      Epoch    GPU_mem   box_loss   obj_loss   cls_loss  Instances       Size\n",
            "    175/199      7.45G    0.02537   0.009448    0.02425         17        416: 100% 8/8 [00:03<00:00,  2.09it/s]\n",
            "                 Class     Images  Instances          P          R      mAP50   mAP50-95: 100% 4/4 [00:02<00:00,  1.90it/s]\n",
            "                   all        122        122      0.766      0.897       0.89      0.679\n",
            "\n",
            "      Epoch    GPU_mem   box_loss   obj_loss   cls_loss  Instances       Size\n",
            "    176/199      7.45G    0.02356    0.01049    0.02149         28        416: 100% 8/8 [00:03<00:00,  2.09it/s]\n",
            "                 Class     Images  Instances          P          R      mAP50   mAP50-95: 100% 4/4 [00:01<00:00,  2.17it/s]\n",
            "                   all        122        122      0.785      0.975      0.917      0.726\n",
            "\n",
            "      Epoch    GPU_mem   box_loss   obj_loss   cls_loss  Instances       Size\n",
            "    177/199      7.45G     0.0233   0.009888    0.02429         19        416: 100% 8/8 [00:03<00:00,  2.12it/s]\n",
            "                 Class     Images  Instances          P          R      mAP50   mAP50-95: 100% 4/4 [00:01<00:00,  2.14it/s]\n",
            "                   all        122        122      0.768       0.94      0.895      0.682\n",
            "\n",
            "      Epoch    GPU_mem   box_loss   obj_loss   cls_loss  Instances       Size\n",
            "    178/199      7.45G    0.02529    0.01034    0.02148         17        416: 100% 8/8 [00:04<00:00,  1.94it/s]\n",
            "                 Class     Images  Instances          P          R      mAP50   mAP50-95: 100% 4/4 [00:01<00:00,  2.13it/s]\n",
            "                   all        122        122      0.805      0.964      0.923      0.724\n",
            "\n",
            "      Epoch    GPU_mem   box_loss   obj_loss   cls_loss  Instances       Size\n",
            "    179/199      7.45G    0.02345    0.01032    0.02309         26        416: 100% 8/8 [00:03<00:00,  2.08it/s]\n",
            "                 Class     Images  Instances          P          R      mAP50   mAP50-95: 100% 4/4 [00:01<00:00,  2.07it/s]\n",
            "                   all        122        122      0.821      0.992      0.941       0.75\n",
            "\n",
            "      Epoch    GPU_mem   box_loss   obj_loss   cls_loss  Instances       Size\n",
            "    180/199      7.45G    0.02264   0.009333     0.0246         20        416: 100% 8/8 [00:03<00:00,  2.07it/s]\n",
            "                 Class     Images  Instances          P          R      mAP50   mAP50-95: 100% 4/4 [00:01<00:00,  2.12it/s]\n",
            "                   all        122        122      0.778      0.965      0.927      0.729\n",
            "\n",
            "      Epoch    GPU_mem   box_loss   obj_loss   cls_loss  Instances       Size\n",
            "    181/199      7.45G     0.0209    0.00865    0.02563         20        416: 100% 8/8 [00:04<00:00,  1.95it/s]\n",
            "                 Class     Images  Instances          P          R      mAP50   mAP50-95: 100% 4/4 [00:01<00:00,  2.06it/s]\n",
            "                   all        122        122      0.724       0.93      0.878      0.676\n",
            "\n",
            "      Epoch    GPU_mem   box_loss   obj_loss   cls_loss  Instances       Size\n",
            "    182/199      7.45G    0.02145   0.008997     0.0246         19        416: 100% 8/8 [00:03<00:00,  2.06it/s]\n",
            "                 Class     Images  Instances          P          R      mAP50   mAP50-95: 100% 4/4 [00:01<00:00,  2.07it/s]\n",
            "                   all        122        122      0.705      0.923      0.865      0.658\n",
            "\n",
            "      Epoch    GPU_mem   box_loss   obj_loss   cls_loss  Instances       Size\n",
            "    183/199      7.45G    0.02414    0.01058     0.0231         23        416: 100% 8/8 [00:04<00:00,  1.98it/s]\n",
            "                 Class     Images  Instances          P          R      mAP50   mAP50-95: 100% 4/4 [00:01<00:00,  2.12it/s]\n",
            "                   all        122        122      0.747      0.954      0.923      0.718\n",
            "\n",
            "      Epoch    GPU_mem   box_loss   obj_loss   cls_loss  Instances       Size\n",
            "    184/199      7.45G    0.02054   0.009225    0.02129         24        416: 100% 8/8 [00:03<00:00,  2.10it/s]\n",
            "                 Class     Images  Instances          P          R      mAP50   mAP50-95: 100% 4/4 [00:02<00:00,  1.88it/s]\n",
            "                   all        122        122      0.782      0.951      0.942      0.752\n",
            "\n",
            "      Epoch    GPU_mem   box_loss   obj_loss   cls_loss  Instances       Size\n",
            "    185/199      7.45G    0.02382   0.009626    0.02488         23        416: 100% 8/8 [00:03<00:00,  2.11it/s]\n",
            "                 Class     Images  Instances          P          R      mAP50   mAP50-95: 100% 4/4 [00:01<00:00,  2.14it/s]\n",
            "                   all        122        122      0.807       0.98      0.954      0.792\n",
            "\n",
            "      Epoch    GPU_mem   box_loss   obj_loss   cls_loss  Instances       Size\n",
            "    186/199      7.45G    0.02122   0.009335    0.02097         25        416: 100% 8/8 [00:03<00:00,  2.10it/s]\n",
            "                 Class     Images  Instances          P          R      mAP50   mAP50-95: 100% 4/4 [00:02<00:00,  1.96it/s]\n",
            "                   all        122        122      0.792      0.987      0.937      0.781\n",
            "\n",
            "      Epoch    GPU_mem   box_loss   obj_loss   cls_loss  Instances       Size\n",
            "    187/199      7.45G    0.02351    0.01003    0.02224         24        416: 100% 8/8 [00:03<00:00,  2.05it/s]\n",
            "                 Class     Images  Instances          P          R      mAP50   mAP50-95: 100% 4/4 [00:01<00:00,  2.14it/s]\n",
            "                   all        122        122      0.808      0.979      0.942      0.779\n",
            "\n",
            "      Epoch    GPU_mem   box_loss   obj_loss   cls_loss  Instances       Size\n",
            "    188/199      7.45G    0.02412   0.009465    0.02313         19        416: 100% 8/8 [00:03<00:00,  2.03it/s]\n",
            "                 Class     Images  Instances          P          R      mAP50   mAP50-95: 100% 4/4 [00:02<00:00,  1.89it/s]\n",
            "                   all        122        122      0.822      0.985      0.957      0.808\n",
            "\n",
            "      Epoch    GPU_mem   box_loss   obj_loss   cls_loss  Instances       Size\n",
            "    189/199      7.45G    0.02112   0.009498    0.02034         22        416: 100% 8/8 [00:03<00:00,  2.02it/s]\n",
            "                 Class     Images  Instances          P          R      mAP50   mAP50-95: 100% 4/4 [00:02<00:00,  1.87it/s]\n",
            "                   all        122        122      0.833      0.985      0.963      0.809\n",
            "\n",
            "      Epoch    GPU_mem   box_loss   obj_loss   cls_loss  Instances       Size\n",
            "    190/199      7.45G    0.02148    0.01009     0.0202         22        416: 100% 8/8 [00:03<00:00,  2.07it/s]\n",
            "                 Class     Images  Instances          P          R      mAP50   mAP50-95: 100% 4/4 [00:02<00:00,  1.98it/s]\n",
            "                   all        122        122      0.845      0.985      0.966      0.806\n",
            "\n",
            "      Epoch    GPU_mem   box_loss   obj_loss   cls_loss  Instances       Size\n",
            "    191/199      7.45G    0.02257   0.009377    0.02248         22        416: 100% 8/8 [00:03<00:00,  2.01it/s]\n",
            "                 Class     Images  Instances          P          R      mAP50   mAP50-95: 100% 4/4 [00:01<00:00,  2.13it/s]\n",
            "                   all        122        122      0.853      0.956      0.966      0.791\n",
            "\n",
            "      Epoch    GPU_mem   box_loss   obj_loss   cls_loss  Instances       Size\n",
            "    192/199      7.45G    0.02161    0.00994    0.02182         21        416: 100% 8/8 [00:03<00:00,  2.03it/s]\n",
            "                 Class     Images  Instances          P          R      mAP50   mAP50-95: 100% 4/4 [00:02<00:00,  1.87it/s]\n",
            "                   all        122        122       0.85      0.955      0.965      0.797\n",
            "\n",
            "      Epoch    GPU_mem   box_loss   obj_loss   cls_loss  Instances       Size\n",
            "    193/199      7.45G    0.02098   0.009801    0.02143         19        416: 100% 8/8 [00:03<00:00,  2.10it/s]\n",
            "                 Class     Images  Instances          P          R      mAP50   mAP50-95: 100% 4/4 [00:01<00:00,  2.12it/s]\n",
            "                   all        122        122      0.847      0.964      0.964      0.777\n",
            "\n",
            "      Epoch    GPU_mem   box_loss   obj_loss   cls_loss  Instances       Size\n",
            "    194/199      7.45G    0.02195    0.01026    0.02134         31        416: 100% 8/8 [00:04<00:00,  1.93it/s]\n",
            "                 Class     Images  Instances          P          R      mAP50   mAP50-95: 100% 4/4 [00:02<00:00,  1.93it/s]\n",
            "                   all        122        122      0.827      0.949      0.953      0.759\n",
            "\n",
            "      Epoch    GPU_mem   box_loss   obj_loss   cls_loss  Instances       Size\n",
            "    195/199      7.45G    0.02139    0.01029    0.02023         24        416: 100% 8/8 [00:03<00:00,  2.10it/s]\n",
            "                 Class     Images  Instances          P          R      mAP50   mAP50-95: 100% 4/4 [00:01<00:00,  2.12it/s]\n",
            "                   all        122        122      0.829      0.965      0.957      0.777\n",
            "\n",
            "      Epoch    GPU_mem   box_loss   obj_loss   cls_loss  Instances       Size\n",
            "    196/199      7.45G    0.01918   0.009108     0.0201         22        416: 100% 8/8 [00:04<00:00,  1.95it/s]\n",
            "                 Class     Images  Instances          P          R      mAP50   mAP50-95: 100% 4/4 [00:01<00:00,  2.10it/s]\n",
            "                   all        122        122      0.831      0.978      0.968      0.812\n",
            "\n",
            "      Epoch    GPU_mem   box_loss   obj_loss   cls_loss  Instances       Size\n",
            "    197/199      7.45G    0.01949   0.009793    0.01859         28        416: 100% 8/8 [00:03<00:00,  2.01it/s]\n",
            "                 Class     Images  Instances          P          R      mAP50   mAP50-95: 100% 4/4 [00:02<00:00,  1.86it/s]\n",
            "                   all        122        122      0.836      0.981       0.97       0.82\n",
            "\n",
            "      Epoch    GPU_mem   box_loss   obj_loss   cls_loss  Instances       Size\n",
            "    198/199      7.45G    0.02117   0.009016     0.0224         21        416: 100% 8/8 [00:03<00:00,  2.09it/s]\n",
            "                 Class     Images  Instances          P          R      mAP50   mAP50-95: 100% 4/4 [00:02<00:00,  1.96it/s]\n",
            "                   all        122        122      0.841      0.972      0.969      0.826\n",
            "\n",
            "      Epoch    GPU_mem   box_loss   obj_loss   cls_loss  Instances       Size\n",
            "    199/199      7.45G    0.02104    0.01013    0.01916         24        416: 100% 8/8 [00:03<00:00,  2.08it/s]\n",
            "                 Class     Images  Instances          P          R      mAP50   mAP50-95: 100% 4/4 [00:01<00:00,  2.09it/s]\n",
            "                   all        122        122      0.838      0.977       0.97      0.823\n",
            "\n",
            "200 epochs completed in 0.591 hours.\n",
            "Optimizer stripped from runs/train/exp2/weights/last.pt, 173.0MB\n",
            "Optimizer stripped from runs/train/exp2/weights/best.pt, 173.0MB\n",
            "\n",
            "Validating runs/train/exp2/weights/best.pt...\n",
            "Fusing layers... \n",
            "Model summary: 322 layers, 86193601 parameters, 0 gradients, 203.8 GFLOPs\n",
            "                 Class     Images  Instances          P          R      mAP50   mAP50-95: 100% 4/4 [00:03<00:00,  1.18it/s]\n",
            "                   all        122        122      0.841      0.972       0.97      0.826\n",
            "                stage0        122         30      0.556          1      0.951      0.845\n",
            "                stage1        122         39      0.852      0.887      0.937      0.794\n",
            "                stage2        122         26      0.967          1      0.995       0.85\n",
            "                stage3        122         27      0.988          1      0.995      0.816\n",
            "Results saved to \u001b[1mruns/train/exp2\u001b[0m\n"
          ]
        }
      ],
      "source": [
        "!wandb disabled\n",
        "!python train.py --img 415 --epochs 200 --data /content/drive/MyDrive/knee/yolov5/data.yaml --weights yolov5x.pt --cache --workers 2"
      ]
    },
    {
      "cell_type": "code",
      "execution_count": null,
      "metadata": {
        "id": "tvQ8TRVqVVkJ"
      },
      "outputs": [],
      "source": [
        "p = 84.1\n",
        "r = 97\n",
        "mAP50 = 97"
      ]
    },
    {
      "cell_type": "code",
      "source": [
        "!zip -r /content/drive/MyDrive/knee/file.zip /content/yolov5"
      ],
      "metadata": {
        "colab": {
          "base_uri": "https://localhost:8080/"
        },
        "id": "j77O-3aE2T8I",
        "outputId": "01962445-e449-4d46-d723-eb3e9d2986d9"
      },
      "execution_count": null,
      "outputs": [
        {
          "output_type": "stream",
          "name": "stdout",
          "text": [
            "updating: content/yolov5/ (stored 0%)\n",
            "updating: content/yolov5/tutorial.ipynb (deflated 74%)\n",
            "updating: content/yolov5/__pycache__/ (stored 0%)\n",
            "updating: content/yolov5/__pycache__/val.cpython-310.pyc (deflated 43%)\n",
            "updating: content/yolov5/requirements.txt (deflated 55%)\n",
            "updating: content/yolov5/export.py (deflated 72%)\n",
            "updating: content/yolov5/.gitignore (deflated 55%)\n",
            "updating: content/yolov5/utils/ (stored 0%)\n",
            "updating: content/yolov5/utils/metrics.py (deflated 66%)\n",
            "updating: content/yolov5/utils/loss.py (deflated 69%)\n",
            "updating: content/yolov5/utils/autobatch.py (deflated 56%)\n",
            "updating: content/yolov5/utils/__pycache__/ (stored 0%)\n",
            "updating: content/yolov5/utils/__pycache__/__init__.cpython-310.pyc (deflated 40%)\n",
            "updating: content/yolov5/utils/__pycache__/downloads.cpython-310.pyc (deflated 42%)\n",
            "updating: content/yolov5/utils/__pycache__/dataloaders.cpython-310.pyc (deflated 51%)\n",
            "updating: content/yolov5/utils/__pycache__/callbacks.cpython-310.pyc (deflated 51%)\n",
            "updating: content/yolov5/utils/__pycache__/augmentations.cpython-310.pyc (deflated 47%)\n",
            "updating: content/yolov5/utils/__pycache__/loss.cpython-310.pyc (deflated 45%)\n",
            "updating: content/yolov5/utils/__pycache__/general.cpython-310.pyc (deflated 49%)\n",
            "updating: content/yolov5/utils/__pycache__/autobatch.cpython-310.pyc (deflated 36%)\n",
            "updating: content/yolov5/utils/__pycache__/plots.cpython-310.pyc (deflated 44%)\n",
            "updating: content/yolov5/utils/__pycache__/metrics.cpython-310.pyc (deflated 47%)\n",
            "updating: content/yolov5/utils/__pycache__/autoanchor.cpython-310.pyc (deflated 42%)\n",
            "updating: content/yolov5/utils/__pycache__/torch_utils.cpython-310.pyc (deflated 45%)\n",
            "updating: content/yolov5/utils/autoanchor.py (deflated 60%)\n",
            "updating: content/yolov5/utils/general.py (deflated 66%)\n",
            "updating: content/yolov5/utils/activations.py (deflated 68%)\n",
            "updating: content/yolov5/utils/downloads.py (deflated 62%)\n",
            "updating: content/yolov5/utils/loggers/ (stored 0%)\n",
            "updating: content/yolov5/utils/loggers/comet/ (stored 0%)\n",
            "updating: content/yolov5/utils/loggers/comet/__pycache__/ (stored 0%)\n",
            "updating: content/yolov5/utils/loggers/comet/__pycache__/__init__.cpython-310.pyc (deflated 50%)\n",
            "updating: content/yolov5/utils/loggers/comet/__pycache__/comet_utils.cpython-310.pyc (deflated 47%)\n",
            "updating: content/yolov5/utils/loggers/comet/optimizer_config.json (deflated 85%)\n",
            "updating: content/yolov5/utils/loggers/comet/hpo.py (deflated 68%)\n",
            "updating: content/yolov5/utils/loggers/comet/README.md (deflated 64%)\n",
            "updating: content/yolov5/utils/loggers/comet/comet_utils.py (deflated 69%)\n",
            "updating: content/yolov5/utils/loggers/comet/__init__.py (deflated 74%)\n",
            "updating: content/yolov5/utils/loggers/__pycache__/ (stored 0%)\n",
            "updating: content/yolov5/utils/loggers/__pycache__/__init__.cpython-310.pyc (deflated 50%)\n",
            "updating: content/yolov5/utils/loggers/clearml/ (stored 0%)\n",
            "updating: content/yolov5/utils/loggers/clearml/clearml_utils.py (deflated 64%)\n",
            "updating: content/yolov5/utils/loggers/clearml/__pycache__/ (stored 0%)\n",
            "updating: content/yolov5/utils/loggers/clearml/__pycache__/__init__.cpython-310.pyc (deflated 23%)\n",
            "updating: content/yolov5/utils/loggers/clearml/__pycache__/clearml_utils.cpython-310.pyc (deflated 44%)\n",
            "updating: content/yolov5/utils/loggers/clearml/hpo.py (deflated 71%)\n",
            "updating: content/yolov5/utils/loggers/clearml/README.md (deflated 59%)\n",
            "updating: content/yolov5/utils/loggers/clearml/__init__.py (stored 0%)\n",
            "updating: content/yolov5/utils/loggers/wandb/ (stored 0%)\n",
            "updating: content/yolov5/utils/loggers/wandb/__pycache__/ (stored 0%)\n",
            "updating: content/yolov5/utils/loggers/wandb/__pycache__/__init__.cpython-310.pyc (deflated 24%)\n",
            "updating: content/yolov5/utils/loggers/wandb/__pycache__/wandb_utils.cpython-310.pyc (deflated 48%)\n",
            "updating: content/yolov5/utils/loggers/wandb/wandb_utils.py (deflated 66%)\n",
            "updating: content/yolov5/utils/loggers/wandb/__init__.py (stored 0%)\n",
            "updating: content/yolov5/utils/loggers/__init__.py (deflated 73%)\n",
            "updating: content/yolov5/utils/google_app_engine/ (stored 0%)\n",
            "updating: content/yolov5/utils/google_app_engine/app.yaml (deflated 26%)\n",
            "updating: content/yolov5/utils/google_app_engine/additional_requirements.txt (deflated 20%)\n",
            "updating: content/yolov5/utils/google_app_engine/Dockerfile (deflated 47%)\n",
            "updating: content/yolov5/utils/flask_rest_api/ (stored 0%)\n",
            "updating: content/yolov5/utils/flask_rest_api/example_request.py (deflated 26%)\n",
            "updating: content/yolov5/utils/flask_rest_api/restapi.py (deflated 48%)\n",
            "updating: content/yolov5/utils/flask_rest_api/README.md (deflated 52%)\n",
            "updating: content/yolov5/utils/aws/ (stored 0%)\n",
            "updating: content/yolov5/utils/aws/userdata.sh (deflated 47%)\n",
            "updating: content/yolov5/utils/aws/mime.sh (deflated 46%)\n",
            "updating: content/yolov5/utils/aws/__init__.py (stored 0%)\n",
            "updating: content/yolov5/utils/aws/resume.py (deflated 46%)\n",
            "updating: content/yolov5/utils/callbacks.py (deflated 68%)\n",
            "updating: content/yolov5/utils/torch_utils.py (deflated 64%)\n",
            "updating: content/yolov5/utils/plots.py (deflated 63%)\n",
            "updating: content/yolov5/utils/augmentations.py (deflated 66%)\n",
            "updating: content/yolov5/utils/dataloaders.py (deflated 71%)\n",
            "updating: content/yolov5/utils/__init__.py (deflated 55%)\n",
            "updating: content/yolov5/utils/docker/ (stored 0%)\n",
            "updating: content/yolov5/utils/docker/Dockerfile-arm64 (deflated 51%)\n",
            "updating: content/yolov5/utils/docker/Dockerfile-cpu (deflated 51%)\n",
            "updating: content/yolov5/utils/docker/Dockerfile (deflated 55%)\n",
            "updating: content/yolov5/utils/segment/ (stored 0%)\n",
            "updating: content/yolov5/utils/segment/metrics.py (deflated 76%)\n",
            "updating: content/yolov5/utils/segment/loss.py (deflated 66%)\n",
            "updating: content/yolov5/utils/segment/general.py (deflated 71%)\n",
            "updating: content/yolov5/utils/segment/plots.py (deflated 64%)\n",
            "updating: content/yolov5/utils/segment/augmentations.py (deflated 62%)\n",
            "updating: content/yolov5/utils/segment/dataloaders.py (deflated 72%)\n",
            "updating: content/yolov5/utils/segment/__init__.py (stored 0%)\n",
            "updating: content/yolov5/utils/triton.py (deflated 67%)\n",
            "updating: content/yolov5/val.py (deflated 67%)\n",
            "updating: content/yolov5/.github/ (stored 0%)\n",
            "updating: content/yolov5/.github/dependabot.yml (deflated 52%)\n",
            "updating: content/yolov5/.github/workflows/ (stored 0%)\n",
            "updating: content/yolov5/.github/workflows/greetings.yml (deflated 61%)\n",
            "updating: content/yolov5/.github/workflows/codeql-analysis.yml (deflated 51%)\n",
            "updating: content/yolov5/.github/workflows/ci-testing.yml (deflated 72%)\n",
            "updating: content/yolov5/.github/workflows/stale.yml (deflated 58%)\n",
            "updating: content/yolov5/.github/workflows/links.yml (deflated 57%)\n",
            "updating: content/yolov5/.github/workflows/docker.yml (deflated 66%)\n",
            "updating: content/yolov5/.github/ISSUE_TEMPLATE/ (stored 0%)\n",
            "updating: content/yolov5/.github/ISSUE_TEMPLATE/bug-report.yml (deflated 60%)\n",
            "updating: content/yolov5/.github/ISSUE_TEMPLATE/config.yml (deflated 49%)\n",
            "updating: content/yolov5/.github/ISSUE_TEMPLATE/question.yml (deflated 57%)\n",
            "updating: content/yolov5/.github/ISSUE_TEMPLATE/feature-request.yml (deflated 61%)\n",
            "updating: content/yolov5/benchmarks.py (deflated 69%)\n",
            "updating: content/yolov5/.git/ (stored 0%)\n",
            "updating: content/yolov5/.git/FETCH_HEAD (deflated 66%)\n",
            "updating: content/yolov5/.git/info/ (stored 0%)\n",
            "updating: content/yolov5/.git/info/exclude (deflated 28%)\n",
            "updating: content/yolov5/.git/packed-refs (deflated 50%)\n",
            "updating: content/yolov5/.git/hooks/ (stored 0%)\n",
            "updating: content/yolov5/.git/hooks/update.sample (deflated 68%)\n",
            "updating: content/yolov5/.git/hooks/post-update.sample (deflated 27%)\n",
            "updating: content/yolov5/.git/hooks/pre-push.sample (deflated 49%)\n",
            "updating: content/yolov5/.git/hooks/pre-merge-commit.sample (deflated 39%)\n",
            "updating: content/yolov5/.git/hooks/fsmonitor-watchman.sample (deflated 62%)\n",
            "updating: content/yolov5/.git/hooks/pre-rebase.sample (deflated 59%)\n",
            "updating: content/yolov5/.git/hooks/pre-applypatch.sample (deflated 38%)\n",
            "updating: content/yolov5/.git/hooks/pre-commit.sample (deflated 45%)\n",
            "updating: content/yolov5/.git/hooks/applypatch-msg.sample (deflated 42%)\n",
            "updating: content/yolov5/.git/hooks/prepare-commit-msg.sample (deflated 50%)\n",
            "updating: content/yolov5/.git/hooks/commit-msg.sample (deflated 44%)\n",
            "updating: content/yolov5/.git/hooks/pre-receive.sample (deflated 40%)\n",
            "updating: content/yolov5/.git/hooks/push-to-checkout.sample (deflated 55%)\n",
            "updating: content/yolov5/.git/refs/ (stored 0%)\n",
            "updating: content/yolov5/.git/refs/tags/ (stored 0%)\n",
            "updating: content/yolov5/.git/refs/heads/ (stored 0%)\n",
            "updating: content/yolov5/.git/refs/heads/master (stored 0%)\n",
            "updating: content/yolov5/.git/refs/remotes/ (stored 0%)\n",
            "updating: content/yolov5/.git/refs/remotes/origin/ (stored 0%)\n",
            "updating: content/yolov5/.git/refs/remotes/origin/HEAD (stored 0%)\n",
            "updating: content/yolov5/.git/branches/ (stored 0%)\n",
            "updating: content/yolov5/.git/config (deflated 33%)\n",
            "updating: content/yolov5/.git/logs/ (stored 0%)\n",
            "updating: content/yolov5/.git/logs/refs/ (stored 0%)\n",
            "updating: content/yolov5/.git/logs/refs/heads/ (stored 0%)\n",
            "updating: content/yolov5/.git/logs/refs/heads/master (deflated 28%)\n",
            "updating: content/yolov5/.git/logs/refs/remotes/ (stored 0%)\n",
            "updating: content/yolov5/.git/logs/refs/remotes/origin/ (stored 0%)\n",
            "updating: content/yolov5/.git/logs/refs/remotes/origin/HEAD (deflated 28%)\n",
            "updating: content/yolov5/.git/logs/HEAD (deflated 28%)\n",
            "updating: content/yolov5/.git/description (deflated 14%)\n",
            "updating: content/yolov5/.git/objects/ (stored 0%)\n",
            "updating: content/yolov5/.git/objects/info/ (stored 0%)\n",
            "updating: content/yolov5/.git/objects/pack/ (stored 0%)\n",
            "updating: content/yolov5/.git/HEAD (stored 0%)\n",
            "updating: content/yolov5/.git/index (deflated 55%)\n",
            "updating: content/yolov5/.gitattributes (deflated 4%)\n",
            "updating: content/yolov5/hubconf.py (deflated 73%)\n",
            "updating: content/yolov5/data/ (stored 0%)\n",
            "updating: content/yolov5/data/SKU-110K.yaml (deflated 52%)\n",
            "updating: content/yolov5/data/GlobalWheat2020.yaml (deflated 54%)\n",
            "updating: content/yolov5/data/ImageNet.yaml (deflated 54%)\n",
            "updating: content/yolov5/data/images/ (stored 0%)\n",
            "updating: content/yolov5/data/images/zidane.jpg (deflated 0%)\n",
            "updating: content/yolov5/data/images/bus.jpg (deflated 1%)\n",
            "updating: content/yolov5/data/coco128.yaml (deflated 47%)\n",
            "updating: content/yolov5/data/scripts/ (stored 0%)\n",
            "updating: content/yolov5/data/scripts/download_weights.sh (deflated 43%)\n",
            "updating: content/yolov5/data/scripts/get_coco.sh (deflated 59%)\n",
            "updating: content/yolov5/data/scripts/get_imagenet.sh (deflated 53%)\n",
            "updating: content/yolov5/data/scripts/get_coco128.sh (deflated 36%)\n",
            "updating: content/yolov5/data/xView.yaml (deflated 57%)\n",
            "updating: content/yolov5/data/hyps/ (stored 0%)\n",
            "updating: content/yolov5/data/hyps/hyp.Objects365.yaml (deflated 39%)\n",
            "updating: content/yolov5/data/hyps/hyp.scratch-med.yaml (deflated 53%)\n",
            "updating: content/yolov5/data/hyps/hyp.no-augmentation.yaml (deflated 54%)\n",
            "updating: content/yolov5/data/hyps/hyp.scratch-low.yaml (deflated 54%)\n",
            "updating: content/yolov5/data/hyps/hyp.scratch-high.yaml (deflated 53%)\n",
            "updating: content/yolov5/data/hyps/hyp.VOC.yaml (deflated 48%)\n",
            "updating: content/yolov5/data/Argoverse.yaml (deflated 55%)\n",
            "updating: content/yolov5/data/coco128-seg.yaml (deflated 47%)\n",
            "updating: content/yolov5/data/VOC.yaml (deflated 55%)\n",
            "updating: content/yolov5/data/VisDrone.yaml (deflated 58%)\n",
            "updating: content/yolov5/data/Objects365.yaml (deflated 53%)\n",
            "updating: content/yolov5/data/coco.yaml (deflated 49%)\n",
            "updating: content/yolov5/train.py (deflated 69%)\n",
            "updating: content/yolov5/setup.cfg (deflated 44%)\n",
            "updating: content/yolov5/.pre-commit-config.yaml (deflated 60%)\n",
            "updating: content/yolov5/README.zh-CN.md (deflated 76%)\n",
            "updating: content/yolov5/README.md (deflated 79%)\n",
            "updating: content/yolov5/LICENSE (deflated 66%)\n",
            "updating: content/yolov5/classify/ (stored 0%)\n",
            "updating: content/yolov5/classify/tutorial.ipynb (deflated 81%)\n",
            "updating: content/yolov5/classify/val.py (deflated 66%)\n",
            "updating: content/yolov5/classify/train.py (deflated 66%)\n",
            "updating: content/yolov5/classify/predict.py (deflated 69%)\n",
            "updating: content/yolov5/detect.py (deflated 69%)\n",
            "updating: content/yolov5/runs/ (stored 0%)\n",
            "updating: content/yolov5/runs/train/ (stored 0%)\n",
            "updating: content/yolov5/runs/train/exp2/ (stored 0%)\n",
            "updating: content/yolov5/runs/train/exp2/labels.jpg (deflated 45%)\n",
            "updating: content/yolov5/runs/train/exp2/val_batch2_labels.jpg (deflated 19%)\n",
            "updating: content/yolov5/runs/train/exp2/train_batch2.jpg (deflated 7%)\n",
            "updating: content/yolov5/runs/train/exp2/val_batch0_labels.jpg (deflated 18%)\n",
            "updating: content/yolov5/runs/train/exp2/labels_correlogram.jpg (deflated 49%)\n",
            "updating: content/yolov5/runs/train/exp2/opt.yaml (deflated 48%)\n",
            "updating: content/yolov5/runs/train/exp2/weights/ (stored 0%)\n",
            "updating: content/yolov5/runs/train/exp2/weights/best.pt (deflated 8%)\n",
            "updating: content/yolov5/runs/train/exp2/weights/last.pt (deflated 8%)\n",
            "updating: content/yolov5/runs/train/exp2/R_curve.png (deflated 11%)\n",
            "updating: content/yolov5/runs/train/exp2/train_batch0.jpg (deflated 8%)\n",
            "updating: content/yolov5/runs/train/exp2/PR_curve.png (deflated 21%)\n",
            "updating: content/yolov5/runs/train/exp2/train_batch1.jpg (deflated 6%)\n",
            "updating: content/yolov5/runs/train/exp2/hyp.yaml (deflated 45%)\n",
            "updating: content/yolov5/runs/train/exp2/confusion_matrix.png (deflated 29%)\n",
            "updating: content/yolov5/runs/train/exp2/results.csv (deflated 83%)\n",
            "updating: content/yolov5/runs/train/exp2/P_curve.png (deflated 11%)\n",
            "updating: content/yolov5/runs/train/exp2/F1_curve.png (deflated 8%)\n",
            "updating: content/yolov5/runs/train/exp2/val_batch2_pred.jpg (deflated 18%)\n",
            "updating: content/yolov5/runs/train/exp2/val_batch1_labels.jpg (deflated 18%)\n",
            "updating: content/yolov5/runs/train/exp2/val_batch0_pred.jpg (deflated 18%)\n",
            "updating: content/yolov5/runs/train/exp2/results.png (deflated 7%)\n",
            "updating: content/yolov5/runs/train/exp2/val_batch1_pred.jpg (deflated 17%)\n",
            "updating: content/yolov5/runs/train/exp/ (stored 0%)\n",
            "updating: content/yolov5/runs/train/exp/labels.jpg (deflated 45%)\n",
            "updating: content/yolov5/runs/train/exp/train_batch2.jpg (deflated 7%)\n",
            "updating: content/yolov5/runs/train/exp/labels_correlogram.jpg (deflated 49%)\n",
            "updating: content/yolov5/runs/train/exp/opt.yaml (deflated 49%)\n",
            "updating: content/yolov5/runs/train/exp/weights/ (stored 0%)\n",
            "updating: content/yolov5/runs/train/exp/weights/best.pt (deflated 8%)\n",
            "updating: content/yolov5/runs/train/exp/weights/last.pt (deflated 8%)\n",
            "updating: content/yolov5/runs/train/exp/train_batch0.jpg (deflated 8%)\n",
            "updating: content/yolov5/runs/train/exp/train_batch1.jpg (deflated 6%)\n",
            "updating: content/yolov5/runs/train/exp/hyp.yaml (deflated 45%)\n",
            "updating: content/yolov5/runs/train/exp/results.csv (deflated 83%)\n",
            "updating: content/yolov5/models/ (stored 0%)\n",
            "updating: content/yolov5/models/yolov5s.yaml (deflated 60%)\n",
            "updating: content/yolov5/models/__pycache__/ (stored 0%)\n",
            "updating: content/yolov5/models/__pycache__/__init__.cpython-310.pyc (deflated 27%)\n",
            "updating: content/yolov5/models/__pycache__/experimental.cpython-310.pyc (deflated 44%)\n",
            "updating: content/yolov5/models/__pycache__/common.cpython-310.pyc (deflated 54%)\n",
            "updating: content/yolov5/models/__pycache__/yolo.cpython-310.pyc (deflated 49%)\n",
            "updating: content/yolov5/models/common.py (deflated 71%)\n",
            "updating: content/yolov5/models/yolov5m.yaml (deflated 60%)\n",
            "updating: content/yolov5/models/yolo.py (deflated 67%)\n",
            "updating: content/yolov5/models/yolov5l.yaml (deflated 60%)\n",
            "updating: content/yolov5/models/yolov5x.yaml (deflated 60%)\n",
            "updating: content/yolov5/models/experimental.py (deflated 58%)\n",
            "updating: content/yolov5/models/tf.py (deflated 73%)\n",
            "updating: content/yolov5/models/__init__.py (stored 0%)\n",
            "updating: content/yolov5/models/yolov5n.yaml (deflated 60%)\n",
            "updating: content/yolov5/models/segment/ (stored 0%)\n",
            "updating: content/yolov5/models/segment/yolov5x-seg.yaml (deflated 60%)\n",
            "updating: content/yolov5/models/segment/yolov5n-seg.yaml (deflated 60%)\n",
            "updating: content/yolov5/models/segment/yolov5m-seg.yaml (deflated 60%)\n",
            "updating: content/yolov5/models/segment/yolov5l-seg.yaml (deflated 60%)\n",
            "updating: content/yolov5/models/segment/yolov5s-seg.yaml (deflated 60%)\n",
            "updating: content/yolov5/models/hub/ (stored 0%)\n",
            "updating: content/yolov5/models/hub/yolov5s6.yaml (deflated 65%)\n",
            "updating: content/yolov5/models/hub/yolov5-p34.yaml (deflated 62%)\n",
            "updating: content/yolov5/models/hub/yolov5s-LeakyReLU.yaml (deflated 59%)\n",
            "updating: content/yolov5/models/hub/yolov5-p6.yaml (deflated 66%)\n",
            "updating: content/yolov5/models/hub/yolov5m6.yaml (deflated 65%)\n",
            "updating: content/yolov5/models/hub/yolov5-bifpn.yaml (deflated 60%)\n",
            "updating: content/yolov5/models/hub/yolov5s-transformer.yaml (deflated 59%)\n",
            "updating: content/yolov5/models/hub/anchors.yaml (deflated 72%)\n",
            "updating: content/yolov5/models/hub/yolov5n6.yaml (deflated 65%)\n",
            "updating: content/yolov5/models/hub/yolov5-panet.yaml (deflated 60%)\n",
            "updating: content/yolov5/models/hub/yolov3-spp.yaml (deflated 63%)\n",
            "updating: content/yolov5/models/hub/yolov5s-ghost.yaml (deflated 62%)\n",
            "updating: content/yolov5/models/hub/yolov5l6.yaml (deflated 65%)\n",
            "updating: content/yolov5/models/hub/yolov5-p7.yaml (deflated 69%)\n",
            "updating: content/yolov5/models/hub/yolov5x6.yaml (deflated 65%)\n",
            "updating: content/yolov5/models/hub/yolov5-p2.yaml (deflated 66%)\n",
            "updating: content/yolov5/models/hub/yolov3-tiny.yaml (deflated 60%)\n",
            "updating: content/yolov5/models/hub/yolov3.yaml (deflated 63%)\n",
            "updating: content/yolov5/models/hub/yolov5-fpn.yaml (deflated 56%)\n",
            "updating: content/yolov5/CITATION.cff (deflated 31%)\n",
            "updating: content/yolov5/.dockerignore (deflated 56%)\n",
            "updating: content/yolov5/segment/ (stored 0%)\n",
            "updating: content/yolov5/segment/tutorial.ipynb (deflated 75%)\n",
            "updating: content/yolov5/segment/val.py (deflated 68%)\n",
            "updating: content/yolov5/segment/train.py (deflated 69%)\n",
            "updating: content/yolov5/segment/predict.py (deflated 70%)\n",
            "updating: content/yolov5/CONTRIBUTING.md (deflated 56%)\n",
            "  adding: content/yolov5/.git/objects/pack/pack-0e40ea7a380b365b0c30ef6b467cd3983c054df3.pack (deflated 2%)\n",
            "  adding: content/yolov5/.git/objects/pack/pack-0e40ea7a380b365b0c30ef6b467cd3983c054df3.idx (deflated 2%)\n",
            "  adding: content/yolov5/yolov5x.pt (deflated 8%)\n",
            "  adding: content/yolov5/runs/train/exp2/events.out.tfevents.1704182110.4f200652871d.12863.0 (deflated 46%)\n",
            "  adding: content/yolov5/runs/train/exp/val_batch2_labels.jpg (deflated 19%)\n",
            "  adding: content/yolov5/runs/train/exp/val_batch0_labels.jpg (deflated 18%)\n",
            "  adding: content/yolov5/runs/train/exp/R_curve.png (deflated 12%)\n",
            "  adding: content/yolov5/runs/train/exp/PR_curve.png (deflated 17%)\n",
            "  adding: content/yolov5/runs/train/exp/confusion_matrix.png (deflated 26%)\n",
            "  adding: content/yolov5/runs/train/exp/P_curve.png (deflated 9%)\n",
            "  adding: content/yolov5/runs/train/exp/F1_curve.png (deflated 12%)\n",
            "  adding: content/yolov5/runs/train/exp/val_batch2_pred.jpg (deflated 18%)\n",
            "  adding: content/yolov5/runs/train/exp/events.out.tfevents.1704179390.4f200652871d.830.0 (deflated 45%)\n",
            "  adding: content/yolov5/runs/train/exp/val_batch1_labels.jpg (deflated 18%)\n",
            "  adding: content/yolov5/runs/train/exp/val_batch0_pred.jpg (deflated 18%)\n",
            "  adding: content/yolov5/runs/train/exp/results.png (deflated 8%)\n",
            "  adding: content/yolov5/runs/train/exp/val_batch1_pred.jpg (deflated 17%)\n"
          ]
        }
      ]
    },
    {
      "cell_type": "markdown",
      "metadata": {
        "id": "Qc1K1WgI0tAH"
      },
      "source": [
        "**YoloV6**"
      ]
    },
    {
      "cell_type": "code",
      "source": [
        "%cd .."
      ],
      "metadata": {
        "colab": {
          "base_uri": "https://localhost:8080/"
        },
        "id": "gTrGpeCjoYo5",
        "outputId": "a04c6290-87d7-430e-f7c9-3e5166318f90"
      },
      "execution_count": null,
      "outputs": [
        {
          "output_type": "stream",
          "name": "stdout",
          "text": [
            "/content\n"
          ]
        }
      ]
    },
    {
      "cell_type": "code",
      "execution_count": null,
      "metadata": {
        "colab": {
          "base_uri": "https://localhost:8080/"
        },
        "id": "9NXBWse7-d2A",
        "outputId": "6e9c8846-bf0d-47de-e217-1d8aa67f8c77"
      },
      "outputs": [
        {
          "output_type": "stream",
          "name": "stdout",
          "text": [
            "fatal: destination path 'YOLOv6' already exists and is not an empty directory.\n"
          ]
        }
      ],
      "source": [
        "!git clone https://github.com/meituan/YOLOv6.git"
      ]
    },
    {
      "cell_type": "code",
      "execution_count": null,
      "metadata": {
        "colab": {
          "base_uri": "https://localhost:8080/"
        },
        "id": "xJFPbyUV_B-2",
        "outputId": "120a62bd-f441-476e-ec08-47f1e7c89139"
      },
      "outputs": [
        {
          "output_type": "stream",
          "name": "stdout",
          "text": [
            "/content/YOLOv6\n"
          ]
        }
      ],
      "source": [
        "%cd /content/YOLOv6"
      ]
    },
    {
      "cell_type": "code",
      "execution_count": null,
      "metadata": {
        "colab": {
          "base_uri": "https://localhost:8080/"
        },
        "id": "3PZ_1KFA_Rjm",
        "outputId": "1987a4ac-f8f6-44d5-8253-76c937d19377"
      },
      "outputs": [
        {
          "output_type": "stream",
          "name": "stdout",
          "text": [
            "Requirement already satisfied: torch>=1.8.0 in /usr/local/lib/python3.10/dist-packages (from -r requirements.txt (line 4)) (2.1.0+cu121)\n",
            "Requirement already satisfied: torchvision>=0.9.0 in /usr/local/lib/python3.10/dist-packages (from -r requirements.txt (line 5)) (0.16.0+cu121)\n",
            "Collecting numpy>=1.24.0 (from -r requirements.txt (line 6))\n",
            "  Using cached numpy-1.26.2-cp310-cp310-manylinux_2_17_x86_64.manylinux2014_x86_64.whl (18.2 MB)\n",
            "Requirement already satisfied: opencv-python>=4.1.2 in /usr/local/lib/python3.10/dist-packages (from -r requirements.txt (line 7)) (4.8.0.76)\n",
            "Requirement already satisfied: PyYAML>=5.3.1 in /usr/local/lib/python3.10/dist-packages (from -r requirements.txt (line 8)) (6.0.1)\n",
            "Requirement already satisfied: scipy>=1.4.1 in /usr/local/lib/python3.10/dist-packages (from -r requirements.txt (line 9)) (1.11.4)\n",
            "Requirement already satisfied: tqdm>=4.41.0 in /usr/local/lib/python3.10/dist-packages (from -r requirements.txt (line 10)) (4.66.1)\n",
            "Requirement already satisfied: addict>=2.4.0 in /usr/local/lib/python3.10/dist-packages (from -r requirements.txt (line 11)) (2.4.0)\n",
            "Requirement already satisfied: tensorboard>=2.7.0 in /usr/local/lib/python3.10/dist-packages (from -r requirements.txt (line 12)) (2.15.1)\n",
            "Requirement already satisfied: pycocotools>=2.0 in /usr/local/lib/python3.10/dist-packages (from -r requirements.txt (line 13)) (2.0.7)\n",
            "Requirement already satisfied: onnx>=1.10.0 in /usr/local/lib/python3.10/dist-packages (from -r requirements.txt (line 14)) (1.15.0)\n",
            "Requirement already satisfied: onnx-simplifier>=0.3.6 in /usr/local/lib/python3.10/dist-packages (from -r requirements.txt (line 15)) (0.4.35)\n",
            "Requirement already satisfied: thop in /usr/local/lib/python3.10/dist-packages (from -r requirements.txt (line 16)) (0.1.1.post2209072238)\n",
            "Requirement already satisfied: filelock in /usr/local/lib/python3.10/dist-packages (from torch>=1.8.0->-r requirements.txt (line 4)) (3.13.1)\n",
            "Requirement already satisfied: typing-extensions in /usr/local/lib/python3.10/dist-packages (from torch>=1.8.0->-r requirements.txt (line 4)) (4.5.0)\n",
            "Requirement already satisfied: sympy in /usr/local/lib/python3.10/dist-packages (from torch>=1.8.0->-r requirements.txt (line 4)) (1.12)\n",
            "Requirement already satisfied: networkx in /usr/local/lib/python3.10/dist-packages (from torch>=1.8.0->-r requirements.txt (line 4)) (3.2.1)\n",
            "Requirement already satisfied: jinja2 in /usr/local/lib/python3.10/dist-packages (from torch>=1.8.0->-r requirements.txt (line 4)) (3.1.2)\n",
            "Requirement already satisfied: fsspec in /usr/local/lib/python3.10/dist-packages (from torch>=1.8.0->-r requirements.txt (line 4)) (2023.6.0)\n",
            "Requirement already satisfied: triton==2.1.0 in /usr/local/lib/python3.10/dist-packages (from torch>=1.8.0->-r requirements.txt (line 4)) (2.1.0)\n",
            "Requirement already satisfied: requests in /usr/local/lib/python3.10/dist-packages (from torchvision>=0.9.0->-r requirements.txt (line 5)) (2.31.0)\n",
            "Requirement already satisfied: pillow!=8.3.*,>=5.3.0 in /usr/local/lib/python3.10/dist-packages (from torchvision>=0.9.0->-r requirements.txt (line 5)) (10.1.0)\n",
            "Requirement already satisfied: absl-py>=0.4 in /usr/local/lib/python3.10/dist-packages (from tensorboard>=2.7.0->-r requirements.txt (line 12)) (1.4.0)\n",
            "Requirement already satisfied: grpcio>=1.48.2 in /usr/local/lib/python3.10/dist-packages (from tensorboard>=2.7.0->-r requirements.txt (line 12)) (1.60.0)\n",
            "Requirement already satisfied: google-auth<3,>=1.6.3 in /usr/local/lib/python3.10/dist-packages (from tensorboard>=2.7.0->-r requirements.txt (line 12)) (2.17.3)\n",
            "Requirement already satisfied: google-auth-oauthlib<2,>=0.5 in /usr/local/lib/python3.10/dist-packages (from tensorboard>=2.7.0->-r requirements.txt (line 12)) (1.2.0)\n",
            "Requirement already satisfied: markdown>=2.6.8 in /usr/local/lib/python3.10/dist-packages (from tensorboard>=2.7.0->-r requirements.txt (line 12)) (3.5.1)\n",
            "Requirement already satisfied: protobuf<4.24,>=3.19.6 in /usr/local/lib/python3.10/dist-packages (from tensorboard>=2.7.0->-r requirements.txt (line 12)) (3.20.3)\n",
            "Requirement already satisfied: setuptools>=41.0.0 in /usr/local/lib/python3.10/dist-packages (from tensorboard>=2.7.0->-r requirements.txt (line 12)) (67.7.2)\n",
            "Requirement already satisfied: six>1.9 in /usr/local/lib/python3.10/dist-packages (from tensorboard>=2.7.0->-r requirements.txt (line 12)) (1.16.0)\n",
            "Requirement already satisfied: tensorboard-data-server<0.8.0,>=0.7.0 in /usr/local/lib/python3.10/dist-packages (from tensorboard>=2.7.0->-r requirements.txt (line 12)) (0.7.2)\n",
            "Requirement already satisfied: werkzeug>=1.0.1 in /usr/local/lib/python3.10/dist-packages (from tensorboard>=2.7.0->-r requirements.txt (line 12)) (3.0.1)\n",
            "Requirement already satisfied: matplotlib>=2.1.0 in /usr/local/lib/python3.10/dist-packages (from pycocotools>=2.0->-r requirements.txt (line 13)) (3.7.1)\n",
            "Requirement already satisfied: rich in /usr/local/lib/python3.10/dist-packages (from onnx-simplifier>=0.3.6->-r requirements.txt (line 15)) (13.7.0)\n",
            "Requirement already satisfied: cachetools<6.0,>=2.0.0 in /usr/local/lib/python3.10/dist-packages (from google-auth<3,>=1.6.3->tensorboard>=2.7.0->-r requirements.txt (line 12)) (5.3.2)\n",
            "Requirement already satisfied: pyasn1-modules>=0.2.1 in /usr/local/lib/python3.10/dist-packages (from google-auth<3,>=1.6.3->tensorboard>=2.7.0->-r requirements.txt (line 12)) (0.3.0)\n",
            "Requirement already satisfied: rsa<5,>=3.1.4 in /usr/local/lib/python3.10/dist-packages (from google-auth<3,>=1.6.3->tensorboard>=2.7.0->-r requirements.txt (line 12)) (4.9)\n",
            "Requirement already satisfied: requests-oauthlib>=0.7.0 in /usr/local/lib/python3.10/dist-packages (from google-auth-oauthlib<2,>=0.5->tensorboard>=2.7.0->-r requirements.txt (line 12)) (1.3.1)\n",
            "Requirement already satisfied: contourpy>=1.0.1 in /usr/local/lib/python3.10/dist-packages (from matplotlib>=2.1.0->pycocotools>=2.0->-r requirements.txt (line 13)) (1.2.0)\n",
            "Requirement already satisfied: cycler>=0.10 in /usr/local/lib/python3.10/dist-packages (from matplotlib>=2.1.0->pycocotools>=2.0->-r requirements.txt (line 13)) (0.12.1)\n",
            "Requirement already satisfied: fonttools>=4.22.0 in /usr/local/lib/python3.10/dist-packages (from matplotlib>=2.1.0->pycocotools>=2.0->-r requirements.txt (line 13)) (4.46.0)\n",
            "Requirement already satisfied: kiwisolver>=1.0.1 in /usr/local/lib/python3.10/dist-packages (from matplotlib>=2.1.0->pycocotools>=2.0->-r requirements.txt (line 13)) (1.4.5)\n",
            "Requirement already satisfied: packaging>=20.0 in /usr/local/lib/python3.10/dist-packages (from matplotlib>=2.1.0->pycocotools>=2.0->-r requirements.txt (line 13)) (23.2)\n",
            "Requirement already satisfied: pyparsing>=2.3.1 in /usr/local/lib/python3.10/dist-packages (from matplotlib>=2.1.0->pycocotools>=2.0->-r requirements.txt (line 13)) (3.1.1)\n",
            "Requirement already satisfied: python-dateutil>=2.7 in /usr/local/lib/python3.10/dist-packages (from matplotlib>=2.1.0->pycocotools>=2.0->-r requirements.txt (line 13)) (2.8.2)\n",
            "Requirement already satisfied: charset-normalizer<4,>=2 in /usr/local/lib/python3.10/dist-packages (from requests->torchvision>=0.9.0->-r requirements.txt (line 5)) (3.3.2)\n",
            "Requirement already satisfied: idna<4,>=2.5 in /usr/local/lib/python3.10/dist-packages (from requests->torchvision>=0.9.0->-r requirements.txt (line 5)) (3.6)\n",
            "Requirement already satisfied: urllib3<3,>=1.21.1 in /usr/local/lib/python3.10/dist-packages (from requests->torchvision>=0.9.0->-r requirements.txt (line 5)) (2.0.7)\n",
            "Requirement already satisfied: certifi>=2017.4.17 in /usr/local/lib/python3.10/dist-packages (from requests->torchvision>=0.9.0->-r requirements.txt (line 5)) (2023.11.17)\n",
            "Requirement already satisfied: MarkupSafe>=2.1.1 in /usr/local/lib/python3.10/dist-packages (from werkzeug>=1.0.1->tensorboard>=2.7.0->-r requirements.txt (line 12)) (2.1.3)\n",
            "Requirement already satisfied: markdown-it-py>=2.2.0 in /usr/local/lib/python3.10/dist-packages (from rich->onnx-simplifier>=0.3.6->-r requirements.txt (line 15)) (3.0.0)\n",
            "Requirement already satisfied: pygments<3.0.0,>=2.13.0 in /usr/local/lib/python3.10/dist-packages (from rich->onnx-simplifier>=0.3.6->-r requirements.txt (line 15)) (2.16.1)\n",
            "Requirement already satisfied: mpmath>=0.19 in /usr/local/lib/python3.10/dist-packages (from sympy->torch>=1.8.0->-r requirements.txt (line 4)) (1.3.0)\n",
            "Requirement already satisfied: mdurl~=0.1 in /usr/local/lib/python3.10/dist-packages (from markdown-it-py>=2.2.0->rich->onnx-simplifier>=0.3.6->-r requirements.txt (line 15)) (0.1.2)\n",
            "Requirement already satisfied: pyasn1<0.6.0,>=0.4.6 in /usr/local/lib/python3.10/dist-packages (from pyasn1-modules>=0.2.1->google-auth<3,>=1.6.3->tensorboard>=2.7.0->-r requirements.txt (line 12)) (0.5.1)\n",
            "Requirement already satisfied: oauthlib>=3.0.0 in /usr/local/lib/python3.10/dist-packages (from requests-oauthlib>=0.7.0->google-auth-oauthlib<2,>=0.5->tensorboard>=2.7.0->-r requirements.txt (line 12)) (3.2.2)\n",
            "Installing collected packages: numpy\n",
            "  Attempting uninstall: numpy\n",
            "    Found existing installation: numpy 1.23.5\n",
            "    Uninstalling numpy-1.23.5:\n",
            "      Successfully uninstalled numpy-1.23.5\n",
            "\u001b[31mERROR: pip's dependency resolver does not currently take into account all the packages that are installed. This behaviour is the source of the following dependency conflicts.\n",
            "lida 0.0.10 requires fastapi, which is not installed.\n",
            "lida 0.0.10 requires kaleido, which is not installed.\n",
            "lida 0.0.10 requires python-multipart, which is not installed.\n",
            "lida 0.0.10 requires uvicorn, which is not installed.\n",
            "imageio 2.31.6 requires pillow<10.1.0,>=8.3.2, but you have pillow 10.1.0 which is incompatible.\u001b[0m\u001b[31m\n",
            "\u001b[0mSuccessfully installed numpy-1.26.2\n"
          ]
        }
      ],
      "source": [
        "!pip install -r requirements.txt"
      ]
    },
    {
      "cell_type": "code",
      "execution_count": null,
      "metadata": {
        "colab": {
          "base_uri": "https://localhost:8080/"
        },
        "id": "a7VcAOnj_ZCn",
        "outputId": "1e0656b2-e9b9-47d2-8bcd-0caaea913ecb"
      },
      "outputs": [
        {
          "output_type": "stream",
          "name": "stdout",
          "text": [
            "2024-01-02 09:13:55.839953: E external/local_xla/xla/stream_executor/cuda/cuda_dnn.cc:9261] Unable to register cuDNN factory: Attempting to register factory for plugin cuDNN when one has already been registered\n",
            "2024-01-02 09:13:55.840005: E external/local_xla/xla/stream_executor/cuda/cuda_fft.cc:607] Unable to register cuFFT factory: Attempting to register factory for plugin cuFFT when one has already been registered\n",
            "2024-01-02 09:13:55.841393: E external/local_xla/xla/stream_executor/cuda/cuda_blas.cc:1515] Unable to register cuBLAS factory: Attempting to register factory for plugin cuBLAS when one has already been registered\n",
            "2024-01-02 09:13:55.849318: I tensorflow/core/platform/cpu_feature_guard.cc:182] This TensorFlow binary is optimized to use available CPU instructions in performance-critical operations.\n",
            "To enable the following instructions: AVX2 FMA, in other operations, rebuild TensorFlow with the appropriate compiler flags.\n",
            "2024-01-02 09:13:57.137088: W tensorflow/compiler/tf2tensorrt/utils/py_utils.cc:38] TF-TRT Warning: Could not find TensorRT\n",
            "Using 1 GPU for training... \n",
            "training args are: Namespace(data_path='/content/drive/MyDrive/knee/yolov6/data.yaml', conf_file='configs/yolov6s_finetune.py', img_size=640, rect=False, batch_size=32, epochs=200, workers=8, device='0', eval_interval=20, eval_final_only=False, heavy_eval_range=50, check_images=False, check_labels=False, output_dir='./runs/train', name='exp', dist_url='env://', gpu_count=0, local_rank=-1, resume=False, write_trainbatch_tb=False, stop_aug_last_n_epoch=15, save_ckpt_on_last_n_epoch=-1, distill=False, distill_feat=False, quant=False, calib=False, teacher_model_path=None, temperature=20, fuse_ab=True, bs_per_gpu=32, specific_shape=False, height=None, width=None, cache_ram=False, rank=-1, world_size=1, save_dir='runs/train/exp1')\n",
            "\n",
            "Loading state_dict from weights/yolov6s.pt for fine-tuning...\n",
            "Model: Model(\n",
            "  (backbone): EfficientRep(\n",
            "    (stem): RepVGGBlock(\n",
            "      (nonlinearity): ReLU(inplace=True)\n",
            "      (se): Identity()\n",
            "      (rbr_dense): ConvModule(\n",
            "        (conv): Conv2d(3, 32, kernel_size=(3, 3), stride=(2, 2), padding=(1, 1), bias=False)\n",
            "        (bn): BatchNorm2d(32, eps=0.001, momentum=0.03, affine=True, track_running_stats=True)\n",
            "      )\n",
            "      (rbr_1x1): ConvModule(\n",
            "        (conv): Conv2d(3, 32, kernel_size=(1, 1), stride=(2, 2), bias=False)\n",
            "        (bn): BatchNorm2d(32, eps=0.001, momentum=0.03, affine=True, track_running_stats=True)\n",
            "      )\n",
            "    )\n",
            "    (ERBlock_2): Sequential(\n",
            "      (0): RepVGGBlock(\n",
            "        (nonlinearity): ReLU(inplace=True)\n",
            "        (se): Identity()\n",
            "        (rbr_dense): ConvModule(\n",
            "          (conv): Conv2d(32, 64, kernel_size=(3, 3), stride=(2, 2), padding=(1, 1), bias=False)\n",
            "          (bn): BatchNorm2d(64, eps=0.001, momentum=0.03, affine=True, track_running_stats=True)\n",
            "        )\n",
            "        (rbr_1x1): ConvModule(\n",
            "          (conv): Conv2d(32, 64, kernel_size=(1, 1), stride=(2, 2), bias=False)\n",
            "          (bn): BatchNorm2d(64, eps=0.001, momentum=0.03, affine=True, track_running_stats=True)\n",
            "        )\n",
            "      )\n",
            "      (1): RepBlock(\n",
            "        (conv1): RepVGGBlock(\n",
            "          (nonlinearity): ReLU(inplace=True)\n",
            "          (se): Identity()\n",
            "          (rbr_identity): BatchNorm2d(64, eps=0.001, momentum=0.03, affine=True, track_running_stats=True)\n",
            "          (rbr_dense): ConvModule(\n",
            "            (conv): Conv2d(64, 64, kernel_size=(3, 3), stride=(1, 1), padding=(1, 1), bias=False)\n",
            "            (bn): BatchNorm2d(64, eps=0.001, momentum=0.03, affine=True, track_running_stats=True)\n",
            "          )\n",
            "          (rbr_1x1): ConvModule(\n",
            "            (conv): Conv2d(64, 64, kernel_size=(1, 1), stride=(1, 1), bias=False)\n",
            "            (bn): BatchNorm2d(64, eps=0.001, momentum=0.03, affine=True, track_running_stats=True)\n",
            "          )\n",
            "        )\n",
            "        (block): Sequential(\n",
            "          (0): RepVGGBlock(\n",
            "            (nonlinearity): ReLU(inplace=True)\n",
            "            (se): Identity()\n",
            "            (rbr_identity): BatchNorm2d(64, eps=0.001, momentum=0.03, affine=True, track_running_stats=True)\n",
            "            (rbr_dense): ConvModule(\n",
            "              (conv): Conv2d(64, 64, kernel_size=(3, 3), stride=(1, 1), padding=(1, 1), bias=False)\n",
            "              (bn): BatchNorm2d(64, eps=0.001, momentum=0.03, affine=True, track_running_stats=True)\n",
            "            )\n",
            "            (rbr_1x1): ConvModule(\n",
            "              (conv): Conv2d(64, 64, kernel_size=(1, 1), stride=(1, 1), bias=False)\n",
            "              (bn): BatchNorm2d(64, eps=0.001, momentum=0.03, affine=True, track_running_stats=True)\n",
            "            )\n",
            "          )\n",
            "        )\n",
            "      )\n",
            "    )\n",
            "    (ERBlock_3): Sequential(\n",
            "      (0): RepVGGBlock(\n",
            "        (nonlinearity): ReLU(inplace=True)\n",
            "        (se): Identity()\n",
            "        (rbr_dense): ConvModule(\n",
            "          (conv): Conv2d(64, 128, kernel_size=(3, 3), stride=(2, 2), padding=(1, 1), bias=False)\n",
            "          (bn): BatchNorm2d(128, eps=0.001, momentum=0.03, affine=True, track_running_stats=True)\n",
            "        )\n",
            "        (rbr_1x1): ConvModule(\n",
            "          (conv): Conv2d(64, 128, kernel_size=(1, 1), stride=(2, 2), bias=False)\n",
            "          (bn): BatchNorm2d(128, eps=0.001, momentum=0.03, affine=True, track_running_stats=True)\n",
            "        )\n",
            "      )\n",
            "      (1): RepBlock(\n",
            "        (conv1): RepVGGBlock(\n",
            "          (nonlinearity): ReLU(inplace=True)\n",
            "          (se): Identity()\n",
            "          (rbr_identity): BatchNorm2d(128, eps=0.001, momentum=0.03, affine=True, track_running_stats=True)\n",
            "          (rbr_dense): ConvModule(\n",
            "            (conv): Conv2d(128, 128, kernel_size=(3, 3), stride=(1, 1), padding=(1, 1), bias=False)\n",
            "            (bn): BatchNorm2d(128, eps=0.001, momentum=0.03, affine=True, track_running_stats=True)\n",
            "          )\n",
            "          (rbr_1x1): ConvModule(\n",
            "            (conv): Conv2d(128, 128, kernel_size=(1, 1), stride=(1, 1), bias=False)\n",
            "            (bn): BatchNorm2d(128, eps=0.001, momentum=0.03, affine=True, track_running_stats=True)\n",
            "          )\n",
            "        )\n",
            "        (block): Sequential(\n",
            "          (0): RepVGGBlock(\n",
            "            (nonlinearity): ReLU(inplace=True)\n",
            "            (se): Identity()\n",
            "            (rbr_identity): BatchNorm2d(128, eps=0.001, momentum=0.03, affine=True, track_running_stats=True)\n",
            "            (rbr_dense): ConvModule(\n",
            "              (conv): Conv2d(128, 128, kernel_size=(3, 3), stride=(1, 1), padding=(1, 1), bias=False)\n",
            "              (bn): BatchNorm2d(128, eps=0.001, momentum=0.03, affine=True, track_running_stats=True)\n",
            "            )\n",
            "            (rbr_1x1): ConvModule(\n",
            "              (conv): Conv2d(128, 128, kernel_size=(1, 1), stride=(1, 1), bias=False)\n",
            "              (bn): BatchNorm2d(128, eps=0.001, momentum=0.03, affine=True, track_running_stats=True)\n",
            "            )\n",
            "          )\n",
            "          (1): RepVGGBlock(\n",
            "            (nonlinearity): ReLU(inplace=True)\n",
            "            (se): Identity()\n",
            "            (rbr_identity): BatchNorm2d(128, eps=0.001, momentum=0.03, affine=True, track_running_stats=True)\n",
            "            (rbr_dense): ConvModule(\n",
            "              (conv): Conv2d(128, 128, kernel_size=(3, 3), stride=(1, 1), padding=(1, 1), bias=False)\n",
            "              (bn): BatchNorm2d(128, eps=0.001, momentum=0.03, affine=True, track_running_stats=True)\n",
            "            )\n",
            "            (rbr_1x1): ConvModule(\n",
            "              (conv): Conv2d(128, 128, kernel_size=(1, 1), stride=(1, 1), bias=False)\n",
            "              (bn): BatchNorm2d(128, eps=0.001, momentum=0.03, affine=True, track_running_stats=True)\n",
            "            )\n",
            "          )\n",
            "          (2): RepVGGBlock(\n",
            "            (nonlinearity): ReLU(inplace=True)\n",
            "            (se): Identity()\n",
            "            (rbr_identity): BatchNorm2d(128, eps=0.001, momentum=0.03, affine=True, track_running_stats=True)\n",
            "            (rbr_dense): ConvModule(\n",
            "              (conv): Conv2d(128, 128, kernel_size=(3, 3), stride=(1, 1), padding=(1, 1), bias=False)\n",
            "              (bn): BatchNorm2d(128, eps=0.001, momentum=0.03, affine=True, track_running_stats=True)\n",
            "            )\n",
            "            (rbr_1x1): ConvModule(\n",
            "              (conv): Conv2d(128, 128, kernel_size=(1, 1), stride=(1, 1), bias=False)\n",
            "              (bn): BatchNorm2d(128, eps=0.001, momentum=0.03, affine=True, track_running_stats=True)\n",
            "            )\n",
            "          )\n",
            "        )\n",
            "      )\n",
            "    )\n",
            "    (ERBlock_4): Sequential(\n",
            "      (0): RepVGGBlock(\n",
            "        (nonlinearity): ReLU(inplace=True)\n",
            "        (se): Identity()\n",
            "        (rbr_dense): ConvModule(\n",
            "          (conv): Conv2d(128, 256, kernel_size=(3, 3), stride=(2, 2), padding=(1, 1), bias=False)\n",
            "          (bn): BatchNorm2d(256, eps=0.001, momentum=0.03, affine=True, track_running_stats=True)\n",
            "        )\n",
            "        (rbr_1x1): ConvModule(\n",
            "          (conv): Conv2d(128, 256, kernel_size=(1, 1), stride=(2, 2), bias=False)\n",
            "          (bn): BatchNorm2d(256, eps=0.001, momentum=0.03, affine=True, track_running_stats=True)\n",
            "        )\n",
            "      )\n",
            "      (1): RepBlock(\n",
            "        (conv1): RepVGGBlock(\n",
            "          (nonlinearity): ReLU(inplace=True)\n",
            "          (se): Identity()\n",
            "          (rbr_identity): BatchNorm2d(256, eps=0.001, momentum=0.03, affine=True, track_running_stats=True)\n",
            "          (rbr_dense): ConvModule(\n",
            "            (conv): Conv2d(256, 256, kernel_size=(3, 3), stride=(1, 1), padding=(1, 1), bias=False)\n",
            "            (bn): BatchNorm2d(256, eps=0.001, momentum=0.03, affine=True, track_running_stats=True)\n",
            "          )\n",
            "          (rbr_1x1): ConvModule(\n",
            "            (conv): Conv2d(256, 256, kernel_size=(1, 1), stride=(1, 1), bias=False)\n",
            "            (bn): BatchNorm2d(256, eps=0.001, momentum=0.03, affine=True, track_running_stats=True)\n",
            "          )\n",
            "        )\n",
            "        (block): Sequential(\n",
            "          (0): RepVGGBlock(\n",
            "            (nonlinearity): ReLU(inplace=True)\n",
            "            (se): Identity()\n",
            "            (rbr_identity): BatchNorm2d(256, eps=0.001, momentum=0.03, affine=True, track_running_stats=True)\n",
            "            (rbr_dense): ConvModule(\n",
            "              (conv): Conv2d(256, 256, kernel_size=(3, 3), stride=(1, 1), padding=(1, 1), bias=False)\n",
            "              (bn): BatchNorm2d(256, eps=0.001, momentum=0.03, affine=True, track_running_stats=True)\n",
            "            )\n",
            "            (rbr_1x1): ConvModule(\n",
            "              (conv): Conv2d(256, 256, kernel_size=(1, 1), stride=(1, 1), bias=False)\n",
            "              (bn): BatchNorm2d(256, eps=0.001, momentum=0.03, affine=True, track_running_stats=True)\n",
            "            )\n",
            "          )\n",
            "          (1): RepVGGBlock(\n",
            "            (nonlinearity): ReLU(inplace=True)\n",
            "            (se): Identity()\n",
            "            (rbr_identity): BatchNorm2d(256, eps=0.001, momentum=0.03, affine=True, track_running_stats=True)\n",
            "            (rbr_dense): ConvModule(\n",
            "              (conv): Conv2d(256, 256, kernel_size=(3, 3), stride=(1, 1), padding=(1, 1), bias=False)\n",
            "              (bn): BatchNorm2d(256, eps=0.001, momentum=0.03, affine=True, track_running_stats=True)\n",
            "            )\n",
            "            (rbr_1x1): ConvModule(\n",
            "              (conv): Conv2d(256, 256, kernel_size=(1, 1), stride=(1, 1), bias=False)\n",
            "              (bn): BatchNorm2d(256, eps=0.001, momentum=0.03, affine=True, track_running_stats=True)\n",
            "            )\n",
            "          )\n",
            "          (2): RepVGGBlock(\n",
            "            (nonlinearity): ReLU(inplace=True)\n",
            "            (se): Identity()\n",
            "            (rbr_identity): BatchNorm2d(256, eps=0.001, momentum=0.03, affine=True, track_running_stats=True)\n",
            "            (rbr_dense): ConvModule(\n",
            "              (conv): Conv2d(256, 256, kernel_size=(3, 3), stride=(1, 1), padding=(1, 1), bias=False)\n",
            "              (bn): BatchNorm2d(256, eps=0.001, momentum=0.03, affine=True, track_running_stats=True)\n",
            "            )\n",
            "            (rbr_1x1): ConvModule(\n",
            "              (conv): Conv2d(256, 256, kernel_size=(1, 1), stride=(1, 1), bias=False)\n",
            "              (bn): BatchNorm2d(256, eps=0.001, momentum=0.03, affine=True, track_running_stats=True)\n",
            "            )\n",
            "          )\n",
            "          (3): RepVGGBlock(\n",
            "            (nonlinearity): ReLU(inplace=True)\n",
            "            (se): Identity()\n",
            "            (rbr_identity): BatchNorm2d(256, eps=0.001, momentum=0.03, affine=True, track_running_stats=True)\n",
            "            (rbr_dense): ConvModule(\n",
            "              (conv): Conv2d(256, 256, kernel_size=(3, 3), stride=(1, 1), padding=(1, 1), bias=False)\n",
            "              (bn): BatchNorm2d(256, eps=0.001, momentum=0.03, affine=True, track_running_stats=True)\n",
            "            )\n",
            "            (rbr_1x1): ConvModule(\n",
            "              (conv): Conv2d(256, 256, kernel_size=(1, 1), stride=(1, 1), bias=False)\n",
            "              (bn): BatchNorm2d(256, eps=0.001, momentum=0.03, affine=True, track_running_stats=True)\n",
            "            )\n",
            "          )\n",
            "          (4): RepVGGBlock(\n",
            "            (nonlinearity): ReLU(inplace=True)\n",
            "            (se): Identity()\n",
            "            (rbr_identity): BatchNorm2d(256, eps=0.001, momentum=0.03, affine=True, track_running_stats=True)\n",
            "            (rbr_dense): ConvModule(\n",
            "              (conv): Conv2d(256, 256, kernel_size=(3, 3), stride=(1, 1), padding=(1, 1), bias=False)\n",
            "              (bn): BatchNorm2d(256, eps=0.001, momentum=0.03, affine=True, track_running_stats=True)\n",
            "            )\n",
            "            (rbr_1x1): ConvModule(\n",
            "              (conv): Conv2d(256, 256, kernel_size=(1, 1), stride=(1, 1), bias=False)\n",
            "              (bn): BatchNorm2d(256, eps=0.001, momentum=0.03, affine=True, track_running_stats=True)\n",
            "            )\n",
            "          )\n",
            "        )\n",
            "      )\n",
            "    )\n",
            "    (ERBlock_5): Sequential(\n",
            "      (0): RepVGGBlock(\n",
            "        (nonlinearity): ReLU(inplace=True)\n",
            "        (se): Identity()\n",
            "        (rbr_dense): ConvModule(\n",
            "          (conv): Conv2d(256, 512, kernel_size=(3, 3), stride=(2, 2), padding=(1, 1), bias=False)\n",
            "          (bn): BatchNorm2d(512, eps=0.001, momentum=0.03, affine=True, track_running_stats=True)\n",
            "        )\n",
            "        (rbr_1x1): ConvModule(\n",
            "          (conv): Conv2d(256, 512, kernel_size=(1, 1), stride=(2, 2), bias=False)\n",
            "          (bn): BatchNorm2d(512, eps=0.001, momentum=0.03, affine=True, track_running_stats=True)\n",
            "        )\n",
            "      )\n",
            "      (1): RepBlock(\n",
            "        (conv1): RepVGGBlock(\n",
            "          (nonlinearity): ReLU(inplace=True)\n",
            "          (se): Identity()\n",
            "          (rbr_identity): BatchNorm2d(512, eps=0.001, momentum=0.03, affine=True, track_running_stats=True)\n",
            "          (rbr_dense): ConvModule(\n",
            "            (conv): Conv2d(512, 512, kernel_size=(3, 3), stride=(1, 1), padding=(1, 1), bias=False)\n",
            "            (bn): BatchNorm2d(512, eps=0.001, momentum=0.03, affine=True, track_running_stats=True)\n",
            "          )\n",
            "          (rbr_1x1): ConvModule(\n",
            "            (conv): Conv2d(512, 512, kernel_size=(1, 1), stride=(1, 1), bias=False)\n",
            "            (bn): BatchNorm2d(512, eps=0.001, momentum=0.03, affine=True, track_running_stats=True)\n",
            "          )\n",
            "        )\n",
            "        (block): Sequential(\n",
            "          (0): RepVGGBlock(\n",
            "            (nonlinearity): ReLU(inplace=True)\n",
            "            (se): Identity()\n",
            "            (rbr_identity): BatchNorm2d(512, eps=0.001, momentum=0.03, affine=True, track_running_stats=True)\n",
            "            (rbr_dense): ConvModule(\n",
            "              (conv): Conv2d(512, 512, kernel_size=(3, 3), stride=(1, 1), padding=(1, 1), bias=False)\n",
            "              (bn): BatchNorm2d(512, eps=0.001, momentum=0.03, affine=True, track_running_stats=True)\n",
            "            )\n",
            "            (rbr_1x1): ConvModule(\n",
            "              (conv): Conv2d(512, 512, kernel_size=(1, 1), stride=(1, 1), bias=False)\n",
            "              (bn): BatchNorm2d(512, eps=0.001, momentum=0.03, affine=True, track_running_stats=True)\n",
            "            )\n",
            "          )\n",
            "        )\n",
            "      )\n",
            "      (2): SimCSPSPPF(\n",
            "        (cspsppf): CSPSPPFModule(\n",
            "          (cv1): ConvBNReLU(\n",
            "            (block): ConvModule(\n",
            "              (conv): Conv2d(512, 256, kernel_size=(1, 1), stride=(1, 1), bias=False)\n",
            "              (bn): BatchNorm2d(256, eps=0.001, momentum=0.03, affine=True, track_running_stats=True)\n",
            "              (act): ReLU(inplace=True)\n",
            "            )\n",
            "          )\n",
            "          (cv2): ConvBNReLU(\n",
            "            (block): ConvModule(\n",
            "              (conv): Conv2d(512, 256, kernel_size=(1, 1), stride=(1, 1), bias=False)\n",
            "              (bn): BatchNorm2d(256, eps=0.001, momentum=0.03, affine=True, track_running_stats=True)\n",
            "              (act): ReLU(inplace=True)\n",
            "            )\n",
            "          )\n",
            "          (cv3): ConvBNReLU(\n",
            "            (block): ConvModule(\n",
            "              (conv): Conv2d(256, 256, kernel_size=(3, 3), stride=(1, 1), padding=(1, 1), bias=False)\n",
            "              (bn): BatchNorm2d(256, eps=0.001, momentum=0.03, affine=True, track_running_stats=True)\n",
            "              (act): ReLU(inplace=True)\n",
            "            )\n",
            "          )\n",
            "          (cv4): ConvBNReLU(\n",
            "            (block): ConvModule(\n",
            "              (conv): Conv2d(256, 256, kernel_size=(1, 1), stride=(1, 1), bias=False)\n",
            "              (bn): BatchNorm2d(256, eps=0.001, momentum=0.03, affine=True, track_running_stats=True)\n",
            "              (act): ReLU(inplace=True)\n",
            "            )\n",
            "          )\n",
            "          (m): MaxPool2d(kernel_size=5, stride=1, padding=2, dilation=1, ceil_mode=False)\n",
            "          (cv5): ConvBNReLU(\n",
            "            (block): ConvModule(\n",
            "              (conv): Conv2d(1024, 256, kernel_size=(1, 1), stride=(1, 1), bias=False)\n",
            "              (bn): BatchNorm2d(256, eps=0.001, momentum=0.03, affine=True, track_running_stats=True)\n",
            "              (act): ReLU(inplace=True)\n",
            "            )\n",
            "          )\n",
            "          (cv6): ConvBNReLU(\n",
            "            (block): ConvModule(\n",
            "              (conv): Conv2d(256, 256, kernel_size=(3, 3), stride=(1, 1), padding=(1, 1), bias=False)\n",
            "              (bn): BatchNorm2d(256, eps=0.001, momentum=0.03, affine=True, track_running_stats=True)\n",
            "              (act): ReLU(inplace=True)\n",
            "            )\n",
            "          )\n",
            "          (cv7): ConvBNReLU(\n",
            "            (block): ConvModule(\n",
            "              (conv): Conv2d(512, 512, kernel_size=(1, 1), stride=(1, 1), bias=False)\n",
            "              (bn): BatchNorm2d(512, eps=0.001, momentum=0.03, affine=True, track_running_stats=True)\n",
            "              (act): ReLU(inplace=True)\n",
            "            )\n",
            "          )\n",
            "        )\n",
            "      )\n",
            "    )\n",
            "  )\n",
            "  (neck): RepBiFPANNeck(\n",
            "    (reduce_layer0): ConvBNReLU(\n",
            "      (block): ConvModule(\n",
            "        (conv): Conv2d(512, 128, kernel_size=(1, 1), stride=(1, 1), bias=False)\n",
            "        (bn): BatchNorm2d(128, eps=0.001, momentum=0.03, affine=True, track_running_stats=True)\n",
            "        (act): ReLU(inplace=True)\n",
            "      )\n",
            "    )\n",
            "    (Bifusion0): BiFusion(\n",
            "      (cv1): ConvBNReLU(\n",
            "        (block): ConvModule(\n",
            "          (conv): Conv2d(256, 128, kernel_size=(1, 1), stride=(1, 1), bias=False)\n",
            "          (bn): BatchNorm2d(128, eps=0.001, momentum=0.03, affine=True, track_running_stats=True)\n",
            "          (act): ReLU(inplace=True)\n",
            "        )\n",
            "      )\n",
            "      (cv2): ConvBNReLU(\n",
            "        (block): ConvModule(\n",
            "          (conv): Conv2d(128, 128, kernel_size=(1, 1), stride=(1, 1), bias=False)\n",
            "          (bn): BatchNorm2d(128, eps=0.001, momentum=0.03, affine=True, track_running_stats=True)\n",
            "          (act): ReLU(inplace=True)\n",
            "        )\n",
            "      )\n",
            "      (cv3): ConvBNReLU(\n",
            "        (block): ConvModule(\n",
            "          (conv): Conv2d(384, 128, kernel_size=(1, 1), stride=(1, 1), bias=False)\n",
            "          (bn): BatchNorm2d(128, eps=0.001, momentum=0.03, affine=True, track_running_stats=True)\n",
            "          (act): ReLU(inplace=True)\n",
            "        )\n",
            "      )\n",
            "      (upsample): Transpose(\n",
            "        (upsample_transpose): ConvTranspose2d(128, 128, kernel_size=(2, 2), stride=(2, 2))\n",
            "      )\n",
            "      (downsample): ConvBNReLU(\n",
            "        (block): ConvModule(\n",
            "          (conv): Conv2d(128, 128, kernel_size=(3, 3), stride=(2, 2), padding=(1, 1), bias=False)\n",
            "          (bn): BatchNorm2d(128, eps=0.001, momentum=0.03, affine=True, track_running_stats=True)\n",
            "          (act): ReLU(inplace=True)\n",
            "        )\n",
            "      )\n",
            "    )\n",
            "    (Rep_p4): RepBlock(\n",
            "      (conv1): RepVGGBlock(\n",
            "        (nonlinearity): ReLU(inplace=True)\n",
            "        (se): Identity()\n",
            "        (rbr_identity): BatchNorm2d(128, eps=0.001, momentum=0.03, affine=True, track_running_stats=True)\n",
            "        (rbr_dense): ConvModule(\n",
            "          (conv): Conv2d(128, 128, kernel_size=(3, 3), stride=(1, 1), padding=(1, 1), bias=False)\n",
            "          (bn): BatchNorm2d(128, eps=0.001, momentum=0.03, affine=True, track_running_stats=True)\n",
            "        )\n",
            "        (rbr_1x1): ConvModule(\n",
            "          (conv): Conv2d(128, 128, kernel_size=(1, 1), stride=(1, 1), bias=False)\n",
            "          (bn): BatchNorm2d(128, eps=0.001, momentum=0.03, affine=True, track_running_stats=True)\n",
            "        )\n",
            "      )\n",
            "      (block): Sequential(\n",
            "        (0): RepVGGBlock(\n",
            "          (nonlinearity): ReLU(inplace=True)\n",
            "          (se): Identity()\n",
            "          (rbr_identity): BatchNorm2d(128, eps=0.001, momentum=0.03, affine=True, track_running_stats=True)\n",
            "          (rbr_dense): ConvModule(\n",
            "            (conv): Conv2d(128, 128, kernel_size=(3, 3), stride=(1, 1), padding=(1, 1), bias=False)\n",
            "            (bn): BatchNorm2d(128, eps=0.001, momentum=0.03, affine=True, track_running_stats=True)\n",
            "          )\n",
            "          (rbr_1x1): ConvModule(\n",
            "            (conv): Conv2d(128, 128, kernel_size=(1, 1), stride=(1, 1), bias=False)\n",
            "            (bn): BatchNorm2d(128, eps=0.001, momentum=0.03, affine=True, track_running_stats=True)\n",
            "          )\n",
            "        )\n",
            "        (1): RepVGGBlock(\n",
            "          (nonlinearity): ReLU(inplace=True)\n",
            "          (se): Identity()\n",
            "          (rbr_identity): BatchNorm2d(128, eps=0.001, momentum=0.03, affine=True, track_running_stats=True)\n",
            "          (rbr_dense): ConvModule(\n",
            "            (conv): Conv2d(128, 128, kernel_size=(3, 3), stride=(1, 1), padding=(1, 1), bias=False)\n",
            "            (bn): BatchNorm2d(128, eps=0.001, momentum=0.03, affine=True, track_running_stats=True)\n",
            "          )\n",
            "          (rbr_1x1): ConvModule(\n",
            "            (conv): Conv2d(128, 128, kernel_size=(1, 1), stride=(1, 1), bias=False)\n",
            "            (bn): BatchNorm2d(128, eps=0.001, momentum=0.03, affine=True, track_running_stats=True)\n",
            "          )\n",
            "        )\n",
            "        (2): RepVGGBlock(\n",
            "          (nonlinearity): ReLU(inplace=True)\n",
            "          (se): Identity()\n",
            "          (rbr_identity): BatchNorm2d(128, eps=0.001, momentum=0.03, affine=True, track_running_stats=True)\n",
            "          (rbr_dense): ConvModule(\n",
            "            (conv): Conv2d(128, 128, kernel_size=(3, 3), stride=(1, 1), padding=(1, 1), bias=False)\n",
            "            (bn): BatchNorm2d(128, eps=0.001, momentum=0.03, affine=True, track_running_stats=True)\n",
            "          )\n",
            "          (rbr_1x1): ConvModule(\n",
            "            (conv): Conv2d(128, 128, kernel_size=(1, 1), stride=(1, 1), bias=False)\n",
            "            (bn): BatchNorm2d(128, eps=0.001, momentum=0.03, affine=True, track_running_stats=True)\n",
            "          )\n",
            "        )\n",
            "      )\n",
            "    )\n",
            "    (reduce_layer1): ConvBNReLU(\n",
            "      (block): ConvModule(\n",
            "        (conv): Conv2d(128, 64, kernel_size=(1, 1), stride=(1, 1), bias=False)\n",
            "        (bn): BatchNorm2d(64, eps=0.001, momentum=0.03, affine=True, track_running_stats=True)\n",
            "        (act): ReLU(inplace=True)\n",
            "      )\n",
            "    )\n",
            "    (Bifusion1): BiFusion(\n",
            "      (cv1): ConvBNReLU(\n",
            "        (block): ConvModule(\n",
            "          (conv): Conv2d(128, 64, kernel_size=(1, 1), stride=(1, 1), bias=False)\n",
            "          (bn): BatchNorm2d(64, eps=0.001, momentum=0.03, affine=True, track_running_stats=True)\n",
            "          (act): ReLU(inplace=True)\n",
            "        )\n",
            "      )\n",
            "      (cv2): ConvBNReLU(\n",
            "        (block): ConvModule(\n",
            "          (conv): Conv2d(64, 64, kernel_size=(1, 1), stride=(1, 1), bias=False)\n",
            "          (bn): BatchNorm2d(64, eps=0.001, momentum=0.03, affine=True, track_running_stats=True)\n",
            "          (act): ReLU(inplace=True)\n",
            "        )\n",
            "      )\n",
            "      (cv3): ConvBNReLU(\n",
            "        (block): ConvModule(\n",
            "          (conv): Conv2d(192, 64, kernel_size=(1, 1), stride=(1, 1), bias=False)\n",
            "          (bn): BatchNorm2d(64, eps=0.001, momentum=0.03, affine=True, track_running_stats=True)\n",
            "          (act): ReLU(inplace=True)\n",
            "        )\n",
            "      )\n",
            "      (upsample): Transpose(\n",
            "        (upsample_transpose): ConvTranspose2d(64, 64, kernel_size=(2, 2), stride=(2, 2))\n",
            "      )\n",
            "      (downsample): ConvBNReLU(\n",
            "        (block): ConvModule(\n",
            "          (conv): Conv2d(64, 64, kernel_size=(3, 3), stride=(2, 2), padding=(1, 1), bias=False)\n",
            "          (bn): BatchNorm2d(64, eps=0.001, momentum=0.03, affine=True, track_running_stats=True)\n",
            "          (act): ReLU(inplace=True)\n",
            "        )\n",
            "      )\n",
            "    )\n",
            "    (Rep_p3): RepBlock(\n",
            "      (conv1): RepVGGBlock(\n",
            "        (nonlinearity): ReLU(inplace=True)\n",
            "        (se): Identity()\n",
            "        (rbr_identity): BatchNorm2d(64, eps=0.001, momentum=0.03, affine=True, track_running_stats=True)\n",
            "        (rbr_dense): ConvModule(\n",
            "          (conv): Conv2d(64, 64, kernel_size=(3, 3), stride=(1, 1), padding=(1, 1), bias=False)\n",
            "          (bn): BatchNorm2d(64, eps=0.001, momentum=0.03, affine=True, track_running_stats=True)\n",
            "        )\n",
            "        (rbr_1x1): ConvModule(\n",
            "          (conv): Conv2d(64, 64, kernel_size=(1, 1), stride=(1, 1), bias=False)\n",
            "          (bn): BatchNorm2d(64, eps=0.001, momentum=0.03, affine=True, track_running_stats=True)\n",
            "        )\n",
            "      )\n",
            "      (block): Sequential(\n",
            "        (0): RepVGGBlock(\n",
            "          (nonlinearity): ReLU(inplace=True)\n",
            "          (se): Identity()\n",
            "          (rbr_identity): BatchNorm2d(64, eps=0.001, momentum=0.03, affine=True, track_running_stats=True)\n",
            "          (rbr_dense): ConvModule(\n",
            "            (conv): Conv2d(64, 64, kernel_size=(3, 3), stride=(1, 1), padding=(1, 1), bias=False)\n",
            "            (bn): BatchNorm2d(64, eps=0.001, momentum=0.03, affine=True, track_running_stats=True)\n",
            "          )\n",
            "          (rbr_1x1): ConvModule(\n",
            "            (conv): Conv2d(64, 64, kernel_size=(1, 1), stride=(1, 1), bias=False)\n",
            "            (bn): BatchNorm2d(64, eps=0.001, momentum=0.03, affine=True, track_running_stats=True)\n",
            "          )\n",
            "        )\n",
            "        (1): RepVGGBlock(\n",
            "          (nonlinearity): ReLU(inplace=True)\n",
            "          (se): Identity()\n",
            "          (rbr_identity): BatchNorm2d(64, eps=0.001, momentum=0.03, affine=True, track_running_stats=True)\n",
            "          (rbr_dense): ConvModule(\n",
            "            (conv): Conv2d(64, 64, kernel_size=(3, 3), stride=(1, 1), padding=(1, 1), bias=False)\n",
            "            (bn): BatchNorm2d(64, eps=0.001, momentum=0.03, affine=True, track_running_stats=True)\n",
            "          )\n",
            "          (rbr_1x1): ConvModule(\n",
            "            (conv): Conv2d(64, 64, kernel_size=(1, 1), stride=(1, 1), bias=False)\n",
            "            (bn): BatchNorm2d(64, eps=0.001, momentum=0.03, affine=True, track_running_stats=True)\n",
            "          )\n",
            "        )\n",
            "        (2): RepVGGBlock(\n",
            "          (nonlinearity): ReLU(inplace=True)\n",
            "          (se): Identity()\n",
            "          (rbr_identity): BatchNorm2d(64, eps=0.001, momentum=0.03, affine=True, track_running_stats=True)\n",
            "          (rbr_dense): ConvModule(\n",
            "            (conv): Conv2d(64, 64, kernel_size=(3, 3), stride=(1, 1), padding=(1, 1), bias=False)\n",
            "            (bn): BatchNorm2d(64, eps=0.001, momentum=0.03, affine=True, track_running_stats=True)\n",
            "          )\n",
            "          (rbr_1x1): ConvModule(\n",
            "            (conv): Conv2d(64, 64, kernel_size=(1, 1), stride=(1, 1), bias=False)\n",
            "            (bn): BatchNorm2d(64, eps=0.001, momentum=0.03, affine=True, track_running_stats=True)\n",
            "          )\n",
            "        )\n",
            "      )\n",
            "    )\n",
            "    (downsample2): ConvBNReLU(\n",
            "      (block): ConvModule(\n",
            "        (conv): Conv2d(64, 64, kernel_size=(3, 3), stride=(2, 2), padding=(1, 1), bias=False)\n",
            "        (bn): BatchNorm2d(64, eps=0.001, momentum=0.03, affine=True, track_running_stats=True)\n",
            "        (act): ReLU(inplace=True)\n",
            "      )\n",
            "    )\n",
            "    (Rep_n3): RepBlock(\n",
            "      (conv1): RepVGGBlock(\n",
            "        (nonlinearity): ReLU(inplace=True)\n",
            "        (se): Identity()\n",
            "        (rbr_identity): BatchNorm2d(128, eps=0.001, momentum=0.03, affine=True, track_running_stats=True)\n",
            "        (rbr_dense): ConvModule(\n",
            "          (conv): Conv2d(128, 128, kernel_size=(3, 3), stride=(1, 1), padding=(1, 1), bias=False)\n",
            "          (bn): BatchNorm2d(128, eps=0.001, momentum=0.03, affine=True, track_running_stats=True)\n",
            "        )\n",
            "        (rbr_1x1): ConvModule(\n",
            "          (conv): Conv2d(128, 128, kernel_size=(1, 1), stride=(1, 1), bias=False)\n",
            "          (bn): BatchNorm2d(128, eps=0.001, momentum=0.03, affine=True, track_running_stats=True)\n",
            "        )\n",
            "      )\n",
            "      (block): Sequential(\n",
            "        (0): RepVGGBlock(\n",
            "          (nonlinearity): ReLU(inplace=True)\n",
            "          (se): Identity()\n",
            "          (rbr_identity): BatchNorm2d(128, eps=0.001, momentum=0.03, affine=True, track_running_stats=True)\n",
            "          (rbr_dense): ConvModule(\n",
            "            (conv): Conv2d(128, 128, kernel_size=(3, 3), stride=(1, 1), padding=(1, 1), bias=False)\n",
            "            (bn): BatchNorm2d(128, eps=0.001, momentum=0.03, affine=True, track_running_stats=True)\n",
            "          )\n",
            "          (rbr_1x1): ConvModule(\n",
            "            (conv): Conv2d(128, 128, kernel_size=(1, 1), stride=(1, 1), bias=False)\n",
            "            (bn): BatchNorm2d(128, eps=0.001, momentum=0.03, affine=True, track_running_stats=True)\n",
            "          )\n",
            "        )\n",
            "        (1): RepVGGBlock(\n",
            "          (nonlinearity): ReLU(inplace=True)\n",
            "          (se): Identity()\n",
            "          (rbr_identity): BatchNorm2d(128, eps=0.001, momentum=0.03, affine=True, track_running_stats=True)\n",
            "          (rbr_dense): ConvModule(\n",
            "            (conv): Conv2d(128, 128, kernel_size=(3, 3), stride=(1, 1), padding=(1, 1), bias=False)\n",
            "            (bn): BatchNorm2d(128, eps=0.001, momentum=0.03, affine=True, track_running_stats=True)\n",
            "          )\n",
            "          (rbr_1x1): ConvModule(\n",
            "            (conv): Conv2d(128, 128, kernel_size=(1, 1), stride=(1, 1), bias=False)\n",
            "            (bn): BatchNorm2d(128, eps=0.001, momentum=0.03, affine=True, track_running_stats=True)\n",
            "          )\n",
            "        )\n",
            "        (2): RepVGGBlock(\n",
            "          (nonlinearity): ReLU(inplace=True)\n",
            "          (se): Identity()\n",
            "          (rbr_identity): BatchNorm2d(128, eps=0.001, momentum=0.03, affine=True, track_running_stats=True)\n",
            "          (rbr_dense): ConvModule(\n",
            "            (conv): Conv2d(128, 128, kernel_size=(3, 3), stride=(1, 1), padding=(1, 1), bias=False)\n",
            "            (bn): BatchNorm2d(128, eps=0.001, momentum=0.03, affine=True, track_running_stats=True)\n",
            "          )\n",
            "          (rbr_1x1): ConvModule(\n",
            "            (conv): Conv2d(128, 128, kernel_size=(1, 1), stride=(1, 1), bias=False)\n",
            "            (bn): BatchNorm2d(128, eps=0.001, momentum=0.03, affine=True, track_running_stats=True)\n",
            "          )\n",
            "        )\n",
            "      )\n",
            "    )\n",
            "    (downsample1): ConvBNReLU(\n",
            "      (block): ConvModule(\n",
            "        (conv): Conv2d(128, 128, kernel_size=(3, 3), stride=(2, 2), padding=(1, 1), bias=False)\n",
            "        (bn): BatchNorm2d(128, eps=0.001, momentum=0.03, affine=True, track_running_stats=True)\n",
            "        (act): ReLU(inplace=True)\n",
            "      )\n",
            "    )\n",
            "    (Rep_n4): RepBlock(\n",
            "      (conv1): RepVGGBlock(\n",
            "        (nonlinearity): ReLU(inplace=True)\n",
            "        (se): Identity()\n",
            "        (rbr_identity): BatchNorm2d(256, eps=0.001, momentum=0.03, affine=True, track_running_stats=True)\n",
            "        (rbr_dense): ConvModule(\n",
            "          (conv): Conv2d(256, 256, kernel_size=(3, 3), stride=(1, 1), padding=(1, 1), bias=False)\n",
            "          (bn): BatchNorm2d(256, eps=0.001, momentum=0.03, affine=True, track_running_stats=True)\n",
            "        )\n",
            "        (rbr_1x1): ConvModule(\n",
            "          (conv): Conv2d(256, 256, kernel_size=(1, 1), stride=(1, 1), bias=False)\n",
            "          (bn): BatchNorm2d(256, eps=0.001, momentum=0.03, affine=True, track_running_stats=True)\n",
            "        )\n",
            "      )\n",
            "      (block): Sequential(\n",
            "        (0): RepVGGBlock(\n",
            "          (nonlinearity): ReLU(inplace=True)\n",
            "          (se): Identity()\n",
            "          (rbr_identity): BatchNorm2d(256, eps=0.001, momentum=0.03, affine=True, track_running_stats=True)\n",
            "          (rbr_dense): ConvModule(\n",
            "            (conv): Conv2d(256, 256, kernel_size=(3, 3), stride=(1, 1), padding=(1, 1), bias=False)\n",
            "            (bn): BatchNorm2d(256, eps=0.001, momentum=0.03, affine=True, track_running_stats=True)\n",
            "          )\n",
            "          (rbr_1x1): ConvModule(\n",
            "            (conv): Conv2d(256, 256, kernel_size=(1, 1), stride=(1, 1), bias=False)\n",
            "            (bn): BatchNorm2d(256, eps=0.001, momentum=0.03, affine=True, track_running_stats=True)\n",
            "          )\n",
            "        )\n",
            "        (1): RepVGGBlock(\n",
            "          (nonlinearity): ReLU(inplace=True)\n",
            "          (se): Identity()\n",
            "          (rbr_identity): BatchNorm2d(256, eps=0.001, momentum=0.03, affine=True, track_running_stats=True)\n",
            "          (rbr_dense): ConvModule(\n",
            "            (conv): Conv2d(256, 256, kernel_size=(3, 3), stride=(1, 1), padding=(1, 1), bias=False)\n",
            "            (bn): BatchNorm2d(256, eps=0.001, momentum=0.03, affine=True, track_running_stats=True)\n",
            "          )\n",
            "          (rbr_1x1): ConvModule(\n",
            "            (conv): Conv2d(256, 256, kernel_size=(1, 1), stride=(1, 1), bias=False)\n",
            "            (bn): BatchNorm2d(256, eps=0.001, momentum=0.03, affine=True, track_running_stats=True)\n",
            "          )\n",
            "        )\n",
            "        (2): RepVGGBlock(\n",
            "          (nonlinearity): ReLU(inplace=True)\n",
            "          (se): Identity()\n",
            "          (rbr_identity): BatchNorm2d(256, eps=0.001, momentum=0.03, affine=True, track_running_stats=True)\n",
            "          (rbr_dense): ConvModule(\n",
            "            (conv): Conv2d(256, 256, kernel_size=(3, 3), stride=(1, 1), padding=(1, 1), bias=False)\n",
            "            (bn): BatchNorm2d(256, eps=0.001, momentum=0.03, affine=True, track_running_stats=True)\n",
            "          )\n",
            "          (rbr_1x1): ConvModule(\n",
            "            (conv): Conv2d(256, 256, kernel_size=(1, 1), stride=(1, 1), bias=False)\n",
            "            (bn): BatchNorm2d(256, eps=0.001, momentum=0.03, affine=True, track_running_stats=True)\n",
            "          )\n",
            "        )\n",
            "      )\n",
            "    )\n",
            "  )\n",
            "  (detect): Detect(\n",
            "    (proj_conv): Conv2d(17, 1, kernel_size=(1, 1), stride=(1, 1), bias=False)\n",
            "    (stems): ModuleList(\n",
            "      (0): ConvBNSiLU(\n",
            "        (block): ConvModule(\n",
            "          (conv): Conv2d(64, 64, kernel_size=(1, 1), stride=(1, 1), bias=False)\n",
            "          (bn): BatchNorm2d(64, eps=0.001, momentum=0.03, affine=True, track_running_stats=True)\n",
            "          (act): SiLU(inplace=True)\n",
            "        )\n",
            "      )\n",
            "      (1): ConvBNSiLU(\n",
            "        (block): ConvModule(\n",
            "          (conv): Conv2d(128, 128, kernel_size=(1, 1), stride=(1, 1), bias=False)\n",
            "          (bn): BatchNorm2d(128, eps=0.001, momentum=0.03, affine=True, track_running_stats=True)\n",
            "          (act): SiLU(inplace=True)\n",
            "        )\n",
            "      )\n",
            "      (2): ConvBNSiLU(\n",
            "        (block): ConvModule(\n",
            "          (conv): Conv2d(256, 256, kernel_size=(1, 1), stride=(1, 1), bias=False)\n",
            "          (bn): BatchNorm2d(256, eps=0.001, momentum=0.03, affine=True, track_running_stats=True)\n",
            "          (act): SiLU(inplace=True)\n",
            "        )\n",
            "      )\n",
            "    )\n",
            "    (cls_convs): ModuleList(\n",
            "      (0): ConvBNSiLU(\n",
            "        (block): ConvModule(\n",
            "          (conv): Conv2d(64, 64, kernel_size=(3, 3), stride=(1, 1), padding=(1, 1), bias=False)\n",
            "          (bn): BatchNorm2d(64, eps=0.001, momentum=0.03, affine=True, track_running_stats=True)\n",
            "          (act): SiLU(inplace=True)\n",
            "        )\n",
            "      )\n",
            "      (1): ConvBNSiLU(\n",
            "        (block): ConvModule(\n",
            "          (conv): Conv2d(128, 128, kernel_size=(3, 3), stride=(1, 1), padding=(1, 1), bias=False)\n",
            "          (bn): BatchNorm2d(128, eps=0.001, momentum=0.03, affine=True, track_running_stats=True)\n",
            "          (act): SiLU(inplace=True)\n",
            "        )\n",
            "      )\n",
            "      (2): ConvBNSiLU(\n",
            "        (block): ConvModule(\n",
            "          (conv): Conv2d(256, 256, kernel_size=(3, 3), stride=(1, 1), padding=(1, 1), bias=False)\n",
            "          (bn): BatchNorm2d(256, eps=0.001, momentum=0.03, affine=True, track_running_stats=True)\n",
            "          (act): SiLU(inplace=True)\n",
            "        )\n",
            "      )\n",
            "    )\n",
            "    (reg_convs): ModuleList(\n",
            "      (0): ConvBNSiLU(\n",
            "        (block): ConvModule(\n",
            "          (conv): Conv2d(64, 64, kernel_size=(3, 3), stride=(1, 1), padding=(1, 1), bias=False)\n",
            "          (bn): BatchNorm2d(64, eps=0.001, momentum=0.03, affine=True, track_running_stats=True)\n",
            "          (act): SiLU(inplace=True)\n",
            "        )\n",
            "      )\n",
            "      (1): ConvBNSiLU(\n",
            "        (block): ConvModule(\n",
            "          (conv): Conv2d(128, 128, kernel_size=(3, 3), stride=(1, 1), padding=(1, 1), bias=False)\n",
            "          (bn): BatchNorm2d(128, eps=0.001, momentum=0.03, affine=True, track_running_stats=True)\n",
            "          (act): SiLU(inplace=True)\n",
            "        )\n",
            "      )\n",
            "      (2): ConvBNSiLU(\n",
            "        (block): ConvModule(\n",
            "          (conv): Conv2d(256, 256, kernel_size=(3, 3), stride=(1, 1), padding=(1, 1), bias=False)\n",
            "          (bn): BatchNorm2d(256, eps=0.001, momentum=0.03, affine=True, track_running_stats=True)\n",
            "          (act): SiLU(inplace=True)\n",
            "        )\n",
            "      )\n",
            "    )\n",
            "    (cls_preds): ModuleList(\n",
            "      (0): Conv2d(64, 4, kernel_size=(1, 1), stride=(1, 1))\n",
            "      (1): Conv2d(128, 4, kernel_size=(1, 1), stride=(1, 1))\n",
            "      (2): Conv2d(256, 4, kernel_size=(1, 1), stride=(1, 1))\n",
            "    )\n",
            "    (reg_preds): ModuleList(\n",
            "      (0): Conv2d(64, 4, kernel_size=(1, 1), stride=(1, 1))\n",
            "      (1): Conv2d(128, 4, kernel_size=(1, 1), stride=(1, 1))\n",
            "      (2): Conv2d(256, 4, kernel_size=(1, 1), stride=(1, 1))\n",
            "    )\n",
            "    (cls_preds_ab): ModuleList(\n",
            "      (0): Conv2d(64, 12, kernel_size=(1, 1), stride=(1, 1))\n",
            "      (1): Conv2d(128, 12, kernel_size=(1, 1), stride=(1, 1))\n",
            "      (2): Conv2d(256, 12, kernel_size=(1, 1), stride=(1, 1))\n",
            "    )\n",
            "    (reg_preds_ab): ModuleList(\n",
            "      (0): Conv2d(64, 12, kernel_size=(1, 1), stride=(1, 1))\n",
            "      (1): Conv2d(128, 12, kernel_size=(1, 1), stride=(1, 1))\n",
            "      (2): Conv2d(256, 12, kernel_size=(1, 1), stride=(1, 1))\n",
            "    )\n",
            "  )\n",
            ")\n",
            "img record infomation path is:/content/drive/MyDrive/knee/yolov6/images/.train_cache.json\n",
            "Train: Checking formats of images with 2 process(es): \n",
            "0 image(s) corrupted: 100% 122/122 [00:01<00:00, 75.14it/s] \n",
            "Train: Checking formats of labels with 2 process(es): \n",
            "122 label(s) found, 0 label(s) missing, 0 label(s) empty, 0 invalid label files: 100% 122/122 [00:10<00:00, 11.25it/s]\n",
            "Train: Final numbers of valid images: 122/ labels: 122. \n",
            "12.9s for dataset initialization.\n",
            "img record infomation path is:/content/drive/MyDrive/knee/yolov6/images/.valid_cache.json\n",
            "Val: Checking formats of images with 2 process(es): \n",
            "0 image(s) corrupted: 100% 48/48 [00:04<00:00, 10.28it/s]\n",
            "Val: Checking formats of labels with 2 process(es): \n",
            "48 label(s) found, 0 label(s) missing, 0 label(s) empty, 0 invalid label files: 100% 48/48 [00:04<00:00,  9.87it/s]\n",
            "Convert to COCO format\n",
            "100% 48/48 [00:00<00:00, 113936.95it/s]\n",
            "Convert to COCO format finished. Resutls saved in /content/drive/MyDrive/knee/yolov6/annotations/instances_valid.json\n",
            "Val: Final numbers of valid images: 48/ labels: 48. \n",
            "9.8s for dataset initialization.\n",
            "Training start...\n",
            "\n",
            "     Epoch        lr  iou_loss  dfl_loss  cls_loss\n",
            "     0/199     0.0032     2.155         0     4.036: 100%|██████████| 4/4 [00:11<00:00,  2.95s/it]  \n",
            "/usr/local/lib/python3.10/dist-packages/torch/optim/lr_scheduler.py:136: UserWarning: Detected call of `lr_scheduler.step()` before `optimizer.step()`. In PyTorch 1.1.0 and later, you should call them in the opposite order: `optimizer.step()` before `lr_scheduler.step()`.  Failure to do this will result in PyTorch skipping the first value of the learning rate schedule. See more details at https://pytorch.org/docs/stable/optim.html#how-to-adjust-learning-rate\n",
            "  warnings.warn(\"Detected call of `lr_scheduler.step()` before `optimizer.step()`. \"\n",
            "\n",
            "     Epoch        lr  iou_loss  dfl_loss  cls_loss\n",
            "     1/199     0.0032     2.149         0     4.021: 100%|██████████| 4/4 [00:03<00:00,  1.21it/s]  \n",
            "\n",
            "     Epoch        lr  iou_loss  dfl_loss  cls_loss\n",
            "     2/199     0.0032     2.124         0     4.056: 100%|██████████| 4/4 [00:04<00:00,  1.11s/it]  \n",
            "\n",
            "     Epoch        lr  iou_loss  dfl_loss  cls_loss\n",
            "     3/199   0.003199     2.118         0     4.016: 100%|██████████| 4/4 [00:04<00:00,  1.21s/it]  \n",
            "\n",
            "     Epoch        lr  iou_loss  dfl_loss  cls_loss\n",
            "     4/199   0.003198     2.118         0     4.024: 100%|██████████| 4/4 [00:05<00:00,  1.47s/it]  \n",
            "\n",
            "     Epoch        lr  iou_loss  dfl_loss  cls_loss\n",
            "     5/199   0.003197     2.044         0      4.08: 100%|██████████| 4/4 [00:05<00:00,  1.30s/it]  \n",
            "\n",
            "     Epoch        lr  iou_loss  dfl_loss  cls_loss\n",
            "     6/199   0.003196     2.078         0     4.048: 100%|██████████| 4/4 [00:05<00:00,  1.31s/it]  \n",
            "\n",
            "     Epoch        lr  iou_loss  dfl_loss  cls_loss\n",
            "     7/199   0.003194     2.022         0     4.036: 100%|██████████| 4/4 [00:04<00:00,  1.17s/it]  \n",
            "\n",
            "     Epoch        lr  iou_loss  dfl_loss  cls_loss\n",
            "     8/199   0.003191     1.956         0      4.04: 100%|██████████| 4/4 [00:04<00:00,  1.08s/it]  \n",
            "\n",
            "     Epoch        lr  iou_loss  dfl_loss  cls_loss\n",
            "     9/199   0.003189     1.986         0     4.027: 100%|██████████| 4/4 [00:05<00:00,  1.39s/it]  \n",
            "\n",
            "     Epoch        lr  iou_loss  dfl_loss  cls_loss\n",
            "    10/199   0.003186     1.984         0     4.029: 100%|██████████| 4/4 [00:04<00:00,  1.10s/it]  \n",
            "\n",
            "     Epoch        lr  iou_loss  dfl_loss  cls_loss\n",
            "    11/199   0.003183     1.943         0     4.061: 100%|██████████| 4/4 [00:05<00:00,  1.43s/it]  \n",
            "\n",
            "     Epoch        lr  iou_loss  dfl_loss  cls_loss\n",
            "    12/199   0.003179      1.89         0     4.072: 100%|██████████| 4/4 [00:04<00:00,  1.05s/it]  \n",
            "\n",
            "     Epoch        lr  iou_loss  dfl_loss  cls_loss\n",
            "    13/199   0.003175     1.901         0     4.076: 100%|██████████| 4/4 [00:06<00:00,  1.63s/it]  \n",
            "\n",
            "     Epoch        lr  iou_loss  dfl_loss  cls_loss\n",
            "    14/199   0.003171     1.854         0     4.088: 100%|██████████| 4/4 [00:04<00:00,  1.10s/it]  \n",
            "\n",
            "     Epoch        lr  iou_loss  dfl_loss  cls_loss\n",
            "    15/199   0.003166     1.789         0      4.18: 100%|██████████| 4/4 [00:04<00:00,  1.24s/it]  \n",
            "\n",
            "     Epoch        lr  iou_loss  dfl_loss  cls_loss\n",
            "    16/199   0.003161     1.796         0     4.134: 100%|██████████| 4/4 [00:05<00:00,  1.32s/it]  \n",
            "\n",
            "     Epoch        lr  iou_loss  dfl_loss  cls_loss\n",
            "    17/199   0.003156     1.802         0     4.174: 100%|██████████| 4/4 [00:04<00:00,  1.14s/it]  \n",
            "\n",
            "     Epoch        lr  iou_loss  dfl_loss  cls_loss\n",
            "    18/199    0.00315     1.796         0     4.116: 100%|██████████| 4/4 [00:05<00:00,  1.34s/it]  \n",
            "\n",
            "     Epoch        lr  iou_loss  dfl_loss  cls_loss\n",
            "    19/199   0.003144     1.759         0     4.167: 100%|██████████| 4/4 [00:03<00:00,  1.11it/s]  \n",
            "Inferencing model in train datasets.: 100%|███████████████████████████| 1/1 [00:01<00:00,  1.34s/it]\n",
            "\n",
            "Evaluating speed.\n",
            "\n",
            "Evaluating mAP by pycocotools.\n",
            "Epoch: 19 | mAP@0.5: 0.0 | mAP@0.50:0.95: 0.0\n",
            "\n",
            "     Epoch        lr  iou_loss  dfl_loss  cls_loss\n",
            "    20/199   0.003138     1.784         0     4.155: 100%|██████████| 4/4 [00:03<00:00,  1.21it/s]  \n",
            "\n",
            "     Epoch        lr  iou_loss  dfl_loss  cls_loss\n",
            "    21/199   0.003131     1.733         0     4.199: 100%|██████████| 4/4 [00:03<00:00,  1.19it/s]  \n",
            "\n",
            "     Epoch        lr  iou_loss  dfl_loss  cls_loss\n",
            "    22/199   0.003124     1.719         0     4.152: 100%|██████████| 4/4 [00:04<00:00,  1.22s/it]  \n",
            "\n",
            "     Epoch        lr  iou_loss  dfl_loss  cls_loss\n",
            "    23/199   0.003117     1.663         0     4.188: 100%|██████████| 4/4 [00:03<00:00,  1.26it/s]  \n",
            "\n",
            "     Epoch        lr  iou_loss  dfl_loss  cls_loss\n",
            "    24/199   0.003109     1.729         0     4.127: 100%|██████████| 4/4 [00:04<00:00,  1.20s/it]  \n",
            "\n",
            "     Epoch        lr  iou_loss  dfl_loss  cls_loss\n",
            "    25/199   0.003101     1.649         0     4.182: 100%|██████████| 4/4 [00:03<00:00,  1.25it/s]  \n",
            "\n",
            "     Epoch        lr  iou_loss  dfl_loss  cls_loss\n",
            "    26/199   0.003093     1.668         0     4.109: 100%|██████████| 4/4 [00:05<00:00,  1.30s/it]  \n",
            "\n",
            "     Epoch        lr  iou_loss  dfl_loss  cls_loss\n",
            "    27/199   0.003084      1.61         0     4.153: 100%|██████████| 4/4 [00:03<00:00,  1.06it/s]  \n",
            "\n",
            "     Epoch        lr  iou_loss  dfl_loss  cls_loss\n",
            "    28/199   0.003075     1.641         0     4.148: 100%|██████████| 4/4 [00:04<00:00,  1.16s/it]  \n",
            "\n",
            "     Epoch        lr  iou_loss  dfl_loss  cls_loss\n",
            "    29/199   0.003066     1.652         0     4.064: 100%|██████████| 4/4 [00:04<00:00,  1.04s/it]  \n",
            "\n",
            "     Epoch        lr  iou_loss  dfl_loss  cls_loss\n",
            "    30/199   0.003056     1.654         0     4.075: 100%|██████████| 4/4 [00:04<00:00,  1.10s/it]  \n",
            "\n",
            "     Epoch        lr  iou_loss  dfl_loss  cls_loss\n",
            "    31/199   0.003047     1.593         0     4.111: 100%|██████████| 4/4 [00:04<00:00,  1.03s/it]  \n",
            "\n",
            "     Epoch        lr  iou_loss  dfl_loss  cls_loss\n",
            "    32/199   0.003036     1.609         0     3.932: 100%|██████████| 4/4 [00:04<00:00,  1.15s/it]  \n",
            "\n",
            "     Epoch        lr  iou_loss  dfl_loss  cls_loss\n",
            "    33/199   0.003026     1.586         0      3.91: 100%|██████████| 4/4 [00:03<00:00,  1.21it/s]  \n",
            "\n",
            "     Epoch        lr  iou_loss  dfl_loss  cls_loss\n",
            "    34/199   0.003015     1.627         0     3.815: 100%|██████████| 4/4 [00:03<00:00,  1.17it/s]  \n",
            "\n",
            "     Epoch        lr  iou_loss  dfl_loss  cls_loss\n",
            "    35/199   0.003004     1.629         0     3.725: 100%|██████████| 4/4 [00:04<00:00,  1.16s/it]  \n",
            "\n",
            "     Epoch        lr  iou_loss  dfl_loss  cls_loss\n",
            "    36/199   0.002993     1.565         0      3.57: 100%|██████████| 4/4 [00:03<00:00,  1.20it/s]  \n",
            "\n",
            "     Epoch        lr  iou_loss  dfl_loss  cls_loss\n",
            "    37/199   0.002981     1.566         0     3.433: 100%|██████████| 4/4 [00:03<00:00,  1.19it/s]  \n",
            "\n",
            "     Epoch        lr  iou_loss  dfl_loss  cls_loss\n",
            "    38/199   0.002969     1.545         0     3.346: 100%|██████████| 4/4 [00:03<00:00,  1.24it/s]  \n",
            "\n",
            "     Epoch        lr  iou_loss  dfl_loss  cls_loss\n",
            "    39/199   0.002957     1.574         0     3.273: 100%|██████████| 4/4 [00:03<00:00,  1.11it/s]  \n",
            "Inferencing model in train datasets.: 100%|███████████████████████████| 1/1 [00:03<00:00,  3.38s/it]\n",
            "\n",
            "Evaluating speed.\n",
            "\n",
            "Evaluating mAP by pycocotools.\n",
            "Saving runs/train/exp1/predictions.json...\n",
            "loading annotations into memory...\n",
            "Done (t=0.00s)\n",
            "creating index...\n",
            "index created!\n",
            "Loading and preparing results...\n",
            "DONE (t=0.08s)\n",
            "creating index...\n",
            "index created!\n",
            "Running per image evaluation...\n",
            "Evaluate annotation type *bbox*\n",
            "DONE (t=0.24s).\n",
            "Accumulating evaluation results...\n",
            "DONE (t=0.07s).\n",
            " Average Precision  (AP) @[ IoU=0.50:0.95 | area=   all | maxDets=100 ] = 0.002\n",
            " Average Precision  (AP) @[ IoU=0.50      | area=   all | maxDets=100 ] = 0.009\n",
            " Average Precision  (AP) @[ IoU=0.75      | area=   all | maxDets=100 ] = 0.000\n",
            " Average Precision  (AP) @[ IoU=0.50:0.95 | area= small | maxDets=100 ] = -1.000\n",
            " Average Precision  (AP) @[ IoU=0.50:0.95 | area=medium | maxDets=100 ] = -1.000\n",
            " Average Precision  (AP) @[ IoU=0.50:0.95 | area= large | maxDets=100 ] = 0.021\n",
            " Average Recall     (AR) @[ IoU=0.50:0.95 | area=   all | maxDets=  1 ] = 0.083\n",
            " Average Recall     (AR) @[ IoU=0.50:0.95 | area=   all | maxDets= 10 ] = 0.155\n",
            " Average Recall     (AR) @[ IoU=0.50:0.95 | area=   all | maxDets=100 ] = 0.199\n",
            " Average Recall     (AR) @[ IoU=0.50:0.95 | area= small | maxDets=100 ] = -1.000\n",
            " Average Recall     (AR) @[ IoU=0.50:0.95 | area=medium | maxDets=100 ] = -1.000\n",
            " Average Recall     (AR) @[ IoU=0.50:0.95 | area= large | maxDets=100 ] = 0.199\n",
            "Results saved to runs/train/exp1\n",
            "Epoch: 39 | mAP@0.5: 0.009234667285081195 | mAP@0.50:0.95: 0.0023809191918913054\n",
            "\n",
            "     Epoch        lr  iou_loss  dfl_loss  cls_loss\n",
            "    40/199   0.002944     1.508         0     3.183: 100%|██████████| 4/4 [00:03<00:00,  1.10it/s]  \n",
            "\n",
            "     Epoch        lr  iou_loss  dfl_loss  cls_loss\n",
            "    41/199   0.002931     1.544         0     3.222: 100%|██████████| 4/4 [00:03<00:00,  1.23it/s]  \n",
            "\n",
            "     Epoch        lr  iou_loss  dfl_loss  cls_loss\n",
            "    42/199   0.002918     1.548         0     3.137: 100%|██████████| 4/4 [00:04<00:00,  1.03s/it]  \n",
            "\n",
            "     Epoch        lr  iou_loss  dfl_loss  cls_loss\n",
            "    43/199   0.002905     1.607         0     3.086: 100%|██████████| 4/4 [00:04<00:00,  1.09s/it]  \n",
            "\n",
            "     Epoch        lr  iou_loss  dfl_loss  cls_loss\n",
            "    44/199   0.002891     1.591         0     3.054: 100%|██████████| 4/4 [00:03<00:00,  1.12it/s]  \n",
            "\n",
            "     Epoch        lr  iou_loss  dfl_loss  cls_loss\n",
            "    45/199   0.002877     1.597         0     2.974: 100%|██████████| 4/4 [00:04<00:00,  1.08s/it]  \n",
            "\n",
            "     Epoch        lr  iou_loss  dfl_loss  cls_loss\n",
            "    46/199   0.002863     1.523         0     2.945: 100%|██████████| 4/4 [00:03<00:00,  1.16it/s]  \n",
            "\n",
            "     Epoch        lr  iou_loss  dfl_loss  cls_loss\n",
            "    47/199   0.002848     1.502         0      2.85: 100%|██████████| 4/4 [00:04<00:00,  1.07s/it]  \n",
            "\n",
            "     Epoch        lr  iou_loss  dfl_loss  cls_loss\n",
            "    48/199   0.002833     1.482         0     2.795: 100%|██████████| 4/4 [00:03<00:00,  1.12it/s]  \n",
            "\n",
            "     Epoch        lr  iou_loss  dfl_loss  cls_loss\n",
            "    49/199   0.002818     1.474         0     2.825: 100%|██████████| 4/4 [00:03<00:00,  1.17it/s]  \n",
            "\n",
            "     Epoch        lr  iou_loss  dfl_loss  cls_loss\n",
            "    50/199   0.002803     1.492         0     2.758: 100%|██████████| 4/4 [00:03<00:00,  1.05it/s]  \n",
            "\n",
            "     Epoch        lr  iou_loss  dfl_loss  cls_loss\n",
            "    51/199   0.002788     1.483         0     2.766: 100%|██████████| 4/4 [00:03<00:00,  1.01it/s]  \n",
            "\n",
            "     Epoch        lr  iou_loss  dfl_loss  cls_loss\n",
            "    52/199   0.002772     1.472         0     2.654: 100%|██████████| 4/4 [00:03<00:00,  1.13it/s]  \n",
            "\n",
            "     Epoch        lr  iou_loss  dfl_loss  cls_loss\n",
            "    53/199   0.002756     1.459         0     2.592: 100%|██████████| 4/4 [00:04<00:00,  1.13s/it]  \n",
            "\n",
            "     Epoch        lr  iou_loss  dfl_loss  cls_loss\n",
            "    54/199    0.00274     1.461         0     2.584: 100%|██████████| 4/4 [00:03<00:00,  1.11it/s]  \n",
            "\n",
            "     Epoch        lr  iou_loss  dfl_loss  cls_loss\n",
            "    55/199   0.002723     1.461         0     2.609: 100%|██████████| 4/4 [00:03<00:00,  1.18it/s]  \n",
            "\n",
            "     Epoch        lr  iou_loss  dfl_loss  cls_loss\n",
            "    56/199   0.002706     1.426         0     2.581: 100%|██████████| 4/4 [00:03<00:00,  1.18it/s]  \n",
            "\n",
            "     Epoch        lr  iou_loss  dfl_loss  cls_loss\n",
            "    57/199   0.002689     1.416         0     2.523: 100%|██████████| 4/4 [00:03<00:00,  1.14it/s]  \n",
            "\n",
            "     Epoch        lr  iou_loss  dfl_loss  cls_loss\n",
            "    58/199   0.002672     1.386         0     2.405: 100%|██████████| 4/4 [00:03<00:00,  1.16it/s]  \n",
            "\n",
            "     Epoch        lr  iou_loss  dfl_loss  cls_loss\n",
            "    59/199   0.002655     1.417         0     2.363: 100%|██████████| 4/4 [00:03<00:00,  1.15it/s]  \n",
            "Inferencing model in train datasets.: 100%|███████████████████████████| 1/1 [00:02<00:00,  2.78s/it]\n",
            "\n",
            "Evaluating speed.\n",
            "\n",
            "Evaluating mAP by pycocotools.\n",
            "Saving runs/train/exp1/predictions.json...\n",
            "loading annotations into memory...\n",
            "Done (t=0.01s)\n",
            "creating index...\n",
            "index created!\n",
            "Loading and preparing results...\n",
            "DONE (t=0.11s)\n",
            "creating index...\n",
            "index created!\n",
            "Running per image evaluation...\n",
            "Evaluate annotation type *bbox*\n",
            "DONE (t=0.41s).\n",
            "Accumulating evaluation results...\n",
            "DONE (t=0.14s).\n",
            " Average Precision  (AP) @[ IoU=0.50:0.95 | area=   all | maxDets=100 ] = 0.138\n",
            " Average Precision  (AP) @[ IoU=0.50      | area=   all | maxDets=100 ] = 0.322\n",
            " Average Precision  (AP) @[ IoU=0.75      | area=   all | maxDets=100 ] = 0.088\n",
            " Average Precision  (AP) @[ IoU=0.50:0.95 | area= small | maxDets=100 ] = -1.000\n",
            " Average Precision  (AP) @[ IoU=0.50:0.95 | area=medium | maxDets=100 ] = -1.000\n",
            " Average Precision  (AP) @[ IoU=0.50:0.95 | area= large | maxDets=100 ] = 0.138\n",
            " Average Recall     (AR) @[ IoU=0.50:0.95 | area=   all | maxDets=  1 ] = 0.534\n",
            " Average Recall     (AR) @[ IoU=0.50:0.95 | area=   all | maxDets= 10 ] = 0.580\n",
            " Average Recall     (AR) @[ IoU=0.50:0.95 | area=   all | maxDets=100 ] = 0.582\n",
            " Average Recall     (AR) @[ IoU=0.50:0.95 | area= small | maxDets=100 ] = -1.000\n",
            " Average Recall     (AR) @[ IoU=0.50:0.95 | area=medium | maxDets=100 ] = -1.000\n",
            " Average Recall     (AR) @[ IoU=0.50:0.95 | area= large | maxDets=100 ] = 0.582\n",
            "Results saved to runs/train/exp1\n",
            "Epoch: 59 | mAP@0.5: 0.32170338892840133 | mAP@0.50:0.95: 0.13782106606227254\n",
            "\n",
            "     Epoch        lr  iou_loss  dfl_loss  cls_loss\n",
            "    60/199   0.002637     1.436         0     2.419: 100%|██████████| 4/4 [00:03<00:00,  1.14it/s]  \n",
            "\n",
            "     Epoch        lr  iou_loss  dfl_loss  cls_loss\n",
            "    61/199    0.00262     1.424         0     2.408: 100%|██████████| 4/4 [00:03<00:00,  1.25it/s]  \n",
            "\n",
            "     Epoch        lr  iou_loss  dfl_loss  cls_loss\n",
            "    62/199   0.002602     1.391         0     2.353: 100%|██████████| 4/4 [00:03<00:00,  1.22it/s]  \n",
            "\n",
            "     Epoch        lr  iou_loss  dfl_loss  cls_loss\n",
            "    63/199   0.002583     1.399         0     2.297: 100%|██████████| 4/4 [00:03<00:00,  1.05it/s]  \n",
            "\n",
            "     Epoch        lr  iou_loss  dfl_loss  cls_loss\n",
            "    64/199   0.002565     1.364         0     2.274: 100%|██████████| 4/4 [00:03<00:00,  1.23it/s]  \n",
            "\n",
            "     Epoch        lr  iou_loss  dfl_loss  cls_loss\n",
            "    65/199   0.002546      1.35         0     2.261: 100%|██████████| 4/4 [00:03<00:00,  1.24it/s]  \n",
            "\n",
            "     Epoch        lr  iou_loss  dfl_loss  cls_loss\n",
            "    66/199   0.002528     1.355         0     2.261: 100%|██████████| 4/4 [00:03<00:00,  1.07it/s]  \n",
            "\n",
            "     Epoch        lr  iou_loss  dfl_loss  cls_loss\n",
            "    67/199   0.002509     1.308         0     2.309: 100%|██████████| 4/4 [00:04<00:00,  1.24s/it]  \n",
            "\n",
            "     Epoch        lr  iou_loss  dfl_loss  cls_loss\n",
            "    68/199    0.00249     1.311         0     2.255: 100%|██████████| 4/4 [00:03<00:00,  1.23it/s]  \n",
            "\n",
            "     Epoch        lr  iou_loss  dfl_loss  cls_loss\n",
            "    69/199    0.00247     1.351         0     2.244: 100%|██████████| 4/4 [00:03<00:00,  1.02it/s]  \n",
            "\n",
            "     Epoch        lr  iou_loss  dfl_loss  cls_loss\n",
            "    70/199   0.002451     1.325         0     2.252: 100%|██████████| 4/4 [00:03<00:00,  1.15it/s]  \n",
            "\n",
            "     Epoch        lr  iou_loss  dfl_loss  cls_loss\n",
            "    71/199   0.002431     1.259         0     2.244: 100%|██████████| 4/4 [00:04<00:00,  1.17s/it]  \n",
            "\n",
            "     Epoch        lr  iou_loss  dfl_loss  cls_loss\n",
            "    72/199   0.002411     1.314         0     2.244: 100%|██████████| 4/4 [00:03<00:00,  1.07it/s]  \n",
            "\n",
            "     Epoch        lr  iou_loss  dfl_loss  cls_loss\n",
            "    73/199   0.002391     1.301         0     2.279: 100%|██████████| 4/4 [00:05<00:00,  1.28s/it]  \n",
            "\n",
            "     Epoch        lr  iou_loss  dfl_loss  cls_loss\n",
            "    74/199   0.002371     1.287         0     2.217: 100%|██████████| 4/4 [00:03<00:00,  1.20it/s]  \n",
            "\n",
            "     Epoch        lr  iou_loss  dfl_loss  cls_loss\n",
            "    75/199   0.002351     1.247         0     2.169: 100%|██████████| 4/4 [00:03<00:00,  1.09it/s]  \n",
            "\n",
            "     Epoch        lr  iou_loss  dfl_loss  cls_loss\n",
            "    76/199   0.002331      1.28         0     2.201: 100%|██████████| 4/4 [00:04<00:00,  1.17s/it]  \n",
            "\n",
            "     Epoch        lr  iou_loss  dfl_loss  cls_loss\n",
            "    77/199    0.00231     1.266         0     2.209: 100%|██████████| 4/4 [00:03<00:00,  1.14it/s]  \n",
            "\n",
            "     Epoch        lr  iou_loss  dfl_loss  cls_loss\n",
            "    78/199    0.00229     1.274         0     2.208: 100%|██████████| 4/4 [00:04<00:00,  1.03s/it]  \n",
            "\n",
            "     Epoch        lr  iou_loss  dfl_loss  cls_loss\n",
            "    79/199   0.002269      1.23         0     2.222: 100%|██████████| 4/4 [00:03<00:00,  1.01it/s]  \n",
            "Inferencing model in train datasets.: 100%|███████████████████████████| 1/1 [00:04<00:00,  4.76s/it]\n",
            "\n",
            "Evaluating speed.\n",
            "\n",
            "Evaluating mAP by pycocotools.\n",
            "Saving runs/train/exp1/predictions.json...\n",
            "loading annotations into memory...\n",
            "Done (t=0.01s)\n",
            "creating index...\n",
            "index created!\n",
            "Loading and preparing results...\n",
            "DONE (t=0.47s)\n",
            "creating index...\n",
            "index created!\n",
            "Running per image evaluation...\n",
            "Evaluate annotation type *bbox*\n",
            "DONE (t=0.41s).\n",
            "Accumulating evaluation results...\n",
            "DONE (t=0.13s).\n",
            " Average Precision  (AP) @[ IoU=0.50:0.95 | area=   all | maxDets=100 ] = 0.130\n",
            " Average Precision  (AP) @[ IoU=0.50      | area=   all | maxDets=100 ] = 0.256\n",
            " Average Precision  (AP) @[ IoU=0.75      | area=   all | maxDets=100 ] = 0.128\n",
            " Average Precision  (AP) @[ IoU=0.50:0.95 | area= small | maxDets=100 ] = -1.000\n",
            " Average Precision  (AP) @[ IoU=0.50:0.95 | area=medium | maxDets=100 ] = -1.000\n",
            " Average Precision  (AP) @[ IoU=0.50:0.95 | area= large | maxDets=100 ] = 0.130\n",
            " Average Recall     (AR) @[ IoU=0.50:0.95 | area=   all | maxDets=  1 ] = 0.497\n",
            " Average Recall     (AR) @[ IoU=0.50:0.95 | area=   all | maxDets= 10 ] = 0.581\n",
            " Average Recall     (AR) @[ IoU=0.50:0.95 | area=   all | maxDets=100 ] = 0.591\n",
            " Average Recall     (AR) @[ IoU=0.50:0.95 | area= small | maxDets=100 ] = -1.000\n",
            " Average Recall     (AR) @[ IoU=0.50:0.95 | area=medium | maxDets=100 ] = -1.000\n",
            " Average Recall     (AR) @[ IoU=0.50:0.95 | area= large | maxDets=100 ] = 0.591\n",
            "Results saved to runs/train/exp1\n",
            "Epoch: 79 | mAP@0.5: 0.2555227589621191 | mAP@0.50:0.95: 0.1298006679880619\n",
            "\n",
            "     Epoch        lr  iou_loss  dfl_loss  cls_loss\n",
            "    80/199   0.002248     1.232         0      2.17: 100%|██████████| 4/4 [00:03<00:00,  1.23it/s]  \n",
            "\n",
            "     Epoch        lr  iou_loss  dfl_loss  cls_loss\n",
            "    81/199   0.002227     1.236         0     2.174: 100%|██████████| 4/4 [00:03<00:00,  1.09it/s]  \n",
            "\n",
            "     Epoch        lr  iou_loss  dfl_loss  cls_loss\n",
            "    82/199   0.002206     1.245         0     2.196: 100%|██████████| 4/4 [00:03<00:00,  1.19it/s]  \n",
            "\n",
            "     Epoch        lr  iou_loss  dfl_loss  cls_loss\n",
            "    83/199   0.002185     1.231         0     2.157: 100%|██████████| 4/4 [00:04<00:00,  1.08s/it]  \n",
            "\n",
            "     Epoch        lr  iou_loss  dfl_loss  cls_loss\n",
            "    84/199   0.002164     1.226         0     2.201: 100%|██████████| 4/4 [00:04<00:00,  1.06s/it]  \n",
            "\n",
            "     Epoch        lr  iou_loss  dfl_loss  cls_loss\n",
            "    85/199   0.002142     1.213         0     2.146: 100%|██████████| 4/4 [00:03<00:00,  1.18it/s]  \n",
            "\n",
            "     Epoch        lr  iou_loss  dfl_loss  cls_loss\n",
            "    86/199   0.002121     1.173         0     2.144: 100%|██████████| 4/4 [00:03<00:00,  1.22it/s]  \n",
            "\n",
            "     Epoch        lr  iou_loss  dfl_loss  cls_loss\n",
            "    87/199   0.002099     1.211         0     2.184: 100%|██████████| 4/4 [00:03<00:00,  1.11it/s]  \n",
            "\n",
            "     Epoch        lr  iou_loss  dfl_loss  cls_loss\n",
            "    88/199   0.002078     1.214         0     2.198: 100%|██████████| 4/4 [00:05<00:00,  1.41s/it]  \n",
            "\n",
            "     Epoch        lr  iou_loss  dfl_loss  cls_loss\n",
            "    89/199   0.002056     1.178         0     2.162: 100%|██████████| 4/4 [00:05<00:00,  1.43s/it]  \n",
            "\n",
            "     Epoch        lr  iou_loss  dfl_loss  cls_loss\n",
            "    90/199   0.002034      1.17         0     2.153: 100%|██████████| 4/4 [00:03<00:00,  1.10it/s]  \n",
            "\n",
            "     Epoch        lr  iou_loss  dfl_loss  cls_loss\n",
            "    91/199   0.002012     1.141         0     2.171: 100%|██████████| 4/4 [00:05<00:00,  1.27s/it]  \n",
            "\n",
            "     Epoch        lr  iou_loss  dfl_loss  cls_loss\n",
            "    92/199    0.00199     1.201         0     2.196: 100%|██████████| 4/4 [00:03<00:00,  1.09it/s]  \n",
            "\n",
            "     Epoch        lr  iou_loss  dfl_loss  cls_loss\n",
            "    93/199   0.001968     1.166         0     2.178: 100%|██████████| 4/4 [00:04<00:00,  1.21s/it]  \n",
            "\n",
            "     Epoch        lr  iou_loss  dfl_loss  cls_loss\n",
            "    94/199   0.001947     1.167         0      2.21: 100%|██████████| 4/4 [00:03<00:00,  1.00it/s]  \n",
            "\n",
            "     Epoch        lr  iou_loss  dfl_loss  cls_loss\n",
            "    95/199   0.001925     1.104         0     2.135: 100%|██████████| 4/4 [00:03<00:00,  1.13it/s]  \n",
            "\n",
            "     Epoch        lr  iou_loss  dfl_loss  cls_loss\n",
            "    96/199   0.001902     1.163         0     2.227: 100%|██████████| 4/4 [00:04<00:00,  1.02s/it]  \n",
            "\n",
            "     Epoch        lr  iou_loss  dfl_loss  cls_loss\n",
            "    97/199    0.00188     1.116         0     2.181: 100%|██████████| 4/4 [00:03<00:00,  1.25it/s]  \n",
            "\n",
            "     Epoch        lr  iou_loss  dfl_loss  cls_loss\n",
            "    98/199   0.001858     1.153         0     2.171: 100%|██████████| 4/4 [00:03<00:00,  1.25it/s]  \n",
            "\n",
            "     Epoch        lr  iou_loss  dfl_loss  cls_loss\n",
            "    99/199   0.001836     1.137         0       2.2: 100%|██████████| 4/4 [00:04<00:00,  1.05s/it]  \n",
            "Inferencing model in train datasets.: 100%|███████████████████████████| 1/1 [00:04<00:00,  4.93s/it]\n",
            "\n",
            "Evaluating speed.\n",
            "\n",
            "Evaluating mAP by pycocotools.\n",
            "Saving runs/train/exp1/predictions.json...\n",
            "loading annotations into memory...\n",
            "Done (t=0.01s)\n",
            "creating index...\n",
            "index created!\n",
            "Loading and preparing results...\n",
            "DONE (t=0.43s)\n",
            "creating index...\n",
            "index created!\n",
            "Running per image evaluation...\n",
            "Evaluate annotation type *bbox*\n",
            "DONE (t=0.45s).\n",
            "Accumulating evaluation results...\n",
            "DONE (t=0.15s).\n",
            " Average Precision  (AP) @[ IoU=0.50:0.95 | area=   all | maxDets=100 ] = 0.163\n",
            " Average Precision  (AP) @[ IoU=0.50      | area=   all | maxDets=100 ] = 0.322\n",
            " Average Precision  (AP) @[ IoU=0.75      | area=   all | maxDets=100 ] = 0.155\n",
            " Average Precision  (AP) @[ IoU=0.50:0.95 | area= small | maxDets=100 ] = -1.000\n",
            " Average Precision  (AP) @[ IoU=0.50:0.95 | area=medium | maxDets=100 ] = -1.000\n",
            " Average Precision  (AP) @[ IoU=0.50:0.95 | area= large | maxDets=100 ] = 0.163\n",
            " Average Recall     (AR) @[ IoU=0.50:0.95 | area=   all | maxDets=  1 ] = 0.517\n",
            " Average Recall     (AR) @[ IoU=0.50:0.95 | area=   all | maxDets= 10 ] = 0.522\n",
            " Average Recall     (AR) @[ IoU=0.50:0.95 | area=   all | maxDets=100 ] = 0.553\n",
            " Average Recall     (AR) @[ IoU=0.50:0.95 | area= small | maxDets=100 ] = -1.000\n",
            " Average Recall     (AR) @[ IoU=0.50:0.95 | area=medium | maxDets=100 ] = -1.000\n",
            " Average Recall     (AR) @[ IoU=0.50:0.95 | area= large | maxDets=100 ] = 0.553\n",
            "Results saved to runs/train/exp1\n",
            "Epoch: 99 | mAP@0.5: 0.3218594518484078 | mAP@0.50:0.95: 0.16269825384680767\n",
            "\n",
            "     Epoch        lr  iou_loss  dfl_loss  cls_loss\n",
            "   100/199   0.001814     1.158         0     2.227: 100%|██████████| 4/4 [00:03<00:00,  1.21it/s]  \n",
            "\n",
            "     Epoch        lr  iou_loss  dfl_loss  cls_loss\n",
            "   101/199   0.001792     1.079         0     2.166: 100%|██████████| 4/4 [00:03<00:00,  1.11it/s]  \n",
            "\n",
            "     Epoch        lr  iou_loss  dfl_loss  cls_loss\n",
            "   102/199    0.00177     1.144         0     2.185: 100%|██████████| 4/4 [00:03<00:00,  1.24it/s]  \n",
            "\n",
            "     Epoch        lr  iou_loss  dfl_loss  cls_loss\n",
            "   103/199   0.001748     1.092         0     2.162: 100%|██████████| 4/4 [00:03<00:00,  1.12it/s]  \n",
            "\n",
            "     Epoch        lr  iou_loss  dfl_loss  cls_loss\n",
            "   104/199   0.001726     1.106         0     2.199: 100%|██████████| 4/4 [00:03<00:00,  1.12it/s]  \n",
            "\n",
            "     Epoch        lr  iou_loss  dfl_loss  cls_loss\n",
            "   105/199   0.001704     1.109         0     2.186: 100%|██████████| 4/4 [00:03<00:00,  1.03it/s]  \n",
            "\n",
            "     Epoch        lr  iou_loss  dfl_loss  cls_loss\n",
            "   106/199   0.001682     1.124         0     2.218: 100%|██████████| 4/4 [00:03<00:00,  1.02it/s]  \n",
            "\n",
            "     Epoch        lr  iou_loss  dfl_loss  cls_loss\n",
            "   107/199   0.001659     1.049         0     2.184: 100%|██████████| 4/4 [00:03<00:00,  1.18it/s]  \n",
            "\n",
            "     Epoch        lr  iou_loss  dfl_loss  cls_loss\n",
            "   108/199   0.001637     1.108         0     2.201: 100%|██████████| 4/4 [00:04<00:00,  1.01s/it]  \n",
            "\n",
            "     Epoch        lr  iou_loss  dfl_loss  cls_loss\n",
            "   109/199   0.001616     1.095         0     2.195: 100%|██████████| 4/4 [00:03<00:00,  1.18it/s]  \n",
            "\n",
            "     Epoch        lr  iou_loss  dfl_loss  cls_loss\n",
            "   110/199   0.001594     1.065         0     2.187: 100%|██████████| 4/4 [00:04<00:00,  1.09s/it]  \n",
            "\n",
            "     Epoch        lr  iou_loss  dfl_loss  cls_loss\n",
            "   111/199   0.001572     1.105         0     2.182: 100%|██████████| 4/4 [00:03<00:00,  1.14it/s]  \n",
            "\n",
            "     Epoch        lr  iou_loss  dfl_loss  cls_loss\n",
            "   112/199    0.00155     1.088         0     2.169: 100%|██████████| 4/4 [00:04<00:00,  1.09s/it]  \n",
            "\n",
            "     Epoch        lr  iou_loss  dfl_loss  cls_loss\n",
            "   113/199   0.001528     1.061         0     2.192: 100%|██████████| 4/4 [00:03<00:00,  1.17it/s]  \n",
            "\n",
            "     Epoch        lr  iou_loss  dfl_loss  cls_loss\n",
            "   114/199   0.001506     1.058         0      2.16: 100%|██████████| 4/4 [00:04<00:00,  1.19s/it]  \n",
            "\n",
            "     Epoch        lr  iou_loss  dfl_loss  cls_loss\n",
            "   115/199   0.001485     1.064         0     2.165: 100%|██████████| 4/4 [00:04<00:00,  1.00s/it]  \n",
            "\n",
            "     Epoch        lr  iou_loss  dfl_loss  cls_loss\n",
            "   116/199   0.001463     1.076         0     2.185: 100%|██████████| 4/4 [00:04<00:00,  1.22s/it]  \n",
            "\n",
            "     Epoch        lr  iou_loss  dfl_loss  cls_loss\n",
            "   117/199   0.001442     1.026         0     2.157: 100%|██████████| 4/4 [00:04<00:00,  1.09s/it]  \n",
            "\n",
            "     Epoch        lr  iou_loss  dfl_loss  cls_loss\n",
            "   118/199    0.00142     1.054         0     2.192: 100%|██████████| 4/4 [00:04<00:00,  1.16s/it]  \n",
            "\n",
            "     Epoch        lr  iou_loss  dfl_loss  cls_loss\n",
            "   119/199   0.001399     1.023         0     2.166: 100%|██████████| 4/4 [00:03<00:00,  1.09it/s]  \n",
            "Inferencing model in train datasets.: 100%|███████████████████████████| 1/1 [00:03<00:00,  3.17s/it]\n",
            "\n",
            "Evaluating speed.\n",
            "\n",
            "Evaluating mAP by pycocotools.\n",
            "Saving runs/train/exp1/predictions.json...\n",
            "loading annotations into memory...\n",
            "Done (t=0.00s)\n",
            "creating index...\n",
            "index created!\n",
            "Loading and preparing results...\n",
            "DONE (t=0.08s)\n",
            "creating index...\n",
            "index created!\n",
            "Running per image evaluation...\n",
            "Evaluate annotation type *bbox*\n",
            "DONE (t=0.39s).\n",
            "Accumulating evaluation results...\n",
            "DONE (t=0.20s).\n",
            " Average Precision  (AP) @[ IoU=0.50:0.95 | area=   all | maxDets=100 ] = 0.199\n",
            " Average Precision  (AP) @[ IoU=0.50      | area=   all | maxDets=100 ] = 0.366\n",
            " Average Precision  (AP) @[ IoU=0.75      | area=   all | maxDets=100 ] = 0.199\n",
            " Average Precision  (AP) @[ IoU=0.50:0.95 | area= small | maxDets=100 ] = -1.000\n",
            " Average Precision  (AP) @[ IoU=0.50:0.95 | area=medium | maxDets=100 ] = -1.000\n",
            " Average Precision  (AP) @[ IoU=0.50:0.95 | area= large | maxDets=100 ] = 0.199\n",
            " Average Recall     (AR) @[ IoU=0.50:0.95 | area=   all | maxDets=  1 ] = 0.597\n",
            " Average Recall     (AR) @[ IoU=0.50:0.95 | area=   all | maxDets= 10 ] = 0.606\n",
            " Average Recall     (AR) @[ IoU=0.50:0.95 | area=   all | maxDets=100 ] = 0.617\n",
            " Average Recall     (AR) @[ IoU=0.50:0.95 | area= small | maxDets=100 ] = -1.000\n",
            " Average Recall     (AR) @[ IoU=0.50:0.95 | area=medium | maxDets=100 ] = -1.000\n",
            " Average Recall     (AR) @[ IoU=0.50:0.95 | area= large | maxDets=100 ] = 0.617\n",
            "Results saved to runs/train/exp1\n",
            "Epoch: 119 | mAP@0.5: 0.36611633261860727 | mAP@0.50:0.95: 0.1987987043879606\n",
            "\n",
            "     Epoch        lr  iou_loss  dfl_loss  cls_loss\n",
            "   120/199   0.001378     1.017         0      2.17: 100%|██████████| 4/4 [00:03<00:00,  1.16it/s]  \n",
            "\n",
            "     Epoch        lr  iou_loss  dfl_loss  cls_loss\n",
            "   121/199   0.001357     1.039         0     2.181: 100%|██████████| 4/4 [00:03<00:00,  1.19it/s]  \n",
            "\n",
            "     Epoch        lr  iou_loss  dfl_loss  cls_loss\n",
            "   122/199   0.001336     1.024         0     2.153: 100%|██████████| 4/4 [00:04<00:00,  1.03s/it]  \n",
            "\n",
            "     Epoch        lr  iou_loss  dfl_loss  cls_loss\n",
            "   123/199   0.001315      1.04         0     2.162: 100%|██████████| 4/4 [00:03<00:00,  1.00it/s]  \n",
            "\n",
            "     Epoch        lr  iou_loss  dfl_loss  cls_loss\n",
            "   124/199   0.001294     1.001         0     2.168: 100%|██████████| 4/4 [00:04<00:00,  1.08s/it]  \n",
            "\n",
            "     Epoch        lr  iou_loss  dfl_loss  cls_loss\n",
            "   125/199   0.001274     1.046         0     2.162: 100%|██████████| 4/4 [00:03<00:00,  1.18it/s]  \n",
            "\n",
            "     Epoch        lr  iou_loss  dfl_loss  cls_loss\n",
            "   126/199   0.001253     1.082         0     2.199: 100%|██████████| 4/4 [00:03<00:00,  1.09it/s]  \n",
            "\n",
            "     Epoch        lr  iou_loss  dfl_loss  cls_loss\n",
            "   127/199   0.001233     1.055         0     2.194: 100%|██████████| 4/4 [00:04<00:00,  1.11s/it]  \n",
            "\n",
            "     Epoch        lr  iou_loss  dfl_loss  cls_loss\n",
            "   128/199   0.001213     1.063         0     2.203: 100%|██████████| 4/4 [00:03<00:00,  1.16it/s]  \n",
            "\n",
            "     Epoch        lr  iou_loss  dfl_loss  cls_loss\n",
            "   129/199   0.001193     1.056         0     2.167: 100%|██████████| 4/4 [00:03<00:00,  1.31it/s]  \n",
            "\n",
            "     Epoch        lr  iou_loss  dfl_loss  cls_loss\n",
            "   130/199   0.001173     1.029         0     2.176: 100%|██████████| 4/4 [00:03<00:00,  1.11it/s]  \n",
            "\n",
            "     Epoch        lr  iou_loss  dfl_loss  cls_loss\n",
            "   131/199   0.001153     1.008         0     2.163: 100%|██████████| 4/4 [00:04<00:00,  1.07s/it]  \n",
            "\n",
            "     Epoch        lr  iou_loss  dfl_loss  cls_loss\n",
            "   132/199   0.001133     1.005         0     2.179: 100%|██████████| 4/4 [00:03<00:00,  1.23it/s]  \n",
            "\n",
            "     Epoch        lr  iou_loss  dfl_loss  cls_loss\n",
            "   133/199   0.001114     1.051         0     2.173: 100%|██████████| 4/4 [00:03<00:00,  1.22it/s]  \n",
            "\n",
            "     Epoch        lr  iou_loss  dfl_loss  cls_loss\n",
            "   134/199   0.001094     1.002         0     2.185: 100%|██████████| 4/4 [00:04<00:00,  1.06s/it]  \n",
            "\n",
            "     Epoch        lr  iou_loss  dfl_loss  cls_loss\n",
            "   135/199   0.001075    0.9951         0     2.154: 100%|██████████| 4/4 [00:03<00:00,  1.15it/s]  \n",
            "\n",
            "     Epoch        lr  iou_loss  dfl_loss  cls_loss\n",
            "   136/199   0.001056     1.015         0     2.159: 100%|██████████| 4/4 [00:03<00:00,  1.12it/s]  \n",
            "\n",
            "     Epoch        lr  iou_loss  dfl_loss  cls_loss\n",
            "   137/199   0.001038     1.037         0     2.197: 100%|██████████| 4/4 [00:03<00:00,  1.08it/s]  \n",
            "\n",
            "     Epoch        lr  iou_loss  dfl_loss  cls_loss\n",
            "   138/199   0.001019    0.9956         0     2.185: 100%|██████████| 4/4 [00:03<00:00,  1.18it/s]  \n",
            "\n",
            "     Epoch        lr  iou_loss  dfl_loss  cls_loss\n",
            "   139/199   0.001001    0.9958         0     2.147: 100%|██████████| 4/4 [00:04<00:00,  1.02s/it]  \n",
            "Inferencing model in train datasets.: 100%|███████████████████████████| 1/1 [00:03<00:00,  3.42s/it]\n",
            "\n",
            "Evaluating speed.\n",
            "\n",
            "Evaluating mAP by pycocotools.\n",
            "Saving runs/train/exp1/predictions.json...\n",
            "loading annotations into memory...\n",
            "Done (t=0.00s)\n",
            "creating index...\n",
            "index created!\n",
            "Loading and preparing results...\n",
            "DONE (t=0.40s)\n",
            "creating index...\n",
            "index created!\n",
            "Running per image evaluation...\n",
            "Evaluate annotation type *bbox*\n",
            "DONE (t=0.37s).\n",
            "Accumulating evaluation results...\n",
            "DONE (t=0.16s).\n",
            " Average Precision  (AP) @[ IoU=0.50:0.95 | area=   all | maxDets=100 ] = 0.193\n",
            " Average Precision  (AP) @[ IoU=0.50      | area=   all | maxDets=100 ] = 0.356\n",
            " Average Precision  (AP) @[ IoU=0.75      | area=   all | maxDets=100 ] = 0.177\n",
            " Average Precision  (AP) @[ IoU=0.50:0.95 | area= small | maxDets=100 ] = -1.000\n",
            " Average Precision  (AP) @[ IoU=0.50:0.95 | area=medium | maxDets=100 ] = -1.000\n",
            " Average Precision  (AP) @[ IoU=0.50:0.95 | area= large | maxDets=100 ] = 0.193\n",
            " Average Recall     (AR) @[ IoU=0.50:0.95 | area=   all | maxDets=  1 ] = 0.584\n",
            " Average Recall     (AR) @[ IoU=0.50:0.95 | area=   all | maxDets= 10 ] = 0.601\n",
            " Average Recall     (AR) @[ IoU=0.50:0.95 | area=   all | maxDets=100 ] = 0.609\n",
            " Average Recall     (AR) @[ IoU=0.50:0.95 | area= small | maxDets=100 ] = -1.000\n",
            " Average Recall     (AR) @[ IoU=0.50:0.95 | area=medium | maxDets=100 ] = -1.000\n",
            " Average Recall     (AR) @[ IoU=0.50:0.95 | area= large | maxDets=100 ] = 0.609\n",
            "Results saved to runs/train/exp1\n",
            "Epoch: 139 | mAP@0.5: 0.35640072042178034 | mAP@0.50:0.95: 0.19333734747574843\n",
            "\n",
            "     Epoch        lr  iou_loss  dfl_loss  cls_loss\n",
            "   140/199  0.0009824     1.031         0     2.154: 100%|██████████| 4/4 [00:03<00:00,  1.18it/s]  \n",
            "\n",
            "     Epoch        lr  iou_loss  dfl_loss  cls_loss\n",
            "   141/199  0.0009644     1.046         0     2.195: 100%|██████████| 4/4 [00:03<00:00,  1.29it/s]  \n",
            "\n",
            "     Epoch        lr  iou_loss  dfl_loss  cls_loss\n",
            "   142/199  0.0009466     1.015         0     2.169: 100%|██████████| 4/4 [00:03<00:00,  1.30it/s]  \n",
            "\n",
            "     Epoch        lr  iou_loss  dfl_loss  cls_loss\n",
            "   143/199   0.000929    0.9611         0     2.148: 100%|██████████| 4/4 [00:03<00:00,  1.29it/s]  \n",
            "\n",
            "     Epoch        lr  iou_loss  dfl_loss  cls_loss\n",
            "   144/199  0.0009117    0.9847         0     2.161: 100%|██████████| 4/4 [00:03<00:00,  1.24it/s]  \n",
            "\n",
            "     Epoch        lr  iou_loss  dfl_loss  cls_loss\n",
            "   145/199  0.0008945     1.027         0     2.169: 100%|██████████| 4/4 [00:05<00:00,  1.32s/it]  \n",
            "\n",
            "     Epoch        lr  iou_loss  dfl_loss  cls_loss\n",
            "   146/199  0.0008776    0.9469         0     2.177: 100%|██████████| 4/4 [00:03<00:00,  1.26it/s]  \n",
            "\n",
            "     Epoch        lr  iou_loss  dfl_loss  cls_loss\n",
            "   147/199  0.0008609    0.9798         0     2.181: 100%|██████████| 4/4 [00:04<00:00,  1.02s/it]  \n",
            "\n",
            "     Epoch        lr  iou_loss  dfl_loss  cls_loss\n",
            "   148/199  0.0008444    0.9973         0     2.135: 100%|██████████| 4/4 [00:03<00:00,  1.12it/s]  \n",
            "\n",
            "     Epoch        lr  iou_loss  dfl_loss  cls_loss\n",
            "   149/199  0.0008282    0.9396         0     2.151: 100%|██████████| 4/4 [00:04<00:00,  1.09s/it]  \n",
            "\n",
            "     Epoch        lr  iou_loss  dfl_loss  cls_loss\n",
            "   150/199  0.0008122    0.9994         0     2.145: 100%|██████████| 4/4 [00:03<00:00,  1.17it/s]  \n",
            "\n",
            "     Epoch        lr  iou_loss  dfl_loss  cls_loss\n",
            "   151/199  0.0007964    0.9973         0     2.164: 100%|██████████| 4/4 [00:04<00:00,  1.06s/it]  \n",
            "\n",
            "     Epoch        lr  iou_loss  dfl_loss  cls_loss\n",
            "   152/199  0.0007809    0.9513         0     2.156: 100%|██████████| 4/4 [00:03<00:00,  1.18it/s]  \n",
            "Inferencing model in train datasets.: 100%|███████████████████████████| 1/1 [00:02<00:00,  2.82s/it]\n",
            "\n",
            "Evaluating speed.\n",
            "\n",
            "Evaluating mAP by pycocotools.\n",
            "Saving runs/train/exp1/predictions.json...\n",
            "loading annotations into memory...\n",
            "Done (t=0.00s)\n",
            "creating index...\n",
            "index created!\n",
            "Loading and preparing results...\n",
            "DONE (t=0.43s)\n",
            "creating index...\n",
            "index created!\n",
            "Running per image evaluation...\n",
            "Evaluate annotation type *bbox*\n",
            "DONE (t=0.46s).\n",
            "Accumulating evaluation results...\n",
            "DONE (t=0.16s).\n",
            " Average Precision  (AP) @[ IoU=0.50:0.95 | area=   all | maxDets=100 ] = 0.129\n",
            " Average Precision  (AP) @[ IoU=0.50      | area=   all | maxDets=100 ] = 0.267\n",
            " Average Precision  (AP) @[ IoU=0.75      | area=   all | maxDets=100 ] = 0.120\n",
            " Average Precision  (AP) @[ IoU=0.50:0.95 | area= small | maxDets=100 ] = -1.000\n",
            " Average Precision  (AP) @[ IoU=0.50:0.95 | area=medium | maxDets=100 ] = -1.000\n",
            " Average Precision  (AP) @[ IoU=0.50:0.95 | area= large | maxDets=100 ] = 0.129\n",
            " Average Recall     (AR) @[ IoU=0.50:0.95 | area=   all | maxDets=  1 ] = 0.453\n",
            " Average Recall     (AR) @[ IoU=0.50:0.95 | area=   all | maxDets= 10 ] = 0.535\n",
            " Average Recall     (AR) @[ IoU=0.50:0.95 | area=   all | maxDets=100 ] = 0.540\n",
            " Average Recall     (AR) @[ IoU=0.50:0.95 | area= small | maxDets=100 ] = -1.000\n",
            " Average Recall     (AR) @[ IoU=0.50:0.95 | area=medium | maxDets=100 ] = -1.000\n",
            " Average Recall     (AR) @[ IoU=0.50:0.95 | area= large | maxDets=100 ] = 0.540\n",
            "Results saved to runs/train/exp1\n",
            "Epoch: 152 | mAP@0.5: 0.26711633709181826 | mAP@0.50:0.95: 0.12888828186033124\n",
            "\n",
            "     Epoch        lr  iou_loss  dfl_loss  cls_loss\n",
            "   153/199  0.0007656     1.036         0     2.186: 100%|██████████| 4/4 [00:03<00:00,  1.18it/s]  \n",
            "\n",
            "     Epoch        lr  iou_loss  dfl_loss  cls_loss\n",
            "   154/199  0.0007506    0.9843         0     2.159: 100%|██████████| 4/4 [00:03<00:00,  1.15it/s]  \n",
            "\n",
            "     Epoch        lr  iou_loss  dfl_loss  cls_loss\n",
            "   155/199  0.0007358     0.989         0     2.164: 100%|██████████| 4/4 [00:04<00:00,  1.19s/it]  \n",
            "Inferencing model in train datasets.: 100%|███████████████████████████| 1/1 [00:03<00:00,  3.42s/it]\n",
            "\n",
            "Evaluating speed.\n",
            "\n",
            "Evaluating mAP by pycocotools.\n",
            "Saving runs/train/exp1/predictions.json...\n",
            "loading annotations into memory...\n",
            "Done (t=0.01s)\n",
            "creating index...\n",
            "index created!\n",
            "Loading and preparing results...\n",
            "DONE (t=0.70s)\n",
            "creating index...\n",
            "index created!\n",
            "Running per image evaluation...\n",
            "Evaluate annotation type *bbox*\n",
            "DONE (t=0.51s).\n",
            "Accumulating evaluation results...\n",
            "DONE (t=0.31s).\n",
            " Average Precision  (AP) @[ IoU=0.50:0.95 | area=   all | maxDets=100 ] = 0.154\n",
            " Average Precision  (AP) @[ IoU=0.50      | area=   all | maxDets=100 ] = 0.277\n",
            " Average Precision  (AP) @[ IoU=0.75      | area=   all | maxDets=100 ] = 0.163\n",
            " Average Precision  (AP) @[ IoU=0.50:0.95 | area= small | maxDets=100 ] = -1.000\n",
            " Average Precision  (AP) @[ IoU=0.50:0.95 | area=medium | maxDets=100 ] = -1.000\n",
            " Average Precision  (AP) @[ IoU=0.50:0.95 | area= large | maxDets=100 ] = 0.154\n",
            " Average Recall     (AR) @[ IoU=0.50:0.95 | area=   all | maxDets=  1 ] = 0.504\n",
            " Average Recall     (AR) @[ IoU=0.50:0.95 | area=   all | maxDets= 10 ] = 0.543\n",
            " Average Recall     (AR) @[ IoU=0.50:0.95 | area=   all | maxDets=100 ] = 0.549\n",
            " Average Recall     (AR) @[ IoU=0.50:0.95 | area= small | maxDets=100 ] = -1.000\n",
            " Average Recall     (AR) @[ IoU=0.50:0.95 | area=medium | maxDets=100 ] = -1.000\n",
            " Average Recall     (AR) @[ IoU=0.50:0.95 | area= large | maxDets=100 ] = 0.549\n",
            "Results saved to runs/train/exp1\n",
            "Epoch: 155 | mAP@0.5: 0.2771758476948933 | mAP@0.50:0.95: 0.15448559478896604\n",
            "\n",
            "     Epoch        lr  iou_loss  dfl_loss  cls_loss\n",
            "   156/199  0.0007213    0.9715         0      2.18: 100%|██████████| 4/4 [00:03<00:00,  1.28it/s]  \n",
            "\n",
            "     Epoch        lr  iou_loss  dfl_loss  cls_loss\n",
            "   157/199  0.0007071     0.977         0     2.184: 100%|██████████| 4/4 [00:03<00:00,  1.21it/s]  \n",
            "\n",
            "     Epoch        lr  iou_loss  dfl_loss  cls_loss\n",
            "   158/199  0.0006932    0.9763         0     2.194: 100%|██████████| 4/4 [00:03<00:00,  1.23it/s]  \n",
            "Inferencing model in train datasets.: 100%|███████████████████████████| 1/1 [00:04<00:00,  4.02s/it]\n",
            "\n",
            "Evaluating speed.\n",
            "\n",
            "Evaluating mAP by pycocotools.\n",
            "Saving runs/train/exp1/predictions.json...\n",
            "loading annotations into memory...\n",
            "Done (t=0.00s)\n",
            "creating index...\n",
            "index created!\n",
            "Loading and preparing results...\n",
            "DONE (t=0.15s)\n",
            "creating index...\n",
            "index created!\n",
            "Running per image evaluation...\n",
            "Evaluate annotation type *bbox*\n",
            "DONE (t=0.62s).\n",
            "Accumulating evaluation results...\n",
            "DONE (t=0.14s).\n",
            " Average Precision  (AP) @[ IoU=0.50:0.95 | area=   all | maxDets=100 ] = 0.192\n",
            " Average Precision  (AP) @[ IoU=0.50      | area=   all | maxDets=100 ] = 0.332\n",
            " Average Precision  (AP) @[ IoU=0.75      | area=   all | maxDets=100 ] = 0.200\n",
            " Average Precision  (AP) @[ IoU=0.50:0.95 | area= small | maxDets=100 ] = -1.000\n",
            " Average Precision  (AP) @[ IoU=0.50:0.95 | area=medium | maxDets=100 ] = -1.000\n",
            " Average Precision  (AP) @[ IoU=0.50:0.95 | area= large | maxDets=100 ] = 0.192\n",
            " Average Recall     (AR) @[ IoU=0.50:0.95 | area=   all | maxDets=  1 ] = 0.580\n",
            " Average Recall     (AR) @[ IoU=0.50:0.95 | area=   all | maxDets= 10 ] = 0.584\n",
            " Average Recall     (AR) @[ IoU=0.50:0.95 | area=   all | maxDets=100 ] = 0.594\n",
            " Average Recall     (AR) @[ IoU=0.50:0.95 | area= small | maxDets=100 ] = -1.000\n",
            " Average Recall     (AR) @[ IoU=0.50:0.95 | area=medium | maxDets=100 ] = -1.000\n",
            " Average Recall     (AR) @[ IoU=0.50:0.95 | area= large | maxDets=100 ] = 0.594\n",
            "Results saved to runs/train/exp1\n",
            "Epoch: 158 | mAP@0.5: 0.3320533611509015 | mAP@0.50:0.95: 0.19163213435574264\n",
            "\n",
            "     Epoch        lr  iou_loss  dfl_loss  cls_loss\n",
            "   159/199  0.0006795    0.9716         0     2.177: 100%|██████████| 4/4 [00:03<00:00,  1.30it/s]  \n",
            "\n",
            "     Epoch        lr  iou_loss  dfl_loss  cls_loss\n",
            "   160/199   0.000666    0.9744         0     2.156: 100%|██████████| 4/4 [00:03<00:00,  1.17it/s]  \n",
            "\n",
            "     Epoch        lr  iou_loss  dfl_loss  cls_loss\n",
            "   161/199  0.0006529     0.966         0     2.169: 100%|██████████| 4/4 [00:03<00:00,  1.21it/s]  \n",
            "Inferencing model in train datasets.: 100%|███████████████████████████| 1/1 [00:03<00:00,  3.10s/it]\n",
            "\n",
            "Evaluating speed.\n",
            "\n",
            "Evaluating mAP by pycocotools.\n",
            "Saving runs/train/exp1/predictions.json...\n",
            "loading annotations into memory...\n",
            "Done (t=0.01s)\n",
            "creating index...\n",
            "index created!\n",
            "Loading and preparing results...\n",
            "DONE (t=0.12s)\n",
            "creating index...\n",
            "index created!\n",
            "Running per image evaluation...\n",
            "Evaluate annotation type *bbox*\n",
            "DONE (t=0.36s).\n",
            "Accumulating evaluation results...\n",
            "DONE (t=0.19s).\n",
            " Average Precision  (AP) @[ IoU=0.50:0.95 | area=   all | maxDets=100 ] = 0.182\n",
            " Average Precision  (AP) @[ IoU=0.50      | area=   all | maxDets=100 ] = 0.348\n",
            " Average Precision  (AP) @[ IoU=0.75      | area=   all | maxDets=100 ] = 0.183\n",
            " Average Precision  (AP) @[ IoU=0.50:0.95 | area= small | maxDets=100 ] = -1.000\n",
            " Average Precision  (AP) @[ IoU=0.50:0.95 | area=medium | maxDets=100 ] = -1.000\n",
            " Average Precision  (AP) @[ IoU=0.50:0.95 | area= large | maxDets=100 ] = 0.182\n",
            " Average Recall     (AR) @[ IoU=0.50:0.95 | area=   all | maxDets=  1 ] = 0.616\n",
            " Average Recall     (AR) @[ IoU=0.50:0.95 | area=   all | maxDets= 10 ] = 0.630\n",
            " Average Recall     (AR) @[ IoU=0.50:0.95 | area=   all | maxDets=100 ] = 0.630\n",
            " Average Recall     (AR) @[ IoU=0.50:0.95 | area= small | maxDets=100 ] = -1.000\n",
            " Average Recall     (AR) @[ IoU=0.50:0.95 | area=medium | maxDets=100 ] = -1.000\n",
            " Average Recall     (AR) @[ IoU=0.50:0.95 | area= large | maxDets=100 ] = 0.630\n",
            "Results saved to runs/train/exp1\n",
            "Epoch: 161 | mAP@0.5: 0.3480010725173383 | mAP@0.50:0.95: 0.1823786107916246\n",
            "\n",
            "     Epoch        lr  iou_loss  dfl_loss  cls_loss\n",
            "   162/199    0.00064     1.009         0     2.206: 100%|██████████| 4/4 [00:03<00:00,  1.22it/s]  \n",
            "\n",
            "     Epoch        lr  iou_loss  dfl_loss  cls_loss\n",
            "   163/199  0.0006275     0.953         0     2.179: 100%|██████████| 4/4 [00:03<00:00,  1.28it/s]  \n",
            "\n",
            "     Epoch        lr  iou_loss  dfl_loss  cls_loss\n",
            "   164/199  0.0006152    0.9608         0     2.171: 100%|██████████| 4/4 [00:03<00:00,  1.24it/s]  \n",
            "Inferencing model in train datasets.: 100%|███████████████████████████| 1/1 [00:04<00:00,  4.69s/it]\n",
            "\n",
            "Evaluating speed.\n",
            "\n",
            "Evaluating mAP by pycocotools.\n",
            "Saving runs/train/exp1/predictions.json...\n",
            "loading annotations into memory...\n",
            "Done (t=0.00s)\n",
            "creating index...\n",
            "index created!\n",
            "Loading and preparing results...\n",
            "DONE (t=1.01s)\n",
            "creating index...\n",
            "index created!\n",
            "Running per image evaluation...\n",
            "Evaluate annotation type *bbox*\n",
            "DONE (t=0.73s).\n",
            "Accumulating evaluation results...\n",
            "DONE (t=0.16s).\n",
            " Average Precision  (AP) @[ IoU=0.50:0.95 | area=   all | maxDets=100 ] = 0.181\n",
            " Average Precision  (AP) @[ IoU=0.50      | area=   all | maxDets=100 ] = 0.323\n",
            " Average Precision  (AP) @[ IoU=0.75      | area=   all | maxDets=100 ] = 0.177\n",
            " Average Precision  (AP) @[ IoU=0.50:0.95 | area= small | maxDets=100 ] = -1.000\n",
            " Average Precision  (AP) @[ IoU=0.50:0.95 | area=medium | maxDets=100 ] = -1.000\n",
            " Average Precision  (AP) @[ IoU=0.50:0.95 | area= large | maxDets=100 ] = 0.181\n",
            " Average Recall     (AR) @[ IoU=0.50:0.95 | area=   all | maxDets=  1 ] = 0.622\n",
            " Average Recall     (AR) @[ IoU=0.50:0.95 | area=   all | maxDets= 10 ] = 0.635\n",
            " Average Recall     (AR) @[ IoU=0.50:0.95 | area=   all | maxDets=100 ] = 0.643\n",
            " Average Recall     (AR) @[ IoU=0.50:0.95 | area= small | maxDets=100 ] = -1.000\n",
            " Average Recall     (AR) @[ IoU=0.50:0.95 | area=medium | maxDets=100 ] = -1.000\n",
            " Average Recall     (AR) @[ IoU=0.50:0.95 | area= large | maxDets=100 ] = 0.643\n",
            "Results saved to runs/train/exp1\n",
            "Epoch: 164 | mAP@0.5: 0.3230600396453272 | mAP@0.50:0.95: 0.18147394885541895\n",
            "\n",
            "     Epoch        lr  iou_loss  dfl_loss  cls_loss\n",
            "   165/199  0.0006032     0.967         0     2.178: 100%|██████████| 4/4 [00:03<00:00,  1.24it/s]  \n",
            "\n",
            "     Epoch        lr  iou_loss  dfl_loss  cls_loss\n",
            "   166/199  0.0005915    0.9816         0     2.181: 100%|██████████| 4/4 [00:03<00:00,  1.24it/s]  \n",
            "\n",
            "     Epoch        lr  iou_loss  dfl_loss  cls_loss\n",
            "   167/199  0.0005801    0.9829         0     2.169: 100%|██████████| 4/4 [00:03<00:00,  1.21it/s]  \n",
            "Inferencing model in train datasets.: 100%|███████████████████████████| 1/1 [00:03<00:00,  3.41s/it]\n",
            "\n",
            "Evaluating speed.\n",
            "\n",
            "Evaluating mAP by pycocotools.\n",
            "Saving runs/train/exp1/predictions.json...\n",
            "loading annotations into memory...\n",
            "Done (t=0.00s)\n",
            "creating index...\n",
            "index created!\n",
            "Loading and preparing results...\n",
            "DONE (t=0.09s)\n",
            "creating index...\n",
            "index created!\n",
            "Running per image evaluation...\n",
            "Evaluate annotation type *bbox*\n",
            "DONE (t=0.42s).\n",
            "Accumulating evaluation results...\n",
            "DONE (t=0.17s).\n",
            " Average Precision  (AP) @[ IoU=0.50:0.95 | area=   all | maxDets=100 ] = 0.172\n",
            " Average Precision  (AP) @[ IoU=0.50      | area=   all | maxDets=100 ] = 0.326\n",
            " Average Precision  (AP) @[ IoU=0.75      | area=   all | maxDets=100 ] = 0.176\n",
            " Average Precision  (AP) @[ IoU=0.50:0.95 | area= small | maxDets=100 ] = -1.000\n",
            " Average Precision  (AP) @[ IoU=0.50:0.95 | area=medium | maxDets=100 ] = -1.000\n",
            " Average Precision  (AP) @[ IoU=0.50:0.95 | area= large | maxDets=100 ] = 0.172\n",
            " Average Recall     (AR) @[ IoU=0.50:0.95 | area=   all | maxDets=  1 ] = 0.596\n",
            " Average Recall     (AR) @[ IoU=0.50:0.95 | area=   all | maxDets= 10 ] = 0.618\n",
            " Average Recall     (AR) @[ IoU=0.50:0.95 | area=   all | maxDets=100 ] = 0.630\n",
            " Average Recall     (AR) @[ IoU=0.50:0.95 | area= small | maxDets=100 ] = -1.000\n",
            " Average Recall     (AR) @[ IoU=0.50:0.95 | area=medium | maxDets=100 ] = -1.000\n",
            " Average Recall     (AR) @[ IoU=0.50:0.95 | area= large | maxDets=100 ] = 0.630\n",
            "Results saved to runs/train/exp1\n",
            "Epoch: 167 | mAP@0.5: 0.3257166543527311 | mAP@0.50:0.95: 0.17195016666746935\n",
            "\n",
            "     Epoch        lr  iou_loss  dfl_loss  cls_loss\n",
            "   168/199   0.000569     1.001         0     2.172: 100%|██████████| 4/4 [00:03<00:00,  1.19it/s]  \n",
            "\n",
            "     Epoch        lr  iou_loss  dfl_loss  cls_loss\n",
            "   169/199  0.0005582     1.008         0     2.199: 100%|██████████| 4/4 [00:04<00:00,  1.01s/it]  \n",
            "\n",
            "     Epoch        lr  iou_loss  dfl_loss  cls_loss\n",
            "   170/199  0.0005477    0.9895         0     2.194: 100%|██████████| 4/4 [00:03<00:00,  1.17it/s]  \n",
            "Inferencing model in train datasets.: 100%|███████████████████████████| 1/1 [00:04<00:00,  4.10s/it]\n",
            "\n",
            "Evaluating speed.\n",
            "\n",
            "Evaluating mAP by pycocotools.\n",
            "Saving runs/train/exp1/predictions.json...\n",
            "loading annotations into memory...\n",
            "Done (t=0.01s)\n",
            "creating index...\n",
            "index created!\n",
            "Loading and preparing results...\n",
            "DONE (t=0.08s)\n",
            "creating index...\n",
            "index created!\n",
            "Running per image evaluation...\n",
            "Evaluate annotation type *bbox*\n",
            "DONE (t=0.43s).\n",
            "Accumulating evaluation results...\n",
            "DONE (t=0.24s).\n",
            " Average Precision  (AP) @[ IoU=0.50:0.95 | area=   all | maxDets=100 ] = 0.185\n",
            " Average Precision  (AP) @[ IoU=0.50      | area=   all | maxDets=100 ] = 0.347\n",
            " Average Precision  (AP) @[ IoU=0.75      | area=   all | maxDets=100 ] = 0.185\n",
            " Average Precision  (AP) @[ IoU=0.50:0.95 | area= small | maxDets=100 ] = -1.000\n",
            " Average Precision  (AP) @[ IoU=0.50:0.95 | area=medium | maxDets=100 ] = -1.000\n",
            " Average Precision  (AP) @[ IoU=0.50:0.95 | area= large | maxDets=100 ] = 0.185\n",
            " Average Recall     (AR) @[ IoU=0.50:0.95 | area=   all | maxDets=  1 ] = 0.621\n",
            " Average Recall     (AR) @[ IoU=0.50:0.95 | area=   all | maxDets= 10 ] = 0.641\n",
            " Average Recall     (AR) @[ IoU=0.50:0.95 | area=   all | maxDets=100 ] = 0.652\n",
            " Average Recall     (AR) @[ IoU=0.50:0.95 | area= small | maxDets=100 ] = -1.000\n",
            " Average Recall     (AR) @[ IoU=0.50:0.95 | area=medium | maxDets=100 ] = -1.000\n",
            " Average Recall     (AR) @[ IoU=0.50:0.95 | area= large | maxDets=100 ] = 0.652\n",
            "Results saved to runs/train/exp1\n",
            "Epoch: 170 | mAP@0.5: 0.3472973691196047 | mAP@0.50:0.95: 0.18498237933315084\n",
            "\n",
            "     Epoch        lr  iou_loss  dfl_loss  cls_loss\n",
            "   171/199  0.0005375     0.971         0      2.16: 100%|██████████| 4/4 [00:03<00:00,  1.30it/s]  \n",
            "\n",
            "     Epoch        lr  iou_loss  dfl_loss  cls_loss\n",
            "   172/199  0.0005276    0.9745         0     2.188: 100%|██████████| 4/4 [00:03<00:00,  1.15it/s]  \n",
            "\n",
            "     Epoch        lr  iou_loss  dfl_loss  cls_loss\n",
            "   173/199   0.000518    0.9954         0     2.182: 100%|██████████| 4/4 [00:03<00:00,  1.25it/s]  \n",
            "Inferencing model in train datasets.: 100%|███████████████████████████| 1/1 [00:02<00:00,  2.85s/it]\n",
            "\n",
            "Evaluating speed.\n",
            "\n",
            "Evaluating mAP by pycocotools.\n",
            "Saving runs/train/exp1/predictions.json...\n",
            "loading annotations into memory...\n",
            "Done (t=0.00s)\n",
            "creating index...\n",
            "index created!\n",
            "Loading and preparing results...\n",
            "DONE (t=0.07s)\n",
            "creating index...\n",
            "index created!\n",
            "Running per image evaluation...\n",
            "Evaluate annotation type *bbox*\n",
            "DONE (t=0.39s).\n",
            "Accumulating evaluation results...\n",
            "DONE (t=0.29s).\n",
            " Average Precision  (AP) @[ IoU=0.50:0.95 | area=   all | maxDets=100 ] = 0.182\n",
            " Average Precision  (AP) @[ IoU=0.50      | area=   all | maxDets=100 ] = 0.318\n",
            " Average Precision  (AP) @[ IoU=0.75      | area=   all | maxDets=100 ] = 0.208\n",
            " Average Precision  (AP) @[ IoU=0.50:0.95 | area= small | maxDets=100 ] = -1.000\n",
            " Average Precision  (AP) @[ IoU=0.50:0.95 | area=medium | maxDets=100 ] = -1.000\n",
            " Average Precision  (AP) @[ IoU=0.50:0.95 | area= large | maxDets=100 ] = 0.182\n",
            " Average Recall     (AR) @[ IoU=0.50:0.95 | area=   all | maxDets=  1 ] = 0.624\n",
            " Average Recall     (AR) @[ IoU=0.50:0.95 | area=   all | maxDets= 10 ] = 0.637\n",
            " Average Recall     (AR) @[ IoU=0.50:0.95 | area=   all | maxDets=100 ] = 0.643\n",
            " Average Recall     (AR) @[ IoU=0.50:0.95 | area= small | maxDets=100 ] = -1.000\n",
            " Average Recall     (AR) @[ IoU=0.50:0.95 | area=medium | maxDets=100 ] = -1.000\n",
            " Average Recall     (AR) @[ IoU=0.50:0.95 | area= large | maxDets=100 ] = 0.643\n",
            "Results saved to runs/train/exp1\n",
            "Epoch: 173 | mAP@0.5: 0.318459323152364 | mAP@0.50:0.95: 0.18182173352333422\n",
            "\n",
            "     Epoch        lr  iou_loss  dfl_loss  cls_loss\n",
            "   174/199  0.0005087     0.964         0     2.167: 100%|██████████| 4/4 [00:03<00:00,  1.22it/s]  \n",
            "\n",
            "     Epoch        lr  iou_loss  dfl_loss  cls_loss\n",
            "   175/199  0.0004998    0.9867         0     2.194: 100%|██████████| 4/4 [00:03<00:00,  1.24it/s]  \n",
            "\n",
            "     Epoch        lr  iou_loss  dfl_loss  cls_loss\n",
            "   176/199  0.0004912    0.9117         0     2.152: 100%|██████████| 4/4 [00:04<00:00,  1.23s/it]  \n",
            "Inferencing model in train datasets.: 100%|███████████████████████████| 1/1 [00:02<00:00,  2.82s/it]\n",
            "\n",
            "Evaluating speed.\n",
            "\n",
            "Evaluating mAP by pycocotools.\n",
            "Saving runs/train/exp1/predictions.json...\n",
            "loading annotations into memory...\n",
            "Done (t=0.00s)\n",
            "creating index...\n",
            "index created!\n",
            "Loading and preparing results...\n",
            "DONE (t=0.56s)\n",
            "creating index...\n",
            "index created!\n",
            "Running per image evaluation...\n",
            "Evaluate annotation type *bbox*\n",
            "DONE (t=0.51s).\n",
            "Accumulating evaluation results...\n",
            "DONE (t=0.17s).\n",
            " Average Precision  (AP) @[ IoU=0.50:0.95 | area=   all | maxDets=100 ] = 0.185\n",
            " Average Precision  (AP) @[ IoU=0.50      | area=   all | maxDets=100 ] = 0.321\n",
            " Average Precision  (AP) @[ IoU=0.75      | area=   all | maxDets=100 ] = 0.184\n",
            " Average Precision  (AP) @[ IoU=0.50:0.95 | area= small | maxDets=100 ] = -1.000\n",
            " Average Precision  (AP) @[ IoU=0.50:0.95 | area=medium | maxDets=100 ] = -1.000\n",
            " Average Precision  (AP) @[ IoU=0.50:0.95 | area= large | maxDets=100 ] = 0.185\n",
            " Average Recall     (AR) @[ IoU=0.50:0.95 | area=   all | maxDets=  1 ] = 0.618\n",
            " Average Recall     (AR) @[ IoU=0.50:0.95 | area=   all | maxDets= 10 ] = 0.632\n",
            " Average Recall     (AR) @[ IoU=0.50:0.95 | area=   all | maxDets=100 ] = 0.648\n",
            " Average Recall     (AR) @[ IoU=0.50:0.95 | area= small | maxDets=100 ] = -1.000\n",
            " Average Recall     (AR) @[ IoU=0.50:0.95 | area=medium | maxDets=100 ] = -1.000\n",
            " Average Recall     (AR) @[ IoU=0.50:0.95 | area= large | maxDets=100 ] = 0.648\n",
            "Results saved to runs/train/exp1\n",
            "Epoch: 176 | mAP@0.5: 0.32141620452297714 | mAP@0.50:0.95: 0.18457482371955009\n",
            "\n",
            "     Epoch        lr  iou_loss  dfl_loss  cls_loss\n",
            "   177/199  0.0004829    0.9446         0     2.167: 100%|██████████| 4/4 [00:03<00:00,  1.26it/s]  \n",
            "\n",
            "     Epoch        lr  iou_loss  dfl_loss  cls_loss\n",
            "   178/199  0.0004749    0.9439         0     2.156: 100%|██████████| 4/4 [00:03<00:00,  1.23it/s]  \n",
            "\n",
            "     Epoch        lr  iou_loss  dfl_loss  cls_loss\n",
            "   179/199  0.0004672    0.9532         0     2.156: 100%|██████████| 4/4 [00:03<00:00,  1.28it/s]  \n",
            "Inferencing model in train datasets.: 100%|███████████████████████████| 1/1 [00:04<00:00,  4.30s/it]\n",
            "\n",
            "Evaluating speed.\n",
            "\n",
            "Evaluating mAP by pycocotools.\n",
            "Saving runs/train/exp1/predictions.json...\n",
            "loading annotations into memory...\n",
            "Done (t=0.02s)\n",
            "creating index...\n",
            "index created!\n",
            "Loading and preparing results...\n",
            "DONE (t=0.23s)\n",
            "creating index...\n",
            "index created!\n",
            "Running per image evaluation...\n",
            "Evaluate annotation type *bbox*\n",
            "DONE (t=1.18s).\n",
            "Accumulating evaluation results...\n",
            "DONE (t=0.13s).\n",
            " Average Precision  (AP) @[ IoU=0.50:0.95 | area=   all | maxDets=100 ] = 0.192\n",
            " Average Precision  (AP) @[ IoU=0.50      | area=   all | maxDets=100 ] = 0.346\n",
            " Average Precision  (AP) @[ IoU=0.75      | area=   all | maxDets=100 ] = 0.177\n",
            " Average Precision  (AP) @[ IoU=0.50:0.95 | area= small | maxDets=100 ] = -1.000\n",
            " Average Precision  (AP) @[ IoU=0.50:0.95 | area=medium | maxDets=100 ] = -1.000\n",
            " Average Precision  (AP) @[ IoU=0.50:0.95 | area= large | maxDets=100 ] = 0.192\n",
            " Average Recall     (AR) @[ IoU=0.50:0.95 | area=   all | maxDets=  1 ] = 0.589\n",
            " Average Recall     (AR) @[ IoU=0.50:0.95 | area=   all | maxDets= 10 ] = 0.609\n",
            " Average Recall     (AR) @[ IoU=0.50:0.95 | area=   all | maxDets=100 ] = 0.622\n",
            " Average Recall     (AR) @[ IoU=0.50:0.95 | area= small | maxDets=100 ] = -1.000\n",
            " Average Recall     (AR) @[ IoU=0.50:0.95 | area=medium | maxDets=100 ] = -1.000\n",
            " Average Recall     (AR) @[ IoU=0.50:0.95 | area= large | maxDets=100 ] = 0.622\n",
            "Results saved to runs/train/exp1\n",
            "Epoch: 179 | mAP@0.5: 0.34603330290438167 | mAP@0.50:0.95: 0.19194641841305943\n",
            "\n",
            "     Epoch        lr  iou_loss  dfl_loss  cls_loss\n",
            "   180/199  0.0004599    0.9367         0     2.162: 100%|██████████| 4/4 [00:03<00:00,  1.26it/s]  \n",
            "\n",
            "     Epoch        lr  iou_loss  dfl_loss  cls_loss\n",
            "   181/199  0.0004529    0.9658         0     2.185: 100%|██████████| 4/4 [00:03<00:00,  1.21it/s]  \n",
            "\n",
            "     Epoch        lr  iou_loss  dfl_loss  cls_loss\n",
            "   182/199  0.0004462    0.9319         0     2.149: 100%|██████████| 4/4 [00:03<00:00,  1.19it/s]  \n",
            "Inferencing model in train datasets.: 100%|███████████████████████████| 1/1 [00:02<00:00,  2.84s/it]\n",
            "\n",
            "Evaluating speed.\n",
            "\n",
            "Evaluating mAP by pycocotools.\n",
            "Saving runs/train/exp1/predictions.json...\n",
            "loading annotations into memory...\n",
            "Done (t=0.01s)\n",
            "creating index...\n",
            "index created!\n",
            "Loading and preparing results...\n",
            "DONE (t=0.51s)\n",
            "creating index...\n",
            "index created!\n",
            "Running per image evaluation...\n",
            "Evaluate annotation type *bbox*\n",
            "DONE (t=0.39s).\n",
            "Accumulating evaluation results...\n",
            "DONE (t=0.18s).\n",
            " Average Precision  (AP) @[ IoU=0.50:0.95 | area=   all | maxDets=100 ] = 0.220\n",
            " Average Precision  (AP) @[ IoU=0.50      | area=   all | maxDets=100 ] = 0.384\n",
            " Average Precision  (AP) @[ IoU=0.75      | area=   all | maxDets=100 ] = 0.241\n",
            " Average Precision  (AP) @[ IoU=0.50:0.95 | area= small | maxDets=100 ] = -1.000\n",
            " Average Precision  (AP) @[ IoU=0.50:0.95 | area=medium | maxDets=100 ] = -1.000\n",
            " Average Precision  (AP) @[ IoU=0.50:0.95 | area= large | maxDets=100 ] = 0.220\n",
            " Average Recall     (AR) @[ IoU=0.50:0.95 | area=   all | maxDets=  1 ] = 0.624\n",
            " Average Recall     (AR) @[ IoU=0.50:0.95 | area=   all | maxDets= 10 ] = 0.653\n",
            " Average Recall     (AR) @[ IoU=0.50:0.95 | area=   all | maxDets=100 ] = 0.657\n",
            " Average Recall     (AR) @[ IoU=0.50:0.95 | area= small | maxDets=100 ] = -1.000\n",
            " Average Recall     (AR) @[ IoU=0.50:0.95 | area=medium | maxDets=100 ] = -1.000\n",
            " Average Recall     (AR) @[ IoU=0.50:0.95 | area= large | maxDets=100 ] = 0.657\n",
            "Results saved to runs/train/exp1\n",
            "Epoch: 182 | mAP@0.5: 0.3841598697038101 | mAP@0.50:0.95: 0.21992333864430474\n",
            "\n",
            "     Epoch        lr  iou_loss  dfl_loss  cls_loss\n",
            "   183/199  0.0004399     0.952         0     2.164: 100%|██████████| 4/4 [00:03<00:00,  1.18it/s]  \n",
            "\n",
            "     Epoch        lr  iou_loss  dfl_loss  cls_loss\n",
            "   184/199  0.0004339    0.9564         0     2.182: 100%|██████████| 4/4 [00:03<00:00,  1.31it/s]  \n",
            "img record infomation path is:/content/drive/MyDrive/knee/yolov6/images/.train_cache.json\n",
            "Train: Final numbers of valid images: 122/ labels: 122. \n",
            "0.2s for dataset initialization.\n",
            "img record infomation path is:/content/drive/MyDrive/knee/yolov6/images/.valid_cache.json\n",
            "Convert to COCO format\n",
            "100% 48/48 [00:00<00:00, 68385.39it/s]\n",
            "Convert to COCO format finished. Resutls saved in /content/drive/MyDrive/knee/yolov6/annotations/instances_valid.json\n",
            "Val: Final numbers of valid images: 48/ labels: 48. \n",
            "0.1s for dataset initialization.\n",
            "\n",
            "     Epoch        lr  iou_loss  dfl_loss  cls_loss\n",
            "   185/199  0.0004282    0.8619         0     2.303: 100%|██████████| 4/4 [00:03<00:00,  1.16it/s]  \n",
            "Inferencing model in train datasets.: 100%|███████████████████████████| 1/1 [00:01<00:00,  1.78s/it]\n",
            "\n",
            "Evaluating speed.\n",
            "\n",
            "Evaluating mAP by pycocotools.\n",
            "Saving runs/train/exp1/predictions.json...\n",
            "loading annotations into memory...\n",
            "Done (t=0.00s)\n",
            "creating index...\n",
            "index created!\n",
            "Loading and preparing results...\n",
            "DONE (t=0.39s)\n",
            "creating index...\n",
            "index created!\n",
            "Running per image evaluation...\n",
            "Evaluate annotation type *bbox*\n",
            "DONE (t=0.17s).\n",
            "Accumulating evaluation results...\n",
            "DONE (t=0.07s).\n",
            " Average Precision  (AP) @[ IoU=0.50:0.95 | area=   all | maxDets=100 ] = 0.193\n",
            " Average Precision  (AP) @[ IoU=0.50      | area=   all | maxDets=100 ] = 0.396\n",
            " Average Precision  (AP) @[ IoU=0.75      | area=   all | maxDets=100 ] = 0.189\n",
            " Average Precision  (AP) @[ IoU=0.50:0.95 | area= small | maxDets=100 ] = -1.000\n",
            " Average Precision  (AP) @[ IoU=0.50:0.95 | area=medium | maxDets=100 ] = -1.000\n",
            " Average Precision  (AP) @[ IoU=0.50:0.95 | area= large | maxDets=100 ] = 0.193\n",
            " Average Recall     (AR) @[ IoU=0.50:0.95 | area=   all | maxDets=  1 ] = 0.562\n",
            " Average Recall     (AR) @[ IoU=0.50:0.95 | area=   all | maxDets= 10 ] = 0.594\n",
            " Average Recall     (AR) @[ IoU=0.50:0.95 | area=   all | maxDets=100 ] = 0.603\n",
            " Average Recall     (AR) @[ IoU=0.50:0.95 | area= small | maxDets=100 ] = -1.000\n",
            " Average Recall     (AR) @[ IoU=0.50:0.95 | area=medium | maxDets=100 ] = -1.000\n",
            " Average Recall     (AR) @[ IoU=0.50:0.95 | area= large | maxDets=100 ] = 0.603\n",
            "Results saved to runs/train/exp1\n",
            "Epoch: 185 | mAP@0.5: 0.39557686144518955 | mAP@0.50:0.95: 0.19314470576990406\n",
            "\n",
            "     Epoch        lr  iou_loss  dfl_loss  cls_loss\n",
            "   186/199  0.0004229     0.869         0     2.261: 100%|██████████| 4/4 [00:02<00:00,  1.41it/s]  \n",
            "\n",
            "     Epoch        lr  iou_loss  dfl_loss  cls_loss\n",
            "   187/199  0.0004179    0.8587         0     2.224: 100%|██████████| 4/4 [00:03<00:00,  1.25it/s]  \n",
            "\n",
            "     Epoch        lr  iou_loss  dfl_loss  cls_loss\n",
            "   188/199  0.0004133    0.8205         0     2.216: 100%|██████████| 4/4 [00:03<00:00,  1.30it/s]  \n",
            "Inferencing model in train datasets.: 100%|███████████████████████████| 1/1 [00:01<00:00,  1.61s/it]\n",
            "\n",
            "Evaluating speed.\n",
            "\n",
            "Evaluating mAP by pycocotools.\n",
            "Saving runs/train/exp1/predictions.json...\n",
            "loading annotations into memory...\n",
            "Done (t=0.00s)\n",
            "creating index...\n",
            "index created!\n",
            "Loading and preparing results...\n",
            "DONE (t=0.04s)\n",
            "creating index...\n",
            "index created!\n",
            "Running per image evaluation...\n",
            "Evaluate annotation type *bbox*\n",
            "DONE (t=0.18s).\n",
            "Accumulating evaluation results...\n",
            "DONE (t=0.07s).\n",
            " Average Precision  (AP) @[ IoU=0.50:0.95 | area=   all | maxDets=100 ] = 0.159\n",
            " Average Precision  (AP) @[ IoU=0.50      | area=   all | maxDets=100 ] = 0.299\n",
            " Average Precision  (AP) @[ IoU=0.75      | area=   all | maxDets=100 ] = 0.167\n",
            " Average Precision  (AP) @[ IoU=0.50:0.95 | area= small | maxDets=100 ] = -1.000\n",
            " Average Precision  (AP) @[ IoU=0.50:0.95 | area=medium | maxDets=100 ] = -1.000\n",
            " Average Precision  (AP) @[ IoU=0.50:0.95 | area= large | maxDets=100 ] = 0.159\n",
            " Average Recall     (AR) @[ IoU=0.50:0.95 | area=   all | maxDets=  1 ] = 0.580\n",
            " Average Recall     (AR) @[ IoU=0.50:0.95 | area=   all | maxDets= 10 ] = 0.616\n",
            " Average Recall     (AR) @[ IoU=0.50:0.95 | area=   all | maxDets=100 ] = 0.616\n",
            " Average Recall     (AR) @[ IoU=0.50:0.95 | area= small | maxDets=100 ] = -1.000\n",
            " Average Recall     (AR) @[ IoU=0.50:0.95 | area=medium | maxDets=100 ] = -1.000\n",
            " Average Recall     (AR) @[ IoU=0.50:0.95 | area= large | maxDets=100 ] = 0.616\n",
            "Results saved to runs/train/exp1\n",
            "Epoch: 188 | mAP@0.5: 0.29929878152269995 | mAP@0.50:0.95: 0.15942783965556875\n",
            "\n",
            "     Epoch        lr  iou_loss  dfl_loss  cls_loss\n",
            "   189/199  0.0004089    0.8433         0     2.176: 100%|██████████| 4/4 [00:02<00:00,  1.41it/s]  \n",
            "\n",
            "     Epoch        lr  iou_loss  dfl_loss  cls_loss\n",
            "   190/199   0.000405    0.8703         0     2.176: 100%|██████████| 4/4 [00:03<00:00,  1.26it/s]  \n",
            "\n",
            "     Epoch        lr  iou_loss  dfl_loss  cls_loss\n",
            "   191/199  0.0004013    0.9412         0     2.184: 100%|██████████| 4/4 [00:02<00:00,  1.43it/s]  \n",
            "Inferencing model in train datasets.: 100%|███████████████████████████| 1/1 [00:01<00:00,  1.63s/it]\n",
            "\n",
            "Evaluating speed.\n",
            "\n",
            "Evaluating mAP by pycocotools.\n",
            "Saving runs/train/exp1/predictions.json...\n",
            "loading annotations into memory...\n",
            "Done (t=0.00s)\n",
            "creating index...\n",
            "index created!\n",
            "Loading and preparing results...\n",
            "DONE (t=0.04s)\n",
            "creating index...\n",
            "index created!\n",
            "Running per image evaluation...\n",
            "Evaluate annotation type *bbox*\n",
            "DONE (t=0.19s).\n",
            "Accumulating evaluation results...\n",
            "DONE (t=0.09s).\n",
            " Average Precision  (AP) @[ IoU=0.50:0.95 | area=   all | maxDets=100 ] = 0.187\n",
            " Average Precision  (AP) @[ IoU=0.50      | area=   all | maxDets=100 ] = 0.330\n",
            " Average Precision  (AP) @[ IoU=0.75      | area=   all | maxDets=100 ] = 0.186\n",
            " Average Precision  (AP) @[ IoU=0.50:0.95 | area= small | maxDets=100 ] = -1.000\n",
            " Average Precision  (AP) @[ IoU=0.50:0.95 | area=medium | maxDets=100 ] = -1.000\n",
            " Average Precision  (AP) @[ IoU=0.50:0.95 | area= large | maxDets=100 ] = 0.187\n",
            " Average Recall     (AR) @[ IoU=0.50:0.95 | area=   all | maxDets=  1 ] = 0.602\n",
            " Average Recall     (AR) @[ IoU=0.50:0.95 | area=   all | maxDets= 10 ] = 0.623\n",
            " Average Recall     (AR) @[ IoU=0.50:0.95 | area=   all | maxDets=100 ] = 0.636\n",
            " Average Recall     (AR) @[ IoU=0.50:0.95 | area= small | maxDets=100 ] = -1.000\n",
            " Average Recall     (AR) @[ IoU=0.50:0.95 | area=medium | maxDets=100 ] = -1.000\n",
            " Average Recall     (AR) @[ IoU=0.50:0.95 | area= large | maxDets=100 ] = 0.636\n",
            "Results saved to runs/train/exp1\n",
            "Epoch: 191 | mAP@0.5: 0.3302776738129494 | mAP@0.50:0.95: 0.18698522710942062\n",
            "\n",
            "     Epoch        lr  iou_loss  dfl_loss  cls_loss\n",
            "   192/199   0.000398    0.8405         0     2.189: 100%|██████████| 4/4 [00:03<00:00,  1.32it/s]  \n",
            "\n",
            "     Epoch        lr  iou_loss  dfl_loss  cls_loss\n",
            "   193/199  0.0003951    0.7889         0     2.122: 100%|██████████| 4/4 [00:03<00:00,  1.29it/s]  \n",
            "\n",
            "     Epoch        lr  iou_loss  dfl_loss  cls_loss\n",
            "   194/199  0.0003925    0.7913         0     2.144: 100%|██████████| 4/4 [00:02<00:00,  1.42it/s]  \n",
            "Inferencing model in train datasets.: 100%|███████████████████████████| 1/1 [00:01<00:00,  1.64s/it]\n",
            "\n",
            "Evaluating speed.\n",
            "\n",
            "Evaluating mAP by pycocotools.\n",
            "Saving runs/train/exp1/predictions.json...\n",
            "loading annotations into memory...\n",
            "Done (t=0.00s)\n",
            "creating index...\n",
            "index created!\n",
            "Loading and preparing results...\n",
            "DONE (t=0.29s)\n",
            "creating index...\n",
            "index created!\n",
            "Running per image evaluation...\n",
            "Evaluate annotation type *bbox*\n",
            "DONE (t=0.16s).\n",
            "Accumulating evaluation results...\n",
            "DONE (t=0.07s).\n",
            " Average Precision  (AP) @[ IoU=0.50:0.95 | area=   all | maxDets=100 ] = 0.192\n",
            " Average Precision  (AP) @[ IoU=0.50      | area=   all | maxDets=100 ] = 0.380\n",
            " Average Precision  (AP) @[ IoU=0.75      | area=   all | maxDets=100 ] = 0.194\n",
            " Average Precision  (AP) @[ IoU=0.50:0.95 | area= small | maxDets=100 ] = -1.000\n",
            " Average Precision  (AP) @[ IoU=0.50:0.95 | area=medium | maxDets=100 ] = -1.000\n",
            " Average Precision  (AP) @[ IoU=0.50:0.95 | area= large | maxDets=100 ] = 0.192\n",
            " Average Recall     (AR) @[ IoU=0.50:0.95 | area=   all | maxDets=  1 ] = 0.605\n",
            " Average Recall     (AR) @[ IoU=0.50:0.95 | area=   all | maxDets= 10 ] = 0.631\n",
            " Average Recall     (AR) @[ IoU=0.50:0.95 | area=   all | maxDets=100 ] = 0.635\n",
            " Average Recall     (AR) @[ IoU=0.50:0.95 | area= small | maxDets=100 ] = -1.000\n",
            " Average Recall     (AR) @[ IoU=0.50:0.95 | area=medium | maxDets=100 ] = -1.000\n",
            " Average Recall     (AR) @[ IoU=0.50:0.95 | area= large | maxDets=100 ] = 0.635\n",
            "Results saved to runs/train/exp1\n",
            "Epoch: 194 | mAP@0.5: 0.3796458998575376 | mAP@0.50:0.95: 0.19248544477177093\n",
            "\n",
            "     Epoch        lr  iou_loss  dfl_loss  cls_loss\n",
            "   195/199  0.0003902    0.7857         0     2.161: 100%|██████████| 4/4 [00:03<00:00,  1.31it/s]  \n",
            "\n",
            "     Epoch        lr  iou_loss  dfl_loss  cls_loss\n",
            "   196/199  0.0003883    0.8145         0     2.145: 100%|██████████| 4/4 [00:02<00:00,  1.41it/s]  \n",
            "\n",
            "     Epoch        lr  iou_loss  dfl_loss  cls_loss\n",
            "   197/199  0.0003868     0.833         0     2.148: 100%|██████████| 4/4 [00:02<00:00,  1.43it/s]  \n",
            "Inferencing model in train datasets.: 100%|███████████████████████████| 1/1 [00:01<00:00,  1.68s/it]\n",
            "\n",
            "Evaluating speed.\n",
            "\n",
            "Evaluating mAP by pycocotools.\n",
            "Saving runs/train/exp1/predictions.json...\n",
            "loading annotations into memory...\n",
            "Done (t=0.00s)\n",
            "creating index...\n",
            "index created!\n",
            "Loading and preparing results...\n",
            "DONE (t=0.05s)\n",
            "creating index...\n",
            "index created!\n",
            "Running per image evaluation...\n",
            "Evaluate annotation type *bbox*\n",
            "DONE (t=0.20s).\n",
            "Accumulating evaluation results...\n",
            "DONE (t=0.08s).\n",
            " Average Precision  (AP) @[ IoU=0.50:0.95 | area=   all | maxDets=100 ] = 0.175\n",
            " Average Precision  (AP) @[ IoU=0.50      | area=   all | maxDets=100 ] = 0.372\n",
            " Average Precision  (AP) @[ IoU=0.75      | area=   all | maxDets=100 ] = 0.161\n",
            " Average Precision  (AP) @[ IoU=0.50:0.95 | area= small | maxDets=100 ] = -1.000\n",
            " Average Precision  (AP) @[ IoU=0.50:0.95 | area=medium | maxDets=100 ] = -1.000\n",
            " Average Precision  (AP) @[ IoU=0.50:0.95 | area= large | maxDets=100 ] = 0.175\n",
            " Average Recall     (AR) @[ IoU=0.50:0.95 | area=   all | maxDets=  1 ] = 0.519\n",
            " Average Recall     (AR) @[ IoU=0.50:0.95 | area=   all | maxDets= 10 ] = 0.554\n",
            " Average Recall     (AR) @[ IoU=0.50:0.95 | area=   all | maxDets=100 ] = 0.568\n",
            " Average Recall     (AR) @[ IoU=0.50:0.95 | area= small | maxDets=100 ] = -1.000\n",
            " Average Recall     (AR) @[ IoU=0.50:0.95 | area=medium | maxDets=100 ] = -1.000\n",
            " Average Recall     (AR) @[ IoU=0.50:0.95 | area= large | maxDets=100 ] = 0.568\n",
            "Results saved to runs/train/exp1\n",
            "Epoch: 197 | mAP@0.5: 0.37242447288470487 | mAP@0.50:0.95: 0.1745024667906702\n",
            "\n",
            "     Epoch        lr  iou_loss  dfl_loss  cls_loss\n",
            "   198/199  0.0003856    0.8017         0     2.143: 100%|██████████| 4/4 [00:03<00:00,  1.23it/s]  \n",
            "\n",
            "     Epoch        lr  iou_loss  dfl_loss  cls_loss\n",
            "   199/199  0.0003847    0.7907         0     2.132: 100%|██████████| 4/4 [00:02<00:00,  1.42it/s]  \n",
            "Inferencing model in train datasets.: 100%|███████████████████████████| 1/1 [00:01<00:00,  1.62s/it]\n",
            "\n",
            "Evaluating speed.\n",
            "\n",
            "Evaluating mAP by pycocotools.\n",
            "Saving runs/train/exp1/predictions.json...\n",
            "loading annotations into memory...\n",
            "Done (t=0.00s)\n",
            "creating index...\n",
            "index created!\n",
            "Loading and preparing results...\n",
            "DONE (t=0.04s)\n",
            "creating index...\n",
            "index created!\n",
            "Running per image evaluation...\n",
            "Evaluate annotation type *bbox*\n",
            "DONE (t=0.19s).\n",
            "Accumulating evaluation results...\n",
            "DONE (t=0.07s).\n",
            " Average Precision  (AP) @[ IoU=0.50:0.95 | area=   all | maxDets=100 ] = 0.171\n",
            " Average Precision  (AP) @[ IoU=0.50      | area=   all | maxDets=100 ] = 0.368\n",
            " Average Precision  (AP) @[ IoU=0.75      | area=   all | maxDets=100 ] = 0.141\n",
            " Average Precision  (AP) @[ IoU=0.50:0.95 | area= small | maxDets=100 ] = -1.000\n",
            " Average Precision  (AP) @[ IoU=0.50:0.95 | area=medium | maxDets=100 ] = -1.000\n",
            " Average Precision  (AP) @[ IoU=0.50:0.95 | area= large | maxDets=100 ] = 0.171\n",
            " Average Recall     (AR) @[ IoU=0.50:0.95 | area=   all | maxDets=  1 ] = 0.517\n",
            " Average Recall     (AR) @[ IoU=0.50:0.95 | area=   all | maxDets= 10 ] = 0.556\n",
            " Average Recall     (AR) @[ IoU=0.50:0.95 | area=   all | maxDets=100 ] = 0.558\n",
            " Average Recall     (AR) @[ IoU=0.50:0.95 | area= small | maxDets=100 ] = -1.000\n",
            " Average Recall     (AR) @[ IoU=0.50:0.95 | area=medium | maxDets=100 ] = -1.000\n",
            " Average Recall     (AR) @[ IoU=0.50:0.95 | area= large | maxDets=100 ] = 0.558\n",
            "Results saved to runs/train/exp1\n",
            "Epoch: 199 | mAP@0.5: 0.36755515880095424 | mAP@0.50:0.95: 0.17144014653076228\n",
            "\n",
            "Training completed in 0.440 hours.\n"
          ]
        }
      ],
      "source": [
        "!python tools/train.py --batch 32 --epochs 200 --conf configs/yolov6s_finetune.py --data /content/drive/MyDrive/knee/yolov6/data.yaml --fuse_ab --device 0"
      ]
    },
    {
      "cell_type": "code",
      "execution_count": null,
      "metadata": {
        "id": "ARNGTbmPSSxR"
      },
      "outputs": [],
      "source": [
        "p1 = 0.171\n",
        "r1 = 0.558\n",
        "mAP501 = 0.36"
      ]
    },
    {
      "cell_type": "markdown",
      "metadata": {
        "id": "irV9KbyCWr-w"
      },
      "source": [
        "**YoloV7**"
      ]
    },
    {
      "cell_type": "code",
      "source": [
        "%cd .."
      ],
      "metadata": {
        "colab": {
          "base_uri": "https://localhost:8080/"
        },
        "id": "6vtxdHMRvmrB",
        "outputId": "43a676df-cd08-4579-dbe5-b2767579da29"
      },
      "execution_count": null,
      "outputs": [
        {
          "output_type": "stream",
          "name": "stdout",
          "text": [
            "/content\n"
          ]
        }
      ]
    },
    {
      "cell_type": "code",
      "execution_count": null,
      "metadata": {
        "colab": {
          "base_uri": "https://localhost:8080/"
        },
        "id": "ML43bSujWtCf",
        "outputId": "47016d64-258a-4229-afce-d9dc1dd9923c"
      },
      "outputs": [
        {
          "output_type": "stream",
          "name": "stdout",
          "text": [
            "Cloning into 'yolov7'...\n",
            "remote: Enumerating objects: 1197, done.\u001b[K\n",
            "remote: Total 1197 (delta 0), reused 0 (delta 0), pack-reused 1197\u001b[K\n",
            "Receiving objects: 100% (1197/1197), 74.23 MiB | 32.03 MiB/s, done.\n",
            "Resolving deltas: 100% (519/519), done.\n"
          ]
        }
      ],
      "source": [
        "!git clone https://github.com/WongKinYiu/yolov7.git"
      ]
    },
    {
      "cell_type": "code",
      "execution_count": null,
      "metadata": {
        "colab": {
          "base_uri": "https://localhost:8080/"
        },
        "id": "PUVpj4AOXHVI",
        "outputId": "0597e67e-8292-47f1-9385-0ef2144518b6"
      },
      "outputs": [
        {
          "output_type": "stream",
          "name": "stdout",
          "text": [
            "/content/yolov7\n"
          ]
        }
      ],
      "source": [
        "%cd /content/yolov7/"
      ]
    },
    {
      "cell_type": "code",
      "execution_count": null,
      "metadata": {
        "colab": {
          "base_uri": "https://localhost:8080/",
          "height": 1000
        },
        "id": "Aec1NQAuXKP4",
        "outputId": "2f7f3261-fbd2-4138-c49f-0054dbe1cdd8"
      },
      "outputs": [
        {
          "output_type": "stream",
          "name": "stdout",
          "text": [
            "Requirement already satisfied: matplotlib>=3.2.2 in /usr/local/lib/python3.10/dist-packages (from -r requirements.txt (line 4)) (3.7.1)\n",
            "Collecting numpy<1.24.0,>=1.18.5 (from -r requirements.txt (line 5))\n",
            "  Downloading numpy-1.23.5-cp310-cp310-manylinux_2_17_x86_64.manylinux2014_x86_64.whl (17.1 MB)\n",
            "\u001b[2K     \u001b[90m━━━━━━━━━━━━━━━━━━━━━━━━━━━━━━━━━━━━━━━━\u001b[0m \u001b[32m17.1/17.1 MB\u001b[0m \u001b[31m39.7 MB/s\u001b[0m eta \u001b[36m0:00:00\u001b[0m\n",
            "\u001b[?25hRequirement already satisfied: opencv-python>=4.1.1 in /usr/local/lib/python3.10/dist-packages (from -r requirements.txt (line 6)) (4.8.0.76)\n",
            "Requirement already satisfied: Pillow>=7.1.2 in /usr/local/lib/python3.10/dist-packages (from -r requirements.txt (line 7)) (10.1.0)\n",
            "Requirement already satisfied: PyYAML>=5.3.1 in /usr/local/lib/python3.10/dist-packages (from -r requirements.txt (line 8)) (6.0.1)\n",
            "Requirement already satisfied: requests>=2.23.0 in /usr/local/lib/python3.10/dist-packages (from -r requirements.txt (line 9)) (2.31.0)\n",
            "Requirement already satisfied: scipy>=1.4.1 in /usr/local/lib/python3.10/dist-packages (from -r requirements.txt (line 10)) (1.11.4)\n",
            "Requirement already satisfied: torch!=1.12.0,>=1.7.0 in /usr/local/lib/python3.10/dist-packages (from -r requirements.txt (line 11)) (2.1.0+cu121)\n",
            "Requirement already satisfied: torchvision!=0.13.0,>=0.8.1 in /usr/local/lib/python3.10/dist-packages (from -r requirements.txt (line 12)) (0.16.0+cu121)\n",
            "Requirement already satisfied: tqdm>=4.41.0 in /usr/local/lib/python3.10/dist-packages (from -r requirements.txt (line 13)) (4.66.1)\n",
            "Requirement already satisfied: protobuf<4.21.3 in /usr/local/lib/python3.10/dist-packages (from -r requirements.txt (line 14)) (3.20.3)\n",
            "Requirement already satisfied: tensorboard>=2.4.1 in /usr/local/lib/python3.10/dist-packages (from -r requirements.txt (line 17)) (2.15.1)\n",
            "Requirement already satisfied: pandas>=1.1.4 in /usr/local/lib/python3.10/dist-packages (from -r requirements.txt (line 21)) (1.5.3)\n",
            "Requirement already satisfied: seaborn>=0.11.0 in /usr/local/lib/python3.10/dist-packages (from -r requirements.txt (line 22)) (0.12.2)\n",
            "Requirement already satisfied: ipython in /usr/local/lib/python3.10/dist-packages (from -r requirements.txt (line 34)) (7.34.0)\n",
            "Requirement already satisfied: psutil in /usr/local/lib/python3.10/dist-packages (from -r requirements.txt (line 35)) (5.9.5)\n",
            "Requirement already satisfied: thop in /usr/local/lib/python3.10/dist-packages (from -r requirements.txt (line 36)) (0.1.1.post2209072238)\n",
            "Requirement already satisfied: contourpy>=1.0.1 in /usr/local/lib/python3.10/dist-packages (from matplotlib>=3.2.2->-r requirements.txt (line 4)) (1.2.0)\n",
            "Requirement already satisfied: cycler>=0.10 in /usr/local/lib/python3.10/dist-packages (from matplotlib>=3.2.2->-r requirements.txt (line 4)) (0.12.1)\n",
            "Requirement already satisfied: fonttools>=4.22.0 in /usr/local/lib/python3.10/dist-packages (from matplotlib>=3.2.2->-r requirements.txt (line 4)) (4.46.0)\n",
            "Requirement already satisfied: kiwisolver>=1.0.1 in /usr/local/lib/python3.10/dist-packages (from matplotlib>=3.2.2->-r requirements.txt (line 4)) (1.4.5)\n",
            "Requirement already satisfied: packaging>=20.0 in /usr/local/lib/python3.10/dist-packages (from matplotlib>=3.2.2->-r requirements.txt (line 4)) (23.2)\n",
            "Requirement already satisfied: pyparsing>=2.3.1 in /usr/local/lib/python3.10/dist-packages (from matplotlib>=3.2.2->-r requirements.txt (line 4)) (3.1.1)\n",
            "Requirement already satisfied: python-dateutil>=2.7 in /usr/local/lib/python3.10/dist-packages (from matplotlib>=3.2.2->-r requirements.txt (line 4)) (2.8.2)\n",
            "Requirement already satisfied: charset-normalizer<4,>=2 in /usr/local/lib/python3.10/dist-packages (from requests>=2.23.0->-r requirements.txt (line 9)) (3.3.2)\n",
            "Requirement already satisfied: idna<4,>=2.5 in /usr/local/lib/python3.10/dist-packages (from requests>=2.23.0->-r requirements.txt (line 9)) (3.6)\n",
            "Requirement already satisfied: urllib3<3,>=1.21.1 in /usr/local/lib/python3.10/dist-packages (from requests>=2.23.0->-r requirements.txt (line 9)) (2.0.7)\n",
            "Requirement already satisfied: certifi>=2017.4.17 in /usr/local/lib/python3.10/dist-packages (from requests>=2.23.0->-r requirements.txt (line 9)) (2023.11.17)\n",
            "Requirement already satisfied: filelock in /usr/local/lib/python3.10/dist-packages (from torch!=1.12.0,>=1.7.0->-r requirements.txt (line 11)) (3.13.1)\n",
            "Requirement already satisfied: typing-extensions in /usr/local/lib/python3.10/dist-packages (from torch!=1.12.0,>=1.7.0->-r requirements.txt (line 11)) (4.5.0)\n",
            "Requirement already satisfied: sympy in /usr/local/lib/python3.10/dist-packages (from torch!=1.12.0,>=1.7.0->-r requirements.txt (line 11)) (1.12)\n",
            "Requirement already satisfied: networkx in /usr/local/lib/python3.10/dist-packages (from torch!=1.12.0,>=1.7.0->-r requirements.txt (line 11)) (3.2.1)\n",
            "Requirement already satisfied: jinja2 in /usr/local/lib/python3.10/dist-packages (from torch!=1.12.0,>=1.7.0->-r requirements.txt (line 11)) (3.1.2)\n",
            "Requirement already satisfied: fsspec in /usr/local/lib/python3.10/dist-packages (from torch!=1.12.0,>=1.7.0->-r requirements.txt (line 11)) (2023.6.0)\n",
            "Requirement already satisfied: triton==2.1.0 in /usr/local/lib/python3.10/dist-packages (from torch!=1.12.0,>=1.7.0->-r requirements.txt (line 11)) (2.1.0)\n",
            "Requirement already satisfied: absl-py>=0.4 in /usr/local/lib/python3.10/dist-packages (from tensorboard>=2.4.1->-r requirements.txt (line 17)) (1.4.0)\n",
            "Requirement already satisfied: grpcio>=1.48.2 in /usr/local/lib/python3.10/dist-packages (from tensorboard>=2.4.1->-r requirements.txt (line 17)) (1.60.0)\n",
            "Requirement already satisfied: google-auth<3,>=1.6.3 in /usr/local/lib/python3.10/dist-packages (from tensorboard>=2.4.1->-r requirements.txt (line 17)) (2.17.3)\n",
            "Requirement already satisfied: google-auth-oauthlib<2,>=0.5 in /usr/local/lib/python3.10/dist-packages (from tensorboard>=2.4.1->-r requirements.txt (line 17)) (1.2.0)\n",
            "Requirement already satisfied: markdown>=2.6.8 in /usr/local/lib/python3.10/dist-packages (from tensorboard>=2.4.1->-r requirements.txt (line 17)) (3.5.1)\n",
            "Requirement already satisfied: setuptools>=41.0.0 in /usr/local/lib/python3.10/dist-packages (from tensorboard>=2.4.1->-r requirements.txt (line 17)) (67.7.2)\n",
            "Requirement already satisfied: six>1.9 in /usr/local/lib/python3.10/dist-packages (from tensorboard>=2.4.1->-r requirements.txt (line 17)) (1.16.0)\n",
            "Requirement already satisfied: tensorboard-data-server<0.8.0,>=0.7.0 in /usr/local/lib/python3.10/dist-packages (from tensorboard>=2.4.1->-r requirements.txt (line 17)) (0.7.2)\n",
            "Requirement already satisfied: werkzeug>=1.0.1 in /usr/local/lib/python3.10/dist-packages (from tensorboard>=2.4.1->-r requirements.txt (line 17)) (3.0.1)\n",
            "Requirement already satisfied: pytz>=2020.1 in /usr/local/lib/python3.10/dist-packages (from pandas>=1.1.4->-r requirements.txt (line 21)) (2023.3.post1)\n",
            "Collecting jedi>=0.16 (from ipython->-r requirements.txt (line 34))\n",
            "  Downloading jedi-0.19.1-py2.py3-none-any.whl (1.6 MB)\n",
            "\u001b[2K     \u001b[90m━━━━━━━━━━━━━━━━━━━━━━━━━━━━━━━━━━━━━━━━\u001b[0m \u001b[32m1.6/1.6 MB\u001b[0m \u001b[31m62.4 MB/s\u001b[0m eta \u001b[36m0:00:00\u001b[0m\n",
            "\u001b[?25hRequirement already satisfied: decorator in /usr/local/lib/python3.10/dist-packages (from ipython->-r requirements.txt (line 34)) (4.4.2)\n",
            "Requirement already satisfied: pickleshare in /usr/local/lib/python3.10/dist-packages (from ipython->-r requirements.txt (line 34)) (0.7.5)\n",
            "Requirement already satisfied: traitlets>=4.2 in /usr/local/lib/python3.10/dist-packages (from ipython->-r requirements.txt (line 34)) (5.7.1)\n",
            "Requirement already satisfied: prompt-toolkit!=3.0.0,!=3.0.1,<3.1.0,>=2.0.0 in /usr/local/lib/python3.10/dist-packages (from ipython->-r requirements.txt (line 34)) (3.0.43)\n",
            "Requirement already satisfied: pygments in /usr/local/lib/python3.10/dist-packages (from ipython->-r requirements.txt (line 34)) (2.16.1)\n",
            "Requirement already satisfied: backcall in /usr/local/lib/python3.10/dist-packages (from ipython->-r requirements.txt (line 34)) (0.2.0)\n",
            "Requirement already satisfied: matplotlib-inline in /usr/local/lib/python3.10/dist-packages (from ipython->-r requirements.txt (line 34)) (0.1.6)\n",
            "Requirement already satisfied: pexpect>4.3 in /usr/local/lib/python3.10/dist-packages (from ipython->-r requirements.txt (line 34)) (4.9.0)\n",
            "Requirement already satisfied: cachetools<6.0,>=2.0.0 in /usr/local/lib/python3.10/dist-packages (from google-auth<3,>=1.6.3->tensorboard>=2.4.1->-r requirements.txt (line 17)) (5.3.2)\n",
            "Requirement already satisfied: pyasn1-modules>=0.2.1 in /usr/local/lib/python3.10/dist-packages (from google-auth<3,>=1.6.3->tensorboard>=2.4.1->-r requirements.txt (line 17)) (0.3.0)\n",
            "Requirement already satisfied: rsa<5,>=3.1.4 in /usr/local/lib/python3.10/dist-packages (from google-auth<3,>=1.6.3->tensorboard>=2.4.1->-r requirements.txt (line 17)) (4.9)\n",
            "Requirement already satisfied: requests-oauthlib>=0.7.0 in /usr/local/lib/python3.10/dist-packages (from google-auth-oauthlib<2,>=0.5->tensorboard>=2.4.1->-r requirements.txt (line 17)) (1.3.1)\n",
            "Requirement already satisfied: parso<0.9.0,>=0.8.3 in /usr/local/lib/python3.10/dist-packages (from jedi>=0.16->ipython->-r requirements.txt (line 34)) (0.8.3)\n",
            "Requirement already satisfied: ptyprocess>=0.5 in /usr/local/lib/python3.10/dist-packages (from pexpect>4.3->ipython->-r requirements.txt (line 34)) (0.7.0)\n",
            "Requirement already satisfied: wcwidth in /usr/local/lib/python3.10/dist-packages (from prompt-toolkit!=3.0.0,!=3.0.1,<3.1.0,>=2.0.0->ipython->-r requirements.txt (line 34)) (0.2.12)\n",
            "Requirement already satisfied: MarkupSafe>=2.1.1 in /usr/local/lib/python3.10/dist-packages (from werkzeug>=1.0.1->tensorboard>=2.4.1->-r requirements.txt (line 17)) (2.1.3)\n",
            "Requirement already satisfied: mpmath>=0.19 in /usr/local/lib/python3.10/dist-packages (from sympy->torch!=1.12.0,>=1.7.0->-r requirements.txt (line 11)) (1.3.0)\n",
            "Requirement already satisfied: pyasn1<0.6.0,>=0.4.6 in /usr/local/lib/python3.10/dist-packages (from pyasn1-modules>=0.2.1->google-auth<3,>=1.6.3->tensorboard>=2.4.1->-r requirements.txt (line 17)) (0.5.1)\n",
            "Requirement already satisfied: oauthlib>=3.0.0 in /usr/local/lib/python3.10/dist-packages (from requests-oauthlib>=0.7.0->google-auth-oauthlib<2,>=0.5->tensorboard>=2.4.1->-r requirements.txt (line 17)) (3.2.2)\n",
            "Installing collected packages: numpy, jedi\n",
            "  Attempting uninstall: numpy\n",
            "    Found existing installation: numpy 1.26.2\n",
            "    Uninstalling numpy-1.26.2:\n",
            "      Successfully uninstalled numpy-1.26.2\n",
            "\u001b[31mERROR: pip's dependency resolver does not currently take into account all the packages that are installed. This behaviour is the source of the following dependency conflicts.\n",
            "lida 0.0.10 requires fastapi, which is not installed.\n",
            "lida 0.0.10 requires kaleido, which is not installed.\n",
            "lida 0.0.10 requires python-multipart, which is not installed.\n",
            "lida 0.0.10 requires uvicorn, which is not installed.\n",
            "imageio 2.31.6 requires pillow<10.1.0,>=8.3.2, but you have pillow 10.1.0 which is incompatible.\u001b[0m\u001b[31m\n",
            "\u001b[0mSuccessfully installed jedi-0.19.1 numpy-1.23.5\n"
          ]
        },
        {
          "output_type": "display_data",
          "data": {
            "application/vnd.colab-display-data+json": {
              "pip_warning": {
                "packages": [
                  "numpy"
                ]
              }
            }
          },
          "metadata": {}
        }
      ],
      "source": [
        "!pip install -r requirements.txt"
      ]
    },
    {
      "cell_type": "code",
      "execution_count": null,
      "metadata": {
        "colab": {
          "base_uri": "https://localhost:8080/"
        },
        "id": "F8PQpdZ5XdKA",
        "outputId": "25f07a91-33f5-4cd2-9e05-e62b935c078e"
      },
      "outputs": [
        {
          "output_type": "stream",
          "name": "stdout",
          "text": [
            "2024-01-02 08:35:51.867452: E external/local_xla/xla/stream_executor/cuda/cuda_dnn.cc:9261] Unable to register cuDNN factory: Attempting to register factory for plugin cuDNN when one has already been registered\n",
            "2024-01-02 08:35:51.867500: E external/local_xla/xla/stream_executor/cuda/cuda_fft.cc:607] Unable to register cuFFT factory: Attempting to register factory for plugin cuFFT when one has already been registered\n",
            "2024-01-02 08:35:51.868809: E external/local_xla/xla/stream_executor/cuda/cuda_blas.cc:1515] Unable to register cuBLAS factory: Attempting to register factory for plugin cuBLAS when one has already been registered\n",
            "2024-01-02 08:35:51.876116: I tensorflow/core/platform/cpu_feature_guard.cc:182] This TensorFlow binary is optimized to use available CPU instructions in performance-critical operations.\n",
            "To enable the following instructions: AVX2 FMA, in other operations, rebuild TensorFlow with the appropriate compiler flags.\n",
            "2024-01-02 08:35:52.868280: W tensorflow/compiler/tf2tensorrt/utils/py_utils.cc:38] TF-TRT Warning: Could not find TensorRT\n",
            "YOLOR 🚀 v0.1-128-ga207844 torch 2.1.0+cu121 CUDA:0 (Tesla T4, 15102.0625MB)\n",
            "\n",
            "Namespace(weights='yolov7.pt', cfg='cfg/training/yolov7.yaml', data='/content/drive/MyDrive/knee/yolov7/data.yaml', hyp='data/hyp.scratch.p5.yaml', epochs=200, batch_size=4, img_size=[416, 416], rect=False, resume=False, nosave=False, notest=False, noautoanchor=False, evolve=False, bucket='', cache_images=False, image_weights=False, device='', multi_scale=False, single_cls=False, adam=False, sync_bn=False, local_rank=-1, workers=4, project='runs/train', entity=None, name='yolov7', exist_ok=False, quad=False, linear_lr=False, label_smoothing=0.0, upload_dataset=False, bbox_interval=-1, save_period=-1, artifact_alias='latest', freeze=[0], v5_metric=False, world_size=1, global_rank=-1, save_dir='runs/train/yolov7', total_batch_size=4)\n",
            "\u001b[34m\u001b[1mtensorboard: \u001b[0mStart with 'tensorboard --logdir runs/train', view at http://localhost:6006/\n",
            "\u001b[34m\u001b[1mhyperparameters: \u001b[0mlr0=0.01, lrf=0.1, momentum=0.937, weight_decay=0.0005, warmup_epochs=3.0, warmup_momentum=0.8, warmup_bias_lr=0.1, box=0.05, cls=0.3, cls_pw=1.0, obj=0.7, obj_pw=1.0, iou_t=0.2, anchor_t=4.0, fl_gamma=0.0, hsv_h=0.015, hsv_s=0.7, hsv_v=0.4, degrees=0.0, translate=0.2, scale=0.9, shear=0.0, perspective=0.0, flipud=0.0, fliplr=0.5, mosaic=1.0, mixup=0.15, copy_paste=0.0, paste_in=0.15, loss_ota=1\n",
            "\u001b[34m\u001b[1mwandb: \u001b[0mInstall Weights & Biases for YOLOR logging with 'pip install wandb' (recommended)\n",
            "Downloading https://github.com/WongKinYiu/yolov7/releases/download/v0.1/yolov7.pt to yolov7.pt...\n",
            "100% 72.1M/72.1M [00:00<00:00, 237MB/s]\n",
            "\n",
            "Overriding model.yaml nc=80 with nc=4\n",
            "\n",
            "                 from  n    params  module                                  arguments                     \n",
            "  0                -1  1       928  models.common.Conv                      [3, 32, 3, 1]                 \n",
            "  1                -1  1     18560  models.common.Conv                      [32, 64, 3, 2]                \n",
            "  2                -1  1     36992  models.common.Conv                      [64, 64, 3, 1]                \n",
            "  3                -1  1     73984  models.common.Conv                      [64, 128, 3, 2]               \n",
            "  4                -1  1      8320  models.common.Conv                      [128, 64, 1, 1]               \n",
            "  5                -2  1      8320  models.common.Conv                      [128, 64, 1, 1]               \n",
            "  6                -1  1     36992  models.common.Conv                      [64, 64, 3, 1]                \n",
            "  7                -1  1     36992  models.common.Conv                      [64, 64, 3, 1]                \n",
            "  8                -1  1     36992  models.common.Conv                      [64, 64, 3, 1]                \n",
            "  9                -1  1     36992  models.common.Conv                      [64, 64, 3, 1]                \n",
            " 10  [-1, -3, -5, -6]  1         0  models.common.Concat                    [1]                           \n",
            " 11                -1  1     66048  models.common.Conv                      [256, 256, 1, 1]              \n",
            " 12                -1  1         0  models.common.MP                        []                            \n",
            " 13                -1  1     33024  models.common.Conv                      [256, 128, 1, 1]              \n",
            " 14                -3  1     33024  models.common.Conv                      [256, 128, 1, 1]              \n",
            " 15                -1  1    147712  models.common.Conv                      [128, 128, 3, 2]              \n",
            " 16          [-1, -3]  1         0  models.common.Concat                    [1]                           \n",
            " 17                -1  1     33024  models.common.Conv                      [256, 128, 1, 1]              \n",
            " 18                -2  1     33024  models.common.Conv                      [256, 128, 1, 1]              \n",
            " 19                -1  1    147712  models.common.Conv                      [128, 128, 3, 1]              \n",
            " 20                -1  1    147712  models.common.Conv                      [128, 128, 3, 1]              \n",
            " 21                -1  1    147712  models.common.Conv                      [128, 128, 3, 1]              \n",
            " 22                -1  1    147712  models.common.Conv                      [128, 128, 3, 1]              \n",
            " 23  [-1, -3, -5, -6]  1         0  models.common.Concat                    [1]                           \n",
            " 24                -1  1    263168  models.common.Conv                      [512, 512, 1, 1]              \n",
            " 25                -1  1         0  models.common.MP                        []                            \n",
            " 26                -1  1    131584  models.common.Conv                      [512, 256, 1, 1]              \n",
            " 27                -3  1    131584  models.common.Conv                      [512, 256, 1, 1]              \n",
            " 28                -1  1    590336  models.common.Conv                      [256, 256, 3, 2]              \n",
            " 29          [-1, -3]  1         0  models.common.Concat                    [1]                           \n",
            " 30                -1  1    131584  models.common.Conv                      [512, 256, 1, 1]              \n",
            " 31                -2  1    131584  models.common.Conv                      [512, 256, 1, 1]              \n",
            " 32                -1  1    590336  models.common.Conv                      [256, 256, 3, 1]              \n",
            " 33                -1  1    590336  models.common.Conv                      [256, 256, 3, 1]              \n",
            " 34                -1  1    590336  models.common.Conv                      [256, 256, 3, 1]              \n",
            " 35                -1  1    590336  models.common.Conv                      [256, 256, 3, 1]              \n",
            " 36  [-1, -3, -5, -6]  1         0  models.common.Concat                    [1]                           \n",
            " 37                -1  1   1050624  models.common.Conv                      [1024, 1024, 1, 1]            \n",
            " 38                -1  1         0  models.common.MP                        []                            \n",
            " 39                -1  1    525312  models.common.Conv                      [1024, 512, 1, 1]             \n",
            " 40                -3  1    525312  models.common.Conv                      [1024, 512, 1, 1]             \n",
            " 41                -1  1   2360320  models.common.Conv                      [512, 512, 3, 2]              \n",
            " 42          [-1, -3]  1         0  models.common.Concat                    [1]                           \n",
            " 43                -1  1    262656  models.common.Conv                      [1024, 256, 1, 1]             \n",
            " 44                -2  1    262656  models.common.Conv                      [1024, 256, 1, 1]             \n",
            " 45                -1  1    590336  models.common.Conv                      [256, 256, 3, 1]              \n",
            " 46                -1  1    590336  models.common.Conv                      [256, 256, 3, 1]              \n",
            " 47                -1  1    590336  models.common.Conv                      [256, 256, 3, 1]              \n",
            " 48                -1  1    590336  models.common.Conv                      [256, 256, 3, 1]              \n",
            " 49  [-1, -3, -5, -6]  1         0  models.common.Concat                    [1]                           \n",
            " 50                -1  1   1050624  models.common.Conv                      [1024, 1024, 1, 1]            \n",
            " 51                -1  1   7609344  models.common.SPPCSPC                   [1024, 512, 1]                \n",
            " 52                -1  1    131584  models.common.Conv                      [512, 256, 1, 1]              \n",
            " 53                -1  1         0  torch.nn.modules.upsampling.Upsample    [None, 2, 'nearest']          \n",
            " 54                37  1    262656  models.common.Conv                      [1024, 256, 1, 1]             \n",
            " 55          [-1, -2]  1         0  models.common.Concat                    [1]                           \n",
            " 56                -1  1    131584  models.common.Conv                      [512, 256, 1, 1]              \n",
            " 57                -2  1    131584  models.common.Conv                      [512, 256, 1, 1]              \n",
            " 58                -1  1    295168  models.common.Conv                      [256, 128, 3, 1]              \n",
            " 59                -1  1    147712  models.common.Conv                      [128, 128, 3, 1]              \n",
            " 60                -1  1    147712  models.common.Conv                      [128, 128, 3, 1]              \n",
            " 61                -1  1    147712  models.common.Conv                      [128, 128, 3, 1]              \n",
            " 62[-1, -2, -3, -4, -5, -6]  1         0  models.common.Concat                    [1]                           \n",
            " 63                -1  1    262656  models.common.Conv                      [1024, 256, 1, 1]             \n",
            " 64                -1  1     33024  models.common.Conv                      [256, 128, 1, 1]              \n",
            " 65                -1  1         0  torch.nn.modules.upsampling.Upsample    [None, 2, 'nearest']          \n",
            " 66                24  1     65792  models.common.Conv                      [512, 128, 1, 1]              \n",
            " 67          [-1, -2]  1         0  models.common.Concat                    [1]                           \n",
            " 68                -1  1     33024  models.common.Conv                      [256, 128, 1, 1]              \n",
            " 69                -2  1     33024  models.common.Conv                      [256, 128, 1, 1]              \n",
            " 70                -1  1     73856  models.common.Conv                      [128, 64, 3, 1]               \n",
            " 71                -1  1     36992  models.common.Conv                      [64, 64, 3, 1]                \n",
            " 72                -1  1     36992  models.common.Conv                      [64, 64, 3, 1]                \n",
            " 73                -1  1     36992  models.common.Conv                      [64, 64, 3, 1]                \n",
            " 74[-1, -2, -3, -4, -5, -6]  1         0  models.common.Concat                    [1]                           \n",
            " 75                -1  1     65792  models.common.Conv                      [512, 128, 1, 1]              \n",
            " 76                -1  1         0  models.common.MP                        []                            \n",
            " 77                -1  1     16640  models.common.Conv                      [128, 128, 1, 1]              \n",
            " 78                -3  1     16640  models.common.Conv                      [128, 128, 1, 1]              \n",
            " 79                -1  1    147712  models.common.Conv                      [128, 128, 3, 2]              \n",
            " 80      [-1, -3, 63]  1         0  models.common.Concat                    [1]                           \n",
            " 81                -1  1    131584  models.common.Conv                      [512, 256, 1, 1]              \n",
            " 82                -2  1    131584  models.common.Conv                      [512, 256, 1, 1]              \n",
            " 83                -1  1    295168  models.common.Conv                      [256, 128, 3, 1]              \n",
            " 84                -1  1    147712  models.common.Conv                      [128, 128, 3, 1]              \n",
            " 85                -1  1    147712  models.common.Conv                      [128, 128, 3, 1]              \n",
            " 86                -1  1    147712  models.common.Conv                      [128, 128, 3, 1]              \n",
            " 87[-1, -2, -3, -4, -5, -6]  1         0  models.common.Concat                    [1]                           \n",
            " 88                -1  1    262656  models.common.Conv                      [1024, 256, 1, 1]             \n",
            " 89                -1  1         0  models.common.MP                        []                            \n",
            " 90                -1  1     66048  models.common.Conv                      [256, 256, 1, 1]              \n",
            " 91                -3  1     66048  models.common.Conv                      [256, 256, 1, 1]              \n",
            " 92                -1  1    590336  models.common.Conv                      [256, 256, 3, 2]              \n",
            " 93      [-1, -3, 51]  1         0  models.common.Concat                    [1]                           \n",
            " 94                -1  1    525312  models.common.Conv                      [1024, 512, 1, 1]             \n",
            " 95                -2  1    525312  models.common.Conv                      [1024, 512, 1, 1]             \n",
            " 96                -1  1   1180160  models.common.Conv                      [512, 256, 3, 1]              \n",
            " 97                -1  1    590336  models.common.Conv                      [256, 256, 3, 1]              \n",
            " 98                -1  1    590336  models.common.Conv                      [256, 256, 3, 1]              \n",
            " 99                -1  1    590336  models.common.Conv                      [256, 256, 3, 1]              \n",
            "100[-1, -2, -3, -4, -5, -6]  1         0  models.common.Concat                    [1]                           \n",
            "101                -1  1   1049600  models.common.Conv                      [2048, 512, 1, 1]             \n",
            "102                75  1    328704  models.common.RepConv                   [128, 256, 3, 1]              \n",
            "103                88  1   1312768  models.common.RepConv                   [256, 512, 3, 1]              \n",
            "104               101  1   5246976  models.common.RepConv                   [512, 1024, 3, 1]             \n",
            "105   [102, 103, 104]  1     50338  models.yolo.IDetect                     [4, [[12, 16, 19, 36, 40, 28], [36, 75, 76, 55, 72, 146], [142, 110, 192, 243, 459, 401]], [256, 512, 1024]]\n",
            "/usr/local/lib/python3.10/dist-packages/torch/functional.py:504: UserWarning: torch.meshgrid: in an upcoming release, it will be required to pass the indexing argument. (Triggered internally at ../aten/src/ATen/native/TensorShape.cpp:3526.)\n",
            "  return _VF.meshgrid(tensors, **kwargs)  # type: ignore[attr-defined]\n",
            "Model Summary: 415 layers, 37212738 parameters, 37212738 gradients, 105.2 GFLOPS\n",
            "\n",
            "Transferred 552/566 items from yolov7.pt\n",
            "Scaled weight_decay = 0.0005\n",
            "Optimizer groups: 95 .bias, 95 conv.weight, 98 other\n",
            "\u001b[34m\u001b[1mtrain: \u001b[0mScanning '/content/drive/MyDrive/knee/yolov7/train/labels' images and labels... 122 found, 0 missing, 0 empty, 0 corrupted: 100% 122/122 [00:25<00:00,  4.82it/s]\n",
            "\u001b[34m\u001b[1mtrain: \u001b[0mNew cache created: /content/drive/MyDrive/knee/yolov7/train/labels.cache\n",
            "\u001b[34m\u001b[1mval: \u001b[0mScanning '/content/drive/MyDrive/knee/yolov7/valid/labels' images and labels... 48 found, 0 missing, 0 empty, 0 corrupted: 100% 48/48 [00:20<00:00,  2.33it/s]\n",
            "\u001b[34m\u001b[1mval: \u001b[0mNew cache created: /content/drive/MyDrive/knee/yolov7/valid/labels.cache\n",
            "\n",
            "\u001b[34m\u001b[1mautoanchor: \u001b[0mAnalyzing anchors... anchors/target = 3.38, Best Possible Recall (BPR) = 1.0000\n",
            "Image sizes 416 train, 416 test\n",
            "Using 2 dataloader workers\n",
            "Logging results to runs/train/yolov7\n",
            "Starting training for 200 epochs...\n",
            "\n",
            "     Epoch   gpu_mem       box       obj       cls     total    labels  img_size\n",
            "     0/199    0.908G   0.06446  0.008051   0.02303   0.09554         6       416: 100% 31/31 [00:16<00:00,  1.88it/s]\n",
            "               Class      Images      Labels           P           R      mAP@.5  mAP@.5:.95: 100% 6/6 [00:02<00:00,  2.67it/s]\n",
            "                 all          48          48      0.0263      0.0215     0.00707      0.0017\n",
            "\n",
            "     Epoch   gpu_mem       box       obj       cls     total    labels  img_size\n",
            "     1/199      1.9G   0.05228  0.008518   0.01971    0.0805         8       416: 100% 31/31 [00:09<00:00,  3.31it/s]\n",
            "               Class      Images      Labels           P           R      mAP@.5  mAP@.5:.95: 100% 6/6 [00:00<00:00,  7.39it/s]\n",
            "                 all          48          48       0.108      0.0192      0.0158     0.00287\n",
            "\n",
            "     Epoch   gpu_mem       box       obj       cls     total    labels  img_size\n",
            "     2/199     1.92G   0.04909  0.008445   0.01991   0.07745         5       416: 100% 31/31 [00:09<00:00,  3.40it/s]\n",
            "               Class      Images      Labels           P           R      mAP@.5  mAP@.5:.95: 100% 6/6 [00:00<00:00,  7.38it/s]\n",
            "                 all          48          48      0.0702      0.0647      0.0275     0.00524\n",
            "\n",
            "     Epoch   gpu_mem       box       obj       cls     total    labels  img_size\n",
            "     3/199     1.92G   0.05124  0.008727   0.01977   0.07974         7       416: 100% 31/31 [00:09<00:00,  3.39it/s]\n",
            "               Class      Images      Labels           P           R      mAP@.5  mAP@.5:.95: 100% 6/6 [00:01<00:00,  4.98it/s]\n",
            "                 all          48          48      0.0282      0.0962      0.0212     0.00401\n",
            "\n",
            "     Epoch   gpu_mem       box       obj       cls     total    labels  img_size\n",
            "     4/199     1.92G   0.05093  0.007751   0.01973   0.07841         5       416: 100% 31/31 [00:06<00:00,  4.56it/s]\n",
            "               Class      Images      Labels           P           R      mAP@.5  mAP@.5:.95: 100% 6/6 [00:00<00:00,  6.93it/s]\n",
            "                 all          48          48       0.374       0.135      0.0665      0.0118\n",
            "\n",
            "     Epoch   gpu_mem       box       obj       cls     total    labels  img_size\n",
            "     5/199     1.92G   0.05174  0.008246   0.02006   0.08005         3       416: 100% 31/31 [00:08<00:00,  3.74it/s]\n",
            "               Class      Images      Labels           P           R      mAP@.5  mAP@.5:.95: 100% 6/6 [00:00<00:00,  7.61it/s]\n",
            "                 all          48          48       0.373      0.0839      0.0886      0.0229\n",
            "\n",
            "     Epoch   gpu_mem       box       obj       cls     total    labels  img_size\n",
            "     6/199     1.92G   0.05027  0.008367   0.02038   0.07902         2       416: 100% 31/31 [00:09<00:00,  3.29it/s]\n",
            "               Class      Images      Labels           P           R      mAP@.5  mAP@.5:.95: 100% 6/6 [00:00<00:00,  6.10it/s]\n",
            "                 all          48          48       0.193       0.224       0.168      0.0523\n",
            "\n",
            "     Epoch   gpu_mem       box       obj       cls     total    labels  img_size\n",
            "     7/199     1.92G   0.04682  0.007817   0.01984   0.07448         6       416: 100% 31/31 [00:11<00:00,  2.63it/s]\n",
            "               Class      Images      Labels           P           R      mAP@.5  mAP@.5:.95: 100% 6/6 [00:00<00:00,  8.71it/s]\n",
            "                 all          48          48      0.0704       0.416       0.092       0.027\n",
            "\n",
            "     Epoch   gpu_mem       box       obj       cls     total    labels  img_size\n",
            "     8/199     1.92G   0.05144   0.00887   0.02154   0.08185         7       416: 100% 31/31 [00:07<00:00,  4.37it/s]\n",
            "               Class      Images      Labels           P           R      mAP@.5  mAP@.5:.95: 100% 6/6 [00:00<00:00,  6.98it/s]\n",
            "                 all          48          48      0.0875       0.233      0.0804       0.021\n",
            "\n",
            "     Epoch   gpu_mem       box       obj       cls     total    labels  img_size\n",
            "     9/199     1.92G   0.05043  0.007782   0.02098   0.07919         7       416: 100% 31/31 [00:08<00:00,  3.67it/s]\n",
            "               Class      Images      Labels           P           R      mAP@.5  mAP@.5:.95: 100% 6/6 [00:00<00:00,  7.20it/s]\n",
            "                 all          48          48      0.0559        0.22      0.0765      0.0124\n",
            "\n",
            "     Epoch   gpu_mem       box       obj       cls     total    labels  img_size\n",
            "    10/199     1.92G   0.04352   0.00743   0.01922   0.07016         2       416: 100% 31/31 [00:08<00:00,  3.71it/s]\n",
            "               Class      Images      Labels           P           R      mAP@.5  mAP@.5:.95: 100% 6/6 [00:01<00:00,  4.44it/s]\n",
            "                 all          48          48      0.0492         0.4      0.0558      0.0122\n",
            "\n",
            "     Epoch   gpu_mem       box       obj       cls     total    labels  img_size\n",
            "    11/199     1.92G   0.04872  0.008085   0.02032   0.07713         4       416: 100% 31/31 [00:07<00:00,  4.27it/s]\n",
            "               Class      Images      Labels           P           R      mAP@.5  mAP@.5:.95: 100% 6/6 [00:00<00:00,  7.24it/s]\n",
            "                 all          48          48      0.0217        0.11      0.0241     0.00482\n",
            "\n",
            "     Epoch   gpu_mem       box       obj       cls     total    labels  img_size\n",
            "    12/199     1.92G   0.04731   0.00728   0.02031    0.0749         6       416: 100% 31/31 [00:08<00:00,  3.54it/s]\n",
            "               Class      Images      Labels           P           R      mAP@.5  mAP@.5:.95: 100% 6/6 [00:01<00:00,  5.90it/s]\n",
            "                 all          48          48      0.0211       0.229      0.0154     0.00238\n",
            "\n",
            "     Epoch   gpu_mem       box       obj       cls     total    labels  img_size\n",
            "    13/199     1.92G   0.04671  0.007872   0.02098   0.07556         3       416: 100% 31/31 [00:07<00:00,  4.10it/s]\n",
            "               Class      Images      Labels           P           R      mAP@.5  mAP@.5:.95: 100% 6/6 [00:01<00:00,  3.19it/s]\n",
            "                 all          48          48      0.0875       0.175      0.0497     0.00982\n",
            "\n",
            "     Epoch   gpu_mem       box       obj       cls     total    labels  img_size\n",
            "    14/199     1.92G   0.05016   0.00822    0.0217   0.08008         4       416: 100% 31/31 [00:06<00:00,  4.63it/s]\n",
            "               Class      Images      Labels           P           R      mAP@.5  mAP@.5:.95: 100% 6/6 [00:01<00:00,  5.32it/s]\n",
            "                 all          48          48       0.116       0.312       0.146      0.0653\n",
            "\n",
            "     Epoch   gpu_mem       box       obj       cls     total    labels  img_size\n",
            "    15/199     1.92G   0.04272  0.008041    0.0189   0.06966         2       416: 100% 31/31 [00:08<00:00,  3.60it/s]\n",
            "               Class      Images      Labels           P           R      mAP@.5  mAP@.5:.95: 100% 6/6 [00:00<00:00,  7.54it/s]\n",
            "                 all          48          48        0.19       0.255       0.129      0.0351\n",
            "\n",
            "     Epoch   gpu_mem       box       obj       cls     total    labels  img_size\n",
            "    16/199     1.92G   0.04527  0.007287   0.02006   0.07262         5       416: 100% 31/31 [00:08<00:00,  3.85it/s]\n",
            "               Class      Images      Labels           P           R      mAP@.5  mAP@.5:.95: 100% 6/6 [00:01<00:00,  3.81it/s]\n",
            "                 all          48          48       0.136       0.629       0.174      0.0752\n",
            "\n",
            "     Epoch   gpu_mem       box       obj       cls     total    labels  img_size\n",
            "    17/199     1.92G   0.03698  0.007034   0.01705   0.06106         5       416: 100% 31/31 [00:06<00:00,  4.61it/s]\n",
            "               Class      Images      Labels           P           R      mAP@.5  mAP@.5:.95: 100% 6/6 [00:00<00:00,  8.10it/s]\n",
            "                 all          48          48       0.277       0.194       0.167      0.0497\n",
            "\n",
            "     Epoch   gpu_mem       box       obj       cls     total    labels  img_size\n",
            "    18/199     1.92G   0.04808  0.007816   0.02077   0.07667         5       416: 100% 31/31 [00:08<00:00,  3.45it/s]\n",
            "               Class      Images      Labels           P           R      mAP@.5  mAP@.5:.95: 100% 6/6 [00:00<00:00,  7.62it/s]\n",
            "                 all          48          48       0.268       0.171       0.117      0.0576\n",
            "\n",
            "     Epoch   gpu_mem       box       obj       cls     total    labels  img_size\n",
            "    19/199     1.92G   0.04399  0.007298   0.01917   0.07047        10       416: 100% 31/31 [00:08<00:00,  3.78it/s]\n",
            "               Class      Images      Labels           P           R      mAP@.5  mAP@.5:.95: 100% 6/6 [00:01<00:00,  3.53it/s]\n",
            "                 all          48          48       0.457      0.0647         0.1      0.0303\n",
            "\n",
            "     Epoch   gpu_mem       box       obj       cls     total    labels  img_size\n",
            "    20/199     1.92G   0.04598  0.007431   0.01912   0.07253         6       416: 100% 31/31 [00:07<00:00,  4.36it/s]\n",
            "               Class      Images      Labels           P           R      mAP@.5  mAP@.5:.95: 100% 6/6 [00:00<00:00,  8.24it/s]\n",
            "                 all          48          48       0.365       0.114      0.0885      0.0341\n",
            "\n",
            "     Epoch   gpu_mem       box       obj       cls     total    labels  img_size\n",
            "    21/199     1.92G    0.0477  0.007962   0.01961   0.07527         4       416: 100% 31/31 [00:09<00:00,  3.33it/s]\n",
            "               Class      Images      Labels           P           R      mAP@.5  mAP@.5:.95: 100% 6/6 [00:00<00:00,  7.34it/s]\n",
            "                 all          48          48           1      0.0227       0.026     0.00777\n",
            "\n",
            "     Epoch   gpu_mem       box       obj       cls     total    labels  img_size\n",
            "    22/199     1.92G    0.0469  0.007217   0.01897   0.07309         3       416: 100% 31/31 [00:07<00:00,  4.28it/s]\n",
            "               Class      Images      Labels           P           R      mAP@.5  mAP@.5:.95: 100% 6/6 [00:01<00:00,  3.66it/s]\n",
            "                 all          48          48       0.396      0.0647      0.0369      0.0156\n",
            "\n",
            "     Epoch   gpu_mem       box       obj       cls     total    labels  img_size\n",
            "    23/199     1.92G   0.04421  0.006904   0.01925   0.07036         5       416: 100% 31/31 [00:06<00:00,  4.64it/s]\n",
            "               Class      Images      Labels           P           R      mAP@.5  mAP@.5:.95: 100% 6/6 [00:01<00:00,  5.90it/s]\n",
            "                 all          48          48      0.0121        0.33      0.0122     0.00294\n",
            "\n",
            "     Epoch   gpu_mem       box       obj       cls     total    labels  img_size\n",
            "    24/199     1.92G   0.04574  0.006994   0.01893   0.07167         6       416: 100% 31/31 [00:09<00:00,  3.39it/s]\n",
            "               Class      Images      Labels           P           R      mAP@.5  mAP@.5:.95: 100% 6/6 [00:00<00:00,  6.80it/s]\n",
            "                 all          48          48        0.54       0.114      0.0383     0.00991\n",
            "\n",
            "     Epoch   gpu_mem       box       obj       cls     total    labels  img_size\n",
            "    25/199     1.92G   0.04858  0.007327   0.01951   0.07542         5       416: 100% 31/31 [00:07<00:00,  3.99it/s]\n",
            "               Class      Images      Labels           P           R      mAP@.5  mAP@.5:.95: 100% 6/6 [00:01<00:00,  3.28it/s]\n",
            "                 all          48          48       0.531      0.0682      0.0181     0.00535\n",
            "\n",
            "     Epoch   gpu_mem       box       obj       cls     total    labels  img_size\n",
            "    26/199     1.92G   0.04829  0.007401   0.01965   0.07534         5       416: 100% 31/31 [00:06<00:00,  4.44it/s]\n",
            "               Class      Images      Labels           P           R      mAP@.5  mAP@.5:.95: 100% 6/6 [00:00<00:00,  6.74it/s]\n",
            "                 all          48          48    5.15e-05      0.0227    4.94e-06    1.98e-06\n",
            "\n",
            "     Epoch   gpu_mem       box       obj       cls     total    labels  img_size\n",
            "    27/199     1.92G   0.04951  0.006833    0.0195   0.07584        10       416: 100% 31/31 [00:09<00:00,  3.35it/s]\n",
            "               Class      Images      Labels           P           R      mAP@.5  mAP@.5:.95: 100% 6/6 [00:00<00:00,  7.05it/s]\n",
            "                 all          48          48    0.000725       0.042     7.8e-05     1.5e-05\n",
            "\n",
            "     Epoch   gpu_mem       box       obj       cls     total    labels  img_size\n",
            "    28/199     1.92G   0.04941   0.00613    0.0207   0.07623         4       416: 100% 31/31 [00:06<00:00,  4.55it/s]\n",
            "               Class      Images      Labels           P           R      mAP@.5  mAP@.5:.95: 100% 6/6 [00:00<00:00,  6.06it/s]\n",
            "                 all          48          48      0.0133       0.224      0.0105     0.00323\n",
            "\n",
            "     Epoch   gpu_mem       box       obj       cls     total    labels  img_size\n",
            "    29/199     1.92G   0.05569  0.006125   0.01972   0.08153         8       416: 100% 31/31 [00:07<00:00,  3.90it/s]\n",
            "               Class      Images      Labels           P           R      mAP@.5  mAP@.5:.95: 100% 6/6 [00:01<00:00,  5.85it/s]\n",
            "                 all          48          48       0.963      0.0227      0.0302     0.00342\n",
            "\n",
            "     Epoch   gpu_mem       box       obj       cls     total    labels  img_size\n",
            "    30/199     1.92G   0.05115  0.006376   0.01989   0.07742         3       416: 100% 31/31 [00:08<00:00,  3.46it/s]\n",
            "               Class      Images      Labels           P           R      mAP@.5  mAP@.5:.95: 100% 6/6 [00:01<00:00,  5.60it/s]\n",
            "                 all          48          48       0.519      0.0455     0.00514      0.0019\n",
            "\n",
            "     Epoch   gpu_mem       box       obj       cls     total    labels  img_size\n",
            "    31/199     1.92G   0.04577   0.00728   0.01916   0.07221        13       416: 100% 31/31 [00:06<00:00,  4.70it/s]\n",
            "               Class      Images      Labels           P           R      mAP@.5  mAP@.5:.95: 100% 6/6 [00:00<00:00,  7.14it/s]\n",
            "                 all          48          48    0.000577       0.187    0.000192     3.6e-05\n",
            "\n",
            "     Epoch   gpu_mem       box       obj       cls     total    labels  img_size\n",
            "    32/199     1.92G   0.04943   0.00708   0.02003   0.07654        10       416: 100% 31/31 [00:09<00:00,  3.41it/s]\n",
            "               Class      Images      Labels           P           R      mAP@.5  mAP@.5:.95: 100% 6/6 [00:01<00:00,  5.73it/s]\n",
            "                 all          48          48     0.00512       0.259     0.00383    0.000657\n",
            "\n",
            "     Epoch   gpu_mem       box       obj       cls     total    labels  img_size\n",
            "    33/199     1.92G   0.04778  0.006647    0.0195   0.07393         8       416: 100% 31/31 [00:07<00:00,  3.98it/s]\n",
            "               Class      Images      Labels           P           R      mAP@.5  mAP@.5:.95: 100% 6/6 [00:01<00:00,  3.67it/s]\n",
            "                 all          48          48      0.0111      0.0227     0.00526     0.00124\n",
            "\n",
            "     Epoch   gpu_mem       box       obj       cls     total    labels  img_size\n",
            "    34/199     1.92G   0.06201  0.005803   0.02107   0.08888         3       416: 100% 31/31 [00:06<00:00,  4.62it/s]\n",
            "               Class      Images      Labels           P           R      mAP@.5  mAP@.5:.95: 100% 6/6 [00:00<00:00,  8.33it/s]\n",
            "                 all          48          48      0.0317      0.0455      0.0123     0.00219\n",
            "\n",
            "     Epoch   gpu_mem       box       obj       cls     total    labels  img_size\n",
            "    35/199     1.92G   0.04948  0.005882   0.01831   0.07368         2       416: 100% 31/31 [00:09<00:00,  3.44it/s]\n",
            "               Class      Images      Labels           P           R      mAP@.5  mAP@.5:.95: 100% 6/6 [00:00<00:00,  7.75it/s]\n",
            "                 all          48          48      0.0141      0.0874     0.00494     0.00106\n",
            "\n",
            "     Epoch   gpu_mem       box       obj       cls     total    labels  img_size\n",
            "    36/199     1.92G   0.04941  0.006022   0.01915   0.07458         6       416: 100% 31/31 [00:07<00:00,  4.14it/s]\n",
            "               Class      Images      Labels           P           R      mAP@.5  mAP@.5:.95: 100% 6/6 [00:01<00:00,  4.46it/s]\n",
            "                 all          48          48      0.0259       0.243      0.0125     0.00382\n",
            "\n",
            "     Epoch   gpu_mem       box       obj       cls     total    labels  img_size\n",
            "    37/199     1.92G   0.05156  0.006145   0.01934   0.07704         5       416: 100% 31/31 [00:07<00:00,  4.23it/s]\n",
            "               Class      Images      Labels           P           R      mAP@.5  mAP@.5:.95: 100% 6/6 [00:00<00:00,  7.06it/s]\n",
            "                 all          48          48       0.509      0.0227       0.009     0.00191\n",
            "\n",
            "     Epoch   gpu_mem       box       obj       cls     total    labels  img_size\n",
            "    38/199     1.92G   0.05175  0.005971   0.01944   0.07716         3       416: 100% 31/31 [00:09<00:00,  3.31it/s]\n",
            "               Class      Images      Labels           P           R      mAP@.5  mAP@.5:.95: 100% 6/6 [00:00<00:00,  8.14it/s]\n",
            "                 all          48          48       0.261       0.191     0.00556     0.00117\n",
            "\n",
            "     Epoch   gpu_mem       box       obj       cls     total    labels  img_size\n",
            "    39/199     1.92G   0.05621   0.00606   0.02054   0.08281         5       416: 100% 31/31 [00:06<00:00,  4.67it/s]\n",
            "               Class      Images      Labels           P           R      mAP@.5  mAP@.5:.95: 100% 6/6 [00:01<00:00,  5.22it/s]\n",
            "                 all          48          48       0.257      0.0455      0.0043     0.00109\n",
            "\n",
            "     Epoch   gpu_mem       box       obj       cls     total    labels  img_size\n",
            "    40/199     1.92G   0.04644  0.006587   0.01934   0.07236         9       416: 100% 31/31 [00:08<00:00,  3.78it/s]\n",
            "               Class      Images      Labels           P           R      mAP@.5  mAP@.5:.95: 100% 6/6 [00:00<00:00,  7.53it/s]\n",
            "                 all          48          48      0.0047       0.224     0.00316    0.000706\n",
            "\n",
            "     Epoch   gpu_mem       box       obj       cls     total    labels  img_size\n",
            "    41/199     1.92G   0.04911  0.006276   0.01875   0.07414         3       416: 100% 31/31 [00:08<00:00,  3.48it/s]\n",
            "               Class      Images      Labels           P           R      mAP@.5  mAP@.5:.95: 100% 6/6 [00:01<00:00,  4.43it/s]\n",
            "                 all          48          48     0.00627       0.168     0.00329    0.000533\n",
            "\n",
            "     Epoch   gpu_mem       box       obj       cls     total    labels  img_size\n",
            "    42/199     1.92G   0.05294  0.006721   0.01917   0.07884         1       416: 100% 31/31 [00:06<00:00,  4.55it/s]\n",
            "               Class      Images      Labels           P           R      mAP@.5  mAP@.5:.95: 100% 6/6 [00:00<00:00,  7.01it/s]\n",
            "                 all          48          48      0.0014       0.103    0.000842    0.000159\n",
            "\n",
            "     Epoch   gpu_mem       box       obj       cls     total    labels  img_size\n",
            "    43/199     1.92G   0.04377  0.006389   0.01678   0.06694         6       416: 100% 31/31 [00:08<00:00,  3.68it/s]\n",
            "               Class      Images      Labels           P           R      mAP@.5  mAP@.5:.95: 100% 6/6 [00:00<00:00,  8.23it/s]\n",
            "                 all          48          48     0.00353       0.287      0.0023    0.000379\n",
            "\n",
            "     Epoch   gpu_mem       box       obj       cls     total    labels  img_size\n",
            "    44/199     1.92G   0.04667  0.006527   0.01786   0.07106         8       416: 100% 31/31 [00:07<00:00,  4.13it/s]\n",
            "               Class      Images      Labels           P           R      mAP@.5  mAP@.5:.95: 100% 6/6 [00:01<00:00,  5.61it/s]\n",
            "                 all          48          48       0.269       0.042     0.00586     0.00133\n",
            "\n",
            "     Epoch   gpu_mem       box       obj       cls     total    labels  img_size\n",
            "    45/199     1.92G   0.05313  0.006661   0.02007   0.07986         3       416: 100% 31/31 [00:06<00:00,  4.60it/s]\n",
            "               Class      Images      Labels           P           R      mAP@.5  mAP@.5:.95: 100% 6/6 [00:00<00:00,  7.30it/s]\n",
            "                 all          48          48       0.256        0.11      0.0036     0.00101\n",
            "\n",
            "     Epoch   gpu_mem       box       obj       cls     total    labels  img_size\n",
            "    46/199     1.92G   0.05049  0.006497    0.0203   0.07729         3       416: 100% 31/31 [00:08<00:00,  3.45it/s]\n",
            "               Class      Images      Labels           P           R      mAP@.5  mAP@.5:.95: 100% 6/6 [00:00<00:00,  6.06it/s]\n",
            "                 all          48          48     0.00155       0.103    0.000782    9.95e-05\n",
            "\n",
            "     Epoch   gpu_mem       box       obj       cls     total    labels  img_size\n",
            "    47/199     1.92G   0.04536   0.00629   0.01861   0.07027         3       416: 100% 31/31 [00:06<00:00,  4.45it/s]\n",
            "               Class      Images      Labels           P           R      mAP@.5  mAP@.5:.95: 100% 6/6 [00:01<00:00,  4.17it/s]\n",
            "                 all          48          48     0.00364       0.168     0.00259    0.000486\n",
            "\n",
            "     Epoch   gpu_mem       box       obj       cls     total    labels  img_size\n",
            "    48/199     1.92G   0.05801  0.006811   0.02047   0.08529         4       416: 100% 31/31 [00:07<00:00,  3.97it/s]\n",
            "               Class      Images      Labels           P           R      mAP@.5  mAP@.5:.95: 100% 6/6 [00:00<00:00,  6.46it/s]\n",
            "                 all          48          48       0.261       0.156      0.0104     0.00331\n",
            "\n",
            "     Epoch   gpu_mem       box       obj       cls     total    labels  img_size\n",
            "    49/199     1.92G    0.0526  0.006527   0.01943   0.07855         2       416: 100% 31/31 [00:09<00:00,  3.35it/s]\n",
            "               Class      Images      Labels           P           R      mAP@.5  mAP@.5:.95: 100% 6/6 [00:01<00:00,  5.33it/s]\n",
            "                 all          48          48      0.0228       0.327      0.0141      0.0046\n",
            "\n",
            "     Epoch   gpu_mem       box       obj       cls     total    labels  img_size\n",
            "    50/199     1.92G   0.04829   0.00592   0.01794   0.07215         3       416: 100% 31/31 [00:07<00:00,  4.22it/s]\n",
            "               Class      Images      Labels           P           R      mAP@.5  mAP@.5:.95: 100% 6/6 [00:01<00:00,  4.56it/s]\n",
            "                 all          48          48        0.79      0.0682      0.0313     0.00731\n",
            "\n",
            "     Epoch   gpu_mem       box       obj       cls     total    labels  img_size\n",
            "    51/199     1.92G   0.04996  0.005977    0.0184   0.07434         4       416: 100% 31/31 [00:07<00:00,  4.41it/s]\n",
            "               Class      Images      Labels           P           R      mAP@.5  mAP@.5:.95: 100% 6/6 [00:01<00:00,  5.89it/s]\n",
            "                 all          48          48      0.0514       0.414      0.0582      0.0186\n",
            "\n",
            "     Epoch   gpu_mem       box       obj       cls     total    labels  img_size\n",
            "    52/199     1.92G    0.0469  0.006737   0.01806   0.07169         9       416: 100% 31/31 [00:09<00:00,  3.37it/s]\n",
            "               Class      Images      Labels           P           R      mAP@.5  mAP@.5:.95: 100% 6/6 [00:00<00:00,  7.44it/s]\n",
            "                 all          48          48       0.355       0.358      0.0553      0.0137\n",
            "\n",
            "     Epoch   gpu_mem       box       obj       cls     total    labels  img_size\n",
            "    53/199     1.92G   0.04384   0.00623   0.01777   0.06784         3       416: 100% 31/31 [00:06<00:00,  4.67it/s]\n",
            "               Class      Images      Labels           P           R      mAP@.5  mAP@.5:.95: 100% 6/6 [00:01<00:00,  5.03it/s]\n",
            "                 all          48          48       0.581       0.192        0.07      0.0179\n",
            "\n",
            "     Epoch   gpu_mem       box       obj       cls     total    labels  img_size\n",
            "    54/199     1.92G   0.05078  0.006934   0.01955   0.07726        12       416: 100% 31/31 [00:07<00:00,  3.99it/s]\n",
            "               Class      Images      Labels           P           R      mAP@.5  mAP@.5:.95: 100% 6/6 [00:01<00:00,  5.63it/s]\n",
            "                 all          48          48       0.289       0.353       0.033      0.0104\n",
            "\n",
            "     Epoch   gpu_mem       box       obj       cls     total    labels  img_size\n",
            "    55/199     1.92G   0.05058  0.007075   0.02024   0.07789         8       416: 100% 31/31 [00:09<00:00,  3.37it/s]\n",
            "               Class      Images      Labels           P           R      mAP@.5  mAP@.5:.95: 100% 6/6 [00:00<00:00,  7.01it/s]\n",
            "                 all          48          48       0.286       0.376      0.0454     0.00947\n",
            "\n",
            "     Epoch   gpu_mem       box       obj       cls     total    labels  img_size\n",
            "    56/199     1.92G   0.04643  0.006665   0.01845   0.07154         5       416: 100% 31/31 [00:06<00:00,  4.76it/s]\n",
            "               Class      Images      Labels           P           R      mAP@.5  mAP@.5:.95: 100% 6/6 [00:00<00:00,  6.23it/s]\n",
            "                 all          48          48       0.345       0.357      0.0726      0.0212\n",
            "\n",
            "     Epoch   gpu_mem       box       obj       cls     total    labels  img_size\n",
            "    57/199     1.92G    0.0531  0.006461   0.01915   0.07871        11       416: 100% 31/31 [00:08<00:00,  3.48it/s]\n",
            "               Class      Images      Labels           P           R      mAP@.5  mAP@.5:.95: 100% 6/6 [00:00<00:00,  6.39it/s]\n",
            "                 all          48          48      0.0601       0.224      0.0284     0.00709\n",
            "\n",
            "     Epoch   gpu_mem       box       obj       cls     total    labels  img_size\n",
            "    58/199     1.92G   0.05086  0.006787   0.02005    0.0777         5       416: 100% 31/31 [00:08<00:00,  3.71it/s]\n",
            "               Class      Images      Labels           P           R      mAP@.5  mAP@.5:.95: 100% 6/6 [00:01<00:00,  3.64it/s]\n",
            "                 all          48          48       0.279       0.278      0.0322     0.00593\n",
            "\n",
            "     Epoch   gpu_mem       box       obj       cls     total    labels  img_size\n",
            "    59/199     1.92G   0.03956  0.006788   0.01743   0.06378         3       416: 100% 31/31 [00:06<00:00,  4.96it/s]\n",
            "               Class      Images      Labels           P           R      mAP@.5  mAP@.5:.95: 100% 6/6 [00:01<00:00,  5.87it/s]\n",
            "                 all          48          48       0.533       0.205      0.0426      0.0131\n",
            "\n",
            "     Epoch   gpu_mem       box       obj       cls     total    labels  img_size\n",
            "    60/199     1.92G   0.04701  0.006641   0.01836   0.07202         4       416: 100% 31/31 [00:09<00:00,  3.24it/s]\n",
            "               Class      Images      Labels           P           R      mAP@.5  mAP@.5:.95: 100% 6/6 [00:00<00:00,  8.36it/s]\n",
            "                 all          48          48       0.287       0.205      0.0387     0.00894\n",
            "\n",
            "     Epoch   gpu_mem       box       obj       cls     total    labels  img_size\n",
            "    61/199     1.92G   0.04362  0.006781   0.01865   0.06905         8       416: 100% 31/31 [00:08<00:00,  3.86it/s]\n",
            "               Class      Images      Labels           P           R      mAP@.5  mAP@.5:.95: 100% 6/6 [00:01<00:00,  4.70it/s]\n",
            "                 all          48          48       0.291       0.234      0.0479      0.0134\n",
            "\n",
            "     Epoch   gpu_mem       box       obj       cls     total    labels  img_size\n",
            "    62/199     1.92G   0.04589   0.00738   0.01901   0.07228         6       416: 100% 31/31 [00:06<00:00,  4.50it/s]\n",
            "               Class      Images      Labels           P           R      mAP@.5  mAP@.5:.95: 100% 6/6 [00:00<00:00,  6.91it/s]\n",
            "                 all          48          48       0.623      0.0909       0.132      0.0476\n",
            "\n",
            "     Epoch   gpu_mem       box       obj       cls     total    labels  img_size\n",
            "    63/199     1.92G   0.05019  0.006805   0.01946   0.07645         4       416: 100% 31/31 [00:09<00:00,  3.37it/s]\n",
            "               Class      Images      Labels           P           R      mAP@.5  mAP@.5:.95: 100% 6/6 [00:01<00:00,  5.91it/s]\n",
            "                 all          48          48       0.299       0.337      0.0502      0.0116\n",
            "\n",
            "     Epoch   gpu_mem       box       obj       cls     total    labels  img_size\n",
            "    64/199     1.92G   0.04116  0.006898   0.01819   0.06625         8       416: 100% 31/31 [00:07<00:00,  4.28it/s]\n",
            "               Class      Images      Labels           P           R      mAP@.5  mAP@.5:.95: 100% 6/6 [00:01<00:00,  4.18it/s]\n",
            "                 all          48          48      0.0392       0.418      0.0425      0.0113\n",
            "\n",
            "     Epoch   gpu_mem       box       obj       cls     total    labels  img_size\n",
            "    65/199     1.92G    0.0409  0.006995   0.01736   0.06526        10       416: 100% 31/31 [00:07<00:00,  4.41it/s]\n",
            "               Class      Images      Labels           P           R      mAP@.5  mAP@.5:.95: 100% 6/6 [00:01<00:00,  5.71it/s]\n",
            "                 all          48          48      0.0468       0.369      0.0415     0.00813\n",
            "\n",
            "     Epoch   gpu_mem       box       obj       cls     total    labels  img_size\n",
            "    66/199     1.92G   0.04849  0.006823   0.01839    0.0737         4       416: 100% 31/31 [00:09<00:00,  3.29it/s]\n",
            "               Class      Images      Labels           P           R      mAP@.5  mAP@.5:.95: 100% 6/6 [00:00<00:00,  8.63it/s]\n",
            "                 all          48          48       0.118       0.369      0.0719      0.0168\n",
            "\n",
            "     Epoch   gpu_mem       box       obj       cls     total    labels  img_size\n",
            "    67/199     1.92G   0.03735  0.007117   0.01584   0.06031         5       416: 100% 31/31 [00:06<00:00,  4.62it/s]\n",
            "               Class      Images      Labels           P           R      mAP@.5  mAP@.5:.95: 100% 6/6 [00:01<00:00,  5.13it/s]\n",
            "                 all          48          48       0.103       0.498       0.114      0.0397\n",
            "\n",
            "     Epoch   gpu_mem       box       obj       cls     total    labels  img_size\n",
            "    68/199     1.92G   0.04307  0.006637   0.01724   0.06695         5       416: 100% 31/31 [00:08<00:00,  3.82it/s]\n",
            "               Class      Images      Labels           P           R      mAP@.5  mAP@.5:.95: 100% 6/6 [00:00<00:00,  8.79it/s]\n",
            "                 all          48          48      0.0953       0.643       0.141      0.0513\n",
            "\n",
            "     Epoch   gpu_mem       box       obj       cls     total    labels  img_size\n",
            "    69/199     1.92G   0.04081  0.006979   0.01727   0.06506         5       416: 100% 31/31 [00:08<00:00,  3.65it/s]\n",
            "               Class      Images      Labels           P           R      mAP@.5  mAP@.5:.95: 100% 6/6 [00:01<00:00,  4.20it/s]\n",
            "                 all          48          48       0.441       0.378       0.164      0.0653\n",
            "\n",
            "     Epoch   gpu_mem       box       obj       cls     total    labels  img_size\n",
            "    70/199     1.92G    0.0417   0.00695   0.01798   0.06663         6       416: 100% 31/31 [00:06<00:00,  4.61it/s]\n",
            "               Class      Images      Labels           P           R      mAP@.5  mAP@.5:.95: 100% 6/6 [00:00<00:00,  6.66it/s]\n",
            "                 all          48          48       0.426       0.314       0.165        0.07\n",
            "\n",
            "     Epoch   gpu_mem       box       obj       cls     total    labels  img_size\n",
            "    71/199     1.92G   0.04592  0.006427   0.01797   0.07032         2       416: 100% 31/31 [00:09<00:00,  3.34it/s]\n",
            "               Class      Images      Labels           P           R      mAP@.5  mAP@.5:.95: 100% 6/6 [00:00<00:00,  8.48it/s]\n",
            "                 all          48          48       0.105       0.636        0.21      0.0932\n",
            "\n",
            "     Epoch   gpu_mem       box       obj       cls     total    labels  img_size\n",
            "    72/199     1.92G   0.03667  0.006057   0.01692   0.05965         6       416: 100% 31/31 [00:08<00:00,  3.66it/s]\n",
            "               Class      Images      Labels           P           R      mAP@.5  mAP@.5:.95: 100% 6/6 [00:00<00:00,  6.90it/s]\n",
            "                 all          48          48       0.124       0.652       0.231      0.0982\n",
            "\n",
            "     Epoch   gpu_mem       box       obj       cls     total    labels  img_size\n",
            "    73/199     1.92G   0.04609  0.006277   0.01854   0.07091         4       416: 100% 31/31 [00:08<00:00,  3.54it/s]\n",
            "               Class      Images      Labels           P           R      mAP@.5  mAP@.5:.95: 100% 6/6 [00:01<00:00,  4.92it/s]\n",
            "                 all          48          48       0.119       0.656       0.205      0.0758\n",
            "\n",
            "     Epoch   gpu_mem       box       obj       cls     total    labels  img_size\n",
            "    74/199     1.92G   0.04269  0.006885   0.01842     0.068         3       416: 100% 31/31 [00:06<00:00,  4.49it/s]\n",
            "               Class      Images      Labels           P           R      mAP@.5  mAP@.5:.95: 100% 6/6 [00:00<00:00,  8.26it/s]\n",
            "                 all          48          48        0.16       0.598       0.232      0.0872\n",
            "\n",
            "     Epoch   gpu_mem       box       obj       cls     total    labels  img_size\n",
            "    75/199     1.92G   0.04576  0.007276   0.01902   0.07206         6       416: 100% 31/31 [00:08<00:00,  3.49it/s]\n",
            "               Class      Images      Labels           P           R      mAP@.5  mAP@.5:.95: 100% 6/6 [00:00<00:00,  6.91it/s]\n",
            "                 all          48          48       0.439       0.345       0.226      0.0861\n",
            "\n",
            "     Epoch   gpu_mem       box       obj       cls     total    labels  img_size\n",
            "    76/199     1.92G   0.04395  0.006564   0.01869   0.06921         6       416: 100% 31/31 [00:08<00:00,  3.50it/s]\n",
            "               Class      Images      Labels           P           R      mAP@.5  mAP@.5:.95: 100% 6/6 [00:01<00:00,  5.06it/s]\n",
            "                 all          48          48       0.428       0.403       0.231      0.0934\n",
            "\n",
            "     Epoch   gpu_mem       box       obj       cls     total    labels  img_size\n",
            "    77/199     1.92G   0.04389  0.006619    0.0181   0.06861         9       416: 100% 31/31 [00:06<00:00,  4.45it/s]\n",
            "               Class      Images      Labels           P           R      mAP@.5  mAP@.5:.95: 100% 6/6 [00:01<00:00,  5.44it/s]\n",
            "                 all          48          48       0.427       0.346       0.223      0.0887\n",
            "\n",
            "     Epoch   gpu_mem       box       obj       cls     total    labels  img_size\n",
            "    78/199     1.92G   0.04421  0.007703   0.01841   0.07032         6       416: 100% 31/31 [00:09<00:00,  3.28it/s]\n",
            "               Class      Images      Labels           P           R      mAP@.5  mAP@.5:.95: 100% 6/6 [00:00<00:00,  7.20it/s]\n",
            "                 all          48          48       0.457       0.307       0.256       0.102\n",
            "\n",
            "     Epoch   gpu_mem       box       obj       cls     total    labels  img_size\n",
            "    79/199     1.92G   0.04836  0.006968   0.01933   0.07466         6       416: 100% 31/31 [00:10<00:00,  3.00it/s]\n",
            "               Class      Images      Labels           P           R      mAP@.5  mAP@.5:.95: 100% 6/6 [00:00<00:00,  7.68it/s]\n",
            "                 all          48          48       0.403       0.361       0.185      0.0716\n",
            "\n",
            "     Epoch   gpu_mem       box       obj       cls     total    labels  img_size\n",
            "    80/199     1.92G   0.04385  0.006511   0.01812   0.06849         9       416: 100% 31/31 [00:07<00:00,  4.34it/s]\n",
            "               Class      Images      Labels           P           R      mAP@.5  mAP@.5:.95: 100% 6/6 [00:01<00:00,  4.41it/s]\n",
            "                 all          48          48       0.372       0.243       0.092      0.0344\n",
            "\n",
            "     Epoch   gpu_mem       box       obj       cls     total    labels  img_size\n",
            "    81/199     1.92G   0.04682  0.006886   0.01943   0.07314         6       416: 100% 31/31 [00:08<00:00,  3.62it/s]\n",
            "               Class      Images      Labels           P           R      mAP@.5  mAP@.5:.95: 100% 6/6 [00:00<00:00,  6.78it/s]\n",
            "                 all          48          48        0.38       0.437         0.2      0.0777\n",
            "\n",
            "     Epoch   gpu_mem       box       obj       cls     total    labels  img_size\n",
            "    82/199     1.92G   0.04396   0.00706   0.01866   0.06968        12       416: 100% 31/31 [00:09<00:00,  3.19it/s]\n",
            "               Class      Images      Labels           P           R      mAP@.5  mAP@.5:.95: 100% 6/6 [00:01<00:00,  4.87it/s]\n",
            "                 all          48          48       0.421       0.405       0.231         0.1\n",
            "\n",
            "     Epoch   gpu_mem       box       obj       cls     total    labels  img_size\n",
            "    83/199     1.92G   0.04513  0.007333    0.0186   0.07107         7       416: 100% 31/31 [00:06<00:00,  4.50it/s]\n",
            "               Class      Images      Labels           P           R      mAP@.5  mAP@.5:.95: 100% 6/6 [00:00<00:00,  6.16it/s]\n",
            "                 all          48          48       0.432       0.395       0.247       0.108\n",
            "\n",
            "     Epoch   gpu_mem       box       obj       cls     total    labels  img_size\n",
            "    84/199     1.92G   0.04196  0.006838   0.01875   0.06755         2       416: 100% 31/31 [00:06<00:00,  4.57it/s]\n",
            "               Class      Images      Labels           P           R      mAP@.5  mAP@.5:.95: 100% 6/6 [00:00<00:00,  6.93it/s]\n",
            "                 all          48          48       0.428       0.509       0.258       0.116\n",
            "\n",
            "     Epoch   gpu_mem       box       obj       cls     total    labels  img_size\n",
            "    85/199     1.92G    0.0455  0.007014   0.01898   0.07149         3       416: 100% 31/31 [00:08<00:00,  3.68it/s]\n",
            "               Class      Images      Labels           P           R      mAP@.5  mAP@.5:.95: 100% 6/6 [00:01<00:00,  5.20it/s]\n",
            "                 all          48          48       0.451       0.477       0.274       0.128\n",
            "\n",
            "     Epoch   gpu_mem       box       obj       cls     total    labels  img_size\n",
            "    86/199     1.92G    0.0481  0.007264   0.01959   0.07495         6       416: 100% 31/31 [00:09<00:00,  3.23it/s]\n",
            "               Class      Images      Labels           P           R      mAP@.5  mAP@.5:.95: 100% 6/6 [00:00<00:00,  7.24it/s]\n",
            "                 all          48          48        0.46        0.46       0.286       0.141\n",
            "\n",
            "     Epoch   gpu_mem       box       obj       cls     total    labels  img_size\n",
            "    87/199     1.92G   0.04682  0.007343   0.02077   0.07494         6       416: 100% 31/31 [00:09<00:00,  3.36it/s]\n",
            "               Class      Images      Labels           P           R      mAP@.5  mAP@.5:.95: 100% 6/6 [00:01<00:00,  5.15it/s]\n",
            "                 all          48          48       0.471       0.499       0.313       0.143\n",
            "\n",
            "     Epoch   gpu_mem       box       obj       cls     total    labels  img_size\n",
            "    88/199     1.92G   0.04326  0.006434   0.01855   0.06824         2       416: 100% 31/31 [00:06<00:00,  4.65it/s]\n",
            "               Class      Images      Labels           P           R      mAP@.5  mAP@.5:.95: 100% 6/6 [00:00<00:00,  6.66it/s]\n",
            "                 all          48          48       0.476       0.495       0.307        0.14\n",
            "\n",
            "     Epoch   gpu_mem       box       obj       cls     total    labels  img_size\n",
            "    89/199     1.92G   0.03887  0.006996   0.01735   0.06322         2       416: 100% 31/31 [00:09<00:00,  3.41it/s]\n",
            "               Class      Images      Labels           P           R      mAP@.5  mAP@.5:.95: 100% 6/6 [00:00<00:00,  6.63it/s]\n",
            "                 all          48          48       0.469       0.504       0.297       0.123\n",
            "\n",
            "     Epoch   gpu_mem       box       obj       cls     total    labels  img_size\n",
            "    90/199     1.92G   0.04265  0.006678   0.01861   0.06794         6       416: 100% 31/31 [00:09<00:00,  3.24it/s]\n",
            "               Class      Images      Labels           P           R      mAP@.5  mAP@.5:.95: 100% 6/6 [00:01<00:00,  5.98it/s]\n",
            "                 all          48          48         0.5       0.479       0.317       0.142\n",
            "\n",
            "     Epoch   gpu_mem       box       obj       cls     total    labels  img_size\n",
            "    91/199     1.92G   0.03819  0.006797   0.01706   0.06205         3       416: 100% 31/31 [00:07<00:00,  4.20it/s]\n",
            "               Class      Images      Labels           P           R      mAP@.5  mAP@.5:.95: 100% 6/6 [00:01<00:00,  4.37it/s]\n",
            "                 all          48          48       0.193       0.865       0.309       0.132\n",
            "\n",
            "     Epoch   gpu_mem       box       obj       cls     total    labels  img_size\n",
            "    92/199     1.92G   0.03958   0.00693   0.01785   0.06437        10       416: 100% 31/31 [00:08<00:00,  3.54it/s]\n",
            "               Class      Images      Labels           P           R      mAP@.5  mAP@.5:.95: 100% 6/6 [00:01<00:00,  5.74it/s]\n",
            "                 all          48          48       0.223       0.865       0.296       0.117\n",
            "\n",
            "     Epoch   gpu_mem       box       obj       cls     total    labels  img_size\n",
            "    93/199     1.92G   0.03801  0.006536   0.01757   0.06212         6       416: 100% 31/31 [00:09<00:00,  3.35it/s]\n",
            "               Class      Images      Labels           P           R      mAP@.5  mAP@.5:.95: 100% 6/6 [00:00<00:00,  6.15it/s]\n",
            "                 all          48          48       0.213       0.823       0.299       0.124\n",
            "\n",
            "     Epoch   gpu_mem       box       obj       cls     total    labels  img_size\n",
            "    94/199     1.92G    0.0386  0.007134   0.01737   0.06311         9       416: 100% 31/31 [00:08<00:00,  3.65it/s]\n",
            "               Class      Images      Labels           P           R      mAP@.5  mAP@.5:.95: 100% 6/6 [00:02<00:00,  2.87it/s]\n",
            "                 all          48          48       0.201       0.762       0.274       0.114\n",
            "\n",
            "     Epoch   gpu_mem       box       obj       cls     total    labels  img_size\n",
            "    95/199     1.92G   0.03429  0.006955   0.01717   0.05841         6       416: 100% 31/31 [00:08<00:00,  3.60it/s]\n",
            "               Class      Images      Labels           P           R      mAP@.5  mAP@.5:.95: 100% 6/6 [00:00<00:00,  6.44it/s]\n",
            "                 all          48          48       0.259       0.624       0.304       0.132\n",
            "\n",
            "     Epoch   gpu_mem       box       obj       cls     total    labels  img_size\n",
            "    96/199     1.92G   0.03127  0.006885   0.01667   0.05482         4       416: 100% 31/31 [00:08<00:00,  3.49it/s]\n",
            "               Class      Images      Labels           P           R      mAP@.5  mAP@.5:.95: 100% 6/6 [00:01<00:00,  4.69it/s]\n",
            "                 all          48          48       0.203       0.973       0.313       0.133\n",
            "\n",
            "     Epoch   gpu_mem       box       obj       cls     total    labels  img_size\n",
            "    97/199     1.92G   0.03828  0.006726    0.0174   0.06241         5       416: 100% 31/31 [00:06<00:00,  4.48it/s]\n",
            "               Class      Images      Labels           P           R      mAP@.5  mAP@.5:.95: 100% 6/6 [00:01<00:00,  5.68it/s]\n",
            "                 all          48          48       0.254        0.72       0.287       0.129\n",
            "\n",
            "     Epoch   gpu_mem       box       obj       cls     total    labels  img_size\n",
            "    98/199     1.92G   0.03138  0.006359    0.0162   0.05394         3       416: 100% 31/31 [00:09<00:00,  3.44it/s]\n",
            "               Class      Images      Labels           P           R      mAP@.5  mAP@.5:.95: 100% 6/6 [00:01<00:00,  5.63it/s]\n",
            "                 all          48          48       0.222        0.82       0.295       0.132\n",
            "\n",
            "     Epoch   gpu_mem       box       obj       cls     total    labels  img_size\n",
            "    99/199     1.92G   0.04062  0.006725   0.01783   0.06518         4       416: 100% 31/31 [00:08<00:00,  3.60it/s]\n",
            "               Class      Images      Labels           P           R      mAP@.5  mAP@.5:.95: 100% 6/6 [00:01<00:00,  4.19it/s]\n",
            "                 all          48          48       0.219       0.843       0.298       0.123\n",
            "\n",
            "     Epoch   gpu_mem       box       obj       cls     total    labels  img_size\n",
            "   100/199     1.92G   0.03557  0.007422   0.01734   0.06033         6       416: 100% 31/31 [00:06<00:00,  4.63it/s]\n",
            "               Class      Images      Labels           P           R      mAP@.5  mAP@.5:.95: 100% 6/6 [00:00<00:00,  6.74it/s]\n",
            "                 all          48          48       0.227       0.869        0.34       0.136\n",
            "\n",
            "     Epoch   gpu_mem       box       obj       cls     total    labels  img_size\n",
            "   101/199     1.92G   0.03581  0.006252   0.01887   0.06093         6       416: 100% 31/31 [00:09<00:00,  3.37it/s]\n",
            "               Class      Images      Labels           P           R      mAP@.5  mAP@.5:.95: 100% 6/6 [00:00<00:00,  8.59it/s]\n",
            "                 all          48          48       0.241        0.73       0.328       0.132\n",
            "\n",
            "     Epoch   gpu_mem       box       obj       cls     total    labels  img_size\n",
            "   102/199     1.92G   0.03558  0.007526   0.01696   0.06007         4       416: 100% 31/31 [00:08<00:00,  3.71it/s]\n",
            "               Class      Images      Labels           P           R      mAP@.5  mAP@.5:.95: 100% 6/6 [00:01<00:00,  4.27it/s]\n",
            "                 all          48          48       0.221       0.837        0.32       0.131\n",
            "\n",
            "     Epoch   gpu_mem       box       obj       cls     total    labels  img_size\n",
            "   103/199     1.92G     0.039  0.006953   0.01832   0.06428         5       416: 100% 31/31 [00:06<00:00,  4.73it/s]\n",
            "               Class      Images      Labels           P           R      mAP@.5  mAP@.5:.95: 100% 6/6 [00:00<00:00,  6.23it/s]\n",
            "                 all          48          48       0.221         0.9       0.321       0.138\n",
            "\n",
            "     Epoch   gpu_mem       box       obj       cls     total    labels  img_size\n",
            "   104/199     1.92G   0.03749  0.006849   0.01807   0.06241         6       416: 100% 31/31 [00:09<00:00,  3.29it/s]\n",
            "               Class      Images      Labels           P           R      mAP@.5  mAP@.5:.95: 100% 6/6 [00:00<00:00,  6.44it/s]\n",
            "                 all          48          48       0.228       0.846       0.316       0.148\n",
            "\n",
            "     Epoch   gpu_mem       box       obj       cls     total    labels  img_size\n",
            "   105/199     1.92G   0.03434   0.00662   0.01712   0.05809         8       416: 100% 31/31 [00:08<00:00,  3.49it/s]\n",
            "               Class      Images      Labels           P           R      mAP@.5  mAP@.5:.95: 100% 6/6 [00:01<00:00,  4.05it/s]\n",
            "                 all          48          48       0.233       0.827       0.307       0.142\n",
            "\n",
            "     Epoch   gpu_mem       box       obj       cls     total    labels  img_size\n",
            "   106/199     1.92G    0.0336  0.006511   0.01692   0.05703         0       416: 100% 31/31 [00:06<00:00,  4.75it/s]\n",
            "               Class      Images      Labels           P           R      mAP@.5  mAP@.5:.95: 100% 6/6 [00:00<00:00,  6.50it/s]\n",
            "                 all          48          48       0.218       0.904       0.329       0.148\n",
            "\n",
            "     Epoch   gpu_mem       box       obj       cls     total    labels  img_size\n",
            "   107/199     1.92G   0.03727  0.006921   0.01792   0.06211         6       416: 100% 31/31 [00:08<00:00,  3.57it/s]\n",
            "               Class      Images      Labels           P           R      mAP@.5  mAP@.5:.95: 100% 6/6 [00:00<00:00,  7.00it/s]\n",
            "                 all          48          48       0.214       0.885       0.312       0.154\n",
            "\n",
            "     Epoch   gpu_mem       box       obj       cls     total    labels  img_size\n",
            "   108/199     1.92G   0.04074  0.006968   0.01867   0.06638         5       416: 100% 31/31 [00:09<00:00,  3.19it/s]\n",
            "               Class      Images      Labels           P           R      mAP@.5  mAP@.5:.95: 100% 6/6 [00:01<00:00,  5.61it/s]\n",
            "                 all          48          48       0.196       0.601       0.295       0.146\n",
            "\n",
            "     Epoch   gpu_mem       box       obj       cls     total    labels  img_size\n",
            "   109/199     1.92G   0.03191  0.006866   0.01639   0.05517         1       416: 100% 31/31 [00:07<00:00,  4.40it/s]\n",
            "               Class      Images      Labels           P           R      mAP@.5  mAP@.5:.95: 100% 6/6 [00:01<00:00,  4.18it/s]\n",
            "                 all          48          48       0.239       0.957       0.314       0.155\n",
            "\n",
            "     Epoch   gpu_mem       box       obj       cls     total    labels  img_size\n",
            "   110/199     1.92G   0.03931  0.006447   0.01784   0.06359         2       416: 100% 31/31 [00:07<00:00,  4.22it/s]\n",
            "               Class      Images      Labels           P           R      mAP@.5  mAP@.5:.95: 100% 6/6 [00:00<00:00,  7.72it/s]\n",
            "                 all          48          48       0.221       0.839       0.296       0.144\n",
            "\n",
            "     Epoch   gpu_mem       box       obj       cls     total    labels  img_size\n",
            "   111/199     1.92G   0.03402  0.006315   0.01744   0.05778         4       416: 100% 31/31 [00:09<00:00,  3.19it/s]\n",
            "               Class      Images      Labels           P           R      mAP@.5  mAP@.5:.95: 100% 6/6 [00:01<00:00,  5.98it/s]\n",
            "                 all          48          48       0.233       0.935       0.321       0.157\n",
            "\n",
            "     Epoch   gpu_mem       box       obj       cls     total    labels  img_size\n",
            "   112/199     1.92G   0.04146  0.006653   0.01776   0.06588         9       416: 100% 31/31 [00:08<00:00,  3.80it/s]\n",
            "               Class      Images      Labels           P           R      mAP@.5  mAP@.5:.95: 100% 6/6 [00:01<00:00,  3.87it/s]\n",
            "                 all          48          48        0.23       0.881       0.302       0.151\n",
            "\n",
            "     Epoch   gpu_mem       box       obj       cls     total    labels  img_size\n",
            "   113/199     1.92G   0.04067   0.00711   0.01866   0.06644        10       416: 100% 31/31 [00:07<00:00,  4.31it/s]\n",
            "               Class      Images      Labels           P           R      mAP@.5  mAP@.5:.95: 100% 6/6 [00:00<00:00,  6.81it/s]\n",
            "                 all          48          48       0.311       0.743       0.321       0.164\n",
            "\n",
            "     Epoch   gpu_mem       box       obj       cls     total    labels  img_size\n",
            "   114/199     1.92G   0.03575  0.006261   0.01691   0.05892         2       416: 100% 31/31 [00:09<00:00,  3.38it/s]\n",
            "               Class      Images      Labels           P           R      mAP@.5  mAP@.5:.95: 100% 6/6 [00:00<00:00,  6.33it/s]\n",
            "                 all          48          48       0.306       0.766       0.331       0.188\n",
            "\n",
            "     Epoch   gpu_mem       box       obj       cls     total    labels  img_size\n",
            "   115/199     1.92G   0.03249  0.007449   0.01729   0.05723         7       416: 100% 31/31 [00:09<00:00,  3.31it/s]\n",
            "               Class      Images      Labels           P           R      mAP@.5  mAP@.5:.95: 100% 6/6 [00:01<00:00,  4.59it/s]\n",
            "                 all          48          48       0.221       0.843       0.311       0.174\n",
            "\n",
            "     Epoch   gpu_mem       box       obj       cls     total    labels  img_size\n",
            "   116/199     1.92G   0.04341  0.006985   0.01881    0.0692        13       416: 100% 31/31 [00:07<00:00,  4.37it/s]\n",
            "               Class      Images      Labels           P           R      mAP@.5  mAP@.5:.95: 100% 6/6 [00:01<00:00,  5.69it/s]\n",
            "                 all          48          48       0.234       0.846        0.32       0.172\n",
            "\n",
            "     Epoch   gpu_mem       box       obj       cls     total    labels  img_size\n",
            "   117/199     1.92G   0.03483  0.006866   0.01749   0.05919         5       416: 100% 31/31 [00:08<00:00,  3.61it/s]\n",
            "               Class      Images      Labels           P           R      mAP@.5  mAP@.5:.95: 100% 6/6 [00:00<00:00,  8.37it/s]\n",
            "                 all          48          48       0.196       0.904        0.32       0.164\n",
            "\n",
            "     Epoch   gpu_mem       box       obj       cls     total    labels  img_size\n",
            "   118/199     1.92G   0.04856  0.007148   0.02018   0.07588         9       416: 100% 31/31 [00:09<00:00,  3.22it/s]\n",
            "               Class      Images      Labels           P           R      mAP@.5  mAP@.5:.95: 100% 6/6 [00:01<00:00,  5.18it/s]\n",
            "                 all          48          48        0.48       0.631       0.322       0.167\n",
            "\n",
            "     Epoch   gpu_mem       box       obj       cls     total    labels  img_size\n",
            "   119/199     1.92G   0.03444  0.007043   0.01728   0.05877         3       416: 100% 31/31 [00:06<00:00,  4.50it/s]\n",
            "               Class      Images      Labels           P           R      mAP@.5  mAP@.5:.95: 100% 6/6 [00:00<00:00,  7.35it/s]\n",
            "                 all          48          48        0.21       0.808       0.319       0.166\n",
            "\n",
            "     Epoch   gpu_mem       box       obj       cls     total    labels  img_size\n",
            "   120/199     1.92G   0.03566  0.006739   0.01828   0.06067         6       416: 100% 31/31 [00:09<00:00,  3.26it/s]\n",
            "               Class      Images      Labels           P           R      mAP@.5  mAP@.5:.95: 100% 6/6 [00:00<00:00,  6.34it/s]\n",
            "                 all          48          48       0.225       0.827       0.326       0.176\n",
            "\n",
            "     Epoch   gpu_mem       box       obj       cls     total    labels  img_size\n",
            "   121/199     1.92G   0.03015  0.006399    0.0159   0.05245         6       416: 100% 31/31 [00:08<00:00,  3.59it/s]\n",
            "               Class      Images      Labels           P           R      mAP@.5  mAP@.5:.95: 100% 6/6 [00:01<00:00,  3.94it/s]\n",
            "                 all          48          48        0.21        0.94       0.304       0.166\n",
            "\n",
            "     Epoch   gpu_mem       box       obj       cls     total    labels  img_size\n",
            "   122/199     1.92G   0.03785  0.007093   0.01854   0.06349         6       416: 100% 31/31 [00:07<00:00,  4.38it/s]\n",
            "               Class      Images      Labels           P           R      mAP@.5  mAP@.5:.95: 100% 6/6 [00:00<00:00,  6.04it/s]\n",
            "                 all          48          48       0.218        0.92       0.315       0.175\n",
            "\n",
            "     Epoch   gpu_mem       box       obj       cls     total    labels  img_size\n",
            "   123/199     1.92G    0.0395  0.006963    0.0184   0.06486         8       416: 100% 31/31 [00:09<00:00,  3.15it/s]\n",
            "               Class      Images      Labels           P           R      mAP@.5  mAP@.5:.95: 100% 6/6 [00:00<00:00,  6.48it/s]\n",
            "                 all          48          48       0.234       0.956       0.312       0.171\n",
            "\n",
            "     Epoch   gpu_mem       box       obj       cls     total    labels  img_size\n",
            "   124/199     1.92G   0.03285   0.00678   0.01749   0.05713         1       416: 100% 31/31 [00:08<00:00,  3.76it/s]\n",
            "               Class      Images      Labels           P           R      mAP@.5  mAP@.5:.95: 100% 6/6 [00:01<00:00,  5.10it/s]\n",
            "                 all          48          48       0.243        0.96       0.328       0.182\n",
            "\n",
            "     Epoch   gpu_mem       box       obj       cls     total    labels  img_size\n",
            "   125/199     1.92G   0.03072  0.007504   0.01743   0.05566         9       416: 100% 31/31 [00:07<00:00,  4.34it/s]\n",
            "               Class      Images      Labels           P           R      mAP@.5  mAP@.5:.95: 100% 6/6 [00:01<00:00,  5.77it/s]\n",
            "                 all          48          48       0.236       0.937       0.323       0.181\n",
            "\n",
            "     Epoch   gpu_mem       box       obj       cls     total    labels  img_size\n",
            "   126/199     1.92G   0.03706  0.006869   0.01873   0.06266         5       416: 100% 31/31 [00:08<00:00,  3.60it/s]\n",
            "               Class      Images      Labels           P           R      mAP@.5  mAP@.5:.95: 100% 6/6 [00:00<00:00,  7.78it/s]\n",
            "                 all          48          48       0.231         0.9       0.285       0.158\n",
            "\n",
            "     Epoch   gpu_mem       box       obj       cls     total    labels  img_size\n",
            "   127/199     1.92G   0.03664  0.007149   0.01743   0.06122         8       416: 100% 31/31 [00:09<00:00,  3.36it/s]\n",
            "               Class      Images      Labels           P           R      mAP@.5  mAP@.5:.95: 100% 6/6 [00:01<00:00,  4.94it/s]\n",
            "                 all          48          48       0.236       0.922       0.305       0.162\n",
            "\n",
            "     Epoch   gpu_mem       box       obj       cls     total    labels  img_size\n",
            "   128/199     1.92G   0.03457  0.007231   0.01692   0.05872         8       416: 100% 31/31 [00:06<00:00,  4.59it/s]\n",
            "               Class      Images      Labels           P           R      mAP@.5  mAP@.5:.95: 100% 6/6 [00:01<00:00,  5.81it/s]\n",
            "                 all          48          48       0.234       0.961        0.31       0.174\n",
            "\n",
            "     Epoch   gpu_mem       box       obj       cls     total    labels  img_size\n",
            "   129/199     1.92G   0.03289  0.007002   0.01739   0.05729         4       416: 100% 31/31 [00:08<00:00,  3.47it/s]\n",
            "               Class      Images      Labels           P           R      mAP@.5  mAP@.5:.95: 100% 6/6 [00:00<00:00,  6.08it/s]\n",
            "                 all          48          48       0.236       0.856       0.331       0.187\n",
            "\n",
            "     Epoch   gpu_mem       box       obj       cls     total    labels  img_size\n",
            "   130/199     1.92G   0.04249  0.006509   0.01865   0.06765         4       416: 100% 31/31 [00:09<00:00,  3.41it/s]\n",
            "               Class      Images      Labels           P           R      mAP@.5  mAP@.5:.95: 100% 6/6 [00:01<00:00,  4.58it/s]\n",
            "                 all          48          48       0.222       0.865        0.32       0.182\n",
            "\n",
            "     Epoch   gpu_mem       box       obj       cls     total    labels  img_size\n",
            "   131/199     1.92G   0.03343  0.006633   0.01676   0.05682         3       416: 100% 31/31 [00:06<00:00,  4.45it/s]\n",
            "               Class      Images      Labels           P           R      mAP@.5  mAP@.5:.95: 100% 6/6 [00:00<00:00,  7.63it/s]\n",
            "                 all          48          48       0.227       0.885       0.293       0.168\n",
            "\n",
            "     Epoch   gpu_mem       box       obj       cls     total    labels  img_size\n",
            "   132/199     1.92G   0.03414  0.007292   0.01712   0.05855         2       416: 100% 31/31 [00:09<00:00,  3.35it/s]\n",
            "               Class      Images      Labels           P           R      mAP@.5  mAP@.5:.95: 100% 6/6 [00:01<00:00,  5.95it/s]\n",
            "                 all          48          48       0.217       0.942       0.296       0.169\n",
            "\n",
            "     Epoch   gpu_mem       box       obj       cls     total    labels  img_size\n",
            "   133/199     1.92G   0.02834  0.006454   0.01629   0.05109         4       416: 100% 31/31 [00:07<00:00,  4.06it/s]\n",
            "               Class      Images      Labels           P           R      mAP@.5  mAP@.5:.95: 100% 6/6 [00:01<00:00,  3.85it/s]\n",
            "                 all          48          48       0.214        0.94       0.329        0.19\n",
            "\n",
            "     Epoch   gpu_mem       box       obj       cls     total    labels  img_size\n",
            "   134/199     1.92G   0.03213  0.007002   0.01757    0.0567         9       416: 100% 31/31 [00:06<00:00,  4.63it/s]\n",
            "               Class      Images      Labels           P           R      mAP@.5  mAP@.5:.95: 100% 6/6 [00:01<00:00,  5.42it/s]\n",
            "                 all          48          48        0.21       0.942       0.357       0.197\n",
            "\n",
            "     Epoch   gpu_mem       box       obj       cls     total    labels  img_size\n",
            "   135/199     1.92G   0.03452  0.007139   0.01773   0.05939         8       416: 100% 31/31 [00:08<00:00,  3.70it/s]\n",
            "               Class      Images      Labels           P           R      mAP@.5  mAP@.5:.95: 100% 6/6 [00:00<00:00,  7.38it/s]\n",
            "                 all          48          48       0.207       0.919       0.351       0.194\n",
            "\n",
            "     Epoch   gpu_mem       box       obj       cls     total    labels  img_size\n",
            "   136/199     1.92G   0.03432  0.007052   0.01784   0.05921         6       416: 100% 31/31 [00:09<00:00,  3.27it/s]\n",
            "               Class      Images      Labels           P           R      mAP@.5  mAP@.5:.95: 100% 6/6 [00:01<00:00,  4.46it/s]\n",
            "                 all          48          48       0.231       0.904        0.34       0.182\n",
            "\n",
            "     Epoch   gpu_mem       box       obj       cls     total    labels  img_size\n",
            "   137/199     1.92G    0.0352  0.006688   0.01845   0.06034         3       416: 100% 31/31 [00:06<00:00,  4.56it/s]\n",
            "               Class      Images      Labels           P           R      mAP@.5  mAP@.5:.95: 100% 6/6 [00:00<00:00,  6.65it/s]\n",
            "                 all          48          48       0.235       0.904       0.335       0.186\n",
            "\n",
            "     Epoch   gpu_mem       box       obj       cls     total    labels  img_size\n",
            "   138/199     1.92G   0.03204  0.006908   0.01678   0.05573         2       416: 100% 31/31 [00:09<00:00,  3.35it/s]\n",
            "               Class      Images      Labels           P           R      mAP@.5  mAP@.5:.95: 100% 6/6 [00:00<00:00,  6.90it/s]\n",
            "                 all          48          48       0.233       0.904       0.322       0.186\n",
            "\n",
            "     Epoch   gpu_mem       box       obj       cls     total    labels  img_size\n",
            "   139/199     1.92G   0.03479  0.006678   0.01732   0.05879        11       416: 100% 31/31 [00:08<00:00,  3.74it/s]\n",
            "               Class      Images      Labels           P           R      mAP@.5  mAP@.5:.95: 100% 6/6 [00:01<00:00,  3.89it/s]\n",
            "                 all          48          48       0.233       0.904       0.326       0.186\n",
            "\n",
            "     Epoch   gpu_mem       box       obj       cls     total    labels  img_size\n",
            "   140/199     1.92G   0.02866  0.007033   0.01635   0.05205         2       416: 100% 31/31 [00:06<00:00,  4.56it/s]\n",
            "               Class      Images      Labels           P           R      mAP@.5  mAP@.5:.95: 100% 6/6 [00:00<00:00,  7.06it/s]\n",
            "                 all          48          48       0.235       0.885       0.343       0.196\n",
            "\n",
            "     Epoch   gpu_mem       box       obj       cls     total    labels  img_size\n",
            "   141/199     1.92G   0.03345  0.006422    0.0176   0.05747         6       416: 100% 31/31 [00:09<00:00,  3.27it/s]\n",
            "               Class      Images      Labels           P           R      mAP@.5  mAP@.5:.95: 100% 6/6 [00:00<00:00,  7.28it/s]\n",
            "                 all          48          48       0.229       0.923       0.361       0.194\n",
            "\n",
            "     Epoch   gpu_mem       box       obj       cls     total    labels  img_size\n",
            "   142/199     1.92G    0.0402  0.006643   0.01945    0.0663         8       416: 100% 31/31 [00:08<00:00,  3.74it/s]\n",
            "               Class      Images      Labels           P           R      mAP@.5  mAP@.5:.95: 100% 6/6 [00:01<00:00,  3.08it/s]\n",
            "                 all          48          48       0.231       0.901       0.361       0.197\n",
            "\n",
            "     Epoch   gpu_mem       box       obj       cls     total    labels  img_size\n",
            "   143/199     1.92G   0.03122  0.007084   0.01675   0.05506         8       416: 100% 31/31 [00:07<00:00,  4.09it/s]\n",
            "               Class      Images      Labels           P           R      mAP@.5  mAP@.5:.95: 100% 6/6 [00:00<00:00,  7.37it/s]\n",
            "                 all          48          48       0.229       0.923       0.352       0.196\n",
            "\n",
            "     Epoch   gpu_mem       box       obj       cls     total    labels  img_size\n",
            "   144/199     1.92G   0.03505  0.006764   0.01835   0.06017        13       416: 100% 31/31 [00:09<00:00,  3.33it/s]\n",
            "               Class      Images      Labels           P           R      mAP@.5  mAP@.5:.95: 100% 6/6 [00:00<00:00,  7.63it/s]\n",
            "                 all          48          48       0.227       0.885       0.334       0.192\n",
            "\n",
            "     Epoch   gpu_mem       box       obj       cls     total    labels  img_size\n",
            "   145/199     1.92G   0.03587  0.006826   0.01761   0.06031         3       416: 100% 31/31 [00:09<00:00,  3.28it/s]\n",
            "               Class      Images      Labels           P           R      mAP@.5  mAP@.5:.95: 100% 6/6 [00:01<00:00,  4.45it/s]\n",
            "                 all          48          48       0.221       0.942       0.329        0.19\n",
            "\n",
            "     Epoch   gpu_mem       box       obj       cls     total    labels  img_size\n",
            "   146/199     1.92G   0.03522  0.007271   0.01828   0.06077         2       416: 100% 31/31 [00:07<00:00,  4.42it/s]\n",
            "               Class      Images      Labels           P           R      mAP@.5  mAP@.5:.95: 100% 6/6 [00:00<00:00,  6.35it/s]\n",
            "                 all          48          48       0.224       0.923       0.333       0.194\n",
            "\n",
            "     Epoch   gpu_mem       box       obj       cls     total    labels  img_size\n",
            "   147/199     1.92G   0.03274   0.00731   0.01785   0.05791         6       416: 100% 31/31 [00:09<00:00,  3.20it/s]\n",
            "               Class      Images      Labels           P           R      mAP@.5  mAP@.5:.95: 100% 6/6 [00:00<00:00,  6.51it/s]\n",
            "                 all          48          48       0.232       0.902        0.34       0.189\n",
            "\n",
            "     Epoch   gpu_mem       box       obj       cls     total    labels  img_size\n",
            "   148/199     1.92G   0.03214  0.006724   0.01738   0.05625         4       416: 100% 31/31 [00:08<00:00,  3.57it/s]\n",
            "               Class      Images      Labels           P           R      mAP@.5  mAP@.5:.95: 100% 6/6 [00:01<00:00,  3.97it/s]\n",
            "                 all          48          48       0.221       0.923       0.362       0.205\n",
            "\n",
            "     Epoch   gpu_mem       box       obj       cls     total    labels  img_size\n",
            "   149/199     1.92G   0.03328  0.006433    0.0176   0.05732         1       416: 100% 31/31 [00:06<00:00,  4.60it/s]\n",
            "               Class      Images      Labels           P           R      mAP@.5  mAP@.5:.95: 100% 6/6 [00:01<00:00,  5.37it/s]\n",
            "                 all          48          48       0.226       0.942       0.356       0.196\n",
            "\n",
            "     Epoch   gpu_mem       box       obj       cls     total    labels  img_size\n",
            "   150/199     1.92G   0.03455  0.007248   0.01852   0.06031         8       416: 100% 31/31 [00:08<00:00,  3.87it/s]\n",
            "               Class      Images      Labels           P           R      mAP@.5  mAP@.5:.95: 100% 6/6 [00:00<00:00,  8.15it/s]\n",
            "                 all          48          48       0.226       0.981       0.354       0.185\n",
            "\n",
            "     Epoch   gpu_mem       box       obj       cls     total    labels  img_size\n",
            "   151/199     1.92G   0.03194  0.007266   0.01773   0.05694         6       416: 100% 31/31 [00:09<00:00,  3.19it/s]\n",
            "               Class      Images      Labels           P           R      mAP@.5  mAP@.5:.95: 100% 6/6 [00:00<00:00,  6.54it/s]\n",
            "                 all          48          48        0.23       0.981        0.36       0.192\n",
            "\n",
            "     Epoch   gpu_mem       box       obj       cls     total    labels  img_size\n",
            "   152/199     1.92G   0.03134  0.006845   0.01715   0.05533         6       416: 100% 31/31 [00:06<00:00,  4.56it/s]\n",
            "               Class      Images      Labels           P           R      mAP@.5  mAP@.5:.95: 100% 6/6 [00:01<00:00,  3.73it/s]\n",
            "                 all          48          48       0.228           1       0.352       0.192\n",
            "\n",
            "     Epoch   gpu_mem       box       obj       cls     total    labels  img_size\n",
            "   153/199     1.92G   0.03342  0.006227   0.01766    0.0573         1       416: 100% 31/31 [00:08<00:00,  3.69it/s]\n",
            "               Class      Images      Labels           P           R      mAP@.5  mAP@.5:.95: 100% 6/6 [00:00<00:00,  7.22it/s]\n",
            "                 all          48          48       0.231       0.957       0.372       0.204\n",
            "\n",
            "     Epoch   gpu_mem       box       obj       cls     total    labels  img_size\n",
            "   154/199     1.92G   0.03312  0.007115   0.01784   0.05807         8       416: 100% 31/31 [00:09<00:00,  3.30it/s]\n",
            "               Class      Images      Labels           P           R      mAP@.5  mAP@.5:.95: 100% 6/6 [00:00<00:00,  6.37it/s]\n",
            "                 all          48          48       0.227       0.942        0.34        0.19\n",
            "\n",
            "     Epoch   gpu_mem       box       obj       cls     total    labels  img_size\n",
            "   155/199     1.92G    0.0338  0.007641   0.01778   0.05922         5       416: 100% 31/31 [00:06<00:00,  4.51it/s]\n",
            "               Class      Images      Labels           P           R      mAP@.5  mAP@.5:.95: 100% 6/6 [00:01<00:00,  5.15it/s]\n",
            "                 all          48          48       0.245       0.904       0.345       0.189\n",
            "\n",
            "     Epoch   gpu_mem       box       obj       cls     total    labels  img_size\n",
            "   156/199     1.92G   0.03363  0.007025   0.01799   0.05865         8       416: 100% 31/31 [00:08<00:00,  3.56it/s]\n",
            "               Class      Images      Labels           P           R      mAP@.5  mAP@.5:.95: 100% 6/6 [00:00<00:00,  8.43it/s]\n",
            "                 all          48          48       0.239       0.885       0.336       0.195\n",
            "\n",
            "     Epoch   gpu_mem       box       obj       cls     total    labels  img_size\n",
            "   157/199     1.92G   0.03298  0.007118    0.0182   0.05829         5       416: 100% 31/31 [00:09<00:00,  3.20it/s]\n",
            "               Class      Images      Labels           P           R      mAP@.5  mAP@.5:.95: 100% 6/6 [00:00<00:00,  7.14it/s]\n",
            "                 all          48          48       0.247       0.904       0.343       0.193\n",
            "\n",
            "     Epoch   gpu_mem       box       obj       cls     total    labels  img_size\n",
            "   158/199     1.92G   0.03226  0.007264    0.0178   0.05733         5       416: 100% 31/31 [00:06<00:00,  4.47it/s]\n",
            "               Class      Images      Labels           P           R      mAP@.5  mAP@.5:.95: 100% 6/6 [00:00<00:00,  6.57it/s]\n",
            "                 all          48          48       0.248       0.904       0.339       0.193\n",
            "\n",
            "     Epoch   gpu_mem       box       obj       cls     total    labels  img_size\n",
            "   159/199     1.92G   0.03388   0.00671    0.0182   0.05879         3       416: 100% 31/31 [00:08<00:00,  3.67it/s]\n",
            "               Class      Images      Labels           P           R      mAP@.5  mAP@.5:.95: 100% 6/6 [00:01<00:00,  4.59it/s]\n",
            "                 all          48          48       0.237       0.974       0.339       0.194\n",
            "\n",
            "     Epoch   gpu_mem       box       obj       cls     total    labels  img_size\n",
            "   160/199     1.92G    0.0335   0.00759   0.01793   0.05902         5       416: 100% 31/31 [00:09<00:00,  3.21it/s]\n",
            "               Class      Images      Labels           P           R      mAP@.5  mAP@.5:.95: 100% 6/6 [00:00<00:00,  7.49it/s]\n",
            "                 all          48          48       0.244       0.923        0.36       0.205\n",
            "\n",
            "     Epoch   gpu_mem       box       obj       cls     total    labels  img_size\n",
            "   161/199     1.92G   0.03442  0.006865    0.0184   0.05969         5       416: 100% 31/31 [00:06<00:00,  4.55it/s]\n",
            "               Class      Images      Labels           P           R      mAP@.5  mAP@.5:.95: 100% 6/6 [00:01<00:00,  5.67it/s]\n",
            "                 all          48          48       0.254       0.891       0.356       0.198\n",
            "\n",
            "     Epoch   gpu_mem       box       obj       cls     total    labels  img_size\n",
            "   162/199     1.92G   0.03581  0.007066   0.01804   0.06092         6       416: 100% 31/31 [00:08<00:00,  3.50it/s]\n",
            "               Class      Images      Labels           P           R      mAP@.5  mAP@.5:.95: 100% 6/6 [00:00<00:00,  8.10it/s]\n",
            "                 all          48          48       0.249       0.904       0.348         0.2\n",
            "\n",
            "     Epoch   gpu_mem       box       obj       cls     total    labels  img_size\n",
            "   163/199     1.92G   0.03505  0.006728   0.01779   0.05956         6       416: 100% 31/31 [00:09<00:00,  3.23it/s]\n",
            "               Class      Images      Labels           P           R      mAP@.5  mAP@.5:.95: 100% 6/6 [00:01<00:00,  5.41it/s]\n",
            "                 all          48          48       0.239        0.96       0.344       0.202\n",
            "\n",
            "     Epoch   gpu_mem       box       obj       cls     total    labels  img_size\n",
            "   164/199     1.92G   0.02876  0.006379   0.01672   0.05186         8       416: 100% 31/31 [00:06<00:00,  4.67it/s]\n",
            "               Class      Images      Labels           P           R      mAP@.5  mAP@.5:.95: 100% 6/6 [00:00<00:00,  6.35it/s]\n",
            "                 all          48          48        0.24       0.961       0.351       0.204\n",
            "\n",
            "     Epoch   gpu_mem       box       obj       cls     total    labels  img_size\n",
            "   165/199     1.92G    0.0336  0.006896   0.01752   0.05801         7       416: 100% 31/31 [00:08<00:00,  3.49it/s]\n",
            "               Class      Images      Labels           P           R      mAP@.5  mAP@.5:.95: 100% 6/6 [00:01<00:00,  5.72it/s]\n",
            "                 all          48          48       0.236       0.965       0.364       0.209\n",
            "\n",
            "     Epoch   gpu_mem       box       obj       cls     total    labels  img_size\n",
            "   166/199     1.92G   0.03045  0.006907   0.01718   0.05454         3       416: 100% 31/31 [00:08<00:00,  3.49it/s]\n",
            "               Class      Images      Labels           P           R      mAP@.5  mAP@.5:.95: 100% 6/6 [00:01<00:00,  5.89it/s]\n",
            "                 all          48          48       0.237       0.923       0.371       0.217\n",
            "\n",
            "     Epoch   gpu_mem       box       obj       cls     total    labels  img_size\n",
            "   167/199     1.92G   0.03736  0.007894   0.01873   0.06399         8       416: 100% 31/31 [00:09<00:00,  3.14it/s]\n",
            "               Class      Images      Labels           P           R      mAP@.5  mAP@.5:.95: 100% 6/6 [00:00<00:00,  7.28it/s]\n",
            "                 all          48          48       0.237       0.944       0.375       0.216\n",
            "\n",
            "     Epoch   gpu_mem       box       obj       cls     total    labels  img_size\n",
            "   168/199     1.92G   0.03334  0.006768   0.01734   0.05745         4       416: 100% 31/31 [00:06<00:00,  4.53it/s]\n",
            "               Class      Images      Labels           P           R      mAP@.5  mAP@.5:.95: 100% 6/6 [00:01<00:00,  4.73it/s]\n",
            "                 all          48          48       0.233        0.96       0.369       0.202\n",
            "\n",
            "     Epoch   gpu_mem       box       obj       cls     total    labels  img_size\n",
            "   169/199     1.92G   0.02702  0.006517   0.01636   0.04991         4       416: 100% 31/31 [00:08<00:00,  3.56it/s]\n",
            "               Class      Images      Labels           P           R      mAP@.5  mAP@.5:.95: 100% 6/6 [00:00<00:00,  6.64it/s]\n",
            "                 all          48          48       0.239       0.979       0.383       0.226\n",
            "\n",
            "     Epoch   gpu_mem       box       obj       cls     total    labels  img_size\n",
            "   170/199     1.92G   0.03149   0.00732   0.01814   0.05694         3       416: 100% 31/31 [00:09<00:00,  3.13it/s]\n",
            "               Class      Images      Labels           P           R      mAP@.5  mAP@.5:.95: 100% 6/6 [00:00<00:00,  7.41it/s]\n",
            "                 all          48          48       0.237       0.969       0.379       0.223\n",
            "\n",
            "     Epoch   gpu_mem       box       obj       cls     total    labels  img_size\n",
            "   171/199     1.92G   0.03382  0.006728   0.01751   0.05806         4       416: 100% 31/31 [00:07<00:00,  4.11it/s]\n",
            "               Class      Images      Labels           P           R      mAP@.5  mAP@.5:.95: 100% 6/6 [00:01<00:00,  4.20it/s]\n",
            "                 all          48          48       0.238       0.962       0.383       0.232\n",
            "\n",
            "     Epoch   gpu_mem       box       obj       cls     total    labels  img_size\n",
            "   172/199     1.92G   0.03347  0.007297   0.01838   0.05915         7       416: 100% 31/31 [00:06<00:00,  4.49it/s]\n",
            "               Class      Images      Labels           P           R      mAP@.5  mAP@.5:.95: 100% 6/6 [00:00<00:00,  6.34it/s]\n",
            "                 all          48          48       0.235       0.962       0.397       0.224\n",
            "\n",
            "     Epoch   gpu_mem       box       obj       cls     total    labels  img_size\n",
            "   173/199     1.92G   0.03491   0.00713    0.0185   0.06054         5       416: 100% 31/31 [00:09<00:00,  3.26it/s]\n",
            "               Class      Images      Labels           P           R      mAP@.5  mAP@.5:.95: 100% 6/6 [00:01<00:00,  5.54it/s]\n",
            "                 all          48          48       0.236       0.962       0.353       0.192\n",
            "\n",
            "     Epoch   gpu_mem       box       obj       cls     total    labels  img_size\n",
            "   174/199     1.92G   0.03242  0.006559   0.01767   0.05665         7       416: 100% 31/31 [00:07<00:00,  3.92it/s]\n",
            "               Class      Images      Labels           P           R      mAP@.5  mAP@.5:.95: 100% 6/6 [00:01<00:00,  4.40it/s]\n",
            "                 all          48          48       0.236       0.966        0.35       0.191\n",
            "\n",
            "     Epoch   gpu_mem       box       obj       cls     total    labels  img_size\n",
            "   175/199     1.92G   0.02953  0.006927   0.01765    0.0541         3       416: 100% 31/31 [00:07<00:00,  4.34it/s]\n",
            "               Class      Images      Labels           P           R      mAP@.5  mAP@.5:.95: 100% 6/6 [00:00<00:00,  6.70it/s]\n",
            "                 all          48          48        0.23       0.956       0.338       0.185\n",
            "\n",
            "     Epoch   gpu_mem       box       obj       cls     total    labels  img_size\n",
            "   176/199     1.92G   0.03138   0.00693   0.01727   0.05558         5       416: 100% 31/31 [00:09<00:00,  3.20it/s]\n",
            "               Class      Images      Labels           P           R      mAP@.5  mAP@.5:.95: 100% 6/6 [00:00<00:00,  8.75it/s]\n",
            "                 all          48          48       0.238       0.923       0.332       0.186\n",
            "\n",
            "     Epoch   gpu_mem       box       obj       cls     total    labels  img_size\n",
            "   177/199     1.92G   0.02939   0.00668   0.01752   0.05359         8       416: 100% 31/31 [00:07<00:00,  3.91it/s]\n",
            "               Class      Images      Labels           P           R      mAP@.5  mAP@.5:.95: 100% 6/6 [00:01<00:00,  3.53it/s]\n",
            "                 all          48          48       0.233       0.923       0.337       0.193\n",
            "\n",
            "     Epoch   gpu_mem       box       obj       cls     total    labels  img_size\n",
            "   178/199     1.92G   0.03196  0.006969   0.01728   0.05622         6       416: 100% 31/31 [00:07<00:00,  4.25it/s]\n",
            "               Class      Images      Labels           P           R      mAP@.5  mAP@.5:.95: 100% 6/6 [00:00<00:00,  7.52it/s]\n",
            "                 all          48          48        0.24       0.904       0.339       0.186\n",
            "\n",
            "     Epoch   gpu_mem       box       obj       cls     total    labels  img_size\n",
            "   179/199     1.92G    0.0271  0.006448   0.01644   0.04998         5       416: 100% 31/31 [00:09<00:00,  3.27it/s]\n",
            "               Class      Images      Labels           P           R      mAP@.5  mAP@.5:.95: 100% 6/6 [00:00<00:00,  6.91it/s]\n",
            "                 all          48          48       0.241       0.904       0.333        0.16\n",
            "\n",
            "     Epoch   gpu_mem       box       obj       cls     total    labels  img_size\n",
            "   180/199     1.92G    0.0299   0.00563    0.0168   0.05233         2       416: 100% 31/31 [00:07<00:00,  4.39it/s]\n",
            "               Class      Images      Labels           P           R      mAP@.5  mAP@.5:.95: 100% 6/6 [00:01<00:00,  4.90it/s]\n",
            "                 all          48          48       0.239       0.923       0.317       0.174\n",
            "\n",
            "     Epoch   gpu_mem       box       obj       cls     total    labels  img_size\n",
            "   181/199     1.92G   0.02877  0.007281   0.01675    0.0528         3       416: 100% 31/31 [00:11<00:00,  2.62it/s]\n",
            "               Class      Images      Labels           P           R      mAP@.5  mAP@.5:.95: 100% 6/6 [00:00<00:00,  7.36it/s]\n",
            "                 all          48          48       0.234       0.968        0.32       0.179\n",
            "\n",
            "     Epoch   gpu_mem       box       obj       cls     total    labels  img_size\n",
            "   182/199     1.92G   0.02735  0.006537   0.01696   0.05084         8       416: 100% 31/31 [00:08<00:00,  3.49it/s]\n",
            "               Class      Images      Labels           P           R      mAP@.5  mAP@.5:.95: 100% 6/6 [00:00<00:00,  6.26it/s]\n",
            "                 all          48          48       0.233       0.952       0.337       0.199\n",
            "\n",
            "     Epoch   gpu_mem       box       obj       cls     total    labels  img_size\n",
            "   183/199     1.92G   0.03753  0.007329   0.01812   0.06298         2       416: 100% 31/31 [00:06<00:00,  4.53it/s]\n",
            "               Class      Images      Labels           P           R      mAP@.5  mAP@.5:.95: 100% 6/6 [00:01<00:00,  3.60it/s]\n",
            "                 all          48          48       0.235        0.98       0.327       0.187\n",
            "\n",
            "     Epoch   gpu_mem       box       obj       cls     total    labels  img_size\n",
            "   184/199     1.92G   0.02919  0.006898   0.01739   0.05348         3       416: 100% 31/31 [00:08<00:00,  3.75it/s]\n",
            "               Class      Images      Labels           P           R      mAP@.5  mAP@.5:.95: 100% 6/6 [00:00<00:00,  7.41it/s]\n",
            "                 all          48          48       0.239       0.904       0.338       0.198\n",
            "\n",
            "     Epoch   gpu_mem       box       obj       cls     total    labels  img_size\n",
            "   185/199     1.92G   0.03145  0.007061   0.01731   0.05583         5       416: 100% 31/31 [00:09<00:00,  3.42it/s]\n",
            "               Class      Images      Labels           P           R      mAP@.5  mAP@.5:.95: 100% 6/6 [00:01<00:00,  5.72it/s]\n",
            "                 all          48          48       0.236       0.904       0.318       0.188\n",
            "\n",
            "     Epoch   gpu_mem       box       obj       cls     total    labels  img_size\n",
            "   186/199     1.92G   0.03476   0.00712    0.0187   0.06058         7       416: 100% 31/31 [00:07<00:00,  4.34it/s]\n",
            "               Class      Images      Labels           P           R      mAP@.5  mAP@.5:.95: 100% 6/6 [00:00<00:00,  7.99it/s]\n",
            "                 all          48          48       0.236       0.904       0.313       0.183\n",
            "\n",
            "     Epoch   gpu_mem       box       obj       cls     total    labels  img_size\n",
            "   187/199     1.92G   0.03007  0.006285    0.0174   0.05376         8       416: 100% 31/31 [00:09<00:00,  3.42it/s]\n",
            "               Class      Images      Labels           P           R      mAP@.5  mAP@.5:.95: 100% 6/6 [00:00<00:00,  6.16it/s]\n",
            "                 all          48          48       0.233       0.968       0.312       0.183\n",
            "\n",
            "     Epoch   gpu_mem       box       obj       cls     total    labels  img_size\n",
            "   188/199     1.92G   0.02737  0.006971   0.01764   0.05198         5       416: 100% 31/31 [00:08<00:00,  3.60it/s]\n",
            "               Class      Images      Labels           P           R      mAP@.5  mAP@.5:.95: 100% 6/6 [00:01<00:00,  3.46it/s]\n",
            "                 all          48          48       0.234       0.902       0.319        0.19\n",
            "\n",
            "     Epoch   gpu_mem       box       obj       cls     total    labels  img_size\n",
            "   189/199     1.92G   0.03082   0.00728   0.01805   0.05615         4       416: 100% 31/31 [00:07<00:00,  4.42it/s]\n",
            "               Class      Images      Labels           P           R      mAP@.5  mAP@.5:.95: 100% 6/6 [00:00<00:00,  6.57it/s]\n",
            "                 all          48          48       0.234       0.968       0.328       0.197\n",
            "\n",
            "     Epoch   gpu_mem       box       obj       cls     total    labels  img_size\n",
            "   190/199     1.92G   0.02946   0.00656   0.01742   0.05345         6       416: 100% 31/31 [00:09<00:00,  3.23it/s]\n",
            "               Class      Images      Labels           P           R      mAP@.5  mAP@.5:.95: 100% 6/6 [00:00<00:00,  7.88it/s]\n",
            "                 all          48          48       0.234       0.962       0.354       0.208\n",
            "\n",
            "     Epoch   gpu_mem       box       obj       cls     total    labels  img_size\n",
            "   191/199     1.92G   0.03247  0.007234   0.01797   0.05767         5       416: 100% 31/31 [00:07<00:00,  4.03it/s]\n",
            "               Class      Images      Labels           P           R      mAP@.5  mAP@.5:.95: 100% 6/6 [00:01<00:00,  3.18it/s]\n",
            "                 all          48          48       0.237       0.942       0.351        0.21\n",
            "\n",
            "     Epoch   gpu_mem       box       obj       cls     total    labels  img_size\n",
            "   192/199     1.92G   0.03316  0.006986   0.01719   0.05733         4       416: 100% 31/31 [00:07<00:00,  4.13it/s]\n",
            "               Class      Images      Labels           P           R      mAP@.5  mAP@.5:.95: 100% 6/6 [00:00<00:00,  8.11it/s]\n",
            "                 all          48          48       0.229       0.942       0.338       0.197\n",
            "\n",
            "     Epoch   gpu_mem       box       obj       cls     total    labels  img_size\n",
            "   193/199     1.92G    0.0346  0.007181   0.01849   0.06027         6       416: 100% 31/31 [00:09<00:00,  3.13it/s]\n",
            "               Class      Images      Labels           P           R      mAP@.5  mAP@.5:.95: 100% 6/6 [00:00<00:00,  6.14it/s]\n",
            "                 all          48          48       0.238       0.941       0.344       0.193\n",
            "\n",
            "     Epoch   gpu_mem       box       obj       cls     total    labels  img_size\n",
            "   194/199     1.92G   0.02723  0.006975   0.01686   0.05106         2       416: 100% 31/31 [00:07<00:00,  3.92it/s]\n",
            "               Class      Images      Labels           P           R      mAP@.5  mAP@.5:.95: 100% 6/6 [00:01<00:00,  3.26it/s]\n",
            "                 all          48          48       0.234       0.961       0.341       0.197\n",
            "\n",
            "     Epoch   gpu_mem       box       obj       cls     total    labels  img_size\n",
            "   195/199     1.92G   0.03284  0.006011    0.0177   0.05655         4       416: 100% 31/31 [00:06<00:00,  4.45it/s]\n",
            "               Class      Images      Labels           P           R      mAP@.5  mAP@.5:.95: 100% 6/6 [00:00<00:00,  7.77it/s]\n",
            "                 all          48          48       0.236       0.904       0.334       0.193\n",
            "\n",
            "     Epoch   gpu_mem       box       obj       cls     total    labels  img_size\n",
            "   196/199     1.92G    0.0244  0.006326   0.01575   0.04647         7       416: 100% 31/31 [00:09<00:00,  3.37it/s]\n",
            "               Class      Images      Labels           P           R      mAP@.5  mAP@.5:.95: 100% 6/6 [00:00<00:00,  6.82it/s]\n",
            "                 all          48          48       0.236       0.923       0.317       0.183\n",
            "\n",
            "     Epoch   gpu_mem       box       obj       cls     total    labels  img_size\n",
            "   197/199     1.92G   0.03191  0.007025   0.01766    0.0566         5       416: 100% 31/31 [00:08<00:00,  3.65it/s]\n",
            "               Class      Images      Labels           P           R      mAP@.5  mAP@.5:.95: 100% 6/6 [00:01<00:00,  4.60it/s]\n",
            "                 all          48          48       0.237       0.923       0.315       0.185\n",
            "\n",
            "     Epoch   gpu_mem       box       obj       cls     total    labels  img_size\n",
            "   198/199     1.92G   0.03482  0.006788   0.01884   0.06045        13       416: 100% 31/31 [00:07<00:00,  4.35it/s]\n",
            "               Class      Images      Labels           P           R      mAP@.5  mAP@.5:.95: 100% 6/6 [00:01<00:00,  4.62it/s]\n",
            "                 all          48          48       0.246       0.885       0.321       0.191\n",
            "\n",
            "     Epoch   gpu_mem       box       obj       cls     total    labels  img_size\n",
            "   199/199     1.92G   0.03005  0.006753   0.01688   0.05368         5       416: 100% 31/31 [00:07<00:00,  3.99it/s]\n",
            "               Class      Images      Labels           P           R      mAP@.5  mAP@.5:.95: 100% 6/6 [00:01<00:00,  3.88it/s]\n",
            "                 all          48          48       0.243       0.865       0.324       0.193\n",
            "              stage0          48          11        0.22           1       0.261       0.174\n",
            "              stage1          48          11       0.218           1        0.45       0.303\n",
            "              stage2          48          13       0.258       0.923       0.301       0.173\n",
            "              stage3          48          13       0.277       0.538       0.283       0.119\n",
            "200 epochs completed in 0.614 hours.\n",
            "\n",
            "Optimizer stripped from runs/train/yolov7/weights/last.pt, 74.8MB\n",
            "Optimizer stripped from runs/train/yolov7/weights/best.pt, 74.8MB\n"
          ]
        }
      ],
      "source": [
        "!python train.py  --weights yolov7.pt --epochs 200 --data \"/content/drive/MyDrive/knee/yolov7/data.yaml\" --workers 4 --batch-size 4 --img 416 --cfg cfg/training/yolov7.yaml --name yolov7 --hyp data/hyp.scratch.p5.yaml"
      ]
    },
    {
      "cell_type": "code",
      "execution_count": null,
      "metadata": {
        "id": "YDxps_yggZVj"
      },
      "outputs": [],
      "source": [
        "\n",
        "p2 =  24.3\n",
        "r2 = 86.5\n",
        "mAP502 = 32.4"
      ]
    },
    {
      "cell_type": "markdown",
      "metadata": {
        "id": "Z1Gfl9Y8gnMw"
      },
      "source": [
        "**YoloV8**"
      ]
    },
    {
      "cell_type": "code",
      "source": [
        "%cd .."
      ],
      "metadata": {
        "colab": {
          "base_uri": "https://localhost:8080/"
        },
        "id": "fRDowvkC7srL",
        "outputId": "ec3ceec6-8392-4cbe-aaa2-f3d7d744daae"
      },
      "execution_count": null,
      "outputs": [
        {
          "output_type": "stream",
          "name": "stdout",
          "text": [
            "/\n"
          ]
        }
      ]
    },
    {
      "cell_type": "code",
      "execution_count": null,
      "metadata": {
        "colab": {
          "base_uri": "https://localhost:8080/"
        },
        "id": "K2hA5tJvggrR",
        "outputId": "d13589a4-d9ee-4466-ffd4-7b70d9a0a849"
      },
      "outputs": [
        {
          "output_type": "stream",
          "name": "stdout",
          "text": [
            "/content\n"
          ]
        }
      ],
      "source": [
        "%cd /content/"
      ]
    },
    {
      "cell_type": "code",
      "execution_count": null,
      "metadata": {
        "colab": {
          "base_uri": "https://localhost:8080/"
        },
        "id": "PeRxt-i1guya",
        "outputId": "899e1999-f966-43a4-89d7-fa99a3cce4cb"
      },
      "outputs": [
        {
          "output_type": "stream",
          "name": "stdout",
          "text": [
            "Collecting ultralytics\n",
            "  Downloading ultralytics-8.0.232-py3-none-any.whl (663 kB)\n",
            "\u001b[?25l     \u001b[90m━━━━━━━━━━━━━━━━━━━━━━━━━━━━━━━━━━━━━━━━\u001b[0m \u001b[32m0.0/663.2 kB\u001b[0m \u001b[31m?\u001b[0m eta \u001b[36m-:--:--\u001b[0m\r\u001b[2K     \u001b[91m━━━━━\u001b[0m\u001b[91m╸\u001b[0m\u001b[90m━━━━━━━━━━━━━━━━━━━━━━━━━━━━━━━━━━\u001b[0m \u001b[32m92.2/663.2 kB\u001b[0m \u001b[31m2.6 MB/s\u001b[0m eta \u001b[36m0:00:01\u001b[0m\r\u001b[2K     \u001b[90m━━━━━━━━━━━━━━━━━━━━━━━━━━━━━━━━━━━━━━━━\u001b[0m \u001b[32m663.2/663.2 kB\u001b[0m \u001b[31m10.0 MB/s\u001b[0m eta \u001b[36m0:00:00\u001b[0m\n",
            "\u001b[?25hRequirement already satisfied: matplotlib>=3.3.0 in /usr/local/lib/python3.10/dist-packages (from ultralytics) (3.7.1)\n",
            "Requirement already satisfied: numpy>=1.22.2 in /usr/local/lib/python3.10/dist-packages (from ultralytics) (1.23.5)\n",
            "Requirement already satisfied: opencv-python>=4.6.0 in /usr/local/lib/python3.10/dist-packages (from ultralytics) (4.8.0.76)\n",
            "Requirement already satisfied: pillow>=7.1.2 in /usr/local/lib/python3.10/dist-packages (from ultralytics) (9.4.0)\n",
            "Requirement already satisfied: pyyaml>=5.3.1 in /usr/local/lib/python3.10/dist-packages (from ultralytics) (6.0.1)\n",
            "Requirement already satisfied: requests>=2.23.0 in /usr/local/lib/python3.10/dist-packages (from ultralytics) (2.31.0)\n",
            "Requirement already satisfied: scipy>=1.4.1 in /usr/local/lib/python3.10/dist-packages (from ultralytics) (1.11.4)\n",
            "Requirement already satisfied: torch>=1.8.0 in /usr/local/lib/python3.10/dist-packages (from ultralytics) (2.1.0+cu121)\n",
            "Requirement already satisfied: torchvision>=0.9.0 in /usr/local/lib/python3.10/dist-packages (from ultralytics) (0.16.0+cu121)\n",
            "Requirement already satisfied: tqdm>=4.64.0 in /usr/local/lib/python3.10/dist-packages (from ultralytics) (4.66.1)\n",
            "Requirement already satisfied: psutil in /usr/local/lib/python3.10/dist-packages (from ultralytics) (5.9.5)\n",
            "Requirement already satisfied: py-cpuinfo in /usr/local/lib/python3.10/dist-packages (from ultralytics) (9.0.0)\n",
            "Collecting thop>=0.1.1 (from ultralytics)\n",
            "  Downloading thop-0.1.1.post2209072238-py3-none-any.whl (15 kB)\n",
            "Requirement already satisfied: pandas>=1.1.4 in /usr/local/lib/python3.10/dist-packages (from ultralytics) (1.5.3)\n",
            "Requirement already satisfied: seaborn>=0.11.0 in /usr/local/lib/python3.10/dist-packages (from ultralytics) (0.12.2)\n",
            "Requirement already satisfied: contourpy>=1.0.1 in /usr/local/lib/python3.10/dist-packages (from matplotlib>=3.3.0->ultralytics) (1.2.0)\n",
            "Requirement already satisfied: cycler>=0.10 in /usr/local/lib/python3.10/dist-packages (from matplotlib>=3.3.0->ultralytics) (0.12.1)\n",
            "Requirement already satisfied: fonttools>=4.22.0 in /usr/local/lib/python3.10/dist-packages (from matplotlib>=3.3.0->ultralytics) (4.46.0)\n",
            "Requirement already satisfied: kiwisolver>=1.0.1 in /usr/local/lib/python3.10/dist-packages (from matplotlib>=3.3.0->ultralytics) (1.4.5)\n",
            "Requirement already satisfied: packaging>=20.0 in /usr/local/lib/python3.10/dist-packages (from matplotlib>=3.3.0->ultralytics) (23.2)\n",
            "Requirement already satisfied: pyparsing>=2.3.1 in /usr/local/lib/python3.10/dist-packages (from matplotlib>=3.3.0->ultralytics) (3.1.1)\n",
            "Requirement already satisfied: python-dateutil>=2.7 in /usr/local/lib/python3.10/dist-packages (from matplotlib>=3.3.0->ultralytics) (2.8.2)\n",
            "Requirement already satisfied: pytz>=2020.1 in /usr/local/lib/python3.10/dist-packages (from pandas>=1.1.4->ultralytics) (2023.3.post1)\n",
            "Requirement already satisfied: charset-normalizer<4,>=2 in /usr/local/lib/python3.10/dist-packages (from requests>=2.23.0->ultralytics) (3.3.2)\n",
            "Requirement already satisfied: idna<4,>=2.5 in /usr/local/lib/python3.10/dist-packages (from requests>=2.23.0->ultralytics) (3.6)\n",
            "Requirement already satisfied: urllib3<3,>=1.21.1 in /usr/local/lib/python3.10/dist-packages (from requests>=2.23.0->ultralytics) (2.0.7)\n",
            "Requirement already satisfied: certifi>=2017.4.17 in /usr/local/lib/python3.10/dist-packages (from requests>=2.23.0->ultralytics) (2023.11.17)\n",
            "Requirement already satisfied: filelock in /usr/local/lib/python3.10/dist-packages (from torch>=1.8.0->ultralytics) (3.13.1)\n",
            "Requirement already satisfied: typing-extensions in /usr/local/lib/python3.10/dist-packages (from torch>=1.8.0->ultralytics) (4.5.0)\n",
            "Requirement already satisfied: sympy in /usr/local/lib/python3.10/dist-packages (from torch>=1.8.0->ultralytics) (1.12)\n",
            "Requirement already satisfied: networkx in /usr/local/lib/python3.10/dist-packages (from torch>=1.8.0->ultralytics) (3.2.1)\n",
            "Requirement already satisfied: jinja2 in /usr/local/lib/python3.10/dist-packages (from torch>=1.8.0->ultralytics) (3.1.2)\n",
            "Requirement already satisfied: fsspec in /usr/local/lib/python3.10/dist-packages (from torch>=1.8.0->ultralytics) (2023.6.0)\n",
            "Requirement already satisfied: triton==2.1.0 in /usr/local/lib/python3.10/dist-packages (from torch>=1.8.0->ultralytics) (2.1.0)\n",
            "Requirement already satisfied: six>=1.5 in /usr/local/lib/python3.10/dist-packages (from python-dateutil>=2.7->matplotlib>=3.3.0->ultralytics) (1.16.0)\n",
            "Requirement already satisfied: MarkupSafe>=2.0 in /usr/local/lib/python3.10/dist-packages (from jinja2->torch>=1.8.0->ultralytics) (2.1.3)\n",
            "Requirement already satisfied: mpmath>=0.19 in /usr/local/lib/python3.10/dist-packages (from sympy->torch>=1.8.0->ultralytics) (1.3.0)\n",
            "Installing collected packages: thop, ultralytics\n",
            "Successfully installed thop-0.1.1.post2209072238 ultralytics-8.0.232\n"
          ]
        }
      ],
      "source": [
        "!pip install ultralytics"
      ]
    },
    {
      "cell_type": "code",
      "execution_count": null,
      "metadata": {
        "colab": {
          "base_uri": "https://localhost:8080/"
        },
        "id": "K1eHgoIGhzC8",
        "outputId": "bac7f5d2-4190-47ef-97ac-65eb5eb856de"
      },
      "outputs": [
        {
          "output_type": "stream",
          "name": "stdout",
          "text": [
            "Ultralytics YOLOv8.0.232 🚀 Python-3.10.12 torch-2.1.0+cu121 CUDA:0 (Tesla T4, 15102MiB)\n",
            "\u001b[34m\u001b[1mengine/trainer: \u001b[0mtask=detect, mode=train, model=yolov8n.pt, data=/content/drive/MyDrive/knee/yolov5/data.yaml, epochs=200, time=None, patience=50, batch=16, imgsz=416, save=True, save_period=-1, cache=False, device=None, workers=8, project=None, name=train2, exist_ok=False, pretrained=True, optimizer=auto, verbose=True, seed=0, deterministic=True, single_cls=False, rect=False, cos_lr=False, close_mosaic=10, resume=False, amp=True, fraction=1.0, profile=False, freeze=None, overlap_mask=True, mask_ratio=4, dropout=0.0, val=True, split=val, save_json=False, save_hybrid=False, conf=None, iou=0.7, max_det=300, half=False, dnn=False, plots=True, source=None, vid_stride=1, stream_buffer=False, visualize=False, augment=False, agnostic_nms=False, classes=None, retina_masks=False, embed=None, show=False, save_frames=False, save_txt=False, save_conf=False, save_crop=False, show_labels=True, show_conf=True, show_boxes=True, line_width=None, format=torchscript, keras=False, optimize=False, int8=False, dynamic=False, simplify=False, opset=None, workspace=4, nms=False, lr0=0.01, lrf=0.01, momentum=0.937, weight_decay=0.0005, warmup_epochs=3.0, warmup_momentum=0.8, warmup_bias_lr=0.1, box=7.5, cls=0.5, dfl=1.5, pose=12.0, kobj=1.0, label_smoothing=0.0, nbs=64, hsv_h=0.015, hsv_s=0.7, hsv_v=0.4, degrees=0.0, translate=0.1, scale=0.5, shear=0.0, perspective=0.0, flipud=0.0, fliplr=0.5, mosaic=1.0, mixup=0.0, copy_paste=0.0, cfg=None, tracker=botsort.yaml, save_dir=runs/detect/train2\n",
            "Overriding model.yaml nc=80 with nc=4\n",
            "\n",
            "                   from  n    params  module                                       arguments                     \n",
            "  0                  -1  1       464  ultralytics.nn.modules.conv.Conv             [3, 16, 3, 2]                 \n",
            "  1                  -1  1      4672  ultralytics.nn.modules.conv.Conv             [16, 32, 3, 2]                \n",
            "  2                  -1  1      7360  ultralytics.nn.modules.block.C2f             [32, 32, 1, True]             \n",
            "  3                  -1  1     18560  ultralytics.nn.modules.conv.Conv             [32, 64, 3, 2]                \n",
            "  4                  -1  2     49664  ultralytics.nn.modules.block.C2f             [64, 64, 2, True]             \n",
            "  5                  -1  1     73984  ultralytics.nn.modules.conv.Conv             [64, 128, 3, 2]               \n",
            "  6                  -1  2    197632  ultralytics.nn.modules.block.C2f             [128, 128, 2, True]           \n",
            "  7                  -1  1    295424  ultralytics.nn.modules.conv.Conv             [128, 256, 3, 2]              \n",
            "  8                  -1  1    460288  ultralytics.nn.modules.block.C2f             [256, 256, 1, True]           \n",
            "  9                  -1  1    164608  ultralytics.nn.modules.block.SPPF            [256, 256, 5]                 \n",
            " 10                  -1  1         0  torch.nn.modules.upsampling.Upsample         [None, 2, 'nearest']          \n",
            " 11             [-1, 6]  1         0  ultralytics.nn.modules.conv.Concat           [1]                           \n",
            " 12                  -1  1    148224  ultralytics.nn.modules.block.C2f             [384, 128, 1]                 \n",
            " 13                  -1  1         0  torch.nn.modules.upsampling.Upsample         [None, 2, 'nearest']          \n",
            " 14             [-1, 4]  1         0  ultralytics.nn.modules.conv.Concat           [1]                           \n",
            " 15                  -1  1     37248  ultralytics.nn.modules.block.C2f             [192, 64, 1]                  \n",
            " 16                  -1  1     36992  ultralytics.nn.modules.conv.Conv             [64, 64, 3, 2]                \n",
            " 17            [-1, 12]  1         0  ultralytics.nn.modules.conv.Concat           [1]                           \n",
            " 18                  -1  1    123648  ultralytics.nn.modules.block.C2f             [192, 128, 1]                 \n",
            " 19                  -1  1    147712  ultralytics.nn.modules.conv.Conv             [128, 128, 3, 2]              \n",
            " 20             [-1, 9]  1         0  ultralytics.nn.modules.conv.Concat           [1]                           \n",
            " 21                  -1  1    493056  ultralytics.nn.modules.block.C2f             [384, 256, 1]                 \n",
            " 22        [15, 18, 21]  1    752092  ultralytics.nn.modules.head.Detect           [4, [64, 128, 256]]           \n",
            "Model summary: 225 layers, 3011628 parameters, 3011612 gradients, 8.2 GFLOPs\n",
            "\n",
            "Transferred 319/355 items from pretrained weights\n",
            "\u001b[34m\u001b[1mTensorBoard: \u001b[0mStart with 'tensorboard --logdir runs/detect/train2', view at http://localhost:6006/\n",
            "Freezing layer 'model.22.dfl.conv.weight'\n",
            "\u001b[34m\u001b[1mAMP: \u001b[0mrunning Automatic Mixed Precision (AMP) checks with YOLOv8n...\n",
            "\u001b[34m\u001b[1mAMP: \u001b[0mchecks passed ✅\n"
          ]
        },
        {
          "output_type": "stream",
          "name": "stderr",
          "text": [
            "\u001b[34m\u001b[1mtrain: \u001b[0mScanning /content/drive/MyDrive/knee/yolov5/train/labels... 122 images, 0 backgrounds, 0 corrupt: 100%|██████████| 122/122 [01:36<00:00,  1.27it/s]"
          ]
        },
        {
          "output_type": "stream",
          "name": "stdout",
          "text": [
            "\u001b[34m\u001b[1mtrain: \u001b[0mNew cache created: /content/drive/MyDrive/knee/yolov5/train/labels.cache\n"
          ]
        },
        {
          "output_type": "stream",
          "name": "stderr",
          "text": [
            "\n"
          ]
        },
        {
          "output_type": "stream",
          "name": "stdout",
          "text": [
            "\u001b[34m\u001b[1malbumentations: \u001b[0mBlur(p=0.01, blur_limit=(3, 7)), MedianBlur(p=0.01, blur_limit=(3, 7)), ToGray(p=0.01), CLAHE(p=0.01, clip_limit=(1, 4.0), tile_grid_size=(8, 8))\n"
          ]
        },
        {
          "output_type": "stream",
          "name": "stderr",
          "text": [
            "\u001b[34m\u001b[1mval: \u001b[0mScanning /content/drive/MyDrive/knee/yolov5/train/labels.cache... 122 images, 0 backgrounds, 0 corrupt: 100%|██████████| 122/122 [00:00<?, ?it/s]\n"
          ]
        },
        {
          "output_type": "stream",
          "name": "stdout",
          "text": [
            "Plotting labels to runs/detect/train2/labels.jpg... \n",
            "\u001b[34m\u001b[1moptimizer:\u001b[0m 'optimizer=auto' found, ignoring 'lr0=0.01' and 'momentum=0.937' and determining best 'optimizer', 'lr0' and 'momentum' automatically... \n",
            "\u001b[34m\u001b[1moptimizer:\u001b[0m AdamW(lr=0.00125, momentum=0.9) with parameter groups 57 weight(decay=0.0), 64 weight(decay=0.0005), 63 bias(decay=0.0)\n",
            "200 epochs...\n",
            "\n",
            "      Epoch    GPU_mem   box_loss   cls_loss   dfl_loss  Instances       Size\n"
          ]
        },
        {
          "output_type": "stream",
          "name": "stderr",
          "text": [
            "      1/200      1.16G       2.58       3.81       2.49         18        416: 100%|██████████| 8/8 [00:06<00:00,  1.28it/s]\n",
            "                 Class     Images  Instances      Box(P          R      mAP50  mAP50-95): 100%|██████████| 4/4 [00:03<00:00,  1.18it/s]"
          ]
        },
        {
          "output_type": "stream",
          "name": "stdout",
          "text": [
            "                   all        122        122    0.00182        0.4    0.00343   0.000678\n"
          ]
        },
        {
          "output_type": "stream",
          "name": "stderr",
          "text": [
            "\n"
          ]
        },
        {
          "output_type": "stream",
          "name": "stdout",
          "text": [
            "\n",
            "      Epoch    GPU_mem   box_loss   cls_loss   dfl_loss  Instances       Size\n"
          ]
        },
        {
          "output_type": "stream",
          "name": "stderr",
          "text": [
            "      2/200      1.05G      2.158       3.71       2.17         18        416: 100%|██████████| 8/8 [00:01<00:00,  4.36it/s]\n",
            "                 Class     Images  Instances      Box(P          R      mAP50  mAP50-95): 100%|██████████| 4/4 [00:01<00:00,  3.56it/s]"
          ]
        },
        {
          "output_type": "stream",
          "name": "stdout",
          "text": [
            "                   all        122        122    0.00358      0.981      0.123     0.0556\n"
          ]
        },
        {
          "output_type": "stream",
          "name": "stderr",
          "text": [
            "\n"
          ]
        },
        {
          "output_type": "stream",
          "name": "stdout",
          "text": [
            "\n",
            "      Epoch    GPU_mem   box_loss   cls_loss   dfl_loss  Instances       Size\n"
          ]
        },
        {
          "output_type": "stream",
          "name": "stderr",
          "text": [
            "      3/200      1.05G      1.472      3.257      1.602         25        416: 100%|██████████| 8/8 [00:01<00:00,  5.84it/s]\n",
            "                 Class     Images  Instances      Box(P          R      mAP50  mAP50-95): 100%|██████████| 4/4 [00:01<00:00,  3.29it/s]"
          ]
        },
        {
          "output_type": "stream",
          "name": "stdout",
          "text": [
            "                   all        122        122    0.00395          1       0.27      0.126\n"
          ]
        },
        {
          "output_type": "stream",
          "name": "stderr",
          "text": [
            "\n"
          ]
        },
        {
          "output_type": "stream",
          "name": "stdout",
          "text": [
            "\n",
            "      Epoch    GPU_mem   box_loss   cls_loss   dfl_loss  Instances       Size\n"
          ]
        },
        {
          "output_type": "stream",
          "name": "stderr",
          "text": [
            "      4/200      1.07G      1.461      2.783      1.558         28        416: 100%|██████████| 8/8 [00:01<00:00,  4.93it/s]\n",
            "                 Class     Images  Instances      Box(P          R      mAP50  mAP50-95): 100%|██████████| 4/4 [00:02<00:00,  1.70it/s]"
          ]
        },
        {
          "output_type": "stream",
          "name": "stdout",
          "text": [
            "                   all        122        122    0.00371          1      0.292      0.156\n"
          ]
        },
        {
          "output_type": "stream",
          "name": "stderr",
          "text": [
            "\n"
          ]
        },
        {
          "output_type": "stream",
          "name": "stdout",
          "text": [
            "\n",
            "      Epoch    GPU_mem   box_loss   cls_loss   dfl_loss  Instances       Size\n"
          ]
        },
        {
          "output_type": "stream",
          "name": "stderr",
          "text": [
            "      5/200      1.07G      1.321      2.474       1.49         23        416: 100%|██████████| 8/8 [00:02<00:00,  3.84it/s]\n",
            "                 Class     Images  Instances      Box(P          R      mAP50  mAP50-95): 100%|██████████| 4/4 [00:01<00:00,  2.38it/s]"
          ]
        },
        {
          "output_type": "stream",
          "name": "stdout",
          "text": [
            "                   all        122        122      0.419      0.407      0.268      0.152\n"
          ]
        },
        {
          "output_type": "stream",
          "name": "stderr",
          "text": [
            "\n"
          ]
        },
        {
          "output_type": "stream",
          "name": "stdout",
          "text": [
            "\n",
            "      Epoch    GPU_mem   box_loss   cls_loss   dfl_loss  Instances       Size\n"
          ]
        },
        {
          "output_type": "stream",
          "name": "stderr",
          "text": [
            "      6/200      1.07G      1.441      2.401      1.548         25        416: 100%|██████████| 8/8 [00:01<00:00,  6.60it/s]\n",
            "                 Class     Images  Instances      Box(P          R      mAP50  mAP50-95): 100%|██████████| 4/4 [00:01<00:00,  2.85it/s]"
          ]
        },
        {
          "output_type": "stream",
          "name": "stdout",
          "text": [
            "                   all        122        122      0.219      0.311      0.178      0.084\n"
          ]
        },
        {
          "output_type": "stream",
          "name": "stderr",
          "text": [
            "\n"
          ]
        },
        {
          "output_type": "stream",
          "name": "stdout",
          "text": [
            "\n",
            "      Epoch    GPU_mem   box_loss   cls_loss   dfl_loss  Instances       Size\n"
          ]
        },
        {
          "output_type": "stream",
          "name": "stderr",
          "text": [
            "      7/200      1.08G      1.497      2.444      1.517         22        416: 100%|██████████| 8/8 [00:01<00:00,  6.04it/s]\n",
            "                 Class     Images  Instances      Box(P          R      mAP50  mAP50-95): 100%|██████████| 4/4 [00:01<00:00,  3.02it/s]"
          ]
        },
        {
          "output_type": "stream",
          "name": "stdout",
          "text": [
            "                   all        122        122      0.235      0.734      0.291      0.166\n"
          ]
        },
        {
          "output_type": "stream",
          "name": "stderr",
          "text": [
            "\n"
          ]
        },
        {
          "output_type": "stream",
          "name": "stdout",
          "text": [
            "\n",
            "      Epoch    GPU_mem   box_loss   cls_loss   dfl_loss  Instances       Size\n"
          ]
        },
        {
          "output_type": "stream",
          "name": "stderr",
          "text": [
            "      8/200      1.07G      1.488       2.41      1.535         25        416: 100%|██████████| 8/8 [00:01<00:00,  6.24it/s]\n",
            "                 Class     Images  Instances      Box(P          R      mAP50  mAP50-95): 100%|██████████| 4/4 [00:01<00:00,  2.65it/s]"
          ]
        },
        {
          "output_type": "stream",
          "name": "stdout",
          "text": [
            "                   all        122        122      0.234      0.743      0.308      0.167\n"
          ]
        },
        {
          "output_type": "stream",
          "name": "stderr",
          "text": [
            "\n"
          ]
        },
        {
          "output_type": "stream",
          "name": "stdout",
          "text": [
            "\n",
            "      Epoch    GPU_mem   box_loss   cls_loss   dfl_loss  Instances       Size\n"
          ]
        },
        {
          "output_type": "stream",
          "name": "stderr",
          "text": [
            "      9/200      1.08G      1.414      2.316      1.467         30        416: 100%|██████████| 8/8 [00:02<00:00,  3.87it/s]\n",
            "                 Class     Images  Instances      Box(P          R      mAP50  mAP50-95): 100%|██████████| 4/4 [00:02<00:00,  1.96it/s]"
          ]
        },
        {
          "output_type": "stream",
          "name": "stdout",
          "text": [
            "                   all        122        122      0.149      0.484      0.177     0.0917\n"
          ]
        },
        {
          "output_type": "stream",
          "name": "stderr",
          "text": [
            "\n"
          ]
        },
        {
          "output_type": "stream",
          "name": "stdout",
          "text": [
            "\n",
            "      Epoch    GPU_mem   box_loss   cls_loss   dfl_loss  Instances       Size\n"
          ]
        },
        {
          "output_type": "stream",
          "name": "stderr",
          "text": [
            "     10/200      1.06G      1.405      2.349      1.499         24        416: 100%|██████████| 8/8 [00:01<00:00,  6.40it/s]\n",
            "                 Class     Images  Instances      Box(P          R      mAP50  mAP50-95): 100%|██████████| 4/4 [00:01<00:00,  3.37it/s]"
          ]
        },
        {
          "output_type": "stream",
          "name": "stdout",
          "text": [
            "                   all        122        122      0.063      0.347     0.0777     0.0314\n"
          ]
        },
        {
          "output_type": "stream",
          "name": "stderr",
          "text": [
            "\n"
          ]
        },
        {
          "output_type": "stream",
          "name": "stdout",
          "text": [
            "\n",
            "      Epoch    GPU_mem   box_loss   cls_loss   dfl_loss  Instances       Size\n"
          ]
        },
        {
          "output_type": "stream",
          "name": "stderr",
          "text": [
            "     11/200      1.08G      1.482      2.385      1.544         29        416: 100%|██████████| 8/8 [00:01<00:00,  5.98it/s]\n",
            "                 Class     Images  Instances      Box(P          R      mAP50  mAP50-95): 100%|██████████| 4/4 [00:01<00:00,  3.22it/s]"
          ]
        },
        {
          "output_type": "stream",
          "name": "stdout",
          "text": [
            "                   all        122        122       0.21       0.77      0.281      0.161\n"
          ]
        },
        {
          "output_type": "stream",
          "name": "stderr",
          "text": [
            "\n"
          ]
        },
        {
          "output_type": "stream",
          "name": "stdout",
          "text": [
            "\n",
            "      Epoch    GPU_mem   box_loss   cls_loss   dfl_loss  Instances       Size\n"
          ]
        },
        {
          "output_type": "stream",
          "name": "stderr",
          "text": [
            "     12/200      1.06G      1.425      2.293      1.503         24        416: 100%|██████████| 8/8 [00:01<00:00,  6.11it/s]\n",
            "                 Class     Images  Instances      Box(P          R      mAP50  mAP50-95): 100%|██████████| 4/4 [00:01<00:00,  3.55it/s]"
          ]
        },
        {
          "output_type": "stream",
          "name": "stdout",
          "text": [
            "                   all        122        122      0.201      0.608      0.264      0.115\n"
          ]
        },
        {
          "output_type": "stream",
          "name": "stderr",
          "text": [
            "\n"
          ]
        },
        {
          "output_type": "stream",
          "name": "stdout",
          "text": [
            "\n",
            "      Epoch    GPU_mem   box_loss   cls_loss   dfl_loss  Instances       Size\n"
          ]
        },
        {
          "output_type": "stream",
          "name": "stderr",
          "text": [
            "     13/200      1.06G      1.424      2.201      1.547         23        416: 100%|██████████| 8/8 [00:01<00:00,  4.70it/s]\n",
            "                 Class     Images  Instances      Box(P          R      mAP50  mAP50-95): 100%|██████████| 4/4 [00:01<00:00,  2.04it/s]"
          ]
        },
        {
          "output_type": "stream",
          "name": "stdout",
          "text": [
            "                   all        122        122      0.158      0.545      0.167     0.0668\n"
          ]
        },
        {
          "output_type": "stream",
          "name": "stderr",
          "text": [
            "\n"
          ]
        },
        {
          "output_type": "stream",
          "name": "stdout",
          "text": [
            "\n",
            "      Epoch    GPU_mem   box_loss   cls_loss   dfl_loss  Instances       Size\n"
          ]
        },
        {
          "output_type": "stream",
          "name": "stderr",
          "text": [
            "     14/200      1.06G      1.404      2.213      1.489         19        416: 100%|██████████| 8/8 [00:02<00:00,  4.00it/s]\n",
            "                 Class     Images  Instances      Box(P          R      mAP50  mAP50-95): 100%|██████████| 4/4 [00:01<00:00,  2.49it/s]"
          ]
        },
        {
          "output_type": "stream",
          "name": "stdout",
          "text": [
            "                   all        122        122       0.19      0.777      0.269      0.102\n"
          ]
        },
        {
          "output_type": "stream",
          "name": "stderr",
          "text": [
            "\n"
          ]
        },
        {
          "output_type": "stream",
          "name": "stdout",
          "text": [
            "\n",
            "      Epoch    GPU_mem   box_loss   cls_loss   dfl_loss  Instances       Size\n"
          ]
        },
        {
          "output_type": "stream",
          "name": "stderr",
          "text": [
            "     15/200      1.06G      1.396      2.153      1.465         14        416: 100%|██████████| 8/8 [00:01<00:00,  6.03it/s]\n",
            "                 Class     Images  Instances      Box(P          R      mAP50  mAP50-95): 100%|██████████| 4/4 [00:01<00:00,  3.59it/s]"
          ]
        },
        {
          "output_type": "stream",
          "name": "stdout",
          "text": [
            "                   all        122        122      0.223      0.845      0.299      0.154\n"
          ]
        },
        {
          "output_type": "stream",
          "name": "stderr",
          "text": [
            "\n"
          ]
        },
        {
          "output_type": "stream",
          "name": "stdout",
          "text": [
            "\n",
            "      Epoch    GPU_mem   box_loss   cls_loss   dfl_loss  Instances       Size\n"
          ]
        },
        {
          "output_type": "stream",
          "name": "stderr",
          "text": [
            "     16/200      1.06G      1.421      2.158      1.488         25        416: 100%|██████████| 8/8 [00:01<00:00,  6.05it/s]\n",
            "                 Class     Images  Instances      Box(P          R      mAP50  mAP50-95): 100%|██████████| 4/4 [00:01<00:00,  3.30it/s]"
          ]
        },
        {
          "output_type": "stream",
          "name": "stdout",
          "text": [
            "                   all        122        122      0.234      0.875      0.303       0.16\n"
          ]
        },
        {
          "output_type": "stream",
          "name": "stderr",
          "text": [
            "\n"
          ]
        },
        {
          "output_type": "stream",
          "name": "stdout",
          "text": [
            "\n",
            "      Epoch    GPU_mem   box_loss   cls_loss   dfl_loss  Instances       Size\n"
          ]
        },
        {
          "output_type": "stream",
          "name": "stderr",
          "text": [
            "     17/200      1.06G      1.361      2.133      1.451         21        416: 100%|██████████| 8/8 [00:01<00:00,  6.15it/s]\n",
            "                 Class     Images  Instances      Box(P          R      mAP50  mAP50-95): 100%|██████████| 4/4 [00:01<00:00,  2.76it/s]"
          ]
        },
        {
          "output_type": "stream",
          "name": "stdout",
          "text": [
            "                   all        122        122      0.232      0.824      0.297      0.174\n"
          ]
        },
        {
          "output_type": "stream",
          "name": "stderr",
          "text": [
            "\n"
          ]
        },
        {
          "output_type": "stream",
          "name": "stdout",
          "text": [
            "\n",
            "      Epoch    GPU_mem   box_loss   cls_loss   dfl_loss  Instances       Size\n"
          ]
        },
        {
          "output_type": "stream",
          "name": "stderr",
          "text": [
            "     18/200      1.06G      1.352      2.065      1.415         21        416: 100%|██████████| 8/8 [00:01<00:00,  4.14it/s]\n",
            "                 Class     Images  Instances      Box(P          R      mAP50  mAP50-95): 100%|██████████| 4/4 [00:02<00:00,  1.64it/s]"
          ]
        },
        {
          "output_type": "stream",
          "name": "stdout",
          "text": [
            "                   all        122        122       0.19      0.711      0.259      0.103\n"
          ]
        },
        {
          "output_type": "stream",
          "name": "stderr",
          "text": [
            "\n"
          ]
        },
        {
          "output_type": "stream",
          "name": "stdout",
          "text": [
            "\n",
            "      Epoch    GPU_mem   box_loss   cls_loss   dfl_loss  Instances       Size\n"
          ]
        },
        {
          "output_type": "stream",
          "name": "stderr",
          "text": [
            "     19/200      1.06G      1.327      2.108      1.438         17        416: 100%|██████████| 8/8 [00:01<00:00,  5.96it/s]\n",
            "                 Class     Images  Instances      Box(P          R      mAP50  mAP50-95): 100%|██████████| 4/4 [00:01<00:00,  3.26it/s]"
          ]
        },
        {
          "output_type": "stream",
          "name": "stdout",
          "text": [
            "                   all        122        122      0.164      0.484      0.253     0.0905\n"
          ]
        },
        {
          "output_type": "stream",
          "name": "stderr",
          "text": [
            "\n"
          ]
        },
        {
          "output_type": "stream",
          "name": "stdout",
          "text": [
            "\n",
            "      Epoch    GPU_mem   box_loss   cls_loss   dfl_loss  Instances       Size\n"
          ]
        },
        {
          "output_type": "stream",
          "name": "stderr",
          "text": [
            "     20/200      1.06G      1.421      2.106       1.47         23        416: 100%|██████████| 8/8 [00:01<00:00,  6.00it/s]\n",
            "                 Class     Images  Instances      Box(P          R      mAP50  mAP50-95): 100%|██████████| 4/4 [00:01<00:00,  3.20it/s]"
          ]
        },
        {
          "output_type": "stream",
          "name": "stdout",
          "text": [
            "                   all        122        122      0.259      0.286      0.236     0.0982\n"
          ]
        },
        {
          "output_type": "stream",
          "name": "stderr",
          "text": [
            "\n"
          ]
        },
        {
          "output_type": "stream",
          "name": "stdout",
          "text": [
            "\n",
            "      Epoch    GPU_mem   box_loss   cls_loss   dfl_loss  Instances       Size\n"
          ]
        },
        {
          "output_type": "stream",
          "name": "stderr",
          "text": [
            "     21/200      1.06G      1.281      1.966      1.354         28        416: 100%|██████████| 8/8 [00:01<00:00,  6.06it/s]\n",
            "                 Class     Images  Instances      Box(P          R      mAP50  mAP50-95): 100%|██████████| 4/4 [00:01<00:00,  3.17it/s]"
          ]
        },
        {
          "output_type": "stream",
          "name": "stdout",
          "text": [
            "                   all        122        122      0.234      0.359       0.24      0.121\n"
          ]
        },
        {
          "output_type": "stream",
          "name": "stderr",
          "text": [
            "\n"
          ]
        },
        {
          "output_type": "stream",
          "name": "stdout",
          "text": [
            "\n",
            "      Epoch    GPU_mem   box_loss   cls_loss   dfl_loss  Instances       Size\n"
          ]
        },
        {
          "output_type": "stream",
          "name": "stderr",
          "text": [
            "     22/200      1.06G      1.366      2.039       1.41         19        416: 100%|██████████| 8/8 [00:01<00:00,  5.41it/s]\n",
            "                 Class     Images  Instances      Box(P          R      mAP50  mAP50-95): 100%|██████████| 4/4 [00:01<00:00,  2.15it/s]"
          ]
        },
        {
          "output_type": "stream",
          "name": "stdout",
          "text": [
            "                   all        122        122      0.243      0.888      0.297       0.16\n"
          ]
        },
        {
          "output_type": "stream",
          "name": "stderr",
          "text": [
            "\n"
          ]
        },
        {
          "output_type": "stream",
          "name": "stdout",
          "text": [
            "\n",
            "      Epoch    GPU_mem   box_loss   cls_loss   dfl_loss  Instances       Size\n"
          ]
        },
        {
          "output_type": "stream",
          "name": "stderr",
          "text": [
            "     23/200      1.06G      1.339      2.023      1.383         27        416: 100%|██████████| 8/8 [00:02<00:00,  3.95it/s]\n",
            "                 Class     Images  Instances      Box(P          R      mAP50  mAP50-95): 100%|██████████| 4/4 [00:01<00:00,  2.53it/s]"
          ]
        },
        {
          "output_type": "stream",
          "name": "stdout",
          "text": [
            "                   all        122        122       0.23      0.886      0.298      0.155\n"
          ]
        },
        {
          "output_type": "stream",
          "name": "stderr",
          "text": [
            "\n"
          ]
        },
        {
          "output_type": "stream",
          "name": "stdout",
          "text": [
            "\n",
            "      Epoch    GPU_mem   box_loss   cls_loss   dfl_loss  Instances       Size\n"
          ]
        },
        {
          "output_type": "stream",
          "name": "stderr",
          "text": [
            "     24/200      1.06G      1.444      2.065      1.452         21        416: 100%|██████████| 8/8 [00:01<00:00,  5.91it/s]\n",
            "                 Class     Images  Instances      Box(P          R      mAP50  mAP50-95): 100%|██████████| 4/4 [00:01<00:00,  3.26it/s]"
          ]
        },
        {
          "output_type": "stream",
          "name": "stdout",
          "text": [
            "                   all        122        122      0.243      0.924      0.318      0.177\n"
          ]
        },
        {
          "output_type": "stream",
          "name": "stderr",
          "text": [
            "\n"
          ]
        },
        {
          "output_type": "stream",
          "name": "stdout",
          "text": [
            "\n",
            "      Epoch    GPU_mem   box_loss   cls_loss   dfl_loss  Instances       Size\n"
          ]
        },
        {
          "output_type": "stream",
          "name": "stderr",
          "text": [
            "     25/200      1.06G      1.352      1.941      1.395         25        416: 100%|██████████| 8/8 [00:01<00:00,  6.26it/s]\n",
            "                 Class     Images  Instances      Box(P          R      mAP50  mAP50-95): 100%|██████████| 4/4 [00:01<00:00,  3.54it/s]"
          ]
        },
        {
          "output_type": "stream",
          "name": "stdout",
          "text": [
            "                   all        122        122      0.257      0.871      0.303      0.166\n"
          ]
        },
        {
          "output_type": "stream",
          "name": "stderr",
          "text": [
            "\n"
          ]
        },
        {
          "output_type": "stream",
          "name": "stdout",
          "text": [
            "\n",
            "      Epoch    GPU_mem   box_loss   cls_loss   dfl_loss  Instances       Size\n"
          ]
        },
        {
          "output_type": "stream",
          "name": "stderr",
          "text": [
            "     26/200      1.06G      1.354      1.981      1.442         20        416: 100%|██████████| 8/8 [00:01<00:00,  6.11it/s]\n",
            "                 Class     Images  Instances      Box(P          R      mAP50  mAP50-95): 100%|██████████| 4/4 [00:01<00:00,  3.11it/s]"
          ]
        },
        {
          "output_type": "stream",
          "name": "stdout",
          "text": [
            "                   all        122        122      0.233      0.838      0.321      0.197\n"
          ]
        },
        {
          "output_type": "stream",
          "name": "stderr",
          "text": [
            "\n"
          ]
        },
        {
          "output_type": "stream",
          "name": "stdout",
          "text": [
            "\n",
            "      Epoch    GPU_mem   box_loss   cls_loss   dfl_loss  Instances       Size\n"
          ]
        },
        {
          "output_type": "stream",
          "name": "stderr",
          "text": [
            "     27/200      1.06G      1.349      1.985      1.414         25        416: 100%|██████████| 8/8 [00:02<00:00,  3.93it/s]\n",
            "                 Class     Images  Instances      Box(P          R      mAP50  mAP50-95): 100%|██████████| 4/4 [00:02<00:00,  1.98it/s]"
          ]
        },
        {
          "output_type": "stream",
          "name": "stdout",
          "text": [
            "                   all        122        122      0.226      0.691      0.263      0.132\n"
          ]
        },
        {
          "output_type": "stream",
          "name": "stderr",
          "text": [
            "\n"
          ]
        },
        {
          "output_type": "stream",
          "name": "stdout",
          "text": [
            "\n",
            "      Epoch    GPU_mem   box_loss   cls_loss   dfl_loss  Instances       Size\n"
          ]
        },
        {
          "output_type": "stream",
          "name": "stderr",
          "text": [
            "     28/200      1.06G      1.392      1.977      1.429         22        416: 100%|██████████| 8/8 [00:01<00:00,  6.17it/s]\n",
            "                 Class     Images  Instances      Box(P          R      mAP50  mAP50-95): 100%|██████████| 4/4 [00:01<00:00,  3.21it/s]"
          ]
        },
        {
          "output_type": "stream",
          "name": "stdout",
          "text": [
            "                   all        122        122      0.221      0.889      0.319      0.181\n"
          ]
        },
        {
          "output_type": "stream",
          "name": "stderr",
          "text": [
            "\n"
          ]
        },
        {
          "output_type": "stream",
          "name": "stdout",
          "text": [
            "\n",
            "      Epoch    GPU_mem   box_loss   cls_loss   dfl_loss  Instances       Size\n"
          ]
        },
        {
          "output_type": "stream",
          "name": "stderr",
          "text": [
            "     29/200      1.06G      1.298      1.916      1.358         16        416: 100%|██████████| 8/8 [00:01<00:00,  6.15it/s]\n",
            "                 Class     Images  Instances      Box(P          R      mAP50  mAP50-95): 100%|██████████| 4/4 [00:01<00:00,  3.51it/s]"
          ]
        },
        {
          "output_type": "stream",
          "name": "stdout",
          "text": [
            "                   all        122        122      0.242      0.964      0.294      0.176\n"
          ]
        },
        {
          "output_type": "stream",
          "name": "stderr",
          "text": [
            "\n"
          ]
        },
        {
          "output_type": "stream",
          "name": "stdout",
          "text": [
            "\n",
            "      Epoch    GPU_mem   box_loss   cls_loss   dfl_loss  Instances       Size\n"
          ]
        },
        {
          "output_type": "stream",
          "name": "stderr",
          "text": [
            "     30/200      1.06G      1.328      1.933      1.356         21        416: 100%|██████████| 8/8 [00:01<00:00,  6.25it/s]\n",
            "                 Class     Images  Instances      Box(P          R      mAP50  mAP50-95): 100%|██████████| 4/4 [00:01<00:00,  3.70it/s]"
          ]
        },
        {
          "output_type": "stream",
          "name": "stdout",
          "text": [
            "                   all        122        122       0.24      0.916      0.311      0.183\n"
          ]
        },
        {
          "output_type": "stream",
          "name": "stderr",
          "text": [
            "\n"
          ]
        },
        {
          "output_type": "stream",
          "name": "stdout",
          "text": [
            "\n",
            "      Epoch    GPU_mem   box_loss   cls_loss   dfl_loss  Instances       Size\n"
          ]
        },
        {
          "output_type": "stream",
          "name": "stderr",
          "text": [
            "     31/200      1.06G      1.334      1.935      1.392         19        416: 100%|██████████| 8/8 [00:01<00:00,  5.33it/s]\n",
            "                 Class     Images  Instances      Box(P          R      mAP50  mAP50-95): 100%|██████████| 4/4 [00:02<00:00,  1.93it/s]"
          ]
        },
        {
          "output_type": "stream",
          "name": "stdout",
          "text": [
            "                   all        122        122      0.245      0.981      0.318      0.191\n"
          ]
        },
        {
          "output_type": "stream",
          "name": "stderr",
          "text": [
            "\n"
          ]
        },
        {
          "output_type": "stream",
          "name": "stdout",
          "text": [
            "\n",
            "      Epoch    GPU_mem   box_loss   cls_loss   dfl_loss  Instances       Size\n"
          ]
        },
        {
          "output_type": "stream",
          "name": "stderr",
          "text": [
            "     32/200      1.06G       1.25      1.878      1.334         21        416: 100%|██████████| 8/8 [00:02<00:00,  3.81it/s]\n",
            "                 Class     Images  Instances      Box(P          R      mAP50  mAP50-95): 100%|██████████| 4/4 [00:01<00:00,  2.53it/s]"
          ]
        },
        {
          "output_type": "stream",
          "name": "stdout",
          "text": [
            "                   all        122        122      0.235      0.971      0.357      0.203\n"
          ]
        },
        {
          "output_type": "stream",
          "name": "stderr",
          "text": [
            "\n"
          ]
        },
        {
          "output_type": "stream",
          "name": "stdout",
          "text": [
            "\n",
            "      Epoch    GPU_mem   box_loss   cls_loss   dfl_loss  Instances       Size\n"
          ]
        },
        {
          "output_type": "stream",
          "name": "stderr",
          "text": [
            "     33/200      1.06G      1.336      1.957      1.386         30        416: 100%|██████████| 8/8 [00:01<00:00,  5.84it/s]\n",
            "                 Class     Images  Instances      Box(P          R      mAP50  mAP50-95): 100%|██████████| 4/4 [00:01<00:00,  3.14it/s]"
          ]
        },
        {
          "output_type": "stream",
          "name": "stdout",
          "text": [
            "                   all        122        122      0.241      0.981      0.363      0.206\n"
          ]
        },
        {
          "output_type": "stream",
          "name": "stderr",
          "text": [
            "\n"
          ]
        },
        {
          "output_type": "stream",
          "name": "stdout",
          "text": [
            "\n",
            "      Epoch    GPU_mem   box_loss   cls_loss   dfl_loss  Instances       Size\n"
          ]
        },
        {
          "output_type": "stream",
          "name": "stderr",
          "text": [
            "     34/200      1.06G      1.313      1.883      1.364         29        416: 100%|██████████| 8/8 [00:01<00:00,  6.05it/s]\n",
            "                 Class     Images  Instances      Box(P          R      mAP50  mAP50-95): 100%|██████████| 4/4 [00:01<00:00,  3.38it/s]"
          ]
        },
        {
          "output_type": "stream",
          "name": "stdout",
          "text": [
            "                   all        122        122      0.215      0.915       0.34       0.21\n"
          ]
        },
        {
          "output_type": "stream",
          "name": "stderr",
          "text": [
            "\n"
          ]
        },
        {
          "output_type": "stream",
          "name": "stdout",
          "text": [
            "\n",
            "      Epoch    GPU_mem   box_loss   cls_loss   dfl_loss  Instances       Size\n"
          ]
        },
        {
          "output_type": "stream",
          "name": "stderr",
          "text": [
            "     35/200      1.06G      1.323      1.914      1.372         21        416: 100%|██████████| 8/8 [00:01<00:00,  6.40it/s]\n",
            "                 Class     Images  Instances      Box(P          R      mAP50  mAP50-95): 100%|██████████| 4/4 [00:01<00:00,  2.69it/s]"
          ]
        },
        {
          "output_type": "stream",
          "name": "stdout",
          "text": [
            "                   all        122        122      0.213      0.914      0.348      0.207\n"
          ]
        },
        {
          "output_type": "stream",
          "name": "stderr",
          "text": [
            "\n"
          ]
        },
        {
          "output_type": "stream",
          "name": "stdout",
          "text": [
            "\n",
            "      Epoch    GPU_mem   box_loss   cls_loss   dfl_loss  Instances       Size\n"
          ]
        },
        {
          "output_type": "stream",
          "name": "stderr",
          "text": [
            "     36/200      1.06G      1.324      1.885      1.392         23        416: 100%|██████████| 8/8 [00:02<00:00,  3.86it/s]\n",
            "                 Class     Images  Instances      Box(P          R      mAP50  mAP50-95): 100%|██████████| 4/4 [00:01<00:00,  2.07it/s]"
          ]
        },
        {
          "output_type": "stream",
          "name": "stdout",
          "text": [
            "                   all        122        122      0.221      0.883      0.314      0.149\n"
          ]
        },
        {
          "output_type": "stream",
          "name": "stderr",
          "text": [
            "\n"
          ]
        },
        {
          "output_type": "stream",
          "name": "stdout",
          "text": [
            "\n",
            "      Epoch    GPU_mem   box_loss   cls_loss   dfl_loss  Instances       Size\n"
          ]
        },
        {
          "output_type": "stream",
          "name": "stderr",
          "text": [
            "     37/200      1.06G      1.281      1.861       1.35         22        416: 100%|██████████| 8/8 [00:01<00:00,  5.95it/s]\n",
            "                 Class     Images  Instances      Box(P          R      mAP50  mAP50-95): 100%|██████████| 4/4 [00:01<00:00,  3.20it/s]"
          ]
        },
        {
          "output_type": "stream",
          "name": "stdout",
          "text": [
            "                   all        122        122      0.222       0.88      0.328      0.146\n"
          ]
        },
        {
          "output_type": "stream",
          "name": "stderr",
          "text": [
            "\n"
          ]
        },
        {
          "output_type": "stream",
          "name": "stdout",
          "text": [
            "\n",
            "      Epoch    GPU_mem   box_loss   cls_loss   dfl_loss  Instances       Size\n"
          ]
        },
        {
          "output_type": "stream",
          "name": "stderr",
          "text": [
            "     38/200      1.06G      1.288      1.883      1.352         26        416: 100%|██████████| 8/8 [00:01<00:00,  5.82it/s]\n",
            "                 Class     Images  Instances      Box(P          R      mAP50  mAP50-95): 100%|██████████| 4/4 [00:01<00:00,  3.45it/s]"
          ]
        },
        {
          "output_type": "stream",
          "name": "stdout",
          "text": [
            "                   all        122        122      0.221      0.915      0.323      0.181\n"
          ]
        },
        {
          "output_type": "stream",
          "name": "stderr",
          "text": [
            "\n"
          ]
        },
        {
          "output_type": "stream",
          "name": "stdout",
          "text": [
            "\n",
            "      Epoch    GPU_mem   box_loss   cls_loss   dfl_loss  Instances       Size\n"
          ]
        },
        {
          "output_type": "stream",
          "name": "stderr",
          "text": [
            "     39/200      1.06G      1.355      1.878      1.351         27        416: 100%|██████████| 8/8 [00:01<00:00,  6.23it/s]\n",
            "                 Class     Images  Instances      Box(P          R      mAP50  mAP50-95): 100%|██████████| 4/4 [00:01<00:00,  3.57it/s]"
          ]
        },
        {
          "output_type": "stream",
          "name": "stdout",
          "text": [
            "                   all        122        122      0.232      0.908      0.325      0.192\n"
          ]
        },
        {
          "output_type": "stream",
          "name": "stderr",
          "text": [
            "\n"
          ]
        },
        {
          "output_type": "stream",
          "name": "stdout",
          "text": [
            "\n",
            "      Epoch    GPU_mem   box_loss   cls_loss   dfl_loss  Instances       Size\n"
          ]
        },
        {
          "output_type": "stream",
          "name": "stderr",
          "text": [
            "     40/200      1.06G      1.349      1.869      1.352         20        416: 100%|██████████| 8/8 [00:01<00:00,  5.17it/s]\n",
            "                 Class     Images  Instances      Box(P          R      mAP50  mAP50-95): 100%|██████████| 4/4 [00:01<00:00,  2.06it/s]"
          ]
        },
        {
          "output_type": "stream",
          "name": "stdout",
          "text": [
            "                   all        122        122      0.241      0.933      0.311      0.184\n"
          ]
        },
        {
          "output_type": "stream",
          "name": "stderr",
          "text": [
            "\n"
          ]
        },
        {
          "output_type": "stream",
          "name": "stdout",
          "text": [
            "\n",
            "      Epoch    GPU_mem   box_loss   cls_loss   dfl_loss  Instances       Size\n"
          ]
        },
        {
          "output_type": "stream",
          "name": "stderr",
          "text": [
            "     41/200      1.06G      1.349      1.879      1.368         28        416: 100%|██████████| 8/8 [00:02<00:00,  3.88it/s]\n",
            "                 Class     Images  Instances      Box(P          R      mAP50  mAP50-95): 100%|██████████| 4/4 [00:01<00:00,  2.42it/s]"
          ]
        },
        {
          "output_type": "stream",
          "name": "stdout",
          "text": [
            "                   all        122        122      0.234      0.972      0.323      0.195\n"
          ]
        },
        {
          "output_type": "stream",
          "name": "stderr",
          "text": [
            "\n"
          ]
        },
        {
          "output_type": "stream",
          "name": "stdout",
          "text": [
            "\n",
            "      Epoch    GPU_mem   box_loss   cls_loss   dfl_loss  Instances       Size\n"
          ]
        },
        {
          "output_type": "stream",
          "name": "stderr",
          "text": [
            "     42/200      1.06G      1.265      1.855      1.321         25        416: 100%|██████████| 8/8 [00:01<00:00,  6.02it/s]\n",
            "                 Class     Images  Instances      Box(P          R      mAP50  mAP50-95): 100%|██████████| 4/4 [00:01<00:00,  3.20it/s]"
          ]
        },
        {
          "output_type": "stream",
          "name": "stdout",
          "text": [
            "                   all        122        122       0.22      0.972      0.334      0.199\n"
          ]
        },
        {
          "output_type": "stream",
          "name": "stderr",
          "text": [
            "\n"
          ]
        },
        {
          "output_type": "stream",
          "name": "stdout",
          "text": [
            "\n",
            "      Epoch    GPU_mem   box_loss   cls_loss   dfl_loss  Instances       Size\n"
          ]
        },
        {
          "output_type": "stream",
          "name": "stderr",
          "text": [
            "     43/200      1.06G      1.277       1.85      1.354         19        416: 100%|██████████| 8/8 [00:01<00:00,  6.28it/s]\n",
            "                 Class     Images  Instances      Box(P          R      mAP50  mAP50-95): 100%|██████████| 4/4 [00:01<00:00,  3.56it/s]"
          ]
        },
        {
          "output_type": "stream",
          "name": "stdout",
          "text": [
            "                   all        122        122      0.217      0.973      0.344       0.21\n"
          ]
        },
        {
          "output_type": "stream",
          "name": "stderr",
          "text": [
            "\n"
          ]
        },
        {
          "output_type": "stream",
          "name": "stdout",
          "text": [
            "\n",
            "      Epoch    GPU_mem   box_loss   cls_loss   dfl_loss  Instances       Size\n"
          ]
        },
        {
          "output_type": "stream",
          "name": "stderr",
          "text": [
            "     44/200      1.06G      1.225      1.844      1.314         25        416: 100%|██████████| 8/8 [00:01<00:00,  6.14it/s]\n",
            "                 Class     Images  Instances      Box(P          R      mAP50  mAP50-95): 100%|██████████| 4/4 [00:01<00:00,  3.21it/s]"
          ]
        },
        {
          "output_type": "stream",
          "name": "stdout",
          "text": [
            "                   all        122        122      0.225      0.972      0.347      0.212\n"
          ]
        },
        {
          "output_type": "stream",
          "name": "stderr",
          "text": [
            "\n"
          ]
        },
        {
          "output_type": "stream",
          "name": "stdout",
          "text": [
            "\n",
            "      Epoch    GPU_mem   box_loss   cls_loss   dfl_loss  Instances       Size\n"
          ]
        },
        {
          "output_type": "stream",
          "name": "stderr",
          "text": [
            "     45/200      1.06G      1.281      1.803      1.341         35        416: 100%|██████████| 8/8 [00:02<00:00,  3.83it/s]\n",
            "                 Class     Images  Instances      Box(P          R      mAP50  mAP50-95): 100%|██████████| 4/4 [00:01<00:00,  2.07it/s]"
          ]
        },
        {
          "output_type": "stream",
          "name": "stdout",
          "text": [
            "                   all        122        122      0.242      0.943      0.355      0.214\n"
          ]
        },
        {
          "output_type": "stream",
          "name": "stderr",
          "text": [
            "\n"
          ]
        },
        {
          "output_type": "stream",
          "name": "stdout",
          "text": [
            "\n",
            "      Epoch    GPU_mem   box_loss   cls_loss   dfl_loss  Instances       Size\n"
          ]
        },
        {
          "output_type": "stream",
          "name": "stderr",
          "text": [
            "     46/200      1.06G      1.226      1.786      1.324         20        416: 100%|██████████| 8/8 [00:01<00:00,  6.16it/s]\n",
            "                 Class     Images  Instances      Box(P          R      mAP50  mAP50-95): 100%|██████████| 4/4 [00:01<00:00,  3.23it/s]"
          ]
        },
        {
          "output_type": "stream",
          "name": "stdout",
          "text": [
            "                   all        122        122      0.242      0.963      0.364      0.216\n"
          ]
        },
        {
          "output_type": "stream",
          "name": "stderr",
          "text": [
            "\n"
          ]
        },
        {
          "output_type": "stream",
          "name": "stdout",
          "text": [
            "\n",
            "      Epoch    GPU_mem   box_loss   cls_loss   dfl_loss  Instances       Size\n"
          ]
        },
        {
          "output_type": "stream",
          "name": "stderr",
          "text": [
            "     47/200      1.06G       1.35      1.811      1.388         28        416: 100%|██████████| 8/8 [00:01<00:00,  6.46it/s]\n",
            "                 Class     Images  Instances      Box(P          R      mAP50  mAP50-95): 100%|██████████| 4/4 [00:01<00:00,  3.37it/s]"
          ]
        },
        {
          "output_type": "stream",
          "name": "stdout",
          "text": [
            "                   all        122        122       0.24      0.972      0.352      0.213\n"
          ]
        },
        {
          "output_type": "stream",
          "name": "stderr",
          "text": [
            "\n"
          ]
        },
        {
          "output_type": "stream",
          "name": "stdout",
          "text": [
            "\n",
            "      Epoch    GPU_mem   box_loss   cls_loss   dfl_loss  Instances       Size\n"
          ]
        },
        {
          "output_type": "stream",
          "name": "stderr",
          "text": [
            "     48/200      1.06G      1.283      1.807       1.34         19        416: 100%|██████████| 8/8 [00:01<00:00,  6.22it/s]\n",
            "                 Class     Images  Instances      Box(P          R      mAP50  mAP50-95): 100%|██████████| 4/4 [00:01<00:00,  3.10it/s]"
          ]
        },
        {
          "output_type": "stream",
          "name": "stdout",
          "text": [
            "                   all        122        122      0.244      0.981      0.346      0.217\n"
          ]
        },
        {
          "output_type": "stream",
          "name": "stderr",
          "text": [
            "\n"
          ]
        },
        {
          "output_type": "stream",
          "name": "stdout",
          "text": [
            "\n",
            "      Epoch    GPU_mem   box_loss   cls_loss   dfl_loss  Instances       Size\n"
          ]
        },
        {
          "output_type": "stream",
          "name": "stderr",
          "text": [
            "     49/200      1.06G      1.244      1.772      1.321         24        416: 100%|██████████| 8/8 [00:01<00:00,  5.16it/s]\n",
            "                 Class     Images  Instances      Box(P          R      mAP50  mAP50-95): 100%|██████████| 4/4 [00:01<00:00,  2.10it/s]"
          ]
        },
        {
          "output_type": "stream",
          "name": "stdout",
          "text": [
            "                   all        122        122      0.251      0.963      0.375      0.241\n"
          ]
        },
        {
          "output_type": "stream",
          "name": "stderr",
          "text": [
            "\n"
          ]
        },
        {
          "output_type": "stream",
          "name": "stdout",
          "text": [
            "\n",
            "      Epoch    GPU_mem   box_loss   cls_loss   dfl_loss  Instances       Size\n"
          ]
        },
        {
          "output_type": "stream",
          "name": "stderr",
          "text": [
            "     50/200      1.06G      1.213      1.803      1.317         16        416: 100%|██████████| 8/8 [00:02<00:00,  3.69it/s]\n",
            "                 Class     Images  Instances      Box(P          R      mAP50  mAP50-95): 100%|██████████| 4/4 [00:01<00:00,  2.50it/s]"
          ]
        },
        {
          "output_type": "stream",
          "name": "stdout",
          "text": [
            "                   all        122        122      0.233       0.89      0.341      0.193\n"
          ]
        },
        {
          "output_type": "stream",
          "name": "stderr",
          "text": [
            "\n"
          ]
        },
        {
          "output_type": "stream",
          "name": "stdout",
          "text": [
            "\n",
            "      Epoch    GPU_mem   box_loss   cls_loss   dfl_loss  Instances       Size\n"
          ]
        },
        {
          "output_type": "stream",
          "name": "stderr",
          "text": [
            "     51/200      1.06G      1.281      1.836      1.315         28        416: 100%|██████████| 8/8 [00:01<00:00,  5.83it/s]\n",
            "                 Class     Images  Instances      Box(P          R      mAP50  mAP50-95): 100%|██████████| 4/4 [00:01<00:00,  3.08it/s]"
          ]
        },
        {
          "output_type": "stream",
          "name": "stdout",
          "text": [
            "                   all        122        122      0.227      0.815      0.319      0.188\n"
          ]
        },
        {
          "output_type": "stream",
          "name": "stderr",
          "text": [
            "\n"
          ]
        },
        {
          "output_type": "stream",
          "name": "stdout",
          "text": [
            "\n",
            "      Epoch    GPU_mem   box_loss   cls_loss   dfl_loss  Instances       Size\n"
          ]
        },
        {
          "output_type": "stream",
          "name": "stderr",
          "text": [
            "     52/200      1.06G       1.23      1.799      1.319         20        416: 100%|██████████| 8/8 [00:01<00:00,  6.17it/s]\n",
            "                 Class     Images  Instances      Box(P          R      mAP50  mAP50-95): 100%|██████████| 4/4 [00:01<00:00,  3.43it/s]"
          ]
        },
        {
          "output_type": "stream",
          "name": "stdout",
          "text": [
            "                   all        122        122      0.261      0.892      0.362      0.229\n"
          ]
        },
        {
          "output_type": "stream",
          "name": "stderr",
          "text": [
            "\n"
          ]
        },
        {
          "output_type": "stream",
          "name": "stdout",
          "text": [
            "\n",
            "      Epoch    GPU_mem   box_loss   cls_loss   dfl_loss  Instances       Size\n"
          ]
        },
        {
          "output_type": "stream",
          "name": "stderr",
          "text": [
            "     53/200      1.06G       1.23      1.814      1.348         32        416: 100%|██████████| 8/8 [00:01<00:00,  6.14it/s]\n",
            "                 Class     Images  Instances      Box(P          R      mAP50  mAP50-95): 100%|██████████| 4/4 [00:01<00:00,  3.01it/s]"
          ]
        },
        {
          "output_type": "stream",
          "name": "stdout",
          "text": [
            "                   all        122        122       0.26      0.859      0.352      0.215\n"
          ]
        },
        {
          "output_type": "stream",
          "name": "stderr",
          "text": [
            "\n"
          ]
        },
        {
          "output_type": "stream",
          "name": "stdout",
          "text": [
            "\n",
            "      Epoch    GPU_mem   box_loss   cls_loss   dfl_loss  Instances       Size\n"
          ]
        },
        {
          "output_type": "stream",
          "name": "stderr",
          "text": [
            "     54/200      1.06G      1.268      1.743      1.338         19        416: 100%|██████████| 8/8 [00:01<00:00,  4.21it/s]\n",
            "                 Class     Images  Instances      Box(P          R      mAP50  mAP50-95): 100%|██████████| 4/4 [00:02<00:00,  1.99it/s]"
          ]
        },
        {
          "output_type": "stream",
          "name": "stdout",
          "text": [
            "                   all        122        122       0.28      0.879      0.433       0.27\n"
          ]
        },
        {
          "output_type": "stream",
          "name": "stderr",
          "text": [
            "\n"
          ]
        },
        {
          "output_type": "stream",
          "name": "stdout",
          "text": [
            "\n",
            "      Epoch    GPU_mem   box_loss   cls_loss   dfl_loss  Instances       Size\n"
          ]
        },
        {
          "output_type": "stream",
          "name": "stderr",
          "text": [
            "     55/200      1.06G      1.266      1.753      1.294         30        416: 100%|██████████| 8/8 [00:01<00:00,  5.32it/s]\n",
            "                 Class     Images  Instances      Box(P          R      mAP50  mAP50-95): 100%|██████████| 4/4 [00:01<00:00,  3.20it/s]"
          ]
        },
        {
          "output_type": "stream",
          "name": "stdout",
          "text": [
            "                   all        122        122      0.344      0.825      0.449      0.271\n"
          ]
        },
        {
          "output_type": "stream",
          "name": "stderr",
          "text": [
            "\n"
          ]
        },
        {
          "output_type": "stream",
          "name": "stdout",
          "text": [
            "\n",
            "      Epoch    GPU_mem   box_loss   cls_loss   dfl_loss  Instances       Size\n"
          ]
        },
        {
          "output_type": "stream",
          "name": "stderr",
          "text": [
            "     56/200      1.06G      1.249      1.754      1.293         26        416: 100%|██████████| 8/8 [00:01<00:00,  5.89it/s]\n",
            "                 Class     Images  Instances      Box(P          R      mAP50  mAP50-95): 100%|██████████| 4/4 [00:01<00:00,  3.27it/s]"
          ]
        },
        {
          "output_type": "stream",
          "name": "stdout",
          "text": [
            "                   all        122        122      0.345       0.87      0.467      0.289\n"
          ]
        },
        {
          "output_type": "stream",
          "name": "stderr",
          "text": [
            "\n"
          ]
        },
        {
          "output_type": "stream",
          "name": "stdout",
          "text": [
            "\n",
            "      Epoch    GPU_mem   box_loss   cls_loss   dfl_loss  Instances       Size\n"
          ]
        },
        {
          "output_type": "stream",
          "name": "stderr",
          "text": [
            "     57/200      1.06G      1.307      1.759       1.33         22        416: 100%|██████████| 8/8 [00:01<00:00,  6.33it/s]\n",
            "                 Class     Images  Instances      Box(P          R      mAP50  mAP50-95): 100%|██████████| 4/4 [00:01<00:00,  3.39it/s]"
          ]
        },
        {
          "output_type": "stream",
          "name": "stdout",
          "text": [
            "                   all        122        122      0.387      0.833      0.471      0.282\n"
          ]
        },
        {
          "output_type": "stream",
          "name": "stderr",
          "text": [
            "\n"
          ]
        },
        {
          "output_type": "stream",
          "name": "stdout",
          "text": [
            "\n",
            "      Epoch    GPU_mem   box_loss   cls_loss   dfl_loss  Instances       Size\n"
          ]
        },
        {
          "output_type": "stream",
          "name": "stderr",
          "text": [
            "     58/200      1.06G      1.219      1.746      1.297         21        416: 100%|██████████| 8/8 [00:01<00:00,  5.07it/s]\n",
            "                 Class     Images  Instances      Box(P          R      mAP50  mAP50-95): 100%|██████████| 4/4 [00:01<00:00,  2.01it/s]"
          ]
        },
        {
          "output_type": "stream",
          "name": "stdout",
          "text": [
            "                   all        122        122      0.307      0.748      0.417      0.226\n"
          ]
        },
        {
          "output_type": "stream",
          "name": "stderr",
          "text": [
            "\n"
          ]
        },
        {
          "output_type": "stream",
          "name": "stdout",
          "text": [
            "\n",
            "      Epoch    GPU_mem   box_loss   cls_loss   dfl_loss  Instances       Size\n"
          ]
        },
        {
          "output_type": "stream",
          "name": "stderr",
          "text": [
            "     59/200      1.06G      1.278      1.726      1.368         21        416: 100%|██████████| 8/8 [00:02<00:00,  3.85it/s]\n",
            "                 Class     Images  Instances      Box(P          R      mAP50  mAP50-95): 100%|██████████| 4/4 [00:01<00:00,  2.40it/s]"
          ]
        },
        {
          "output_type": "stream",
          "name": "stdout",
          "text": [
            "                   all        122        122      0.292      0.693      0.355      0.165\n"
          ]
        },
        {
          "output_type": "stream",
          "name": "stderr",
          "text": [
            "\n"
          ]
        },
        {
          "output_type": "stream",
          "name": "stdout",
          "text": [
            "\n",
            "      Epoch    GPU_mem   box_loss   cls_loss   dfl_loss  Instances       Size\n"
          ]
        },
        {
          "output_type": "stream",
          "name": "stderr",
          "text": [
            "     60/200      1.06G      1.296      1.726      1.338         29        416: 100%|██████████| 8/8 [00:01<00:00,  6.25it/s]\n",
            "                 Class     Images  Instances      Box(P          R      mAP50  mAP50-95): 100%|██████████| 4/4 [00:01<00:00,  3.43it/s]"
          ]
        },
        {
          "output_type": "stream",
          "name": "stdout",
          "text": [
            "                   all        122        122      0.345      0.737      0.442      0.244\n"
          ]
        },
        {
          "output_type": "stream",
          "name": "stderr",
          "text": [
            "\n"
          ]
        },
        {
          "output_type": "stream",
          "name": "stdout",
          "text": [
            "\n",
            "      Epoch    GPU_mem   box_loss   cls_loss   dfl_loss  Instances       Size\n"
          ]
        },
        {
          "output_type": "stream",
          "name": "stderr",
          "text": [
            "     61/200      1.06G      1.315      1.742      1.359         19        416: 100%|██████████| 8/8 [00:01<00:00,  6.03it/s]\n",
            "                 Class     Images  Instances      Box(P          R      mAP50  mAP50-95): 100%|██████████| 4/4 [00:01<00:00,  3.15it/s]"
          ]
        },
        {
          "output_type": "stream",
          "name": "stdout",
          "text": [
            "                   all        122        122      0.405      0.661      0.453      0.264\n"
          ]
        },
        {
          "output_type": "stream",
          "name": "stderr",
          "text": [
            "\n"
          ]
        },
        {
          "output_type": "stream",
          "name": "stdout",
          "text": [
            "\n",
            "      Epoch    GPU_mem   box_loss   cls_loss   dfl_loss  Instances       Size\n"
          ]
        },
        {
          "output_type": "stream",
          "name": "stderr",
          "text": [
            "     62/200      1.06G      1.181      1.738      1.301         27        416: 100%|██████████| 8/8 [00:01<00:00,  6.21it/s]\n",
            "                 Class     Images  Instances      Box(P          R      mAP50  mAP50-95): 100%|██████████| 4/4 [00:01<00:00,  3.56it/s]"
          ]
        },
        {
          "output_type": "stream",
          "name": "stdout",
          "text": [
            "                   all        122        122      0.345      0.571       0.37      0.211\n"
          ]
        },
        {
          "output_type": "stream",
          "name": "stderr",
          "text": [
            "\n"
          ]
        },
        {
          "output_type": "stream",
          "name": "stdout",
          "text": [
            "\n",
            "      Epoch    GPU_mem   box_loss   cls_loss   dfl_loss  Instances       Size\n"
          ]
        },
        {
          "output_type": "stream",
          "name": "stderr",
          "text": [
            "     63/200      1.06G      1.234      1.717      1.304         26        416: 100%|██████████| 8/8 [00:02<00:00,  3.80it/s]\n",
            "                 Class     Images  Instances      Box(P          R      mAP50  mAP50-95): 100%|██████████| 4/4 [00:02<00:00,  1.89it/s]"
          ]
        },
        {
          "output_type": "stream",
          "name": "stdout",
          "text": [
            "                   all        122        122      0.293      0.725      0.392      0.225\n"
          ]
        },
        {
          "output_type": "stream",
          "name": "stderr",
          "text": [
            "\n"
          ]
        },
        {
          "output_type": "stream",
          "name": "stdout",
          "text": [
            "\n",
            "      Epoch    GPU_mem   box_loss   cls_loss   dfl_loss  Instances       Size\n"
          ]
        },
        {
          "output_type": "stream",
          "name": "stderr",
          "text": [
            "     64/200      1.06G      1.179      1.688      1.272         27        416: 100%|██████████| 8/8 [00:01<00:00,  4.68it/s]\n",
            "                 Class     Images  Instances      Box(P          R      mAP50  mAP50-95): 100%|██████████| 4/4 [00:01<00:00,  3.19it/s]"
          ]
        },
        {
          "output_type": "stream",
          "name": "stdout",
          "text": [
            "                   all        122        122      0.339      0.784      0.431      0.263\n"
          ]
        },
        {
          "output_type": "stream",
          "name": "stderr",
          "text": [
            "\n"
          ]
        },
        {
          "output_type": "stream",
          "name": "stdout",
          "text": [
            "\n",
            "      Epoch    GPU_mem   box_loss   cls_loss   dfl_loss  Instances       Size\n"
          ]
        },
        {
          "output_type": "stream",
          "name": "stderr",
          "text": [
            "     65/200      1.06G      1.161      1.734       1.29         20        416: 100%|██████████| 8/8 [00:01<00:00,  6.13it/s]\n",
            "                 Class     Images  Instances      Box(P          R      mAP50  mAP50-95): 100%|██████████| 4/4 [00:01<00:00,  3.19it/s]"
          ]
        },
        {
          "output_type": "stream",
          "name": "stdout",
          "text": [
            "                   all        122        122      0.305      0.735      0.404      0.228\n"
          ]
        },
        {
          "output_type": "stream",
          "name": "stderr",
          "text": [
            "\n"
          ]
        },
        {
          "output_type": "stream",
          "name": "stdout",
          "text": [
            "\n",
            "      Epoch    GPU_mem   box_loss   cls_loss   dfl_loss  Instances       Size\n"
          ]
        },
        {
          "output_type": "stream",
          "name": "stderr",
          "text": [
            "     66/200      1.06G      1.161      1.707      1.286         20        416: 100%|██████████| 8/8 [00:01<00:00,  6.10it/s]\n",
            "                 Class     Images  Instances      Box(P          R      mAP50  mAP50-95): 100%|██████████| 4/4 [00:01<00:00,  3.35it/s]"
          ]
        },
        {
          "output_type": "stream",
          "name": "stdout",
          "text": [
            "                   all        122        122      0.309      0.762      0.432      0.262\n"
          ]
        },
        {
          "output_type": "stream",
          "name": "stderr",
          "text": [
            "\n"
          ]
        },
        {
          "output_type": "stream",
          "name": "stdout",
          "text": [
            "\n",
            "      Epoch    GPU_mem   box_loss   cls_loss   dfl_loss  Instances       Size\n"
          ]
        },
        {
          "output_type": "stream",
          "name": "stderr",
          "text": [
            "     67/200      1.06G      1.161       1.65      1.256         21        416: 100%|██████████| 8/8 [00:01<00:00,  5.88it/s]\n",
            "                 Class     Images  Instances      Box(P          R      mAP50  mAP50-95): 100%|██████████| 4/4 [00:01<00:00,  2.22it/s]"
          ]
        },
        {
          "output_type": "stream",
          "name": "stdout",
          "text": [
            "                   all        122        122       0.32      0.855       0.45      0.273\n"
          ]
        },
        {
          "output_type": "stream",
          "name": "stderr",
          "text": [
            "\n"
          ]
        },
        {
          "output_type": "stream",
          "name": "stdout",
          "text": [
            "\n",
            "      Epoch    GPU_mem   box_loss   cls_loss   dfl_loss  Instances       Size\n"
          ]
        },
        {
          "output_type": "stream",
          "name": "stderr",
          "text": [
            "     68/200      1.06G      1.226      1.652       1.31         24        416: 100%|██████████| 8/8 [00:02<00:00,  3.90it/s]\n",
            "                 Class     Images  Instances      Box(P          R      mAP50  mAP50-95): 100%|██████████| 4/4 [00:01<00:00,  2.08it/s]"
          ]
        },
        {
          "output_type": "stream",
          "name": "stdout",
          "text": [
            "                   all        122        122      0.349      0.818      0.459      0.272\n"
          ]
        },
        {
          "output_type": "stream",
          "name": "stderr",
          "text": [
            "\n"
          ]
        },
        {
          "output_type": "stream",
          "name": "stdout",
          "text": [
            "\n",
            "      Epoch    GPU_mem   box_loss   cls_loss   dfl_loss  Instances       Size\n"
          ]
        },
        {
          "output_type": "stream",
          "name": "stderr",
          "text": [
            "     69/200      1.06G      1.169      1.644      1.278         21        416: 100%|██████████| 8/8 [00:01<00:00,  5.99it/s]\n",
            "                 Class     Images  Instances      Box(P          R      mAP50  mAP50-95): 100%|██████████| 4/4 [00:01<00:00,  3.53it/s]"
          ]
        },
        {
          "output_type": "stream",
          "name": "stdout",
          "text": [
            "                   all        122        122      0.346      0.875      0.481      0.303\n"
          ]
        },
        {
          "output_type": "stream",
          "name": "stderr",
          "text": [
            "\n"
          ]
        },
        {
          "output_type": "stream",
          "name": "stdout",
          "text": [
            "\n",
            "      Epoch    GPU_mem   box_loss   cls_loss   dfl_loss  Instances       Size\n"
          ]
        },
        {
          "output_type": "stream",
          "name": "stderr",
          "text": [
            "     70/200      1.06G      1.215      1.663      1.297         20        416: 100%|██████████| 8/8 [00:01<00:00,  5.99it/s]\n",
            "                 Class     Images  Instances      Box(P          R      mAP50  mAP50-95): 100%|██████████| 4/4 [00:01<00:00,  3.26it/s]"
          ]
        },
        {
          "output_type": "stream",
          "name": "stdout",
          "text": [
            "                   all        122        122      0.343      0.861      0.476      0.306\n"
          ]
        },
        {
          "output_type": "stream",
          "name": "stderr",
          "text": [
            "\n"
          ]
        },
        {
          "output_type": "stream",
          "name": "stdout",
          "text": [
            "\n",
            "      Epoch    GPU_mem   box_loss   cls_loss   dfl_loss  Instances       Size\n"
          ]
        },
        {
          "output_type": "stream",
          "name": "stderr",
          "text": [
            "     71/200      1.06G       1.14      1.608      1.265         20        416: 100%|██████████| 8/8 [00:01<00:00,  6.22it/s]\n",
            "                 Class     Images  Instances      Box(P          R      mAP50  mAP50-95): 100%|██████████| 4/4 [00:01<00:00,  3.42it/s]"
          ]
        },
        {
          "output_type": "stream",
          "name": "stdout",
          "text": [
            "                   all        122        122      0.421      0.773      0.506      0.322\n"
          ]
        },
        {
          "output_type": "stream",
          "name": "stderr",
          "text": [
            "\n"
          ]
        },
        {
          "output_type": "stream",
          "name": "stdout",
          "text": [
            "\n",
            "      Epoch    GPU_mem   box_loss   cls_loss   dfl_loss  Instances       Size\n"
          ]
        },
        {
          "output_type": "stream",
          "name": "stderr",
          "text": [
            "     72/200      1.06G      1.189      1.639      1.271         25        416: 100%|██████████| 8/8 [00:02<00:00,  3.74it/s]\n",
            "                 Class     Images  Instances      Box(P          R      mAP50  mAP50-95): 100%|██████████| 4/4 [00:01<00:00,  2.03it/s]"
          ]
        },
        {
          "output_type": "stream",
          "name": "stdout",
          "text": [
            "                   all        122        122      0.342      0.749      0.497      0.308\n"
          ]
        },
        {
          "output_type": "stream",
          "name": "stderr",
          "text": [
            "\n"
          ]
        },
        {
          "output_type": "stream",
          "name": "stdout",
          "text": [
            "\n",
            "      Epoch    GPU_mem   box_loss   cls_loss   dfl_loss  Instances       Size\n"
          ]
        },
        {
          "output_type": "stream",
          "name": "stderr",
          "text": [
            "     73/200      1.06G      1.135      1.576      1.232         29        416: 100%|██████████| 8/8 [00:01<00:00,  5.03it/s]\n",
            "                 Class     Images  Instances      Box(P          R      mAP50  mAP50-95): 100%|██████████| 4/4 [00:01<00:00,  3.53it/s]"
          ]
        },
        {
          "output_type": "stream",
          "name": "stdout",
          "text": [
            "                   all        122        122      0.356      0.857      0.535      0.335\n"
          ]
        },
        {
          "output_type": "stream",
          "name": "stderr",
          "text": [
            "\n"
          ]
        },
        {
          "output_type": "stream",
          "name": "stdout",
          "text": [
            "\n",
            "      Epoch    GPU_mem   box_loss   cls_loss   dfl_loss  Instances       Size\n"
          ]
        },
        {
          "output_type": "stream",
          "name": "stderr",
          "text": [
            "     74/200      1.06G      1.208      1.643      1.294         30        416: 100%|██████████| 8/8 [00:01<00:00,  6.40it/s]\n",
            "                 Class     Images  Instances      Box(P          R      mAP50  mAP50-95): 100%|██████████| 4/4 [00:01<00:00,  3.19it/s]"
          ]
        },
        {
          "output_type": "stream",
          "name": "stdout",
          "text": [
            "                   all        122        122        0.4       0.84      0.542      0.355\n"
          ]
        },
        {
          "output_type": "stream",
          "name": "stderr",
          "text": [
            "\n"
          ]
        },
        {
          "output_type": "stream",
          "name": "stdout",
          "text": [
            "\n",
            "      Epoch    GPU_mem   box_loss   cls_loss   dfl_loss  Instances       Size\n"
          ]
        },
        {
          "output_type": "stream",
          "name": "stderr",
          "text": [
            "     75/200      1.06G      1.241      1.654      1.312         26        416: 100%|██████████| 8/8 [00:01<00:00,  6.19it/s]\n",
            "                 Class     Images  Instances      Box(P          R      mAP50  mAP50-95): 100%|██████████| 4/4 [00:01<00:00,  3.17it/s]"
          ]
        },
        {
          "output_type": "stream",
          "name": "stdout",
          "text": [
            "                   all        122        122      0.389      0.824      0.535      0.355\n"
          ]
        },
        {
          "output_type": "stream",
          "name": "stderr",
          "text": [
            "\n"
          ]
        },
        {
          "output_type": "stream",
          "name": "stdout",
          "text": [
            "\n",
            "      Epoch    GPU_mem   box_loss   cls_loss   dfl_loss  Instances       Size\n"
          ]
        },
        {
          "output_type": "stream",
          "name": "stderr",
          "text": [
            "     76/200      1.06G      1.084      1.521      1.213         26        416: 100%|██████████| 8/8 [00:01<00:00,  5.57it/s]\n",
            "                 Class     Images  Instances      Box(P          R      mAP50  mAP50-95): 100%|██████████| 4/4 [00:02<00:00,  1.95it/s]"
          ]
        },
        {
          "output_type": "stream",
          "name": "stdout",
          "text": [
            "                   all        122        122       0.38      0.821       0.55      0.357\n"
          ]
        },
        {
          "output_type": "stream",
          "name": "stderr",
          "text": [
            "\n"
          ]
        },
        {
          "output_type": "stream",
          "name": "stdout",
          "text": [
            "\n",
            "      Epoch    GPU_mem   box_loss   cls_loss   dfl_loss  Instances       Size\n"
          ]
        },
        {
          "output_type": "stream",
          "name": "stderr",
          "text": [
            "     77/200      1.06G      1.212      1.654      1.299         20        416: 100%|██████████| 8/8 [00:02<00:00,  3.82it/s]\n",
            "                 Class     Images  Instances      Box(P          R      mAP50  mAP50-95): 100%|██████████| 4/4 [00:01<00:00,  2.62it/s]"
          ]
        },
        {
          "output_type": "stream",
          "name": "stdout",
          "text": [
            "                   all        122        122       0.42      0.843      0.572      0.368\n"
          ]
        },
        {
          "output_type": "stream",
          "name": "stderr",
          "text": [
            "\n"
          ]
        },
        {
          "output_type": "stream",
          "name": "stdout",
          "text": [
            "\n",
            "      Epoch    GPU_mem   box_loss   cls_loss   dfl_loss  Instances       Size\n"
          ]
        },
        {
          "output_type": "stream",
          "name": "stderr",
          "text": [
            "     78/200      1.06G      1.175      1.624      1.303         27        416: 100%|██████████| 8/8 [00:01<00:00,  5.97it/s]\n",
            "                 Class     Images  Instances      Box(P          R      mAP50  mAP50-95): 100%|██████████| 4/4 [00:01<00:00,  3.24it/s]"
          ]
        },
        {
          "output_type": "stream",
          "name": "stdout",
          "text": [
            "                   all        122        122      0.464      0.823      0.549      0.344\n"
          ]
        },
        {
          "output_type": "stream",
          "name": "stderr",
          "text": [
            "\n"
          ]
        },
        {
          "output_type": "stream",
          "name": "stdout",
          "text": [
            "\n",
            "      Epoch    GPU_mem   box_loss   cls_loss   dfl_loss  Instances       Size\n"
          ]
        },
        {
          "output_type": "stream",
          "name": "stderr",
          "text": [
            "     79/200      1.06G      1.207      1.579       1.28         27        416: 100%|██████████| 8/8 [00:01<00:00,  6.20it/s]\n",
            "                 Class     Images  Instances      Box(P          R      mAP50  mAP50-95): 100%|██████████| 4/4 [00:01<00:00,  3.15it/s]"
          ]
        },
        {
          "output_type": "stream",
          "name": "stdout",
          "text": [
            "                   all        122        122      0.473      0.814      0.615      0.394\n"
          ]
        },
        {
          "output_type": "stream",
          "name": "stderr",
          "text": [
            "\n"
          ]
        },
        {
          "output_type": "stream",
          "name": "stdout",
          "text": [
            "\n",
            "      Epoch    GPU_mem   box_loss   cls_loss   dfl_loss  Instances       Size\n"
          ]
        },
        {
          "output_type": "stream",
          "name": "stderr",
          "text": [
            "     80/200      1.06G      1.117      1.549      1.273         20        416: 100%|██████████| 8/8 [00:01<00:00,  5.88it/s]\n",
            "                 Class     Images  Instances      Box(P          R      mAP50  mAP50-95): 100%|██████████| 4/4 [00:01<00:00,  2.88it/s]"
          ]
        },
        {
          "output_type": "stream",
          "name": "stdout",
          "text": [
            "                   all        122        122      0.464      0.878      0.591      0.374\n"
          ]
        },
        {
          "output_type": "stream",
          "name": "stderr",
          "text": [
            "\n"
          ]
        },
        {
          "output_type": "stream",
          "name": "stdout",
          "text": [
            "\n",
            "      Epoch    GPU_mem   box_loss   cls_loss   dfl_loss  Instances       Size\n"
          ]
        },
        {
          "output_type": "stream",
          "name": "stderr",
          "text": [
            "     81/200      1.06G      1.117      1.513       1.23         18        416: 100%|██████████| 8/8 [00:02<00:00,  3.84it/s]\n",
            "                 Class     Images  Instances      Box(P          R      mAP50  mAP50-95): 100%|██████████| 4/4 [00:01<00:00,  2.07it/s]"
          ]
        },
        {
          "output_type": "stream",
          "name": "stdout",
          "text": [
            "                   all        122        122      0.459      0.797      0.573       0.37\n"
          ]
        },
        {
          "output_type": "stream",
          "name": "stderr",
          "text": [
            "\n"
          ]
        },
        {
          "output_type": "stream",
          "name": "stdout",
          "text": [
            "\n",
            "      Epoch    GPU_mem   box_loss   cls_loss   dfl_loss  Instances       Size\n"
          ]
        },
        {
          "output_type": "stream",
          "name": "stderr",
          "text": [
            "     82/200      1.06G      1.116      1.609      1.242         26        416: 100%|██████████| 8/8 [00:01<00:00,  5.53it/s]\n",
            "                 Class     Images  Instances      Box(P          R      mAP50  mAP50-95): 100%|██████████| 4/4 [00:01<00:00,  3.60it/s]"
          ]
        },
        {
          "output_type": "stream",
          "name": "stdout",
          "text": [
            "                   all        122        122      0.468      0.779      0.595      0.403\n"
          ]
        },
        {
          "output_type": "stream",
          "name": "stderr",
          "text": [
            "\n"
          ]
        },
        {
          "output_type": "stream",
          "name": "stdout",
          "text": [
            "\n",
            "      Epoch    GPU_mem   box_loss   cls_loss   dfl_loss  Instances       Size\n"
          ]
        },
        {
          "output_type": "stream",
          "name": "stderr",
          "text": [
            "     83/200      1.06G      1.175       1.54      1.259         21        416: 100%|██████████| 8/8 [00:01<00:00,  6.18it/s]\n",
            "                 Class     Images  Instances      Box(P          R      mAP50  mAP50-95): 100%|██████████| 4/4 [00:01<00:00,  3.12it/s]"
          ]
        },
        {
          "output_type": "stream",
          "name": "stdout",
          "text": [
            "                   all        122        122      0.414      0.753      0.585      0.382\n"
          ]
        },
        {
          "output_type": "stream",
          "name": "stderr",
          "text": [
            "\n"
          ]
        },
        {
          "output_type": "stream",
          "name": "stdout",
          "text": [
            "\n",
            "      Epoch    GPU_mem   box_loss   cls_loss   dfl_loss  Instances       Size\n"
          ]
        },
        {
          "output_type": "stream",
          "name": "stderr",
          "text": [
            "     84/200      1.06G      1.162      1.533      1.253         25        416: 100%|██████████| 8/8 [00:01<00:00,  5.82it/s]\n",
            "                 Class     Images  Instances      Box(P          R      mAP50  mAP50-95): 100%|██████████| 4/4 [00:01<00:00,  3.76it/s]"
          ]
        },
        {
          "output_type": "stream",
          "name": "stdout",
          "text": [
            "                   all        122        122      0.346      0.834      0.583      0.364\n"
          ]
        },
        {
          "output_type": "stream",
          "name": "stderr",
          "text": [
            "\n"
          ]
        },
        {
          "output_type": "stream",
          "name": "stdout",
          "text": [
            "\n",
            "      Epoch    GPU_mem   box_loss   cls_loss   dfl_loss  Instances       Size\n"
          ]
        },
        {
          "output_type": "stream",
          "name": "stderr",
          "text": [
            "     85/200      1.06G      1.106      1.554      1.236         24        416: 100%|██████████| 8/8 [00:01<00:00,  5.49it/s]\n",
            "                 Class     Images  Instances      Box(P          R      mAP50  mAP50-95): 100%|██████████| 4/4 [00:02<00:00,  1.95it/s]"
          ]
        },
        {
          "output_type": "stream",
          "name": "stdout",
          "text": [
            "                   all        122        122      0.396      0.781       0.55      0.346\n"
          ]
        },
        {
          "output_type": "stream",
          "name": "stderr",
          "text": [
            "\n"
          ]
        },
        {
          "output_type": "stream",
          "name": "stdout",
          "text": [
            "\n",
            "      Epoch    GPU_mem   box_loss   cls_loss   dfl_loss  Instances       Size\n"
          ]
        },
        {
          "output_type": "stream",
          "name": "stderr",
          "text": [
            "     86/200      1.06G      1.103      1.529      1.221         21        416: 100%|██████████| 8/8 [00:02<00:00,  3.88it/s]\n",
            "                 Class     Images  Instances      Box(P          R      mAP50  mAP50-95): 100%|██████████| 4/4 [00:01<00:00,  2.48it/s]"
          ]
        },
        {
          "output_type": "stream",
          "name": "stdout",
          "text": [
            "                   all        122        122      0.464      0.799      0.597       0.39\n"
          ]
        },
        {
          "output_type": "stream",
          "name": "stderr",
          "text": [
            "\n"
          ]
        },
        {
          "output_type": "stream",
          "name": "stdout",
          "text": [
            "\n",
            "      Epoch    GPU_mem   box_loss   cls_loss   dfl_loss  Instances       Size\n"
          ]
        },
        {
          "output_type": "stream",
          "name": "stderr",
          "text": [
            "     87/200      1.06G      1.117      1.551      1.262         23        416: 100%|██████████| 8/8 [00:01<00:00,  6.11it/s]\n",
            "                 Class     Images  Instances      Box(P          R      mAP50  mAP50-95): 100%|██████████| 4/4 [00:01<00:00,  3.55it/s]"
          ]
        },
        {
          "output_type": "stream",
          "name": "stdout",
          "text": [
            "                   all        122        122      0.469      0.831      0.664      0.437\n"
          ]
        },
        {
          "output_type": "stream",
          "name": "stderr",
          "text": [
            "\n"
          ]
        },
        {
          "output_type": "stream",
          "name": "stdout",
          "text": [
            "\n",
            "      Epoch    GPU_mem   box_loss   cls_loss   dfl_loss  Instances       Size\n"
          ]
        },
        {
          "output_type": "stream",
          "name": "stderr",
          "text": [
            "     88/200      1.06G      1.124       1.53      1.221         24        416: 100%|██████████| 8/8 [00:01<00:00,  5.97it/s]\n",
            "                 Class     Images  Instances      Box(P          R      mAP50  mAP50-95): 100%|██████████| 4/4 [00:01<00:00,  2.98it/s]"
          ]
        },
        {
          "output_type": "stream",
          "name": "stdout",
          "text": [
            "                   all        122        122      0.367      0.844      0.563       0.35\n"
          ]
        },
        {
          "output_type": "stream",
          "name": "stderr",
          "text": [
            "\n"
          ]
        },
        {
          "output_type": "stream",
          "name": "stdout",
          "text": [
            "\n",
            "      Epoch    GPU_mem   box_loss   cls_loss   dfl_loss  Instances       Size\n"
          ]
        },
        {
          "output_type": "stream",
          "name": "stderr",
          "text": [
            "     89/200      1.06G       1.08      1.524      1.246         19        416: 100%|██████████| 8/8 [00:01<00:00,  5.75it/s]\n",
            "                 Class     Images  Instances      Box(P          R      mAP50  mAP50-95): 100%|██████████| 4/4 [00:01<00:00,  3.58it/s]"
          ]
        },
        {
          "output_type": "stream",
          "name": "stdout",
          "text": [
            "                   all        122        122      0.345      0.852      0.565      0.369\n"
          ]
        },
        {
          "output_type": "stream",
          "name": "stderr",
          "text": [
            "\n"
          ]
        },
        {
          "output_type": "stream",
          "name": "stdout",
          "text": [
            "\n",
            "      Epoch    GPU_mem   box_loss   cls_loss   dfl_loss  Instances       Size\n"
          ]
        },
        {
          "output_type": "stream",
          "name": "stderr",
          "text": [
            "     90/200       1.2G      1.115      1.506      1.232         25        416: 100%|██████████| 8/8 [00:02<00:00,  3.88it/s]\n",
            "                 Class     Images  Instances      Box(P          R      mAP50  mAP50-95): 100%|██████████| 4/4 [00:01<00:00,  2.01it/s]"
          ]
        },
        {
          "output_type": "stream",
          "name": "stdout",
          "text": [
            "                   all        122        122      0.426      0.859       0.65      0.431\n"
          ]
        },
        {
          "output_type": "stream",
          "name": "stderr",
          "text": [
            "\n"
          ]
        },
        {
          "output_type": "stream",
          "name": "stdout",
          "text": [
            "\n",
            "      Epoch    GPU_mem   box_loss   cls_loss   dfl_loss  Instances       Size\n"
          ]
        },
        {
          "output_type": "stream",
          "name": "stderr",
          "text": [
            "     91/200      1.06G      1.111      1.515      1.238         25        416: 100%|██████████| 8/8 [00:01<00:00,  5.78it/s]\n",
            "                 Class     Images  Instances      Box(P          R      mAP50  mAP50-95): 100%|██████████| 4/4 [00:01<00:00,  3.72it/s]"
          ]
        },
        {
          "output_type": "stream",
          "name": "stdout",
          "text": [
            "                   all        122        122      0.503      0.857      0.637      0.419\n"
          ]
        },
        {
          "output_type": "stream",
          "name": "stderr",
          "text": [
            "\n"
          ]
        },
        {
          "output_type": "stream",
          "name": "stdout",
          "text": [
            "\n",
            "      Epoch    GPU_mem   box_loss   cls_loss   dfl_loss  Instances       Size\n"
          ]
        },
        {
          "output_type": "stream",
          "name": "stderr",
          "text": [
            "     92/200      1.06G      1.145      1.525      1.241         22        416: 100%|██████████| 8/8 [00:01<00:00,  6.09it/s]\n",
            "                 Class     Images  Instances      Box(P          R      mAP50  mAP50-95): 100%|██████████| 4/4 [00:01<00:00,  3.21it/s]"
          ]
        },
        {
          "output_type": "stream",
          "name": "stdout",
          "text": [
            "                   all        122        122      0.505      0.838      0.664      0.439\n"
          ]
        },
        {
          "output_type": "stream",
          "name": "stderr",
          "text": [
            "\n"
          ]
        },
        {
          "output_type": "stream",
          "name": "stdout",
          "text": [
            "\n",
            "      Epoch    GPU_mem   box_loss   cls_loss   dfl_loss  Instances       Size\n"
          ]
        },
        {
          "output_type": "stream",
          "name": "stderr",
          "text": [
            "     93/200      1.06G      1.133      1.459      1.226         19        416: 100%|██████████| 8/8 [00:01<00:00,  6.23it/s]\n",
            "                 Class     Images  Instances      Box(P          R      mAP50  mAP50-95): 100%|██████████| 4/4 [00:01<00:00,  3.09it/s]"
          ]
        },
        {
          "output_type": "stream",
          "name": "stdout",
          "text": [
            "                   all        122        122      0.404      0.847      0.576      0.373\n"
          ]
        },
        {
          "output_type": "stream",
          "name": "stderr",
          "text": [
            "\n"
          ]
        },
        {
          "output_type": "stream",
          "name": "stdout",
          "text": [
            "\n",
            "      Epoch    GPU_mem   box_loss   cls_loss   dfl_loss  Instances       Size\n"
          ]
        },
        {
          "output_type": "stream",
          "name": "stderr",
          "text": [
            "     94/200      1.06G      1.111      1.479      1.233         21        416: 100%|██████████| 8/8 [00:01<00:00,  5.21it/s]\n",
            "                 Class     Images  Instances      Box(P          R      mAP50  mAP50-95): 100%|██████████| 4/4 [00:01<00:00,  2.09it/s]"
          ]
        },
        {
          "output_type": "stream",
          "name": "stdout",
          "text": [
            "                   all        122        122      0.346      0.777      0.577      0.362\n"
          ]
        },
        {
          "output_type": "stream",
          "name": "stderr",
          "text": [
            "\n"
          ]
        },
        {
          "output_type": "stream",
          "name": "stdout",
          "text": [
            "\n",
            "      Epoch    GPU_mem   box_loss   cls_loss   dfl_loss  Instances       Size\n"
          ]
        },
        {
          "output_type": "stream",
          "name": "stderr",
          "text": [
            "     95/200      1.06G      1.102      1.445      1.217         25        416: 100%|██████████| 8/8 [00:02<00:00,  3.82it/s]\n",
            "                 Class     Images  Instances      Box(P          R      mAP50  mAP50-95): 100%|██████████| 4/4 [00:01<00:00,  2.44it/s]"
          ]
        },
        {
          "output_type": "stream",
          "name": "stdout",
          "text": [
            "                   all        122        122      0.391      0.854      0.631      0.405\n"
          ]
        },
        {
          "output_type": "stream",
          "name": "stderr",
          "text": [
            "\n"
          ]
        },
        {
          "output_type": "stream",
          "name": "stdout",
          "text": [
            "\n",
            "      Epoch    GPU_mem   box_loss   cls_loss   dfl_loss  Instances       Size\n"
          ]
        },
        {
          "output_type": "stream",
          "name": "stderr",
          "text": [
            "     96/200      1.06G      1.081      1.471      1.235         25        416: 100%|██████████| 8/8 [00:01<00:00,  5.84it/s]\n",
            "                 Class     Images  Instances      Box(P          R      mAP50  mAP50-95): 100%|██████████| 4/4 [00:01<00:00,  3.28it/s]"
          ]
        },
        {
          "output_type": "stream",
          "name": "stdout",
          "text": [
            "                   all        122        122      0.431      0.851      0.631      0.404\n"
          ]
        },
        {
          "output_type": "stream",
          "name": "stderr",
          "text": [
            "\n"
          ]
        },
        {
          "output_type": "stream",
          "name": "stdout",
          "text": [
            "\n",
            "      Epoch    GPU_mem   box_loss   cls_loss   dfl_loss  Instances       Size\n"
          ]
        },
        {
          "output_type": "stream",
          "name": "stderr",
          "text": [
            "     97/200      1.06G      1.131      1.499      1.245         24        416: 100%|██████████| 8/8 [00:01<00:00,  6.10it/s]\n",
            "                 Class     Images  Instances      Box(P          R      mAP50  mAP50-95): 100%|██████████| 4/4 [00:01<00:00,  3.11it/s]"
          ]
        },
        {
          "output_type": "stream",
          "name": "stdout",
          "text": [
            "                   all        122        122      0.416      0.882      0.653      0.422\n"
          ]
        },
        {
          "output_type": "stream",
          "name": "stderr",
          "text": [
            "\n"
          ]
        },
        {
          "output_type": "stream",
          "name": "stdout",
          "text": [
            "\n",
            "      Epoch    GPU_mem   box_loss   cls_loss   dfl_loss  Instances       Size\n"
          ]
        },
        {
          "output_type": "stream",
          "name": "stderr",
          "text": [
            "     98/200      1.06G      1.122      1.442      1.204         32        416: 100%|██████████| 8/8 [00:01<00:00,  5.86it/s]\n",
            "                 Class     Images  Instances      Box(P          R      mAP50  mAP50-95): 100%|██████████| 4/4 [00:01<00:00,  3.77it/s]"
          ]
        },
        {
          "output_type": "stream",
          "name": "stdout",
          "text": [
            "                   all        122        122      0.457       0.82      0.622      0.396\n"
          ]
        },
        {
          "output_type": "stream",
          "name": "stderr",
          "text": [
            "\n"
          ]
        },
        {
          "output_type": "stream",
          "name": "stdout",
          "text": [
            "\n",
            "      Epoch    GPU_mem   box_loss   cls_loss   dfl_loss  Instances       Size\n"
          ]
        },
        {
          "output_type": "stream",
          "name": "stderr",
          "text": [
            "     99/200      1.06G      1.072      1.433      1.192         24        416: 100%|██████████| 8/8 [00:02<00:00,  3.76it/s]\n",
            "                 Class     Images  Instances      Box(P          R      mAP50  mAP50-95): 100%|██████████| 4/4 [00:02<00:00,  1.79it/s]"
          ]
        },
        {
          "output_type": "stream",
          "name": "stdout",
          "text": [
            "                   all        122        122      0.356      0.873      0.597        0.4\n"
          ]
        },
        {
          "output_type": "stream",
          "name": "stderr",
          "text": [
            "\n"
          ]
        },
        {
          "output_type": "stream",
          "name": "stdout",
          "text": [
            "\n",
            "      Epoch    GPU_mem   box_loss   cls_loss   dfl_loss  Instances       Size\n"
          ]
        },
        {
          "output_type": "stream",
          "name": "stderr",
          "text": [
            "    100/200      1.06G      1.126      1.478      1.222         28        416: 100%|██████████| 8/8 [00:01<00:00,  4.00it/s]\n",
            "                 Class     Images  Instances      Box(P          R      mAP50  mAP50-95): 100%|██████████| 4/4 [00:01<00:00,  3.44it/s]"
          ]
        },
        {
          "output_type": "stream",
          "name": "stdout",
          "text": [
            "                   all        122        122      0.344      0.856      0.508       0.34\n"
          ]
        },
        {
          "output_type": "stream",
          "name": "stderr",
          "text": [
            "\n"
          ]
        },
        {
          "output_type": "stream",
          "name": "stdout",
          "text": [
            "\n",
            "      Epoch    GPU_mem   box_loss   cls_loss   dfl_loss  Instances       Size\n"
          ]
        },
        {
          "output_type": "stream",
          "name": "stderr",
          "text": [
            "    101/200      1.06G      1.086      1.452      1.239         19        416: 100%|██████████| 8/8 [00:01<00:00,  6.12it/s]\n",
            "                 Class     Images  Instances      Box(P          R      mAP50  mAP50-95): 100%|██████████| 4/4 [00:01<00:00,  3.52it/s]"
          ]
        },
        {
          "output_type": "stream",
          "name": "stdout",
          "text": [
            "                   all        122        122      0.421      0.875      0.628      0.423\n"
          ]
        },
        {
          "output_type": "stream",
          "name": "stderr",
          "text": [
            "\n"
          ]
        },
        {
          "output_type": "stream",
          "name": "stdout",
          "text": [
            "\n",
            "      Epoch    GPU_mem   box_loss   cls_loss   dfl_loss  Instances       Size\n"
          ]
        },
        {
          "output_type": "stream",
          "name": "stderr",
          "text": [
            "    102/200      1.06G      1.075      1.416      1.226         26        416: 100%|██████████| 8/8 [00:01<00:00,  6.16it/s]\n",
            "                 Class     Images  Instances      Box(P          R      mAP50  mAP50-95): 100%|██████████| 4/4 [00:01<00:00,  3.59it/s]"
          ]
        },
        {
          "output_type": "stream",
          "name": "stdout",
          "text": [
            "                   all        122        122      0.529      0.903      0.726      0.488\n"
          ]
        },
        {
          "output_type": "stream",
          "name": "stderr",
          "text": [
            "\n"
          ]
        },
        {
          "output_type": "stream",
          "name": "stdout",
          "text": [
            "\n",
            "      Epoch    GPU_mem   box_loss   cls_loss   dfl_loss  Instances       Size\n"
          ]
        },
        {
          "output_type": "stream",
          "name": "stderr",
          "text": [
            "    103/200      1.06G        1.1       1.45       1.22         24        416: 100%|██████████| 8/8 [00:01<00:00,  6.07it/s]\n",
            "                 Class     Images  Instances      Box(P          R      mAP50  mAP50-95): 100%|██████████| 4/4 [00:01<00:00,  2.13it/s]"
          ]
        },
        {
          "output_type": "stream",
          "name": "stdout",
          "text": [
            "                   all        122        122      0.444      0.843       0.63       0.42\n"
          ]
        },
        {
          "output_type": "stream",
          "name": "stderr",
          "text": [
            "\n"
          ]
        },
        {
          "output_type": "stream",
          "name": "stdout",
          "text": [
            "\n",
            "      Epoch    GPU_mem   box_loss   cls_loss   dfl_loss  Instances       Size\n"
          ]
        },
        {
          "output_type": "stream",
          "name": "stderr",
          "text": [
            "    104/200      1.06G      1.056      1.403      1.187         24        416: 100%|██████████| 8/8 [00:02<00:00,  3.79it/s]\n",
            "                 Class     Images  Instances      Box(P          R      mAP50  mAP50-95): 100%|██████████| 4/4 [00:02<00:00,  1.92it/s]"
          ]
        },
        {
          "output_type": "stream",
          "name": "stdout",
          "text": [
            "                   all        122        122      0.498      0.791      0.644      0.432\n"
          ]
        },
        {
          "output_type": "stream",
          "name": "stderr",
          "text": [
            "\n"
          ]
        },
        {
          "output_type": "stream",
          "name": "stdout",
          "text": [
            "\n",
            "      Epoch    GPU_mem   box_loss   cls_loss   dfl_loss  Instances       Size\n"
          ]
        },
        {
          "output_type": "stream",
          "name": "stderr",
          "text": [
            "    105/200      1.06G      1.081      1.421      1.222         22        416: 100%|██████████| 8/8 [00:01<00:00,  6.23it/s]\n",
            "                 Class     Images  Instances      Box(P          R      mAP50  mAP50-95): 100%|██████████| 4/4 [00:01<00:00,  3.03it/s]"
          ]
        },
        {
          "output_type": "stream",
          "name": "stdout",
          "text": [
            "                   all        122        122      0.427      0.821      0.735      0.502\n"
          ]
        },
        {
          "output_type": "stream",
          "name": "stderr",
          "text": [
            "\n"
          ]
        },
        {
          "output_type": "stream",
          "name": "stdout",
          "text": [
            "\n",
            "      Epoch    GPU_mem   box_loss   cls_loss   dfl_loss  Instances       Size\n"
          ]
        },
        {
          "output_type": "stream",
          "name": "stderr",
          "text": [
            "    106/200      1.06G      1.086      1.392      1.211         26        416: 100%|██████████| 8/8 [00:01<00:00,  6.09it/s]\n",
            "                 Class     Images  Instances      Box(P          R      mAP50  mAP50-95): 100%|██████████| 4/4 [00:01<00:00,  3.63it/s]"
          ]
        },
        {
          "output_type": "stream",
          "name": "stdout",
          "text": [
            "                   all        122        122      0.462      0.841      0.684      0.456\n"
          ]
        },
        {
          "output_type": "stream",
          "name": "stderr",
          "text": [
            "\n"
          ]
        },
        {
          "output_type": "stream",
          "name": "stdout",
          "text": [
            "\n",
            "      Epoch    GPU_mem   box_loss   cls_loss   dfl_loss  Instances       Size\n"
          ]
        },
        {
          "output_type": "stream",
          "name": "stderr",
          "text": [
            "    107/200      1.06G      1.061       1.41      1.193         22        416: 100%|██████████| 8/8 [00:01<00:00,  6.02it/s]\n",
            "                 Class     Images  Instances      Box(P          R      mAP50  mAP50-95): 100%|██████████| 4/4 [00:01<00:00,  3.33it/s]"
          ]
        },
        {
          "output_type": "stream",
          "name": "stdout",
          "text": [
            "                   all        122        122      0.554      0.809      0.726      0.479\n"
          ]
        },
        {
          "output_type": "stream",
          "name": "stderr",
          "text": [
            "\n"
          ]
        },
        {
          "output_type": "stream",
          "name": "stdout",
          "text": [
            "\n",
            "      Epoch    GPU_mem   box_loss   cls_loss   dfl_loss  Instances       Size\n"
          ]
        },
        {
          "output_type": "stream",
          "name": "stderr",
          "text": [
            "    108/200      1.06G      1.047      1.444      1.196         20        416: 100%|██████████| 8/8 [00:01<00:00,  4.18it/s]\n",
            "                 Class     Images  Instances      Box(P          R      mAP50  mAP50-95): 100%|██████████| 4/4 [00:01<00:00,  2.33it/s]"
          ]
        },
        {
          "output_type": "stream",
          "name": "stdout",
          "text": [
            "                   all        122        122      0.546      0.809      0.688      0.458\n"
          ]
        },
        {
          "output_type": "stream",
          "name": "stderr",
          "text": [
            "\n"
          ]
        },
        {
          "output_type": "stream",
          "name": "stdout",
          "text": [
            "\n",
            "      Epoch    GPU_mem   box_loss   cls_loss   dfl_loss  Instances       Size\n"
          ]
        },
        {
          "output_type": "stream",
          "name": "stderr",
          "text": [
            "    109/200      1.06G      1.061      1.425      1.201         29        416: 100%|██████████| 8/8 [00:02<00:00,  4.00it/s]\n",
            "                 Class     Images  Instances      Box(P          R      mAP50  mAP50-95): 100%|██████████| 4/4 [00:01<00:00,  2.83it/s]"
          ]
        },
        {
          "output_type": "stream",
          "name": "stdout",
          "text": [
            "                   all        122        122      0.506      0.843      0.705      0.484\n"
          ]
        },
        {
          "output_type": "stream",
          "name": "stderr",
          "text": [
            "\n"
          ]
        },
        {
          "output_type": "stream",
          "name": "stdout",
          "text": [
            "\n",
            "      Epoch    GPU_mem   box_loss   cls_loss   dfl_loss  Instances       Size\n"
          ]
        },
        {
          "output_type": "stream",
          "name": "stderr",
          "text": [
            "    110/200      1.06G      1.026      1.357      1.182         19        416: 100%|██████████| 8/8 [00:01<00:00,  6.16it/s]\n",
            "                 Class     Images  Instances      Box(P          R      mAP50  mAP50-95): 100%|██████████| 4/4 [00:01<00:00,  3.40it/s]"
          ]
        },
        {
          "output_type": "stream",
          "name": "stdout",
          "text": [
            "                   all        122        122      0.659      0.837      0.793      0.561\n"
          ]
        },
        {
          "output_type": "stream",
          "name": "stderr",
          "text": [
            "\n"
          ]
        },
        {
          "output_type": "stream",
          "name": "stdout",
          "text": [
            "\n",
            "      Epoch    GPU_mem   box_loss   cls_loss   dfl_loss  Instances       Size\n"
          ]
        },
        {
          "output_type": "stream",
          "name": "stderr",
          "text": [
            "    111/200      1.06G      1.054      1.422      1.183         19        416: 100%|██████████| 8/8 [00:01<00:00,  6.31it/s]\n",
            "                 Class     Images  Instances      Box(P          R      mAP50  mAP50-95): 100%|██████████| 4/4 [00:01<00:00,  3.45it/s]"
          ]
        },
        {
          "output_type": "stream",
          "name": "stdout",
          "text": [
            "                   all        122        122      0.695      0.866      0.836      0.592\n"
          ]
        },
        {
          "output_type": "stream",
          "name": "stderr",
          "text": [
            "\n"
          ]
        },
        {
          "output_type": "stream",
          "name": "stdout",
          "text": [
            "\n",
            "      Epoch    GPU_mem   box_loss   cls_loss   dfl_loss  Instances       Size\n"
          ]
        },
        {
          "output_type": "stream",
          "name": "stderr",
          "text": [
            "    112/200      1.06G      1.023      1.355      1.178         25        416: 100%|██████████| 8/8 [00:01<00:00,  6.47it/s]\n",
            "                 Class     Images  Instances      Box(P          R      mAP50  mAP50-95): 100%|██████████| 4/4 [00:01<00:00,  2.60it/s]"
          ]
        },
        {
          "output_type": "stream",
          "name": "stdout",
          "text": [
            "                   all        122        122      0.489      0.852      0.644      0.453\n"
          ]
        },
        {
          "output_type": "stream",
          "name": "stderr",
          "text": [
            "\n"
          ]
        },
        {
          "output_type": "stream",
          "name": "stdout",
          "text": [
            "\n",
            "      Epoch    GPU_mem   box_loss   cls_loss   dfl_loss  Instances       Size\n"
          ]
        },
        {
          "output_type": "stream",
          "name": "stderr",
          "text": [
            "    113/200      1.06G      1.045      1.407      1.187         24        416: 100%|██████████| 8/8 [00:02<00:00,  3.80it/s]\n",
            "                 Class     Images  Instances      Box(P          R      mAP50  mAP50-95): 100%|██████████| 4/4 [00:02<00:00,  1.96it/s]"
          ]
        },
        {
          "output_type": "stream",
          "name": "stdout",
          "text": [
            "                   all        122        122      0.441      0.833      0.608      0.434\n"
          ]
        },
        {
          "output_type": "stream",
          "name": "stderr",
          "text": [
            "\n"
          ]
        },
        {
          "output_type": "stream",
          "name": "stdout",
          "text": [
            "\n",
            "      Epoch    GPU_mem   box_loss   cls_loss   dfl_loss  Instances       Size\n"
          ]
        },
        {
          "output_type": "stream",
          "name": "stderr",
          "text": [
            "    114/200      1.06G     0.9906      1.346      1.149         19        416: 100%|██████████| 8/8 [00:01<00:00,  6.25it/s]\n",
            "                 Class     Images  Instances      Box(P          R      mAP50  mAP50-95): 100%|██████████| 4/4 [00:01<00:00,  3.76it/s]"
          ]
        },
        {
          "output_type": "stream",
          "name": "stdout",
          "text": [
            "                   all        122        122      0.432      0.824      0.624      0.461\n"
          ]
        },
        {
          "output_type": "stream",
          "name": "stderr",
          "text": [
            "\n"
          ]
        },
        {
          "output_type": "stream",
          "name": "stdout",
          "text": [
            "\n",
            "      Epoch    GPU_mem   box_loss   cls_loss   dfl_loss  Instances       Size\n"
          ]
        },
        {
          "output_type": "stream",
          "name": "stderr",
          "text": [
            "    115/200      1.06G       1.01      1.392      1.186         17        416: 100%|██████████| 8/8 [00:01<00:00,  6.11it/s]\n",
            "                 Class     Images  Instances      Box(P          R      mAP50  mAP50-95): 100%|██████████| 4/4 [00:01<00:00,  3.15it/s]"
          ]
        },
        {
          "output_type": "stream",
          "name": "stdout",
          "text": [
            "                   all        122        122      0.436      0.877      0.639      0.462\n"
          ]
        },
        {
          "output_type": "stream",
          "name": "stderr",
          "text": [
            "\n"
          ]
        },
        {
          "output_type": "stream",
          "name": "stdout",
          "text": [
            "\n",
            "      Epoch    GPU_mem   box_loss   cls_loss   dfl_loss  Instances       Size\n"
          ]
        },
        {
          "output_type": "stream",
          "name": "stderr",
          "text": [
            "    116/200      1.06G     0.9942      1.342      1.176         18        416: 100%|██████████| 8/8 [00:01<00:00,  5.63it/s]\n",
            "                 Class     Images  Instances      Box(P          R      mAP50  mAP50-95): 100%|██████████| 4/4 [00:01<00:00,  3.57it/s]"
          ]
        },
        {
          "output_type": "stream",
          "name": "stdout",
          "text": [
            "                   all        122        122      0.439      0.863      0.667      0.456\n"
          ]
        },
        {
          "output_type": "stream",
          "name": "stderr",
          "text": [
            "\n"
          ]
        },
        {
          "output_type": "stream",
          "name": "stdout",
          "text": [
            "\n",
            "      Epoch    GPU_mem   box_loss   cls_loss   dfl_loss  Instances       Size\n"
          ]
        },
        {
          "output_type": "stream",
          "name": "stderr",
          "text": [
            "    117/200      1.06G      1.042       1.36      1.199         19        416: 100%|██████████| 8/8 [00:01<00:00,  4.54it/s]\n",
            "                 Class     Images  Instances      Box(P          R      mAP50  mAP50-95): 100%|██████████| 4/4 [00:01<00:00,  2.04it/s]"
          ]
        },
        {
          "output_type": "stream",
          "name": "stdout",
          "text": [
            "                   all        122        122      0.496      0.831      0.705      0.502\n"
          ]
        },
        {
          "output_type": "stream",
          "name": "stderr",
          "text": [
            "\n"
          ]
        },
        {
          "output_type": "stream",
          "name": "stdout",
          "text": [
            "\n",
            "      Epoch    GPU_mem   box_loss   cls_loss   dfl_loss  Instances       Size\n"
          ]
        },
        {
          "output_type": "stream",
          "name": "stderr",
          "text": [
            "    118/200      1.06G      1.003      1.392      1.203         26        416: 100%|██████████| 8/8 [00:02<00:00,  3.95it/s]\n",
            "                 Class     Images  Instances      Box(P          R      mAP50  mAP50-95): 100%|██████████| 4/4 [00:01<00:00,  2.45it/s]"
          ]
        },
        {
          "output_type": "stream",
          "name": "stdout",
          "text": [
            "                   all        122        122      0.526      0.862      0.745      0.541\n"
          ]
        },
        {
          "output_type": "stream",
          "name": "stderr",
          "text": [
            "\n"
          ]
        },
        {
          "output_type": "stream",
          "name": "stdout",
          "text": [
            "\n",
            "      Epoch    GPU_mem   box_loss   cls_loss   dfl_loss  Instances       Size\n"
          ]
        },
        {
          "output_type": "stream",
          "name": "stderr",
          "text": [
            "    119/200      1.06G      1.059      1.373      1.214         23        416: 100%|██████████| 8/8 [00:01<00:00,  6.09it/s]\n",
            "                 Class     Images  Instances      Box(P          R      mAP50  mAP50-95): 100%|██████████| 4/4 [00:01<00:00,  3.50it/s]"
          ]
        },
        {
          "output_type": "stream",
          "name": "stdout",
          "text": [
            "                   all        122        122      0.448      0.843      0.685      0.493\n"
          ]
        },
        {
          "output_type": "stream",
          "name": "stderr",
          "text": [
            "\n"
          ]
        },
        {
          "output_type": "stream",
          "name": "stdout",
          "text": [
            "\n",
            "      Epoch    GPU_mem   box_loss   cls_loss   dfl_loss  Instances       Size\n"
          ]
        },
        {
          "output_type": "stream",
          "name": "stderr",
          "text": [
            "    120/200      1.06G     0.9993      1.349      1.187         25        416: 100%|██████████| 8/8 [00:01<00:00,  5.85it/s]\n",
            "                 Class     Images  Instances      Box(P          R      mAP50  mAP50-95): 100%|██████████| 4/4 [00:01<00:00,  3.29it/s]"
          ]
        },
        {
          "output_type": "stream",
          "name": "stdout",
          "text": [
            "                   all        122        122      0.459      0.906      0.679      0.497\n"
          ]
        },
        {
          "output_type": "stream",
          "name": "stderr",
          "text": [
            "\n"
          ]
        },
        {
          "output_type": "stream",
          "name": "stdout",
          "text": [
            "\n",
            "      Epoch    GPU_mem   box_loss   cls_loss   dfl_loss  Instances       Size\n"
          ]
        },
        {
          "output_type": "stream",
          "name": "stderr",
          "text": [
            "    121/200      1.06G      1.033      1.271       1.18         22        416: 100%|██████████| 8/8 [00:01<00:00,  5.86it/s]\n",
            "                 Class     Images  Instances      Box(P          R      mAP50  mAP50-95): 100%|██████████| 4/4 [00:01<00:00,  3.30it/s]"
          ]
        },
        {
          "output_type": "stream",
          "name": "stdout",
          "text": [
            "                   all        122        122      0.602      0.845      0.784      0.548\n"
          ]
        },
        {
          "output_type": "stream",
          "name": "stderr",
          "text": [
            "\n"
          ]
        },
        {
          "output_type": "stream",
          "name": "stdout",
          "text": [
            "\n",
            "      Epoch    GPU_mem   box_loss   cls_loss   dfl_loss  Instances       Size\n"
          ]
        },
        {
          "output_type": "stream",
          "name": "stderr",
          "text": [
            "    122/200      1.06G      1.034      1.355      1.194         16        416: 100%|██████████| 8/8 [00:02<00:00,  3.73it/s]\n",
            "                 Class     Images  Instances      Box(P          R      mAP50  mAP50-95): 100%|██████████| 4/4 [00:01<00:00,  2.14it/s]"
          ]
        },
        {
          "output_type": "stream",
          "name": "stdout",
          "text": [
            "                   all        122        122      0.519      0.788      0.712        0.5\n"
          ]
        },
        {
          "output_type": "stream",
          "name": "stderr",
          "text": [
            "\n"
          ]
        },
        {
          "output_type": "stream",
          "name": "stdout",
          "text": [
            "\n",
            "      Epoch    GPU_mem   box_loss   cls_loss   dfl_loss  Instances       Size\n"
          ]
        },
        {
          "output_type": "stream",
          "name": "stderr",
          "text": [
            "    123/200      1.06G      1.058      1.387      1.214         24        416: 100%|██████████| 8/8 [00:01<00:00,  4.39it/s]\n",
            "                 Class     Images  Instances      Box(P          R      mAP50  mAP50-95): 100%|██████████| 4/4 [00:01<00:00,  3.44it/s]"
          ]
        },
        {
          "output_type": "stream",
          "name": "stdout",
          "text": [
            "                   all        122        122      0.654      0.787      0.801      0.592\n"
          ]
        },
        {
          "output_type": "stream",
          "name": "stderr",
          "text": [
            "\n"
          ]
        },
        {
          "output_type": "stream",
          "name": "stdout",
          "text": [
            "\n",
            "      Epoch    GPU_mem   box_loss   cls_loss   dfl_loss  Instances       Size\n"
          ]
        },
        {
          "output_type": "stream",
          "name": "stderr",
          "text": [
            "    124/200      1.06G      1.066      1.354      1.214         23        416: 100%|██████████| 8/8 [00:01<00:00,  6.02it/s]\n",
            "                 Class     Images  Instances      Box(P          R      mAP50  mAP50-95): 100%|██████████| 4/4 [00:01<00:00,  3.12it/s]"
          ]
        },
        {
          "output_type": "stream",
          "name": "stdout",
          "text": [
            "                   all        122        122      0.679       0.85       0.84      0.625\n"
          ]
        },
        {
          "output_type": "stream",
          "name": "stderr",
          "text": [
            "\n"
          ]
        },
        {
          "output_type": "stream",
          "name": "stdout",
          "text": [
            "\n",
            "      Epoch    GPU_mem   box_loss   cls_loss   dfl_loss  Instances       Size\n"
          ]
        },
        {
          "output_type": "stream",
          "name": "stderr",
          "text": [
            "    125/200      1.06G     0.9977      1.312      1.198         24        416: 100%|██████████| 8/8 [00:01<00:00,  6.22it/s]\n",
            "                 Class     Images  Instances      Box(P          R      mAP50  mAP50-95): 100%|██████████| 4/4 [00:01<00:00,  3.20it/s]"
          ]
        },
        {
          "output_type": "stream",
          "name": "stdout",
          "text": [
            "                   all        122        122      0.714      0.833      0.854      0.634\n"
          ]
        },
        {
          "output_type": "stream",
          "name": "stderr",
          "text": [
            "\n"
          ]
        },
        {
          "output_type": "stream",
          "name": "stdout",
          "text": [
            "\n",
            "      Epoch    GPU_mem   box_loss   cls_loss   dfl_loss  Instances       Size\n"
          ]
        },
        {
          "output_type": "stream",
          "name": "stderr",
          "text": [
            "    126/200      1.06G      1.034      1.341      1.233         27        416: 100%|██████████| 8/8 [00:01<00:00,  5.75it/s]\n",
            "                 Class     Images  Instances      Box(P          R      mAP50  mAP50-95): 100%|██████████| 4/4 [00:01<00:00,  2.04it/s]"
          ]
        },
        {
          "output_type": "stream",
          "name": "stdout",
          "text": [
            "                   all        122        122      0.714      0.858      0.908      0.672\n"
          ]
        },
        {
          "output_type": "stream",
          "name": "stderr",
          "text": [
            "\n"
          ]
        },
        {
          "output_type": "stream",
          "name": "stdout",
          "text": [
            "\n",
            "      Epoch    GPU_mem   box_loss   cls_loss   dfl_loss  Instances       Size\n"
          ]
        },
        {
          "output_type": "stream",
          "name": "stderr",
          "text": [
            "    127/200      1.06G      1.039      1.331      1.204         23        416: 100%|██████████| 8/8 [00:02<00:00,  3.88it/s]\n",
            "                 Class     Images  Instances      Box(P          R      mAP50  mAP50-95): 100%|██████████| 4/4 [00:01<00:00,  2.30it/s]"
          ]
        },
        {
          "output_type": "stream",
          "name": "stdout",
          "text": [
            "                   all        122        122      0.607      0.889      0.811      0.583\n"
          ]
        },
        {
          "output_type": "stream",
          "name": "stderr",
          "text": [
            "\n"
          ]
        },
        {
          "output_type": "stream",
          "name": "stdout",
          "text": [
            "\n",
            "      Epoch    GPU_mem   box_loss   cls_loss   dfl_loss  Instances       Size\n"
          ]
        },
        {
          "output_type": "stream",
          "name": "stderr",
          "text": [
            "    128/200      1.06G      1.006      1.271       1.19         27        416: 100%|██████████| 8/8 [00:01<00:00,  6.10it/s]\n",
            "                 Class     Images  Instances      Box(P          R      mAP50  mAP50-95): 100%|██████████| 4/4 [00:01<00:00,  3.64it/s]"
          ]
        },
        {
          "output_type": "stream",
          "name": "stdout",
          "text": [
            "                   all        122        122      0.723      0.889      0.896      0.659\n"
          ]
        },
        {
          "output_type": "stream",
          "name": "stderr",
          "text": [
            "\n"
          ]
        },
        {
          "output_type": "stream",
          "name": "stdout",
          "text": [
            "\n",
            "      Epoch    GPU_mem   box_loss   cls_loss   dfl_loss  Instances       Size\n"
          ]
        },
        {
          "output_type": "stream",
          "name": "stderr",
          "text": [
            "    129/200      1.06G      1.032      1.285      1.208         24        416: 100%|██████████| 8/8 [00:01<00:00,  6.17it/s]\n",
            "                 Class     Images  Instances      Box(P          R      mAP50  mAP50-95): 100%|██████████| 4/4 [00:01<00:00,  3.44it/s]"
          ]
        },
        {
          "output_type": "stream",
          "name": "stdout",
          "text": [
            "                   all        122        122      0.679      0.864      0.861      0.609\n"
          ]
        },
        {
          "output_type": "stream",
          "name": "stderr",
          "text": [
            "\n"
          ]
        },
        {
          "output_type": "stream",
          "name": "stdout",
          "text": [
            "\n",
            "      Epoch    GPU_mem   box_loss   cls_loss   dfl_loss  Instances       Size\n"
          ]
        },
        {
          "output_type": "stream",
          "name": "stderr",
          "text": [
            "    130/200      1.06G      1.036      1.293      1.203         22        416: 100%|██████████| 8/8 [00:01<00:00,  5.57it/s]\n",
            "                 Class     Images  Instances      Box(P          R      mAP50  mAP50-95): 100%|██████████| 4/4 [00:01<00:00,  3.47it/s]"
          ]
        },
        {
          "output_type": "stream",
          "name": "stdout",
          "text": [
            "                   all        122        122      0.723      0.801      0.856      0.581\n"
          ]
        },
        {
          "output_type": "stream",
          "name": "stderr",
          "text": [
            "\n"
          ]
        },
        {
          "output_type": "stream",
          "name": "stdout",
          "text": [
            "\n",
            "      Epoch    GPU_mem   box_loss   cls_loss   dfl_loss  Instances       Size\n"
          ]
        },
        {
          "output_type": "stream",
          "name": "stderr",
          "text": [
            "    131/200      1.06G     0.9873      1.328      1.193         23        416: 100%|██████████| 8/8 [00:02<00:00,  3.99it/s]\n",
            "                 Class     Images  Instances      Box(P          R      mAP50  mAP50-95): 100%|██████████| 4/4 [00:02<00:00,  1.89it/s]"
          ]
        },
        {
          "output_type": "stream",
          "name": "stdout",
          "text": [
            "                   all        122        122      0.707      0.936      0.886      0.658\n"
          ]
        },
        {
          "output_type": "stream",
          "name": "stderr",
          "text": [
            "\n"
          ]
        },
        {
          "output_type": "stream",
          "name": "stdout",
          "text": [
            "\n",
            "      Epoch    GPU_mem   box_loss   cls_loss   dfl_loss  Instances       Size\n"
          ]
        },
        {
          "output_type": "stream",
          "name": "stderr",
          "text": [
            "    132/200      1.06G      1.001      1.291      1.179         21        416: 100%|██████████| 8/8 [00:01<00:00,  4.27it/s]\n",
            "                 Class     Images  Instances      Box(P          R      mAP50  mAP50-95): 100%|██████████| 4/4 [00:01<00:00,  3.30it/s]"
          ]
        },
        {
          "output_type": "stream",
          "name": "stdout",
          "text": [
            "                   all        122        122      0.595       0.86      0.783      0.571\n"
          ]
        },
        {
          "output_type": "stream",
          "name": "stderr",
          "text": [
            "\n"
          ]
        },
        {
          "output_type": "stream",
          "name": "stdout",
          "text": [
            "\n",
            "      Epoch    GPU_mem   box_loss   cls_loss   dfl_loss  Instances       Size\n"
          ]
        },
        {
          "output_type": "stream",
          "name": "stderr",
          "text": [
            "    133/200      1.06G     0.9677      1.231      1.151         24        416: 100%|██████████| 8/8 [00:01<00:00,  6.07it/s]\n",
            "                 Class     Images  Instances      Box(P          R      mAP50  mAP50-95): 100%|██████████| 4/4 [00:01<00:00,  3.20it/s]"
          ]
        },
        {
          "output_type": "stream",
          "name": "stdout",
          "text": [
            "                   all        122        122      0.512      0.862        0.7      0.511\n"
          ]
        },
        {
          "output_type": "stream",
          "name": "stderr",
          "text": [
            "\n"
          ]
        },
        {
          "output_type": "stream",
          "name": "stdout",
          "text": [
            "\n",
            "      Epoch    GPU_mem   box_loss   cls_loss   dfl_loss  Instances       Size\n"
          ]
        },
        {
          "output_type": "stream",
          "name": "stderr",
          "text": [
            "    134/200      1.06G     0.9448      1.248      1.189         12        416: 100%|██████████| 8/8 [00:01<00:00,  6.04it/s]\n",
            "                 Class     Images  Instances      Box(P          R      mAP50  mAP50-95): 100%|██████████| 4/4 [00:01<00:00,  3.35it/s]"
          ]
        },
        {
          "output_type": "stream",
          "name": "stdout",
          "text": [
            "                   all        122        122      0.595      0.927      0.778       0.59\n"
          ]
        },
        {
          "output_type": "stream",
          "name": "stderr",
          "text": [
            "\n"
          ]
        },
        {
          "output_type": "stream",
          "name": "stdout",
          "text": [
            "\n",
            "      Epoch    GPU_mem   box_loss   cls_loss   dfl_loss  Instances       Size\n"
          ]
        },
        {
          "output_type": "stream",
          "name": "stderr",
          "text": [
            "    135/200      1.06G     0.9578      1.318      1.165         26        416: 100%|██████████| 8/8 [00:01<00:00,  5.87it/s]\n",
            "                 Class     Images  Instances      Box(P          R      mAP50  mAP50-95): 100%|██████████| 4/4 [00:02<00:00,  1.96it/s]"
          ]
        },
        {
          "output_type": "stream",
          "name": "stdout",
          "text": [
            "                   all        122        122      0.757      0.886      0.909      0.686\n"
          ]
        },
        {
          "output_type": "stream",
          "name": "stderr",
          "text": [
            "\n"
          ]
        },
        {
          "output_type": "stream",
          "name": "stdout",
          "text": [
            "\n",
            "      Epoch    GPU_mem   box_loss   cls_loss   dfl_loss  Instances       Size\n"
          ]
        },
        {
          "output_type": "stream",
          "name": "stderr",
          "text": [
            "    136/200      1.06G     0.9411      1.205      1.161         20        416: 100%|██████████| 8/8 [00:02<00:00,  3.91it/s]\n",
            "                 Class     Images  Instances      Box(P          R      mAP50  mAP50-95): 100%|██████████| 4/4 [00:01<00:00,  2.01it/s]"
          ]
        },
        {
          "output_type": "stream",
          "name": "stdout",
          "text": [
            "                   all        122        122      0.805      0.773      0.888      0.678\n"
          ]
        },
        {
          "output_type": "stream",
          "name": "stderr",
          "text": [
            "\n"
          ]
        },
        {
          "output_type": "stream",
          "name": "stdout",
          "text": [
            "\n",
            "      Epoch    GPU_mem   box_loss   cls_loss   dfl_loss  Instances       Size\n"
          ]
        },
        {
          "output_type": "stream",
          "name": "stderr",
          "text": [
            "    137/200      1.06G     0.9929       1.25      1.177         16        416: 100%|██████████| 8/8 [00:01<00:00,  5.83it/s]\n",
            "                 Class     Images  Instances      Box(P          R      mAP50  mAP50-95): 100%|██████████| 4/4 [00:01<00:00,  3.18it/s]"
          ]
        },
        {
          "output_type": "stream",
          "name": "stdout",
          "text": [
            "                   all        122        122      0.697      0.814      0.845      0.639\n"
          ]
        },
        {
          "output_type": "stream",
          "name": "stderr",
          "text": [
            "\n"
          ]
        },
        {
          "output_type": "stream",
          "name": "stdout",
          "text": [
            "\n",
            "      Epoch    GPU_mem   box_loss   cls_loss   dfl_loss  Instances       Size\n"
          ]
        },
        {
          "output_type": "stream",
          "name": "stderr",
          "text": [
            "    138/200      1.06G      0.956      1.252      1.176         20        416: 100%|██████████| 8/8 [00:01<00:00,  5.72it/s]\n",
            "                 Class     Images  Instances      Box(P          R      mAP50  mAP50-95): 100%|██████████| 4/4 [00:01<00:00,  3.42it/s]"
          ]
        },
        {
          "output_type": "stream",
          "name": "stdout",
          "text": [
            "                   all        122        122      0.727      0.888      0.882      0.663\n"
          ]
        },
        {
          "output_type": "stream",
          "name": "stderr",
          "text": [
            "\n"
          ]
        },
        {
          "output_type": "stream",
          "name": "stdout",
          "text": [
            "\n",
            "      Epoch    GPU_mem   box_loss   cls_loss   dfl_loss  Instances       Size\n"
          ]
        },
        {
          "output_type": "stream",
          "name": "stderr",
          "text": [
            "    139/200      1.06G     0.9501      1.208      1.165         22        416: 100%|██████████| 8/8 [00:01<00:00,  5.96it/s]\n",
            "                 Class     Images  Instances      Box(P          R      mAP50  mAP50-95): 100%|██████████| 4/4 [00:01<00:00,  3.28it/s]"
          ]
        },
        {
          "output_type": "stream",
          "name": "stdout",
          "text": [
            "                   all        122        122      0.746      0.844      0.894      0.674\n"
          ]
        },
        {
          "output_type": "stream",
          "name": "stderr",
          "text": [
            "\n"
          ]
        },
        {
          "output_type": "stream",
          "name": "stdout",
          "text": [
            "\n",
            "      Epoch    GPU_mem   box_loss   cls_loss   dfl_loss  Instances       Size\n"
          ]
        },
        {
          "output_type": "stream",
          "name": "stderr",
          "text": [
            "    140/200      1.06G      0.941       1.25      1.168         28        416: 100%|██████████| 8/8 [00:02<00:00,  3.84it/s]\n",
            "                 Class     Images  Instances      Box(P          R      mAP50  mAP50-95): 100%|██████████| 4/4 [00:01<00:00,  2.21it/s]"
          ]
        },
        {
          "output_type": "stream",
          "name": "stdout",
          "text": [
            "                   all        122        122      0.774      0.896       0.92      0.708\n"
          ]
        },
        {
          "output_type": "stream",
          "name": "stderr",
          "text": [
            "\n"
          ]
        },
        {
          "output_type": "stream",
          "name": "stdout",
          "text": [
            "\n",
            "      Epoch    GPU_mem   box_loss   cls_loss   dfl_loss  Instances       Size\n"
          ]
        },
        {
          "output_type": "stream",
          "name": "stderr",
          "text": [
            "    141/200      1.06G     0.9511      1.272       1.17         20        416: 100%|██████████| 8/8 [00:02<00:00,  3.92it/s]\n",
            "                 Class     Images  Instances      Box(P          R      mAP50  mAP50-95): 100%|██████████| 4/4 [00:01<00:00,  3.13it/s]"
          ]
        },
        {
          "output_type": "stream",
          "name": "stdout",
          "text": [
            "                   all        122        122      0.757       0.94      0.941       0.73\n"
          ]
        },
        {
          "output_type": "stream",
          "name": "stderr",
          "text": [
            "\n"
          ]
        },
        {
          "output_type": "stream",
          "name": "stdout",
          "text": [
            "\n",
            "      Epoch    GPU_mem   box_loss   cls_loss   dfl_loss  Instances       Size\n"
          ]
        },
        {
          "output_type": "stream",
          "name": "stderr",
          "text": [
            "    142/200      1.06G     0.8869      1.236      1.133         23        416: 100%|██████████| 8/8 [00:01<00:00,  5.70it/s]\n",
            "                 Class     Images  Instances      Box(P          R      mAP50  mAP50-95): 100%|██████████| 4/4 [00:01<00:00,  3.26it/s]"
          ]
        },
        {
          "output_type": "stream",
          "name": "stdout",
          "text": [
            "                   all        122        122      0.667      0.908      0.873      0.677\n"
          ]
        },
        {
          "output_type": "stream",
          "name": "stderr",
          "text": [
            "\n"
          ]
        },
        {
          "output_type": "stream",
          "name": "stdout",
          "text": [
            "\n",
            "      Epoch    GPU_mem   box_loss   cls_loss   dfl_loss  Instances       Size\n"
          ]
        },
        {
          "output_type": "stream",
          "name": "stderr",
          "text": [
            "    143/200      1.06G     0.9152      1.215      1.158         24        416: 100%|██████████| 8/8 [00:01<00:00,  5.82it/s]\n",
            "                 Class     Images  Instances      Box(P          R      mAP50  mAP50-95): 100%|██████████| 4/4 [00:01<00:00,  3.43it/s]"
          ]
        },
        {
          "output_type": "stream",
          "name": "stdout",
          "text": [
            "                   all        122        122      0.816      0.874      0.924      0.715\n"
          ]
        },
        {
          "output_type": "stream",
          "name": "stderr",
          "text": [
            "\n"
          ]
        },
        {
          "output_type": "stream",
          "name": "stdout",
          "text": [
            "\n",
            "      Epoch    GPU_mem   box_loss   cls_loss   dfl_loss  Instances       Size\n"
          ]
        },
        {
          "output_type": "stream",
          "name": "stderr",
          "text": [
            "    144/200      1.06G     0.9318      1.216       1.15         24        416: 100%|██████████| 8/8 [00:01<00:00,  5.59it/s]\n",
            "                 Class     Images  Instances      Box(P          R      mAP50  mAP50-95): 100%|██████████| 4/4 [00:01<00:00,  2.14it/s]"
          ]
        },
        {
          "output_type": "stream",
          "name": "stdout",
          "text": [
            "                   all        122        122      0.791      0.895      0.932       0.72\n"
          ]
        },
        {
          "output_type": "stream",
          "name": "stderr",
          "text": [
            "\n"
          ]
        },
        {
          "output_type": "stream",
          "name": "stdout",
          "text": [
            "\n",
            "      Epoch    GPU_mem   box_loss   cls_loss   dfl_loss  Instances       Size\n"
          ]
        },
        {
          "output_type": "stream",
          "name": "stderr",
          "text": [
            "    145/200      1.06G     0.9746      1.213      1.151         28        416: 100%|██████████| 8/8 [00:02<00:00,  3.80it/s]\n",
            "                 Class     Images  Instances      Box(P          R      mAP50  mAP50-95): 100%|██████████| 4/4 [00:02<00:00,  1.96it/s]"
          ]
        },
        {
          "output_type": "stream",
          "name": "stdout",
          "text": [
            "                   all        122        122       0.79      0.813       0.92      0.708\n"
          ]
        },
        {
          "output_type": "stream",
          "name": "stderr",
          "text": [
            "\n"
          ]
        },
        {
          "output_type": "stream",
          "name": "stdout",
          "text": [
            "\n",
            "      Epoch    GPU_mem   box_loss   cls_loss   dfl_loss  Instances       Size\n"
          ]
        },
        {
          "output_type": "stream",
          "name": "stderr",
          "text": [
            "    146/200      1.06G     0.9181      1.232      1.147         17        416: 100%|██████████| 8/8 [00:01<00:00,  5.83it/s]\n",
            "                 Class     Images  Instances      Box(P          R      mAP50  mAP50-95): 100%|██████████| 4/4 [00:01<00:00,  3.59it/s]"
          ]
        },
        {
          "output_type": "stream",
          "name": "stdout",
          "text": [
            "                   all        122        122      0.812      0.858      0.921      0.702\n"
          ]
        },
        {
          "output_type": "stream",
          "name": "stderr",
          "text": [
            "\n"
          ]
        },
        {
          "output_type": "stream",
          "name": "stdout",
          "text": [
            "\n",
            "      Epoch    GPU_mem   box_loss   cls_loss   dfl_loss  Instances       Size\n"
          ]
        },
        {
          "output_type": "stream",
          "name": "stderr",
          "text": [
            "    147/200      1.06G     0.8802       1.16      1.129         17        416: 100%|██████████| 8/8 [00:01<00:00,  5.75it/s]\n",
            "                 Class     Images  Instances      Box(P          R      mAP50  mAP50-95): 100%|██████████| 4/4 [00:01<00:00,  3.17it/s]"
          ]
        },
        {
          "output_type": "stream",
          "name": "stdout",
          "text": [
            "                   all        122        122      0.777      0.839      0.907      0.691\n"
          ]
        },
        {
          "output_type": "stream",
          "name": "stderr",
          "text": [
            "\n"
          ]
        },
        {
          "output_type": "stream",
          "name": "stdout",
          "text": [
            "\n",
            "      Epoch    GPU_mem   box_loss   cls_loss   dfl_loss  Instances       Size\n"
          ]
        },
        {
          "output_type": "stream",
          "name": "stderr",
          "text": [
            "    148/200      1.06G     0.8751      1.215      1.127         26        416: 100%|██████████| 8/8 [00:01<00:00,  5.57it/s]\n",
            "                 Class     Images  Instances      Box(P          R      mAP50  mAP50-95): 100%|██████████| 4/4 [00:01<00:00,  3.01it/s]"
          ]
        },
        {
          "output_type": "stream",
          "name": "stdout",
          "text": [
            "                   all        122        122      0.757      0.863      0.901      0.683\n"
          ]
        },
        {
          "output_type": "stream",
          "name": "stderr",
          "text": [
            "\n"
          ]
        },
        {
          "output_type": "stream",
          "name": "stdout",
          "text": [
            "\n",
            "      Epoch    GPU_mem   box_loss   cls_loss   dfl_loss  Instances       Size\n"
          ]
        },
        {
          "output_type": "stream",
          "name": "stderr",
          "text": [
            "    149/200      1.06G      0.967       1.19      1.163         23        416: 100%|██████████| 8/8 [00:02<00:00,  3.76it/s]\n",
            "                 Class     Images  Instances      Box(P          R      mAP50  mAP50-95): 100%|██████████| 4/4 [00:02<00:00,  1.84it/s]"
          ]
        },
        {
          "output_type": "stream",
          "name": "stdout",
          "text": [
            "                   all        122        122      0.673      0.886      0.862      0.624\n"
          ]
        },
        {
          "output_type": "stream",
          "name": "stderr",
          "text": [
            "\n"
          ]
        },
        {
          "output_type": "stream",
          "name": "stdout",
          "text": [
            "\n",
            "      Epoch    GPU_mem   box_loss   cls_loss   dfl_loss  Instances       Size\n"
          ]
        },
        {
          "output_type": "stream",
          "name": "stderr",
          "text": [
            "    150/200      1.06G     0.9629      1.265      1.155         20        416: 100%|██████████| 8/8 [00:01<00:00,  4.16it/s]\n",
            "                 Class     Images  Instances      Box(P          R      mAP50  mAP50-95): 100%|██████████| 4/4 [00:01<00:00,  3.39it/s]"
          ]
        },
        {
          "output_type": "stream",
          "name": "stdout",
          "text": [
            "                   all        122        122      0.696      0.924      0.899      0.674\n"
          ]
        },
        {
          "output_type": "stream",
          "name": "stderr",
          "text": [
            "\n"
          ]
        },
        {
          "output_type": "stream",
          "name": "stdout",
          "text": [
            "\n",
            "      Epoch    GPU_mem   box_loss   cls_loss   dfl_loss  Instances       Size\n"
          ]
        },
        {
          "output_type": "stream",
          "name": "stderr",
          "text": [
            "    151/200      1.06G     0.8865      1.199      1.138         30        416: 100%|██████████| 8/8 [00:01<00:00,  5.81it/s]\n",
            "                 Class     Images  Instances      Box(P          R      mAP50  mAP50-95): 100%|██████████| 4/4 [00:01<00:00,  3.05it/s]"
          ]
        },
        {
          "output_type": "stream",
          "name": "stdout",
          "text": [
            "                   all        122        122      0.752      0.905      0.928      0.717\n"
          ]
        },
        {
          "output_type": "stream",
          "name": "stderr",
          "text": [
            "\n"
          ]
        },
        {
          "output_type": "stream",
          "name": "stdout",
          "text": [
            "\n",
            "      Epoch    GPU_mem   box_loss   cls_loss   dfl_loss  Instances       Size\n"
          ]
        },
        {
          "output_type": "stream",
          "name": "stderr",
          "text": [
            "    152/200      1.06G     0.9563      1.212      1.175         18        416: 100%|██████████| 8/8 [00:01<00:00,  5.76it/s]\n",
            "                 Class     Images  Instances      Box(P          R      mAP50  mAP50-95): 100%|██████████| 4/4 [00:01<00:00,  3.42it/s]"
          ]
        },
        {
          "output_type": "stream",
          "name": "stdout",
          "text": [
            "                   all        122        122      0.683      0.891      0.914      0.708\n"
          ]
        },
        {
          "output_type": "stream",
          "name": "stderr",
          "text": [
            "\n"
          ]
        },
        {
          "output_type": "stream",
          "name": "stdout",
          "text": [
            "\n",
            "      Epoch    GPU_mem   box_loss   cls_loss   dfl_loss  Instances       Size\n"
          ]
        },
        {
          "output_type": "stream",
          "name": "stderr",
          "text": [
            "    153/200      1.06G     0.9118      1.168      1.154         23        416: 100%|██████████| 8/8 [00:01<00:00,  5.77it/s]\n",
            "                 Class     Images  Instances      Box(P          R      mAP50  mAP50-95): 100%|██████████| 4/4 [00:02<00:00,  1.86it/s]"
          ]
        },
        {
          "output_type": "stream",
          "name": "stdout",
          "text": [
            "                   all        122        122      0.646       0.86      0.874      0.667\n"
          ]
        },
        {
          "output_type": "stream",
          "name": "stderr",
          "text": [
            "\n"
          ]
        },
        {
          "output_type": "stream",
          "name": "stdout",
          "text": [
            "\n",
            "      Epoch    GPU_mem   box_loss   cls_loss   dfl_loss  Instances       Size\n"
          ]
        },
        {
          "output_type": "stream",
          "name": "stderr",
          "text": [
            "    154/200      1.06G     0.8307      1.071      1.105         25        416: 100%|██████████| 8/8 [00:02<00:00,  3.87it/s]\n",
            "                 Class     Images  Instances      Box(P          R      mAP50  mAP50-95): 100%|██████████| 4/4 [00:02<00:00,  1.92it/s]"
          ]
        },
        {
          "output_type": "stream",
          "name": "stdout",
          "text": [
            "                   all        122        122      0.835      0.902      0.945      0.718\n"
          ]
        },
        {
          "output_type": "stream",
          "name": "stderr",
          "text": [
            "\n"
          ]
        },
        {
          "output_type": "stream",
          "name": "stdout",
          "text": [
            "\n",
            "      Epoch    GPU_mem   box_loss   cls_loss   dfl_loss  Instances       Size\n"
          ]
        },
        {
          "output_type": "stream",
          "name": "stderr",
          "text": [
            "    155/200      1.06G     0.9628       1.16      1.172         25        416: 100%|██████████| 8/8 [00:01<00:00,  5.58it/s]\n",
            "                 Class     Images  Instances      Box(P          R      mAP50  mAP50-95): 100%|██████████| 4/4 [00:01<00:00,  3.35it/s]"
          ]
        },
        {
          "output_type": "stream",
          "name": "stdout",
          "text": [
            "                   all        122        122      0.743      0.866      0.908      0.679\n"
          ]
        },
        {
          "output_type": "stream",
          "name": "stderr",
          "text": [
            "\n"
          ]
        },
        {
          "output_type": "stream",
          "name": "stdout",
          "text": [
            "\n",
            "      Epoch    GPU_mem   box_loss   cls_loss   dfl_loss  Instances       Size\n"
          ]
        },
        {
          "output_type": "stream",
          "name": "stderr",
          "text": [
            "    156/200      1.06G     0.9647      1.284      1.194         19        416: 100%|██████████| 8/8 [00:01<00:00,  5.66it/s]\n",
            "                 Class     Images  Instances      Box(P          R      mAP50  mAP50-95): 100%|██████████| 4/4 [00:01<00:00,  3.36it/s]"
          ]
        },
        {
          "output_type": "stream",
          "name": "stdout",
          "text": [
            "                   all        122        122      0.684       0.86      0.866      0.638\n"
          ]
        },
        {
          "output_type": "stream",
          "name": "stderr",
          "text": [
            "\n"
          ]
        },
        {
          "output_type": "stream",
          "name": "stdout",
          "text": [
            "\n",
            "      Epoch    GPU_mem   box_loss   cls_loss   dfl_loss  Instances       Size\n"
          ]
        },
        {
          "output_type": "stream",
          "name": "stderr",
          "text": [
            "    157/200      1.06G     0.8936      1.152      1.124         16        416: 100%|██████████| 8/8 [00:01<00:00,  5.80it/s]\n",
            "                 Class     Images  Instances      Box(P          R      mAP50  mAP50-95): 100%|██████████| 4/4 [00:01<00:00,  3.20it/s]"
          ]
        },
        {
          "output_type": "stream",
          "name": "stdout",
          "text": [
            "                   all        122        122       0.74      0.832      0.891      0.658\n"
          ]
        },
        {
          "output_type": "stream",
          "name": "stderr",
          "text": [
            "\n"
          ]
        },
        {
          "output_type": "stream",
          "name": "stdout",
          "text": [
            "\n",
            "      Epoch    GPU_mem   box_loss   cls_loss   dfl_loss  Instances       Size\n"
          ]
        },
        {
          "output_type": "stream",
          "name": "stderr",
          "text": [
            "    158/200      1.06G     0.9443      1.166       1.16         26        416: 100%|██████████| 8/8 [00:02<00:00,  3.68it/s]\n",
            "                 Class     Images  Instances      Box(P          R      mAP50  mAP50-95): 100%|██████████| 4/4 [00:02<00:00,  1.83it/s]"
          ]
        },
        {
          "output_type": "stream",
          "name": "stdout",
          "text": [
            "                   all        122        122      0.793      0.859      0.923      0.689\n"
          ]
        },
        {
          "output_type": "stream",
          "name": "stderr",
          "text": [
            "\n"
          ]
        },
        {
          "output_type": "stream",
          "name": "stdout",
          "text": [
            "\n",
            "      Epoch    GPU_mem   box_loss   cls_loss   dfl_loss  Instances       Size\n"
          ]
        },
        {
          "output_type": "stream",
          "name": "stderr",
          "text": [
            "    159/200      1.06G     0.8946      1.148      1.157         27        416: 100%|██████████| 8/8 [00:02<00:00,  3.74it/s]\n",
            "                 Class     Images  Instances      Box(P          R      mAP50  mAP50-95): 100%|██████████| 4/4 [00:01<00:00,  3.62it/s]"
          ]
        },
        {
          "output_type": "stream",
          "name": "stdout",
          "text": [
            "                   all        122        122      0.614      0.947      0.852      0.675\n"
          ]
        },
        {
          "output_type": "stream",
          "name": "stderr",
          "text": [
            "\n"
          ]
        },
        {
          "output_type": "stream",
          "name": "stdout",
          "text": [
            "\n",
            "      Epoch    GPU_mem   box_loss   cls_loss   dfl_loss  Instances       Size\n"
          ]
        },
        {
          "output_type": "stream",
          "name": "stderr",
          "text": [
            "    160/200      1.06G     0.9412      1.148      1.158         22        416: 100%|██████████| 8/8 [00:01<00:00,  5.79it/s]\n",
            "                 Class     Images  Instances      Box(P          R      mAP50  mAP50-95): 100%|██████████| 4/4 [00:01<00:00,  3.45it/s]"
          ]
        },
        {
          "output_type": "stream",
          "name": "stdout",
          "text": [
            "                   all        122        122      0.584      0.932      0.825      0.626\n"
          ]
        },
        {
          "output_type": "stream",
          "name": "stderr",
          "text": [
            "\n"
          ]
        },
        {
          "output_type": "stream",
          "name": "stdout",
          "text": [
            "\n",
            "      Epoch    GPU_mem   box_loss   cls_loss   dfl_loss  Instances       Size\n"
          ]
        },
        {
          "output_type": "stream",
          "name": "stderr",
          "text": [
            "    161/200      1.06G     0.8986      1.151      1.138         22        416: 100%|██████████| 8/8 [00:01<00:00,  5.79it/s]\n",
            "                 Class     Images  Instances      Box(P          R      mAP50  mAP50-95): 100%|██████████| 4/4 [00:01<00:00,  3.56it/s]"
          ]
        },
        {
          "output_type": "stream",
          "name": "stdout",
          "text": [
            "                   all        122        122      0.765      0.889      0.888      0.673\n"
          ]
        },
        {
          "output_type": "stream",
          "name": "stderr",
          "text": [
            "\n"
          ]
        },
        {
          "output_type": "stream",
          "name": "stdout",
          "text": [
            "\n",
            "      Epoch    GPU_mem   box_loss   cls_loss   dfl_loss  Instances       Size\n"
          ]
        },
        {
          "output_type": "stream",
          "name": "stderr",
          "text": [
            "    162/200      1.06G     0.9133      1.213      1.144         17        416: 100%|██████████| 8/8 [00:01<00:00,  5.70it/s]\n",
            "                 Class     Images  Instances      Box(P          R      mAP50  mAP50-95): 100%|██████████| 4/4 [00:02<00:00,  1.95it/s]"
          ]
        },
        {
          "output_type": "stream",
          "name": "stdout",
          "text": [
            "                   all        122        122      0.825      0.906      0.949      0.754\n"
          ]
        },
        {
          "output_type": "stream",
          "name": "stderr",
          "text": [
            "\n"
          ]
        },
        {
          "output_type": "stream",
          "name": "stdout",
          "text": [
            "\n",
            "      Epoch    GPU_mem   box_loss   cls_loss   dfl_loss  Instances       Size\n"
          ]
        },
        {
          "output_type": "stream",
          "name": "stderr",
          "text": [
            "    163/200      1.06G     0.9113      1.109      1.156         21        416: 100%|██████████| 8/8 [00:02<00:00,  3.89it/s]\n",
            "                 Class     Images  Instances      Box(P          R      mAP50  mAP50-95): 100%|██████████| 4/4 [00:02<00:00,  1.99it/s]"
          ]
        },
        {
          "output_type": "stream",
          "name": "stdout",
          "text": [
            "                   all        122        122      0.788      0.909      0.934      0.749\n"
          ]
        },
        {
          "output_type": "stream",
          "name": "stderr",
          "text": [
            "\n"
          ]
        },
        {
          "output_type": "stream",
          "name": "stdout",
          "text": [
            "\n",
            "      Epoch    GPU_mem   box_loss   cls_loss   dfl_loss  Instances       Size\n"
          ]
        },
        {
          "output_type": "stream",
          "name": "stderr",
          "text": [
            "    164/200      1.06G     0.8733      1.087      1.134         25        416: 100%|██████████| 8/8 [00:01<00:00,  5.84it/s]\n",
            "                 Class     Images  Instances      Box(P          R      mAP50  mAP50-95): 100%|██████████| 4/4 [00:01<00:00,  3.43it/s]"
          ]
        },
        {
          "output_type": "stream",
          "name": "stdout",
          "text": [
            "                   all        122        122      0.818       0.88      0.929      0.742\n"
          ]
        },
        {
          "output_type": "stream",
          "name": "stderr",
          "text": [
            "\n"
          ]
        },
        {
          "output_type": "stream",
          "name": "stdout",
          "text": [
            "\n",
            "      Epoch    GPU_mem   box_loss   cls_loss   dfl_loss  Instances       Size\n"
          ]
        },
        {
          "output_type": "stream",
          "name": "stderr",
          "text": [
            "    165/200      1.06G      0.882      1.136      1.137         18        416: 100%|██████████| 8/8 [00:01<00:00,  5.84it/s]\n",
            "                 Class     Images  Instances      Box(P          R      mAP50  mAP50-95): 100%|██████████| 4/4 [00:01<00:00,  3.82it/s]"
          ]
        },
        {
          "output_type": "stream",
          "name": "stdout",
          "text": [
            "                   all        122        122      0.852      0.948      0.968       0.77\n"
          ]
        },
        {
          "output_type": "stream",
          "name": "stderr",
          "text": [
            "\n"
          ]
        },
        {
          "output_type": "stream",
          "name": "stdout",
          "text": [
            "\n",
            "      Epoch    GPU_mem   box_loss   cls_loss   dfl_loss  Instances       Size\n"
          ]
        },
        {
          "output_type": "stream",
          "name": "stderr",
          "text": [
            "    166/200      1.06G     0.8408      1.105      1.096         27        416: 100%|██████████| 8/8 [00:01<00:00,  6.05it/s]\n",
            "                 Class     Images  Instances      Box(P          R      mAP50  mAP50-95): 100%|██████████| 4/4 [00:01<00:00,  3.70it/s]"
          ]
        },
        {
          "output_type": "stream",
          "name": "stdout",
          "text": [
            "                   all        122        122      0.828      0.807      0.931      0.741\n"
          ]
        },
        {
          "output_type": "stream",
          "name": "stderr",
          "text": [
            "\n"
          ]
        },
        {
          "output_type": "stream",
          "name": "stdout",
          "text": [
            "\n",
            "      Epoch    GPU_mem   box_loss   cls_loss   dfl_loss  Instances       Size\n"
          ]
        },
        {
          "output_type": "stream",
          "name": "stderr",
          "text": [
            "    167/200      1.06G     0.9218      1.184      1.175         20        416: 100%|██████████| 8/8 [00:01<00:00,  4.05it/s]\n",
            "                 Class     Images  Instances      Box(P          R      mAP50  mAP50-95): 100%|██████████| 4/4 [00:01<00:00,  2.19it/s]"
          ]
        },
        {
          "output_type": "stream",
          "name": "stdout",
          "text": [
            "                   all        122        122      0.695       0.96      0.932      0.749\n"
          ]
        },
        {
          "output_type": "stream",
          "name": "stderr",
          "text": [
            "\n"
          ]
        },
        {
          "output_type": "stream",
          "name": "stdout",
          "text": [
            "\n",
            "      Epoch    GPU_mem   box_loss   cls_loss   dfl_loss  Instances       Size\n"
          ]
        },
        {
          "output_type": "stream",
          "name": "stderr",
          "text": [
            "    168/200      1.06G     0.8343       1.08      1.122         18        416: 100%|██████████| 8/8 [00:01<00:00,  4.01it/s]\n",
            "                 Class     Images  Instances      Box(P          R      mAP50  mAP50-95): 100%|██████████| 4/4 [00:01<00:00,  2.73it/s]"
          ]
        },
        {
          "output_type": "stream",
          "name": "stdout",
          "text": [
            "                   all        122        122      0.929      0.926      0.975      0.783\n"
          ]
        },
        {
          "output_type": "stream",
          "name": "stderr",
          "text": [
            "\n"
          ]
        },
        {
          "output_type": "stream",
          "name": "stdout",
          "text": [
            "\n",
            "      Epoch    GPU_mem   box_loss   cls_loss   dfl_loss  Instances       Size\n"
          ]
        },
        {
          "output_type": "stream",
          "name": "stderr",
          "text": [
            "    169/200      1.06G     0.8664      1.113      1.114         24        416: 100%|██████████| 8/8 [00:01<00:00,  5.92it/s]\n",
            "                 Class     Images  Instances      Box(P          R      mAP50  mAP50-95): 100%|██████████| 4/4 [00:01<00:00,  3.32it/s]"
          ]
        },
        {
          "output_type": "stream",
          "name": "stdout",
          "text": [
            "                   all        122        122       0.87      0.937      0.973      0.788\n"
          ]
        },
        {
          "output_type": "stream",
          "name": "stderr",
          "text": [
            "\n"
          ]
        },
        {
          "output_type": "stream",
          "name": "stdout",
          "text": [
            "\n",
            "      Epoch    GPU_mem   box_loss   cls_loss   dfl_loss  Instances       Size\n"
          ]
        },
        {
          "output_type": "stream",
          "name": "stderr",
          "text": [
            "    170/200      1.06G     0.7968      1.022      1.094         20        416: 100%|██████████| 8/8 [00:01<00:00,  5.54it/s]\n",
            "                 Class     Images  Instances      Box(P          R      mAP50  mAP50-95): 100%|██████████| 4/4 [00:01<00:00,  3.07it/s]"
          ]
        },
        {
          "output_type": "stream",
          "name": "stdout",
          "text": [
            "                   all        122        122      0.583      0.938      0.832      0.681\n"
          ]
        },
        {
          "output_type": "stream",
          "name": "stderr",
          "text": [
            "\n"
          ]
        },
        {
          "output_type": "stream",
          "name": "stdout",
          "text": [
            "\n",
            "      Epoch    GPU_mem   box_loss   cls_loss   dfl_loss  Instances       Size\n"
          ]
        },
        {
          "output_type": "stream",
          "name": "stderr",
          "text": [
            "    171/200      1.06G     0.8532       1.08      1.085         27        416: 100%|██████████| 8/8 [00:01<00:00,  5.92it/s]\n",
            "                 Class     Images  Instances      Box(P          R      mAP50  mAP50-95): 100%|██████████| 4/4 [00:01<00:00,  2.15it/s]"
          ]
        },
        {
          "output_type": "stream",
          "name": "stdout",
          "text": [
            "                   all        122        122      0.509      0.864      0.763      0.616\n"
          ]
        },
        {
          "output_type": "stream",
          "name": "stderr",
          "text": [
            "\n"
          ]
        },
        {
          "output_type": "stream",
          "name": "stdout",
          "text": [
            "\n",
            "      Epoch    GPU_mem   box_loss   cls_loss   dfl_loss  Instances       Size\n"
          ]
        },
        {
          "output_type": "stream",
          "name": "stderr",
          "text": [
            "    172/200      1.06G     0.9079      1.118      1.143         26        416: 100%|██████████| 8/8 [00:01<00:00,  4.01it/s]\n",
            "                 Class     Images  Instances      Box(P          R      mAP50  mAP50-95): 100%|██████████| 4/4 [00:02<00:00,  1.96it/s]"
          ]
        },
        {
          "output_type": "stream",
          "name": "stdout",
          "text": [
            "                   all        122        122      0.546      0.917      0.796      0.648\n"
          ]
        },
        {
          "output_type": "stream",
          "name": "stderr",
          "text": [
            "\n"
          ]
        },
        {
          "output_type": "stream",
          "name": "stdout",
          "text": [
            "\n",
            "      Epoch    GPU_mem   box_loss   cls_loss   dfl_loss  Instances       Size\n"
          ]
        },
        {
          "output_type": "stream",
          "name": "stderr",
          "text": [
            "    173/200      1.06G      0.887      1.065      1.136         22        416: 100%|██████████| 8/8 [00:01<00:00,  6.13it/s]\n",
            "                 Class     Images  Instances      Box(P          R      mAP50  mAP50-95): 100%|██████████| 4/4 [00:01<00:00,  3.38it/s]"
          ]
        },
        {
          "output_type": "stream",
          "name": "stdout",
          "text": [
            "                   all        122        122      0.665      0.942      0.905      0.738\n"
          ]
        },
        {
          "output_type": "stream",
          "name": "stderr",
          "text": [
            "\n"
          ]
        },
        {
          "output_type": "stream",
          "name": "stdout",
          "text": [
            "\n",
            "      Epoch    GPU_mem   box_loss   cls_loss   dfl_loss  Instances       Size\n"
          ]
        },
        {
          "output_type": "stream",
          "name": "stderr",
          "text": [
            "    174/200      1.06G     0.8312      1.059      1.115         16        416: 100%|██████████| 8/8 [00:01<00:00,  6.32it/s]\n",
            "                 Class     Images  Instances      Box(P          R      mAP50  mAP50-95): 100%|██████████| 4/4 [00:01<00:00,  3.42it/s]"
          ]
        },
        {
          "output_type": "stream",
          "name": "stdout",
          "text": [
            "                   all        122        122      0.841      0.932      0.967      0.794\n"
          ]
        },
        {
          "output_type": "stream",
          "name": "stderr",
          "text": [
            "\n"
          ]
        },
        {
          "output_type": "stream",
          "name": "stdout",
          "text": [
            "\n",
            "      Epoch    GPU_mem   box_loss   cls_loss   dfl_loss  Instances       Size\n"
          ]
        },
        {
          "output_type": "stream",
          "name": "stderr",
          "text": [
            "    175/200      1.06G     0.8115     0.9872      1.111         24        416: 100%|██████████| 8/8 [00:01<00:00,  5.80it/s]\n",
            "                 Class     Images  Instances      Box(P          R      mAP50  mAP50-95): 100%|██████████| 4/4 [00:01<00:00,  3.65it/s]"
          ]
        },
        {
          "output_type": "stream",
          "name": "stdout",
          "text": [
            "                   all        122        122      0.846      0.964      0.977      0.809\n"
          ]
        },
        {
          "output_type": "stream",
          "name": "stderr",
          "text": [
            "\n"
          ]
        },
        {
          "output_type": "stream",
          "name": "stdout",
          "text": [
            "\n",
            "      Epoch    GPU_mem   box_loss   cls_loss   dfl_loss  Instances       Size\n"
          ]
        },
        {
          "output_type": "stream",
          "name": "stderr",
          "text": [
            "    176/200      1.06G     0.8471       1.01      1.104         27        416: 100%|██████████| 8/8 [00:01<00:00,  4.12it/s]\n",
            "                 Class     Images  Instances      Box(P          R      mAP50  mAP50-95): 100%|██████████| 4/4 [00:02<00:00,  1.99it/s]"
          ]
        },
        {
          "output_type": "stream",
          "name": "stdout",
          "text": [
            "                   all        122        122      0.828      0.967      0.981      0.814\n"
          ]
        },
        {
          "output_type": "stream",
          "name": "stderr",
          "text": [
            "\n"
          ]
        },
        {
          "output_type": "stream",
          "name": "stdout",
          "text": [
            "\n",
            "      Epoch    GPU_mem   box_loss   cls_loss   dfl_loss  Instances       Size\n"
          ]
        },
        {
          "output_type": "stream",
          "name": "stderr",
          "text": [
            "    177/200      1.06G     0.9053      1.029      1.143         24        416: 100%|██████████| 8/8 [00:01<00:00,  4.03it/s]\n",
            "                 Class     Images  Instances      Box(P          R      mAP50  mAP50-95): 100%|██████████| 4/4 [00:01<00:00,  3.02it/s]"
          ]
        },
        {
          "output_type": "stream",
          "name": "stdout",
          "text": [
            "                   all        122        122      0.939      0.877      0.978      0.823\n"
          ]
        },
        {
          "output_type": "stream",
          "name": "stderr",
          "text": [
            "\n"
          ]
        },
        {
          "output_type": "stream",
          "name": "stdout",
          "text": [
            "\n",
            "      Epoch    GPU_mem   box_loss   cls_loss   dfl_loss  Instances       Size\n"
          ]
        },
        {
          "output_type": "stream",
          "name": "stderr",
          "text": [
            "    178/200      1.06G     0.8468      1.095      1.144         24        416: 100%|██████████| 8/8 [00:01<00:00,  5.95it/s]\n",
            "                 Class     Images  Instances      Box(P          R      mAP50  mAP50-95): 100%|██████████| 4/4 [00:01<00:00,  3.47it/s]"
          ]
        },
        {
          "output_type": "stream",
          "name": "stdout",
          "text": [
            "                   all        122        122      0.914      0.895      0.965      0.815\n"
          ]
        },
        {
          "output_type": "stream",
          "name": "stderr",
          "text": [
            "\n"
          ]
        },
        {
          "output_type": "stream",
          "name": "stdout",
          "text": [
            "\n",
            "      Epoch    GPU_mem   box_loss   cls_loss   dfl_loss  Instances       Size\n"
          ]
        },
        {
          "output_type": "stream",
          "name": "stderr",
          "text": [
            "    179/200      1.06G     0.8736      1.059      1.134         26        416: 100%|██████████| 8/8 [00:01<00:00,  5.93it/s]\n",
            "                 Class     Images  Instances      Box(P          R      mAP50  mAP50-95): 100%|██████████| 4/4 [00:01<00:00,  3.27it/s]"
          ]
        },
        {
          "output_type": "stream",
          "name": "stdout",
          "text": [
            "                   all        122        122      0.931      0.887      0.973      0.817\n"
          ]
        },
        {
          "output_type": "stream",
          "name": "stderr",
          "text": [
            "\n"
          ]
        },
        {
          "output_type": "stream",
          "name": "stdout",
          "text": [
            "\n",
            "      Epoch    GPU_mem   box_loss   cls_loss   dfl_loss  Instances       Size\n"
          ]
        },
        {
          "output_type": "stream",
          "name": "stderr",
          "text": [
            "    180/200      1.06G     0.7987      1.014      1.097         23        416: 100%|██████████| 8/8 [00:01<00:00,  6.00it/s]\n",
            "                 Class     Images  Instances      Box(P          R      mAP50  mAP50-95): 100%|██████████| 4/4 [00:01<00:00,  2.12it/s]"
          ]
        },
        {
          "output_type": "stream",
          "name": "stdout",
          "text": [
            "                   all        122        122      0.939      0.925      0.988      0.828\n"
          ]
        },
        {
          "output_type": "stream",
          "name": "stderr",
          "text": [
            "\n"
          ]
        },
        {
          "output_type": "stream",
          "name": "stdout",
          "text": [
            "\n",
            "      Epoch    GPU_mem   box_loss   cls_loss   dfl_loss  Instances       Size\n"
          ]
        },
        {
          "output_type": "stream",
          "name": "stderr",
          "text": [
            "    181/200      1.06G     0.8261      1.031      1.101         21        416: 100%|██████████| 8/8 [00:01<00:00,  4.07it/s]\n",
            "                 Class     Images  Instances      Box(P          R      mAP50  mAP50-95): 100%|██████████| 4/4 [00:01<00:00,  2.02it/s]"
          ]
        },
        {
          "output_type": "stream",
          "name": "stdout",
          "text": [
            "                   all        122        122      0.964      0.929      0.988      0.833\n"
          ]
        },
        {
          "output_type": "stream",
          "name": "stderr",
          "text": [
            "\n"
          ]
        },
        {
          "output_type": "stream",
          "name": "stdout",
          "text": [
            "\n",
            "      Epoch    GPU_mem   box_loss   cls_loss   dfl_loss  Instances       Size\n"
          ]
        },
        {
          "output_type": "stream",
          "name": "stderr",
          "text": [
            "    182/200      1.06G     0.8128      1.009      1.103         29        416: 100%|██████████| 8/8 [00:01<00:00,  4.12it/s]\n",
            "                 Class     Images  Instances      Box(P          R      mAP50  mAP50-95): 100%|██████████| 4/4 [00:02<00:00,  2.00it/s]"
          ]
        },
        {
          "output_type": "stream",
          "name": "stdout",
          "text": [
            "                   all        122        122      0.963      0.942      0.989      0.834\n"
          ]
        },
        {
          "output_type": "stream",
          "name": "stderr",
          "text": [
            "\n"
          ]
        },
        {
          "output_type": "stream",
          "name": "stdout",
          "text": [
            "\n",
            "      Epoch    GPU_mem   box_loss   cls_loss   dfl_loss  Instances       Size\n"
          ]
        },
        {
          "output_type": "stream",
          "name": "stderr",
          "text": [
            "    183/200      1.06G     0.8007      1.027      1.097         20        416: 100%|██████████| 8/8 [00:02<00:00,  3.64it/s]\n",
            "                 Class     Images  Instances      Box(P          R      mAP50  mAP50-95): 100%|██████████| 4/4 [00:01<00:00,  3.11it/s]"
          ]
        },
        {
          "output_type": "stream",
          "name": "stdout",
          "text": [
            "                   all        122        122      0.975      0.944      0.989      0.823\n"
          ]
        },
        {
          "output_type": "stream",
          "name": "stderr",
          "text": [
            "\n"
          ]
        },
        {
          "output_type": "stream",
          "name": "stdout",
          "text": [
            "\n",
            "      Epoch    GPU_mem   box_loss   cls_loss   dfl_loss  Instances       Size\n"
          ]
        },
        {
          "output_type": "stream",
          "name": "stderr",
          "text": [
            "    184/200      1.06G     0.8173      1.074      1.127         21        416: 100%|██████████| 8/8 [00:02<00:00,  3.70it/s]\n",
            "                 Class     Images  Instances      Box(P          R      mAP50  mAP50-95): 100%|██████████| 4/4 [00:01<00:00,  2.08it/s]"
          ]
        },
        {
          "output_type": "stream",
          "name": "stdout",
          "text": [
            "                   all        122        122      0.969      0.953       0.99      0.827\n"
          ]
        },
        {
          "output_type": "stream",
          "name": "stderr",
          "text": [
            "\n"
          ]
        },
        {
          "output_type": "stream",
          "name": "stdout",
          "text": [
            "\n",
            "      Epoch    GPU_mem   box_loss   cls_loss   dfl_loss  Instances       Size\n"
          ]
        },
        {
          "output_type": "stream",
          "name": "stderr",
          "text": [
            "    185/200      1.06G     0.8731      1.101      1.144         17        416: 100%|██████████| 8/8 [00:02<00:00,  4.00it/s]\n",
            "                 Class     Images  Instances      Box(P          R      mAP50  mAP50-95): 100%|██████████| 4/4 [00:01<00:00,  3.25it/s]"
          ]
        },
        {
          "output_type": "stream",
          "name": "stdout",
          "text": [
            "                   all        122        122      0.953      0.957      0.987      0.827\n"
          ]
        },
        {
          "output_type": "stream",
          "name": "stderr",
          "text": [
            "\n"
          ]
        },
        {
          "output_type": "stream",
          "name": "stdout",
          "text": [
            "\n",
            "      Epoch    GPU_mem   box_loss   cls_loss   dfl_loss  Instances       Size\n"
          ]
        },
        {
          "output_type": "stream",
          "name": "stderr",
          "text": [
            "    186/200      1.06G     0.8346     0.9948      1.124         25        416: 100%|██████████| 8/8 [00:01<00:00,  6.05it/s]\n",
            "                 Class     Images  Instances      Box(P          R      mAP50  mAP50-95): 100%|██████████| 4/4 [00:01<00:00,  3.43it/s]"
          ]
        },
        {
          "output_type": "stream",
          "name": "stdout",
          "text": [
            "                   all        122        122      0.946      0.936      0.982      0.825\n"
          ]
        },
        {
          "output_type": "stream",
          "name": "stderr",
          "text": [
            "\n"
          ]
        },
        {
          "output_type": "stream",
          "name": "stdout",
          "text": [
            "\n",
            "      Epoch    GPU_mem   box_loss   cls_loss   dfl_loss  Instances       Size\n"
          ]
        },
        {
          "output_type": "stream",
          "name": "stderr",
          "text": [
            "    187/200      1.06G     0.8494     0.9999      1.111         23        416: 100%|██████████| 8/8 [00:01<00:00,  5.99it/s]\n",
            "                 Class     Images  Instances      Box(P          R      mAP50  mAP50-95): 100%|██████████| 4/4 [00:01<00:00,  3.45it/s]"
          ]
        },
        {
          "output_type": "stream",
          "name": "stdout",
          "text": [
            "                   all        122        122       0.95       0.93      0.984      0.822\n"
          ]
        },
        {
          "output_type": "stream",
          "name": "stderr",
          "text": [
            "\n"
          ]
        },
        {
          "output_type": "stream",
          "name": "stdout",
          "text": [
            "\n",
            "      Epoch    GPU_mem   box_loss   cls_loss   dfl_loss  Instances       Size\n"
          ]
        },
        {
          "output_type": "stream",
          "name": "stderr",
          "text": [
            "    188/200      1.06G     0.8314      1.044      1.092         26        416: 100%|██████████| 8/8 [00:01<00:00,  5.92it/s]\n",
            "                 Class     Images  Instances      Box(P          R      mAP50  mAP50-95): 100%|██████████| 4/4 [00:02<00:00,  1.93it/s]"
          ]
        },
        {
          "output_type": "stream",
          "name": "stdout",
          "text": [
            "                   all        122        122      0.964      0.948      0.986      0.823\n"
          ]
        },
        {
          "output_type": "stream",
          "name": "stderr",
          "text": [
            "\n"
          ]
        },
        {
          "output_type": "stream",
          "name": "stdout",
          "text": [
            "\n",
            "      Epoch    GPU_mem   box_loss   cls_loss   dfl_loss  Instances       Size\n"
          ]
        },
        {
          "output_type": "stream",
          "name": "stderr",
          "text": [
            "    189/200      1.06G     0.7898      1.004      1.103         22        416: 100%|██████████| 8/8 [00:02<00:00,  3.84it/s]\n",
            "                 Class     Images  Instances      Box(P          R      mAP50  mAP50-95): 100%|██████████| 4/4 [00:01<00:00,  2.18it/s]"
          ]
        },
        {
          "output_type": "stream",
          "name": "stdout",
          "text": [
            "                   all        122        122       0.95      0.941      0.987      0.835\n"
          ]
        },
        {
          "output_type": "stream",
          "name": "stderr",
          "text": [
            "\n"
          ]
        },
        {
          "output_type": "stream",
          "name": "stdout",
          "text": [
            "\n",
            "      Epoch    GPU_mem   box_loss   cls_loss   dfl_loss  Instances       Size\n"
          ]
        },
        {
          "output_type": "stream",
          "name": "stderr",
          "text": [
            "    190/200      1.06G     0.7506     0.9434      1.074         18        416: 100%|██████████| 8/8 [00:01<00:00,  5.75it/s]\n",
            "                 Class     Images  Instances      Box(P          R      mAP50  mAP50-95): 100%|██████████| 4/4 [00:01<00:00,  3.25it/s]"
          ]
        },
        {
          "output_type": "stream",
          "name": "stdout",
          "text": [
            "                   all        122        122      0.939       0.94      0.987      0.841\n"
          ]
        },
        {
          "output_type": "stream",
          "name": "stderr",
          "text": [
            "\n"
          ]
        },
        {
          "output_type": "stream",
          "name": "stdout",
          "text": [
            "Closing dataloader mosaic\n",
            "\u001b[34m\u001b[1malbumentations: \u001b[0mBlur(p=0.01, blur_limit=(3, 7)), MedianBlur(p=0.01, blur_limit=(3, 7)), ToGray(p=0.01), CLAHE(p=0.01, clip_limit=(1, 4.0), tile_grid_size=(8, 8))\n",
            "\n",
            "      Epoch    GPU_mem   box_loss   cls_loss   dfl_loss  Instances       Size\n"
          ]
        },
        {
          "output_type": "stream",
          "name": "stderr",
          "text": [
            "    191/200      1.19G     0.7496      1.021      1.098         10        416: 100%|██████████| 8/8 [00:03<00:00,  2.60it/s]\n",
            "                 Class     Images  Instances      Box(P          R      mAP50  mAP50-95): 100%|██████████| 4/4 [00:01<00:00,  2.95it/s]"
          ]
        },
        {
          "output_type": "stream",
          "name": "stdout",
          "text": [
            "                   all        122        122      0.926      0.938      0.986      0.826\n"
          ]
        },
        {
          "output_type": "stream",
          "name": "stderr",
          "text": [
            "\n"
          ]
        },
        {
          "output_type": "stream",
          "name": "stdout",
          "text": [
            "\n",
            "      Epoch    GPU_mem   box_loss   cls_loss   dfl_loss  Instances       Size\n"
          ]
        },
        {
          "output_type": "stream",
          "name": "stderr",
          "text": [
            "    192/200      1.06G     0.7403     0.9508      1.089         10        416: 100%|██████████| 8/8 [00:01<00:00,  4.46it/s]\n",
            "                 Class     Images  Instances      Box(P          R      mAP50  mAP50-95): 100%|██████████| 4/4 [00:01<00:00,  2.02it/s]"
          ]
        },
        {
          "output_type": "stream",
          "name": "stdout",
          "text": [
            "                   all        122        122      0.908      0.938      0.981      0.815\n"
          ]
        },
        {
          "output_type": "stream",
          "name": "stderr",
          "text": [
            "\n"
          ]
        },
        {
          "output_type": "stream",
          "name": "stdout",
          "text": [
            "\n",
            "      Epoch    GPU_mem   box_loss   cls_loss   dfl_loss  Instances       Size\n"
          ]
        },
        {
          "output_type": "stream",
          "name": "stderr",
          "text": [
            "    193/200      1.06G      0.731     0.8854      1.106         10        416: 100%|██████████| 8/8 [00:02<00:00,  3.77it/s]\n",
            "                 Class     Images  Instances      Box(P          R      mAP50  mAP50-95): 100%|██████████| 4/4 [00:01<00:00,  2.73it/s]"
          ]
        },
        {
          "output_type": "stream",
          "name": "stdout",
          "text": [
            "                   all        122        122       0.88      0.924      0.971      0.799\n"
          ]
        },
        {
          "output_type": "stream",
          "name": "stderr",
          "text": [
            "\n"
          ]
        },
        {
          "output_type": "stream",
          "name": "stdout",
          "text": [
            "\n",
            "      Epoch    GPU_mem   box_loss   cls_loss   dfl_loss  Instances       Size\n"
          ]
        },
        {
          "output_type": "stream",
          "name": "stderr",
          "text": [
            "    194/200      1.06G      0.682     0.8566      1.047         10        416: 100%|██████████| 8/8 [00:01<00:00,  5.98it/s]\n",
            "                 Class     Images  Instances      Box(P          R      mAP50  mAP50-95): 100%|██████████| 4/4 [00:01<00:00,  3.18it/s]"
          ]
        },
        {
          "output_type": "stream",
          "name": "stdout",
          "text": [
            "                   all        122        122      0.857      0.892       0.96      0.785\n"
          ]
        },
        {
          "output_type": "stream",
          "name": "stderr",
          "text": [
            "\n"
          ]
        },
        {
          "output_type": "stream",
          "name": "stdout",
          "text": [
            "\n",
            "      Epoch    GPU_mem   box_loss   cls_loss   dfl_loss  Instances       Size\n"
          ]
        },
        {
          "output_type": "stream",
          "name": "stderr",
          "text": [
            "    195/200      1.06G     0.7404     0.8794      1.078         10        416: 100%|██████████| 8/8 [00:01<00:00,  6.03it/s]\n",
            "                 Class     Images  Instances      Box(P          R      mAP50  mAP50-95): 100%|██████████| 4/4 [00:01<00:00,  3.44it/s]"
          ]
        },
        {
          "output_type": "stream",
          "name": "stdout",
          "text": [
            "                   all        122        122      0.834      0.927       0.97      0.802\n"
          ]
        },
        {
          "output_type": "stream",
          "name": "stderr",
          "text": [
            "\n"
          ]
        },
        {
          "output_type": "stream",
          "name": "stdout",
          "text": [
            "\n",
            "      Epoch    GPU_mem   box_loss   cls_loss   dfl_loss  Instances       Size\n"
          ]
        },
        {
          "output_type": "stream",
          "name": "stderr",
          "text": [
            "    196/200      1.06G     0.7063     0.8994       1.06         10        416: 100%|██████████| 8/8 [00:01<00:00,  6.29it/s]\n",
            "                 Class     Images  Instances      Box(P          R      mAP50  mAP50-95): 100%|██████████| 4/4 [00:01<00:00,  3.32it/s]"
          ]
        },
        {
          "output_type": "stream",
          "name": "stdout",
          "text": [
            "                   all        122        122      0.841      0.983      0.979      0.812\n"
          ]
        },
        {
          "output_type": "stream",
          "name": "stderr",
          "text": [
            "\n"
          ]
        },
        {
          "output_type": "stream",
          "name": "stdout",
          "text": [
            "\n",
            "      Epoch    GPU_mem   box_loss   cls_loss   dfl_loss  Instances       Size\n"
          ]
        },
        {
          "output_type": "stream",
          "name": "stderr",
          "text": [
            "    197/200      1.06G     0.6749     0.8474      1.081         10        416: 100%|██████████| 8/8 [00:01<00:00,  4.10it/s]\n",
            "                 Class     Images  Instances      Box(P          R      mAP50  mAP50-95): 100%|██████████| 4/4 [00:02<00:00,  1.88it/s]"
          ]
        },
        {
          "output_type": "stream",
          "name": "stdout",
          "text": [
            "                   all        122        122      0.876      0.981      0.986      0.824\n"
          ]
        },
        {
          "output_type": "stream",
          "name": "stderr",
          "text": [
            "\n"
          ]
        },
        {
          "output_type": "stream",
          "name": "stdout",
          "text": [
            "\n",
            "      Epoch    GPU_mem   box_loss   cls_loss   dfl_loss  Instances       Size\n"
          ]
        },
        {
          "output_type": "stream",
          "name": "stderr",
          "text": [
            "    198/200      1.06G     0.7057     0.7771      1.054         10        416: 100%|██████████| 8/8 [00:01<00:00,  5.71it/s]\n",
            "                 Class     Images  Instances      Box(P          R      mAP50  mAP50-95): 100%|██████████| 4/4 [00:01<00:00,  3.10it/s]"
          ]
        },
        {
          "output_type": "stream",
          "name": "stdout",
          "text": [
            "                   all        122        122      0.911      0.965       0.99      0.837\n"
          ]
        },
        {
          "output_type": "stream",
          "name": "stderr",
          "text": [
            "\n"
          ]
        },
        {
          "output_type": "stream",
          "name": "stdout",
          "text": [
            "\n",
            "      Epoch    GPU_mem   box_loss   cls_loss   dfl_loss  Instances       Size\n"
          ]
        },
        {
          "output_type": "stream",
          "name": "stderr",
          "text": [
            "    199/200      1.06G     0.6941     0.8284      1.051         10        416: 100%|██████████| 8/8 [00:01<00:00,  6.11it/s]\n",
            "                 Class     Images  Instances      Box(P          R      mAP50  mAP50-95): 100%|██████████| 4/4 [00:01<00:00,  3.05it/s]"
          ]
        },
        {
          "output_type": "stream",
          "name": "stdout",
          "text": [
            "                   all        122        122      0.927      0.956       0.99       0.84\n"
          ]
        },
        {
          "output_type": "stream",
          "name": "stderr",
          "text": [
            "\n"
          ]
        },
        {
          "output_type": "stream",
          "name": "stdout",
          "text": [
            "\n",
            "      Epoch    GPU_mem   box_loss   cls_loss   dfl_loss  Instances       Size\n"
          ]
        },
        {
          "output_type": "stream",
          "name": "stderr",
          "text": [
            "    200/200      1.06G      0.721     0.8528      1.093         10        416: 100%|██████████| 8/8 [00:01<00:00,  6.66it/s]\n",
            "                 Class     Images  Instances      Box(P          R      mAP50  mAP50-95): 100%|██████████| 4/4 [00:01<00:00,  3.28it/s]"
          ]
        },
        {
          "output_type": "stream",
          "name": "stdout",
          "text": [
            "                   all        122        122      0.915      0.962       0.99      0.839\n"
          ]
        },
        {
          "output_type": "stream",
          "name": "stderr",
          "text": [
            "\n"
          ]
        },
        {
          "output_type": "stream",
          "name": "stdout",
          "text": [
            "\n",
            "200 epochs completed in 0.212 hours.\n",
            "Optimizer stripped from runs/detect/train2/weights/last.pt, 6.2MB\n",
            "Optimizer stripped from runs/detect/train2/weights/best.pt, 6.2MB\n",
            "\n",
            "Validating runs/detect/train2/weights/best.pt...\n",
            "Ultralytics YOLOv8.0.232 🚀 Python-3.10.12 torch-2.1.0+cu121 CUDA:0 (Tesla T4, 15102MiB)\n",
            "Model summary (fused): 168 layers, 3006428 parameters, 0 gradients, 8.1 GFLOPs\n"
          ]
        },
        {
          "output_type": "stream",
          "name": "stderr",
          "text": [
            "                 Class     Images  Instances      Box(P          R      mAP50  mAP50-95): 100%|██████████| 4/4 [00:04<00:00,  1.18s/it]\n"
          ]
        },
        {
          "output_type": "stream",
          "name": "stdout",
          "text": [
            "                   all        122        122      0.957      0.918      0.987      0.841\n",
            "                stage0        122         30          1      0.977      0.995      0.883\n",
            "                stage1        122         39      0.911          1      0.993      0.839\n",
            "                stage2        122         26          1      0.808      0.979      0.833\n",
            "                stage3        122         27      0.916      0.889       0.98      0.807\n",
            "Speed: 0.2ms preprocess, 4.3ms inference, 0.0ms loss, 6.1ms postprocess per image\n",
            "Results saved to \u001b[1mruns/detect/train2\u001b[0m\n"
          ]
        }
      ],
      "source": [
        "from ultralytics import YOLO\n",
        "model = YOLO(\"yolov8n.pt\")\n",
        "\n",
        "results = model.train(data=\"/content/drive/MyDrive/knee/yolov5/data.yaml\", epochs=200, imgsz=416)"
      ]
    },
    {
      "cell_type": "code",
      "execution_count": null,
      "metadata": {
        "id": "P8OY2qy6nCns"
      },
      "outputs": [],
      "source": [
        "p3 = 95.7\n",
        "r3 = 91.8\n",
        "mAP503 = 98"
      ]
    },
    {
      "cell_type": "markdown",
      "metadata": {
        "id": "KWUKQmwMnSmz"
      },
      "source": [
        "**Comparison**"
      ]
    },
    {
      "cell_type": "code",
      "execution_count": null,
      "metadata": {
        "id": "agbJ7mJUnSJW"
      },
      "outputs": [],
      "source": [
        "score = [mAP50,mAP501,mAP502,mAP503]\n",
        "score1 = [p,p1,p2,p3]\n",
        "score2 = [r,r1,r2,r3]"
      ]
    },
    {
      "cell_type": "code",
      "execution_count": null,
      "metadata": {
        "id": "N1b0LAeSnjfk"
      },
      "outputs": [],
      "source": [
        "import numpy as np\n",
        "\n",
        "classifier = ('YoloV5','YoloV6','YoloV7','YoloV8')\n",
        "y_pos = np.arange(len(classifier))"
      ]
    },
    {
      "cell_type": "code",
      "execution_count": null,
      "metadata": {
        "colab": {
          "base_uri": "https://localhost:8080/",
          "height": 472
        },
        "id": "b4i3ugpSnlDM",
        "outputId": "2f4b1d57-9414-4a32-c7d8-416f2eb20a86"
      },
      "outputs": [
        {
          "output_type": "display_data",
          "data": {
            "text/plain": [
              "<Figure size 640x480 with 1 Axes>"
            ],
            "image/png": "[encoded data removed]"
          },
          "metadata": {}
        }
      ],
      "source": [
        "import matplotlib.pyplot as plt2\n",
        "plt2.barh(y_pos, score, align='center', alpha=0.5,color='red')\n",
        "plt2.yticks(y_pos, classifier)\n",
        "plt2.xlabel('mAP50')\n",
        "plt2.title('Classification Performance')\n",
        "plt2.show()"
      ]
    },
    {
      "cell_type": "code",
      "execution_count": null,
      "metadata": {
        "colab": {
          "base_uri": "https://localhost:8080/",
          "height": 472
        },
        "id": "SopK3NKRnpP6",
        "outputId": "d1d3af6d-b414-49f2-ed17-a0156cc39f0d"
      },
      "outputs": [
        {
          "output_type": "display_data",
          "data": {
            "text/plain": [
              "<Figure size 640x480 with 1 Axes>"
            ],
            "image/png": "[encoded data removed]"
          },
          "metadata": {}
        }
      ],
      "source": [
        "import matplotlib.pyplot as plt2\n",
        "plt2.barh(y_pos, score1, align='center', alpha=0.5,color='green')\n",
        "plt2.yticks(y_pos, classifier)\n",
        "plt2.xlabel('Precision Score')\n",
        "plt2.title('Classification Performance')\n",
        "plt2.show()"
      ]
    },
    {
      "cell_type": "code",
      "execution_count": null,
      "metadata": {
        "colab": {
          "base_uri": "https://localhost:8080/",
          "height": 472
        },
        "id": "0ljVY1nNnwgE",
        "outputId": "571f2f1e-bd3c-4372-b112-0874f76b3044"
      },
      "outputs": [
        {
          "output_type": "display_data",
          "data": {
            "text/plain": [
              "<Figure size 640x480 with 1 Axes>"
            ],
            "image/png": "[encoded data removed]"
          },
          "metadata": {}
        }
      ],
      "source": [
        "plt2.barh(y_pos, score2, align='center', alpha=0.5,color='violet')\n",
        "plt2.yticks(y_pos, classifier)\n",
        "plt2.xlabel('Recall Score')\n",
        "plt2.title('Classification Performance')\n",
        "plt2.show()"
      ]
    },
    {
      "cell_type": "code",
      "source": [],
      "metadata": {
        "id": "vMxND_CS4Tg2"
      },
      "execution_count": null,
      "outputs": []
    }
  ],
  "metadata": {
    "accelerator": "GPU",
    "colab": {
      "gpuType": "T4",
      "provenance": []
    },
    "kernelspec": {
      "display_name": "Python 3",
      "language": "python",
      "name": "python3"
    },
    "language_info": {
      "codemirror_mode": {
        "name": "ipython",
        "version": 3
      },
      "file_extension": ".py",
      "mimetype": "text/x-python",
      "name": "python",
      "nbconvert_exporter": "python",
      "pygments_lexer": "ipython3",
      "version": "3.7.4"
    },
    "papermill": {
      "duration": 1956.501745,
      "end_time": "2020-11-25T07:34:03.687920",
      "environment_variables": {},
      "exception": null,
      "input_path": "__notebook__.ipynb",
      "output_path": "__notebook__.ipynb",
      "parameters": {},
      "start_time": "2020-11-25T07:01:27.186175",
      "version": "2.1.0"
    }
  },
  "nbformat": 4,
  "nbformat_minor": 0
}